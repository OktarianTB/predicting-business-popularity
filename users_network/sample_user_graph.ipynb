{
 "cells": [
  {
   "cell_type": "code",
   "execution_count": 1,
   "metadata": {},
   "outputs": [],
   "source": [
    "import pandas as pd\n",
    "import networkx as nx"
   ]
  },
  {
   "cell_type": "code",
   "execution_count": 2,
   "metadata": {},
   "outputs": [],
   "source": [
    "user_graph = nx.read_gpickle(\"../graphs/user_network.gpickle\")\n",
    "with pd.read_json(\"../yelp/yelp_academic_dataset_review.json\", \n",
    "    orient=\"records\", lines=True, chunksize=100) as reader:\n",
    "    reviews_df = pd.concat([df for df in reader])\n",
    "tips_df = pd.read_json(\"../yelp/yelp_academic_dataset_tip.json\", lines=True)\n",
    "df_2018 = pd.read_csv(\"../datasets/2017-2018_restaurants.csv\")\n",
    "\n",
    "reviews_df = reviews_df[reviews_df[\"business_id\"].isin(df_2018[\"business_id\"])]\n",
    "tips_df = tips_df[tips_df[\"business_id\"].isin(df_2018[\"business_id\"])]\n",
    "\n",
    "tips_df.drop(columns=\"compliment_count\", inplace=True)\n",
    "reviews_df.drop(columns=[\"useful\", \"funny\", \"cool\"], inplace=True)\n",
    "\n",
    "complete_df = pd.concat([reviews_df, tips_df])\n",
    "complete_df = reviews_df"
   ]
  },
  {
   "cell_type": "code",
   "execution_count": 3,
   "metadata": {},
   "outputs": [],
   "source": [
    "import datetime\n",
    "ranged_df = complete_df[(complete_df[\"date\"] >= datetime.datetime(2017, 1, 1, 0, 0)) & (complete_df[\"date\"] <= datetime.datetime(2018, 12, 31, 23, 59))]\n",
    "\n",
    "all_bid = ranged_df[\"business_id\"].unique()"
   ]
  },
  {
   "cell_type": "code",
   "execution_count": 4,
   "metadata": {},
   "outputs": [],
   "source": [
    "# ranged_df = ranged_df[ranged_df[\"stars\"] >= 3.5]"
   ]
  },
  {
   "cell_type": "code",
   "execution_count": 5,
   "metadata": {},
   "outputs": [
    {
     "name": "stderr",
     "output_type": "stream",
     "text": [
      "<ipython-input-5-30b11d4a087d>:1: SettingWithCopyWarning: \n",
      "A value is trying to be set on a copy of a slice from a DataFrame\n",
      "\n",
      "See the caveats in the documentation: https://pandas.pydata.org/pandas-docs/stable/user_guide/indexing.html#returning-a-view-versus-a-copy\n",
      "  ranged_df.sort_values(by=['date'], inplace=True, ascending=True)\n"
     ]
    }
   ],
   "source": [
    "ranged_df.sort_values(by=['date'], inplace=True, ascending=True)"
   ]
  },
  {
   "cell_type": "code",
   "execution_count": 6,
   "metadata": {},
   "outputs": [],
   "source": [
    "user_per_business = ranged_df.groupby(\"business_id\").agg(user_ids=(\"user_id\", lambda x: x.tolist()))"
   ]
  },
  {
   "cell_type": "code",
   "execution_count": 7,
   "metadata": {},
   "outputs": [
    {
     "data": {
      "text/html": "<div>\n<style scoped>\n    .dataframe tbody tr th:only-of-type {\n        vertical-align: middle;\n    }\n\n    .dataframe tbody tr th {\n        vertical-align: top;\n    }\n\n    .dataframe thead th {\n        text-align: right;\n    }\n</style>\n<table border=\"1\" class=\"dataframe\">\n  <thead>\n    <tr style=\"text-align: right;\">\n      <th></th>\n      <th>user_ids</th>\n    </tr>\n    <tr>\n      <th>business_id</th>\n      <th></th>\n    </tr>\n  </thead>\n  <tbody>\n    <tr>\n      <th>--6COJIAjkQwSUZci_4PJQ</th>\n      <td>[kkSI0sYOzMXBzofb17U8Qw, -soIC2_WlclBZ874xNIgi...</td>\n    </tr>\n    <tr>\n      <th>--UNNdnHRhsyFUbDgumdtQ</th>\n      <td>[386nVS_BRsZBG5k3tO1LeQ, xUzwq8LPlNLFHwSg6b2Uj...</td>\n    </tr>\n    <tr>\n      <th>--bbZa1KPYSmW0X4o3TUQw</th>\n      <td>[tBRlSyCXalfAxLH2j92Ftw, -9cnvXL_8dmt7XkdSVGay...</td>\n    </tr>\n  </tbody>\n</table>\n</div>",
      "text/plain": "                                                                 user_ids\nbusiness_id                                                              \n--6COJIAjkQwSUZci_4PJQ  [kkSI0sYOzMXBzofb17U8Qw, -soIC2_WlclBZ874xNIgi...\n--UNNdnHRhsyFUbDgumdtQ  [386nVS_BRsZBG5k3tO1LeQ, xUzwq8LPlNLFHwSg6b2Uj...\n--bbZa1KPYSmW0X4o3TUQw  [tBRlSyCXalfAxLH2j92Ftw, -9cnvXL_8dmt7XkdSVGay..."
     },
     "execution_count": 7,
     "metadata": {},
     "output_type": "execute_result"
    }
   ],
   "source": [
    "user_per_business.head(3)"
   ]
  },
  {
   "cell_type": "code",
   "execution_count": 8,
   "metadata": {},
   "outputs": [],
   "source": [
    "for bid in all_bid:\n",
    "    if bid not in user_per_business.index:\n",
    "        user_per_business.loc[bid] = [[]]"
   ]
  },
  {
   "cell_type": "code",
   "execution_count": 9,
   "metadata": {},
   "outputs": [],
   "source": [
    "user_per_business.to_csv(\"../datasets/2017-2018_visited_users.csv\")"
   ]
  },
  {
   "cell_type": "code",
   "execution_count": 10,
   "metadata": {},
   "outputs": [],
   "source": [
    "from itertools import chain\n",
    "all_users = list(set(chain(*user_per_business[\"user_ids\"].tolist())))"
   ]
  },
  {
   "cell_type": "code",
   "execution_count": 11,
   "metadata": {},
   "outputs": [
    {
     "data": {
      "text/plain": "(559439, 1448583)"
     },
     "execution_count": 11,
     "metadata": {},
     "output_type": "execute_result"
    }
   ],
   "source": [
    "subgraph_2017 = user_graph.subgraph(all_users).copy()\n",
    "\n",
    "len(subgraph_2017.nodes), len(subgraph_2017.edges)"
   ]
  },
  {
   "cell_type": "code",
   "execution_count": 12,
   "metadata": {},
   "outputs": [],
   "source": [
    "nx.write_gpickle(subgraph_2017, \"../graphs/2017-2018_user_network.gpickle\")"
   ]
  },
  {
   "cell_type": "markdown",
   "metadata": {},
   "source": [
    "## Analysis"
   ]
  },
  {
   "cell_type": "code",
   "execution_count": 13,
   "metadata": {},
   "outputs": [
    {
     "data": {
      "text/plain": "'average degree: 5.1786986606225165'"
     },
     "execution_count": 13,
     "metadata": {},
     "output_type": "execute_result"
    }
   ],
   "source": [
    "f\"average degree: {len(subgraph_2017.edges) * 2 / len(subgraph_2017.nodes)}\""
   ]
  },
  {
   "cell_type": "code",
   "execution_count": 14,
   "metadata": {},
   "outputs": [],
   "source": [
    "nx.average_clustering(subgraph_2017)"
   ]
  },
  {
   "cell_type": "code",
   "execution_count": null,
   "metadata": {},
   "outputs": [
    {
     "data": {
      "image/png": "[encoded data removed]",
      "text/plain": "<Figure size 432x288 with 1 Axes>"
     },
     "metadata": {
      "needs_background": "light"
     },
     "output_type": "display_data"
    }
   ],
   "source": [
    "import collections\n",
    "import matplotlib.pyplot as plt\n",
    "degree_sequence = sorted([d for n, d in subgraph_2017.degree()], reverse=True)  # degree sequence\n",
    "degreeCount = collections.Counter(degree_sequence)\n",
    "deg, cnt = zip(*degreeCount.items())\n",
    "\n",
    "fig, ax = plt.subplots()\n",
    "plt.loglog(deg, cnt)\n",
    "\n",
    "plt.title(\"Degree Distribution\")\n",
    "plt.ylabel(\"Count\")\n",
    "plt.xlabel(\"Degree\")\n",
    "\n",
    "plt.show()"
   ]
  },
  {
   "cell_type": "code",
   "execution_count": null,
   "metadata": {},
   "outputs": [
    {
     "data": {
      "text/plain": "0.5497024697956345"
     },
     "execution_count": 16,
     "metadata": {},
     "output_type": "execute_result"
    }
   ],
   "source": [
    "degreeCount[0] / sum(degreeCount.values())"
   ]
  },
  {
   "cell_type": "code",
   "execution_count": null,
   "metadata": {},
   "outputs": [],
   "source": []
  }
 ],
 "metadata": {
  "interpreter": {
   "hash": "ad07cc198a2979f9f8d819f253cb1992218493ce2685c9cbe5cb65c70d7f444d"
  },
  "kernelspec": {
   "display_name": "Python 3.8.8 64-bit ('synch')",
   "name": "python3"
  },
  "language_info": {
   "codemirror_mode": {
    "name": "ipython",
    "version": 3
   },
   "file_extension": ".py",
   "mimetype": "text/x-python",
   "name": "python",
   "nbconvert_exporter": "python",
   "pygments_lexer": "ipython3",
   "version": "3.8.8"
  },
  "metadata": {
   "interpreter": {
    "hash": "ad07cc198a2979f9f8d819f253cb1992218493ce2685c9cbe5cb65c70d7f444d"
   }
  }
 },
 "nbformat": 4,
 "nbformat_minor": 4
}
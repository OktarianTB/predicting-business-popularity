{
 "cells": [
  {
   "cell_type": "markdown",
   "metadata": {},
   "source": [
    "# Exploring Metrics for Business Popularity"
   ]
  },
  {
   "cell_type": "code",
   "execution_count": 1,
   "metadata": {},
   "outputs": [],
   "source": [
    "import json\n",
    "import pandas as pd\n",
    "import numpy as np\n",
    "import math\n",
    "import datetime\n",
    "\n",
    "import matplotlib.pyplot as plt\n",
    "\n",
    "import collections\n",
    "\n",
    "from sklearn.preprocessing import MinMaxScaler"
   ]
  },
  {
   "cell_type": "code",
   "execution_count": 2,
   "metadata": {},
   "outputs": [
    {
     "output_type": "stream",
     "name": "stdout",
     "text": [
      "160585\n",
      "138876\n"
     ]
    }
   ],
   "source": [
    "business_df = pd.read_json('./yelp/yelp_academic_dataset_business.json', lines=True)\n",
    "business_df.drop(columns=['address', 'postal_code', 'name'], inplace=True)\n",
    "# business_df.dropna(inplace=True)  # the nans are for attributes and opening hours: may not be integral part\n",
    "business_df.set_index(\"business_id\", inplace=True)\n",
    "print(len(business_df))\n",
    "\n",
    "checkins_df = pd.read_json('./yelp/yelp_academic_dataset_checkin.json', lines=True)\n",
    "print(len(checkins_df))\n",
    "\n",
    "reviews_df = pd.read_json('yelp/yelp_academic_dataset_review.json', lines=True)\n",
    "reviews_df.drop(columns=[\"text\", \"user_id\", \"review_id\"], inplace=True)\n",
    "reviews_df[\"date\"] = pd.to_datetime(reviews_df[\"date\"])\n",
    "\n",
    "tips_df = pd.read_json('yelp/yelp_academic_dataset_tip.json', lines=True)"
   ]
  },
  {
   "cell_type": "code",
   "execution_count": 3,
   "metadata": {},
   "outputs": [
    {
     "output_type": "execute_result",
     "data": {
      "text/plain": [
       "                                                                     date  \\\n",
       "business_id                                                                 \n",
       "--0r8K_AQ4FZfLsX3ZYRDA                                2017-09-03 17:13:59   \n",
       "--0zrn43LEaB4jUWTQH_Bg  2010-10-08 22:21:20, 2010-11-01 21:29:14, 2010...   \n",
       "--164t1nclzzmca7eDiJMw  2010-02-26 02:06:53, 2010-02-27 08:00:09, 2010...   \n",
       "--2aF9NhXnNVpDV0KS3xBQ  2014-11-03 16:35:35, 2015-01-30 18:16:03, 2015...   \n",
       "--2mEJ63SC_8_08_jGgVIg  2010-12-15 17:10:46, 2013-12-28 00:27:54, 2015...   \n",
       "\n",
       "                        checkin_count       first_checkin        last_checkin  \n",
       "business_id                                                                    \n",
       "--0r8K_AQ4FZfLsX3ZYRDA              1 2017-09-03 17:13:59 2017-09-03 17:13:59  \n",
       "--0zrn43LEaB4jUWTQH_Bg              9 2010-10-08 22:21:20 2011-08-29 19:01:31  \n",
       "--164t1nclzzmca7eDiJMw            311 2010-02-26 02:06:53 2013-11-25 02:51:33  \n",
       "--2aF9NhXnNVpDV0KS3xBQ              8 2014-11-03 16:35:35 2020-12-29 16:22:00  \n",
       "--2mEJ63SC_8_08_jGgVIg              4 2010-12-15 17:10:46 2016-06-11 19:56:11  "
      ],
      "text/html": "<div>\n<style scoped>\n    .dataframe tbody tr th:only-of-type {\n        vertical-align: middle;\n    }\n\n    .dataframe tbody tr th {\n        vertical-align: top;\n    }\n\n    .dataframe thead th {\n        text-align: right;\n    }\n</style>\n<table border=\"1\" class=\"dataframe\">\n  <thead>\n    <tr style=\"text-align: right;\">\n      <th></th>\n      <th>date</th>\n      <th>checkin_count</th>\n      <th>first_checkin</th>\n      <th>last_checkin</th>\n    </tr>\n    <tr>\n      <th>business_id</th>\n      <th></th>\n      <th></th>\n      <th></th>\n      <th></th>\n    </tr>\n  </thead>\n  <tbody>\n    <tr>\n      <th>--0r8K_AQ4FZfLsX3ZYRDA</th>\n      <td>2017-09-03 17:13:59</td>\n      <td>1</td>\n      <td>2017-09-03 17:13:59</td>\n      <td>2017-09-03 17:13:59</td>\n    </tr>\n    <tr>\n      <th>--0zrn43LEaB4jUWTQH_Bg</th>\n      <td>2010-10-08 22:21:20, 2010-11-01 21:29:14, 2010...</td>\n      <td>9</td>\n      <td>2010-10-08 22:21:20</td>\n      <td>2011-08-29 19:01:31</td>\n    </tr>\n    <tr>\n      <th>--164t1nclzzmca7eDiJMw</th>\n      <td>2010-02-26 02:06:53, 2010-02-27 08:00:09, 2010...</td>\n      <td>311</td>\n      <td>2010-02-26 02:06:53</td>\n      <td>2013-11-25 02:51:33</td>\n    </tr>\n    <tr>\n      <th>--2aF9NhXnNVpDV0KS3xBQ</th>\n      <td>2014-11-03 16:35:35, 2015-01-30 18:16:03, 2015...</td>\n      <td>8</td>\n      <td>2014-11-03 16:35:35</td>\n      <td>2020-12-29 16:22:00</td>\n    </tr>\n    <tr>\n      <th>--2mEJ63SC_8_08_jGgVIg</th>\n      <td>2010-12-15 17:10:46, 2013-12-28 00:27:54, 2015...</td>\n      <td>4</td>\n      <td>2010-12-15 17:10:46</td>\n      <td>2016-06-11 19:56:11</td>\n    </tr>\n  </tbody>\n</table>\n</div>"
     },
     "metadata": {},
     "execution_count": 3
    }
   ],
   "source": [
    "def calculate_checkin_count(row):\n",
    "    dates = row.split(\",\")\n",
    "    return len(dates)\n",
    "\n",
    "def start_date(row):\n",
    "    dates = row.split(\",\")\n",
    "    return dates[0]\n",
    "\n",
    "def last_date(row):\n",
    "    dates = row.split(\",\")\n",
    "    return dates[-1]\n",
    "\n",
    "checkins_df.set_index(\"business_id\", inplace=True)\n",
    "checkins_df['checkin_count'] = checkins_df[\"date\"].apply(calculate_checkin_count)\n",
    "checkins_df['first_checkin'] = pd.to_datetime(checkins_df[\"date\"].apply(start_date))\n",
    "checkins_df['last_checkin'] = pd.to_datetime(checkins_df[\"date\"].apply(last_date))\n",
    "checkins_df.head()"
   ]
  },
  {
   "source": [
    "# merge checkin\n",
    "business_df = pd.merge(business_df, checkins_df, on='business_id')\n",
    "\n",
    "len(business_df)"
   ],
   "cell_type": "code",
   "metadata": {},
   "execution_count": 4,
   "outputs": [
    {
     "output_type": "execute_result",
     "data": {
      "text/plain": [
       "138876"
      ]
     },
     "metadata": {},
     "execution_count": 4
    }
   ]
  },
  {
   "source": [
    "## Process Reviews"
   ],
   "cell_type": "markdown",
   "metadata": {}
  },
  {
   "cell_type": "code",
   "execution_count": 5,
   "metadata": {},
   "outputs": [
    {
     "output_type": "execute_result",
     "data": {
      "text/plain": [
       "                        stars  rounded_stars  raw_stars\n",
       "business_id                                            \n",
       "6iYb2HFDywm3zjuRg0shjw    4.0            4.0   4.000000\n",
       "tCbdrRPZA0oiIYSmHG3J0w    4.0            4.0   4.193798\n",
       "bvN78flM8NLprQ1a1y5dRg    4.5            4.5   4.615385\n",
       "oaepsyvc0J17qwi8cfrOWg    3.0            2.5   2.666667\n",
       "PE9uqAjdw0E4-8mjGl3wVA    4.0            4.0   4.214286\n",
       "...                       ...            ...        ...\n",
       "D2mHoIDXx9N8mS1pGoKV9Q    4.0            4.0   4.000000\n",
       "bQX-kwVTyZgcdZGEPzce6Q    4.5            4.5   4.368421\n",
       "wvFZ06nmPmQ2-IVoPqVYLA    5.0            5.0   4.875000\n",
       "GB75wPibj3IjNauaoCxyGA    4.0            4.0   4.100000\n",
       "ngmLL5Y5OT-bYHKU0kKrYA    4.5            4.5   4.337209\n",
       "\n",
       "[138876 rows x 3 columns]"
      ],
      "text/html": "<div>\n<style scoped>\n    .dataframe tbody tr th:only-of-type {\n        vertical-align: middle;\n    }\n\n    .dataframe tbody tr th {\n        vertical-align: top;\n    }\n\n    .dataframe thead th {\n        text-align: right;\n    }\n</style>\n<table border=\"1\" class=\"dataframe\">\n  <thead>\n    <tr style=\"text-align: right;\">\n      <th></th>\n      <th>stars</th>\n      <th>rounded_stars</th>\n      <th>raw_stars</th>\n    </tr>\n    <tr>\n      <th>business_id</th>\n      <th></th>\n      <th></th>\n      <th></th>\n    </tr>\n  </thead>\n  <tbody>\n    <tr>\n      <th>6iYb2HFDywm3zjuRg0shjw</th>\n      <td>4.0</td>\n      <td>4.0</td>\n      <td>4.000000</td>\n    </tr>\n    <tr>\n      <th>tCbdrRPZA0oiIYSmHG3J0w</th>\n      <td>4.0</td>\n      <td>4.0</td>\n      <td>4.193798</td>\n    </tr>\n    <tr>\n      <th>bvN78flM8NLprQ1a1y5dRg</th>\n      <td>4.5</td>\n      <td>4.5</td>\n      <td>4.615385</td>\n    </tr>\n    <tr>\n      <th>oaepsyvc0J17qwi8cfrOWg</th>\n      <td>3.0</td>\n      <td>2.5</td>\n      <td>2.666667</td>\n    </tr>\n    <tr>\n      <th>PE9uqAjdw0E4-8mjGl3wVA</th>\n      <td>4.0</td>\n      <td>4.0</td>\n      <td>4.214286</td>\n    </tr>\n    <tr>\n      <th>...</th>\n      <td>...</td>\n      <td>...</td>\n      <td>...</td>\n    </tr>\n    <tr>\n      <th>D2mHoIDXx9N8mS1pGoKV9Q</th>\n      <td>4.0</td>\n      <td>4.0</td>\n      <td>4.000000</td>\n    </tr>\n    <tr>\n      <th>bQX-kwVTyZgcdZGEPzce6Q</th>\n      <td>4.5</td>\n      <td>4.5</td>\n      <td>4.368421</td>\n    </tr>\n    <tr>\n      <th>wvFZ06nmPmQ2-IVoPqVYLA</th>\n      <td>5.0</td>\n      <td>5.0</td>\n      <td>4.875000</td>\n    </tr>\n    <tr>\n      <th>GB75wPibj3IjNauaoCxyGA</th>\n      <td>4.0</td>\n      <td>4.0</td>\n      <td>4.100000</td>\n    </tr>\n    <tr>\n      <th>ngmLL5Y5OT-bYHKU0kKrYA</th>\n      <td>4.5</td>\n      <td>4.5</td>\n      <td>4.337209</td>\n    </tr>\n  </tbody>\n</table>\n<p>138876 rows × 3 columns</p>\n</div>"
     },
     "metadata": {},
     "execution_count": 5
    }
   ],
   "source": [
    "def round_star(raw_star):\n",
    "\n",
    "    i = raw_star // 1\n",
    "    f = raw_star % 1\n",
    "    if f >= 0.75:\n",
    "        ans = i + 1\n",
    "    elif f >=0.25:\n",
    "        ans = i + 0.5\n",
    "    else:\n",
    "        ans = i\n",
    "\n",
    "    return ans\n",
    "\n",
    "business_df[\"raw_stars\"] = reviews_df.groupby(\"business_id\").mean()[\"stars\"]\n",
    "business_df[\"rounded_stars\"] = business_df[\"raw_stars\"].apply(round_star)\n",
    "\n",
    "business_df[[\"stars\", \"rounded_stars\", \"raw_stars\"]]"
   ]
  },
  {
   "source": [
    "reviews_data = reviews_df.groupby(by='business_id').agg(raw_review_count=(\"date\", lambda x: x.count()),\n",
    "                                                        first_review=(\"date\", lambda x: x.min()),\n",
    "                                                        last_review=(\"date\", lambda x: x.max()))\n",
    "\n",
    "business_df = pd.merge(business_df, reviews_data, on='business_id')"
   ],
   "cell_type": "code",
   "metadata": {},
   "execution_count": 6,
   "outputs": []
  },
  {
   "source": [
    "## Process tips"
   ],
   "cell_type": "markdown",
   "metadata": {}
  },
  {
   "cell_type": "code",
   "execution_count": 7,
   "metadata": {},
   "outputs": [
    {
     "output_type": "execute_result",
     "data": {
      "text/plain": [
       "106660"
      ]
     },
     "metadata": {},
     "execution_count": 7
    }
   ],
   "source": [
    "tips_data = tips_df.groupby(by='business_id').agg(tip_count=(\"date\", lambda x: x.count()),\n",
    "                                                  first_tip=(\"date\", lambda x: x.min()),\n",
    "                                                  last_tip=(\"date\", lambda x: x.max()))\n",
    "\n",
    "business_df = pd.merge(business_df, tips_data, on='business_id')\n",
    "len(business_df)"
   ]
  },
  {
   "source": [
    "## Put all the dates and counts together"
   ],
   "cell_type": "markdown",
   "metadata": {}
  },
  {
   "cell_type": "code",
   "execution_count": 8,
   "metadata": {},
   "outputs": [],
   "source": [
    "business_df[\"first_date\"] = business_df[[\"first_checkin\", \"first_review\", \"first_tip\"]].min(axis=1)\n",
    "business_df[\"last_date\"] = business_df[[\"last_checkin\", \"last_review\", \"last_tip\"]].max(axis=1)\n",
    "\n",
    "business_df[\"visit_count\"] = business_df[[\"checkin_count\", \"raw_review_count\", \"tip_count\"]].sum(axis=1)"
   ]
  },
  {
   "source": [
    "## Restaurants"
   ],
   "cell_type": "markdown",
   "metadata": {}
  },
  {
   "cell_type": "code",
   "execution_count": 9,
   "metadata": {},
   "outputs": [
    {
     "output_type": "stream",
     "name": "stdout",
     "text": [
      "There are 55935 restaurants in the dataset\n"
     ]
    },
    {
     "output_type": "execute_result",
     "data": {
      "text/plain": [
       "                             city state   latitude   longitude  stars  \\\n",
       "business_id                                                             \n",
       "6iYb2HFDywm3zjuRg0shjw    Boulder    CO  40.017544 -105.283348    4.0   \n",
       "tCbdrRPZA0oiIYSmHG3J0w   Portland    OR  45.588906 -122.593331    4.0   \n",
       "D4JtQNTI4X3KcbzacDJsMw  Vancouver    BC  49.251342 -123.101333    3.5   \n",
       "\n",
       "                        review_count  is_open  \\\n",
       "business_id                                     \n",
       "6iYb2HFDywm3zjuRg0shjw            86        1   \n",
       "tCbdrRPZA0oiIYSmHG3J0w           126        1   \n",
       "D4JtQNTI4X3KcbzacDJsMw           169        1   \n",
       "\n",
       "                                                               attributes  \\\n",
       "business_id                                                                 \n",
       "6iYb2HFDywm3zjuRg0shjw  {'RestaurantsTableService': 'True', 'WiFi': 'u...   \n",
       "tCbdrRPZA0oiIYSmHG3J0w  {'RestaurantsTakeOut': 'True', 'RestaurantsAtt...   \n",
       "D4JtQNTI4X3KcbzacDJsMw  {'GoodForKids': 'True', 'Alcohol': 'u'none'', ...   \n",
       "\n",
       "                                                               categories  \\\n",
       "business_id                                                                 \n",
       "6iYb2HFDywm3zjuRg0shjw  Gastropubs, Food, Beer Gardens, Restaurants, B...   \n",
       "tCbdrRPZA0oiIYSmHG3J0w  Salad, Soup, Sandwiches, Delis, Restaurants, C...   \n",
       "D4JtQNTI4X3KcbzacDJsMw                                  Restaurants, Thai   \n",
       "\n",
       "                                                                    hours  \\\n",
       "business_id                                                                 \n",
       "6iYb2HFDywm3zjuRg0shjw  {'Monday': '11:0-23:0', 'Tuesday': '11:0-23:0'...   \n",
       "tCbdrRPZA0oiIYSmHG3J0w  {'Monday': '5:0-18:0', 'Tuesday': '5:0-17:0', ...   \n",
       "D4JtQNTI4X3KcbzacDJsMw  {'Monday': '17:0-21:0', 'Tuesday': '17:0-21:0'...   \n",
       "\n",
       "                        ... rounded_stars  raw_review_count  \\\n",
       "business_id             ...                                   \n",
       "6iYb2HFDywm3zjuRg0shjw  ...           4.0                86   \n",
       "tCbdrRPZA0oiIYSmHG3J0w  ...           4.0               129   \n",
       "D4JtQNTI4X3KcbzacDJsMw  ...           3.5               175   \n",
       "\n",
       "                              first_review         last_review  tip_count  \\\n",
       "business_id                                                                 \n",
       "6iYb2HFDywm3zjuRg0shjw 2017-09-12 03:32:30 2021-01-22 05:20:38          7   \n",
       "tCbdrRPZA0oiIYSmHG3J0w 2010-03-09 16:02:04 2020-08-06 09:00:59         47   \n",
       "D4JtQNTI4X3KcbzacDJsMw 2010-09-26 04:03:35 2020-12-24 21:24:42         32   \n",
       "\n",
       "                                 first_tip            last_tip  \\\n",
       "business_id                                                      \n",
       "6iYb2HFDywm3zjuRg0shjw 2017-09-09 04:42:34 2019-09-17 04:30:53   \n",
       "tCbdrRPZA0oiIYSmHG3J0w 2011-05-28 02:06:25 2019-06-25 18:21:12   \n",
       "D4JtQNTI4X3KcbzacDJsMw 2010-12-02 21:10:51 2019-09-01 03:01:29   \n",
       "\n",
       "                                first_date           last_date  visit_count  \n",
       "business_id                                                                  \n",
       "6iYb2HFDywm3zjuRg0shjw 2017-09-09 04:42:34 2021-01-22 05:20:38          277  \n",
       "tCbdrRPZA0oiIYSmHG3J0w 2010-03-09 16:02:04 2021-01-21 17:55:35         1356  \n",
       "D4JtQNTI4X3KcbzacDJsMw 2010-09-26 04:03:35 2021-01-23 01:43:50          495  \n",
       "\n",
       "[3 rows x 25 columns]"
      ],
      "text/html": "<div>\n<style scoped>\n    .dataframe tbody tr th:only-of-type {\n        vertical-align: middle;\n    }\n\n    .dataframe tbody tr th {\n        vertical-align: top;\n    }\n\n    .dataframe thead th {\n        text-align: right;\n    }\n</style>\n<table border=\"1\" class=\"dataframe\">\n  <thead>\n    <tr style=\"text-align: right;\">\n      <th></th>\n      <th>city</th>\n      <th>state</th>\n      <th>latitude</th>\n      <th>longitude</th>\n      <th>stars</th>\n      <th>review_count</th>\n      <th>is_open</th>\n      <th>attributes</th>\n      <th>categories</th>\n      <th>hours</th>\n      <th>...</th>\n      <th>rounded_stars</th>\n      <th>raw_review_count</th>\n      <th>first_review</th>\n      <th>last_review</th>\n      <th>tip_count</th>\n      <th>first_tip</th>\n      <th>last_tip</th>\n      <th>first_date</th>\n      <th>last_date</th>\n      <th>visit_count</th>\n    </tr>\n    <tr>\n      <th>business_id</th>\n      <th></th>\n      <th></th>\n      <th></th>\n      <th></th>\n      <th></th>\n      <th></th>\n      <th></th>\n      <th></th>\n      <th></th>\n      <th></th>\n      <th></th>\n      <th></th>\n      <th></th>\n      <th></th>\n      <th></th>\n      <th></th>\n      <th></th>\n      <th></th>\n      <th></th>\n      <th></th>\n      <th></th>\n    </tr>\n  </thead>\n  <tbody>\n    <tr>\n      <th>6iYb2HFDywm3zjuRg0shjw</th>\n      <td>Boulder</td>\n      <td>CO</td>\n      <td>40.017544</td>\n      <td>-105.283348</td>\n      <td>4.0</td>\n      <td>86</td>\n      <td>1</td>\n      <td>{'RestaurantsTableService': 'True', 'WiFi': 'u...</td>\n      <td>Gastropubs, Food, Beer Gardens, Restaurants, B...</td>\n      <td>{'Monday': '11:0-23:0', 'Tuesday': '11:0-23:0'...</td>\n      <td>...</td>\n      <td>4.0</td>\n      <td>86</td>\n      <td>2017-09-12 03:32:30</td>\n      <td>2021-01-22 05:20:38</td>\n      <td>7</td>\n      <td>2017-09-09 04:42:34</td>\n      <td>2019-09-17 04:30:53</td>\n      <td>2017-09-09 04:42:34</td>\n      <td>2021-01-22 05:20:38</td>\n      <td>277</td>\n    </tr>\n    <tr>\n      <th>tCbdrRPZA0oiIYSmHG3J0w</th>\n      <td>Portland</td>\n      <td>OR</td>\n      <td>45.588906</td>\n      <td>-122.593331</td>\n      <td>4.0</td>\n      <td>126</td>\n      <td>1</td>\n      <td>{'RestaurantsTakeOut': 'True', 'RestaurantsAtt...</td>\n      <td>Salad, Soup, Sandwiches, Delis, Restaurants, C...</td>\n      <td>{'Monday': '5:0-18:0', 'Tuesday': '5:0-17:0', ...</td>\n      <td>...</td>\n      <td>4.0</td>\n      <td>129</td>\n      <td>2010-03-09 16:02:04</td>\n      <td>2020-08-06 09:00:59</td>\n      <td>47</td>\n      <td>2011-05-28 02:06:25</td>\n      <td>2019-06-25 18:21:12</td>\n      <td>2010-03-09 16:02:04</td>\n      <td>2021-01-21 17:55:35</td>\n      <td>1356</td>\n    </tr>\n    <tr>\n      <th>D4JtQNTI4X3KcbzacDJsMw</th>\n      <td>Vancouver</td>\n      <td>BC</td>\n      <td>49.251342</td>\n      <td>-123.101333</td>\n      <td>3.5</td>\n      <td>169</td>\n      <td>1</td>\n      <td>{'GoodForKids': 'True', 'Alcohol': 'u'none'', ...</td>\n      <td>Restaurants, Thai</td>\n      <td>{'Monday': '17:0-21:0', 'Tuesday': '17:0-21:0'...</td>\n      <td>...</td>\n      <td>3.5</td>\n      <td>175</td>\n      <td>2010-09-26 04:03:35</td>\n      <td>2020-12-24 21:24:42</td>\n      <td>32</td>\n      <td>2010-12-02 21:10:51</td>\n      <td>2019-09-01 03:01:29</td>\n      <td>2010-09-26 04:03:35</td>\n      <td>2021-01-23 01:43:50</td>\n      <td>495</td>\n    </tr>\n  </tbody>\n</table>\n<p>3 rows × 25 columns</p>\n</div>"
     },
     "metadata": {},
     "execution_count": 9
    }
   ],
   "source": [
    "restaurants_df = business_df.loc[business_df[\"categories\"].str.contains(\"Restaurants\") | business_df[\"categories\"].str.contains(\"Food\")]\n",
    "print(f\"There are {len(restaurants_df)} restaurants in the dataset\")\n",
    "\n",
    "restaurants_df.head(3)"
   ]
  },
  {
   "cell_type": "code",
   "execution_count": 10,
   "metadata": {},
   "outputs": [
    {
     "output_type": "stream",
     "name": "stderr",
     "text": [
      "/data/tianqing/Downloads/ENTER/envs/sh_DISCOS/lib/python3.8/site-packages/pandas/core/frame.py:4308: SettingWithCopyWarning: \nA value is trying to be set on a copy of a slice from a DataFrame\n\nSee the caveats in the documentation: https://pandas.pydata.org/pandas-docs/stable/user_guide/indexing.html#returning-a-view-versus-a-copy\n  return super().drop(\n"
     ]
    },
    {
     "output_type": "execute_result",
     "data": {
      "text/plain": [
       "                             city state   latitude   longitude  stars  \\\n",
       "business_id                                                             \n",
       "6iYb2HFDywm3zjuRg0shjw    Boulder    CO  40.017544 -105.283348    4.0   \n",
       "tCbdrRPZA0oiIYSmHG3J0w   Portland    OR  45.588906 -122.593331    4.0   \n",
       "D4JtQNTI4X3KcbzacDJsMw  Vancouver    BC  49.251342 -123.101333    3.5   \n",
       "\n",
       "                        review_count  is_open  \\\n",
       "business_id                                     \n",
       "6iYb2HFDywm3zjuRg0shjw            86        1   \n",
       "tCbdrRPZA0oiIYSmHG3J0w           126        1   \n",
       "D4JtQNTI4X3KcbzacDJsMw           169        1   \n",
       "\n",
       "                                                               attributes  \\\n",
       "business_id                                                                 \n",
       "6iYb2HFDywm3zjuRg0shjw  {'RestaurantsTableService': 'True', 'WiFi': 'u...   \n",
       "tCbdrRPZA0oiIYSmHG3J0w  {'RestaurantsTakeOut': 'True', 'RestaurantsAtt...   \n",
       "D4JtQNTI4X3KcbzacDJsMw  {'GoodForKids': 'True', 'Alcohol': 'u'none'', ...   \n",
       "\n",
       "                                                               categories  \\\n",
       "business_id                                                                 \n",
       "6iYb2HFDywm3zjuRg0shjw  Gastropubs, Food, Beer Gardens, Restaurants, B...   \n",
       "tCbdrRPZA0oiIYSmHG3J0w  Salad, Soup, Sandwiches, Delis, Restaurants, C...   \n",
       "D4JtQNTI4X3KcbzacDJsMw                                  Restaurants, Thai   \n",
       "\n",
       "                                                                    hours  \\\n",
       "business_id                                                                 \n",
       "6iYb2HFDywm3zjuRg0shjw  {'Monday': '11:0-23:0', 'Tuesday': '11:0-23:0'...   \n",
       "tCbdrRPZA0oiIYSmHG3J0w  {'Monday': '5:0-18:0', 'Tuesday': '5:0-17:0', ...   \n",
       "D4JtQNTI4X3KcbzacDJsMw  {'Monday': '17:0-21:0', 'Tuesday': '17:0-21:0'...   \n",
       "\n",
       "                        checkin_count  raw_stars  rounded_stars  \\\n",
       "business_id                                                       \n",
       "6iYb2HFDywm3zjuRg0shjw            184   4.000000            4.0   \n",
       "tCbdrRPZA0oiIYSmHG3J0w           1180   4.193798            4.0   \n",
       "D4JtQNTI4X3KcbzacDJsMw            288   3.685714            3.5   \n",
       "\n",
       "                        raw_review_count  tip_count          first_date  \\\n",
       "business_id                                                               \n",
       "6iYb2HFDywm3zjuRg0shjw                86          7 2017-09-09 04:42:34   \n",
       "tCbdrRPZA0oiIYSmHG3J0w               129         47 2010-03-09 16:02:04   \n",
       "D4JtQNTI4X3KcbzacDJsMw               175         32 2010-09-26 04:03:35   \n",
       "\n",
       "                                 last_date  visit_count  \n",
       "business_id                                              \n",
       "6iYb2HFDywm3zjuRg0shjw 2021-01-22 05:20:38          277  \n",
       "tCbdrRPZA0oiIYSmHG3J0w 2021-01-21 17:55:35         1356  \n",
       "D4JtQNTI4X3KcbzacDJsMw 2021-01-23 01:43:50          495  "
      ],
      "text/html": "<div>\n<style scoped>\n    .dataframe tbody tr th:only-of-type {\n        vertical-align: middle;\n    }\n\n    .dataframe tbody tr th {\n        vertical-align: top;\n    }\n\n    .dataframe thead th {\n        text-align: right;\n    }\n</style>\n<table border=\"1\" class=\"dataframe\">\n  <thead>\n    <tr style=\"text-align: right;\">\n      <th></th>\n      <th>city</th>\n      <th>state</th>\n      <th>latitude</th>\n      <th>longitude</th>\n      <th>stars</th>\n      <th>review_count</th>\n      <th>is_open</th>\n      <th>attributes</th>\n      <th>categories</th>\n      <th>hours</th>\n      <th>checkin_count</th>\n      <th>raw_stars</th>\n      <th>rounded_stars</th>\n      <th>raw_review_count</th>\n      <th>tip_count</th>\n      <th>first_date</th>\n      <th>last_date</th>\n      <th>visit_count</th>\n    </tr>\n    <tr>\n      <th>business_id</th>\n      <th></th>\n      <th></th>\n      <th></th>\n      <th></th>\n      <th></th>\n      <th></th>\n      <th></th>\n      <th></th>\n      <th></th>\n      <th></th>\n      <th></th>\n      <th></th>\n      <th></th>\n      <th></th>\n      <th></th>\n      <th></th>\n      <th></th>\n      <th></th>\n    </tr>\n  </thead>\n  <tbody>\n    <tr>\n      <th>6iYb2HFDywm3zjuRg0shjw</th>\n      <td>Boulder</td>\n      <td>CO</td>\n      <td>40.017544</td>\n      <td>-105.283348</td>\n      <td>4.0</td>\n      <td>86</td>\n      <td>1</td>\n      <td>{'RestaurantsTableService': 'True', 'WiFi': 'u...</td>\n      <td>Gastropubs, Food, Beer Gardens, Restaurants, B...</td>\n      <td>{'Monday': '11:0-23:0', 'Tuesday': '11:0-23:0'...</td>\n      <td>184</td>\n      <td>4.000000</td>\n      <td>4.0</td>\n      <td>86</td>\n      <td>7</td>\n      <td>2017-09-09 04:42:34</td>\n      <td>2021-01-22 05:20:38</td>\n      <td>277</td>\n    </tr>\n    <tr>\n      <th>tCbdrRPZA0oiIYSmHG3J0w</th>\n      <td>Portland</td>\n      <td>OR</td>\n      <td>45.588906</td>\n      <td>-122.593331</td>\n      <td>4.0</td>\n      <td>126</td>\n      <td>1</td>\n      <td>{'RestaurantsTakeOut': 'True', 'RestaurantsAtt...</td>\n      <td>Salad, Soup, Sandwiches, Delis, Restaurants, C...</td>\n      <td>{'Monday': '5:0-18:0', 'Tuesday': '5:0-17:0', ...</td>\n      <td>1180</td>\n      <td>4.193798</td>\n      <td>4.0</td>\n      <td>129</td>\n      <td>47</td>\n      <td>2010-03-09 16:02:04</td>\n      <td>2021-01-21 17:55:35</td>\n      <td>1356</td>\n    </tr>\n    <tr>\n      <th>D4JtQNTI4X3KcbzacDJsMw</th>\n      <td>Vancouver</td>\n      <td>BC</td>\n      <td>49.251342</td>\n      <td>-123.101333</td>\n      <td>3.5</td>\n      <td>169</td>\n      <td>1</td>\n      <td>{'GoodForKids': 'True', 'Alcohol': 'u'none'', ...</td>\n      <td>Restaurants, Thai</td>\n      <td>{'Monday': '17:0-21:0', 'Tuesday': '17:0-21:0'...</td>\n      <td>288</td>\n      <td>3.685714</td>\n      <td>3.5</td>\n      <td>175</td>\n      <td>32</td>\n      <td>2010-09-26 04:03:35</td>\n      <td>2021-01-23 01:43:50</td>\n      <td>495</td>\n    </tr>\n  </tbody>\n</table>\n</div>"
     },
     "metadata": {},
     "execution_count": 10
    }
   ],
   "source": [
    "restaurants_df.drop(columns=[\"first_checkin\", \"first_review\", \"first_tip\", \"last_checkin\", \"last_review\", \"last_tip\", \"date\"], inplace=True)\n",
    "\n",
    "restaurants_df.head(3)"
   ]
  },
  {
   "cell_type": "code",
   "execution_count": 11,
   "metadata": {},
   "outputs": [],
   "source": [
    "restaurants_df.to_csv(\"datasets/new_restaurants.csv\")"
   ]
  }
 ],
 "metadata": {
  "kernelspec": {
   "name": "python385jvsc74a57bd05aae779e5a6e43bb4d5a1a18389e0ef17035022d1c59c16f20167bbbbb8edb50",
   "display_name": "Python 3.8.5 64-bit ('sh_DISCOS': conda)"
  },
  "language_info": {
   "codemirror_mode": {
    "name": "ipython",
    "version": 3
   },
   "file_extension": ".py",
   "mimetype": "text/x-python",
   "name": "python",
   "nbconvert_exporter": "python",
   "pygments_lexer": "ipython3",
   "version": "3.8.5"
  },
  "metadata": {
   "interpreter": {
    "hash": "5aae779e5a6e43bb4d5a1a18389e0ef17035022d1c59c16f20167bbbbb8edb50"
   }
  }
 },
 "nbformat": 4,
 "nbformat_minor": 4
}
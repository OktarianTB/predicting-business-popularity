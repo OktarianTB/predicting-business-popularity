{
 "cells": [
  {
   "cell_type": "markdown",
   "metadata": {},
   "source": [
    "# Exploring Metrics for Business Popularity"
   ]
  },
  {
   "cell_type": "code",
   "execution_count": 1,
   "metadata": {},
   "outputs": [],
   "source": [
    "import json\n",
    "import pandas as pd\n",
    "import numpy as np\n",
    "import math\n",
    "import datetime"
   ]
  },
  {
   "cell_type": "code",
   "execution_count": 2,
   "metadata": {},
   "outputs": [
    {
     "output_type": "stream",
     "name": "stdout",
     "text": [
      "160585\n",
      "138876\n",
      "1162119\n"
     ]
    }
   ],
   "source": [
    "business_df = pd.read_json('./yelp/yelp_academic_dataset_business.json', lines=True)\n",
    "business_df.drop(columns=['address', 'postal_code', 'name', 'stars', 'review_count'], inplace=True)\n",
    "# business_df.dropna(inplace=True)  # the nans are for attributes and opening hours: may not be integral part\n",
    "business_df.set_index(\"business_id\", inplace=True)\n",
    "print(len(business_df))\n",
    "\n",
    "checkins_df = pd.read_json('./yelp/yelp_academic_dataset_checkin.json', lines=True)\n",
    "print(len(checkins_df))\n",
    "\n",
    "reviews_df = pd.read_json('yelp/yelp_academic_dataset_review.json', lines=True)\n",
    "reviews_df.drop(columns=[\"text\", \"user_id\", \"review_id\"], inplace=True)\n",
    "reviews_df[\"date\"] = pd.to_datetime(reviews_df[\"date\"])\n",
    "\n",
    "tips_df = pd.read_json('yelp/yelp_academic_dataset_tip.json', lines=True)\n",
    "print(len(tips_df))\n",
    "\n",
    "YEAR_RANGE = (datetime.datetime(2017, 1, 1, 0, 0), datetime.datetime(2018, 12, 31, 23, 59))"
   ]
  },
  {
   "cell_type": "code",
   "execution_count": 3,
   "metadata": {},
   "outputs": [
    {
     "output_type": "execute_result",
     "data": {
      "text/plain": [
       "                                                                     date  \\\n",
       "business_id                                                                 \n",
       "--0r8K_AQ4FZfLsX3ZYRDA                                2017-09-03 17:13:59   \n",
       "--0zrn43LEaB4jUWTQH_Bg  2010-10-08 22:21:20, 2010-11-01 21:29:14, 2010...   \n",
       "--164t1nclzzmca7eDiJMw  2010-02-26 02:06:53, 2010-02-27 08:00:09, 2010...   \n",
       "--2aF9NhXnNVpDV0KS3xBQ  2014-11-03 16:35:35, 2015-01-30 18:16:03, 2015...   \n",
       "--2mEJ63SC_8_08_jGgVIg  2010-12-15 17:10:46, 2013-12-28 00:27:54, 2015...   \n",
       "\n",
       "                        checkin_count       first_checkin        last_checkin  \n",
       "business_id                                                                    \n",
       "--0r8K_AQ4FZfLsX3ZYRDA              1 2017-09-03 17:13:59 2017-09-03 17:13:59  \n",
       "--0zrn43LEaB4jUWTQH_Bg              0 2010-10-08 22:21:20 2011-08-29 19:01:31  \n",
       "--164t1nclzzmca7eDiJMw              0 2010-02-26 02:06:53 2013-11-25 02:51:33  \n",
       "--2aF9NhXnNVpDV0KS3xBQ              2 2014-11-03 16:35:35 2020-12-29 16:22:00  \n",
       "--2mEJ63SC_8_08_jGgVIg              0 2010-12-15 17:10:46 2016-06-11 19:56:11  "
      ],
      "text/html": "<div>\n<style scoped>\n    .dataframe tbody tr th:only-of-type {\n        vertical-align: middle;\n    }\n\n    .dataframe tbody tr th {\n        vertical-align: top;\n    }\n\n    .dataframe thead th {\n        text-align: right;\n    }\n</style>\n<table border=\"1\" class=\"dataframe\">\n  <thead>\n    <tr style=\"text-align: right;\">\n      <th></th>\n      <th>date</th>\n      <th>checkin_count</th>\n      <th>first_checkin</th>\n      <th>last_checkin</th>\n    </tr>\n    <tr>\n      <th>business_id</th>\n      <th></th>\n      <th></th>\n      <th></th>\n      <th></th>\n    </tr>\n  </thead>\n  <tbody>\n    <tr>\n      <th>--0r8K_AQ4FZfLsX3ZYRDA</th>\n      <td>2017-09-03 17:13:59</td>\n      <td>1</td>\n      <td>2017-09-03 17:13:59</td>\n      <td>2017-09-03 17:13:59</td>\n    </tr>\n    <tr>\n      <th>--0zrn43LEaB4jUWTQH_Bg</th>\n      <td>2010-10-08 22:21:20, 2010-11-01 21:29:14, 2010...</td>\n      <td>0</td>\n      <td>2010-10-08 22:21:20</td>\n      <td>2011-08-29 19:01:31</td>\n    </tr>\n    <tr>\n      <th>--164t1nclzzmca7eDiJMw</th>\n      <td>2010-02-26 02:06:53, 2010-02-27 08:00:09, 2010...</td>\n      <td>0</td>\n      <td>2010-02-26 02:06:53</td>\n      <td>2013-11-25 02:51:33</td>\n    </tr>\n    <tr>\n      <th>--2aF9NhXnNVpDV0KS3xBQ</th>\n      <td>2014-11-03 16:35:35, 2015-01-30 18:16:03, 2015...</td>\n      <td>2</td>\n      <td>2014-11-03 16:35:35</td>\n      <td>2020-12-29 16:22:00</td>\n    </tr>\n    <tr>\n      <th>--2mEJ63SC_8_08_jGgVIg</th>\n      <td>2010-12-15 17:10:46, 2013-12-28 00:27:54, 2015...</td>\n      <td>0</td>\n      <td>2010-12-15 17:10:46</td>\n      <td>2016-06-11 19:56:11</td>\n    </tr>\n  </tbody>\n</table>\n</div>"
     },
     "metadata": {},
     "execution_count": 3
    }
   ],
   "source": [
    "def filter_date(date):\n",
    "    if date < YEAR_RANGE[0] or date > YEAR_RANGE[1]:\n",
    "        return False\n",
    "    return True\n",
    "\n",
    "def calculate_checkin_count(row):\n",
    "    dates = [datetime.datetime.strptime(d.strip(), \"%Y-%m-%d %H:%M:%S\") for d in row.split(\",\")]\n",
    "    dates = list(filter(filter_date, dates))\n",
    "\n",
    "    return len(dates)\n",
    "\n",
    "def start_date(row):\n",
    "    dates = row.split(\",\")\n",
    "    return datetime.datetime.strptime(dates[0].strip(), \"%Y-%m-%d %H:%M:%S\")\n",
    "\n",
    "def last_date(row):\n",
    "    dates = row.split(\",\")\n",
    "    return datetime.datetime.strptime(dates[-1].strip(), \"%Y-%m-%d %H:%M:%S\")\n",
    "\n",
    "checkins_df.set_index(\"business_id\", inplace=True)\n",
    "checkins_df['checkin_count'] = checkins_df[\"date\"].apply(calculate_checkin_count)\n",
    "checkins_df['first_checkin'] = checkins_df[\"date\"].apply(start_date)\n",
    "checkins_df['last_checkin'] = checkins_df[\"date\"].apply(last_date)\n",
    "checkins_df.head()"
   ]
  },
  {
   "cell_type": "code",
   "execution_count": 4,
   "metadata": {},
   "outputs": [],
   "source": [
    "# last_date >= 2017, first_date < 2018.01.01 (at least opened before 2018)\n",
    "checkins_df = checkins_df[(checkins_df[\"last_checkin\"] >= YEAR_RANGE[0]) & (checkins_df[\"first_checkin\"] < YEAR_RANGE[0] + datetime.timedelta(days=365))]\n",
    "checkins_df.drop(columns=\"date\", inplace=True)"
   ]
  },
  {
   "source": [
    "# merge checkin\n",
    "business_df = pd.merge(business_df, checkins_df, on='business_id')\n",
    "\n",
    "len(business_df)"
   ],
   "cell_type": "code",
   "metadata": {},
   "execution_count": 5,
   "outputs": [
    {
     "output_type": "execute_result",
     "data": {
      "text/plain": [
       "87702"
      ]
     },
     "metadata": {},
     "execution_count": 5
    }
   ]
  },
  {
   "source": [
    "## Process Reviews"
   ],
   "cell_type": "markdown",
   "metadata": {}
  },
  {
   "source": [
    "reviews_data = reviews_df.groupby(by='business_id').agg(review_count=(\"date\", lambda x: x[(x >= YEAR_RANGE[0]) & (x <= YEAR_RANGE[1])].count()),\n",
    "                                                        first_review=(\"date\", lambda x: x.min()),\n",
    "                                                        last_review=(\"date\", lambda x: x.max()))\n",
    "\n",
    "reviews_data.head()"
   ],
   "cell_type": "code",
   "metadata": {},
   "execution_count": 6,
   "outputs": [
    {
     "output_type": "execute_result",
     "data": {
      "text/plain": [
       "                        review_count        first_review         last_review\n",
       "business_id                                                                 \n",
       "--0DF12EMHYI8XIgoFha6A             1 2014-11-25 20:35:03 2020-12-21 16:40:17\n",
       "--0r8K_AQ4FZfLsX3ZYRDA             2 2017-09-03 17:15:48 2020-04-15 13:33:08\n",
       "--0zrn43LEaB4jUWTQH_Bg             0 2011-05-03 22:15:28 2012-03-26 22:55:52\n",
       "--164t1nclzzmca7eDiJMw             0 2009-03-17 01:53:31 2014-06-09 21:27:05\n",
       "--2aF9NhXnNVpDV0KS3xBQ             1 2008-08-08 17:13:26 2021-01-01 14:39:44"
      ],
      "text/html": "<div>\n<style scoped>\n    .dataframe tbody tr th:only-of-type {\n        vertical-align: middle;\n    }\n\n    .dataframe tbody tr th {\n        vertical-align: top;\n    }\n\n    .dataframe thead th {\n        text-align: right;\n    }\n</style>\n<table border=\"1\" class=\"dataframe\">\n  <thead>\n    <tr style=\"text-align: right;\">\n      <th></th>\n      <th>review_count</th>\n      <th>first_review</th>\n      <th>last_review</th>\n    </tr>\n    <tr>\n      <th>business_id</th>\n      <th></th>\n      <th></th>\n      <th></th>\n    </tr>\n  </thead>\n  <tbody>\n    <tr>\n      <th>--0DF12EMHYI8XIgoFha6A</th>\n      <td>1</td>\n      <td>2014-11-25 20:35:03</td>\n      <td>2020-12-21 16:40:17</td>\n    </tr>\n    <tr>\n      <th>--0r8K_AQ4FZfLsX3ZYRDA</th>\n      <td>2</td>\n      <td>2017-09-03 17:15:48</td>\n      <td>2020-04-15 13:33:08</td>\n    </tr>\n    <tr>\n      <th>--0zrn43LEaB4jUWTQH_Bg</th>\n      <td>0</td>\n      <td>2011-05-03 22:15:28</td>\n      <td>2012-03-26 22:55:52</td>\n    </tr>\n    <tr>\n      <th>--164t1nclzzmca7eDiJMw</th>\n      <td>0</td>\n      <td>2009-03-17 01:53:31</td>\n      <td>2014-06-09 21:27:05</td>\n    </tr>\n    <tr>\n      <th>--2aF9NhXnNVpDV0KS3xBQ</th>\n      <td>1</td>\n      <td>2008-08-08 17:13:26</td>\n      <td>2021-01-01 14:39:44</td>\n    </tr>\n  </tbody>\n</table>\n</div>"
     },
     "metadata": {},
     "execution_count": 6
    }
   ]
  },
  {
   "cell_type": "code",
   "execution_count": 7,
   "metadata": {},
   "outputs": [],
   "source": [
    "reviews_data = reviews_data[(reviews_data[\"last_review\"] >= YEAR_RANGE[0]) & (reviews_data[\"first_review\"] < YEAR_RANGE[0] + datetime.timedelta(days=365))]"
   ]
  },
  {
   "cell_type": "code",
   "execution_count": 8,
   "metadata": {},
   "outputs": [
    {
     "output_type": "execute_result",
     "data": {
      "text/plain": [
       "85797"
      ]
     },
     "metadata": {},
     "execution_count": 8
    }
   ],
   "source": [
    "business_df = pd.merge(business_df, reviews_data, on='business_id')\n",
    "len(business_df)"
   ]
  },
  {
   "cell_type": "code",
   "execution_count": 9,
   "metadata": {},
   "outputs": [
    {
     "output_type": "execute_result",
     "data": {
      "text/plain": [
       "                        stars  raw_stars\n",
       "business_id                             \n",
       "6iYb2HFDywm3zjuRg0shjw    3.5   3.714286\n",
       "tCbdrRPZA0oiIYSmHG3J0w    3.5   3.500000\n",
       "bvN78flM8NLprQ1a1y5dRg    5.0   5.000000\n",
       "oaepsyvc0J17qwi8cfrOWg    3.0   3.200000\n",
       "PE9uqAjdw0E4-8mjGl3wVA    5.0   5.000000\n",
       "...                       ...        ...\n",
       "m1Qw53OgkxrWu59oddVf9A    3.5   3.666667\n",
       "D2mHoIDXx9N8mS1pGoKV9Q    2.5   2.333333\n",
       "bQX-kwVTyZgcdZGEPzce6Q    5.0   5.000000\n",
       "wvFZ06nmPmQ2-IVoPqVYLA    5.0   4.857143\n",
       "ngmLL5Y5OT-bYHKU0kKrYA    4.5   4.312500\n",
       "\n",
       "[85797 rows x 2 columns]"
      ],
      "text/html": "<div>\n<style scoped>\n    .dataframe tbody tr th:only-of-type {\n        vertical-align: middle;\n    }\n\n    .dataframe tbody tr th {\n        vertical-align: top;\n    }\n\n    .dataframe thead th {\n        text-align: right;\n    }\n</style>\n<table border=\"1\" class=\"dataframe\">\n  <thead>\n    <tr style=\"text-align: right;\">\n      <th></th>\n      <th>stars</th>\n      <th>raw_stars</th>\n    </tr>\n    <tr>\n      <th>business_id</th>\n      <th></th>\n      <th></th>\n    </tr>\n  </thead>\n  <tbody>\n    <tr>\n      <th>6iYb2HFDywm3zjuRg0shjw</th>\n      <td>3.5</td>\n      <td>3.714286</td>\n    </tr>\n    <tr>\n      <th>tCbdrRPZA0oiIYSmHG3J0w</th>\n      <td>3.5</td>\n      <td>3.500000</td>\n    </tr>\n    <tr>\n      <th>bvN78flM8NLprQ1a1y5dRg</th>\n      <td>5.0</td>\n      <td>5.000000</td>\n    </tr>\n    <tr>\n      <th>oaepsyvc0J17qwi8cfrOWg</th>\n      <td>3.0</td>\n      <td>3.200000</td>\n    </tr>\n    <tr>\n      <th>PE9uqAjdw0E4-8mjGl3wVA</th>\n      <td>5.0</td>\n      <td>5.000000</td>\n    </tr>\n    <tr>\n      <th>...</th>\n      <td>...</td>\n      <td>...</td>\n    </tr>\n    <tr>\n      <th>m1Qw53OgkxrWu59oddVf9A</th>\n      <td>3.5</td>\n      <td>3.666667</td>\n    </tr>\n    <tr>\n      <th>D2mHoIDXx9N8mS1pGoKV9Q</th>\n      <td>2.5</td>\n      <td>2.333333</td>\n    </tr>\n    <tr>\n      <th>bQX-kwVTyZgcdZGEPzce6Q</th>\n      <td>5.0</td>\n      <td>5.000000</td>\n    </tr>\n    <tr>\n      <th>wvFZ06nmPmQ2-IVoPqVYLA</th>\n      <td>5.0</td>\n      <td>4.857143</td>\n    </tr>\n    <tr>\n      <th>ngmLL5Y5OT-bYHKU0kKrYA</th>\n      <td>4.5</td>\n      <td>4.312500</td>\n    </tr>\n  </tbody>\n</table>\n<p>85797 rows × 2 columns</p>\n</div>"
     },
     "metadata": {},
     "execution_count": 9
    }
   ],
   "source": [
    "def round_star(raw_star):\n",
    "\n",
    "    i = raw_star // 1\n",
    "    f = raw_star % 1\n",
    "    if f >= 0.75:\n",
    "        ans = i + 1\n",
    "    elif f >=0.25:\n",
    "        ans = i + 0.5\n",
    "    else:\n",
    "        ans = i\n",
    "\n",
    "    return ans\n",
    "\n",
    "ranged_reviews_df = reviews_df[(reviews_df[\"date\"] >= YEAR_RANGE[0]) & (reviews_df[\"date\"] <= YEAR_RANGE[1])]\n",
    "\n",
    "business_df[\"raw_stars\"] = ranged_reviews_df.groupby(\"business_id\").mean()[\"stars\"]\n",
    "business_df[\"stars\"] = business_df[\"raw_stars\"].apply(round_star)\n",
    "\n",
    "business_df[[\"stars\", \"raw_stars\"]]"
   ]
  },
  {
   "source": [
    "## Process tips"
   ],
   "cell_type": "markdown",
   "metadata": {}
  },
  {
   "cell_type": "code",
   "execution_count": 10,
   "metadata": {},
   "outputs": [],
   "source": [
    "tips_data = tips_df.groupby(by='business_id').agg(tip_count=(\"date\", lambda x: x[(x >= YEAR_RANGE[0]) & (x <= YEAR_RANGE[1])].count()),\n",
    "                                                  first_tip=(\"date\", lambda x: x.min()),\n",
    "                                                  last_tip=(\"date\", lambda x: x.max()))\n"
   ]
  },
  {
   "cell_type": "code",
   "execution_count": 11,
   "metadata": {},
   "outputs": [],
   "source": [
    "tips_data = tips_data[(tips_data[\"last_tip\"] >= YEAR_RANGE[0]) & (tips_data[\"first_tip\"] < YEAR_RANGE[0] + datetime.timedelta(days=365))]"
   ]
  },
  {
   "cell_type": "code",
   "execution_count": 12,
   "metadata": {},
   "outputs": [
    {
     "output_type": "execute_result",
     "data": {
      "text/plain": [
       "47979"
      ]
     },
     "metadata": {},
     "execution_count": 12
    }
   ],
   "source": [
    "business_df = pd.merge(business_df, tips_data, on='business_id')\n",
    "len(business_df)"
   ]
  },
  {
   "source": [
    "## Put all the dates and counts together"
   ],
   "cell_type": "markdown",
   "metadata": {}
  },
  {
   "cell_type": "code",
   "execution_count": 13,
   "metadata": {},
   "outputs": [],
   "source": [
    "business_df[\"first_date\"] = business_df[[\"first_checkin\", \"first_review\", \"first_tip\"]].min(axis=1)\n",
    "business_df[\"last_date\"] = business_df[[\"last_checkin\", \"last_review\", \"last_tip\"]].max(axis=1)\n",
    "\n",
    "business_df[\"visit_count\"] = business_df[[\"checkin_count\", \"review_count\", \"tip_count\"]].sum(axis=1)"
   ]
  },
  {
   "cell_type": "code",
   "execution_count": 14,
   "metadata": {},
   "outputs": [],
   "source": [
    "business_df[\"is_open_year_after\"] = business_df[\"last_date\"] > YEAR_RANGE[1]"
   ]
  },
  {
   "source": [
    "## Restaurants"
   ],
   "cell_type": "markdown",
   "metadata": {}
  },
  {
   "cell_type": "code",
   "execution_count": 15,
   "metadata": {},
   "outputs": [
    {
     "output_type": "stream",
     "name": "stdout",
     "text": [
      "There are 30094 restaurants in the dataset\n"
     ]
    },
    {
     "output_type": "execute_result",
     "data": {
      "text/plain": [
       "                             city state   latitude   longitude  is_open  \\\n",
       "business_id                                                               \n",
       "6iYb2HFDywm3zjuRg0shjw    Boulder    CO  40.017544 -105.283348        1   \n",
       "tCbdrRPZA0oiIYSmHG3J0w   Portland    OR  45.588906 -122.593331        1   \n",
       "D4JtQNTI4X3KcbzacDJsMw  Vancouver    BC  49.251342 -123.101333        1   \n",
       "\n",
       "                                                               attributes  \\\n",
       "business_id                                                                 \n",
       "6iYb2HFDywm3zjuRg0shjw  {'RestaurantsTableService': 'True', 'WiFi': 'u...   \n",
       "tCbdrRPZA0oiIYSmHG3J0w  {'RestaurantsTakeOut': 'True', 'RestaurantsAtt...   \n",
       "D4JtQNTI4X3KcbzacDJsMw  {'GoodForKids': 'True', 'Alcohol': 'u'none'', ...   \n",
       "\n",
       "                                                               categories  \\\n",
       "business_id                                                                 \n",
       "6iYb2HFDywm3zjuRg0shjw  Gastropubs, Food, Beer Gardens, Restaurants, B...   \n",
       "tCbdrRPZA0oiIYSmHG3J0w  Salad, Soup, Sandwiches, Delis, Restaurants, C...   \n",
       "D4JtQNTI4X3KcbzacDJsMw                                  Restaurants, Thai   \n",
       "\n",
       "                                                                    hours  \\\n",
       "business_id                                                                 \n",
       "6iYb2HFDywm3zjuRg0shjw  {'Monday': '11:0-23:0', 'Tuesday': '11:0-23:0'...   \n",
       "tCbdrRPZA0oiIYSmHG3J0w  {'Monday': '5:0-18:0', 'Tuesday': '5:0-17:0', ...   \n",
       "D4JtQNTI4X3KcbzacDJsMw  {'Monday': '17:0-21:0', 'Tuesday': '17:0-21:0'...   \n",
       "\n",
       "                        checkin_count       first_checkin  ...  \\\n",
       "business_id                                                ...   \n",
       "6iYb2HFDywm3zjuRg0shjw             79 2017-09-10 04:48:12  ...   \n",
       "tCbdrRPZA0oiIYSmHG3J0w            181 2010-04-22 05:31:33  ...   \n",
       "D4JtQNTI4X3KcbzacDJsMw             42 2010-11-06 02:53:03  ...   \n",
       "\n",
       "                               last_review  raw_stars stars tip_count  \\\n",
       "business_id                                                             \n",
       "6iYb2HFDywm3zjuRg0shjw 2021-01-22 05:20:38   3.714286   3.5         4   \n",
       "tCbdrRPZA0oiIYSmHG3J0w 2020-08-06 09:00:59   3.500000   3.5         4   \n",
       "D4JtQNTI4X3KcbzacDJsMw 2020-12-24 21:24:42   3.678571   3.5         3   \n",
       "\n",
       "                                 first_tip            last_tip  \\\n",
       "business_id                                                      \n",
       "6iYb2HFDywm3zjuRg0shjw 2017-09-09 04:42:34 2019-09-17 04:30:53   \n",
       "tCbdrRPZA0oiIYSmHG3J0w 2011-05-28 02:06:25 2019-06-25 18:21:12   \n",
       "D4JtQNTI4X3KcbzacDJsMw 2010-12-02 21:10:51 2019-09-01 03:01:29   \n",
       "\n",
       "                                first_date           last_date visit_count  \\\n",
       "business_id                                                                  \n",
       "6iYb2HFDywm3zjuRg0shjw 2017-09-09 04:42:34 2021-01-22 05:20:38         132   \n",
       "tCbdrRPZA0oiIYSmHG3J0w 2010-03-09 16:02:04 2021-01-21 17:55:35         209   \n",
       "D4JtQNTI4X3KcbzacDJsMw 2010-09-26 04:03:35 2021-01-23 01:43:50          73   \n",
       "\n",
       "                       is_open_year_after  \n",
       "business_id                                \n",
       "6iYb2HFDywm3zjuRg0shjw               True  \n",
       "tCbdrRPZA0oiIYSmHG3J0w               True  \n",
       "D4JtQNTI4X3KcbzacDJsMw               True  \n",
       "\n",
       "[3 rows x 23 columns]"
      ],
      "text/html": "<div>\n<style scoped>\n    .dataframe tbody tr th:only-of-type {\n        vertical-align: middle;\n    }\n\n    .dataframe tbody tr th {\n        vertical-align: top;\n    }\n\n    .dataframe thead th {\n        text-align: right;\n    }\n</style>\n<table border=\"1\" class=\"dataframe\">\n  <thead>\n    <tr style=\"text-align: right;\">\n      <th></th>\n      <th>city</th>\n      <th>state</th>\n      <th>latitude</th>\n      <th>longitude</th>\n      <th>is_open</th>\n      <th>attributes</th>\n      <th>categories</th>\n      <th>hours</th>\n      <th>checkin_count</th>\n      <th>first_checkin</th>\n      <th>...</th>\n      <th>last_review</th>\n      <th>raw_stars</th>\n      <th>stars</th>\n      <th>tip_count</th>\n      <th>first_tip</th>\n      <th>last_tip</th>\n      <th>first_date</th>\n      <th>last_date</th>\n      <th>visit_count</th>\n      <th>is_open_year_after</th>\n    </tr>\n    <tr>\n      <th>business_id</th>\n      <th></th>\n      <th></th>\n      <th></th>\n      <th></th>\n      <th></th>\n      <th></th>\n      <th></th>\n      <th></th>\n      <th></th>\n      <th></th>\n      <th></th>\n      <th></th>\n      <th></th>\n      <th></th>\n      <th></th>\n      <th></th>\n      <th></th>\n      <th></th>\n      <th></th>\n      <th></th>\n      <th></th>\n    </tr>\n  </thead>\n  <tbody>\n    <tr>\n      <th>6iYb2HFDywm3zjuRg0shjw</th>\n      <td>Boulder</td>\n      <td>CO</td>\n      <td>40.017544</td>\n      <td>-105.283348</td>\n      <td>1</td>\n      <td>{'RestaurantsTableService': 'True', 'WiFi': 'u...</td>\n      <td>Gastropubs, Food, Beer Gardens, Restaurants, B...</td>\n      <td>{'Monday': '11:0-23:0', 'Tuesday': '11:0-23:0'...</td>\n      <td>79</td>\n      <td>2017-09-10 04:48:12</td>\n      <td>...</td>\n      <td>2021-01-22 05:20:38</td>\n      <td>3.714286</td>\n      <td>3.5</td>\n      <td>4</td>\n      <td>2017-09-09 04:42:34</td>\n      <td>2019-09-17 04:30:53</td>\n      <td>2017-09-09 04:42:34</td>\n      <td>2021-01-22 05:20:38</td>\n      <td>132</td>\n      <td>True</td>\n    </tr>\n    <tr>\n      <th>tCbdrRPZA0oiIYSmHG3J0w</th>\n      <td>Portland</td>\n      <td>OR</td>\n      <td>45.588906</td>\n      <td>-122.593331</td>\n      <td>1</td>\n      <td>{'RestaurantsTakeOut': 'True', 'RestaurantsAtt...</td>\n      <td>Salad, Soup, Sandwiches, Delis, Restaurants, C...</td>\n      <td>{'Monday': '5:0-18:0', 'Tuesday': '5:0-17:0', ...</td>\n      <td>181</td>\n      <td>2010-04-22 05:31:33</td>\n      <td>...</td>\n      <td>2020-08-06 09:00:59</td>\n      <td>3.500000</td>\n      <td>3.5</td>\n      <td>4</td>\n      <td>2011-05-28 02:06:25</td>\n      <td>2019-06-25 18:21:12</td>\n      <td>2010-03-09 16:02:04</td>\n      <td>2021-01-21 17:55:35</td>\n      <td>209</td>\n      <td>True</td>\n    </tr>\n    <tr>\n      <th>D4JtQNTI4X3KcbzacDJsMw</th>\n      <td>Vancouver</td>\n      <td>BC</td>\n      <td>49.251342</td>\n      <td>-123.101333</td>\n      <td>1</td>\n      <td>{'GoodForKids': 'True', 'Alcohol': 'u'none'', ...</td>\n      <td>Restaurants, Thai</td>\n      <td>{'Monday': '17:0-21:0', 'Tuesday': '17:0-21:0'...</td>\n      <td>42</td>\n      <td>2010-11-06 02:53:03</td>\n      <td>...</td>\n      <td>2020-12-24 21:24:42</td>\n      <td>3.678571</td>\n      <td>3.5</td>\n      <td>3</td>\n      <td>2010-12-02 21:10:51</td>\n      <td>2019-09-01 03:01:29</td>\n      <td>2010-09-26 04:03:35</td>\n      <td>2021-01-23 01:43:50</td>\n      <td>73</td>\n      <td>True</td>\n    </tr>\n  </tbody>\n</table>\n<p>3 rows × 23 columns</p>\n</div>"
     },
     "metadata": {},
     "execution_count": 15
    }
   ],
   "source": [
    "restaurants_df = business_df.loc[business_df[\"categories\"].str.contains(\"Restaurants\") | business_df[\"categories\"].str.contains(\"Food\")]\n",
    "print(f\"There are {len(restaurants_df)} restaurants in the dataset\")\n",
    "\n",
    "restaurants_df.head(3)"
   ]
  },
  {
   "cell_type": "code",
   "execution_count": 16,
   "metadata": {},
   "outputs": [
    {
     "output_type": "stream",
     "name": "stderr",
     "text": [
      "/data/tianqing/Downloads/ENTER/envs/sh_DISCOS/lib/python3.8/site-packages/pandas/core/frame.py:4308: SettingWithCopyWarning: \nA value is trying to be set on a copy of a slice from a DataFrame\n\nSee the caveats in the documentation: https://pandas.pydata.org/pandas-docs/stable/user_guide/indexing.html#returning-a-view-versus-a-copy\n  return super().drop(\n"
     ]
    },
    {
     "output_type": "execute_result",
     "data": {
      "text/plain": [
       "                             city state   latitude   longitude  is_open  \\\n",
       "business_id                                                               \n",
       "6iYb2HFDywm3zjuRg0shjw    Boulder    CO  40.017544 -105.283348        1   \n",
       "tCbdrRPZA0oiIYSmHG3J0w   Portland    OR  45.588906 -122.593331        1   \n",
       "D4JtQNTI4X3KcbzacDJsMw  Vancouver    BC  49.251342 -123.101333        1   \n",
       "\n",
       "                                                               attributes  \\\n",
       "business_id                                                                 \n",
       "6iYb2HFDywm3zjuRg0shjw  {'RestaurantsTableService': 'True', 'WiFi': 'u...   \n",
       "tCbdrRPZA0oiIYSmHG3J0w  {'RestaurantsTakeOut': 'True', 'RestaurantsAtt...   \n",
       "D4JtQNTI4X3KcbzacDJsMw  {'GoodForKids': 'True', 'Alcohol': 'u'none'', ...   \n",
       "\n",
       "                                                               categories  \\\n",
       "business_id                                                                 \n",
       "6iYb2HFDywm3zjuRg0shjw  Gastropubs, Food, Beer Gardens, Restaurants, B...   \n",
       "tCbdrRPZA0oiIYSmHG3J0w  Salad, Soup, Sandwiches, Delis, Restaurants, C...   \n",
       "D4JtQNTI4X3KcbzacDJsMw                                  Restaurants, Thai   \n",
       "\n",
       "                                                                    hours  \\\n",
       "business_id                                                                 \n",
       "6iYb2HFDywm3zjuRg0shjw  {'Monday': '11:0-23:0', 'Tuesday': '11:0-23:0'...   \n",
       "tCbdrRPZA0oiIYSmHG3J0w  {'Monday': '5:0-18:0', 'Tuesday': '5:0-17:0', ...   \n",
       "D4JtQNTI4X3KcbzacDJsMw  {'Monday': '17:0-21:0', 'Tuesday': '17:0-21:0'...   \n",
       "\n",
       "                        checkin_count  review_count  raw_stars  stars  \\\n",
       "business_id                                                             \n",
       "6iYb2HFDywm3zjuRg0shjw             79            49   3.714286    3.5   \n",
       "tCbdrRPZA0oiIYSmHG3J0w            181            24   3.500000    3.5   \n",
       "D4JtQNTI4X3KcbzacDJsMw             42            28   3.678571    3.5   \n",
       "\n",
       "                        tip_count          first_date           last_date  \\\n",
       "business_id                                                                 \n",
       "6iYb2HFDywm3zjuRg0shjw          4 2017-09-09 04:42:34 2021-01-22 05:20:38   \n",
       "tCbdrRPZA0oiIYSmHG3J0w          4 2010-03-09 16:02:04 2021-01-21 17:55:35   \n",
       "D4JtQNTI4X3KcbzacDJsMw          3 2010-09-26 04:03:35 2021-01-23 01:43:50   \n",
       "\n",
       "                        visit_count  is_open_year_after  \n",
       "business_id                                              \n",
       "6iYb2HFDywm3zjuRg0shjw          132                True  \n",
       "tCbdrRPZA0oiIYSmHG3J0w          209                True  \n",
       "D4JtQNTI4X3KcbzacDJsMw           73                True  "
      ],
      "text/html": "<div>\n<style scoped>\n    .dataframe tbody tr th:only-of-type {\n        vertical-align: middle;\n    }\n\n    .dataframe tbody tr th {\n        vertical-align: top;\n    }\n\n    .dataframe thead th {\n        text-align: right;\n    }\n</style>\n<table border=\"1\" class=\"dataframe\">\n  <thead>\n    <tr style=\"text-align: right;\">\n      <th></th>\n      <th>city</th>\n      <th>state</th>\n      <th>latitude</th>\n      <th>longitude</th>\n      <th>is_open</th>\n      <th>attributes</th>\n      <th>categories</th>\n      <th>hours</th>\n      <th>checkin_count</th>\n      <th>review_count</th>\n      <th>raw_stars</th>\n      <th>stars</th>\n      <th>tip_count</th>\n      <th>first_date</th>\n      <th>last_date</th>\n      <th>visit_count</th>\n      <th>is_open_year_after</th>\n    </tr>\n    <tr>\n      <th>business_id</th>\n      <th></th>\n      <th></th>\n      <th></th>\n      <th></th>\n      <th></th>\n      <th></th>\n      <th></th>\n      <th></th>\n      <th></th>\n      <th></th>\n      <th></th>\n      <th></th>\n      <th></th>\n      <th></th>\n      <th></th>\n      <th></th>\n      <th></th>\n    </tr>\n  </thead>\n  <tbody>\n    <tr>\n      <th>6iYb2HFDywm3zjuRg0shjw</th>\n      <td>Boulder</td>\n      <td>CO</td>\n      <td>40.017544</td>\n      <td>-105.283348</td>\n      <td>1</td>\n      <td>{'RestaurantsTableService': 'True', 'WiFi': 'u...</td>\n      <td>Gastropubs, Food, Beer Gardens, Restaurants, B...</td>\n      <td>{'Monday': '11:0-23:0', 'Tuesday': '11:0-23:0'...</td>\n      <td>79</td>\n      <td>49</td>\n      <td>3.714286</td>\n      <td>3.5</td>\n      <td>4</td>\n      <td>2017-09-09 04:42:34</td>\n      <td>2021-01-22 05:20:38</td>\n      <td>132</td>\n      <td>True</td>\n    </tr>\n    <tr>\n      <th>tCbdrRPZA0oiIYSmHG3J0w</th>\n      <td>Portland</td>\n      <td>OR</td>\n      <td>45.588906</td>\n      <td>-122.593331</td>\n      <td>1</td>\n      <td>{'RestaurantsTakeOut': 'True', 'RestaurantsAtt...</td>\n      <td>Salad, Soup, Sandwiches, Delis, Restaurants, C...</td>\n      <td>{'Monday': '5:0-18:0', 'Tuesday': '5:0-17:0', ...</td>\n      <td>181</td>\n      <td>24</td>\n      <td>3.500000</td>\n      <td>3.5</td>\n      <td>4</td>\n      <td>2010-03-09 16:02:04</td>\n      <td>2021-01-21 17:55:35</td>\n      <td>209</td>\n      <td>True</td>\n    </tr>\n    <tr>\n      <th>D4JtQNTI4X3KcbzacDJsMw</th>\n      <td>Vancouver</td>\n      <td>BC</td>\n      <td>49.251342</td>\n      <td>-123.101333</td>\n      <td>1</td>\n      <td>{'GoodForKids': 'True', 'Alcohol': 'u'none'', ...</td>\n      <td>Restaurants, Thai</td>\n      <td>{'Monday': '17:0-21:0', 'Tuesday': '17:0-21:0'...</td>\n      <td>42</td>\n      <td>28</td>\n      <td>3.678571</td>\n      <td>3.5</td>\n      <td>3</td>\n      <td>2010-09-26 04:03:35</td>\n      <td>2021-01-23 01:43:50</td>\n      <td>73</td>\n      <td>True</td>\n    </tr>\n  </tbody>\n</table>\n</div>"
     },
     "metadata": {},
     "execution_count": 16
    }
   ],
   "source": [
    "restaurants_df.drop(columns=[\"first_checkin\", \"first_review\", \"first_tip\", \"last_checkin\", \"last_review\", \"last_tip\"], inplace=True)\n",
    "restaurants_df.head(3)"
   ]
  },
  {
   "cell_type": "code",
   "execution_count": 17,
   "metadata": {},
   "outputs": [],
   "source": [
    "restaurants_df.to_csv(\"datasets/2017-2018_restaurants.csv\")"
   ]
  },
  {
   "source": [
    "## Explanation on columns\n",
    "\n",
    "The dataframe consists of data of restaurants that were already open before or in 2017 and had some activity during 2017-2018 period. Only the data entry between this period was considered; i.e. conceptually, all restaurants are assumed that they started in 2017.\n",
    "\n",
    "* is_open: whether the restaurant is open in 2021.03\n",
    "* is_open_year_later: whether the restaurant was open the year later from the timeframe we considered. i.e. if there was activity record after 2018.12.31 11:59.\n",
    "* checkin, review, tip count: the count of checkin, review, and tip only from 2017-2018.\n",
    "* visit_count: sum of checkin, review, and tip count. Total number of visits in 2017-2018.\n",
    "* stars: average of star ratings from the reviews only from 2017-2018.\n",
    "* first_date, last_date: first and last date any of the activity occured, from the WHOLE timeframe (not just within 2017-2018).\n",
    "    \n",
    "    ```\n",
    "    first date < 2018.01.01, last date >= 2017.01.01\n",
    "    ```"
   ],
   "cell_type": "markdown",
   "metadata": {}
  },
  {
   "cell_type": "code",
   "execution_count": 18,
   "metadata": {},
   "outputs": [
    {
     "output_type": "stream",
     "name": "stderr",
     "text": [
      "<ipython-input-18-43f91036fd92>:1: FutureWarning: Treating datetime data as categorical rather than numeric in `.describe` is deprecated and will be removed in a future version of pandas. Specify `datetime_is_numeric=True` to silence this warning and adopt the future behavior now.\n  restaurants_df[[\"first_date\", \"last_date\"]].describe()\n<ipython-input-18-43f91036fd92>:1: FutureWarning: Treating datetime data as categorical rather than numeric in `.describe` is deprecated and will be removed in a future version of pandas. Specify `datetime_is_numeric=True` to silence this warning and adopt the future behavior now.\n  restaurants_df[[\"first_date\", \"last_date\"]].describe()\n"
     ]
    },
    {
     "output_type": "execute_result",
     "data": {
      "text/plain": [
       "                 first_date            last_date\n",
       "count                 30094                30094\n",
       "unique                30093                30020\n",
       "top     2011-02-03 00:13:31  2021-01-22 23:19:27\n",
       "freq                      2                    3\n",
       "first   2004-10-14 02:57:52  2017-01-18 23:07:21\n",
       "last    2017-12-28 19:49:17  2021-01-28 15:38:54"
      ],
      "text/html": "<div>\n<style scoped>\n    .dataframe tbody tr th:only-of-type {\n        vertical-align: middle;\n    }\n\n    .dataframe tbody tr th {\n        vertical-align: top;\n    }\n\n    .dataframe thead th {\n        text-align: right;\n    }\n</style>\n<table border=\"1\" class=\"dataframe\">\n  <thead>\n    <tr style=\"text-align: right;\">\n      <th></th>\n      <th>first_date</th>\n      <th>last_date</th>\n    </tr>\n  </thead>\n  <tbody>\n    <tr>\n      <th>count</th>\n      <td>30094</td>\n      <td>30094</td>\n    </tr>\n    <tr>\n      <th>unique</th>\n      <td>30093</td>\n      <td>30020</td>\n    </tr>\n    <tr>\n      <th>top</th>\n      <td>2011-02-03 00:13:31</td>\n      <td>2021-01-22 23:19:27</td>\n    </tr>\n    <tr>\n      <th>freq</th>\n      <td>2</td>\n      <td>3</td>\n    </tr>\n    <tr>\n      <th>first</th>\n      <td>2004-10-14 02:57:52</td>\n      <td>2017-01-18 23:07:21</td>\n    </tr>\n    <tr>\n      <th>last</th>\n      <td>2017-12-28 19:49:17</td>\n      <td>2021-01-28 15:38:54</td>\n    </tr>\n  </tbody>\n</table>\n</div>"
     },
     "metadata": {},
     "execution_count": 18
    }
   ],
   "source": [
    "restaurants_df[[\"first_date\", \"last_date\"]].describe()"
   ]
  },
  {
   "cell_type": "code",
   "execution_count": null,
   "metadata": {},
   "outputs": [],
   "source": []
  }
 ],
 "metadata": {
  "kernelspec": {
   "name": "python385jvsc74a57bd05aae779e5a6e43bb4d5a1a18389e0ef17035022d1c59c16f20167bbbbb8edb50",
   "display_name": "Python 3.8.5 64-bit ('sh_DISCOS': conda)"
  },
  "language_info": {
   "codemirror_mode": {
    "name": "ipython",
    "version": 3
   },
   "file_extension": ".py",
   "mimetype": "text/x-python",
   "name": "python",
   "nbconvert_exporter": "python",
   "pygments_lexer": "ipython3",
   "version": "3.8.5"
  },
  "metadata": {
   "interpreter": {
    "hash": "5aae779e5a6e43bb4d5a1a18389e0ef17035022d1c59c16f20167bbbbb8edb50"
   }
  }
 },
 "nbformat": 4,
 "nbformat_minor": 4
}
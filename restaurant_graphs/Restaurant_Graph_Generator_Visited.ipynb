{
 "cells": [
  {
   "cell_type": "markdown",
   "metadata": {},
   "source": [
    "# Heterogeneous Graph Generator\n",
    "Restaurants + Users"
   ]
  },
  {
   "cell_type": "code",
   "execution_count": 1,
   "metadata": {},
   "outputs": [],
   "source": [
    "res_graph_path = \"../graphs/restaurants_MA.gpickle\"\n",
    "user_graph_path = \"../graphs/2017-2018_user_network.gpickle\"\n",
    "user_per_res_path = \"../datasets/2017-2018_visited_users.csv\""
   ]
  },
  {
   "cell_type": "code",
   "execution_count": 2,
   "metadata": {},
   "outputs": [],
   "source": [
    "import pandas as pd\n",
    "import numpy as np\n",
    "import networkx as nx\n",
    "import torch\n",
    "import json "
   ]
  },
  {
   "cell_type": "markdown",
   "metadata": {},
   "source": [
    "## Restaurant Graph"
   ]
  },
  {
   "cell_type": "code",
   "execution_count": 3,
   "metadata": {},
   "outputs": [],
   "source": [
    "restaurant_G = nx.read_gpickle(res_graph_path)"
   ]
  },
  {
   "cell_type": "code",
   "execution_count": 4,
   "metadata": {},
   "outputs": [
    {
     "name": "stdout",
     "output_type": "stream",
     "text": [
      "Number of nodes: 6192\n",
      "Number of edges: 130527\n",
      "Number of features: 537\n"
     ]
    }
   ],
   "source": [
    "print(f\"Number of nodes: {restaurant_G.number_of_nodes()}\")\n",
    "print(f\"Number of edges: {restaurant_G.number_of_edges()}\")\n",
    "print(f\"Number of features: {len(list(restaurant_G.nodes.data())[0][1]['node_feature'])}\")"
   ]
  },
  {
   "cell_type": "code",
   "execution_count": 5,
   "metadata": {},
   "outputs": [
    {
     "data": {
      "text/plain": [
       "('jGennaZUr2MsJyRhijNBfA', 'az0DEo7NfL1Y8IKxLD1L_A', {})"
      ]
     },
     "execution_count": 5,
     "metadata": {},
     "output_type": "execute_result"
    }
   ],
   "source": [
    "list(restaurant_G.edges.data())[0]"
   ]
  },
  {
   "cell_type": "markdown",
   "metadata": {},
   "source": [
    "## Visited Users for Restaurants"
   ]
  },
  {
   "cell_type": "code",
   "execution_count": 6,
   "metadata": {},
   "outputs": [],
   "source": [
    "visited_user_df = pd.read_csv(user_per_res_path)"
   ]
  },
  {
   "cell_type": "code",
   "execution_count": 7,
   "metadata": {},
   "outputs": [
    {
     "data": {
      "text/html": [
       "<div>\n",
       "<style scoped>\n",
       "    .dataframe tbody tr th:only-of-type {\n",
       "        vertical-align: middle;\n",
       "    }\n",
       "\n",
       "    .dataframe tbody tr th {\n",
       "        vertical-align: top;\n",
       "    }\n",
       "\n",
       "    .dataframe thead th {\n",
       "        text-align: right;\n",
       "    }\n",
       "</style>\n",
       "<table border=\"1\" class=\"dataframe\">\n",
       "  <thead>\n",
       "    <tr style=\"text-align: right;\">\n",
       "      <th></th>\n",
       "      <th>business_id</th>\n",
       "      <th>user_ids</th>\n",
       "    </tr>\n",
       "  </thead>\n",
       "  <tbody>\n",
       "    <tr>\n",
       "      <th>0</th>\n",
       "      <td>--6COJIAjkQwSUZci_4PJQ</td>\n",
       "      <td>['kkSI0sYOzMXBzofb17U8Qw', 'mRyIfVHIJN6wwR3hnT...</td>\n",
       "    </tr>\n",
       "    <tr>\n",
       "      <th>1</th>\n",
       "      <td>--UNNdnHRhsyFUbDgumdtQ</td>\n",
       "      <td>['386nVS_BRsZBG5k3tO1LeQ', 'DEjRvKAJWCrjCaEP-F...</td>\n",
       "    </tr>\n",
       "    <tr>\n",
       "      <th>2</th>\n",
       "      <td>--bbZa1KPYSmW0X4o3TUQw</td>\n",
       "      <td>['6tJZrZYLmXLBx7HrpFmN-Q', 'tBRlSyCXalfAxLH2j9...</td>\n",
       "    </tr>\n",
       "  </tbody>\n",
       "</table>\n",
       "</div>"
      ],
      "text/plain": [
       "              business_id                                           user_ids\n",
       "0  --6COJIAjkQwSUZci_4PJQ  ['kkSI0sYOzMXBzofb17U8Qw', 'mRyIfVHIJN6wwR3hnT...\n",
       "1  --UNNdnHRhsyFUbDgumdtQ  ['386nVS_BRsZBG5k3tO1LeQ', 'DEjRvKAJWCrjCaEP-F...\n",
       "2  --bbZa1KPYSmW0X4o3TUQw  ['6tJZrZYLmXLBx7HrpFmN-Q', 'tBRlSyCXalfAxLH2j9..."
      ]
     },
     "execution_count": 7,
     "metadata": {},
     "output_type": "execute_result"
    }
   ],
   "source": [
    "visited_user_df.head(3)"
   ]
  },
  {
   "cell_type": "markdown",
   "metadata": {},
   "source": [
    "## Creating Dictionnary of Restaurants visited by a user"
   ]
  },
  {
   "cell_type": "code",
   "execution_count": 8,
   "metadata": {},
   "outputs": [],
   "source": [
    "restaurants_visited_by_user = {}\n",
    "\n",
    "for index, row in visited_user_df.iterrows():\n",
    "    restaurant_id = row[\"business_id\"]\n",
    "    user_ids = json.loads(row[\"user_ids\"].replace(\"'\", \"\\\"\"))\n",
    "    \n",
    "    for user_id in user_ids:\n",
    "        if user_id in restaurants_visited_by_user:\n",
    "            restaurants_visited_by_user[user_id].append(restaurant_id)\n",
    "        else:\n",
    "            restaurants_visited_by_user[user_id] = [restaurant_id]"
   ]
  },
  {
   "cell_type": "markdown",
   "metadata": {},
   "source": [
    "## Creating New Graph"
   ]
  },
  {
   "cell_type": "code",
   "execution_count": 9,
   "metadata": {},
   "outputs": [],
   "source": [
    "G = nx.Graph()"
   ]
  },
  {
   "cell_type": "code",
   "execution_count": 10,
   "metadata": {},
   "outputs": [],
   "source": [
    "# Adding Restaurants Nodes\n",
    "restaurant_nodes = list(restaurant_G.nodes.data())\n",
    "all_restaurant_ids = []\n",
    "\n",
    "for node in restaurant_nodes:\n",
    "    restaurant_id = node[0]\n",
    "    restaurant_node_label = node[1][\"node_label\"]\n",
    "    restaurant_node_feature = node[1][\"node_feature\"]\n",
    "    \n",
    "    G.add_node(restaurant_id,\n",
    "               node_label=restaurant_node_label,\n",
    "               node_feature=restaurant_node_feature,\n",
    "               node_type=\"restaurant\")\n",
    "    all_restaurant_ids.append(restaurant_id)"
   ]
  },
  {
   "cell_type": "code",
   "execution_count": 11,
   "metadata": {},
   "outputs": [
    {
     "name": "stdout",
     "output_type": "stream",
     "text": [
      "Number of nodes: 6192\n",
      "Number of edges: 0\n"
     ]
    }
   ],
   "source": [
    "print(f\"Number of nodes: {G.number_of_nodes()}\")\n",
    "print(f\"Number of edges: {G.number_of_edges()}\")"
   ]
  },
  {
   "cell_type": "code",
   "execution_count": 12,
   "metadata": {},
   "outputs": [],
   "source": [
    "all_restaurant_edges = []\n",
    "\n",
    "for user_id, restaurant_ids in restaurants_visited_by_user.items():\n",
    "    for i in range(len(restaurant_ids)):\n",
    "        for j in range(i+1, len(restaurant_ids)):\n",
    "            G.add_edge(restaurant_ids[i], restaurant_ids[j])\n",
    "            all_restaurant_edges.append(restaurant_ids[i])\n",
    "            all_restaurant_edges.append(restaurant_ids[j])"
   ]
  },
  {
   "cell_type": "code",
   "execution_count": 13,
   "metadata": {},
   "outputs": [
    {
     "name": "stdout",
     "output_type": "stream",
     "text": [
      "Number of nodes: 29991\n",
      "Number of edges: 6228685\n"
     ]
    }
   ],
   "source": [
    "print(f\"Number of nodes: {G.number_of_nodes()}\")\n",
    "print(f\"Number of edges: {G.number_of_edges()}\")"
   ]
  },
  {
   "cell_type": "code",
   "execution_count": 14,
   "metadata": {},
   "outputs": [
    {
     "name": "stdout",
     "output_type": "stream",
     "text": [
      "23799\n"
     ]
    }
   ],
   "source": [
    "a = set(all_restaurant_ids)\n",
    "b = set(all_restaurant_edges)\n",
    "\n",
    "diff = b - a\n",
    "print(len(diff))"
   ]
  },
  {
   "cell_type": "code",
   "execution_count": 15,
   "metadata": {},
   "outputs": [],
   "source": [
    "G.remove_nodes_from(list(diff))"
   ]
  },
  {
   "cell_type": "code",
   "execution_count": 16,
   "metadata": {},
   "outputs": [
    {
     "name": "stdout",
     "output_type": "stream",
     "text": [
      "Number of nodes: 6192\n",
      "Number of edges: 1134956\n"
     ]
    }
   ],
   "source": [
    "print(f\"Number of nodes: {G.number_of_nodes()}\")\n",
    "print(f\"Number of edges: {G.number_of_edges()}\")"
   ]
  },
  {
   "cell_type": "markdown",
   "metadata": {},
   "source": [
    "## Write Graph to disk"
   ]
  },
  {
   "cell_type": "code",
   "execution_count": 17,
   "metadata": {},
   "outputs": [],
   "source": [
    "nx.write_gpickle(G, \"graph_visited_edges_MA.gpickle\")"
   ]
  },
  {
   "cell_type": "code",
   "execution_count": null,
   "metadata": {},
   "outputs": [],
   "source": []
  }
 ],
 "metadata": {
  "kernelspec": {
   "display_name": "Python 3",
   "language": "python",
   "name": "python3"
  },
  "language_info": {
   "codemirror_mode": {
    "name": "ipython",
    "version": 3
   },
   "file_extension": ".py",
   "mimetype": "text/x-python",
   "name": "python",
   "nbconvert_exporter": "python",
   "pygments_lexer": "ipython3",
   "version": "3.7.0"
  }
 },
 "nbformat": 4,
 "nbformat_minor": 2
}

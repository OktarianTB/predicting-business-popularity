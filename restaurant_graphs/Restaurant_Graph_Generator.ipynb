{
 "cells": [
  {
   "cell_type": "markdown",
   "metadata": {},
   "source": [
    "## Restaurant Graph Generator"
   ]
  },
  {
   "cell_type": "code",
   "execution_count": 39,
   "metadata": {},
   "outputs": [],
   "source": [
    "parameters = {\n",
    "    \"features\": {\n",
    "        \"attributes\": True,\n",
    "        \"categories\": (True,\n",
    "                       [(1, 50)]),\n",
    "        \"city\": True,\n",
    "        \"state\": True,\n",
    "        \"temporal_skew\": True,\n",
    "        \"temporal_alignment\": False,\n",
    "        \"node_degree\": False,\n",
    "        \"user_influence\": True\n",
    "    },\n",
    "    \"distance\": 500, # Maximum distance between nodes\n",
    "    \"filename\": \"../graphs/restaurants_user_influence2\",\n",
    "}"
   ]
  },
  {
   "cell_type": "code",
   "execution_count": 2,
   "metadata": {},
   "outputs": [],
   "source": [
    "import pandas as pd\n",
    "import numpy as np\n",
    "import networkx as nx\n",
    "import torch\n",
    "import json "
   ]
  },
  {
   "cell_type": "markdown",
   "metadata": {},
   "source": [
    "### Read Data"
   ]
  },
  {
   "cell_type": "code",
   "execution_count": 3,
   "metadata": {},
   "outputs": [],
   "source": [
    "restaurants_df = pd.read_csv(\"../datasets/2017-2018_restaurants.csv\")\n",
    "edges_df = pd.read_csv(\"../datasets/2017-2018_restaurant-edges.csv\")"
   ]
  },
  {
   "cell_type": "code",
   "execution_count": 4,
   "metadata": {},
   "outputs": [
    {
     "data": {
      "text/html": "<div>\n<style scoped>\n    .dataframe tbody tr th:only-of-type {\n        vertical-align: middle;\n    }\n\n    .dataframe tbody tr th {\n        vertical-align: top;\n    }\n\n    .dataframe thead th {\n        text-align: right;\n    }\n</style>\n<table border=\"1\" class=\"dataframe\">\n  <thead>\n    <tr style=\"text-align: right;\">\n      <th></th>\n      <th>business_id</th>\n      <th>city</th>\n      <th>state</th>\n      <th>latitude</th>\n      <th>longitude</th>\n      <th>is_open</th>\n      <th>attributes</th>\n      <th>categories</th>\n      <th>hours</th>\n      <th>checkin_count</th>\n      <th>review_count</th>\n      <th>raw_stars</th>\n      <th>stars</th>\n      <th>weighted_stars</th>\n      <th>tip_count</th>\n      <th>first_date</th>\n      <th>last_date</th>\n      <th>visit_count</th>\n      <th>is_open_year_after</th>\n    </tr>\n  </thead>\n  <tbody>\n    <tr>\n      <th>0</th>\n      <td>6iYb2HFDywm3zjuRg0shjw</td>\n      <td>Boulder</td>\n      <td>CO</td>\n      <td>40.017544</td>\n      <td>-105.283348</td>\n      <td>1</td>\n      <td>{'RestaurantsTableService': 'True', 'WiFi': \"u...</td>\n      <td>Gastropubs, Food, Beer Gardens, Restaurants, B...</td>\n      <td>{'Monday': '11:0-23:0', 'Tuesday': '11:0-23:0'...</td>\n      <td>79</td>\n      <td>49</td>\n      <td>3.714286</td>\n      <td>3.5</td>\n      <td>2.827977</td>\n      <td>4</td>\n      <td>2017-09-09 04:42:34</td>\n      <td>2021-01-22 05:20:38</td>\n      <td>132</td>\n      <td>True</td>\n    </tr>\n    <tr>\n      <th>1</th>\n      <td>tCbdrRPZA0oiIYSmHG3J0w</td>\n      <td>Portland</td>\n      <td>OR</td>\n      <td>45.588906</td>\n      <td>-122.593331</td>\n      <td>1</td>\n      <td>{'RestaurantsTakeOut': 'True', 'RestaurantsAtt...</td>\n      <td>Salad, Soup, Sandwiches, Delis, Restaurants, C...</td>\n      <td>{'Monday': '5:0-18:0', 'Tuesday': '5:0-17:0', ...</td>\n      <td>181</td>\n      <td>24</td>\n      <td>3.500000</td>\n      <td>3.5</td>\n      <td>2.734268</td>\n      <td>4</td>\n      <td>2010-03-09 16:02:04</td>\n      <td>2021-01-21 17:55:35</td>\n      <td>209</td>\n      <td>True</td>\n    </tr>\n  </tbody>\n</table>\n</div>",
      "text/plain": "              business_id      city state   latitude   longitude  is_open  \\\n0  6iYb2HFDywm3zjuRg0shjw   Boulder    CO  40.017544 -105.283348        1   \n1  tCbdrRPZA0oiIYSmHG3J0w  Portland    OR  45.588906 -122.593331        1   \n\n                                          attributes  \\\n0  {'RestaurantsTableService': 'True', 'WiFi': \"u...   \n1  {'RestaurantsTakeOut': 'True', 'RestaurantsAtt...   \n\n                                          categories  \\\n0  Gastropubs, Food, Beer Gardens, Restaurants, B...   \n1  Salad, Soup, Sandwiches, Delis, Restaurants, C...   \n\n                                               hours  checkin_count  \\\n0  {'Monday': '11:0-23:0', 'Tuesday': '11:0-23:0'...             79   \n1  {'Monday': '5:0-18:0', 'Tuesday': '5:0-17:0', ...            181   \n\n   review_count  raw_stars  stars  weighted_stars  tip_count  \\\n0            49   3.714286    3.5        2.827977          4   \n1            24   3.500000    3.5        2.734268          4   \n\n            first_date            last_date  visit_count  is_open_year_after  \n0  2017-09-09 04:42:34  2021-01-22 05:20:38          132                True  \n1  2010-03-09 16:02:04  2021-01-21 17:55:35          209                True  "
     },
     "execution_count": 4,
     "metadata": {},
     "output_type": "execute_result"
    }
   ],
   "source": [
    "restaurants_df.head(2)"
   ]
  },
  {
   "cell_type": "code",
   "execution_count": 5,
   "metadata": {},
   "outputs": [
    {
     "data": {
      "text/html": "<div>\n<style scoped>\n    .dataframe tbody tr th:only-of-type {\n        vertical-align: middle;\n    }\n\n    .dataframe tbody tr th {\n        vertical-align: top;\n    }\n\n    .dataframe thead th {\n        text-align: right;\n    }\n</style>\n<table border=\"1\" class=\"dataframe\">\n  <thead>\n    <tr style=\"text-align: right;\">\n      <th></th>\n      <th>id1</th>\n      <th>id2</th>\n      <th>distance</th>\n    </tr>\n  </thead>\n  <tbody>\n    <tr>\n      <th>0</th>\n      <td>Q2vefh0tGhtCGQDK1FI7cw</td>\n      <td>ssK5vKQ_eN0VyGoYKOmkeQ</td>\n      <td>441</td>\n    </tr>\n    <tr>\n      <th>1</th>\n      <td>Q2vefh0tGhtCGQDK1FI7cw</td>\n      <td>tSZTPA7uERhWkKq_jbl3Eg</td>\n      <td>209</td>\n    </tr>\n    <tr>\n      <th>2</th>\n      <td>Q2vefh0tGhtCGQDK1FI7cw</td>\n      <td>bSy6VVJIdYPza1Bj9_Eicw</td>\n      <td>450</td>\n    </tr>\n  </tbody>\n</table>\n</div>",
      "text/plain": "                      id1                     id2  distance\n0  Q2vefh0tGhtCGQDK1FI7cw  ssK5vKQ_eN0VyGoYKOmkeQ       441\n1  Q2vefh0tGhtCGQDK1FI7cw  tSZTPA7uERhWkKq_jbl3Eg       209\n2  Q2vefh0tGhtCGQDK1FI7cw  bSy6VVJIdYPza1Bj9_Eicw       450"
     },
     "execution_count": 5,
     "metadata": {},
     "output_type": "execute_result"
    }
   ],
   "source": [
    "edges_df.head(3)"
   ]
  },
  {
   "cell_type": "code",
   "execution_count": 6,
   "metadata": {},
   "outputs": [],
   "source": [
    "# Remove rows where stars is NaN\n",
    "restaurants_df = restaurants_df[restaurants_df['stars'].notna()]"
   ]
  },
  {
   "cell_type": "code",
   "execution_count": 7,
   "metadata": {},
   "outputs": [
    {
     "name": "stdout",
     "output_type": "stream",
     "text": [
      "There are 29963 restaurants and 494203 edges.\n"
     ]
    }
   ],
   "source": [
    "print(f\"There are {len(restaurants_df)} restaurants and {len(edges_df)} edges.\")"
   ]
  },
  {
   "cell_type": "code",
   "execution_count": 8,
   "metadata": {},
   "outputs": [
    {
     "data": {
      "text/html": "<div>\n<style scoped>\n    .dataframe tbody tr th:only-of-type {\n        vertical-align: middle;\n    }\n\n    .dataframe tbody tr th {\n        vertical-align: top;\n    }\n\n    .dataframe thead th {\n        text-align: right;\n    }\n</style>\n<table border=\"1\" class=\"dataframe\">\n  <thead>\n    <tr style=\"text-align: right;\">\n      <th></th>\n      <th>business_id</th>\n      <th>user_ids</th>\n    </tr>\n  </thead>\n  <tbody>\n    <tr>\n      <th>0</th>\n      <td>--6COJIAjkQwSUZci_4PJQ</td>\n      <td>['kkSI0sYOzMXBzofb17U8Qw', 'mRyIfVHIJN6wwR3hnT...</td>\n    </tr>\n    <tr>\n      <th>1</th>\n      <td>--UNNdnHRhsyFUbDgumdtQ</td>\n      <td>['386nVS_BRsZBG5k3tO1LeQ', 'DEjRvKAJWCrjCaEP-F...</td>\n    </tr>\n    <tr>\n      <th>2</th>\n      <td>--bbZa1KPYSmW0X4o3TUQw</td>\n      <td>['6tJZrZYLmXLBx7HrpFmN-Q', 'tBRlSyCXalfAxLH2j9...</td>\n    </tr>\n    <tr>\n      <th>3</th>\n      <td>--hkbIWgBKBOZq4VcNwdhQ</td>\n      <td>['vO-RYeLAdBMkVOJu3fy7Kg', 'vUIydOj8gaNwXaTXTF...</td>\n    </tr>\n    <tr>\n      <th>4</th>\n      <td>--oGYZhLMMvwfHmtyYJVxQ</td>\n      <td>['vdMJFmbbDe0nDQr9-CjiGw', 'OMbCPxSkHKUldqFVwf...</td>\n    </tr>\n  </tbody>\n</table>\n</div>",
      "text/plain": "              business_id                                           user_ids\n0  --6COJIAjkQwSUZci_4PJQ  ['kkSI0sYOzMXBzofb17U8Qw', 'mRyIfVHIJN6wwR3hnT...\n1  --UNNdnHRhsyFUbDgumdtQ  ['386nVS_BRsZBG5k3tO1LeQ', 'DEjRvKAJWCrjCaEP-F...\n2  --bbZa1KPYSmW0X4o3TUQw  ['6tJZrZYLmXLBx7HrpFmN-Q', 'tBRlSyCXalfAxLH2j9...\n3  --hkbIWgBKBOZq4VcNwdhQ  ['vO-RYeLAdBMkVOJu3fy7Kg', 'vUIydOj8gaNwXaTXTF...\n4  --oGYZhLMMvwfHmtyYJVxQ  ['vdMJFmbbDe0nDQr9-CjiGw', 'OMbCPxSkHKUldqFVwf..."
     },
     "execution_count": 8,
     "metadata": {},
     "output_type": "execute_result"
    }
   ],
   "source": [
    "visited_user_df = pd.read_csv(\"../datasets/2017-2018_visited_users.csv\")\n",
    "visited_user_df.head()"
   ]
  },
  {
   "cell_type": "code",
   "execution_count": 9,
   "metadata": {},
   "outputs": [],
   "source": [
    "user_G = nx.read_gpickle(\"../graphs/2017-2018_user_network.gpickle\")"
   ]
  },
  {
   "cell_type": "markdown",
   "metadata": {},
   "source": [
    "### Calculate Popularity Category"
   ]
  },
  {
   "cell_type": "code",
   "execution_count": 10,
   "metadata": {},
   "outputs": [],
   "source": [
    "from restaurant_utils import calculate_popularity\n",
    "\n",
    "restaurants_df = calculate_popularity(restaurants_df)"
   ]
  },
  {
   "cell_type": "markdown",
   "metadata": {},
   "source": [
    "### Extract attributes into columns\n",
    "**Attributes supported:** RestaurantsPriceRange2, OutdoorSeating, RestaurantsGoodForGroups, BusinessAcceptsCreditCards, GoodForKids, RestaurantsDelivery, Caters, RestaurantsTakeOut, WheelchairAccessible, WiFi"
   ]
  },
  {
   "cell_type": "code",
   "execution_count": 11,
   "metadata": {},
   "outputs": [],
   "source": [
    "from restaurant_utils import extract_attributes\n",
    "\n",
    "if parameters[\"features\"][\"attributes\"]:\n",
    "    # Necessary as attributes are stored as JSON\n",
    "    all_business_df = pd.read_json('../yelp/yelp_academic_dataset_business.json', lines=True)\n",
    "    all_business_df = all_business_df[[\"business_id\", \"attributes\"]]\n",
    "\n",
    "    restaurants_df = extract_attributes(restaurants_df, all_business_df)"
   ]
  },
  {
   "cell_type": "code",
   "execution_count": 12,
   "metadata": {},
   "outputs": [
    {
     "data": {
      "text/html": "<div>\n<style scoped>\n    .dataframe tbody tr th:only-of-type {\n        vertical-align: middle;\n    }\n\n    .dataframe tbody tr th {\n        vertical-align: top;\n    }\n\n    .dataframe thead th {\n        text-align: right;\n    }\n</style>\n<table border=\"1\" class=\"dataframe\">\n  <thead>\n    <tr style=\"text-align: right;\">\n      <th></th>\n      <th>business_id</th>\n      <th>city</th>\n      <th>state</th>\n      <th>latitude</th>\n      <th>longitude</th>\n      <th>is_open</th>\n      <th>categories</th>\n      <th>hours</th>\n      <th>checkin_count</th>\n      <th>review_count</th>\n      <th>...</th>\n      <th>RestaurantsPriceRange2</th>\n      <th>WiFi</th>\n      <th>OutdoorSeating</th>\n      <th>RestaurantsGoodForGroups</th>\n      <th>BusinessAcceptsCreditCards</th>\n      <th>GoodForKids</th>\n      <th>RestaurantsDelivery</th>\n      <th>Caters</th>\n      <th>WheelchairAccessible</th>\n      <th>RestaurantsTakeOut</th>\n    </tr>\n  </thead>\n  <tbody>\n    <tr>\n      <th>0</th>\n      <td>6iYb2HFDywm3zjuRg0shjw</td>\n      <td>Boulder</td>\n      <td>CO</td>\n      <td>40.017544</td>\n      <td>-105.283348</td>\n      <td>1</td>\n      <td>Gastropubs, Food, Beer Gardens, Restaurants, B...</td>\n      <td>{'Monday': '11:0-23:0', 'Tuesday': '11:0-23:0'...</td>\n      <td>79</td>\n      <td>49</td>\n      <td>...</td>\n      <td>2</td>\n      <td>1</td>\n      <td>1</td>\n      <td>1</td>\n      <td>1</td>\n      <td>0</td>\n      <td>1</td>\n      <td>1</td>\n      <td>1</td>\n      <td>1</td>\n    </tr>\n    <tr>\n      <th>1</th>\n      <td>tCbdrRPZA0oiIYSmHG3J0w</td>\n      <td>Portland</td>\n      <td>OR</td>\n      <td>45.588906</td>\n      <td>-122.593331</td>\n      <td>1</td>\n      <td>Salad, Soup, Sandwiches, Delis, Restaurants, C...</td>\n      <td>{'Monday': '5:0-18:0', 'Tuesday': '5:0-17:0', ...</td>\n      <td>181</td>\n      <td>24</td>\n      <td>...</td>\n      <td>2</td>\n      <td>1</td>\n      <td>1</td>\n      <td>1</td>\n      <td>1</td>\n      <td>1</td>\n      <td>1</td>\n      <td>1</td>\n      <td>0</td>\n      <td>1</td>\n    </tr>\n    <tr>\n      <th>2</th>\n      <td>D4JtQNTI4X3KcbzacDJsMw</td>\n      <td>Vancouver</td>\n      <td>BC</td>\n      <td>49.251342</td>\n      <td>-123.101333</td>\n      <td>1</td>\n      <td>Restaurants, Thai</td>\n      <td>{'Monday': '17:0-21:0', 'Tuesday': '17:0-21:0'...</td>\n      <td>42</td>\n      <td>28</td>\n      <td>...</td>\n      <td>2</td>\n      <td>0</td>\n      <td>1</td>\n      <td>1</td>\n      <td>0</td>\n      <td>1</td>\n      <td>1</td>\n      <td>1</td>\n      <td>0</td>\n      <td>1</td>\n    </tr>\n  </tbody>\n</table>\n<p>3 rows × 30 columns</p>\n</div>",
      "text/plain": "              business_id       city state   latitude   longitude  is_open  \\\n0  6iYb2HFDywm3zjuRg0shjw    Boulder    CO  40.017544 -105.283348        1   \n1  tCbdrRPZA0oiIYSmHG3J0w   Portland    OR  45.588906 -122.593331        1   \n2  D4JtQNTI4X3KcbzacDJsMw  Vancouver    BC  49.251342 -123.101333        1   \n\n                                          categories  \\\n0  Gastropubs, Food, Beer Gardens, Restaurants, B...   \n1  Salad, Soup, Sandwiches, Delis, Restaurants, C...   \n2                                  Restaurants, Thai   \n\n                                               hours  checkin_count  \\\n0  {'Monday': '11:0-23:0', 'Tuesday': '11:0-23:0'...             79   \n1  {'Monday': '5:0-18:0', 'Tuesday': '5:0-17:0', ...            181   \n2  {'Monday': '17:0-21:0', 'Tuesday': '17:0-21:0'...             42   \n\n   review_count  ...  RestaurantsPriceRange2  WiFi  OutdoorSeating  \\\n0            49  ...                       2     1               1   \n1            24  ...                       2     1               1   \n2            28  ...                       2     0               1   \n\n   RestaurantsGoodForGroups BusinessAcceptsCreditCards GoodForKids  \\\n0                         1                          1           0   \n1                         1                          1           1   \n2                         1                          0           1   \n\n   RestaurantsDelivery  Caters  WheelchairAccessible  RestaurantsTakeOut  \n0                    1       1                     1                   1  \n1                    1       1                     0                   1  \n2                    1       1                     0                   1  \n\n[3 rows x 30 columns]"
     },
     "execution_count": 12,
     "metadata": {},
     "output_type": "execute_result"
    }
   ],
   "source": [
    "restaurants_df.head(3)"
   ]
  },
  {
   "cell_type": "markdown",
   "metadata": {},
   "source": [
    "### Get top categories pairs"
   ]
  },
  {
   "cell_type": "code",
   "execution_count": 13,
   "metadata": {},
   "outputs": [],
   "source": [
    "from restaurant_utils import get_top_k_p_combinations, get_cat2idx, get_category_features\n",
    "top_categories = []\n",
    "\n",
    "for num_comb, topk in parameters[\"features\"][\"categories\"][1]:\n",
    "    top_categories += get_top_k_p_combinations(restaurants_df, num_comb, topk)"
   ]
  },
  {
   "cell_type": "code",
   "execution_count": 14,
   "metadata": {},
   "outputs": [
    {
     "data": {
      "text/plain": "[('Nightlife',),\n ('Bars',),\n ('American (Traditional)',),\n ('Coffee & Tea',),\n ('Sandwiches',),\n ('Breakfast & Brunch',),\n ('American (New)',),\n ('Pizza',),\n ('Fast Food',),\n ('Burgers',),\n ('Mexican',),\n ('Chinese',),\n ('Italian',),\n ('Specialty Food',),\n ('Seafood',),\n ('Event Planning & Services',),\n ('Salad',),\n ('Desserts',),\n ('Bakeries',),\n ('Japanese',),\n ('Cafes',),\n ('Grocery',),\n ('Beer',),\n ('Wine & Spirits',),\n ('Shopping',),\n ('Sushi Bars',),\n ('Caterers',),\n ('Ice Cream & Frozen Yogurt',),\n ('Chicken Wings',),\n ('Asian Fusion',),\n ('Food Trucks',),\n ('Cocktail Bars',),\n ('Pubs',),\n ('Delis',),\n ('Sports Bars',),\n ('Vegetarian',),\n ('Juice Bars & Smoothies',),\n ('Mediterranean',),\n ('Barbeque',),\n ('Thai',),\n ('Diners',),\n ('Steakhouses',),\n ('Arts & Entertainment',),\n ('Wine Bars',),\n ('Soup',),\n ('Tex-Mex',),\n ('Gluten-Free',),\n ('Vegan',),\n ('Vietnamese',),\n ('Convenience Stores',)]"
     },
     "execution_count": 14,
     "metadata": {},
     "output_type": "execute_result"
    }
   ],
   "source": [
    "top_categories"
   ]
  },
  {
   "cell_type": "code",
   "execution_count": 15,
   "metadata": {},
   "outputs": [],
   "source": [
    "cat2idx, idx2cat = get_cat2idx(restaurants_df, parameters[\"features\"][\"categories\"][1][0][1])"
   ]
  },
  {
   "cell_type": "code",
   "execution_count": 16,
   "metadata": {},
   "outputs": [],
   "source": [
    "restaurants_df = get_category_features(restaurants_df, cat2idx, top_categories)"
   ]
  },
  {
   "cell_type": "code",
   "execution_count": 17,
   "metadata": {},
   "outputs": [
    {
     "data": {
      "text/html": "<div>\n<style scoped>\n    .dataframe tbody tr th:only-of-type {\n        vertical-align: middle;\n    }\n\n    .dataframe tbody tr th {\n        vertical-align: top;\n    }\n\n    .dataframe thead th {\n        text-align: right;\n    }\n</style>\n<table border=\"1\" class=\"dataframe\">\n  <thead>\n    <tr style=\"text-align: right;\">\n      <th></th>\n      <th>business_id</th>\n      <th>city</th>\n      <th>state</th>\n      <th>latitude</th>\n      <th>longitude</th>\n      <th>is_open</th>\n      <th>categories</th>\n      <th>hours</th>\n      <th>checkin_count</th>\n      <th>review_count</th>\n      <th>...</th>\n      <th>OutdoorSeating</th>\n      <th>RestaurantsGoodForGroups</th>\n      <th>BusinessAcceptsCreditCards</th>\n      <th>GoodForKids</th>\n      <th>RestaurantsDelivery</th>\n      <th>Caters</th>\n      <th>WheelchairAccessible</th>\n      <th>RestaurantsTakeOut</th>\n      <th>top_categories_vector</th>\n      <th>top_categories_combination_vector</th>\n    </tr>\n  </thead>\n  <tbody>\n    <tr>\n      <th>0</th>\n      <td>6iYb2HFDywm3zjuRg0shjw</td>\n      <td>Boulder</td>\n      <td>CO</td>\n      <td>40.017544</td>\n      <td>-105.283348</td>\n      <td>1</td>\n      <td>Gastropubs, Food, Beer Gardens, Restaurants, B...</td>\n      <td>{'Monday': '11:0-23:0', 'Tuesday': '11:0-23:0'...</td>\n      <td>79</td>\n      <td>49</td>\n      <td>...</td>\n      <td>1</td>\n      <td>1</td>\n      <td>1</td>\n      <td>0</td>\n      <td>1</td>\n      <td>1</td>\n      <td>1</td>\n      <td>1</td>\n      <td>[1.0, 1.0, 1.0, 1.0, 0.0, 0.0, 0.0, 0.0, 0.0, ...</td>\n      <td>[1.0, 1.0, 1.0, 0.0, 0.0, 0.0, 0.0, 0.0, 0.0, ...</td>\n    </tr>\n    <tr>\n      <th>1</th>\n      <td>tCbdrRPZA0oiIYSmHG3J0w</td>\n      <td>Portland</td>\n      <td>OR</td>\n      <td>45.588906</td>\n      <td>-122.593331</td>\n      <td>1</td>\n      <td>Salad, Soup, Sandwiches, Delis, Restaurants, C...</td>\n      <td>{'Monday': '5:0-18:0', 'Tuesday': '5:0-17:0', ...</td>\n      <td>181</td>\n      <td>24</td>\n      <td>...</td>\n      <td>1</td>\n      <td>1</td>\n      <td>1</td>\n      <td>1</td>\n      <td>1</td>\n      <td>1</td>\n      <td>0</td>\n      <td>1</td>\n      <td>[1.0, 0.0, 0.0, 0.0, 0.0, 1.0, 0.0, 0.0, 0.0, ...</td>\n      <td>[0.0, 0.0, 0.0, 0.0, 1.0, 0.0, 0.0, 0.0, 0.0, ...</td>\n    </tr>\n  </tbody>\n</table>\n<p>2 rows × 32 columns</p>\n</div>",
      "text/plain": "              business_id      city state   latitude   longitude  is_open  \\\n0  6iYb2HFDywm3zjuRg0shjw   Boulder    CO  40.017544 -105.283348        1   \n1  tCbdrRPZA0oiIYSmHG3J0w  Portland    OR  45.588906 -122.593331        1   \n\n                                          categories  \\\n0  Gastropubs, Food, Beer Gardens, Restaurants, B...   \n1  Salad, Soup, Sandwiches, Delis, Restaurants, C...   \n\n                                               hours  checkin_count  \\\n0  {'Monday': '11:0-23:0', 'Tuesday': '11:0-23:0'...             79   \n1  {'Monday': '5:0-18:0', 'Tuesday': '5:0-17:0', ...            181   \n\n   review_count  ...  OutdoorSeating  RestaurantsGoodForGroups  \\\n0            49  ...               1                         1   \n1            24  ...               1                         1   \n\n   BusinessAcceptsCreditCards  GoodForKids RestaurantsDelivery Caters  \\\n0                           1            0                   1      1   \n1                           1            1                   1      1   \n\n   WheelchairAccessible  RestaurantsTakeOut  \\\n0                     1                   1   \n1                     0                   1   \n\n                               top_categories_vector  \\\n0  [1.0, 1.0, 1.0, 1.0, 0.0, 0.0, 0.0, 0.0, 0.0, ...   \n1  [1.0, 0.0, 0.0, 0.0, 0.0, 1.0, 0.0, 0.0, 0.0, ...   \n\n                   top_categories_combination_vector  \n0  [1.0, 1.0, 1.0, 0.0, 0.0, 0.0, 0.0, 0.0, 0.0, ...  \n1  [0.0, 0.0, 0.0, 0.0, 1.0, 0.0, 0.0, 0.0, 0.0, ...  \n\n[2 rows x 32 columns]"
     },
     "execution_count": 17,
     "metadata": {},
     "output_type": "execute_result"
    }
   ],
   "source": [
    "restaurants_df.head(2)"
   ]
  },
  {
   "cell_type": "markdown",
   "metadata": {},
   "source": [
    "### Encode Extra: City and States"
   ]
  },
  {
   "cell_type": "code",
   "execution_count": 18,
   "metadata": {},
   "outputs": [],
   "source": [
    "from restaurant_utils import get_encoder, encode_cities_states, to_categorical"
   ]
  },
  {
   "cell_type": "code",
   "execution_count": 19,
   "metadata": {},
   "outputs": [],
   "source": [
    "encoder = get_encoder(restaurants_df)\n",
    "restaurants_df = encode_cities_states(restaurants_df, encoder)"
   ]
  },
  {
   "cell_type": "code",
   "execution_count": 20,
   "metadata": {},
   "outputs": [
    {
     "data": {
      "text/html": "<div>\n<style scoped>\n    .dataframe tbody tr th:only-of-type {\n        vertical-align: middle;\n    }\n\n    .dataframe tbody tr th {\n        vertical-align: top;\n    }\n\n    .dataframe thead th {\n        text-align: right;\n    }\n</style>\n<table border=\"1\" class=\"dataframe\">\n  <thead>\n    <tr style=\"text-align: right;\">\n      <th></th>\n      <th>business_id</th>\n      <th>city</th>\n      <th>state</th>\n      <th>latitude</th>\n      <th>longitude</th>\n      <th>is_open</th>\n      <th>categories</th>\n      <th>hours</th>\n      <th>checkin_count</th>\n      <th>review_count</th>\n      <th>...</th>\n      <th>BusinessAcceptsCreditCards</th>\n      <th>GoodForKids</th>\n      <th>RestaurantsDelivery</th>\n      <th>Caters</th>\n      <th>WheelchairAccessible</th>\n      <th>RestaurantsTakeOut</th>\n      <th>top_categories_vector</th>\n      <th>top_categories_combination_vector</th>\n      <th>city_idx</th>\n      <th>state_idx</th>\n    </tr>\n  </thead>\n  <tbody>\n    <tr>\n      <th>0</th>\n      <td>6iYb2HFDywm3zjuRg0shjw</td>\n      <td>Boulder</td>\n      <td>CO</td>\n      <td>40.017544</td>\n      <td>-105.283348</td>\n      <td>1</td>\n      <td>Gastropubs, Food, Beer Gardens, Restaurants, B...</td>\n      <td>{'Monday': '11:0-23:0', 'Tuesday': '11:0-23:0'...</td>\n      <td>79</td>\n      <td>49</td>\n      <td>...</td>\n      <td>1</td>\n      <td>0</td>\n      <td>1</td>\n      <td>1</td>\n      <td>1</td>\n      <td>1</td>\n      <td>[1.0, 1.0, 1.0, 1.0, 0.0, 0.0, 0.0, 0.0, 0.0, ...</td>\n      <td>[1.0, 1.0, 1.0, 0.0, 0.0, 0.0, 0.0, 0.0, 0.0, ...</td>\n      <td>1</td>\n      <td>1</td>\n    </tr>\n    <tr>\n      <th>1</th>\n      <td>tCbdrRPZA0oiIYSmHG3J0w</td>\n      <td>Portland</td>\n      <td>OR</td>\n      <td>45.588906</td>\n      <td>-122.593331</td>\n      <td>1</td>\n      <td>Salad, Soup, Sandwiches, Delis, Restaurants, C...</td>\n      <td>{'Monday': '5:0-18:0', 'Tuesday': '5:0-17:0', ...</td>\n      <td>181</td>\n      <td>24</td>\n      <td>...</td>\n      <td>1</td>\n      <td>1</td>\n      <td>1</td>\n      <td>1</td>\n      <td>0</td>\n      <td>1</td>\n      <td>[1.0, 0.0, 0.0, 0.0, 0.0, 1.0, 0.0, 0.0, 0.0, ...</td>\n      <td>[0.0, 0.0, 0.0, 0.0, 1.0, 0.0, 0.0, 0.0, 0.0, ...</td>\n      <td>2</td>\n      <td>2</td>\n    </tr>\n    <tr>\n      <th>2</th>\n      <td>D4JtQNTI4X3KcbzacDJsMw</td>\n      <td>Vancouver</td>\n      <td>BC</td>\n      <td>49.251342</td>\n      <td>-123.101333</td>\n      <td>1</td>\n      <td>Restaurants, Thai</td>\n      <td>{'Monday': '17:0-21:0', 'Tuesday': '17:0-21:0'...</td>\n      <td>42</td>\n      <td>28</td>\n      <td>...</td>\n      <td>0</td>\n      <td>1</td>\n      <td>1</td>\n      <td>1</td>\n      <td>0</td>\n      <td>1</td>\n      <td>[1.0, 0.0, 0.0, 0.0, 0.0, 0.0, 0.0, 0.0, 0.0, ...</td>\n      <td>[0.0, 0.0, 0.0, 0.0, 0.0, 0.0, 0.0, 0.0, 0.0, ...</td>\n      <td>3</td>\n      <td>3</td>\n    </tr>\n  </tbody>\n</table>\n<p>3 rows × 34 columns</p>\n</div>",
      "text/plain": "              business_id       city state   latitude   longitude  is_open  \\\n0  6iYb2HFDywm3zjuRg0shjw    Boulder    CO  40.017544 -105.283348        1   \n1  tCbdrRPZA0oiIYSmHG3J0w   Portland    OR  45.588906 -122.593331        1   \n2  D4JtQNTI4X3KcbzacDJsMw  Vancouver    BC  49.251342 -123.101333        1   \n\n                                          categories  \\\n0  Gastropubs, Food, Beer Gardens, Restaurants, B...   \n1  Salad, Soup, Sandwiches, Delis, Restaurants, C...   \n2                                  Restaurants, Thai   \n\n                                               hours  checkin_count  \\\n0  {'Monday': '11:0-23:0', 'Tuesday': '11:0-23:0'...             79   \n1  {'Monday': '5:0-18:0', 'Tuesday': '5:0-17:0', ...            181   \n2  {'Monday': '17:0-21:0', 'Tuesday': '17:0-21:0'...             42   \n\n   review_count  ...  BusinessAcceptsCreditCards  GoodForKids  \\\n0            49  ...                           1            0   \n1            24  ...                           1            1   \n2            28  ...                           0            1   \n\n   RestaurantsDelivery  Caters WheelchairAccessible RestaurantsTakeOut  \\\n0                    1       1                    1                  1   \n1                    1       1                    0                  1   \n2                    1       1                    0                  1   \n\n                               top_categories_vector  \\\n0  [1.0, 1.0, 1.0, 1.0, 0.0, 0.0, 0.0, 0.0, 0.0, ...   \n1  [1.0, 0.0, 0.0, 0.0, 0.0, 1.0, 0.0, 0.0, 0.0, ...   \n2  [1.0, 0.0, 0.0, 0.0, 0.0, 0.0, 0.0, 0.0, 0.0, ...   \n\n                   top_categories_combination_vector  city_idx  state_idx  \n0  [1.0, 1.0, 1.0, 0.0, 0.0, 0.0, 0.0, 0.0, 0.0, ...         1          1  \n1  [0.0, 0.0, 0.0, 0.0, 1.0, 0.0, 0.0, 0.0, 0.0, ...         2          2  \n2  [0.0, 0.0, 0.0, 0.0, 0.0, 0.0, 0.0, 0.0, 0.0, ...         3          3  \n\n[3 rows x 34 columns]"
     },
     "execution_count": 20,
     "metadata": {},
     "output_type": "execute_result"
    }
   ],
   "source": [
    "restaurants_df.head(3)"
   ]
  },
  {
   "cell_type": "markdown",
   "metadata": {},
   "source": [
    "### Temporal Popularity Skew"
   ]
  },
  {
   "cell_type": "code",
   "execution_count": 21,
   "metadata": {},
   "outputs": [
    {
     "data": {
      "text/html": "<div>\n<style scoped>\n    .dataframe tbody tr th:only-of-type {\n        vertical-align: middle;\n    }\n\n    .dataframe tbody tr th {\n        vertical-align: top;\n    }\n\n    .dataframe thead th {\n        text-align: right;\n    }\n</style>\n<table border=\"1\" class=\"dataframe\">\n  <thead>\n    <tr style=\"text-align: right;\">\n      <th></th>\n      <th>business_id</th>\n      <th>date</th>\n    </tr>\n  </thead>\n  <tbody>\n    <tr>\n      <th>0</th>\n      <td>--0r8K_AQ4FZfLsX3ZYRDA</td>\n      <td>2017-09-03 17:13:59</td>\n    </tr>\n    <tr>\n      <th>1</th>\n      <td>--0zrn43LEaB4jUWTQH_Bg</td>\n      <td>2010-10-08 22:21:20, 2010-11-01 21:29:14, 2010...</td>\n    </tr>\n    <tr>\n      <th>2</th>\n      <td>--164t1nclzzmca7eDiJMw</td>\n      <td>2010-02-26 02:06:53, 2010-02-27 08:00:09, 2010...</td>\n    </tr>\n  </tbody>\n</table>\n</div>",
      "text/plain": "              business_id                                               date\n0  --0r8K_AQ4FZfLsX3ZYRDA                                2017-09-03 17:13:59\n1  --0zrn43LEaB4jUWTQH_Bg  2010-10-08 22:21:20, 2010-11-01 21:29:14, 2010...\n2  --164t1nclzzmca7eDiJMw  2010-02-26 02:06:53, 2010-02-27 08:00:09, 2010..."
     },
     "execution_count": 21,
     "metadata": {},
     "output_type": "execute_result"
    }
   ],
   "source": [
    "all_checkins_df = pd.read_json('../yelp/yelp_academic_dataset_checkin.json', lines=True)\n",
    "all_checkins_df.head(3)"
   ]
  },
  {
   "cell_type": "code",
   "execution_count": 22,
   "metadata": {},
   "outputs": [],
   "source": [
    "from restaurant_utils import get_temporal_skew\n",
    "\n",
    "if parameters[\"features\"][\"temporal_skew\"]:\n",
    "    restaurants_df = get_temporal_skew(restaurants_df, all_checkins_df)"
   ]
  },
  {
   "cell_type": "code",
   "execution_count": 23,
   "metadata": {},
   "outputs": [
    {
     "data": {
      "text/html": "<div>\n<style scoped>\n    .dataframe tbody tr th:only-of-type {\n        vertical-align: middle;\n    }\n\n    .dataframe tbody tr th {\n        vertical-align: top;\n    }\n\n    .dataframe thead th {\n        text-align: right;\n    }\n</style>\n<table border=\"1\" class=\"dataframe\">\n  <thead>\n    <tr style=\"text-align: right;\">\n      <th></th>\n      <th>business_id</th>\n      <th>city</th>\n      <th>state</th>\n      <th>latitude</th>\n      <th>longitude</th>\n      <th>is_open</th>\n      <th>categories</th>\n      <th>hours</th>\n      <th>checkin_count</th>\n      <th>review_count</th>\n      <th>...</th>\n      <th>Caters</th>\n      <th>WheelchairAccessible</th>\n      <th>RestaurantsTakeOut</th>\n      <th>top_categories_vector</th>\n      <th>top_categories_combination_vector</th>\n      <th>city_idx</th>\n      <th>state_idx</th>\n      <th>date</th>\n      <th>temporal_profile</th>\n      <th>temporal_skew</th>\n    </tr>\n  </thead>\n  <tbody>\n    <tr>\n      <th>0</th>\n      <td>6iYb2HFDywm3zjuRg0shjw</td>\n      <td>Boulder</td>\n      <td>CO</td>\n      <td>40.017544</td>\n      <td>-105.283348</td>\n      <td>1</td>\n      <td>Gastropubs, Food, Beer Gardens, Restaurants, B...</td>\n      <td>{'Monday': '11:0-23:0', 'Tuesday': '11:0-23:0'...</td>\n      <td>79</td>\n      <td>49</td>\n      <td>...</td>\n      <td>1</td>\n      <td>1</td>\n      <td>1</td>\n      <td>[1.0, 1.0, 1.0, 1.0, 0.0, 0.0, 0.0, 0.0, 0.0, ...</td>\n      <td>[1.0, 1.0, 1.0, 0.0, 0.0, 0.0, 0.0, 0.0, 0.0, ...</td>\n      <td>1</td>\n      <td>1</td>\n      <td>2017-09-10 04:48:12, 2017-09-10 04:49:28, 2017...</td>\n      <td>[0.14, 0.11, 0.11, 0.04, 0.02, 0.0, 0.01, 0.0,...</td>\n      <td>2.351</td>\n    </tr>\n    <tr>\n      <th>1</th>\n      <td>tCbdrRPZA0oiIYSmHG3J0w</td>\n      <td>Portland</td>\n      <td>OR</td>\n      <td>45.588906</td>\n      <td>-122.593331</td>\n      <td>1</td>\n      <td>Salad, Soup, Sandwiches, Delis, Restaurants, C...</td>\n      <td>{'Monday': '5:0-18:0', 'Tuesday': '5:0-17:0', ...</td>\n      <td>181</td>\n      <td>24</td>\n      <td>...</td>\n      <td>1</td>\n      <td>0</td>\n      <td>1</td>\n      <td>[1.0, 0.0, 0.0, 0.0, 0.0, 1.0, 0.0, 0.0, 0.0, ...</td>\n      <td>[0.0, 0.0, 0.0, 0.0, 1.0, 0.0, 0.0, 0.0, 0.0, ...</td>\n      <td>2</td>\n      <td>2</td>\n      <td>2010-04-22 05:31:33, 2010-05-09 18:24:50, 2010...</td>\n      <td>[0.04, 0.03, 0.03, 0.03, 0.01, 0.01, 0.0, 0.0,...</td>\n      <td>2.637</td>\n    </tr>\n    <tr>\n      <th>2</th>\n      <td>D4JtQNTI4X3KcbzacDJsMw</td>\n      <td>Vancouver</td>\n      <td>BC</td>\n      <td>49.251342</td>\n      <td>-123.101333</td>\n      <td>1</td>\n      <td>Restaurants, Thai</td>\n      <td>{'Monday': '17:0-21:0', 'Tuesday': '17:0-21:0'...</td>\n      <td>42</td>\n      <td>28</td>\n      <td>...</td>\n      <td>1</td>\n      <td>0</td>\n      <td>1</td>\n      <td>[1.0, 0.0, 0.0, 0.0, 0.0, 0.0, 0.0, 0.0, 0.0, ...</td>\n      <td>[0.0, 0.0, 0.0, 0.0, 0.0, 0.0, 0.0, 0.0, 0.0, ...</td>\n      <td>3</td>\n      <td>3</td>\n      <td>2010-11-06 02:53:03, 2010-11-29 02:16:55, 2010...</td>\n      <td>[0.1, 0.15, 0.22, 0.15, 0.05, 0.02, 0.0, 0.0, ...</td>\n      <td>2.210</td>\n    </tr>\n    <tr>\n      <th>3</th>\n      <td>ufCxltuh56FF4-ZFZ6cVhg</td>\n      <td>Orlando</td>\n      <td>FL</td>\n      <td>28.513265</td>\n      <td>-81.374707</td>\n      <td>1</td>\n      <td>Restaurants, American (New), Bakeries, Dessert...</td>\n      <td>{'Tuesday': '11:0-18:0', 'Wednesday': '11:0-18...</td>\n      <td>42</td>\n      <td>38</td>\n      <td>...</td>\n      <td>1</td>\n      <td>0</td>\n      <td>1</td>\n      <td>[1.0, 0.0, 0.0, 0.0, 0.0, 0.0, 0.0, 1.0, 0.0, ...</td>\n      <td>[0.0, 0.0, 0.0, 0.0, 0.0, 0.0, 1.0, 0.0, 0.0, ...</td>\n      <td>4</td>\n      <td>4</td>\n      <td>2012-08-29 22:10:36, 2012-09-11 18:11:11, 2012...</td>\n      <td>[0.0, 0.0, 0.0, 0.02, 0.0, 0.0, 0.0, 0.0, 0.0,...</td>\n      <td>2.219</td>\n    </tr>\n    <tr>\n      <th>4</th>\n      <td>dmbbf3AqeG61_QHRZi1M1w</td>\n      <td>Pine Castle</td>\n      <td>FL</td>\n      <td>28.450302</td>\n      <td>-81.380587</td>\n      <td>1</td>\n      <td>Automotive, American (Traditional), Gas Statio...</td>\n      <td>NaN</td>\n      <td>4</td>\n      <td>3</td>\n      <td>...</td>\n      <td>0</td>\n      <td>0</td>\n      <td>1</td>\n      <td>[1.0, 0.0, 0.0, 1.0, 0.0, 0.0, 0.0, 0.0, 0.0, ...</td>\n      <td>[0.0, 0.0, 1.0, 0.0, 0.0, 0.0, 0.0, 0.0, 0.0, ...</td>\n      <td>5</td>\n      <td>4</td>\n      <td>2015-06-11 16:44:12, 2016-01-12 16:31:22, 2016...</td>\n      <td>[0.04, 0.08, 0.0, 0.0, 0.0, 0.0, 0.04, 0.0, 0....</td>\n      <td>2.466</td>\n    </tr>\n  </tbody>\n</table>\n<p>5 rows × 37 columns</p>\n</div>",
      "text/plain": "              business_id         city state   latitude   longitude  is_open  \\\n0  6iYb2HFDywm3zjuRg0shjw      Boulder    CO  40.017544 -105.283348        1   \n1  tCbdrRPZA0oiIYSmHG3J0w     Portland    OR  45.588906 -122.593331        1   \n2  D4JtQNTI4X3KcbzacDJsMw    Vancouver    BC  49.251342 -123.101333        1   \n3  ufCxltuh56FF4-ZFZ6cVhg      Orlando    FL  28.513265  -81.374707        1   \n4  dmbbf3AqeG61_QHRZi1M1w  Pine Castle    FL  28.450302  -81.380587        1   \n\n                                          categories  \\\n0  Gastropubs, Food, Beer Gardens, Restaurants, B...   \n1  Salad, Soup, Sandwiches, Delis, Restaurants, C...   \n2                                  Restaurants, Thai   \n3  Restaurants, American (New), Bakeries, Dessert...   \n4  Automotive, American (Traditional), Gas Statio...   \n\n                                               hours  checkin_count  \\\n0  {'Monday': '11:0-23:0', 'Tuesday': '11:0-23:0'...             79   \n1  {'Monday': '5:0-18:0', 'Tuesday': '5:0-17:0', ...            181   \n2  {'Monday': '17:0-21:0', 'Tuesday': '17:0-21:0'...             42   \n3  {'Tuesday': '11:0-18:0', 'Wednesday': '11:0-18...             42   \n4                                                NaN              4   \n\n   review_count  ...  Caters  WheelchairAccessible  RestaurantsTakeOut  \\\n0            49  ...       1                     1                   1   \n1            24  ...       1                     0                   1   \n2            28  ...       1                     0                   1   \n3            38  ...       1                     0                   1   \n4             3  ...       0                     0                   1   \n\n                               top_categories_vector  \\\n0  [1.0, 1.0, 1.0, 1.0, 0.0, 0.0, 0.0, 0.0, 0.0, ...   \n1  [1.0, 0.0, 0.0, 0.0, 0.0, 1.0, 0.0, 0.0, 0.0, ...   \n2  [1.0, 0.0, 0.0, 0.0, 0.0, 0.0, 0.0, 0.0, 0.0, ...   \n3  [1.0, 0.0, 0.0, 0.0, 0.0, 0.0, 0.0, 1.0, 0.0, ...   \n4  [1.0, 0.0, 0.0, 1.0, 0.0, 0.0, 0.0, 0.0, 0.0, ...   \n\n                   top_categories_combination_vector city_idx  state_idx  \\\n0  [1.0, 1.0, 1.0, 0.0, 0.0, 0.0, 0.0, 0.0, 0.0, ...        1          1   \n1  [0.0, 0.0, 0.0, 0.0, 1.0, 0.0, 0.0, 0.0, 0.0, ...        2          2   \n2  [0.0, 0.0, 0.0, 0.0, 0.0, 0.0, 0.0, 0.0, 0.0, ...        3          3   \n3  [0.0, 0.0, 0.0, 0.0, 0.0, 0.0, 1.0, 0.0, 0.0, ...        4          4   \n4  [0.0, 0.0, 1.0, 0.0, 0.0, 0.0, 0.0, 0.0, 0.0, ...        5          4   \n\n                                                date  \\\n0  2017-09-10 04:48:12, 2017-09-10 04:49:28, 2017...   \n1  2010-04-22 05:31:33, 2010-05-09 18:24:50, 2010...   \n2  2010-11-06 02:53:03, 2010-11-29 02:16:55, 2010...   \n3  2012-08-29 22:10:36, 2012-09-11 18:11:11, 2012...   \n4  2015-06-11 16:44:12, 2016-01-12 16:31:22, 2016...   \n\n                                    temporal_profile  temporal_skew  \n0  [0.14, 0.11, 0.11, 0.04, 0.02, 0.0, 0.01, 0.0,...          2.351  \n1  [0.04, 0.03, 0.03, 0.03, 0.01, 0.01, 0.0, 0.0,...          2.637  \n2  [0.1, 0.15, 0.22, 0.15, 0.05, 0.02, 0.0, 0.0, ...          2.210  \n3  [0.0, 0.0, 0.0, 0.02, 0.0, 0.0, 0.0, 0.0, 0.0,...          2.219  \n4  [0.04, 0.08, 0.0, 0.0, 0.0, 0.0, 0.04, 0.0, 0....          2.466  \n\n[5 rows x 37 columns]"
     },
     "execution_count": 23,
     "metadata": {},
     "output_type": "execute_result"
    }
   ],
   "source": [
    "restaurants_df.head(5)"
   ]
  },
  {
   "cell_type": "code",
   "execution_count": 24,
   "metadata": {},
   "outputs": [
    {
     "name": "stdout",
     "output_type": "stream",
     "text": [
      "count    29963.000000\n",
      "mean         2.316869\n",
      "std          0.317786\n",
      "min         -0.001000\n",
      "25%          2.188000\n",
      "50%          2.352000\n",
      "75%          2.504000\n",
      "max          3.166000\n",
      "Name: temporal_skew, dtype: float64\n"
     ]
    }
   ],
   "source": [
    "if parameters[\"features\"][\"temporal_skew\"]:\n",
    "    print(restaurants_df[\"temporal_skew\"].describe())"
   ]
  },
  {
   "cell_type": "markdown",
   "metadata": {},
   "source": [
    "### Generate Graph"
   ]
  },
  {
   "cell_type": "code",
   "execution_count": 25,
   "metadata": {},
   "outputs": [],
   "source": [
    "G = nx.Graph()"
   ]
  },
  {
   "cell_type": "code",
   "execution_count": 26,
   "metadata": {},
   "outputs": [
    {
     "name": "stdout",
     "output_type": "stream",
     "text": [
      "Added 10 features for attributes\n",
      "Added 365 features for city\n",
      "Added 10 features for state\n",
      "Added 1 features for temporal skew\n"
     ]
    }
   ],
   "source": [
    "from restaurant_utils import get_categories\n",
    "\n",
    "# nodes\n",
    "if parameters[\"features\"][\"attributes\"]:\n",
    "    features = restaurants_df[[\n",
    "        \"OutdoorSeating\", \"RestaurantsGoodForGroups\", \"BusinessAcceptsCreditCards\", \"WiFi\", \"RestaurantsPriceRange2\",\n",
    "        \"GoodForKids\", \"RestaurantsDelivery\", \"Caters\", \"WheelchairAccessible\", \"RestaurantsTakeOut\"\n",
    "    ]].values\n",
    "    print(f\"Added {len(features[0])} features for attributes\")\n",
    "\n",
    "if parameters[\"features\"][\"categories\"][0]:\n",
    "    feat = np.stack(restaurants_df[\"top_categories_vector\"].values)\n",
    "    features = np.concatenate([features, feat], axis=1)\n",
    "\n",
    "    if len(parameters[\"features\"][\"categories\"][1]) > 1:  # category combinations exists\n",
    "        feat = np.stack(restaurants_df[\"top_categories_combination_vector\"].values)\n",
    "        features = np.concatenate([features, feat], axis=1)\n",
    "    \n",
    "if parameters[\"features\"][\"city\"]:\n",
    "    feat = to_categorical(restaurants_df[\"city_idx\"],\n",
    "                          num_classes=restaurants_df[\"city_idx\"].max() + 1)\n",
    "    features = np.concatenate([features, feat], axis=1)\n",
    "    print(f\"Added {len(feat[0])} features for city\")\n",
    "\n",
    "if parameters[\"features\"][\"state\"]:\n",
    "    feat = to_categorical(restaurants_df[\"state_idx\"],\n",
    "                          num_classes=restaurants_df[\"state_idx\"].max() + 1)\n",
    "    features = np.concatenate([features, feat], axis=1)\n",
    "    print(f\"Added {len(feat[0])} features for state\")\n",
    "\n",
    "if parameters[\"features\"][\"temporal_skew\"]:\n",
    "    feat = restaurants_df[\"temporal_skew\"].values\n",
    "    count = len(features)\n",
    "    feat = np.reshape(feat, (count, 1))\n",
    "    features = np.concatenate([features, feat], axis=1)\n",
    "    print(f\"Added {len(feat[0])} features for temporal skew\")\n",
    "    \n",
    "node_label = restaurants_df[\"popularity\"].values  # [num_nodes,]\n",
    "\n",
    "for index, row in restaurants_df.iterrows():\n",
    "    G.add_node(row[\"business_id\"],\n",
    "               node_label=node_label[index],\n",
    "               node_feature=features[index],\n",
    "               node_type=\"restaurant\")"
   ]
  },
  {
   "cell_type": "code",
   "execution_count": 27,
   "metadata": {},
   "outputs": [],
   "source": [
    "# edges\n",
    "for index, row in edges_df.iterrows():\n",
    "    node1 = row[\"id1\"]\n",
    "    node2 = row[\"id2\"]\n",
    "    if node1 not in G.nodes or node2 not in G.nodes:\n",
    "        continue\n",
    "    dist = row[\"distance\"]\n",
    "\n",
    "    if dist <= parameters[\"distance\"]:\n",
    "        G.add_edge(node1, node2)"
   ]
  },
  {
   "cell_type": "code",
   "execution_count": 28,
   "metadata": {},
   "outputs": [],
   "source": [
    "ids = list(G.nodes)"
   ]
  },
  {
   "cell_type": "markdown",
   "metadata": {},
   "source": [
    "### Temporal Alignment of Restaurant to its Locality\n",
    "Locality is defined as the restaurants it is connected to with an edge"
   ]
  },
  {
   "cell_type": "code",
   "execution_count": 29,
   "metadata": {},
   "outputs": [],
   "source": [
    "if parameters[\"features\"][\"temporal_alignment\"]:\n",
    "    for index, row in restaurants_df.iterrows():\n",
    "        node_id = row[\"business_id\"]\n",
    "        profile = row[\"temporal_profile\"]\n",
    "\n",
    "        neighbors = list(G[node_id])\n",
    "        locality_profile = [0] * 24\n",
    "        for neighbor_id in neighbors:\n",
    "            neighbor_row = restaurants_df.loc[restaurants_df['business_id'] == neighbor_id]\n",
    "            neighbor_profile = list(neighbor_row[\"temporal_profile\"])[0]\n",
    "            new_locality_profile = [locality_profile[i] + neighbor_profile[i] for i in range(24)]\n",
    "            locality_profile = new_locality_profile\n",
    "\n",
    "        if len(neighbors) > 0:\n",
    "            locality_profile_normalized = [round(lp/len(neighbors), 2) for lp in locality_profile]\n",
    "        else:\n",
    "            locality_profile_normalized = locality_profile\n",
    "\n",
    "        alignment = 0\n",
    "        for i in range(24):\n",
    "            alignment += (profile[i] - locality_profile_normalized[i])**2\n",
    "        alignment = round(alignment, 3)\n",
    "\n",
    "        G.nodes[node_id][\"node_feature\"] = np.append(G.nodes[node_id][\"node_feature\"], alignment)\n",
    "\n",
    "        if index % 1000 == 0:\n",
    "            print(index)"
   ]
  },
  {
   "cell_type": "markdown",
   "metadata": {},
   "source": [
    "### Node Degree"
   ]
  },
  {
   "cell_type": "code",
   "execution_count": 30,
   "metadata": {},
   "outputs": [],
   "source": [
    "if parameters[\"features\"][\"node_degree\"]:\n",
    "    degrees_dict = {node:val for (node, val) in G.degree()}\n",
    "    max_degree = max([val for (node, val) in G.degree()])\n",
    "    \n",
    "    for node_id in ids:\n",
    "        node_degree = round(degrees_dict[node_id] / max_degree, 3)\n",
    "        G.nodes[node_id][\"node_feature\"] = np.append(G.nodes[node_id][\"node_feature\"], node_degree)"
   ]
  },
  {
   "cell_type": "markdown",
   "metadata": {},
   "source": [
    "### User Influence"
   ]
  },
  {
   "cell_type": "code",
   "execution_count": 31,
   "metadata": {},
   "outputs": [],
   "source": [
    "if parameters[\"features\"][\"user_influence\"]:\n",
    "    restaurants_visited_by_user = {}\n",
    "    users_that_visited_restaurant = {}\n",
    "\n",
    "    for index, row in visited_user_df.iterrows():\n",
    "        restaurant_id = row[\"business_id\"]\n",
    "        user_ids = json.loads(row[\"user_ids\"].replace(\"'\", \"\\\"\"))\n",
    "\n",
    "        for user_id in user_ids:\n",
    "            if user_id in restaurants_visited_by_user:\n",
    "                restaurants_visited_by_user[user_id].append(restaurant_id)\n",
    "            else:\n",
    "                restaurants_visited_by_user[user_id] = [restaurant_id]\n",
    "            \n",
    "        users_that_visited_restaurant[restaurant_id] = user_ids "
   ]
  },
  {
   "cell_type": "code",
   "execution_count": 32,
   "metadata": {},
   "outputs": [],
   "source": [
    "if parameters[\"features\"][\"user_influence\"]:\n",
    "    user_edges = list(user_G.edges.data())\n",
    "    friends = {}\n",
    "    \n",
    "    for edge in user_edges:\n",
    "        node1 = edge[0]\n",
    "        node2 = edge[1]\n",
    "        \n",
    "        if node1 in friends:\n",
    "            friends[node1].append(node2)\n",
    "        else:\n",
    "            friends[node1] = [node2]\n",
    "            \n",
    "        if node2 in friends:\n",
    "            friends[node2].append(node1)\n",
    "        else:\n",
    "            friends[node2] = [node1]"
   ]
  },
  {
   "cell_type": "code",
   "execution_count": 33,
   "metadata": {},
   "outputs": [],
   "source": [
    "if parameters[\"features\"][\"user_influence\"]:\n",
    "    for node_id in ids:\n",
    "        shared_friends = 0\n",
    "        total = 1\n",
    "        \n",
    "        if node_id in users_that_visited_restaurant:\n",
    "            users = users_that_visited_restaurant[node_id]\n",
    "            \n",
    "            for i in range(len(users)):\n",
    "                for j in range(i + 1, len(users)):\n",
    "                    total += 1\n",
    "                    if users[i] in friends:\n",
    "                        if users[j] in friends[users[i]]:\n",
    "                            shared_friends += 1\n",
    "        \n",
    "        ratio = round(shared_friends / total, 3) \n",
    "        G.nodes[node_id][\"node_feature\"] = np.append(G.nodes[node_id][\"node_feature\"], shared_friends)\n",
    "        G.nodes[node_id][\"node_feature\"] = np.append(G.nodes[node_id][\"node_feature\"], ratio)"
   ]
  },
  {
   "cell_type": "markdown",
   "metadata": {},
   "source": [
    "### Summary"
   ]
  },
  {
   "cell_type": "code",
   "execution_count": 34,
   "metadata": {},
   "outputs": [],
   "source": [
    "for node_id in ids:\n",
    "    G.nodes[node_id][\"node_feature\"] = torch.FloatTensor(G.nodes[node_id][\"node_feature\"])"
   ]
  },
  {
   "cell_type": "code",
   "execution_count": 35,
   "metadata": {},
   "outputs": [
    {
     "name": "stdout",
     "output_type": "stream",
     "text": [
      "Number of nodes: 29963\n",
      "Number of edges: 491371\n",
      "Number of features: 439\n"
     ]
    }
   ],
   "source": [
    "print(f\"Number of nodes: {G.number_of_nodes()}\")\n",
    "print(f\"Number of edges: {G.number_of_edges()}\")\n",
    "print(f\"Number of features: {len(list(G.nodes.data())[0][1]['node_feature'])}\")"
   ]
  },
  {
   "cell_type": "code",
   "execution_count": 36,
   "metadata": {},
   "outputs": [
    {
     "data": {
      "text/plain": "tensor([ 0.0000,  0.0000,  1.0000,  0.0000,  2.0000,  0.0000,  0.0000,  1.0000,\n         0.0000,  1.0000,  1.0000,  0.0000,  0.0000,  0.0000,  0.0000,  0.0000,\n         0.0000,  0.0000,  0.0000,  0.0000,  0.0000,  0.0000,  0.0000,  0.0000,\n         0.0000,  0.0000,  0.0000,  0.0000,  0.0000,  1.0000,  0.0000,  0.0000,\n         1.0000,  0.0000,  0.0000,  0.0000,  0.0000,  0.0000,  0.0000,  0.0000,\n         0.0000,  0.0000,  0.0000,  0.0000,  0.0000,  0.0000,  0.0000,  0.0000,\n         0.0000,  0.0000,  0.0000,  0.0000,  0.0000,  0.0000,  0.0000,  0.0000,\n         0.0000,  0.0000,  0.0000,  0.0000,  1.0000,  0.0000,  0.0000,  0.0000,\n         0.0000,  0.0000,  0.0000,  0.0000,  0.0000,  0.0000,  0.0000,  1.0000,\n         0.0000,  0.0000,  0.0000,  0.0000,  0.0000,  0.0000,  0.0000,  0.0000,\n         0.0000,  0.0000,  0.0000,  0.0000,  0.0000,  0.0000,  0.0000,  0.0000,\n         0.0000,  0.0000,  0.0000,  0.0000,  0.0000,  0.0000,  0.0000,  0.0000,\n         0.0000,  0.0000,  0.0000,  0.0000,  0.0000,  0.0000,  0.0000,  0.0000,\n         0.0000,  0.0000,  0.0000,  0.0000,  0.0000,  0.0000,  0.0000,  0.0000,\n         0.0000,  0.0000,  0.0000,  0.0000,  0.0000,  0.0000,  0.0000,  0.0000,\n         0.0000,  0.0000,  0.0000,  0.0000,  0.0000,  0.0000,  0.0000,  0.0000,\n         0.0000,  0.0000,  0.0000,  0.0000,  0.0000,  0.0000,  0.0000,  0.0000,\n         0.0000,  0.0000,  0.0000,  0.0000,  0.0000,  0.0000,  0.0000,  0.0000,\n         0.0000,  0.0000,  0.0000,  0.0000,  0.0000,  0.0000,  0.0000,  0.0000,\n         0.0000,  0.0000,  0.0000,  0.0000,  0.0000,  0.0000,  0.0000,  0.0000,\n         0.0000,  0.0000,  0.0000,  0.0000,  0.0000,  0.0000,  0.0000,  0.0000,\n         0.0000,  0.0000,  0.0000,  0.0000,  0.0000,  0.0000,  0.0000,  0.0000,\n         0.0000,  0.0000,  0.0000,  0.0000,  0.0000,  0.0000,  0.0000,  0.0000,\n         0.0000,  0.0000,  0.0000,  0.0000,  0.0000,  0.0000,  0.0000,  0.0000,\n         0.0000,  0.0000,  0.0000,  0.0000,  0.0000,  0.0000,  0.0000,  0.0000,\n         0.0000,  0.0000,  0.0000,  0.0000,  0.0000,  0.0000,  0.0000,  0.0000,\n         0.0000,  0.0000,  0.0000,  0.0000,  0.0000,  0.0000,  0.0000,  0.0000,\n         0.0000,  0.0000,  0.0000,  0.0000,  0.0000,  0.0000,  0.0000,  0.0000,\n         0.0000,  0.0000,  0.0000,  0.0000,  0.0000,  0.0000,  0.0000,  0.0000,\n         0.0000,  0.0000,  0.0000,  0.0000,  0.0000,  0.0000,  0.0000,  0.0000,\n         0.0000,  0.0000,  0.0000,  0.0000,  0.0000,  0.0000,  0.0000,  0.0000,\n         0.0000,  0.0000,  0.0000,  0.0000,  0.0000,  0.0000,  0.0000,  0.0000,\n         0.0000,  0.0000,  0.0000,  0.0000,  0.0000,  0.0000,  0.0000,  0.0000,\n         0.0000,  0.0000,  0.0000,  0.0000,  0.0000,  0.0000,  0.0000,  0.0000,\n         0.0000,  0.0000,  0.0000,  0.0000,  0.0000,  0.0000,  0.0000,  0.0000,\n         0.0000,  0.0000,  0.0000,  0.0000,  0.0000,  0.0000,  0.0000,  0.0000,\n         0.0000,  0.0000,  0.0000,  0.0000,  0.0000,  0.0000,  0.0000,  0.0000,\n         0.0000,  0.0000,  0.0000,  0.0000,  0.0000,  0.0000,  0.0000,  0.0000,\n         0.0000,  0.0000,  0.0000,  0.0000,  0.0000,  0.0000,  0.0000,  0.0000,\n         0.0000,  0.0000,  0.0000,  0.0000,  0.0000,  0.0000,  0.0000,  0.0000,\n         0.0000,  0.0000,  0.0000,  0.0000,  0.0000,  0.0000,  0.0000,  0.0000,\n         0.0000,  0.0000,  0.0000,  0.0000,  0.0000,  0.0000,  0.0000,  0.0000,\n         0.0000,  0.0000,  0.0000,  0.0000,  0.0000,  0.0000,  0.0000,  0.0000,\n         0.0000,  0.0000,  0.0000,  0.0000,  0.0000,  0.0000,  0.0000,  0.0000,\n         0.0000,  0.0000,  0.0000,  0.0000,  0.0000,  0.0000,  0.0000,  0.0000,\n         0.0000,  0.0000,  0.0000,  0.0000,  0.0000,  0.0000,  0.0000,  0.0000,\n         0.0000,  0.0000,  0.0000,  0.0000,  0.0000,  0.0000,  0.0000,  0.0000,\n         0.0000,  0.0000,  0.0000,  0.0000,  0.0000,  0.0000,  0.0000,  0.0000,\n         0.0000,  0.0000,  0.0000,  0.0000,  0.0000,  0.0000,  0.0000,  0.0000,\n         0.0000,  0.0000,  0.0000,  0.0000,  0.0000,  0.0000,  0.0000,  0.0000,\n         0.0000,  0.0000,  0.0000,  0.0000,  0.0000,  0.0000,  0.0000,  0.0000,\n         0.0000,  0.0000,  0.0000,  0.0000,  0.0000,  0.0000,  0.0000,  0.0000,\n         0.0000,  0.0000,  0.0000,  0.0000,  0.0000,  0.0000,  0.0000,  0.0000,\n         0.0000,  0.0000,  0.0000,  0.0000,  0.0000,  0.0000,  1.0000,  0.0000,\n         0.0000,  0.0000,  0.0000,  0.0000,  2.4690, 10.0000,  0.4550])"
     },
     "execution_count": 36,
     "metadata": {},
     "output_type": "execute_result"
    }
   ],
   "source": [
    "list(G.nodes.data())[10][1]['node_feature']"
   ]
  },
  {
   "cell_type": "markdown",
   "metadata": {},
   "source": [
    "### Write graph to disk"
   ]
  },
  {
   "cell_type": "code",
   "execution_count": 37,
   "metadata": {},
   "outputs": [],
   "source": [
    "nx.write_gpickle(G, parameters[\"filename\"] + \".gpickle\")"
   ]
  },
  {
   "cell_type": "code",
   "execution_count": 38,
   "metadata": {},
   "outputs": [],
   "source": [
    "with open(parameters[\"filename\"] + \".json\", \"w\") as outfile: \n",
    "    json.dump(parameters, outfile)"
   ]
  },
  {
   "cell_type": "code",
   "execution_count": 42,
   "metadata": {},
   "outputs": [
    {
     "data": {
      "text/html": "<div>\n<style scoped>\n    .dataframe tbody tr th:only-of-type {\n        vertical-align: middle;\n    }\n\n    .dataframe tbody tr th {\n        vertical-align: top;\n    }\n\n    .dataframe thead th {\n        text-align: right;\n    }\n</style>\n<table border=\"1\" class=\"dataframe\">\n  <thead>\n    <tr style=\"text-align: right;\">\n      <th></th>\n      <th>business_id</th>\n      <th>visit_count</th>\n    </tr>\n  </thead>\n  <tbody>\n    <tr>\n      <th>0</th>\n      <td>6iYb2HFDywm3zjuRg0shjw</td>\n      <td>132</td>\n    </tr>\n    <tr>\n      <th>1</th>\n      <td>tCbdrRPZA0oiIYSmHG3J0w</td>\n      <td>209</td>\n    </tr>\n    <tr>\n      <th>2</th>\n      <td>D4JtQNTI4X3KcbzacDJsMw</td>\n      <td>73</td>\n    </tr>\n    <tr>\n      <th>3</th>\n      <td>ufCxltuh56FF4-ZFZ6cVhg</td>\n      <td>85</td>\n    </tr>\n    <tr>\n      <th>4</th>\n      <td>dmbbf3AqeG61_QHRZi1M1w</td>\n      <td>8</td>\n    </tr>\n    <tr>\n      <th>...</th>\n      <td>...</td>\n      <td>...</td>\n    </tr>\n    <tr>\n      <th>29958</th>\n      <td>yQL8SrSETbbCI1U5esVJQw</td>\n      <td>604</td>\n    </tr>\n    <tr>\n      <th>29959</th>\n      <td>r5Uag1JqYjr2nbxQCVqm8A</td>\n      <td>781</td>\n    </tr>\n    <tr>\n      <th>29960</th>\n      <td>Q78fYV6B6P6GmX07YVgi4g</td>\n      <td>217</td>\n    </tr>\n    <tr>\n      <th>29961</th>\n      <td>uXdQkuEtvLAzfc3MsO-sTQ</td>\n      <td>168</td>\n    </tr>\n    <tr>\n      <th>29962</th>\n      <td>ngmLL5Y5OT-bYHKU0kKrYA</td>\n      <td>31</td>\n    </tr>\n  </tbody>\n</table>\n<p>29963 rows × 2 columns</p>\n</div>",
      "text/plain": "                  business_id  visit_count\n0      6iYb2HFDywm3zjuRg0shjw          132\n1      tCbdrRPZA0oiIYSmHG3J0w          209\n2      D4JtQNTI4X3KcbzacDJsMw           73\n3      ufCxltuh56FF4-ZFZ6cVhg           85\n4      dmbbf3AqeG61_QHRZi1M1w            8\n...                       ...          ...\n29958  yQL8SrSETbbCI1U5esVJQw          604\n29959  r5Uag1JqYjr2nbxQCVqm8A          781\n29960  Q78fYV6B6P6GmX07YVgi4g          217\n29961  uXdQkuEtvLAzfc3MsO-sTQ          168\n29962  ngmLL5Y5OT-bYHKU0kKrYA           31\n\n[29963 rows x 2 columns]"
     },
     "execution_count": 42,
     "metadata": {},
     "output_type": "execute_result"
    }
   ],
   "source": [
    "restaurants_df[[\"business_id\", \"visit_count\"]]"
   ]
  },
  {
   "cell_type": "code",
   "execution_count": 44,
   "metadata": {},
   "outputs": [
    {
     "data": {
      "text/plain": "{'node_label': 2,\n 'node_feature': tensor([1.0000, 1.0000, 1.0000, 1.0000, 2.0000, 1.0000, 1.0000, 1.0000, 0.0000,\n         1.0000, 1.0000, 0.0000, 0.0000, 0.0000, 0.0000, 1.0000, 0.0000, 0.0000,\n         0.0000, 0.0000, 0.0000, 0.0000, 0.0000, 0.0000, 0.0000, 0.0000, 0.0000,\n         1.0000, 0.0000, 0.0000, 0.0000, 1.0000, 0.0000, 0.0000, 0.0000, 0.0000,\n         0.0000, 0.0000, 0.0000, 0.0000, 0.0000, 0.0000, 0.0000, 0.0000, 1.0000,\n         0.0000, 1.0000, 0.0000, 0.0000, 0.0000, 0.0000, 0.0000, 0.0000, 0.0000,\n         0.0000, 1.0000, 0.0000, 0.0000, 0.0000, 0.0000, 0.0000, 0.0000, 0.0000,\n         1.0000, 0.0000, 0.0000, 0.0000, 0.0000, 0.0000, 0.0000, 0.0000, 0.0000,\n         0.0000, 0.0000, 0.0000, 0.0000, 0.0000, 0.0000, 0.0000, 0.0000, 0.0000,\n         0.0000, 0.0000, 0.0000, 0.0000, 0.0000, 0.0000, 0.0000, 0.0000, 0.0000,\n         0.0000, 0.0000, 0.0000, 0.0000, 0.0000, 0.0000, 0.0000, 0.0000, 0.0000,\n         0.0000, 0.0000, 0.0000, 0.0000, 0.0000, 0.0000, 0.0000, 0.0000, 0.0000,\n         0.0000, 0.0000, 0.0000, 0.0000, 0.0000, 0.0000, 0.0000, 0.0000, 0.0000,\n         0.0000, 0.0000, 0.0000, 0.0000, 0.0000, 0.0000, 0.0000, 0.0000, 0.0000,\n         0.0000, 0.0000, 0.0000, 0.0000, 0.0000, 0.0000, 0.0000, 0.0000, 0.0000,\n         0.0000, 0.0000, 0.0000, 0.0000, 0.0000, 0.0000, 0.0000, 0.0000, 0.0000,\n         0.0000, 0.0000, 0.0000, 0.0000, 0.0000, 0.0000, 0.0000, 0.0000, 0.0000,\n         0.0000, 0.0000, 0.0000, 0.0000, 0.0000, 0.0000, 0.0000, 0.0000, 0.0000,\n         0.0000, 0.0000, 0.0000, 0.0000, 0.0000, 0.0000, 0.0000, 0.0000, 0.0000,\n         0.0000, 0.0000, 0.0000, 0.0000, 0.0000, 0.0000, 0.0000, 0.0000, 0.0000,\n         0.0000, 0.0000, 0.0000, 0.0000, 0.0000, 0.0000, 0.0000, 0.0000, 0.0000,\n         0.0000, 0.0000, 0.0000, 0.0000, 0.0000, 0.0000, 0.0000, 0.0000, 0.0000,\n         0.0000, 0.0000, 0.0000, 0.0000, 0.0000, 0.0000, 0.0000, 0.0000, 0.0000,\n         0.0000, 0.0000, 0.0000, 0.0000, 0.0000, 0.0000, 0.0000, 0.0000, 0.0000,\n         0.0000, 0.0000, 0.0000, 0.0000, 0.0000, 0.0000, 0.0000, 0.0000, 0.0000,\n         0.0000, 0.0000, 0.0000, 0.0000, 0.0000, 0.0000, 0.0000, 0.0000, 0.0000,\n         0.0000, 0.0000, 0.0000, 0.0000, 0.0000, 0.0000, 0.0000, 0.0000, 0.0000,\n         0.0000, 0.0000, 0.0000, 0.0000, 0.0000, 0.0000, 0.0000, 0.0000, 0.0000,\n         0.0000, 0.0000, 0.0000, 0.0000, 0.0000, 0.0000, 0.0000, 0.0000, 0.0000,\n         0.0000, 0.0000, 0.0000, 0.0000, 0.0000, 0.0000, 0.0000, 0.0000, 0.0000,\n         0.0000, 0.0000, 0.0000, 0.0000, 0.0000, 0.0000, 0.0000, 0.0000, 0.0000,\n         0.0000, 0.0000, 0.0000, 0.0000, 0.0000, 0.0000, 0.0000, 0.0000, 0.0000,\n         0.0000, 0.0000, 0.0000, 0.0000, 0.0000, 0.0000, 0.0000, 0.0000, 0.0000,\n         0.0000, 0.0000, 0.0000, 0.0000, 0.0000, 0.0000, 0.0000, 0.0000, 0.0000,\n         0.0000, 0.0000, 0.0000, 0.0000, 0.0000, 0.0000, 0.0000, 0.0000, 0.0000,\n         0.0000, 0.0000, 0.0000, 0.0000, 0.0000, 0.0000, 0.0000, 0.0000, 0.0000,\n         0.0000, 0.0000, 0.0000, 0.0000, 0.0000, 0.0000, 0.0000, 0.0000, 0.0000,\n         0.0000, 0.0000, 0.0000, 0.0000, 0.0000, 0.0000, 0.0000, 0.0000, 0.0000,\n         0.0000, 0.0000, 0.0000, 0.0000, 0.0000, 0.0000, 0.0000, 0.0000, 0.0000,\n         0.0000, 0.0000, 0.0000, 0.0000, 0.0000, 0.0000, 0.0000, 0.0000, 0.0000,\n         0.0000, 0.0000, 0.0000, 0.0000, 0.0000, 0.0000, 0.0000, 0.0000, 0.0000,\n         0.0000, 0.0000, 0.0000, 0.0000, 0.0000, 0.0000, 0.0000, 0.0000, 0.0000,\n         0.0000, 0.0000, 0.0000, 0.0000, 0.0000, 0.0000, 0.0000, 0.0000, 0.0000,\n         0.0000, 0.0000, 0.0000, 0.0000, 0.0000, 0.0000, 0.0000, 0.0000, 0.0000,\n         0.0000, 0.0000, 0.0000, 0.0000, 0.0000, 0.0000, 0.0000, 0.0000, 0.0000,\n         0.0000, 0.0000, 0.0000, 0.0000, 0.0000, 0.0000, 0.0000, 0.0000, 0.0000,\n         0.0000, 0.0000, 0.0000, 0.0000, 0.0000, 0.0000, 0.0000, 0.0000, 0.0000,\n         0.0000, 0.0000, 0.0000, 0.0000, 0.0000, 1.0000, 0.0000, 0.0000, 0.0000,\n         0.0000, 0.0000, 0.0000, 0.0000, 2.6370, 0.0000, 0.0000]),\n 'node_type': 'restaurant'}"
     },
     "execution_count": 44,
     "metadata": {},
     "output_type": "execute_result"
    }
   ],
   "source": [
    "G.nodes()[\"tCbdrRPZA0oiIYSmHG3J0w\"]"
   ]
  },
  {
   "cell_type": "code",
   "execution_count": null,
   "metadata": {},
   "outputs": [],
   "source": []
  }
 ],
 "metadata": {
  "kernelspec": {
   "display_name": "Python 3",
   "language": "python",
   "name": "python3"
  },
  "language_info": {
   "codemirror_mode": {
    "name": "ipython",
    "version": 3
   },
   "file_extension": ".py",
   "mimetype": "text/x-python",
   "name": "python",
   "nbconvert_exporter": "python",
   "pygments_lexer": "ipython3",
   "version": "3.7.0"
  }
 },
 "nbformat": 4,
 "nbformat_minor": 4
}
{
 "cells": [
  {
   "cell_type": "markdown",
   "metadata": {},
   "source": [
    "## Restaurant Graph Generator"
   ]
  },
  {
   "cell_type": "code",
   "execution_count": 1,
   "metadata": {},
   "outputs": [],
   "source": [
    "parameters = {\n",
    "    \"features\": {\n",
    "        \"attributes\": True,\n",
    "        \"categories\": (True,\n",
    "                       [(1, 50),  # first one should always point to 1 category matching\n",
    "                        (2, 50),]),\n",
    "        \"city\": True,\n",
    "        \"state\": True,\n",
    "    },\n",
    "    \"distance\": 500, # Maximum distance between nodes\n",
    "    \"filename\": \"../graphs/restaurants_category_combination\",\n",
    "}"
   ]
  },
  {
   "cell_type": "code",
   "execution_count": 2,
   "metadata": {},
   "outputs": [],
   "source": [
    "import pandas as pd\n",
    "import numpy as np\n",
    "import networkx as nx\n",
    "import torch\n",
    "import json "
   ]
  },
  {
   "cell_type": "markdown",
   "metadata": {},
   "source": [
    "### Read Data"
   ]
  },
  {
   "cell_type": "code",
   "execution_count": 3,
   "metadata": {},
   "outputs": [],
   "source": [
    "restaurants_df = pd.read_csv(\"../datasets/2017-2018_restaurants.csv\")\n",
    "edges_df = pd.read_csv(\"../datasets/2017-2018_restaurant-edges.csv\")"
   ]
  },
  {
   "cell_type": "code",
   "execution_count": 4,
   "metadata": {},
   "outputs": [
    {
     "data": {
      "text/html": [
       "<div>\n",
       "<style scoped>\n",
       "    .dataframe tbody tr th:only-of-type {\n",
       "        vertical-align: middle;\n",
       "    }\n",
       "\n",
       "    .dataframe tbody tr th {\n",
       "        vertical-align: top;\n",
       "    }\n",
       "\n",
       "    .dataframe thead th {\n",
       "        text-align: right;\n",
       "    }\n",
       "</style>\n",
       "<table border=\"1\" class=\"dataframe\">\n",
       "  <thead>\n",
       "    <tr style=\"text-align: right;\">\n",
       "      <th></th>\n",
       "      <th>business_id</th>\n",
       "      <th>city</th>\n",
       "      <th>state</th>\n",
       "      <th>latitude</th>\n",
       "      <th>longitude</th>\n",
       "      <th>is_open</th>\n",
       "      <th>attributes</th>\n",
       "      <th>categories</th>\n",
       "      <th>hours</th>\n",
       "      <th>checkin_count</th>\n",
       "      <th>review_count</th>\n",
       "      <th>raw_stars</th>\n",
       "      <th>stars</th>\n",
       "      <th>weighted_stars</th>\n",
       "      <th>tip_count</th>\n",
       "      <th>first_date</th>\n",
       "      <th>last_date</th>\n",
       "      <th>visit_count</th>\n",
       "      <th>is_open_year_after</th>\n",
       "    </tr>\n",
       "  </thead>\n",
       "  <tbody>\n",
       "    <tr>\n",
       "      <th>0</th>\n",
       "      <td>6iYb2HFDywm3zjuRg0shjw</td>\n",
       "      <td>Boulder</td>\n",
       "      <td>CO</td>\n",
       "      <td>40.017544</td>\n",
       "      <td>-105.283348</td>\n",
       "      <td>1</td>\n",
       "      <td>{'RestaurantsTableService': 'True', 'WiFi': \"u...</td>\n",
       "      <td>Gastropubs, Food, Beer Gardens, Restaurants, B...</td>\n",
       "      <td>{'Monday': '11:0-23:0', 'Tuesday': '11:0-23:0'...</td>\n",
       "      <td>79</td>\n",
       "      <td>49</td>\n",
       "      <td>3.714286</td>\n",
       "      <td>3.5</td>\n",
       "      <td>2.827977</td>\n",
       "      <td>4</td>\n",
       "      <td>2017-09-09 04:42:34</td>\n",
       "      <td>2021-01-22 05:20:38</td>\n",
       "      <td>132</td>\n",
       "      <td>True</td>\n",
       "    </tr>\n",
       "    <tr>\n",
       "      <th>1</th>\n",
       "      <td>tCbdrRPZA0oiIYSmHG3J0w</td>\n",
       "      <td>Portland</td>\n",
       "      <td>OR</td>\n",
       "      <td>45.588906</td>\n",
       "      <td>-122.593331</td>\n",
       "      <td>1</td>\n",
       "      <td>{'RestaurantsTakeOut': 'True', 'RestaurantsAtt...</td>\n",
       "      <td>Salad, Soup, Sandwiches, Delis, Restaurants, C...</td>\n",
       "      <td>{'Monday': '5:0-18:0', 'Tuesday': '5:0-17:0', ...</td>\n",
       "      <td>181</td>\n",
       "      <td>24</td>\n",
       "      <td>3.500000</td>\n",
       "      <td>3.5</td>\n",
       "      <td>2.734268</td>\n",
       "      <td>4</td>\n",
       "      <td>2010-03-09 16:02:04</td>\n",
       "      <td>2021-01-21 17:55:35</td>\n",
       "      <td>209</td>\n",
       "      <td>True</td>\n",
       "    </tr>\n",
       "  </tbody>\n",
       "</table>\n",
       "</div>"
      ],
      "text/plain": [
       "              business_id      city state   latitude   longitude  is_open  \\\n",
       "0  6iYb2HFDywm3zjuRg0shjw   Boulder    CO  40.017544 -105.283348        1   \n",
       "1  tCbdrRPZA0oiIYSmHG3J0w  Portland    OR  45.588906 -122.593331        1   \n",
       "\n",
       "                                          attributes  \\\n",
       "0  {'RestaurantsTableService': 'True', 'WiFi': \"u...   \n",
       "1  {'RestaurantsTakeOut': 'True', 'RestaurantsAtt...   \n",
       "\n",
       "                                          categories  \\\n",
       "0  Gastropubs, Food, Beer Gardens, Restaurants, B...   \n",
       "1  Salad, Soup, Sandwiches, Delis, Restaurants, C...   \n",
       "\n",
       "                                               hours  checkin_count  \\\n",
       "0  {'Monday': '11:0-23:0', 'Tuesday': '11:0-23:0'...             79   \n",
       "1  {'Monday': '5:0-18:0', 'Tuesday': '5:0-17:0', ...            181   \n",
       "\n",
       "   review_count  raw_stars  stars  weighted_stars  tip_count  \\\n",
       "0            49   3.714286    3.5        2.827977          4   \n",
       "1            24   3.500000    3.5        2.734268          4   \n",
       "\n",
       "            first_date            last_date  visit_count  is_open_year_after  \n",
       "0  2017-09-09 04:42:34  2021-01-22 05:20:38          132                True  \n",
       "1  2010-03-09 16:02:04  2021-01-21 17:55:35          209                True  "
      ]
     },
     "execution_count": 4,
     "metadata": {},
     "output_type": "execute_result"
    }
   ],
   "source": [
    "restaurants_df.head(2)"
   ]
  },
  {
   "cell_type": "code",
   "execution_count": 5,
   "metadata": {},
   "outputs": [
    {
     "data": {
      "text/html": [
       "<div>\n",
       "<style scoped>\n",
       "    .dataframe tbody tr th:only-of-type {\n",
       "        vertical-align: middle;\n",
       "    }\n",
       "\n",
       "    .dataframe tbody tr th {\n",
       "        vertical-align: top;\n",
       "    }\n",
       "\n",
       "    .dataframe thead th {\n",
       "        text-align: right;\n",
       "    }\n",
       "</style>\n",
       "<table border=\"1\" class=\"dataframe\">\n",
       "  <thead>\n",
       "    <tr style=\"text-align: right;\">\n",
       "      <th></th>\n",
       "      <th>id1</th>\n",
       "      <th>id2</th>\n",
       "      <th>distance</th>\n",
       "    </tr>\n",
       "  </thead>\n",
       "  <tbody>\n",
       "    <tr>\n",
       "      <th>0</th>\n",
       "      <td>Q2vefh0tGhtCGQDK1FI7cw</td>\n",
       "      <td>ssK5vKQ_eN0VyGoYKOmkeQ</td>\n",
       "      <td>441</td>\n",
       "    </tr>\n",
       "    <tr>\n",
       "      <th>1</th>\n",
       "      <td>Q2vefh0tGhtCGQDK1FI7cw</td>\n",
       "      <td>tSZTPA7uERhWkKq_jbl3Eg</td>\n",
       "      <td>209</td>\n",
       "    </tr>\n",
       "    <tr>\n",
       "      <th>2</th>\n",
       "      <td>Q2vefh0tGhtCGQDK1FI7cw</td>\n",
       "      <td>bSy6VVJIdYPza1Bj9_Eicw</td>\n",
       "      <td>450</td>\n",
       "    </tr>\n",
       "  </tbody>\n",
       "</table>\n",
       "</div>"
      ],
      "text/plain": [
       "                      id1                     id2  distance\n",
       "0  Q2vefh0tGhtCGQDK1FI7cw  ssK5vKQ_eN0VyGoYKOmkeQ       441\n",
       "1  Q2vefh0tGhtCGQDK1FI7cw  tSZTPA7uERhWkKq_jbl3Eg       209\n",
       "2  Q2vefh0tGhtCGQDK1FI7cw  bSy6VVJIdYPza1Bj9_Eicw       450"
      ]
     },
     "execution_count": 5,
     "metadata": {},
     "output_type": "execute_result"
    }
   ],
   "source": [
    "edges_df.head(3)"
   ]
  },
  {
   "cell_type": "code",
   "execution_count": 6,
   "metadata": {},
   "outputs": [],
   "source": [
    "# Remove rows where stars is NaN\n",
    "restaurants_df = restaurants_df[restaurants_df['stars'].notna()]"
   ]
  },
  {
   "cell_type": "code",
   "execution_count": 7,
   "metadata": {},
   "outputs": [
    {
     "name": "stdout",
     "output_type": "stream",
     "text": [
      "There are 29963 restaurants and 494203 edges.\n"
     ]
    }
   ],
   "source": [
    "print(f\"There are {len(restaurants_df)} restaurants and {len(edges_df)} edges.\")"
   ]
  },
  {
   "cell_type": "markdown",
   "metadata": {},
   "source": [
    "### Calculate Popularity Category"
   ]
  },
  {
   "cell_type": "code",
   "execution_count": 8,
   "metadata": {},
   "outputs": [],
   "source": [
    "from restaurant_utils import calculate_popularity\n",
    "\n",
    "restaurants_df = calculate_popularity(restaurants_df)"
   ]
  },
  {
   "cell_type": "markdown",
   "metadata": {},
   "source": [
    "### Extract attributes into columns\n",
    "**Attributes supported:** RestaurantsPriceRange2, OutdoorSeating, RestaurantsGoodForGroups, BusinessAcceptsCreditCards, GoodForKids, RestaurantsDelivery, Caters"
   ]
  },
  {
   "cell_type": "code",
   "execution_count": 9,
   "metadata": {},
   "outputs": [],
   "source": [
    "from restaurant_utils import extract_attributes\n",
    "\n",
    "# Necessary as attributes are stored as JSON\n",
    "all_business_df = pd.read_json('../yelp/yelp_academic_dataset_business.json', lines=True)\n",
    "all_business_df = all_business_df[[\"business_id\", \"attributes\"]]\n",
    "\n",
    "restaurants_df = extract_attributes(restaurants_df, all_business_df)"
   ]
  },
  {
   "cell_type": "code",
   "execution_count": 10,
   "metadata": {},
   "outputs": [
    {
     "data": {
      "text/html": [
       "<div>\n",
       "<style scoped>\n",
       "    .dataframe tbody tr th:only-of-type {\n",
       "        vertical-align: middle;\n",
       "    }\n",
       "\n",
       "    .dataframe tbody tr th {\n",
       "        vertical-align: top;\n",
       "    }\n",
       "\n",
       "    .dataframe thead th {\n",
       "        text-align: right;\n",
       "    }\n",
       "</style>\n",
       "<table border=\"1\" class=\"dataframe\">\n",
       "  <thead>\n",
       "    <tr style=\"text-align: right;\">\n",
       "      <th></th>\n",
       "      <th>business_id</th>\n",
       "      <th>city</th>\n",
       "      <th>state</th>\n",
       "      <th>latitude</th>\n",
       "      <th>longitude</th>\n",
       "      <th>is_open</th>\n",
       "      <th>categories</th>\n",
       "      <th>hours</th>\n",
       "      <th>checkin_count</th>\n",
       "      <th>review_count</th>\n",
       "      <th>...</th>\n",
       "      <th>is_open_year_after</th>\n",
       "      <th>popularity_value</th>\n",
       "      <th>popularity</th>\n",
       "      <th>RestaurantsPriceRange2</th>\n",
       "      <th>OutdoorSeating</th>\n",
       "      <th>RestaurantsGoodForGroups</th>\n",
       "      <th>BusinessAcceptsCreditCards</th>\n",
       "      <th>GoodForKids</th>\n",
       "      <th>RestaurantsDelivery</th>\n",
       "      <th>Caters</th>\n",
       "    </tr>\n",
       "  </thead>\n",
       "  <tbody>\n",
       "    <tr>\n",
       "      <th>0</th>\n",
       "      <td>6iYb2HFDywm3zjuRg0shjw</td>\n",
       "      <td>Boulder</td>\n",
       "      <td>CO</td>\n",
       "      <td>40.017544</td>\n",
       "      <td>-105.283348</td>\n",
       "      <td>1</td>\n",
       "      <td>Gastropubs, Food, Beer Gardens, Restaurants, B...</td>\n",
       "      <td>{'Monday': '11:0-23:0', 'Tuesday': '11:0-23:0'...</td>\n",
       "      <td>79</td>\n",
       "      <td>49</td>\n",
       "      <td>...</td>\n",
       "      <td>True</td>\n",
       "      <td>475.040397</td>\n",
       "      <td>2</td>\n",
       "      <td>2</td>\n",
       "      <td>1</td>\n",
       "      <td>1</td>\n",
       "      <td>1</td>\n",
       "      <td>0</td>\n",
       "      <td>1</td>\n",
       "      <td>1</td>\n",
       "    </tr>\n",
       "    <tr>\n",
       "      <th>1</th>\n",
       "      <td>tCbdrRPZA0oiIYSmHG3J0w</td>\n",
       "      <td>Portland</td>\n",
       "      <td>OR</td>\n",
       "      <td>45.588906</td>\n",
       "      <td>-122.593331</td>\n",
       "      <td>1</td>\n",
       "      <td>Salad, Soup, Sandwiches, Delis, Restaurants, C...</td>\n",
       "      <td>{'Monday': '5:0-18:0', 'Tuesday': '5:0-17:0', ...</td>\n",
       "      <td>181</td>\n",
       "      <td>24</td>\n",
       "      <td>...</td>\n",
       "      <td>True</td>\n",
       "      <td>737.162331</td>\n",
       "      <td>2</td>\n",
       "      <td>2</td>\n",
       "      <td>1</td>\n",
       "      <td>1</td>\n",
       "      <td>1</td>\n",
       "      <td>1</td>\n",
       "      <td>1</td>\n",
       "      <td>1</td>\n",
       "    </tr>\n",
       "    <tr>\n",
       "      <th>2</th>\n",
       "      <td>D4JtQNTI4X3KcbzacDJsMw</td>\n",
       "      <td>Vancouver</td>\n",
       "      <td>BC</td>\n",
       "      <td>49.251342</td>\n",
       "      <td>-123.101333</td>\n",
       "      <td>1</td>\n",
       "      <td>Restaurants, Thai</td>\n",
       "      <td>{'Monday': '17:0-21:0', 'Tuesday': '17:0-21:0'...</td>\n",
       "      <td>42</td>\n",
       "      <td>28</td>\n",
       "      <td>...</td>\n",
       "      <td>True</td>\n",
       "      <td>261.877324</td>\n",
       "      <td>1</td>\n",
       "      <td>2</td>\n",
       "      <td>1</td>\n",
       "      <td>1</td>\n",
       "      <td>0</td>\n",
       "      <td>1</td>\n",
       "      <td>1</td>\n",
       "      <td>1</td>\n",
       "    </tr>\n",
       "  </tbody>\n",
       "</table>\n",
       "<p>3 rows × 27 columns</p>\n",
       "</div>"
      ],
      "text/plain": [
       "              business_id       city state   latitude   longitude  is_open  \\\n",
       "0  6iYb2HFDywm3zjuRg0shjw    Boulder    CO  40.017544 -105.283348        1   \n",
       "1  tCbdrRPZA0oiIYSmHG3J0w   Portland    OR  45.588906 -122.593331        1   \n",
       "2  D4JtQNTI4X3KcbzacDJsMw  Vancouver    BC  49.251342 -123.101333        1   \n",
       "\n",
       "                                          categories  \\\n",
       "0  Gastropubs, Food, Beer Gardens, Restaurants, B...   \n",
       "1  Salad, Soup, Sandwiches, Delis, Restaurants, C...   \n",
       "2                                  Restaurants, Thai   \n",
       "\n",
       "                                               hours  checkin_count  \\\n",
       "0  {'Monday': '11:0-23:0', 'Tuesday': '11:0-23:0'...             79   \n",
       "1  {'Monday': '5:0-18:0', 'Tuesday': '5:0-17:0', ...            181   \n",
       "2  {'Monday': '17:0-21:0', 'Tuesday': '17:0-21:0'...             42   \n",
       "\n",
       "   review_count  ...  is_open_year_after  popularity_value  popularity  \\\n",
       "0            49  ...                True        475.040397           2   \n",
       "1            24  ...                True        737.162331           2   \n",
       "2            28  ...                True        261.877324           1   \n",
       "\n",
       "   RestaurantsPriceRange2 OutdoorSeating RestaurantsGoodForGroups  \\\n",
       "0                       2              1                        1   \n",
       "1                       2              1                        1   \n",
       "2                       2              1                        1   \n",
       "\n",
       "   BusinessAcceptsCreditCards  GoodForKids  RestaurantsDelivery  Caters  \n",
       "0                           1            0                    1       1  \n",
       "1                           1            1                    1       1  \n",
       "2                           0            1                    1       1  \n",
       "\n",
       "[3 rows x 27 columns]"
      ]
     },
     "execution_count": 10,
     "metadata": {},
     "output_type": "execute_result"
    }
   ],
   "source": [
    "restaurants_df.head(3)"
   ]
  },
  {
   "cell_type": "markdown",
   "metadata": {},
   "source": [
    "### Get top categories"
   ]
  },
  {
   "cell_type": "code",
   "execution_count": 11,
   "metadata": {},
   "outputs": [],
   "source": [
    "from restaurant_utils import get_top_k_p_combinations, get_cat2idx, get_category_features\n",
    "top_categories = []\n",
    "\n",
    "for num_comb, topk in parameters[\"features\"][\"categories\"][1]:\n",
    "    top_categories += get_top_k_p_combinations(restaurants_df, num_comb, topk)"
   ]
  },
  {
   "cell_type": "code",
   "execution_count": 12,
   "metadata": {},
   "outputs": [
    {
     "data": {
      "text/plain": [
       "[('Restaurants',),\n",
       " ('Food',),\n",
       " ('Nightlife',),\n",
       " ('Bars',),\n",
       " ('American (Traditional)',),\n",
       " ('Coffee & Tea',),\n",
       " ('Sandwiches',),\n",
       " ('Breakfast & Brunch',),\n",
       " ('American (New)',),\n",
       " ('Pizza',),\n",
       " ('Fast Food',),\n",
       " ('Burgers',),\n",
       " ('Mexican',),\n",
       " ('Chinese',),\n",
       " ('Italian',),\n",
       " ('Specialty Food',),\n",
       " ('Seafood',),\n",
       " ('Event Planning & Services',),\n",
       " ('Salad',),\n",
       " ('Desserts',),\n",
       " ('Bakeries',),\n",
       " ('Japanese',),\n",
       " ('Cafes',),\n",
       " ('Grocery',),\n",
       " ('Beer',),\n",
       " ('Wine & Spirits',),\n",
       " ('Shopping',),\n",
       " ('Sushi Bars',),\n",
       " ('Caterers',),\n",
       " ('Ice Cream & Frozen Yogurt',),\n",
       " ('Chicken Wings',),\n",
       " ('Asian Fusion',),\n",
       " ('Food Trucks',),\n",
       " ('Cocktail Bars',),\n",
       " ('Pubs',),\n",
       " ('Delis',),\n",
       " ('Sports Bars',),\n",
       " ('Vegetarian',),\n",
       " ('Juice Bars & Smoothies',),\n",
       " ('Mediterranean',),\n",
       " ('Barbeque',),\n",
       " ('Thai',),\n",
       " ('Diners',),\n",
       " ('Steakhouses',),\n",
       " ('Arts & Entertainment',),\n",
       " ('Wine Bars',),\n",
       " ('Soup',),\n",
       " ('Tex-Mex',),\n",
       " ('Gluten-Free',),\n",
       " ('Vegan',),\n",
       " ('Restaurants', 'Food'),\n",
       " ('Food', 'Restaurants'),\n",
       " ('Nightlife', 'Bars'),\n",
       " ('Restaurants', 'Nightlife'),\n",
       " ('Restaurants', 'Bars'),\n",
       " ('Bars', 'Nightlife'),\n",
       " ('Nightlife', 'Restaurants'),\n",
       " ('Bars', 'Restaurants'),\n",
       " ('Restaurants', 'American (Traditional)'),\n",
       " ('Restaurants', 'Sandwiches'),\n",
       " ('Food', 'Coffee & Tea'),\n",
       " ('American (Traditional)', 'Restaurants'),\n",
       " ('Coffee & Tea', 'Food'),\n",
       " ('Restaurants', 'Breakfast & Brunch'),\n",
       " ('Sandwiches', 'Restaurants'),\n",
       " ('Restaurants', 'American (New)'),\n",
       " ('Restaurants', 'Fast Food'),\n",
       " ('Breakfast & Brunch', 'Restaurants'),\n",
       " ('American (New)', 'Restaurants'),\n",
       " ('Pizza', 'Restaurants'),\n",
       " ('Restaurants', 'Pizza'),\n",
       " ('Restaurants', 'Burgers'),\n",
       " ('Beer', 'Wine & Spirits'),\n",
       " ('Fast Food', 'Restaurants'),\n",
       " ('Burgers', 'Restaurants'),\n",
       " ('Restaurants', 'Coffee & Tea'),\n",
       " ('Restaurants', 'Mexican'),\n",
       " ('Coffee & Tea', 'Restaurants'),\n",
       " ('Mexican', 'Restaurants'),\n",
       " ('Restaurants', 'Chinese'),\n",
       " ('Restaurants', 'Salad'),\n",
       " ('Food', 'Specialty Food'),\n",
       " ('Restaurants', 'Italian'),\n",
       " ('Chinese', 'Restaurants'),\n",
       " ('Nightlife', 'American (Traditional)'),\n",
       " ('Italian', 'Restaurants'),\n",
       " ('Restaurants', 'Seafood'),\n",
       " ('Specialty Food', 'Food'),\n",
       " ('Food', 'Sandwiches'),\n",
       " ('Bars', 'American (Traditional)'),\n",
       " ('American (Traditional)', 'Nightlife'),\n",
       " ('American (Traditional)', 'Bars'),\n",
       " ('Sandwiches', 'Food'),\n",
       " ('Seafood', 'Restaurants'),\n",
       " ('Food', 'Bakeries'),\n",
       " ('Nightlife', 'Food'),\n",
       " ('Desserts', 'Food'),\n",
       " ('Restaurants', 'Event Planning & Services'),\n",
       " ('Food', 'Desserts'),\n",
       " ('Food', 'Nightlife')]"
      ]
     },
     "execution_count": 12,
     "metadata": {},
     "output_type": "execute_result"
    }
   ],
   "source": [
    "top_categories"
   ]
  },
  {
   "cell_type": "code",
   "execution_count": 15,
   "metadata": {},
   "outputs": [],
   "source": [
    "cat2idx, idx2cat = get_cat2idx(restaurants_df, parameters[\"features\"][\"categories\"][1][0][1])"
   ]
  },
  {
   "cell_type": "code",
   "execution_count": 16,
   "metadata": {},
   "outputs": [],
   "source": [
    "restaurants_df = get_category_features(restaurants_df, cat2idx, top_categories)"
   ]
  },
  {
   "cell_type": "code",
   "execution_count": 17,
   "metadata": {},
   "outputs": [
    {
     "data": {
      "text/html": [
       "<div>\n",
       "<style scoped>\n",
       "    .dataframe tbody tr th:only-of-type {\n",
       "        vertical-align: middle;\n",
       "    }\n",
       "\n",
       "    .dataframe tbody tr th {\n",
       "        vertical-align: top;\n",
       "    }\n",
       "\n",
       "    .dataframe thead th {\n",
       "        text-align: right;\n",
       "    }\n",
       "</style>\n",
       "<table border=\"1\" class=\"dataframe\">\n",
       "  <thead>\n",
       "    <tr style=\"text-align: right;\">\n",
       "      <th></th>\n",
       "      <th>business_id</th>\n",
       "      <th>city</th>\n",
       "      <th>state</th>\n",
       "      <th>latitude</th>\n",
       "      <th>longitude</th>\n",
       "      <th>is_open</th>\n",
       "      <th>categories</th>\n",
       "      <th>hours</th>\n",
       "      <th>checkin_count</th>\n",
       "      <th>review_count</th>\n",
       "      <th>...</th>\n",
       "      <th>popularity</th>\n",
       "      <th>RestaurantsPriceRange2</th>\n",
       "      <th>OutdoorSeating</th>\n",
       "      <th>RestaurantsGoodForGroups</th>\n",
       "      <th>BusinessAcceptsCreditCards</th>\n",
       "      <th>GoodForKids</th>\n",
       "      <th>RestaurantsDelivery</th>\n",
       "      <th>Caters</th>\n",
       "      <th>top_categories_vector</th>\n",
       "      <th>top_categories_combination_vector</th>\n",
       "    </tr>\n",
       "  </thead>\n",
       "  <tbody>\n",
       "    <tr>\n",
       "      <th>0</th>\n",
       "      <td>6iYb2HFDywm3zjuRg0shjw</td>\n",
       "      <td>Boulder</td>\n",
       "      <td>CO</td>\n",
       "      <td>40.017544</td>\n",
       "      <td>-105.283348</td>\n",
       "      <td>1</td>\n",
       "      <td>Gastropubs, Food, Beer Gardens, Restaurants, B...</td>\n",
       "      <td>{'Monday': '11:0-23:0', 'Tuesday': '11:0-23:0'...</td>\n",
       "      <td>79</td>\n",
       "      <td>49</td>\n",
       "      <td>...</td>\n",
       "      <td>2</td>\n",
       "      <td>2</td>\n",
       "      <td>1</td>\n",
       "      <td>1</td>\n",
       "      <td>1</td>\n",
       "      <td>0</td>\n",
       "      <td>1</td>\n",
       "      <td>1</td>\n",
       "      <td>[1.0, 1.0, 1.0, 1.0, 1.0, 1.0, 0.0, 0.0, 0.0, ...</td>\n",
       "      <td>[1.0, 1.0, 1.0, 1.0, 1.0, 0.0, 0.0, 0.0, 0.0, ...</td>\n",
       "    </tr>\n",
       "    <tr>\n",
       "      <th>1</th>\n",
       "      <td>tCbdrRPZA0oiIYSmHG3J0w</td>\n",
       "      <td>Portland</td>\n",
       "      <td>OR</td>\n",
       "      <td>45.588906</td>\n",
       "      <td>-122.593331</td>\n",
       "      <td>1</td>\n",
       "      <td>Salad, Soup, Sandwiches, Delis, Restaurants, C...</td>\n",
       "      <td>{'Monday': '5:0-18:0', 'Tuesday': '5:0-17:0', ...</td>\n",
       "      <td>181</td>\n",
       "      <td>24</td>\n",
       "      <td>...</td>\n",
       "      <td>2</td>\n",
       "      <td>2</td>\n",
       "      <td>1</td>\n",
       "      <td>1</td>\n",
       "      <td>1</td>\n",
       "      <td>1</td>\n",
       "      <td>1</td>\n",
       "      <td>1</td>\n",
       "      <td>[0.0, 1.0, 0.0, 0.0, 0.0, 0.0, 0.0, 1.0, 0.0, ...</td>\n",
       "      <td>[1.0, 0.0, 0.0, 0.0, 0.0, 0.0, 1.0, 0.0, 0.0, ...</td>\n",
       "    </tr>\n",
       "  </tbody>\n",
       "</table>\n",
       "<p>2 rows × 29 columns</p>\n",
       "</div>"
      ],
      "text/plain": [
       "              business_id      city state   latitude   longitude  is_open  \\\n",
       "0  6iYb2HFDywm3zjuRg0shjw   Boulder    CO  40.017544 -105.283348        1   \n",
       "1  tCbdrRPZA0oiIYSmHG3J0w  Portland    OR  45.588906 -122.593331        1   \n",
       "\n",
       "                                          categories  \\\n",
       "0  Gastropubs, Food, Beer Gardens, Restaurants, B...   \n",
       "1  Salad, Soup, Sandwiches, Delis, Restaurants, C...   \n",
       "\n",
       "                                               hours  checkin_count  \\\n",
       "0  {'Monday': '11:0-23:0', 'Tuesday': '11:0-23:0'...             79   \n",
       "1  {'Monday': '5:0-18:0', 'Tuesday': '5:0-17:0', ...            181   \n",
       "\n",
       "   review_count  ...  popularity  RestaurantsPriceRange2  OutdoorSeating  \\\n",
       "0            49  ...           2                       2               1   \n",
       "1            24  ...           2                       2               1   \n",
       "\n",
       "   RestaurantsGoodForGroups BusinessAcceptsCreditCards GoodForKids  \\\n",
       "0                         1                          1           0   \n",
       "1                         1                          1           1   \n",
       "\n",
       "   RestaurantsDelivery  Caters  \\\n",
       "0                    1       1   \n",
       "1                    1       1   \n",
       "\n",
       "                               top_categories_vector  \\\n",
       "0  [1.0, 1.0, 1.0, 1.0, 1.0, 1.0, 0.0, 0.0, 0.0, ...   \n",
       "1  [0.0, 1.0, 0.0, 0.0, 0.0, 0.0, 0.0, 1.0, 0.0, ...   \n",
       "\n",
       "                   top_categories_combination_vector  \n",
       "0  [1.0, 1.0, 1.0, 1.0, 1.0, 0.0, 0.0, 0.0, 0.0, ...  \n",
       "1  [1.0, 0.0, 0.0, 0.0, 0.0, 0.0, 1.0, 0.0, 0.0, ...  \n",
       "\n",
       "[2 rows x 29 columns]"
      ]
     },
     "execution_count": 17,
     "metadata": {},
     "output_type": "execute_result"
    }
   ],
   "source": [
    "restaurants_df.head(2)"
   ]
  },
  {
   "cell_type": "markdown",
   "metadata": {},
   "source": [
    "### Encode Extra: City and States"
   ]
  },
  {
   "cell_type": "code",
   "execution_count": 18,
   "metadata": {},
   "outputs": [],
   "source": [
    "from restaurant_utils import get_encoder, encode_cities_states, to_categorical"
   ]
  },
  {
   "cell_type": "code",
   "execution_count": 19,
   "metadata": {},
   "outputs": [],
   "source": [
    "encoder = get_encoder(restaurants_df)\n",
    "restaurants_df = encode_cities_states(restaurants_df, encoder)"
   ]
  },
  {
   "cell_type": "markdown",
   "metadata": {},
   "source": [
    "### Generate Graph"
   ]
  },
  {
   "cell_type": "code",
   "execution_count": 20,
   "metadata": {},
   "outputs": [],
   "source": [
    "G = nx.Graph()"
   ]
  },
  {
   "cell_type": "code",
   "execution_count": 21,
   "metadata": {},
   "outputs": [],
   "source": [
    "# nodes\n",
    "if parameters[\"features\"][\"attributes\"]:\n",
    "    features = restaurants_df[[\n",
    "        \"OutdoorSeating\", \"RestaurantsGoodForGroups\", \"BusinessAcceptsCreditCards\",\n",
    "        \"GoodForKids\", \"RestaurantsDelivery\", \"Caters\"\n",
    "    ]].values\n",
    "\n",
    "if parameters[\"features\"][\"categories\"][0]:\n",
    "    feat = np.stack(restaurants_df[\"top_categories_vector\"].values)\n",
    "    features = np.concatenate([features, feat], axis=1)\n",
    "\n",
    "if len(parameters[\"features\"][\"categories\"][1]) > 1:  # category combinations exists\n",
    "    feat = np.stack(restaurants_df[\"top_categories_combination_vector\"].values)\n",
    "    features = np.concatenate([features, feat], axis=1)\n",
    "\n",
    "if parameters[\"features\"][\"city\"]:\n",
    "    feat = to_categorical(restaurants_df[\"city_idx\"],\n",
    "                          num_classes=restaurants_df[\"city_idx\"].max() + 1)\n",
    "    features = np.concatenate([features, feat], axis=1)\n",
    "\n",
    "if parameters[\"features\"][\"state\"]:\n",
    "    feat = to_categorical(restaurants_df[\"state_idx\"],\n",
    "                          num_classes=restaurants_df[\"state_idx\"].max() + 1)\n",
    "    features = np.concatenate([features, feat], axis=1)\n",
    "\n",
    "node_label = restaurants_df[\"popularity\"].values  # [num_nodes,]\n",
    "\n",
    "for index, row in restaurants_df.iterrows():\n",
    "    G.add_node(row[\"business_id\"],\n",
    "               node_label=torch.LongTensor([node_label[index]]),\n",
    "               node_feature=torch.FloatTensor(features[index]),\n",
    "               node_type=\"restaurant\")"
   ]
  },
  {
   "cell_type": "code",
   "execution_count": 22,
   "metadata": {},
   "outputs": [],
   "source": [
    "# edges\n",
    "for index, row in edges_df.iterrows():\n",
    "    node1 = row[\"id1\"]\n",
    "    node2 = row[\"id2\"]\n",
    "    if node1 not in G.nodes or node2 not in G.nodes:\n",
    "        continue\n",
    "    dist = row[\"distance\"]\n",
    "\n",
    "    if dist <= parameters[\"distance\"]:\n",
    "        G.add_edge(node1, node2, edge_type=\"vv\")"
   ]
  },
  {
   "cell_type": "markdown",
   "metadata": {},
   "source": [
    "### Summary"
   ]
  },
  {
   "cell_type": "code",
   "execution_count": 23,
   "metadata": {},
   "outputs": [
    {
     "name": "stdout",
     "output_type": "stream",
     "text": [
      "Number of nodes: 29963\n",
      "Number of edges: 491371\n",
      "Number of features: 532\n"
     ]
    }
   ],
   "source": [
    "print(f\"Number of nodes: {G.number_of_nodes()}\")\n",
    "print(f\"Number of edges: {G.number_of_edges()}\")\n",
    "print(f\"Number of features: {len(list(G.nodes.data())[0][1]['node_feature'])}\")"
   ]
  },
  {
   "cell_type": "markdown",
   "metadata": {},
   "source": [
    "### Write graph to disk"
   ]
  },
  {
   "cell_type": "code",
   "execution_count": 24,
   "metadata": {},
   "outputs": [],
   "source": [
    "nx.write_gpickle(G, parameters[\"filename\"] + \".gpickle\")"
   ]
  },
  {
   "cell_type": "code",
   "execution_count": 25,
   "metadata": {},
   "outputs": [],
   "source": [
    "with open(parameters[\"filename\"] + \".json\", \"w\") as outfile: \n",
    "    json.dump(parameters, outfile)"
   ]
  },
  {
   "cell_type": "code",
   "execution_count": null,
   "metadata": {},
   "outputs": [],
   "source": []
  }
 ],
 "metadata": {
  "kernelspec": {
   "display_name": "Python 3",
   "language": "python",
   "name": "python3"
  },
  "language_info": {
   "codemirror_mode": {
    "name": "ipython",
    "version": 3
   },
   "file_extension": ".py",
   "mimetype": "text/x-python",
   "name": "python",
   "nbconvert_exporter": "python",
   "pygments_lexer": "ipython3",
   "version": "3.8.8"
  }
 },
 "nbformat": 4,
 "nbformat_minor": 4
}

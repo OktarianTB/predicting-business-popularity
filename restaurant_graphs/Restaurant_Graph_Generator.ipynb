{
 "cells": [
  {
   "cell_type": "markdown",
   "metadata": {},
   "source": [
    "## Restaurant Graph Generator"
   ]
  },
  {
   "cell_type": "code",
   "execution_count": 1,
   "metadata": {},
   "outputs": [],
   "source": [
    "parameters = {\n",
    "    \"features\": {\n",
    "        \"attributes\": True,\n",
    "        \"categories\": (True, 50)\n",
    "    },\n",
    "    \"distance\": 500, # Maximum distance between nodes\n",
    "    \"filename\": \"../graphs/restaurants_basic\",\n",
    "}"
   ]
  },
  {
   "cell_type": "code",
   "execution_count": 2,
   "metadata": {},
   "outputs": [],
   "source": [
    "import pandas as pd\n",
    "import numpy as np\n",
    "import networkx as nx\n",
    "import torch\n",
    "import json "
   ]
  },
  {
   "cell_type": "markdown",
   "metadata": {},
   "source": [
    "### Read Data"
   ]
  },
  {
   "cell_type": "code",
   "execution_count": 3,
   "metadata": {},
   "outputs": [],
   "source": [
    "restaurants_df = pd.read_csv(\"../datasets/2017-2018_restaurants.csv\")\n",
    "edges_df = pd.read_csv(\"../datasets/2017-2018_restaurant-edges.csv\")"
   ]
  },
  {
   "cell_type": "code",
   "execution_count": 4,
   "metadata": {},
   "outputs": [
    {
     "data": {
      "text/html": [
       "<div>\n",
       "<style scoped>\n",
       "    .dataframe tbody tr th:only-of-type {\n",
       "        vertical-align: middle;\n",
       "    }\n",
       "\n",
       "    .dataframe tbody tr th {\n",
       "        vertical-align: top;\n",
       "    }\n",
       "\n",
       "    .dataframe thead th {\n",
       "        text-align: right;\n",
       "    }\n",
       "</style>\n",
       "<table border=\"1\" class=\"dataframe\">\n",
       "  <thead>\n",
       "    <tr style=\"text-align: right;\">\n",
       "      <th></th>\n",
       "      <th>business_id</th>\n",
       "      <th>city</th>\n",
       "      <th>state</th>\n",
       "      <th>latitude</th>\n",
       "      <th>longitude</th>\n",
       "      <th>is_open</th>\n",
       "      <th>attributes</th>\n",
       "      <th>categories</th>\n",
       "      <th>hours</th>\n",
       "      <th>checkin_count</th>\n",
       "      <th>review_count</th>\n",
       "      <th>raw_stars</th>\n",
       "      <th>stars</th>\n",
       "      <th>weighted_stars</th>\n",
       "      <th>tip_count</th>\n",
       "      <th>first_date</th>\n",
       "      <th>last_date</th>\n",
       "      <th>visit_count</th>\n",
       "      <th>is_open_year_after</th>\n",
       "    </tr>\n",
       "  </thead>\n",
       "  <tbody>\n",
       "    <tr>\n",
       "      <th>0</th>\n",
       "      <td>6iYb2HFDywm3zjuRg0shjw</td>\n",
       "      <td>Boulder</td>\n",
       "      <td>CO</td>\n",
       "      <td>40.017544</td>\n",
       "      <td>-105.283348</td>\n",
       "      <td>1</td>\n",
       "      <td>{'RestaurantsTableService': 'True', 'WiFi': \"u...</td>\n",
       "      <td>Gastropubs, Food, Beer Gardens, Restaurants, B...</td>\n",
       "      <td>{'Monday': '11:0-23:0', 'Tuesday': '11:0-23:0'...</td>\n",
       "      <td>79</td>\n",
       "      <td>49</td>\n",
       "      <td>3.714286</td>\n",
       "      <td>3.5</td>\n",
       "      <td>2.827977</td>\n",
       "      <td>4</td>\n",
       "      <td>2017-09-09 04:42:34</td>\n",
       "      <td>2021-01-22 05:20:38</td>\n",
       "      <td>132</td>\n",
       "      <td>True</td>\n",
       "    </tr>\n",
       "    <tr>\n",
       "      <th>1</th>\n",
       "      <td>tCbdrRPZA0oiIYSmHG3J0w</td>\n",
       "      <td>Portland</td>\n",
       "      <td>OR</td>\n",
       "      <td>45.588906</td>\n",
       "      <td>-122.593331</td>\n",
       "      <td>1</td>\n",
       "      <td>{'RestaurantsTakeOut': 'True', 'RestaurantsAtt...</td>\n",
       "      <td>Salad, Soup, Sandwiches, Delis, Restaurants, C...</td>\n",
       "      <td>{'Monday': '5:0-18:0', 'Tuesday': '5:0-17:0', ...</td>\n",
       "      <td>181</td>\n",
       "      <td>24</td>\n",
       "      <td>3.500000</td>\n",
       "      <td>3.5</td>\n",
       "      <td>2.734268</td>\n",
       "      <td>4</td>\n",
       "      <td>2010-03-09 16:02:04</td>\n",
       "      <td>2021-01-21 17:55:35</td>\n",
       "      <td>209</td>\n",
       "      <td>True</td>\n",
       "    </tr>\n",
       "  </tbody>\n",
       "</table>\n",
       "</div>"
      ],
      "text/plain": [
       "              business_id      city state   latitude   longitude  is_open  \\\n",
       "0  6iYb2HFDywm3zjuRg0shjw   Boulder    CO  40.017544 -105.283348        1   \n",
       "1  tCbdrRPZA0oiIYSmHG3J0w  Portland    OR  45.588906 -122.593331        1   \n",
       "\n",
       "                                          attributes  \\\n",
       "0  {'RestaurantsTableService': 'True', 'WiFi': \"u...   \n",
       "1  {'RestaurantsTakeOut': 'True', 'RestaurantsAtt...   \n",
       "\n",
       "                                          categories  \\\n",
       "0  Gastropubs, Food, Beer Gardens, Restaurants, B...   \n",
       "1  Salad, Soup, Sandwiches, Delis, Restaurants, C...   \n",
       "\n",
       "                                               hours  checkin_count  \\\n",
       "0  {'Monday': '11:0-23:0', 'Tuesday': '11:0-23:0'...             79   \n",
       "1  {'Monday': '5:0-18:0', 'Tuesday': '5:0-17:0', ...            181   \n",
       "\n",
       "   review_count  raw_stars  stars  weighted_stars  tip_count  \\\n",
       "0            49   3.714286    3.5        2.827977          4   \n",
       "1            24   3.500000    3.5        2.734268          4   \n",
       "\n",
       "            first_date            last_date  visit_count  is_open_year_after  \n",
       "0  2017-09-09 04:42:34  2021-01-22 05:20:38          132                True  \n",
       "1  2010-03-09 16:02:04  2021-01-21 17:55:35          209                True  "
      ]
     },
     "execution_count": 4,
     "metadata": {},
     "output_type": "execute_result"
    }
   ],
   "source": [
    "restaurants_df.head(2)"
   ]
  },
  {
   "cell_type": "code",
   "execution_count": 5,
   "metadata": {},
   "outputs": [
    {
     "data": {
      "text/html": [
       "<div>\n",
       "<style scoped>\n",
       "    .dataframe tbody tr th:only-of-type {\n",
       "        vertical-align: middle;\n",
       "    }\n",
       "\n",
       "    .dataframe tbody tr th {\n",
       "        vertical-align: top;\n",
       "    }\n",
       "\n",
       "    .dataframe thead th {\n",
       "        text-align: right;\n",
       "    }\n",
       "</style>\n",
       "<table border=\"1\" class=\"dataframe\">\n",
       "  <thead>\n",
       "    <tr style=\"text-align: right;\">\n",
       "      <th></th>\n",
       "      <th>id1</th>\n",
       "      <th>id2</th>\n",
       "      <th>distance</th>\n",
       "    </tr>\n",
       "  </thead>\n",
       "  <tbody>\n",
       "    <tr>\n",
       "      <th>0</th>\n",
       "      <td>Q2vefh0tGhtCGQDK1FI7cw</td>\n",
       "      <td>ssK5vKQ_eN0VyGoYKOmkeQ</td>\n",
       "      <td>441</td>\n",
       "    </tr>\n",
       "    <tr>\n",
       "      <th>1</th>\n",
       "      <td>Q2vefh0tGhtCGQDK1FI7cw</td>\n",
       "      <td>tSZTPA7uERhWkKq_jbl3Eg</td>\n",
       "      <td>209</td>\n",
       "    </tr>\n",
       "    <tr>\n",
       "      <th>2</th>\n",
       "      <td>Q2vefh0tGhtCGQDK1FI7cw</td>\n",
       "      <td>bSy6VVJIdYPza1Bj9_Eicw</td>\n",
       "      <td>450</td>\n",
       "    </tr>\n",
       "  </tbody>\n",
       "</table>\n",
       "</div>"
      ],
      "text/plain": [
       "                      id1                     id2  distance\n",
       "0  Q2vefh0tGhtCGQDK1FI7cw  ssK5vKQ_eN0VyGoYKOmkeQ       441\n",
       "1  Q2vefh0tGhtCGQDK1FI7cw  tSZTPA7uERhWkKq_jbl3Eg       209\n",
       "2  Q2vefh0tGhtCGQDK1FI7cw  bSy6VVJIdYPza1Bj9_Eicw       450"
      ]
     },
     "execution_count": 5,
     "metadata": {},
     "output_type": "execute_result"
    }
   ],
   "source": [
    "edges_df.head(3)"
   ]
  },
  {
   "cell_type": "code",
   "execution_count": 6,
   "metadata": {},
   "outputs": [],
   "source": [
    "# Remove rows where stars is NaN\n",
    "restaurants_df = restaurants_df[restaurants_df['stars'].notna()]"
   ]
  },
  {
   "cell_type": "code",
   "execution_count": 7,
   "metadata": {},
   "outputs": [
    {
     "name": "stdout",
     "output_type": "stream",
     "text": [
      "There are 29963 restaurants and 494203 edges.\n"
     ]
    }
   ],
   "source": [
    "print(f\"There are {len(restaurants_df)} restaurants and {len(edges_df)} edges.\")"
   ]
  },
  {
   "cell_type": "markdown",
   "metadata": {},
   "source": [
    "### Calculate Popularity Category"
   ]
  },
  {
   "cell_type": "code",
   "execution_count": 8,
   "metadata": {},
   "outputs": [],
   "source": [
    "from restaurant_utils import calculate_popularity\n",
    "\n",
    "restaurants_df = calculate_popularity(restaurants_df)"
   ]
  },
  {
   "cell_type": "markdown",
   "metadata": {},
   "source": [
    "### Extract attributes into columns\n",
    "**Attributes supported:** RestaurantsPriceRange2, OutdoorSeating, RestaurantsGoodForGroups, BusinessAcceptsCreditCards, GoodForKids, RestaurantsDelivery, Caters"
   ]
  },
  {
   "cell_type": "code",
   "execution_count": 9,
   "metadata": {},
   "outputs": [],
   "source": [
    "from restaurant_utils import extract_attributes\n",
    "\n",
    "# Necessary as attributes are stored as JSON\n",
    "all_business_df = pd.read_json('../yelp/yelp_academic_dataset_business.json', lines=True)\n",
    "all_business_df = all_business_df[[\"business_id\", \"attributes\"]]\n",
    "\n",
    "restaurants_df = extract_attributes(restaurants_df, all_business_df)"
   ]
  },
  {
   "cell_type": "code",
   "execution_count": 10,
   "metadata": {},
   "outputs": [
    {
     "data": {
      "text/html": [
       "<div>\n",
       "<style scoped>\n",
       "    .dataframe tbody tr th:only-of-type {\n",
       "        vertical-align: middle;\n",
       "    }\n",
       "\n",
       "    .dataframe tbody tr th {\n",
       "        vertical-align: top;\n",
       "    }\n",
       "\n",
       "    .dataframe thead th {\n",
       "        text-align: right;\n",
       "    }\n",
       "</style>\n",
       "<table border=\"1\" class=\"dataframe\">\n",
       "  <thead>\n",
       "    <tr style=\"text-align: right;\">\n",
       "      <th></th>\n",
       "      <th>business_id</th>\n",
       "      <th>city</th>\n",
       "      <th>state</th>\n",
       "      <th>latitude</th>\n",
       "      <th>longitude</th>\n",
       "      <th>is_open</th>\n",
       "      <th>attributes_x</th>\n",
       "      <th>categories</th>\n",
       "      <th>hours</th>\n",
       "      <th>checkin_count</th>\n",
       "      <th>...</th>\n",
       "      <th>popularity_value</th>\n",
       "      <th>popularity</th>\n",
       "      <th>attributes_y</th>\n",
       "      <th>price_tier</th>\n",
       "      <th>outdoors</th>\n",
       "      <th>good_for_groups</th>\n",
       "      <th>has_credit_card</th>\n",
       "      <th>good_for_kids</th>\n",
       "      <th>has_delivery</th>\n",
       "      <th>caters</th>\n",
       "    </tr>\n",
       "  </thead>\n",
       "  <tbody>\n",
       "    <tr>\n",
       "      <th>0</th>\n",
       "      <td>6iYb2HFDywm3zjuRg0shjw</td>\n",
       "      <td>Boulder</td>\n",
       "      <td>CO</td>\n",
       "      <td>40.017544</td>\n",
       "      <td>-105.283348</td>\n",
       "      <td>1</td>\n",
       "      <td>{'RestaurantsTableService': 'True', 'WiFi': \"u...</td>\n",
       "      <td>Gastropubs, Food, Beer Gardens, Restaurants, B...</td>\n",
       "      <td>{'Monday': '11:0-23:0', 'Tuesday': '11:0-23:0'...</td>\n",
       "      <td>79</td>\n",
       "      <td>...</td>\n",
       "      <td>475.040397</td>\n",
       "      <td>2</td>\n",
       "      <td>{'RestaurantsTableService': 'True', 'WiFi': 'u...</td>\n",
       "      <td>2</td>\n",
       "      <td>1</td>\n",
       "      <td>1</td>\n",
       "      <td>1</td>\n",
       "      <td>0</td>\n",
       "      <td>1</td>\n",
       "      <td>1</td>\n",
       "    </tr>\n",
       "    <tr>\n",
       "      <th>1</th>\n",
       "      <td>tCbdrRPZA0oiIYSmHG3J0w</td>\n",
       "      <td>Portland</td>\n",
       "      <td>OR</td>\n",
       "      <td>45.588906</td>\n",
       "      <td>-122.593331</td>\n",
       "      <td>1</td>\n",
       "      <td>{'RestaurantsTakeOut': 'True', 'RestaurantsAtt...</td>\n",
       "      <td>Salad, Soup, Sandwiches, Delis, Restaurants, C...</td>\n",
       "      <td>{'Monday': '5:0-18:0', 'Tuesday': '5:0-17:0', ...</td>\n",
       "      <td>181</td>\n",
       "      <td>...</td>\n",
       "      <td>737.162331</td>\n",
       "      <td>2</td>\n",
       "      <td>{'RestaurantsTakeOut': 'True', 'RestaurantsAtt...</td>\n",
       "      <td>2</td>\n",
       "      <td>1</td>\n",
       "      <td>1</td>\n",
       "      <td>1</td>\n",
       "      <td>1</td>\n",
       "      <td>1</td>\n",
       "      <td>1</td>\n",
       "    </tr>\n",
       "    <tr>\n",
       "      <th>2</th>\n",
       "      <td>D4JtQNTI4X3KcbzacDJsMw</td>\n",
       "      <td>Vancouver</td>\n",
       "      <td>BC</td>\n",
       "      <td>49.251342</td>\n",
       "      <td>-123.101333</td>\n",
       "      <td>1</td>\n",
       "      <td>{'GoodForKids': 'True', 'Alcohol': \"u'none'\", ...</td>\n",
       "      <td>Restaurants, Thai</td>\n",
       "      <td>{'Monday': '17:0-21:0', 'Tuesday': '17:0-21:0'...</td>\n",
       "      <td>42</td>\n",
       "      <td>...</td>\n",
       "      <td>261.877324</td>\n",
       "      <td>1</td>\n",
       "      <td>{'GoodForKids': 'True', 'Alcohol': 'u'none'', ...</td>\n",
       "      <td>2</td>\n",
       "      <td>1</td>\n",
       "      <td>1</td>\n",
       "      <td>0</td>\n",
       "      <td>1</td>\n",
       "      <td>1</td>\n",
       "      <td>1</td>\n",
       "    </tr>\n",
       "  </tbody>\n",
       "</table>\n",
       "<p>3 rows × 29 columns</p>\n",
       "</div>"
      ],
      "text/plain": [
       "              business_id       city state   latitude   longitude  is_open  \\\n",
       "0  6iYb2HFDywm3zjuRg0shjw    Boulder    CO  40.017544 -105.283348        1   \n",
       "1  tCbdrRPZA0oiIYSmHG3J0w   Portland    OR  45.588906 -122.593331        1   \n",
       "2  D4JtQNTI4X3KcbzacDJsMw  Vancouver    BC  49.251342 -123.101333        1   \n",
       "\n",
       "                                        attributes_x  \\\n",
       "0  {'RestaurantsTableService': 'True', 'WiFi': \"u...   \n",
       "1  {'RestaurantsTakeOut': 'True', 'RestaurantsAtt...   \n",
       "2  {'GoodForKids': 'True', 'Alcohol': \"u'none'\", ...   \n",
       "\n",
       "                                          categories  \\\n",
       "0  Gastropubs, Food, Beer Gardens, Restaurants, B...   \n",
       "1  Salad, Soup, Sandwiches, Delis, Restaurants, C...   \n",
       "2                                  Restaurants, Thai   \n",
       "\n",
       "                                               hours  checkin_count  ...  \\\n",
       "0  {'Monday': '11:0-23:0', 'Tuesday': '11:0-23:0'...             79  ...   \n",
       "1  {'Monday': '5:0-18:0', 'Tuesday': '5:0-17:0', ...            181  ...   \n",
       "2  {'Monday': '17:0-21:0', 'Tuesday': '17:0-21:0'...             42  ...   \n",
       "\n",
       "   popularity_value  popularity  \\\n",
       "0        475.040397           2   \n",
       "1        737.162331           2   \n",
       "2        261.877324           1   \n",
       "\n",
       "                                        attributes_y  price_tier  outdoors  \\\n",
       "0  {'RestaurantsTableService': 'True', 'WiFi': 'u...           2         1   \n",
       "1  {'RestaurantsTakeOut': 'True', 'RestaurantsAtt...           2         1   \n",
       "2  {'GoodForKids': 'True', 'Alcohol': 'u'none'', ...           2         1   \n",
       "\n",
       "  good_for_groups has_credit_card  good_for_kids  has_delivery  caters  \n",
       "0               1               1              0             1       1  \n",
       "1               1               1              1             1       1  \n",
       "2               1               0              1             1       1  \n",
       "\n",
       "[3 rows x 29 columns]"
      ]
     },
     "execution_count": 10,
     "metadata": {},
     "output_type": "execute_result"
    }
   ],
   "source": [
    "restaurants_df.head(3)"
   ]
  },
  {
   "cell_type": "markdown",
   "metadata": {},
   "source": [
    "### Get top categories"
   ]
  },
  {
   "cell_type": "code",
   "execution_count": 11,
   "metadata": {},
   "outputs": [],
   "source": [
    "from restaurant_utils import get_top_categories\n",
    "\n",
    "top_categories = get_top_categories(restaurants_df, parameters[\"features\"][\"categories\"][1])"
   ]
  },
  {
   "cell_type": "code",
   "execution_count": 12,
   "metadata": {},
   "outputs": [
    {
     "data": {
      "text/plain": [
       "'restaurants food nightlife bars american (traditional) coffee & tea sandwiches breakfast & brunch american (new) pizza fast food burgers mexican chinese italian specialty food seafood event planning & services salad desserts bakeries japanese cafes grocery beer wine & spirits shopping sushi bars caterers ice cream & frozen yogurt chicken wings asian fusion food trucks cocktail bars pubs delis sports bars vegetarian juice bars & smoothies mediterranean barbeque thai diners steakhouses arts & entertainment wine bars soup tex-mex gluten-free vegan'"
      ]
     },
     "execution_count": 12,
     "metadata": {},
     "output_type": "execute_result"
    }
   ],
   "source": [
    "\" \".join(top_categories)"
   ]
  },
  {
   "cell_type": "markdown",
   "metadata": {},
   "source": [
    "### Generate Graph"
   ]
  },
  {
   "cell_type": "code",
   "execution_count": 13,
   "metadata": {},
   "outputs": [],
   "source": [
    "G = nx.Graph()\n",
    "# rest = {} # Mapping from business_id to node index\n",
    "# current = 0 # Node index"
   ]
  },
  {
   "cell_type": "code",
   "execution_count": 14,
   "metadata": {},
   "outputs": [],
   "source": [
    "from restaurant_utils import get_categories\n",
    "\n",
    "for index, row in restaurants_df.iterrows():\n",
    "#     rest[row[\"business_id\"]] = current\n",
    "    \n",
    "    node_label = row[\"popularity\"]\n",
    "    \n",
    "    features = []\n",
    "    \n",
    "    if parameters[\"features\"][\"attributes\"]:\n",
    "        features += [row[\"price_tier\"], row[\"outdoors\"], row[\"good_for_groups\"], row[\"has_credit_card\"], \n",
    "                    row[\"good_for_kids\"], row[\"has_delivery\"], row[\"caters\"]]\n",
    "        \n",
    "    if parameters[\"features\"][\"categories\"][0]:\n",
    "        features += get_categories(row[\"categories\"], top_categories)\n",
    "    \n",
    "    G.add_node(row[\"business_id\"], node_label=node_label, node_feature=features)\n",
    "#     current += 1"
   ]
  },
  {
   "cell_type": "code",
   "execution_count": 15,
   "metadata": {},
   "outputs": [],
   "source": [
    "for index, row in edges_df.iterrows():\n",
    "#     try:\n",
    "#         node1 = rest[row[\"id1\"]]\n",
    "#         node2 = rest[row[\"id2\"]]\n",
    "#         dist = row[\"distance\"]\n",
    "        \n",
    "#         if dist < parameters[\"distance\"]:\n",
    "#             G.add_edge(node1, node2)\n",
    "#     except KeyError:\n",
    "#         pass\n",
    "    node1 = row[\"id1\"]\n",
    "    node2 = row[\"id2\"]\n",
    "    if node1 not in G.nodes or node2 not in G.nodes:\n",
    "        continue\n",
    "    dist = row[\"distance\"]\n",
    "\n",
    "    if dist <= parameters[\"distance\"]:\n",
    "        G.add_edge(node1, node2)"
   ]
  },
  {
   "cell_type": "markdown",
   "metadata": {},
   "source": [
    "### Summary"
   ]
  },
  {
   "cell_type": "code",
   "execution_count": 16,
   "metadata": {},
   "outputs": [
    {
     "name": "stdout",
     "output_type": "stream",
     "text": [
      "Number of nodes: 29963\n",
      "Number of edges: 491371\n",
      "Number of features: 57\n"
     ]
    }
   ],
   "source": [
    "print(f\"Number of nodes: {G.number_of_nodes()}\")\n",
    "print(f\"Number of edges: {G.number_of_edges()}\")\n",
    "print(f\"Number of features: {len(list(G.nodes.data())[0][1]['node_feature'])}\")"
   ]
  },
  {
   "cell_type": "markdown",
   "metadata": {},
   "source": [
    "### Convert features to Tensor"
   ]
  },
  {
   "cell_type": "code",
   "execution_count": 17,
   "metadata": {},
   "outputs": [],
   "source": [
    "for i in G.nodes():\n",
    "    G.nodes[i][\"node_feature\"] = torch.FloatTensor(G.nodes[i][\"node_feature\"])"
   ]
  },
  {
   "cell_type": "markdown",
   "metadata": {},
   "source": [
    "### Write graph to disk"
   ]
  },
  {
   "cell_type": "code",
   "execution_count": 18,
   "metadata": {},
   "outputs": [],
   "source": [
    "nx.write_gpickle(G, parameters[\"filename\"] + \".gpickle\")"
   ]
  },
  {
   "cell_type": "code",
   "execution_count": 19,
   "metadata": {},
   "outputs": [],
   "source": [
    "with open(parameters[\"filename\"] + \".json\", \"w\") as outfile: \n",
    "    json.dump(parameters, outfile)"
   ]
  },
  {
   "cell_type": "code",
   "execution_count": null,
   "metadata": {},
   "outputs": [],
   "source": []
  }
 ],
 "metadata": {
  "kernelspec": {
   "display_name": "Python 3",
   "language": "python",
   "name": "python3"
  },
  "language_info": {
   "codemirror_mode": {
    "name": "ipython",
    "version": 3
   },
   "file_extension": ".py",
   "mimetype": "text/x-python",
   "name": "python",
   "nbconvert_exporter": "python",
   "pygments_lexer": "ipython3",
   "version": "3.8.8"
  }
 },
 "nbformat": 4,
 "nbformat_minor": 4
}

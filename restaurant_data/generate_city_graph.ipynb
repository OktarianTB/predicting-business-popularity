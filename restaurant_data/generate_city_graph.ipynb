{
 "cells": [
  {
   "cell_type": "markdown",
   "metadata": {},
   "source": [
    "## Generate Network for each City"
   ]
  },
  {
   "cell_type": "code",
   "execution_count": 1,
   "metadata": {},
   "outputs": [],
   "source": [
    "import networkx as nx\n",
    "import pandas as pd\n",
    "import numpy as np"
   ]
  },
  {
   "cell_type": "markdown",
   "metadata": {},
   "source": [
    "### Read Data"
   ]
  },
  {
   "cell_type": "code",
   "execution_count": 2,
   "metadata": {},
   "outputs": [],
   "source": [
    "restaurants_df = pd.read_csv(\"./../datasets/2017-2018_restaurants.csv\")"
   ]
  },
  {
   "cell_type": "code",
   "execution_count": 3,
   "metadata": {},
   "outputs": [
    {
     "data": {
      "text/html": [
       "<div>\n",
       "<style scoped>\n",
       "    .dataframe tbody tr th:only-of-type {\n",
       "        vertical-align: middle;\n",
       "    }\n",
       "\n",
       "    .dataframe tbody tr th {\n",
       "        vertical-align: top;\n",
       "    }\n",
       "\n",
       "    .dataframe thead th {\n",
       "        text-align: right;\n",
       "    }\n",
       "</style>\n",
       "<table border=\"1\" class=\"dataframe\">\n",
       "  <thead>\n",
       "    <tr style=\"text-align: right;\">\n",
       "      <th></th>\n",
       "      <th>business_id</th>\n",
       "      <th>city</th>\n",
       "      <th>state</th>\n",
       "      <th>latitude</th>\n",
       "      <th>longitude</th>\n",
       "      <th>is_open</th>\n",
       "      <th>attributes</th>\n",
       "      <th>categories</th>\n",
       "      <th>hours</th>\n",
       "      <th>checkin_count</th>\n",
       "      <th>review_count</th>\n",
       "      <th>raw_stars</th>\n",
       "      <th>stars</th>\n",
       "      <th>weighted_stars</th>\n",
       "      <th>tip_count</th>\n",
       "      <th>first_date</th>\n",
       "      <th>last_date</th>\n",
       "      <th>visit_count</th>\n",
       "      <th>is_open_year_after</th>\n",
       "    </tr>\n",
       "  </thead>\n",
       "  <tbody>\n",
       "    <tr>\n",
       "      <th>0</th>\n",
       "      <td>6iYb2HFDywm3zjuRg0shjw</td>\n",
       "      <td>Boulder</td>\n",
       "      <td>CO</td>\n",
       "      <td>40.017544</td>\n",
       "      <td>-105.283348</td>\n",
       "      <td>1</td>\n",
       "      <td>{'RestaurantsTableService': 'True', 'WiFi': \"u...</td>\n",
       "      <td>Gastropubs, Food, Beer Gardens, Restaurants, B...</td>\n",
       "      <td>{'Monday': '11:0-23:0', 'Tuesday': '11:0-23:0'...</td>\n",
       "      <td>79</td>\n",
       "      <td>49</td>\n",
       "      <td>3.714286</td>\n",
       "      <td>3.5</td>\n",
       "      <td>2.827977</td>\n",
       "      <td>4</td>\n",
       "      <td>2017-09-09 04:42:34</td>\n",
       "      <td>2021-01-22 05:20:38</td>\n",
       "      <td>132</td>\n",
       "      <td>True</td>\n",
       "    </tr>\n",
       "    <tr>\n",
       "      <th>1</th>\n",
       "      <td>tCbdrRPZA0oiIYSmHG3J0w</td>\n",
       "      <td>Portland</td>\n",
       "      <td>OR</td>\n",
       "      <td>45.588906</td>\n",
       "      <td>-122.593331</td>\n",
       "      <td>1</td>\n",
       "      <td>{'RestaurantsTakeOut': 'True', 'RestaurantsAtt...</td>\n",
       "      <td>Salad, Soup, Sandwiches, Delis, Restaurants, C...</td>\n",
       "      <td>{'Monday': '5:0-18:0', 'Tuesday': '5:0-17:0', ...</td>\n",
       "      <td>181</td>\n",
       "      <td>24</td>\n",
       "      <td>3.500000</td>\n",
       "      <td>3.5</td>\n",
       "      <td>2.734268</td>\n",
       "      <td>4</td>\n",
       "      <td>2010-03-09 16:02:04</td>\n",
       "      <td>2021-01-21 17:55:35</td>\n",
       "      <td>209</td>\n",
       "      <td>True</td>\n",
       "    </tr>\n",
       "    <tr>\n",
       "      <th>2</th>\n",
       "      <td>D4JtQNTI4X3KcbzacDJsMw</td>\n",
       "      <td>Vancouver</td>\n",
       "      <td>BC</td>\n",
       "      <td>49.251342</td>\n",
       "      <td>-123.101333</td>\n",
       "      <td>1</td>\n",
       "      <td>{'GoodForKids': 'True', 'Alcohol': \"u'none'\", ...</td>\n",
       "      <td>Restaurants, Thai</td>\n",
       "      <td>{'Monday': '17:0-21:0', 'Tuesday': '17:0-21:0'...</td>\n",
       "      <td>42</td>\n",
       "      <td>28</td>\n",
       "      <td>3.678571</td>\n",
       "      <td>3.5</td>\n",
       "      <td>3.284146</td>\n",
       "      <td>3</td>\n",
       "      <td>2010-09-26 04:03:35</td>\n",
       "      <td>2021-01-23 01:43:50</td>\n",
       "      <td>73</td>\n",
       "      <td>True</td>\n",
       "    </tr>\n",
       "  </tbody>\n",
       "</table>\n",
       "</div>"
      ],
      "text/plain": [
       "              business_id       city state   latitude   longitude  is_open  \\\n",
       "0  6iYb2HFDywm3zjuRg0shjw    Boulder    CO  40.017544 -105.283348        1   \n",
       "1  tCbdrRPZA0oiIYSmHG3J0w   Portland    OR  45.588906 -122.593331        1   \n",
       "2  D4JtQNTI4X3KcbzacDJsMw  Vancouver    BC  49.251342 -123.101333        1   \n",
       "\n",
       "                                          attributes  \\\n",
       "0  {'RestaurantsTableService': 'True', 'WiFi': \"u...   \n",
       "1  {'RestaurantsTakeOut': 'True', 'RestaurantsAtt...   \n",
       "2  {'GoodForKids': 'True', 'Alcohol': \"u'none'\", ...   \n",
       "\n",
       "                                          categories  \\\n",
       "0  Gastropubs, Food, Beer Gardens, Restaurants, B...   \n",
       "1  Salad, Soup, Sandwiches, Delis, Restaurants, C...   \n",
       "2                                  Restaurants, Thai   \n",
       "\n",
       "                                               hours  checkin_count  \\\n",
       "0  {'Monday': '11:0-23:0', 'Tuesday': '11:0-23:0'...             79   \n",
       "1  {'Monday': '5:0-18:0', 'Tuesday': '5:0-17:0', ...            181   \n",
       "2  {'Monday': '17:0-21:0', 'Tuesday': '17:0-21:0'...             42   \n",
       "\n",
       "   review_count  raw_stars  stars  weighted_stars  tip_count  \\\n",
       "0            49   3.714286    3.5        2.827977          4   \n",
       "1            24   3.500000    3.5        2.734268          4   \n",
       "2            28   3.678571    3.5        3.284146          3   \n",
       "\n",
       "            first_date            last_date  visit_count  is_open_year_after  \n",
       "0  2017-09-09 04:42:34  2021-01-22 05:20:38          132                True  \n",
       "1  2010-03-09 16:02:04  2021-01-21 17:55:35          209                True  \n",
       "2  2010-09-26 04:03:35  2021-01-23 01:43:50           73                True  "
      ]
     },
     "execution_count": 3,
     "metadata": {},
     "output_type": "execute_result"
    }
   ],
   "source": [
    "restaurants_df.head(3)"
   ]
  },
  {
   "cell_type": "code",
   "execution_count": 4,
   "metadata": {},
   "outputs": [],
   "source": [
    "boulder_edges_df = pd.read_csv(\"./../datasets/area_edges/vancouver_edges_df.csv\")"
   ]
  },
  {
   "cell_type": "code",
   "execution_count": 5,
   "metadata": {},
   "outputs": [
    {
     "data": {
      "text/html": [
       "<div>\n",
       "<style scoped>\n",
       "    .dataframe tbody tr th:only-of-type {\n",
       "        vertical-align: middle;\n",
       "    }\n",
       "\n",
       "    .dataframe tbody tr th {\n",
       "        vertical-align: top;\n",
       "    }\n",
       "\n",
       "    .dataframe thead th {\n",
       "        text-align: right;\n",
       "    }\n",
       "</style>\n",
       "<table border=\"1\" class=\"dataframe\">\n",
       "  <thead>\n",
       "    <tr style=\"text-align: right;\">\n",
       "      <th></th>\n",
       "      <th>id1</th>\n",
       "      <th>id2</th>\n",
       "      <th>distance</th>\n",
       "    </tr>\n",
       "  </thead>\n",
       "  <tbody>\n",
       "    <tr>\n",
       "      <th>0</th>\n",
       "      <td>D4JtQNTI4X3KcbzacDJsMw</td>\n",
       "      <td>TRYXC-fnNuWe41w-7xVLew</td>\n",
       "      <td>76</td>\n",
       "    </tr>\n",
       "    <tr>\n",
       "      <th>1</th>\n",
       "      <td>D4JtQNTI4X3KcbzacDJsMw</td>\n",
       "      <td>0Z3I4k4PmcPnvgtFFGcPMg</td>\n",
       "      <td>310</td>\n",
       "    </tr>\n",
       "    <tr>\n",
       "      <th>2</th>\n",
       "      <td>D4JtQNTI4X3KcbzacDJsMw</td>\n",
       "      <td>R7qwtUEJfxhjFbO4SRXgFg</td>\n",
       "      <td>324</td>\n",
       "    </tr>\n",
       "    <tr>\n",
       "      <th>3</th>\n",
       "      <td>D4JtQNTI4X3KcbzacDJsMw</td>\n",
       "      <td>sGBxgKltNOTT_fI_vQMsAw</td>\n",
       "      <td>140</td>\n",
       "    </tr>\n",
       "    <tr>\n",
       "      <th>4</th>\n",
       "      <td>D4JtQNTI4X3KcbzacDJsMw</td>\n",
       "      <td>VMTKdTICNrTQdzbgzIbH3Q</td>\n",
       "      <td>396</td>\n",
       "    </tr>\n",
       "  </tbody>\n",
       "</table>\n",
       "</div>"
      ],
      "text/plain": [
       "                      id1                     id2  distance\n",
       "0  D4JtQNTI4X3KcbzacDJsMw  TRYXC-fnNuWe41w-7xVLew        76\n",
       "1  D4JtQNTI4X3KcbzacDJsMw  0Z3I4k4PmcPnvgtFFGcPMg       310\n",
       "2  D4JtQNTI4X3KcbzacDJsMw  R7qwtUEJfxhjFbO4SRXgFg       324\n",
       "3  D4JtQNTI4X3KcbzacDJsMw  sGBxgKltNOTT_fI_vQMsAw       140\n",
       "4  D4JtQNTI4X3KcbzacDJsMw  VMTKdTICNrTQdzbgzIbH3Q       396"
      ]
     },
     "execution_count": 5,
     "metadata": {},
     "output_type": "execute_result"
    }
   ],
   "source": [
    "boulder_edges_df.head()"
   ]
  },
  {
   "cell_type": "code",
   "execution_count": 6,
   "metadata": {},
   "outputs": [
    {
     "data": {
      "text/plain": [
       "111552"
      ]
     },
     "execution_count": 6,
     "metadata": {},
     "output_type": "execute_result"
    }
   ],
   "source": [
    "len(boulder_edges_df)"
   ]
  },
  {
   "cell_type": "markdown",
   "metadata": {},
   "source": [
    "### Generate Graph"
   ]
  },
  {
   "cell_type": "code",
   "execution_count": 7,
   "metadata": {},
   "outputs": [],
   "source": [
    "graph = nx.Graph()"
   ]
  },
  {
   "cell_type": "code",
   "execution_count": 8,
   "metadata": {},
   "outputs": [],
   "source": [
    "for i, row in restaurants_df.iterrows():\n",
    "    if row[\"state\"] == \"BC\":\n",
    "        node_id = row[\"business_id\"]\n",
    "        graph.add_node(node_id, latitude=float(row[\"latitude\"]), longitude=float(row[\"longitude\"]), visit=int(row[\"visit_count\"]))"
   ]
  },
  {
   "cell_type": "code",
   "execution_count": 9,
   "metadata": {},
   "outputs": [
    {
     "data": {
      "text/plain": [
       "3984"
      ]
     },
     "execution_count": 9,
     "metadata": {},
     "output_type": "execute_result"
    }
   ],
   "source": [
    "graph.number_of_nodes()"
   ]
  },
  {
   "cell_type": "code",
   "execution_count": 10,
   "metadata": {},
   "outputs": [],
   "source": [
    "for index, row in boulder_edges_df.iterrows():\n",
    "    node_id_1 = row[\"id1\"]\n",
    "    node_id_2 = row[\"id2\"]\n",
    "\n",
    "    graph.add_edge(node_id_1, node_id_2)"
   ]
  },
  {
   "cell_type": "code",
   "execution_count": 11,
   "metadata": {},
   "outputs": [
    {
     "data": {
      "text/plain": [
       "111552"
      ]
     },
     "execution_count": 11,
     "metadata": {},
     "output_type": "execute_result"
    }
   ],
   "source": [
    "graph.number_of_edges()"
   ]
  },
  {
   "cell_type": "code",
   "execution_count": 12,
   "metadata": {},
   "outputs": [
    {
     "name": "stdout",
     "output_type": "stream",
     "text": [
      "The average clustering coefficient of the Austin graph is: 0.774546613151452\n"
     ]
    }
   ],
   "source": [
    "average_coeff = nx.average_clustering(graph)\n",
    "print(f\"The average clustering coefficient of the Austin graph is: {average_coeff}\")"
   ]
  },
  {
   "cell_type": "code",
   "execution_count": 13,
   "metadata": {},
   "outputs": [
    {
     "data": {
      "text/plain": [
       "'Name: \\nType: Graph\\nNumber of nodes: 3984\\nNumber of edges: 111552\\nAverage degree:  56.0000'"
      ]
     },
     "execution_count": 13,
     "metadata": {},
     "output_type": "execute_result"
    }
   ],
   "source": [
    "nx.info(graph)"
   ]
  },
  {
   "cell_type": "code",
   "execution_count": 15,
   "metadata": {},
   "outputs": [],
   "source": [
    "nx.write_gexf(graph, \"vancouver.gexf\")"
   ]
  },
  {
   "cell_type": "code",
   "execution_count": null,
   "metadata": {},
   "outputs": [],
   "source": []
  }
 ],
 "metadata": {
  "kernelspec": {
   "display_name": "Python 3",
   "language": "python",
   "name": "python3"
  },
  "language_info": {
   "codemirror_mode": {
    "name": "ipython",
    "version": 3
   },
   "file_extension": ".py",
   "mimetype": "text/x-python",
   "name": "python",
   "nbconvert_exporter": "python",
   "pygments_lexer": "ipython3",
   "version": "3.7.0"
  }
 },
 "nbformat": 4,
 "nbformat_minor": 2
}

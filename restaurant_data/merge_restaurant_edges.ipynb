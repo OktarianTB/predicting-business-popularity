{
 "cells": [
  {
   "cell_type": "markdown",
   "metadata": {},
   "source": [
    "# Restaurant Edges from CSV of Areas"
   ]
  },
  {
   "cell_type": "code",
   "execution_count": 1,
   "metadata": {},
   "outputs": [],
   "source": [
    "import json\n",
    "import pandas as pd\n",
    "import numpy as np\n",
    "import math\n",
    "import time"
   ]
  },
  {
   "cell_type": "code",
   "execution_count": 2,
   "metadata": {},
   "outputs": [
    {
     "data": {
      "text/plain": [
       "43484"
      ]
     },
     "execution_count": 2,
     "metadata": {},
     "output_type": "execute_result"
    }
   ],
   "source": [
    "atlanta_edges_df = pd.read_csv(\"./../datasets/area_edges/atlanta_edges_df.csv\")\n",
    "len(atlanta_edges_df)"
   ]
  },
  {
   "cell_type": "code",
   "execution_count": 3,
   "metadata": {},
   "outputs": [
    {
     "data": {
      "text/plain": [
       "38202"
      ]
     },
     "execution_count": 3,
     "metadata": {},
     "output_type": "execute_result"
    }
   ],
   "source": [
    "austin_edges_df = pd.read_csv(\"./../datasets/area_edges/austin_edges_df.csv\")\n",
    "len(austin_edges_df)"
   ]
  },
  {
   "cell_type": "code",
   "execution_count": 4,
   "metadata": {},
   "outputs": [
    {
     "data": {
      "text/plain": [
       "130824"
      ]
     },
     "execution_count": 4,
     "metadata": {},
     "output_type": "execute_result"
    }
   ],
   "source": [
    "boston_edges_df = pd.read_csv(\"./../datasets/area_edges/boston_edges_df.csv\")\n",
    "len(boston_edges_df)"
   ]
  },
  {
   "cell_type": "code",
   "execution_count": 5,
   "metadata": {},
   "outputs": [
    {
     "data": {
      "text/plain": [
       "8397"
      ]
     },
     "execution_count": 5,
     "metadata": {},
     "output_type": "execute_result"
    }
   ],
   "source": [
    "boulder_edges_df = pd.read_csv(\"./../datasets/area_edges/boulder_edges_df.csv\")\n",
    "len(boulder_edges_df)"
   ]
  },
  {
   "cell_type": "code",
   "execution_count": 6,
   "metadata": {},
   "outputs": [
    {
     "data": {
      "text/plain": [
       "19129"
      ]
     },
     "execution_count": 6,
     "metadata": {},
     "output_type": "execute_result"
    }
   ],
   "source": [
    "colombus_edges_df = pd.read_csv(\"./../datasets/area_edges/colombus_edges_df.csv\")\n",
    "len(colombus_edges_df)"
   ]
  },
  {
   "cell_type": "code",
   "execution_count": 7,
   "metadata": {},
   "outputs": [
    {
     "data": {
      "text/plain": [
       "37901"
      ]
     },
     "execution_count": 7,
     "metadata": {},
     "output_type": "execute_result"
    }
   ],
   "source": [
    "orlando_edges_df = pd.read_csv(\"./../datasets/area_edges/orlando_edges_df.csv\")\n",
    "len(orlando_edges_df)"
   ]
  },
  {
   "cell_type": "code",
   "execution_count": 8,
   "metadata": {},
   "outputs": [
    {
     "data": {
      "text/plain": [
       "104714"
      ]
     },
     "execution_count": 8,
     "metadata": {},
     "output_type": "execute_result"
    }
   ],
   "source": [
    "portland_edges_df = pd.read_csv(\"./../datasets/area_edges/portland_edges_df.csv\")\n",
    "len(portland_edges_df)"
   ]
  },
  {
   "cell_type": "code",
   "execution_count": 9,
   "metadata": {},
   "outputs": [
    {
     "data": {
      "text/plain": [
       "111552"
      ]
     },
     "execution_count": 9,
     "metadata": {},
     "output_type": "execute_result"
    }
   ],
   "source": [
    "vancouver_edges_df = pd.read_csv(\"./../datasets/area_edges/vancouver_edges_df.csv\")\n",
    "len(vancouver_edges_df)"
   ]
  },
  {
   "cell_type": "code",
   "execution_count": 10,
   "metadata": {},
   "outputs": [
    {
     "data": {
      "text/html": [
       "<div>\n",
       "<style scoped>\n",
       "    .dataframe tbody tr th:only-of-type {\n",
       "        vertical-align: middle;\n",
       "    }\n",
       "\n",
       "    .dataframe tbody tr th {\n",
       "        vertical-align: top;\n",
       "    }\n",
       "\n",
       "    .dataframe thead th {\n",
       "        text-align: right;\n",
       "    }\n",
       "</style>\n",
       "<table border=\"1\" class=\"dataframe\">\n",
       "  <thead>\n",
       "    <tr style=\"text-align: right;\">\n",
       "      <th></th>\n",
       "      <th>id1</th>\n",
       "      <th>id2</th>\n",
       "      <th>distance</th>\n",
       "    </tr>\n",
       "  </thead>\n",
       "  <tbody>\n",
       "    <tr>\n",
       "      <th>0</th>\n",
       "      <td>Q2vefh0tGhtCGQDK1FI7cw</td>\n",
       "      <td>ssK5vKQ_eN0VyGoYKOmkeQ</td>\n",
       "      <td>441</td>\n",
       "    </tr>\n",
       "    <tr>\n",
       "      <th>1</th>\n",
       "      <td>Q2vefh0tGhtCGQDK1FI7cw</td>\n",
       "      <td>tSZTPA7uERhWkKq_jbl3Eg</td>\n",
       "      <td>209</td>\n",
       "    </tr>\n",
       "    <tr>\n",
       "      <th>2</th>\n",
       "      <td>Q2vefh0tGhtCGQDK1FI7cw</td>\n",
       "      <td>bSy6VVJIdYPza1Bj9_Eicw</td>\n",
       "      <td>450</td>\n",
       "    </tr>\n",
       "    <tr>\n",
       "      <th>3</th>\n",
       "      <td>Q2vefh0tGhtCGQDK1FI7cw</td>\n",
       "      <td>Z5iQ4LXTbNbYZ5HkpJVWBQ</td>\n",
       "      <td>279</td>\n",
       "    </tr>\n",
       "    <tr>\n",
       "      <th>4</th>\n",
       "      <td>Q2vefh0tGhtCGQDK1FI7cw</td>\n",
       "      <td>dYiOhCuOWJRlwOZb1lCBsA</td>\n",
       "      <td>489</td>\n",
       "    </tr>\n",
       "  </tbody>\n",
       "</table>\n",
       "</div>"
      ],
      "text/plain": [
       "                      id1                     id2  distance\n",
       "0  Q2vefh0tGhtCGQDK1FI7cw  ssK5vKQ_eN0VyGoYKOmkeQ       441\n",
       "1  Q2vefh0tGhtCGQDK1FI7cw  tSZTPA7uERhWkKq_jbl3Eg       209\n",
       "2  Q2vefh0tGhtCGQDK1FI7cw  bSy6VVJIdYPza1Bj9_Eicw       450\n",
       "3  Q2vefh0tGhtCGQDK1FI7cw  Z5iQ4LXTbNbYZ5HkpJVWBQ       279\n",
       "4  Q2vefh0tGhtCGQDK1FI7cw  dYiOhCuOWJRlwOZb1lCBsA       489"
      ]
     },
     "execution_count": 10,
     "metadata": {},
     "output_type": "execute_result"
    }
   ],
   "source": [
    "atlanta_edges_df.head()"
   ]
  },
  {
   "cell_type": "code",
   "execution_count": 11,
   "metadata": {},
   "outputs": [],
   "source": [
    "edges_df = atlanta_edges_df.append(austin_edges_df).append(boston_edges_df).append(boulder_edges_df) \\\n",
    "    .append(colombus_edges_df).append(orlando_edges_df).append(portland_edges_df).append(vancouver_edges_df)"
   ]
  },
  {
   "cell_type": "code",
   "execution_count": 12,
   "metadata": {},
   "outputs": [
    {
     "data": {
      "text/plain": [
       "494203"
      ]
     },
     "execution_count": 12,
     "metadata": {},
     "output_type": "execute_result"
    }
   ],
   "source": [
    "len(edges_df)"
   ]
  },
  {
   "cell_type": "code",
   "execution_count": 13,
   "metadata": {},
   "outputs": [],
   "source": [
    "edges_df.to_csv(\"./2017-2018_restaurant-edges.csv\", index=False)"
   ]
  },
  {
   "cell_type": "code",
   "execution_count": null,
   "metadata": {},
   "outputs": [],
   "source": []
  }
 ],
 "metadata": {
  "kernelspec": {
   "display_name": "Python 3",
   "language": "python",
   "name": "python3"
  },
  "language_info": {
   "codemirror_mode": {
    "name": "ipython",
    "version": 3
   },
   "file_extension": ".py",
   "mimetype": "text/x-python",
   "name": "python",
   "nbconvert_exporter": "python",
   "pygments_lexer": "ipython3",
   "version": "3.7.0"
  }
 },
 "nbformat": 4,
 "nbformat_minor": 2
}

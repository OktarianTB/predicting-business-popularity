{
 "cells": [
  {
   "cell_type": "markdown",
   "metadata": {
    "id": "NNgHAqP_DR8U"
   },
   "source": [
    "## Generate Network Graph for Restaurants"
   ]
  },
  {
   "cell_type": "markdown",
   "metadata": {
    "id": "4T1RD3CPDR8a"
   },
   "source": [
    "### Read Data"
   ]
  },
  {
   "cell_type": "code",
   "execution_count": 1,
   "metadata": {
    "id": "W6oEnFqVDR8b"
   },
   "outputs": [],
   "source": [
    "import pandas as pd\n",
    "import numpy as np\n",
    "import torch"
   ]
  },
  {
   "cell_type": "code",
   "execution_count": 2,
   "metadata": {
    "id": "hHU0FFSeDR8b"
   },
   "outputs": [],
   "source": [
    "restaurants_df = pd.read_csv(\"./../datasets/2017-2018_restaurants.csv\")"
   ]
  },
  {
   "cell_type": "code",
   "execution_count": 3,
   "metadata": {
    "colab": {
     "base_uri": "https://localhost:8080/",
     "height": 534
    },
    "id": "rYdbk4JXDR8c",
    "outputId": "3e8c50aa-170c-4c8e-ba09-932f05494dd1"
   },
   "outputs": [
    {
     "data": {
      "text/html": [
       "<div>\n",
       "<style scoped>\n",
       "    .dataframe tbody tr th:only-of-type {\n",
       "        vertical-align: middle;\n",
       "    }\n",
       "\n",
       "    .dataframe tbody tr th {\n",
       "        vertical-align: top;\n",
       "    }\n",
       "\n",
       "    .dataframe thead th {\n",
       "        text-align: right;\n",
       "    }\n",
       "</style>\n",
       "<table border=\"1\" class=\"dataframe\">\n",
       "  <thead>\n",
       "    <tr style=\"text-align: right;\">\n",
       "      <th></th>\n",
       "      <th>business_id</th>\n",
       "      <th>city</th>\n",
       "      <th>state</th>\n",
       "      <th>latitude</th>\n",
       "      <th>longitude</th>\n",
       "      <th>is_open</th>\n",
       "      <th>attributes</th>\n",
       "      <th>categories</th>\n",
       "      <th>hours</th>\n",
       "      <th>checkin_count</th>\n",
       "      <th>review_count</th>\n",
       "      <th>raw_stars</th>\n",
       "      <th>stars</th>\n",
       "      <th>weighted_stars</th>\n",
       "      <th>tip_count</th>\n",
       "      <th>first_date</th>\n",
       "      <th>last_date</th>\n",
       "      <th>visit_count</th>\n",
       "      <th>is_open_year_after</th>\n",
       "    </tr>\n",
       "  </thead>\n",
       "  <tbody>\n",
       "    <tr>\n",
       "      <th>0</th>\n",
       "      <td>6iYb2HFDywm3zjuRg0shjw</td>\n",
       "      <td>Boulder</td>\n",
       "      <td>CO</td>\n",
       "      <td>40.017544</td>\n",
       "      <td>-105.283348</td>\n",
       "      <td>1</td>\n",
       "      <td>{'RestaurantsTableService': 'True', 'WiFi': \"u...</td>\n",
       "      <td>Gastropubs, Food, Beer Gardens, Restaurants, B...</td>\n",
       "      <td>{'Monday': '11:0-23:0', 'Tuesday': '11:0-23:0'...</td>\n",
       "      <td>79</td>\n",
       "      <td>49</td>\n",
       "      <td>3.714286</td>\n",
       "      <td>3.5</td>\n",
       "      <td>2.827977</td>\n",
       "      <td>4</td>\n",
       "      <td>2017-09-09 04:42:34</td>\n",
       "      <td>2021-01-22 05:20:38</td>\n",
       "      <td>132</td>\n",
       "      <td>True</td>\n",
       "    </tr>\n",
       "    <tr>\n",
       "      <th>1</th>\n",
       "      <td>tCbdrRPZA0oiIYSmHG3J0w</td>\n",
       "      <td>Portland</td>\n",
       "      <td>OR</td>\n",
       "      <td>45.588906</td>\n",
       "      <td>-122.593331</td>\n",
       "      <td>1</td>\n",
       "      <td>{'RestaurantsTakeOut': 'True', 'RestaurantsAtt...</td>\n",
       "      <td>Salad, Soup, Sandwiches, Delis, Restaurants, C...</td>\n",
       "      <td>{'Monday': '5:0-18:0', 'Tuesday': '5:0-17:0', ...</td>\n",
       "      <td>181</td>\n",
       "      <td>24</td>\n",
       "      <td>3.500000</td>\n",
       "      <td>3.5</td>\n",
       "      <td>2.734268</td>\n",
       "      <td>4</td>\n",
       "      <td>2010-03-09 16:02:04</td>\n",
       "      <td>2021-01-21 17:55:35</td>\n",
       "      <td>209</td>\n",
       "      <td>True</td>\n",
       "    </tr>\n",
       "    <tr>\n",
       "      <th>2</th>\n",
       "      <td>D4JtQNTI4X3KcbzacDJsMw</td>\n",
       "      <td>Vancouver</td>\n",
       "      <td>BC</td>\n",
       "      <td>49.251342</td>\n",
       "      <td>-123.101333</td>\n",
       "      <td>1</td>\n",
       "      <td>{'GoodForKids': 'True', 'Alcohol': \"u'none'\", ...</td>\n",
       "      <td>Restaurants, Thai</td>\n",
       "      <td>{'Monday': '17:0-21:0', 'Tuesday': '17:0-21:0'...</td>\n",
       "      <td>42</td>\n",
       "      <td>28</td>\n",
       "      <td>3.678571</td>\n",
       "      <td>3.5</td>\n",
       "      <td>3.284146</td>\n",
       "      <td>3</td>\n",
       "      <td>2010-09-26 04:03:35</td>\n",
       "      <td>2021-01-23 01:43:50</td>\n",
       "      <td>73</td>\n",
       "      <td>True</td>\n",
       "    </tr>\n",
       "    <tr>\n",
       "      <th>3</th>\n",
       "      <td>ufCxltuh56FF4-ZFZ6cVhg</td>\n",
       "      <td>Orlando</td>\n",
       "      <td>FL</td>\n",
       "      <td>28.513265</td>\n",
       "      <td>-81.374707</td>\n",
       "      <td>1</td>\n",
       "      <td>{'BusinessParking': \"{'garage': False, 'street...</td>\n",
       "      <td>Restaurants, American (New), Bakeries, Dessert...</td>\n",
       "      <td>{'Tuesday': '11:0-18:0', 'Wednesday': '11:0-18...</td>\n",
       "      <td>42</td>\n",
       "      <td>38</td>\n",
       "      <td>4.631579</td>\n",
       "      <td>4.5</td>\n",
       "      <td>3.755860</td>\n",
       "      <td>5</td>\n",
       "      <td>2012-08-19 21:08:57</td>\n",
       "      <td>2020-12-29 16:25:19</td>\n",
       "      <td>85</td>\n",
       "      <td>True</td>\n",
       "    </tr>\n",
       "    <tr>\n",
       "      <th>4</th>\n",
       "      <td>dmbbf3AqeG61_QHRZi1M1w</td>\n",
       "      <td>Pine Castle</td>\n",
       "      <td>FL</td>\n",
       "      <td>28.450303</td>\n",
       "      <td>-81.380587</td>\n",
       "      <td>1</td>\n",
       "      <td>{'BikeParking': 'False', 'RestaurantsPriceRang...</td>\n",
       "      <td>Automotive, American (Traditional), Gas Statio...</td>\n",
       "      <td>NaN</td>\n",
       "      <td>4</td>\n",
       "      <td>3</td>\n",
       "      <td>3.000000</td>\n",
       "      <td>3.0</td>\n",
       "      <td>1.789357</td>\n",
       "      <td>1</td>\n",
       "      <td>2015-06-11 16:44:12</td>\n",
       "      <td>2020-11-14 00:49:04</td>\n",
       "      <td>8</td>\n",
       "      <td>True</td>\n",
       "    </tr>\n",
       "  </tbody>\n",
       "</table>\n",
       "</div>"
      ],
      "text/plain": [
       "              business_id         city state   latitude   longitude  is_open  \\\n",
       "0  6iYb2HFDywm3zjuRg0shjw      Boulder    CO  40.017544 -105.283348        1   \n",
       "1  tCbdrRPZA0oiIYSmHG3J0w     Portland    OR  45.588906 -122.593331        1   \n",
       "2  D4JtQNTI4X3KcbzacDJsMw    Vancouver    BC  49.251342 -123.101333        1   \n",
       "3  ufCxltuh56FF4-ZFZ6cVhg      Orlando    FL  28.513265  -81.374707        1   \n",
       "4  dmbbf3AqeG61_QHRZi1M1w  Pine Castle    FL  28.450303  -81.380587        1   \n",
       "\n",
       "                                          attributes  \\\n",
       "0  {'RestaurantsTableService': 'True', 'WiFi': \"u...   \n",
       "1  {'RestaurantsTakeOut': 'True', 'RestaurantsAtt...   \n",
       "2  {'GoodForKids': 'True', 'Alcohol': \"u'none'\", ...   \n",
       "3  {'BusinessParking': \"{'garage': False, 'street...   \n",
       "4  {'BikeParking': 'False', 'RestaurantsPriceRang...   \n",
       "\n",
       "                                          categories  \\\n",
       "0  Gastropubs, Food, Beer Gardens, Restaurants, B...   \n",
       "1  Salad, Soup, Sandwiches, Delis, Restaurants, C...   \n",
       "2                                  Restaurants, Thai   \n",
       "3  Restaurants, American (New), Bakeries, Dessert...   \n",
       "4  Automotive, American (Traditional), Gas Statio...   \n",
       "\n",
       "                                               hours  checkin_count  \\\n",
       "0  {'Monday': '11:0-23:0', 'Tuesday': '11:0-23:0'...             79   \n",
       "1  {'Monday': '5:0-18:0', 'Tuesday': '5:0-17:0', ...            181   \n",
       "2  {'Monday': '17:0-21:0', 'Tuesday': '17:0-21:0'...             42   \n",
       "3  {'Tuesday': '11:0-18:0', 'Wednesday': '11:0-18...             42   \n",
       "4                                                NaN              4   \n",
       "\n",
       "   review_count  raw_stars  stars  weighted_stars  tip_count  \\\n",
       "0            49   3.714286    3.5        2.827977          4   \n",
       "1            24   3.500000    3.5        2.734268          4   \n",
       "2            28   3.678571    3.5        3.284146          3   \n",
       "3            38   4.631579    4.5        3.755860          5   \n",
       "4             3   3.000000    3.0        1.789357          1   \n",
       "\n",
       "            first_date            last_date  visit_count  is_open_year_after  \n",
       "0  2017-09-09 04:42:34  2021-01-22 05:20:38          132                True  \n",
       "1  2010-03-09 16:02:04  2021-01-21 17:55:35          209                True  \n",
       "2  2010-09-26 04:03:35  2021-01-23 01:43:50           73                True  \n",
       "3  2012-08-19 21:08:57  2020-12-29 16:25:19           85                True  \n",
       "4  2015-06-11 16:44:12  2020-11-14 00:49:04            8                True  "
      ]
     },
     "execution_count": 3,
     "metadata": {},
     "output_type": "execute_result"
    }
   ],
   "source": [
    "restaurants_df.head()"
   ]
  },
  {
   "cell_type": "code",
   "execution_count": 4,
   "metadata": {
    "id": "9YTjYMi1DR8c"
   },
   "outputs": [],
   "source": [
    "#edges_df = pd.read_csv(\"./drive/MyDrive/Colab Notebooks/2017-2018_restaurant-edges.csv\")\n",
    "edges_df = pd.read_csv(\"./../datasets/2017-2018_restaurant-edges.csv\")"
   ]
  },
  {
   "cell_type": "code",
   "execution_count": 5,
   "metadata": {
    "colab": {
     "base_uri": "https://localhost:8080/",
     "height": 195
    },
    "id": "CdjiFxfxDR8d",
    "outputId": "6716b4b7-3ab2-4525-f19b-fc2a5483e166"
   },
   "outputs": [
    {
     "data": {
      "text/html": [
       "<div>\n",
       "<style scoped>\n",
       "    .dataframe tbody tr th:only-of-type {\n",
       "        vertical-align: middle;\n",
       "    }\n",
       "\n",
       "    .dataframe tbody tr th {\n",
       "        vertical-align: top;\n",
       "    }\n",
       "\n",
       "    .dataframe thead th {\n",
       "        text-align: right;\n",
       "    }\n",
       "</style>\n",
       "<table border=\"1\" class=\"dataframe\">\n",
       "  <thead>\n",
       "    <tr style=\"text-align: right;\">\n",
       "      <th></th>\n",
       "      <th>id1</th>\n",
       "      <th>id2</th>\n",
       "      <th>distance</th>\n",
       "    </tr>\n",
       "  </thead>\n",
       "  <tbody>\n",
       "    <tr>\n",
       "      <th>0</th>\n",
       "      <td>Q2vefh0tGhtCGQDK1FI7cw</td>\n",
       "      <td>ssK5vKQ_eN0VyGoYKOmkeQ</td>\n",
       "      <td>441</td>\n",
       "    </tr>\n",
       "    <tr>\n",
       "      <th>1</th>\n",
       "      <td>Q2vefh0tGhtCGQDK1FI7cw</td>\n",
       "      <td>tSZTPA7uERhWkKq_jbl3Eg</td>\n",
       "      <td>209</td>\n",
       "    </tr>\n",
       "    <tr>\n",
       "      <th>2</th>\n",
       "      <td>Q2vefh0tGhtCGQDK1FI7cw</td>\n",
       "      <td>bSy6VVJIdYPza1Bj9_Eicw</td>\n",
       "      <td>450</td>\n",
       "    </tr>\n",
       "    <tr>\n",
       "      <th>3</th>\n",
       "      <td>Q2vefh0tGhtCGQDK1FI7cw</td>\n",
       "      <td>Z5iQ4LXTbNbYZ5HkpJVWBQ</td>\n",
       "      <td>279</td>\n",
       "    </tr>\n",
       "    <tr>\n",
       "      <th>4</th>\n",
       "      <td>Q2vefh0tGhtCGQDK1FI7cw</td>\n",
       "      <td>dYiOhCuOWJRlwOZb1lCBsA</td>\n",
       "      <td>489</td>\n",
       "    </tr>\n",
       "  </tbody>\n",
       "</table>\n",
       "</div>"
      ],
      "text/plain": [
       "                      id1                     id2  distance\n",
       "0  Q2vefh0tGhtCGQDK1FI7cw  ssK5vKQ_eN0VyGoYKOmkeQ       441\n",
       "1  Q2vefh0tGhtCGQDK1FI7cw  tSZTPA7uERhWkKq_jbl3Eg       209\n",
       "2  Q2vefh0tGhtCGQDK1FI7cw  bSy6VVJIdYPza1Bj9_Eicw       450\n",
       "3  Q2vefh0tGhtCGQDK1FI7cw  Z5iQ4LXTbNbYZ5HkpJVWBQ       279\n",
       "4  Q2vefh0tGhtCGQDK1FI7cw  dYiOhCuOWJRlwOZb1lCBsA       489"
      ]
     },
     "execution_count": 5,
     "metadata": {},
     "output_type": "execute_result"
    }
   ],
   "source": [
    "edges_df.head()"
   ]
  },
  {
   "cell_type": "code",
   "execution_count": 6,
   "metadata": {
    "colab": {
     "base_uri": "https://localhost:8080/"
    },
    "id": "MvKV7nXQDR8d",
    "outputId": "a3707419-effe-4794-e02f-50b26f87087e"
   },
   "outputs": [
    {
     "name": "stdout",
     "output_type": "stream",
     "text": [
      "There are 30094 restaurants and 494203 edges.\n"
     ]
    }
   ],
   "source": [
    "print(f\"There are {len(restaurants_df)} restaurants and {len(edges_df)} edges.\")"
   ]
  },
  {
   "cell_type": "code",
   "execution_count": 7,
   "metadata": {
    "id": "iln7llhtH8_T"
   },
   "outputs": [],
   "source": [
    "restaurants_df[\"popularity_value\"] = restaurants_df[\"raw_stars\"] * restaurants_df[\"review_count\"] + restaurants_df[\"raw_stars\"].mean() * (restaurants_df[\"tip_count\"] + restaurants_df[\"checkin_count\"])"
   ]
  },
  {
   "cell_type": "code",
   "execution_count": 8,
   "metadata": {
    "colab": {
     "base_uri": "https://localhost:8080/"
    },
    "id": "s_KvrjcEIHtf",
    "outputId": "5d675930-c4d4-4e96-a281-6ce4fa38c745"
   },
   "outputs": [
    {
     "data": {
      "text/plain": [
       "463.1416345671531"
      ]
     },
     "execution_count": 8,
     "metadata": {},
     "output_type": "execute_result"
    }
   ],
   "source": [
    "restaurants_df[\"popularity_value\"].mean()"
   ]
  },
  {
   "cell_type": "code",
   "execution_count": 9,
   "metadata": {
    "id": "_7VKrKPrITL2"
   },
   "outputs": [
    {
     "name": "stdout",
     "output_type": "stream",
     "text": [
      "bottom: 116.55092953236272, top: 375.5915742046034\n"
     ]
    }
   ],
   "source": [
    "bottom = restaurants_df[\"popularity_value\"].quantile(0.33)\n",
    "median = restaurants_df[\"popularity_value\"].describe()[\"50%\"]\n",
    "top = restaurants_df[\"popularity_value\"].quantile(0.67)\n",
    "\n",
    "print(f\"bottom: {bottom}, top: {top}\")"
   ]
  },
  {
   "cell_type": "code",
   "execution_count": 10,
   "metadata": {
    "id": "-ky4fqzTImP_"
   },
   "outputs": [],
   "source": [
    "def classify_popular(score):\n",
    "    if score >= top:\n",
    "        return 2\n",
    "    if score >= bottom:\n",
    "        return 1\n",
    "    return 0"
   ]
  },
  {
   "cell_type": "code",
   "execution_count": 11,
   "metadata": {
    "id": "fKW3NYWgIUDh"
   },
   "outputs": [],
   "source": [
    "restaurants_df[\"popularity\"] = restaurants_df[\"popularity_value\"].apply(classify_popular)"
   ]
  },
  {
   "cell_type": "code",
   "execution_count": 12,
   "metadata": {
    "colab": {
     "base_uri": "https://localhost:8080/",
     "height": 294
    },
    "id": "o3DbiglFI47z",
    "outputId": "5bd77ebb-5e12-43c2-b4d4-547d4ae139f8"
   },
   "outputs": [
    {
     "data": {
      "text/html": [
       "<div>\n",
       "<style scoped>\n",
       "    .dataframe tbody tr th:only-of-type {\n",
       "        vertical-align: middle;\n",
       "    }\n",
       "\n",
       "    .dataframe tbody tr th {\n",
       "        vertical-align: top;\n",
       "    }\n",
       "\n",
       "    .dataframe thead th {\n",
       "        text-align: right;\n",
       "    }\n",
       "</style>\n",
       "<table border=\"1\" class=\"dataframe\">\n",
       "  <thead>\n",
       "    <tr style=\"text-align: right;\">\n",
       "      <th></th>\n",
       "      <th>business_id</th>\n",
       "      <th>city</th>\n",
       "      <th>state</th>\n",
       "      <th>latitude</th>\n",
       "      <th>longitude</th>\n",
       "      <th>is_open</th>\n",
       "      <th>attributes</th>\n",
       "      <th>categories</th>\n",
       "      <th>hours</th>\n",
       "      <th>checkin_count</th>\n",
       "      <th>...</th>\n",
       "      <th>raw_stars</th>\n",
       "      <th>stars</th>\n",
       "      <th>weighted_stars</th>\n",
       "      <th>tip_count</th>\n",
       "      <th>first_date</th>\n",
       "      <th>last_date</th>\n",
       "      <th>visit_count</th>\n",
       "      <th>is_open_year_after</th>\n",
       "      <th>popularity_value</th>\n",
       "      <th>popularity</th>\n",
       "    </tr>\n",
       "  </thead>\n",
       "  <tbody>\n",
       "    <tr>\n",
       "      <th>0</th>\n",
       "      <td>6iYb2HFDywm3zjuRg0shjw</td>\n",
       "      <td>Boulder</td>\n",
       "      <td>CO</td>\n",
       "      <td>40.017544</td>\n",
       "      <td>-105.283348</td>\n",
       "      <td>1</td>\n",
       "      <td>{'RestaurantsTableService': 'True', 'WiFi': \"u...</td>\n",
       "      <td>Gastropubs, Food, Beer Gardens, Restaurants, B...</td>\n",
       "      <td>{'Monday': '11:0-23:0', 'Tuesday': '11:0-23:0'...</td>\n",
       "      <td>79</td>\n",
       "      <td>...</td>\n",
       "      <td>3.714286</td>\n",
       "      <td>3.5</td>\n",
       "      <td>2.827977</td>\n",
       "      <td>4</td>\n",
       "      <td>2017-09-09 04:42:34</td>\n",
       "      <td>2021-01-22 05:20:38</td>\n",
       "      <td>132</td>\n",
       "      <td>True</td>\n",
       "      <td>475.040397</td>\n",
       "      <td>2</td>\n",
       "    </tr>\n",
       "    <tr>\n",
       "      <th>1</th>\n",
       "      <td>tCbdrRPZA0oiIYSmHG3J0w</td>\n",
       "      <td>Portland</td>\n",
       "      <td>OR</td>\n",
       "      <td>45.588906</td>\n",
       "      <td>-122.593331</td>\n",
       "      <td>1</td>\n",
       "      <td>{'RestaurantsTakeOut': 'True', 'RestaurantsAtt...</td>\n",
       "      <td>Salad, Soup, Sandwiches, Delis, Restaurants, C...</td>\n",
       "      <td>{'Monday': '5:0-18:0', 'Tuesday': '5:0-17:0', ...</td>\n",
       "      <td>181</td>\n",
       "      <td>...</td>\n",
       "      <td>3.500000</td>\n",
       "      <td>3.5</td>\n",
       "      <td>2.734268</td>\n",
       "      <td>4</td>\n",
       "      <td>2010-03-09 16:02:04</td>\n",
       "      <td>2021-01-21 17:55:35</td>\n",
       "      <td>209</td>\n",
       "      <td>True</td>\n",
       "      <td>737.162331</td>\n",
       "      <td>2</td>\n",
       "    </tr>\n",
       "    <tr>\n",
       "      <th>2</th>\n",
       "      <td>D4JtQNTI4X3KcbzacDJsMw</td>\n",
       "      <td>Vancouver</td>\n",
       "      <td>BC</td>\n",
       "      <td>49.251342</td>\n",
       "      <td>-123.101333</td>\n",
       "      <td>1</td>\n",
       "      <td>{'GoodForKids': 'True', 'Alcohol': \"u'none'\", ...</td>\n",
       "      <td>Restaurants, Thai</td>\n",
       "      <td>{'Monday': '17:0-21:0', 'Tuesday': '17:0-21:0'...</td>\n",
       "      <td>42</td>\n",
       "      <td>...</td>\n",
       "      <td>3.678571</td>\n",
       "      <td>3.5</td>\n",
       "      <td>3.284146</td>\n",
       "      <td>3</td>\n",
       "      <td>2010-09-26 04:03:35</td>\n",
       "      <td>2021-01-23 01:43:50</td>\n",
       "      <td>73</td>\n",
       "      <td>True</td>\n",
       "      <td>261.877324</td>\n",
       "      <td>1</td>\n",
       "    </tr>\n",
       "    <tr>\n",
       "      <th>3</th>\n",
       "      <td>ufCxltuh56FF4-ZFZ6cVhg</td>\n",
       "      <td>Orlando</td>\n",
       "      <td>FL</td>\n",
       "      <td>28.513265</td>\n",
       "      <td>-81.374707</td>\n",
       "      <td>1</td>\n",
       "      <td>{'BusinessParking': \"{'garage': False, 'street...</td>\n",
       "      <td>Restaurants, American (New), Bakeries, Dessert...</td>\n",
       "      <td>{'Tuesday': '11:0-18:0', 'Wednesday': '11:0-18...</td>\n",
       "      <td>42</td>\n",
       "      <td>...</td>\n",
       "      <td>4.631579</td>\n",
       "      <td>4.5</td>\n",
       "      <td>3.755860</td>\n",
       "      <td>5</td>\n",
       "      <td>2012-08-19 21:08:57</td>\n",
       "      <td>2020-12-29 16:25:19</td>\n",
       "      <td>85</td>\n",
       "      <td>True</td>\n",
       "      <td>341.938538</td>\n",
       "      <td>1</td>\n",
       "    </tr>\n",
       "    <tr>\n",
       "      <th>4</th>\n",
       "      <td>dmbbf3AqeG61_QHRZi1M1w</td>\n",
       "      <td>Pine Castle</td>\n",
       "      <td>FL</td>\n",
       "      <td>28.450303</td>\n",
       "      <td>-81.380587</td>\n",
       "      <td>1</td>\n",
       "      <td>{'BikeParking': 'False', 'RestaurantsPriceRang...</td>\n",
       "      <td>Automotive, American (Traditional), Gas Statio...</td>\n",
       "      <td>NaN</td>\n",
       "      <td>4</td>\n",
       "      <td>...</td>\n",
       "      <td>3.000000</td>\n",
       "      <td>3.0</td>\n",
       "      <td>1.789357</td>\n",
       "      <td>1</td>\n",
       "      <td>2015-06-11 16:44:12</td>\n",
       "      <td>2020-11-14 00:49:04</td>\n",
       "      <td>8</td>\n",
       "      <td>True</td>\n",
       "      <td>26.653036</td>\n",
       "      <td>0</td>\n",
       "    </tr>\n",
       "  </tbody>\n",
       "</table>\n",
       "<p>5 rows × 21 columns</p>\n",
       "</div>"
      ],
      "text/plain": [
       "              business_id         city state   latitude   longitude  is_open  \\\n",
       "0  6iYb2HFDywm3zjuRg0shjw      Boulder    CO  40.017544 -105.283348        1   \n",
       "1  tCbdrRPZA0oiIYSmHG3J0w     Portland    OR  45.588906 -122.593331        1   \n",
       "2  D4JtQNTI4X3KcbzacDJsMw    Vancouver    BC  49.251342 -123.101333        1   \n",
       "3  ufCxltuh56FF4-ZFZ6cVhg      Orlando    FL  28.513265  -81.374707        1   \n",
       "4  dmbbf3AqeG61_QHRZi1M1w  Pine Castle    FL  28.450303  -81.380587        1   \n",
       "\n",
       "                                          attributes  \\\n",
       "0  {'RestaurantsTableService': 'True', 'WiFi': \"u...   \n",
       "1  {'RestaurantsTakeOut': 'True', 'RestaurantsAtt...   \n",
       "2  {'GoodForKids': 'True', 'Alcohol': \"u'none'\", ...   \n",
       "3  {'BusinessParking': \"{'garage': False, 'street...   \n",
       "4  {'BikeParking': 'False', 'RestaurantsPriceRang...   \n",
       "\n",
       "                                          categories  \\\n",
       "0  Gastropubs, Food, Beer Gardens, Restaurants, B...   \n",
       "1  Salad, Soup, Sandwiches, Delis, Restaurants, C...   \n",
       "2                                  Restaurants, Thai   \n",
       "3  Restaurants, American (New), Bakeries, Dessert...   \n",
       "4  Automotive, American (Traditional), Gas Statio...   \n",
       "\n",
       "                                               hours  checkin_count  ...  \\\n",
       "0  {'Monday': '11:0-23:0', 'Tuesday': '11:0-23:0'...             79  ...   \n",
       "1  {'Monday': '5:0-18:0', 'Tuesday': '5:0-17:0', ...            181  ...   \n",
       "2  {'Monday': '17:0-21:0', 'Tuesday': '17:0-21:0'...             42  ...   \n",
       "3  {'Tuesday': '11:0-18:0', 'Wednesday': '11:0-18...             42  ...   \n",
       "4                                                NaN              4  ...   \n",
       "\n",
       "   raw_stars  stars  weighted_stars  tip_count           first_date  \\\n",
       "0   3.714286    3.5        2.827977          4  2017-09-09 04:42:34   \n",
       "1   3.500000    3.5        2.734268          4  2010-03-09 16:02:04   \n",
       "2   3.678571    3.5        3.284146          3  2010-09-26 04:03:35   \n",
       "3   4.631579    4.5        3.755860          5  2012-08-19 21:08:57   \n",
       "4   3.000000    3.0        1.789357          1  2015-06-11 16:44:12   \n",
       "\n",
       "             last_date visit_count  is_open_year_after  popularity_value  \\\n",
       "0  2021-01-22 05:20:38         132                True        475.040397   \n",
       "1  2021-01-21 17:55:35         209                True        737.162331   \n",
       "2  2021-01-23 01:43:50          73                True        261.877324   \n",
       "3  2020-12-29 16:25:19          85                True        341.938538   \n",
       "4  2020-11-14 00:49:04           8                True         26.653036   \n",
       "\n",
       "   popularity  \n",
       "0           2  \n",
       "1           2  \n",
       "2           1  \n",
       "3           1  \n",
       "4           0  \n",
       "\n",
       "[5 rows x 21 columns]"
      ]
     },
     "execution_count": 12,
     "metadata": {},
     "output_type": "execute_result"
    }
   ],
   "source": [
    "restaurants_df.head(5)"
   ]
  },
  {
   "cell_type": "code",
   "execution_count": 13,
   "metadata": {},
   "outputs": [
    {
     "data": {
      "text/plain": [
       "131"
      ]
     },
     "execution_count": 13,
     "metadata": {},
     "output_type": "execute_result"
    }
   ],
   "source": [
    "restaurants_df[\"stars\"].isna().sum()"
   ]
  },
  {
   "cell_type": "code",
   "execution_count": 14,
   "metadata": {},
   "outputs": [],
   "source": [
    "restaurants_df = restaurants_df[restaurants_df['stars'].notna()]"
   ]
  },
  {
   "cell_type": "markdown",
   "metadata": {},
   "source": [
    "### Extracting Attributes\n",
    "\n",
    "Used node features: attributes, hours, category"
   ]
  },
  {
   "cell_type": "code",
   "execution_count": 15,
   "metadata": {},
   "outputs": [],
   "source": [
    "all_business_df = pd.read_json('../yelp/yelp_academic_dataset_business.json', lines=True)\n",
    "all_business_df = all_business_df[[\"business_id\", \"attributes\", \"hours\"]]"
   ]
  },
  {
   "cell_type": "code",
   "execution_count": 16,
   "metadata": {},
   "outputs": [
    {
     "data": {
      "text/html": [
       "<div>\n",
       "<style scoped>\n",
       "    .dataframe tbody tr th:only-of-type {\n",
       "        vertical-align: middle;\n",
       "    }\n",
       "\n",
       "    .dataframe tbody tr th {\n",
       "        vertical-align: top;\n",
       "    }\n",
       "\n",
       "    .dataframe thead th {\n",
       "        text-align: right;\n",
       "    }\n",
       "</style>\n",
       "<table border=\"1\" class=\"dataframe\">\n",
       "  <thead>\n",
       "    <tr style=\"text-align: right;\">\n",
       "      <th></th>\n",
       "      <th>business_id</th>\n",
       "      <th>attributes</th>\n",
       "      <th>hours</th>\n",
       "    </tr>\n",
       "  </thead>\n",
       "  <tbody>\n",
       "    <tr>\n",
       "      <th>0</th>\n",
       "      <td>6iYb2HFDywm3zjuRg0shjw</td>\n",
       "      <td>{'RestaurantsTableService': 'True', 'WiFi': 'u...</td>\n",
       "      <td>{'Monday': '11:0-23:0', 'Tuesday': '11:0-23:0'...</td>\n",
       "    </tr>\n",
       "    <tr>\n",
       "      <th>1</th>\n",
       "      <td>tCbdrRPZA0oiIYSmHG3J0w</td>\n",
       "      <td>{'RestaurantsTakeOut': 'True', 'RestaurantsAtt...</td>\n",
       "      <td>{'Monday': '5:0-18:0', 'Tuesday': '5:0-17:0', ...</td>\n",
       "    </tr>\n",
       "    <tr>\n",
       "      <th>2</th>\n",
       "      <td>bvN78flM8NLprQ1a1y5dRg</td>\n",
       "      <td>{'BusinessAcceptsCreditCards': 'True', 'Restau...</td>\n",
       "      <td>{'Thursday': '11:0-18:0', 'Friday': '11:0-18:0...</td>\n",
       "    </tr>\n",
       "  </tbody>\n",
       "</table>\n",
       "</div>"
      ],
      "text/plain": [
       "              business_id                                         attributes  \\\n",
       "0  6iYb2HFDywm3zjuRg0shjw  {'RestaurantsTableService': 'True', 'WiFi': 'u...   \n",
       "1  tCbdrRPZA0oiIYSmHG3J0w  {'RestaurantsTakeOut': 'True', 'RestaurantsAtt...   \n",
       "2  bvN78flM8NLprQ1a1y5dRg  {'BusinessAcceptsCreditCards': 'True', 'Restau...   \n",
       "\n",
       "                                               hours  \n",
       "0  {'Monday': '11:0-23:0', 'Tuesday': '11:0-23:0'...  \n",
       "1  {'Monday': '5:0-18:0', 'Tuesday': '5:0-17:0', ...  \n",
       "2  {'Thursday': '11:0-18:0', 'Friday': '11:0-18:0...  "
      ]
     },
     "execution_count": 16,
     "metadata": {},
     "output_type": "execute_result"
    }
   ],
   "source": [
    "all_business_df.head(3)"
   ]
  },
  {
   "cell_type": "code",
   "execution_count": 17,
   "metadata": {},
   "outputs": [
    {
     "data": {
      "text/plain": [
       "[{'RestaurantsTableService': 'True',\n",
       "  'WiFi': \"u'free'\",\n",
       "  'BikeParking': 'True',\n",
       "  'BusinessParking': \"{'garage': False, 'street': True, 'validated': False, 'lot': False, 'valet': False}\",\n",
       "  'BusinessAcceptsCreditCards': 'True',\n",
       "  'RestaurantsReservations': 'False',\n",
       "  'WheelchairAccessible': 'True',\n",
       "  'Caters': 'True',\n",
       "  'OutdoorSeating': 'True',\n",
       "  'RestaurantsGoodForGroups': 'True',\n",
       "  'HappyHour': 'True',\n",
       "  'BusinessAcceptsBitcoin': 'False',\n",
       "  'RestaurantsPriceRange2': '2',\n",
       "  'Ambience': \"{'touristy': False, 'hipster': False, 'romantic': False, 'divey': False, 'intimate': False, 'trendy': False, 'upscale': False, 'classy': False, 'casual': True}\",\n",
       "  'HasTV': 'True',\n",
       "  'Alcohol': \"'beer_and_wine'\",\n",
       "  'GoodForMeal': \"{'dessert': False, 'latenight': False, 'lunch': False, 'dinner': False, 'brunch': False, 'breakfast': False}\",\n",
       "  'DogsAllowed': 'False',\n",
       "  'RestaurantsTakeOut': 'True',\n",
       "  'NoiseLevel': \"u'average'\",\n",
       "  'RestaurantsAttire': \"'casual'\",\n",
       "  'RestaurantsDelivery': 'None'},\n",
       " {'RestaurantsTakeOut': 'True',\n",
       "  'RestaurantsAttire': \"u'casual'\",\n",
       "  'GoodForKids': 'True',\n",
       "  'BikeParking': 'False',\n",
       "  'OutdoorSeating': 'False',\n",
       "  'Ambience': \"{'romantic': False, 'intimate': False, 'touristy': False, 'hipster': False, 'divey': False, 'classy': False, 'trendy': False, 'upscale': False, 'casual': True}\",\n",
       "  'Caters': 'True',\n",
       "  'RestaurantsReservations': 'False',\n",
       "  'RestaurantsDelivery': 'False',\n",
       "  'HasTV': 'False',\n",
       "  'RestaurantsGoodForGroups': 'False',\n",
       "  'BusinessAcceptsCreditCards': 'True',\n",
       "  'NoiseLevel': \"u'average'\",\n",
       "  'ByAppointmentOnly': 'False',\n",
       "  'RestaurantsPriceRange2': '2',\n",
       "  'WiFi': \"u'free'\",\n",
       "  'BusinessParking': \"{'garage': True, 'street': False, 'validated': False, 'lot': False, 'valet': False}\",\n",
       "  'Alcohol': \"u'beer_and_wine'\",\n",
       "  'GoodForMeal': \"{'dessert': False, 'latenight': False, 'lunch': True, 'dinner': False, 'brunch': False, 'breakfast': True}\"},\n",
       " {'BusinessAcceptsCreditCards': 'True',\n",
       "  'RestaurantsPriceRange2': '2',\n",
       "  'ByAppointmentOnly': 'False',\n",
       "  'BikeParking': 'False',\n",
       "  'BusinessParking': \"{'garage': False, 'street': True, 'validated': False, 'lot': False, 'valet': False}\"}]"
      ]
     },
     "execution_count": 17,
     "metadata": {},
     "output_type": "execute_result"
    }
   ],
   "source": [
    "attributes = list(all_business_df[\"attributes\"][:3])\n",
    "attributes"
   ]
  },
  {
   "cell_type": "code",
   "execution_count": 49,
   "metadata": {},
   "outputs": [],
   "source": [
    "def get_price(row):\n",
    "    d = row[1]\n",
    "    try:\n",
    "        if \"RestaurantsPriceRange2\" in d:\n",
    "            return int(d[\"RestaurantsPriceRange2\"])\n",
    "        return 1\n",
    "    except:\n",
    "        return 1\n",
    "    \n",
    "def get_outdoor(row):\n",
    "    d = row[1]\n",
    "    try:\n",
    "        if \"OutdoorSeating\" in d:\n",
    "            if d[\"OutdoorSeating\"]:\n",
    "                return 1\n",
    "        return 0\n",
    "    except:\n",
    "        return 0\n",
    "    \n",
    "def get_good4groups(row):\n",
    "    d = row[1]\n",
    "    try:\n",
    "        if \"RestaurantsGoodForGroups\" in d:\n",
    "            if d[\"RestaurantsGoodForGroups\"]:\n",
    "                return 1\n",
    "        return 0\n",
    "    except:\n",
    "        return 0\n",
    "    \n",
    "def get_creditcard(row):\n",
    "    d = row[1]\n",
    "    try:\n",
    "        if \"BusinessAcceptsCreditCards\" in d:\n",
    "            if d[\"BusinessAcceptsCreditCards\"]:\n",
    "                return 1\n",
    "        return 0\n",
    "    except:\n",
    "        return 0\n",
    "    \n",
    "def get_good4kids(row):\n",
    "    d = row[1]\n",
    "    try:\n",
    "        if \"GoodForKids\" in d:\n",
    "            if d[\"GoodForKids\"]:\n",
    "                return 1\n",
    "        return 0\n",
    "    except:\n",
    "        return 0\n",
    "    \n",
    "def get_delivery(row):\n",
    "    d = row[1]\n",
    "    try:\n",
    "        if \"RestaurantsDelivery\" in d:\n",
    "            if d[\"RestaurantsDelivery\"]:\n",
    "                return 1\n",
    "        return 0\n",
    "    except:\n",
    "        return 0\n",
    "    \n",
    "def get_caters(row):\n",
    "    d = row[1]\n",
    "    try:\n",
    "        if \"Caters\" in d:\n",
    "            if d[\"Caters\"]:\n",
    "                return 1\n",
    "        return 0\n",
    "    except:\n",
    "        return 0"
   ]
  },
  {
   "cell_type": "code",
   "execution_count": 50,
   "metadata": {},
   "outputs": [],
   "source": [
    "all_business_df[\"price_tier\"] = all_business_df.apply(get_price, axis=1)\n",
    "all_business_df[\"outdoors\"] = all_business_df.apply(get_outdoor, axis=1)\n",
    "all_business_df[\"good_for_groups\"] = all_business_df.apply(get_good4groups, axis=1)\n",
    "all_business_df[\"has_credit_card\"] = all_business_df.apply(get_creditcard, axis=1)\n",
    "all_business_df[\"good_for_kids\"] = all_business_df.apply(get_good4kids, axis=1)\n",
    "all_business_df[\"has_delivery\"] = all_business_df.apply(get_delivery, axis=1)\n",
    "all_business_df[\"caters\"] = all_business_df.apply(get_caters, axis=1)"
   ]
  },
  {
   "cell_type": "code",
   "execution_count": 46,
   "metadata": {},
   "outputs": [
    {
     "data": {
      "text/html": [
       "<div>\n",
       "<style scoped>\n",
       "    .dataframe tbody tr th:only-of-type {\n",
       "        vertical-align: middle;\n",
       "    }\n",
       "\n",
       "    .dataframe tbody tr th {\n",
       "        vertical-align: top;\n",
       "    }\n",
       "\n",
       "    .dataframe thead th {\n",
       "        text-align: right;\n",
       "    }\n",
       "</style>\n",
       "<table border=\"1\" class=\"dataframe\">\n",
       "  <thead>\n",
       "    <tr style=\"text-align: right;\">\n",
       "      <th></th>\n",
       "      <th>business_id</th>\n",
       "      <th>attributes</th>\n",
       "      <th>hours</th>\n",
       "      <th>price_tier</th>\n",
       "      <th>outdoors</th>\n",
       "      <th>good_for_groups</th>\n",
       "      <th>has_credit_card</th>\n",
       "      <th>good_for_kids</th>\n",
       "      <th>has_delivery</th>\n",
       "      <th>caters</th>\n",
       "    </tr>\n",
       "  </thead>\n",
       "  <tbody>\n",
       "    <tr>\n",
       "      <th>0</th>\n",
       "      <td>6iYb2HFDywm3zjuRg0shjw</td>\n",
       "      <td>{'RestaurantsTableService': 'True', 'WiFi': 'u...</td>\n",
       "      <td>{'Monday': '11:0-23:0', 'Tuesday': '11:0-23:0'...</td>\n",
       "      <td>2</td>\n",
       "      <td>1</td>\n",
       "      <td>1</td>\n",
       "      <td>1</td>\n",
       "      <td>0</td>\n",
       "      <td>1</td>\n",
       "      <td>1</td>\n",
       "    </tr>\n",
       "    <tr>\n",
       "      <th>1</th>\n",
       "      <td>tCbdrRPZA0oiIYSmHG3J0w</td>\n",
       "      <td>{'RestaurantsTakeOut': 'True', 'RestaurantsAtt...</td>\n",
       "      <td>{'Monday': '5:0-18:0', 'Tuesday': '5:0-17:0', ...</td>\n",
       "      <td>2</td>\n",
       "      <td>1</td>\n",
       "      <td>1</td>\n",
       "      <td>1</td>\n",
       "      <td>1</td>\n",
       "      <td>1</td>\n",
       "      <td>1</td>\n",
       "    </tr>\n",
       "    <tr>\n",
       "      <th>2</th>\n",
       "      <td>bvN78flM8NLprQ1a1y5dRg</td>\n",
       "      <td>{'BusinessAcceptsCreditCards': 'True', 'Restau...</td>\n",
       "      <td>{'Thursday': '11:0-18:0', 'Friday': '11:0-18:0...</td>\n",
       "      <td>2</td>\n",
       "      <td>0</td>\n",
       "      <td>0</td>\n",
       "      <td>1</td>\n",
       "      <td>0</td>\n",
       "      <td>0</td>\n",
       "      <td>0</td>\n",
       "    </tr>\n",
       "    <tr>\n",
       "      <th>3</th>\n",
       "      <td>oaepsyvc0J17qwi8cfrOWg</td>\n",
       "      <td>{'RestaurantsPriceRange2': '1', 'BusinessAccep...</td>\n",
       "      <td>None</td>\n",
       "      <td>1</td>\n",
       "      <td>0</td>\n",
       "      <td>0</td>\n",
       "      <td>1</td>\n",
       "      <td>1</td>\n",
       "      <td>0</td>\n",
       "      <td>0</td>\n",
       "    </tr>\n",
       "    <tr>\n",
       "      <th>4</th>\n",
       "      <td>PE9uqAjdw0E4-8mjGl3wVA</td>\n",
       "      <td>{'GoodForKids': 'False', 'BusinessParking': '{...</td>\n",
       "      <td>{'Monday': '16:0-19:0', 'Tuesday': '16:0-19:0'...</td>\n",
       "      <td>1</td>\n",
       "      <td>0</td>\n",
       "      <td>0</td>\n",
       "      <td>1</td>\n",
       "      <td>1</td>\n",
       "      <td>0</td>\n",
       "      <td>0</td>\n",
       "    </tr>\n",
       "  </tbody>\n",
       "</table>\n",
       "</div>"
      ],
      "text/plain": [
       "              business_id                                         attributes  \\\n",
       "0  6iYb2HFDywm3zjuRg0shjw  {'RestaurantsTableService': 'True', 'WiFi': 'u...   \n",
       "1  tCbdrRPZA0oiIYSmHG3J0w  {'RestaurantsTakeOut': 'True', 'RestaurantsAtt...   \n",
       "2  bvN78flM8NLprQ1a1y5dRg  {'BusinessAcceptsCreditCards': 'True', 'Restau...   \n",
       "3  oaepsyvc0J17qwi8cfrOWg  {'RestaurantsPriceRange2': '1', 'BusinessAccep...   \n",
       "4  PE9uqAjdw0E4-8mjGl3wVA  {'GoodForKids': 'False', 'BusinessParking': '{...   \n",
       "\n",
       "                                               hours  price_tier  outdoors  \\\n",
       "0  {'Monday': '11:0-23:0', 'Tuesday': '11:0-23:0'...           2         1   \n",
       "1  {'Monday': '5:0-18:0', 'Tuesday': '5:0-17:0', ...           2         1   \n",
       "2  {'Thursday': '11:0-18:0', 'Friday': '11:0-18:0...           2         0   \n",
       "3                                               None           1         0   \n",
       "4  {'Monday': '16:0-19:0', 'Tuesday': '16:0-19:0'...           1         0   \n",
       "\n",
       "   good_for_groups  has_credit_card  good_for_kids  has_delivery  caters  \n",
       "0                1                1              0             1       1  \n",
       "1                1                1              1             1       1  \n",
       "2                0                1              0             0       0  \n",
       "3                0                1              1             0       0  \n",
       "4                0                1              1             0       0  "
      ]
     },
     "execution_count": 46,
     "metadata": {},
     "output_type": "execute_result"
    }
   ],
   "source": [
    "all_business_df.head()"
   ]
  },
  {
   "cell_type": "markdown",
   "metadata": {},
   "source": [
    "### Extracting Open Hours"
   ]
  },
  {
   "cell_type": "code",
   "execution_count": 20,
   "metadata": {},
   "outputs": [],
   "source": [
    "# todo"
   ]
  },
  {
   "cell_type": "markdown",
   "metadata": {},
   "source": [
    "### Extracting Categories"
   ]
  },
  {
   "cell_type": "code",
   "execution_count": 21,
   "metadata": {},
   "outputs": [],
   "source": [
    "# Finding most popular categories\n",
    "categories = {}\n",
    "\n",
    "for index, row in restaurants_df.iterrows():\n",
    "    cats = [cat.lower().strip() for cat in row[\"categories\"].split(\",\")]\n",
    "    for c in cats:\n",
    "        if c in categories.keys():\n",
    "            categories[c] += 1\n",
    "        else:\n",
    "            categories[c] = 1"
   ]
  },
  {
   "cell_type": "code",
   "execution_count": 22,
   "metadata": {},
   "outputs": [],
   "source": [
    "categories_list = list(categories.items())"
   ]
  },
  {
   "cell_type": "code",
   "execution_count": 23,
   "metadata": {},
   "outputs": [],
   "source": [
    "from operator import itemgetter\n",
    "categories_list = sorted(categories_list, key=itemgetter(1), reverse=True)"
   ]
  },
  {
   "cell_type": "code",
   "execution_count": 24,
   "metadata": {},
   "outputs": [
    {
     "data": {
      "text/plain": [
       "['restaurants',\n",
       " 'food',\n",
       " 'nightlife',\n",
       " 'bars',\n",
       " 'american (traditional)',\n",
       " 'coffee & tea',\n",
       " 'sandwiches',\n",
       " 'breakfast & brunch',\n",
       " 'american (new)',\n",
       " 'pizza',\n",
       " 'fast food',\n",
       " 'burgers',\n",
       " 'mexican',\n",
       " 'chinese',\n",
       " 'italian',\n",
       " 'specialty food',\n",
       " 'seafood',\n",
       " 'event planning & services',\n",
       " 'salad',\n",
       " 'desserts',\n",
       " 'bakeries',\n",
       " 'japanese',\n",
       " 'cafes',\n",
       " 'grocery',\n",
       " 'beer',\n",
       " 'wine & spirits',\n",
       " 'shopping',\n",
       " 'sushi bars',\n",
       " 'caterers',\n",
       " 'ice cream & frozen yogurt',\n",
       " 'chicken wings',\n",
       " 'asian fusion',\n",
       " 'food trucks',\n",
       " 'cocktail bars',\n",
       " 'pubs',\n",
       " 'delis',\n",
       " 'sports bars',\n",
       " 'vegetarian',\n",
       " 'juice bars & smoothies',\n",
       " 'mediterranean',\n",
       " 'barbeque',\n",
       " 'thai',\n",
       " 'diners',\n",
       " 'steakhouses',\n",
       " 'arts & entertainment',\n",
       " 'wine bars',\n",
       " 'soup',\n",
       " 'tex-mex',\n",
       " 'gluten-free',\n",
       " 'vegan']"
      ]
     },
     "execution_count": 24,
     "metadata": {},
     "output_type": "execute_result"
    }
   ],
   "source": [
    "top_categories = [name for (name, count) in categories_list[:50]]\n",
    "top_categories"
   ]
  },
  {
   "cell_type": "code",
   "execution_count": 25,
   "metadata": {},
   "outputs": [],
   "source": [
    "def get_categories_tensor(cats):\n",
    "    categories = cats.lower()\n",
    "    l = []\n",
    "    for top_cat in top_categories:\n",
    "        if top_cat in categories:\n",
    "            l.append(1)\n",
    "        else:\n",
    "            l.append(0)\n",
    "    return l"
   ]
  },
  {
   "cell_type": "code",
   "execution_count": null,
   "metadata": {},
   "outputs": [],
   "source": []
  },
  {
   "cell_type": "markdown",
   "metadata": {},
   "source": [
    "### Merging"
   ]
  },
  {
   "cell_type": "code",
   "execution_count": 26,
   "metadata": {},
   "outputs": [],
   "source": [
    "restaurants_df = restaurants_df.merge(all_business_df, on=\"business_id\")"
   ]
  },
  {
   "cell_type": "code",
   "execution_count": 27,
   "metadata": {},
   "outputs": [
    {
     "name": "stdout",
     "output_type": "stream",
     "text": [
      "There are 29963 restaurants.\n"
     ]
    }
   ],
   "source": [
    "print(f\"There are {len(restaurants_df)} restaurants.\")"
   ]
  },
  {
   "cell_type": "code",
   "execution_count": 28,
   "metadata": {},
   "outputs": [
    {
     "data": {
      "text/html": [
       "<div>\n",
       "<style scoped>\n",
       "    .dataframe tbody tr th:only-of-type {\n",
       "        vertical-align: middle;\n",
       "    }\n",
       "\n",
       "    .dataframe tbody tr th {\n",
       "        vertical-align: top;\n",
       "    }\n",
       "\n",
       "    .dataframe thead th {\n",
       "        text-align: right;\n",
       "    }\n",
       "</style>\n",
       "<table border=\"1\" class=\"dataframe\">\n",
       "  <thead>\n",
       "    <tr style=\"text-align: right;\">\n",
       "      <th></th>\n",
       "      <th>business_id</th>\n",
       "      <th>city</th>\n",
       "      <th>state</th>\n",
       "      <th>latitude</th>\n",
       "      <th>longitude</th>\n",
       "      <th>is_open</th>\n",
       "      <th>attributes_x</th>\n",
       "      <th>categories</th>\n",
       "      <th>hours_x</th>\n",
       "      <th>checkin_count</th>\n",
       "      <th>...</th>\n",
       "      <th>popularity</th>\n",
       "      <th>attributes_y</th>\n",
       "      <th>hours_y</th>\n",
       "      <th>price_tier</th>\n",
       "      <th>outdoors</th>\n",
       "      <th>good_for_groups</th>\n",
       "      <th>has_credit_card</th>\n",
       "      <th>good_for_kids</th>\n",
       "      <th>has_delivery</th>\n",
       "      <th>caters</th>\n",
       "    </tr>\n",
       "  </thead>\n",
       "  <tbody>\n",
       "    <tr>\n",
       "      <th>0</th>\n",
       "      <td>6iYb2HFDywm3zjuRg0shjw</td>\n",
       "      <td>Boulder</td>\n",
       "      <td>CO</td>\n",
       "      <td>40.017544</td>\n",
       "      <td>-105.283348</td>\n",
       "      <td>1</td>\n",
       "      <td>{'RestaurantsTableService': 'True', 'WiFi': \"u...</td>\n",
       "      <td>Gastropubs, Food, Beer Gardens, Restaurants, B...</td>\n",
       "      <td>{'Monday': '11:0-23:0', 'Tuesday': '11:0-23:0'...</td>\n",
       "      <td>79</td>\n",
       "      <td>...</td>\n",
       "      <td>2</td>\n",
       "      <td>{'RestaurantsTableService': 'True', 'WiFi': 'u...</td>\n",
       "      <td>{'Monday': '11:0-23:0', 'Tuesday': '11:0-23:0'...</td>\n",
       "      <td>2</td>\n",
       "      <td>1</td>\n",
       "      <td>1</td>\n",
       "      <td>1</td>\n",
       "      <td>0</td>\n",
       "      <td>1</td>\n",
       "      <td>1</td>\n",
       "    </tr>\n",
       "    <tr>\n",
       "      <th>1</th>\n",
       "      <td>tCbdrRPZA0oiIYSmHG3J0w</td>\n",
       "      <td>Portland</td>\n",
       "      <td>OR</td>\n",
       "      <td>45.588906</td>\n",
       "      <td>-122.593331</td>\n",
       "      <td>1</td>\n",
       "      <td>{'RestaurantsTakeOut': 'True', 'RestaurantsAtt...</td>\n",
       "      <td>Salad, Soup, Sandwiches, Delis, Restaurants, C...</td>\n",
       "      <td>{'Monday': '5:0-18:0', 'Tuesday': '5:0-17:0', ...</td>\n",
       "      <td>181</td>\n",
       "      <td>...</td>\n",
       "      <td>2</td>\n",
       "      <td>{'RestaurantsTakeOut': 'True', 'RestaurantsAtt...</td>\n",
       "      <td>{'Monday': '5:0-18:0', 'Tuesday': '5:0-17:0', ...</td>\n",
       "      <td>2</td>\n",
       "      <td>1</td>\n",
       "      <td>1</td>\n",
       "      <td>1</td>\n",
       "      <td>1</td>\n",
       "      <td>1</td>\n",
       "      <td>1</td>\n",
       "    </tr>\n",
       "    <tr>\n",
       "      <th>2</th>\n",
       "      <td>D4JtQNTI4X3KcbzacDJsMw</td>\n",
       "      <td>Vancouver</td>\n",
       "      <td>BC</td>\n",
       "      <td>49.251342</td>\n",
       "      <td>-123.101333</td>\n",
       "      <td>1</td>\n",
       "      <td>{'GoodForKids': 'True', 'Alcohol': \"u'none'\", ...</td>\n",
       "      <td>Restaurants, Thai</td>\n",
       "      <td>{'Monday': '17:0-21:0', 'Tuesday': '17:0-21:0'...</td>\n",
       "      <td>42</td>\n",
       "      <td>...</td>\n",
       "      <td>1</td>\n",
       "      <td>{'GoodForKids': 'True', 'Alcohol': 'u'none'', ...</td>\n",
       "      <td>{'Monday': '17:0-21:0', 'Tuesday': '17:0-21:0'...</td>\n",
       "      <td>2</td>\n",
       "      <td>1</td>\n",
       "      <td>1</td>\n",
       "      <td>0</td>\n",
       "      <td>1</td>\n",
       "      <td>1</td>\n",
       "      <td>1</td>\n",
       "    </tr>\n",
       "    <tr>\n",
       "      <th>3</th>\n",
       "      <td>ufCxltuh56FF4-ZFZ6cVhg</td>\n",
       "      <td>Orlando</td>\n",
       "      <td>FL</td>\n",
       "      <td>28.513265</td>\n",
       "      <td>-81.374707</td>\n",
       "      <td>1</td>\n",
       "      <td>{'BusinessParking': \"{'garage': False, 'street...</td>\n",
       "      <td>Restaurants, American (New), Bakeries, Dessert...</td>\n",
       "      <td>{'Tuesday': '11:0-18:0', 'Wednesday': '11:0-18...</td>\n",
       "      <td>42</td>\n",
       "      <td>...</td>\n",
       "      <td>1</td>\n",
       "      <td>{'BusinessParking': '{'garage': False, 'street...</td>\n",
       "      <td>{'Tuesday': '11:0-18:0', 'Wednesday': '11:0-18...</td>\n",
       "      <td>1</td>\n",
       "      <td>0</td>\n",
       "      <td>0</td>\n",
       "      <td>1</td>\n",
       "      <td>0</td>\n",
       "      <td>1</td>\n",
       "      <td>1</td>\n",
       "    </tr>\n",
       "    <tr>\n",
       "      <th>4</th>\n",
       "      <td>dmbbf3AqeG61_QHRZi1M1w</td>\n",
       "      <td>Pine Castle</td>\n",
       "      <td>FL</td>\n",
       "      <td>28.450303</td>\n",
       "      <td>-81.380587</td>\n",
       "      <td>1</td>\n",
       "      <td>{'BikeParking': 'False', 'RestaurantsPriceRang...</td>\n",
       "      <td>Automotive, American (Traditional), Gas Statio...</td>\n",
       "      <td>NaN</td>\n",
       "      <td>4</td>\n",
       "      <td>...</td>\n",
       "      <td>0</td>\n",
       "      <td>{'BikeParking': 'False', 'RestaurantsPriceRang...</td>\n",
       "      <td>None</td>\n",
       "      <td>1</td>\n",
       "      <td>1</td>\n",
       "      <td>1</td>\n",
       "      <td>1</td>\n",
       "      <td>1</td>\n",
       "      <td>1</td>\n",
       "      <td>0</td>\n",
       "    </tr>\n",
       "  </tbody>\n",
       "</table>\n",
       "<p>5 rows × 30 columns</p>\n",
       "</div>"
      ],
      "text/plain": [
       "              business_id         city state   latitude   longitude  is_open  \\\n",
       "0  6iYb2HFDywm3zjuRg0shjw      Boulder    CO  40.017544 -105.283348        1   \n",
       "1  tCbdrRPZA0oiIYSmHG3J0w     Portland    OR  45.588906 -122.593331        1   \n",
       "2  D4JtQNTI4X3KcbzacDJsMw    Vancouver    BC  49.251342 -123.101333        1   \n",
       "3  ufCxltuh56FF4-ZFZ6cVhg      Orlando    FL  28.513265  -81.374707        1   \n",
       "4  dmbbf3AqeG61_QHRZi1M1w  Pine Castle    FL  28.450303  -81.380587        1   \n",
       "\n",
       "                                        attributes_x  \\\n",
       "0  {'RestaurantsTableService': 'True', 'WiFi': \"u...   \n",
       "1  {'RestaurantsTakeOut': 'True', 'RestaurantsAtt...   \n",
       "2  {'GoodForKids': 'True', 'Alcohol': \"u'none'\", ...   \n",
       "3  {'BusinessParking': \"{'garage': False, 'street...   \n",
       "4  {'BikeParking': 'False', 'RestaurantsPriceRang...   \n",
       "\n",
       "                                          categories  \\\n",
       "0  Gastropubs, Food, Beer Gardens, Restaurants, B...   \n",
       "1  Salad, Soup, Sandwiches, Delis, Restaurants, C...   \n",
       "2                                  Restaurants, Thai   \n",
       "3  Restaurants, American (New), Bakeries, Dessert...   \n",
       "4  Automotive, American (Traditional), Gas Statio...   \n",
       "\n",
       "                                             hours_x  checkin_count  ...  \\\n",
       "0  {'Monday': '11:0-23:0', 'Tuesday': '11:0-23:0'...             79  ...   \n",
       "1  {'Monday': '5:0-18:0', 'Tuesday': '5:0-17:0', ...            181  ...   \n",
       "2  {'Monday': '17:0-21:0', 'Tuesday': '17:0-21:0'...             42  ...   \n",
       "3  {'Tuesday': '11:0-18:0', 'Wednesday': '11:0-18...             42  ...   \n",
       "4                                                NaN              4  ...   \n",
       "\n",
       "   popularity                                       attributes_y  \\\n",
       "0           2  {'RestaurantsTableService': 'True', 'WiFi': 'u...   \n",
       "1           2  {'RestaurantsTakeOut': 'True', 'RestaurantsAtt...   \n",
       "2           1  {'GoodForKids': 'True', 'Alcohol': 'u'none'', ...   \n",
       "3           1  {'BusinessParking': '{'garage': False, 'street...   \n",
       "4           0  {'BikeParking': 'False', 'RestaurantsPriceRang...   \n",
       "\n",
       "                                             hours_y  price_tier  outdoors  \\\n",
       "0  {'Monday': '11:0-23:0', 'Tuesday': '11:0-23:0'...           2         1   \n",
       "1  {'Monday': '5:0-18:0', 'Tuesday': '5:0-17:0', ...           2         1   \n",
       "2  {'Monday': '17:0-21:0', 'Tuesday': '17:0-21:0'...           2         1   \n",
       "3  {'Tuesday': '11:0-18:0', 'Wednesday': '11:0-18...           1         0   \n",
       "4                                               None           1         1   \n",
       "\n",
       "  good_for_groups has_credit_card  good_for_kids  has_delivery  caters  \n",
       "0               1               1              0             1       1  \n",
       "1               1               1              1             1       1  \n",
       "2               1               0              1             1       1  \n",
       "3               0               1              0             1       1  \n",
       "4               1               1              1             1       0  \n",
       "\n",
       "[5 rows x 30 columns]"
      ]
     },
     "execution_count": 28,
     "metadata": {},
     "output_type": "execute_result"
    }
   ],
   "source": [
    "restaurants_df.head()"
   ]
  },
  {
   "cell_type": "markdown",
   "metadata": {},
   "source": [
    "### Get just one city"
   ]
  },
  {
   "cell_type": "code",
   "execution_count": 29,
   "metadata": {},
   "outputs": [],
   "source": [
    "restaurants_df = restaurants_df[restaurants_df[\"state\"] == \"MA\"]"
   ]
  },
  {
   "cell_type": "markdown",
   "metadata": {
    "id": "OvVVNv_EDR8d"
   },
   "source": [
    "### Create NetworkX Graph"
   ]
  },
  {
   "cell_type": "code",
   "execution_count": 30,
   "metadata": {
    "id": "n6HeqLXIDR8e"
   },
   "outputs": [],
   "source": [
    "import networkx as nx"
   ]
  },
  {
   "cell_type": "code",
   "execution_count": 31,
   "metadata": {
    "id": "dRiI2jZlDR8e"
   },
   "outputs": [],
   "source": [
    "G = nx.Graph()"
   ]
  },
  {
   "cell_type": "code",
   "execution_count": 32,
   "metadata": {},
   "outputs": [],
   "source": [
    "rest = {}\n",
    "current = 0"
   ]
  },
  {
   "cell_type": "code",
   "execution_count": 33,
   "metadata": {
    "id": "KSKEkftuDR8e"
   },
   "outputs": [],
   "source": [
    "for index, row in restaurants_df.iterrows():\n",
    "    rest[row[\"business_id\"]] = current\n",
    "    \n",
    "    node_label = row[\"popularity\"]\n",
    "    features = [row[\"price_tier\"], row[\"outdoors\"], row[\"good_for_groups\"], row[\"has_credit_card\"], \n",
    "                row[\"good_for_kids\"], row[\"has_delivery\"], row[\"caters\"]]\n",
    "    \n",
    "    features += get_categories_tensor(row[\"categories\"])\n",
    "    \n",
    "    G.add_node(current, node_label=node_label, node_feature=features)\n",
    "    \n",
    "    current += 1"
   ]
  },
  {
   "cell_type": "code",
   "execution_count": 34,
   "metadata": {
    "id": "DTyCPxWIDR8e"
   },
   "outputs": [],
   "source": [
    "for index, row in edges_df.iterrows():\n",
    "    try:\n",
    "        node1 = rest[row[\"id1\"]]\n",
    "        node2 = rest[row[\"id2\"]]\n",
    "        dist = row[\"distance\"]\n",
    "        \n",
    "        if dist < 500:\n",
    "            G.add_edge(node1, node2)\n",
    "    except KeyError:\n",
    "        pass"
   ]
  },
  {
   "cell_type": "code",
   "execution_count": 35,
   "metadata": {
    "colab": {
     "base_uri": "https://localhost:8080/"
    },
    "id": "p-jfGnJ4DR8e",
    "outputId": "cce1964d-32f8-4719-bab8-c044ced49689"
   },
   "outputs": [
    {
     "name": "stdout",
     "output_type": "stream",
     "text": [
      "Number of nodes: 6192\n",
      "Number of edges: 130352\n"
     ]
    }
   ],
   "source": [
    "print(f\"Number of nodes: {G.number_of_nodes()}\")\n",
    "print(f\"Number of edges: {G.number_of_edges()}\")"
   ]
  },
  {
   "cell_type": "code",
   "execution_count": 36,
   "metadata": {
    "colab": {
     "base_uri": "https://localhost:8080/",
     "height": 35
    },
    "id": "TaXuVBZ6MkLL",
    "outputId": "b73c4683-9169-45e1-aecd-16032d3a61ad"
   },
   "outputs": [
    {
     "data": {
      "text/plain": [
       "'Name: \\nType: Graph\\nNumber of nodes: 6192\\nNumber of edges: 130352\\nAverage degree:  42.1034'"
      ]
     },
     "execution_count": 36,
     "metadata": {},
     "output_type": "execute_result"
    }
   ],
   "source": [
    "nx.info(G)"
   ]
  },
  {
   "cell_type": "markdown",
   "metadata": {},
   "source": [
    "### Node Augmentation"
   ]
  },
  {
   "cell_type": "markdown",
   "metadata": {},
   "source": [
    "#### Node Degree"
   ]
  },
  {
   "cell_type": "code",
   "execution_count": 37,
   "metadata": {},
   "outputs": [],
   "source": [
    "degrees_dict = {node:val for (node, val) in G.degree()}\n",
    "degrees_list = [val for (node, val) in G.degree()]"
   ]
  },
  {
   "cell_type": "code",
   "execution_count": 38,
   "metadata": {},
   "outputs": [],
   "source": [
    "max_degree = max(degrees_list)\n",
    "\n",
    "for i in range(0, G.number_of_nodes()):\n",
    "    deg = degrees_dict[i]\n",
    "    one_hot_deg = [0] * (max_degree + 1)\n",
    "    one_hot_deg[deg] = 1\n",
    "    \n",
    "    G.nodes[i][\"node_feature\"] + one_hot_deg"
   ]
  },
  {
   "cell_type": "markdown",
   "metadata": {},
   "source": [
    "#### Clustering Coefficient"
   ]
  },
  {
   "cell_type": "code",
   "execution_count": 39,
   "metadata": {},
   "outputs": [],
   "source": [
    "clustering_dict = nx.clustering(G)"
   ]
  },
  {
   "cell_type": "code",
   "execution_count": 40,
   "metadata": {},
   "outputs": [
    {
     "data": {
      "text/plain": [
       "[(0, 0.7973856209150327),\n",
       " (1, 0.9515669515669516),\n",
       " (2, 1.0),\n",
       " (3, 0.8393234672304439),\n",
       " (4, 1.0),\n",
       " (5, 1.0),\n",
       " (6, 0.8827586206896552),\n",
       " (7, 1.0),\n",
       " (8, 0),\n",
       " (9, 1.0)]"
      ]
     },
     "execution_count": 40,
     "metadata": {},
     "output_type": "execute_result"
    }
   ],
   "source": [
    "clustering_list = [(node, val) for (node, val) in clustering_dict.items()]\n",
    "clustering_list[:10]"
   ]
  },
  {
   "cell_type": "code",
   "execution_count": 41,
   "metadata": {},
   "outputs": [],
   "source": [
    "for i in range(0, G.number_of_nodes()):\n",
    "    deg = degrees_dict[i]\n",
    "    clust = round(clustering_dict[i], 3)\n",
    "    G.nodes[i][\"node_feature\"].append(deg)\n",
    "    G.nodes[i][\"node_feature\"].append(clust)"
   ]
  },
  {
   "cell_type": "markdown",
   "metadata": {},
   "source": [
    "### Convert to tensors"
   ]
  },
  {
   "cell_type": "code",
   "execution_count": 42,
   "metadata": {},
   "outputs": [],
   "source": [
    "for i in range(0, G.number_of_nodes()):\n",
    "    G.nodes[i][\"node_feature\"] = torch.FloatTensor(G.nodes[i][\"node_feature\"])"
   ]
  },
  {
   "cell_type": "code",
   "execution_count": 43,
   "metadata": {},
   "outputs": [
    {
     "data": {
      "text/plain": [
       "{'node_label': 2,\n",
       " 'node_feature': tensor([ 2.0000,  1.0000,  1.0000,  1.0000,  1.0000,  1.0000,  1.0000,  1.0000,\n",
       "          1.0000,  1.0000,  1.0000,  0.0000,  0.0000,  1.0000,  1.0000,  0.0000,\n",
       "          0.0000,  0.0000,  0.0000,  0.0000,  0.0000,  1.0000,  0.0000,  1.0000,\n",
       "          0.0000,  1.0000,  0.0000,  0.0000,  0.0000,  0.0000,  0.0000,  1.0000,\n",
       "          1.0000,  0.0000,  0.0000,  0.0000,  0.0000,  0.0000,  0.0000,  0.0000,\n",
       "          1.0000,  0.0000,  0.0000,  0.0000,  0.0000,  0.0000,  0.0000,  0.0000,\n",
       "          0.0000,  0.0000,  0.0000,  0.0000,  0.0000,  0.0000,  0.0000,  1.0000,\n",
       "          0.0000, 18.0000,  0.7970])}"
      ]
     },
     "execution_count": 43,
     "metadata": {},
     "output_type": "execute_result"
    }
   ],
   "source": [
    " G.nodes[0]"
   ]
  },
  {
   "cell_type": "code",
   "execution_count": 44,
   "metadata": {
    "id": "m4qj567pghpd"
   },
   "outputs": [],
   "source": [
    "nx.write_gpickle(G, \"restaurants_MA_3.gpickle\")"
   ]
  },
  {
   "cell_type": "code",
   "execution_count": 45,
   "metadata": {
    "colab": {
     "base_uri": "https://localhost:8080/",
     "height": 17
    },
    "id": "MKpAm72og7Pq",
    "outputId": "1807bf8d-3857-4c04-9a66-093e1808322a"
   },
   "outputs": [],
   "source": [
    "#from google.colab import files\n",
    "#files.download(\"restaurants.gpickle\")"
   ]
  },
  {
   "cell_type": "code",
   "execution_count": null,
   "metadata": {},
   "outputs": [],
   "source": []
  }
 ],
 "metadata": {
  "accelerator": "GPU",
  "colab": {
   "name": "generate_network_graph.ipynb",
   "provenance": []
  },
  "kernelspec": {
   "display_name": "Python 3",
   "language": "python",
   "name": "python3"
  },
  "language_info": {
   "codemirror_mode": {
    "name": "ipython",
    "version": 3
   },
   "file_extension": ".py",
   "mimetype": "text/x-python",
   "name": "python",
   "nbconvert_exporter": "python",
   "pygments_lexer": "ipython3",
   "version": "3.7.0"
  }
 },
 "nbformat": 4,
 "nbformat_minor": 1
}

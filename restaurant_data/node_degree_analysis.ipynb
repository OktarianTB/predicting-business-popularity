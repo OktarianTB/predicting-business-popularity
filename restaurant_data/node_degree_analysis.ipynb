{
 "cells": [
  {
   "cell_type": "markdown",
   "metadata": {},
   "source": [
    "# Analysis of Node Degree of Restaurant Graph"
   ]
  },
  {
   "cell_type": "markdown",
   "metadata": {},
   "source": [
    "### Preparing the Data"
   ]
  },
  {
   "cell_type": "code",
   "execution_count": 1,
   "metadata": {},
   "outputs": [],
   "source": [
    "import pandas as pd\n",
    "import numpy as np"
   ]
  },
  {
   "cell_type": "code",
   "execution_count": 2,
   "metadata": {},
   "outputs": [],
   "source": [
    "restaurants_df = pd.read_csv(\"./../datasets/2017-2018_restaurants.csv\")"
   ]
  },
  {
   "cell_type": "code",
   "execution_count": 3,
   "metadata": {},
   "outputs": [
    {
     "data": {
      "text/html": [
       "<div>\n",
       "<style scoped>\n",
       "    .dataframe tbody tr th:only-of-type {\n",
       "        vertical-align: middle;\n",
       "    }\n",
       "\n",
       "    .dataframe tbody tr th {\n",
       "        vertical-align: top;\n",
       "    }\n",
       "\n",
       "    .dataframe thead th {\n",
       "        text-align: right;\n",
       "    }\n",
       "</style>\n",
       "<table border=\"1\" class=\"dataframe\">\n",
       "  <thead>\n",
       "    <tr style=\"text-align: right;\">\n",
       "      <th></th>\n",
       "      <th>business_id</th>\n",
       "      <th>city</th>\n",
       "      <th>state</th>\n",
       "      <th>checkin_count</th>\n",
       "      <th>review_count</th>\n",
       "      <th>raw_stars</th>\n",
       "      <th>stars</th>\n",
       "      <th>weighted_stars</th>\n",
       "      <th>tip_count</th>\n",
       "      <th>visit_count</th>\n",
       "    </tr>\n",
       "  </thead>\n",
       "  <tbody>\n",
       "    <tr>\n",
       "      <th>0</th>\n",
       "      <td>6iYb2HFDywm3zjuRg0shjw</td>\n",
       "      <td>Boulder</td>\n",
       "      <td>CO</td>\n",
       "      <td>79</td>\n",
       "      <td>49</td>\n",
       "      <td>3.714286</td>\n",
       "      <td>3.5</td>\n",
       "      <td>2.827977</td>\n",
       "      <td>4</td>\n",
       "      <td>132</td>\n",
       "    </tr>\n",
       "    <tr>\n",
       "      <th>1</th>\n",
       "      <td>tCbdrRPZA0oiIYSmHG3J0w</td>\n",
       "      <td>Portland</td>\n",
       "      <td>OR</td>\n",
       "      <td>181</td>\n",
       "      <td>24</td>\n",
       "      <td>3.500000</td>\n",
       "      <td>3.5</td>\n",
       "      <td>2.734268</td>\n",
       "      <td>4</td>\n",
       "      <td>209</td>\n",
       "    </tr>\n",
       "  </tbody>\n",
       "</table>\n",
       "</div>"
      ],
      "text/plain": [
       "              business_id      city state  checkin_count  review_count  \\\n",
       "0  6iYb2HFDywm3zjuRg0shjw   Boulder    CO             79            49   \n",
       "1  tCbdrRPZA0oiIYSmHG3J0w  Portland    OR            181            24   \n",
       "\n",
       "   raw_stars  stars  weighted_stars  tip_count  visit_count  \n",
       "0   3.714286    3.5        2.827977          4          132  \n",
       "1   3.500000    3.5        2.734268          4          209  "
      ]
     },
     "execution_count": 3,
     "metadata": {},
     "output_type": "execute_result"
    }
   ],
   "source": [
    "restaurants_df = restaurants_df.drop([\"latitude\", \"longitude\", \"is_open\", \"attributes\", \"categories\", \"hours\",\n",
    "                                     \"first_date\", \"last_date\", \"is_open_year_after\"], axis=1)\n",
    "restaurants_df.head(2)"
   ]
  },
  {
   "cell_type": "code",
   "execution_count": 4,
   "metadata": {},
   "outputs": [],
   "source": [
    "restaurants_df = restaurants_df[restaurants_df['stars'].notna()]"
   ]
  },
  {
   "cell_type": "code",
   "execution_count": 5,
   "metadata": {},
   "outputs": [
    {
     "data": {
      "text/html": [
       "<div>\n",
       "<style scoped>\n",
       "    .dataframe tbody tr th:only-of-type {\n",
       "        vertical-align: middle;\n",
       "    }\n",
       "\n",
       "    .dataframe tbody tr th {\n",
       "        vertical-align: top;\n",
       "    }\n",
       "\n",
       "    .dataframe thead th {\n",
       "        text-align: right;\n",
       "    }\n",
       "</style>\n",
       "<table border=\"1\" class=\"dataframe\">\n",
       "  <thead>\n",
       "    <tr style=\"text-align: right;\">\n",
       "      <th></th>\n",
       "      <th>id1</th>\n",
       "      <th>id2</th>\n",
       "      <th>distance</th>\n",
       "    </tr>\n",
       "  </thead>\n",
       "  <tbody>\n",
       "    <tr>\n",
       "      <th>0</th>\n",
       "      <td>Q2vefh0tGhtCGQDK1FI7cw</td>\n",
       "      <td>ssK5vKQ_eN0VyGoYKOmkeQ</td>\n",
       "      <td>441</td>\n",
       "    </tr>\n",
       "    <tr>\n",
       "      <th>1</th>\n",
       "      <td>Q2vefh0tGhtCGQDK1FI7cw</td>\n",
       "      <td>tSZTPA7uERhWkKq_jbl3Eg</td>\n",
       "      <td>209</td>\n",
       "    </tr>\n",
       "    <tr>\n",
       "      <th>2</th>\n",
       "      <td>Q2vefh0tGhtCGQDK1FI7cw</td>\n",
       "      <td>bSy6VVJIdYPza1Bj9_Eicw</td>\n",
       "      <td>450</td>\n",
       "    </tr>\n",
       "  </tbody>\n",
       "</table>\n",
       "</div>"
      ],
      "text/plain": [
       "                      id1                     id2  distance\n",
       "0  Q2vefh0tGhtCGQDK1FI7cw  ssK5vKQ_eN0VyGoYKOmkeQ       441\n",
       "1  Q2vefh0tGhtCGQDK1FI7cw  tSZTPA7uERhWkKq_jbl3Eg       209\n",
       "2  Q2vefh0tGhtCGQDK1FI7cw  bSy6VVJIdYPza1Bj9_Eicw       450"
      ]
     },
     "execution_count": 5,
     "metadata": {},
     "output_type": "execute_result"
    }
   ],
   "source": [
    "edges_df = pd.read_csv(\"./../datasets/2017-2018_restaurant-edges.csv\")\n",
    "edges_df.head(3)"
   ]
  },
  {
   "cell_type": "code",
   "execution_count": 6,
   "metadata": {},
   "outputs": [
    {
     "name": "stdout",
     "output_type": "stream",
     "text": [
      "There are 29963 restaurants and 494203 edges.\n"
     ]
    }
   ],
   "source": [
    "print(f\"There are {len(restaurants_df)} restaurants and {len(edges_df)} edges.\")"
   ]
  },
  {
   "cell_type": "code",
   "execution_count": 7,
   "metadata": {},
   "outputs": [],
   "source": [
    "restaurants_df[\"popularity_value\"] = restaurants_df[\"raw_stars\"] * restaurants_df[\"review_count\"] + restaurants_df[\"raw_stars\"].mean() * (restaurants_df[\"tip_count\"] + restaurants_df[\"checkin_count\"])"
   ]
  },
  {
   "cell_type": "code",
   "execution_count": 8,
   "metadata": {},
   "outputs": [],
   "source": [
    "bottom = restaurants_df[\"popularity_value\"].quantile(0.33)\n",
    "median = restaurants_df[\"popularity_value\"].describe()[\"50%\"]\n",
    "top = restaurants_df[\"popularity_value\"].quantile(0.67)"
   ]
  },
  {
   "cell_type": "code",
   "execution_count": 9,
   "metadata": {},
   "outputs": [],
   "source": [
    "def classify_popular(score):\n",
    "    if score >= top:\n",
    "        return 2\n",
    "    if score >= bottom:\n",
    "        return 1\n",
    "    return 0"
   ]
  },
  {
   "cell_type": "code",
   "execution_count": 10,
   "metadata": {},
   "outputs": [],
   "source": [
    "restaurants_df[\"popularity\"] = restaurants_df[\"popularity_value\"].apply(classify_popular)"
   ]
  },
  {
   "cell_type": "markdown",
   "metadata": {},
   "source": [
    "### Creating the Graph"
   ]
  },
  {
   "cell_type": "code",
   "execution_count": 11,
   "metadata": {},
   "outputs": [],
   "source": [
    "import networkx as nx"
   ]
  },
  {
   "cell_type": "code",
   "execution_count": 12,
   "metadata": {},
   "outputs": [],
   "source": [
    "G = nx.Graph()"
   ]
  },
  {
   "cell_type": "code",
   "execution_count": 13,
   "metadata": {},
   "outputs": [],
   "source": [
    "rest = {}\n",
    "current = 0"
   ]
  },
  {
   "cell_type": "code",
   "execution_count": 14,
   "metadata": {},
   "outputs": [],
   "source": [
    "for index, row in restaurants_df.iterrows():\n",
    "    rest[row[\"business_id\"]] = current\n",
    "    node_label = row[\"popularity\"]\n",
    "    \n",
    "    G.add_node(current, node_label=node_label)\n",
    "    \n",
    "    current += 1"
   ]
  },
  {
   "cell_type": "code",
   "execution_count": 15,
   "metadata": {},
   "outputs": [],
   "source": [
    "for index, row in edges_df.iterrows():\n",
    "    try:\n",
    "        node1 = rest[row[\"id1\"]]\n",
    "        node2 = rest[row[\"id2\"]]\n",
    "    except KeyError:\n",
    "        pass\n",
    "    \n",
    "    G.add_edge(node1, node2)"
   ]
  },
  {
   "cell_type": "code",
   "execution_count": 16,
   "metadata": {},
   "outputs": [
    {
     "name": "stdout",
     "output_type": "stream",
     "text": [
      "Number of nodes: 29963\n",
      "Number of edges: 491464\n"
     ]
    }
   ],
   "source": [
    "print(f\"Number of nodes: {G.number_of_nodes()}\")\n",
    "print(f\"Number of edges: {G.number_of_edges()}\")"
   ]
  },
  {
   "cell_type": "code",
   "execution_count": 17,
   "metadata": {},
   "outputs": [
    {
     "data": {
      "text/plain": [
       "'Name: \\nType: Graph\\nNumber of nodes: 29963\\nNumber of edges: 491464\\nAverage degree:  32.8047'"
      ]
     },
     "execution_count": 17,
     "metadata": {},
     "output_type": "execute_result"
    }
   ],
   "source": [
    "nx.info(G)"
   ]
  },
  {
   "cell_type": "markdown",
   "metadata": {},
   "source": [
    "### Adding Node Degree"
   ]
  },
  {
   "cell_type": "code",
   "execution_count": 18,
   "metadata": {},
   "outputs": [],
   "source": [
    "degrees = {node:val for (node, val) in G.degree()}"
   ]
  },
  {
   "cell_type": "code",
   "execution_count": 19,
   "metadata": {},
   "outputs": [],
   "source": [
    "def get_node_degree(business_id):\n",
    "    bid = rest[business_id] \n",
    "    return degrees[bid]"
   ]
  },
  {
   "cell_type": "code",
   "execution_count": 20,
   "metadata": {},
   "outputs": [],
   "source": [
    "restaurants_df[\"node_degree\"] = restaurants_df[\"business_id\"].apply(get_node_degree)"
   ]
  },
  {
   "cell_type": "code",
   "execution_count": 21,
   "metadata": {},
   "outputs": [
    {
     "data": {
      "text/html": [
       "<div>\n",
       "<style scoped>\n",
       "    .dataframe tbody tr th:only-of-type {\n",
       "        vertical-align: middle;\n",
       "    }\n",
       "\n",
       "    .dataframe tbody tr th {\n",
       "        vertical-align: top;\n",
       "    }\n",
       "\n",
       "    .dataframe thead th {\n",
       "        text-align: right;\n",
       "    }\n",
       "</style>\n",
       "<table border=\"1\" class=\"dataframe\">\n",
       "  <thead>\n",
       "    <tr style=\"text-align: right;\">\n",
       "      <th></th>\n",
       "      <th>business_id</th>\n",
       "      <th>city</th>\n",
       "      <th>state</th>\n",
       "      <th>checkin_count</th>\n",
       "      <th>review_count</th>\n",
       "      <th>raw_stars</th>\n",
       "      <th>stars</th>\n",
       "      <th>weighted_stars</th>\n",
       "      <th>tip_count</th>\n",
       "      <th>visit_count</th>\n",
       "      <th>popularity_value</th>\n",
       "      <th>popularity</th>\n",
       "      <th>node_degree</th>\n",
       "    </tr>\n",
       "  </thead>\n",
       "  <tbody>\n",
       "    <tr>\n",
       "      <th>0</th>\n",
       "      <td>6iYb2HFDywm3zjuRg0shjw</td>\n",
       "      <td>Boulder</td>\n",
       "      <td>CO</td>\n",
       "      <td>79</td>\n",
       "      <td>49</td>\n",
       "      <td>3.714286</td>\n",
       "      <td>3.5</td>\n",
       "      <td>2.827977</td>\n",
       "      <td>4</td>\n",
       "      <td>132</td>\n",
       "      <td>475.040397</td>\n",
       "      <td>2</td>\n",
       "      <td>73</td>\n",
       "    </tr>\n",
       "    <tr>\n",
       "      <th>1</th>\n",
       "      <td>tCbdrRPZA0oiIYSmHG3J0w</td>\n",
       "      <td>Portland</td>\n",
       "      <td>OR</td>\n",
       "      <td>181</td>\n",
       "      <td>24</td>\n",
       "      <td>3.500000</td>\n",
       "      <td>3.5</td>\n",
       "      <td>2.734268</td>\n",
       "      <td>4</td>\n",
       "      <td>209</td>\n",
       "      <td>737.162331</td>\n",
       "      <td>2</td>\n",
       "      <td>33</td>\n",
       "    </tr>\n",
       "    <tr>\n",
       "      <th>2</th>\n",
       "      <td>D4JtQNTI4X3KcbzacDJsMw</td>\n",
       "      <td>Vancouver</td>\n",
       "      <td>BC</td>\n",
       "      <td>42</td>\n",
       "      <td>28</td>\n",
       "      <td>3.678571</td>\n",
       "      <td>3.5</td>\n",
       "      <td>3.284146</td>\n",
       "      <td>3</td>\n",
       "      <td>73</td>\n",
       "      <td>261.877324</td>\n",
       "      <td>1</td>\n",
       "      <td>40</td>\n",
       "    </tr>\n",
       "    <tr>\n",
       "      <th>3</th>\n",
       "      <td>ufCxltuh56FF4-ZFZ6cVhg</td>\n",
       "      <td>Orlando</td>\n",
       "      <td>FL</td>\n",
       "      <td>42</td>\n",
       "      <td>38</td>\n",
       "      <td>4.631579</td>\n",
       "      <td>4.5</td>\n",
       "      <td>3.755860</td>\n",
       "      <td>5</td>\n",
       "      <td>85</td>\n",
       "      <td>341.938538</td>\n",
       "      <td>1</td>\n",
       "      <td>38</td>\n",
       "    </tr>\n",
       "    <tr>\n",
       "      <th>4</th>\n",
       "      <td>dmbbf3AqeG61_QHRZi1M1w</td>\n",
       "      <td>Pine Castle</td>\n",
       "      <td>FL</td>\n",
       "      <td>4</td>\n",
       "      <td>3</td>\n",
       "      <td>3.000000</td>\n",
       "      <td>3.0</td>\n",
       "      <td>1.789357</td>\n",
       "      <td>1</td>\n",
       "      <td>8</td>\n",
       "      <td>26.653036</td>\n",
       "      <td>0</td>\n",
       "      <td>0</td>\n",
       "    </tr>\n",
       "  </tbody>\n",
       "</table>\n",
       "</div>"
      ],
      "text/plain": [
       "              business_id         city state  checkin_count  review_count  \\\n",
       "0  6iYb2HFDywm3zjuRg0shjw      Boulder    CO             79            49   \n",
       "1  tCbdrRPZA0oiIYSmHG3J0w     Portland    OR            181            24   \n",
       "2  D4JtQNTI4X3KcbzacDJsMw    Vancouver    BC             42            28   \n",
       "3  ufCxltuh56FF4-ZFZ6cVhg      Orlando    FL             42            38   \n",
       "4  dmbbf3AqeG61_QHRZi1M1w  Pine Castle    FL              4             3   \n",
       "\n",
       "   raw_stars  stars  weighted_stars  tip_count  visit_count  popularity_value  \\\n",
       "0   3.714286    3.5        2.827977          4          132        475.040397   \n",
       "1   3.500000    3.5        2.734268          4          209        737.162331   \n",
       "2   3.678571    3.5        3.284146          3           73        261.877324   \n",
       "3   4.631579    4.5        3.755860          5           85        341.938538   \n",
       "4   3.000000    3.0        1.789357          1            8         26.653036   \n",
       "\n",
       "   popularity  node_degree  \n",
       "0           2           73  \n",
       "1           2           33  \n",
       "2           1           40  \n",
       "3           1           38  \n",
       "4           0            0  "
      ]
     },
     "execution_count": 21,
     "metadata": {},
     "output_type": "execute_result"
    }
   ],
   "source": [
    "restaurants_df.head()"
   ]
  },
  {
   "cell_type": "markdown",
   "metadata": {},
   "source": [
    "### Geographical Analysis"
   ]
  },
  {
   "cell_type": "code",
   "execution_count": 22,
   "metadata": {},
   "outputs": [
    {
     "name": "stdout",
     "output_type": "stream",
     "text": [
      "1. Boston (MA)\t\t6192\n",
      "2. Vancouver (BC)\t3953\n",
      "3. Orlando (FL)\t\t4781\n",
      "4. Austin (TX)\t\t3213\n",
      "5. Portland (WA/OR)\t5089\n",
      "6. Atlanta (GA)\t\t3670\n",
      "7. Colombus (OH)\t2548\n",
      "8. Boulder (CO)\t\t517\n"
     ]
    }
   ],
   "source": [
    "boston_df = restaurants_df[restaurants_df[\"state\"] == \"MA\"]\n",
    "vancouver_df = restaurants_df[restaurants_df[\"state\"] == \"BC\"]\n",
    "orlando_df = restaurants_df[restaurants_df[\"state\"] == \"FL\"]\n",
    "austin_df = restaurants_df[restaurants_df[\"state\"] == \"TX\"]\n",
    "portland_df = restaurants_df[restaurants_df[\"state\"].isin([\"WA\", \"OR\"])]\n",
    "atlanta_df = restaurants_df[restaurants_df[\"state\"] == \"GA\"]\n",
    "colombus_df = restaurants_df[restaurants_df[\"state\"] == \"OH\"]\n",
    "boulder_df = restaurants_df[restaurants_df[\"state\"] == \"CO\"]\n",
    "\n",
    "print(f\"1. Boston (MA)\\t\\t{len(boston_df)}\")\n",
    "print(f\"2. Vancouver (BC)\\t{len(vancouver_df)}\")\n",
    "print(f\"3. Orlando (FL)\\t\\t{len(orlando_df)}\")\n",
    "print(f\"4. Austin (TX)\\t\\t{len(austin_df)}\")\n",
    "print(f\"5. Portland (WA/OR)\\t{len(portland_df)}\")\n",
    "print(f\"6. Atlanta (GA)\\t\\t{len(atlanta_df)}\")\n",
    "print(f\"7. Colombus (OH)\\t{len(colombus_df)}\")\n",
    "print(f\"8. Boulder (CO)\\t\\t{len(boulder_df)}\")"
   ]
  },
  {
   "cell_type": "code",
   "execution_count": 29,
   "metadata": {},
   "outputs": [
    {
     "name": "stdout",
     "output_type": "stream",
     "text": [
      "1. Boston (MA) node degree:\t\t42.16\n",
      "2. Vancouver (BC) node degree:\t\t55.99\n",
      "3. Orlando (FL) node degree:\t\t15.72\n",
      "4. Austin (TX) node degree:\t\t23.68\n",
      "5. Portland (WA/OR) node degree:\t40.96\n",
      "6. Atlanta (GA) node degree:\t\t23.56\n",
      "7. Colombus (OH) node degree:\t\t14.9\n",
      "8. Boulder (CO) node degree:\t\t31.74\n"
     ]
    }
   ],
   "source": [
    "boston_node_deg = boston_df[\"node_degree\"].mean()\n",
    "vancouver_node_deg = vancouver_df[\"node_degree\"].mean()\n",
    "orlando_node_deg = orlando_df[\"node_degree\"].mean()\n",
    "austin_node_deg = austin_df[\"node_degree\"].mean()\n",
    "portland_node_deg = portland_df[\"node_degree\"].mean()\n",
    "atlanta_node_deg = atlanta_df[\"node_degree\"].mean()\n",
    "colombus_node_deg = colombus_df[\"node_degree\"].mean()\n",
    "boulder_node_deg = boulder_df[\"node_degree\"].mean()\n",
    "\n",
    "print(f\"1. Boston (MA) node degree:\\t\\t{round(boston_node_deg, 2)}\")\n",
    "print(f\"2. Vancouver (BC) node degree:\\t\\t{round(vancouver_node_deg, 2)}\")\n",
    "print(f\"3. Orlando (FL) node degree:\\t\\t{round(orlando_node_deg, 2)}\")\n",
    "print(f\"4. Austin (TX) node degree:\\t\\t{round(austin_node_deg, 2)}\")\n",
    "print(f\"5. Portland (WA/OR) node degree:\\t{round(portland_node_deg, 2)}\")\n",
    "print(f\"6. Atlanta (GA) node degree:\\t\\t{round(atlanta_node_deg, 2)}\")\n",
    "print(f\"7. Colombus (OH) node degree:\\t\\t{round(colombus_node_deg, 2)}\")\n",
    "print(f\"8. Boulder (CO) node degree:\\t\\t{round(boulder_node_deg, 2)}\")"
   ]
  },
  {
   "cell_type": "code",
   "execution_count": 33,
   "metadata": {},
   "outputs": [
    {
     "name": "stdout",
     "output_type": "stream",
     "text": [
      "1. Boston (MA) popularity:\t\t0.93\n",
      "2. Vancouver (BC) popularity:\t\t0.76\n",
      "3. Orlando (FL) popularity:\t\t1.03\n",
      "4. Austin (TX) popularity:\t\t1.2\n",
      "5. Portland (WA/OR) popularity:\t\t1.15\n",
      "6. Atlanta (GA) popularity:\t\t1.09\n",
      "7. Colombus (OH) popularity:\t\t0.81\n",
      "8. Boulder (CO) popularity:\t\t1.04\n"
     ]
    }
   ],
   "source": [
    "boston_pop = boston_df[\"popularity\"].mean()\n",
    "vancouver_pop = vancouver_df[\"popularity\"].mean()\n",
    "orlando_pop = orlando_df[\"popularity\"].mean()\n",
    "austin_pop = austin_df[\"popularity\"].mean()\n",
    "portland_pop = portland_df[\"popularity\"].mean()\n",
    "atlanta_pop = atlanta_df[\"popularity\"].mean()\n",
    "colombus_pop = colombus_df[\"popularity\"].mean()\n",
    "boulder_pop = boulder_df[\"popularity\"].mean()\n",
    "\n",
    "print(f\"1. Boston (MA) popularity:\\t\\t{round(boston_pop, 2)}\")\n",
    "print(f\"2. Vancouver (BC) popularity:\\t\\t{round(vancouver_pop, 2)}\")\n",
    "print(f\"3. Orlando (FL) popularity:\\t\\t{round(orlando_pop, 2)}\")\n",
    "print(f\"4. Austin (TX) popularity:\\t\\t{round(austin_pop, 2)}\")\n",
    "print(f\"5. Portland (WA/OR) popularity:\\t\\t{round(portland_pop, 2)}\")\n",
    "print(f\"6. Atlanta (GA) popularity:\\t\\t{round(atlanta_pop, 2)}\")\n",
    "print(f\"7. Colombus (OH) popularity:\\t\\t{round(colombus_pop, 2)}\")\n",
    "print(f\"8. Boulder (CO) popularity:\\t\\t{round(boulder_pop, 2)}\")"
   ]
  },
  {
   "cell_type": "code",
   "execution_count": 45,
   "metadata": {},
   "outputs": [],
   "source": [
    "def get_correlation(popularities, degrees):\n",
    "    table = []\n",
    "    for i in range(len(popularities)):\n",
    "        table.append([popularities[i], degrees[i]])\n",
    "    df = pd.DataFrame(table, columns =['popularity', 'node_degree'])\n",
    "    return df"
   ]
  },
  {
   "cell_type": "code",
   "execution_count": 46,
   "metadata": {},
   "outputs": [],
   "source": [
    "pops = [boston_pop, vancouver_pop, orlando_pop, austin_pop, portland_pop, atlanta_pop, colombus_pop, boulder_pop]\n",
    "degs = [boston_node_deg, vancouver_node_deg, orlando_node_deg, austin_node_deg, portland_node_deg, atlanta_node_deg,\n",
    "       colombus_node_deg, boulder_node_deg]\n",
    "df = get_correlation(pops, degs)"
   ]
  },
  {
   "cell_type": "code",
   "execution_count": 48,
   "metadata": {},
   "outputs": [
    {
     "data": {
      "text/html": [
       "<div>\n",
       "<style scoped>\n",
       "    .dataframe tbody tr th:only-of-type {\n",
       "        vertical-align: middle;\n",
       "    }\n",
       "\n",
       "    .dataframe tbody tr th {\n",
       "        vertical-align: top;\n",
       "    }\n",
       "\n",
       "    .dataframe thead th {\n",
       "        text-align: right;\n",
       "    }\n",
       "</style>\n",
       "<table border=\"1\" class=\"dataframe\">\n",
       "  <thead>\n",
       "    <tr style=\"text-align: right;\">\n",
       "      <th></th>\n",
       "      <th>node_degree</th>\n",
       "      <th>popularity</th>\n",
       "    </tr>\n",
       "  </thead>\n",
       "  <tbody>\n",
       "    <tr>\n",
       "      <th>node_degree</th>\n",
       "      <td>1.00000</td>\n",
       "      <td>-0.31575</td>\n",
       "    </tr>\n",
       "    <tr>\n",
       "      <th>popularity</th>\n",
       "      <td>-0.31575</td>\n",
       "      <td>1.00000</td>\n",
       "    </tr>\n",
       "  </tbody>\n",
       "</table>\n",
       "</div>"
      ],
      "text/plain": [
       "             node_degree  popularity\n",
       "node_degree      1.00000    -0.31575\n",
       "popularity      -0.31575     1.00000"
      ]
     },
     "execution_count": 48,
     "metadata": {},
     "output_type": "execute_result"
    }
   ],
   "source": [
    "df[[\"node_degree\", \"popularity\"]].corr()"
   ]
  },
  {
   "cell_type": "code",
   "execution_count": 49,
   "metadata": {},
   "outputs": [],
   "source": [
    "pops = [boston_pop, vancouver_pop, orlando_pop, austin_pop, portland_pop, atlanta_pop, colombus_pop, boulder_pop]\n",
    "degs = [boston_node_deg/len(boston_df), \n",
    "        vancouver_node_deg/len(vancouver_df), \n",
    "        orlando_node_deg/len(orlando_df), \n",
    "        austin_node_deg/len(austin_df), \n",
    "        portland_node_deg/len(portland_df), \n",
    "        atlanta_node_deg/len(atlanta_df),\n",
    "        colombus_node_deg/len(colombus_df), \n",
    "        boulder_node_deg/len(boulder_df)]\n",
    "df = get_correlation(pops, degs)"
   ]
  },
  {
   "cell_type": "code",
   "execution_count": 50,
   "metadata": {},
   "outputs": [
    {
     "data": {
      "text/html": [
       "<div>\n",
       "<style scoped>\n",
       "    .dataframe tbody tr th:only-of-type {\n",
       "        vertical-align: middle;\n",
       "    }\n",
       "\n",
       "    .dataframe tbody tr th {\n",
       "        vertical-align: top;\n",
       "    }\n",
       "\n",
       "    .dataframe thead th {\n",
       "        text-align: right;\n",
       "    }\n",
       "</style>\n",
       "<table border=\"1\" class=\"dataframe\">\n",
       "  <thead>\n",
       "    <tr style=\"text-align: right;\">\n",
       "      <th></th>\n",
       "      <th>node_degree</th>\n",
       "      <th>popularity</th>\n",
       "    </tr>\n",
       "  </thead>\n",
       "  <tbody>\n",
       "    <tr>\n",
       "      <th>node_degree</th>\n",
       "      <td>1.000000</td>\n",
       "      <td>0.025239</td>\n",
       "    </tr>\n",
       "    <tr>\n",
       "      <th>popularity</th>\n",
       "      <td>0.025239</td>\n",
       "      <td>1.000000</td>\n",
       "    </tr>\n",
       "  </tbody>\n",
       "</table>\n",
       "</div>"
      ],
      "text/plain": [
       "             node_degree  popularity\n",
       "node_degree     1.000000    0.025239\n",
       "popularity      0.025239    1.000000"
      ]
     },
     "execution_count": 50,
     "metadata": {},
     "output_type": "execute_result"
    }
   ],
   "source": [
    "df[[\"node_degree\", \"popularity\"]].corr()"
   ]
  },
  {
   "cell_type": "markdown",
   "metadata": {},
   "source": [
    "### Popularity Analysis"
   ]
  },
  {
   "cell_type": "code",
   "execution_count": 52,
   "metadata": {},
   "outputs": [],
   "source": [
    "bottom_df = restaurants_df[restaurants_df[\"popularity\"] == 0]\n",
    "middle_df = restaurants_df[restaurants_df[\"popularity\"] == 1]\n",
    "top_df = restaurants_df[restaurants_df[\"popularity\"] == 2]"
   ]
  },
  {
   "cell_type": "code",
   "execution_count": 53,
   "metadata": {},
   "outputs": [
    {
     "name": "stdout",
     "output_type": "stream",
     "text": [
      "1. Bottom node degree:\t\t24.32\n",
      "2. Middle node degree:\t\t30.87\n",
      "3. Top node degree:\t\t43.28\n"
     ]
    }
   ],
   "source": [
    "bottom_node_deg = bottom_df[\"node_degree\"].mean()\n",
    "middle_node_deg = middle_df[\"node_degree\"].mean()\n",
    "top_node_deg = top_df[\"node_degree\"].mean()\n",
    "\n",
    "print(f\"1. Bottom node degree:\\t\\t{round(bottom_node_deg, 2)}\")\n",
    "print(f\"2. Middle node degree:\\t\\t{round(middle_node_deg, 2)}\")\n",
    "print(f\"3. Top node degree:\\t\\t{round(top_node_deg, 2)}\")"
   ]
  },
  {
   "cell_type": "code",
   "execution_count": null,
   "metadata": {},
   "outputs": [],
   "source": []
  }
 ],
 "metadata": {
  "kernelspec": {
   "display_name": "Python 3",
   "language": "python",
   "name": "python3"
  },
  "language_info": {
   "codemirror_mode": {
    "name": "ipython",
    "version": 3
   },
   "file_extension": ".py",
   "mimetype": "text/x-python",
   "name": "python",
   "nbconvert_exporter": "python",
   "pygments_lexer": "ipython3",
   "version": "3.7.0"
  }
 },
 "nbformat": 4,
 "nbformat_minor": 2
}

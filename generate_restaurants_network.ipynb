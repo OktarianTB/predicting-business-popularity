{
 "cells": [
  {
   "cell_type": "markdown",
   "metadata": {},
   "source": [
    "# Generating Restaurants Network\n",
    "Program to generate CSV file with edges between restaurants who are less than DIST_MAX meters away from each other."
   ]
  },
  {
   "cell_type": "code",
   "execution_count": 1,
   "metadata": {},
   "outputs": [],
   "source": [
    "import json\n",
    "import pandas as pd\n",
    "import numpy as np\n",
    "import math\n",
    "import time"
   ]
  },
  {
   "cell_type": "markdown",
   "metadata": {},
   "source": [
    "### Reading the data"
   ]
  },
  {
   "cell_type": "code",
   "execution_count": 2,
   "metadata": {},
   "outputs": [],
   "source": [
    "business_df = pd.read_json('./yelp/yelp_academic_dataset_business.json', lines=True)"
   ]
  },
  {
   "cell_type": "code",
   "execution_count": 3,
   "metadata": {},
   "outputs": [
    {
     "data": {
      "text/html": [
       "<div>\n",
       "<style scoped>\n",
       "    .dataframe tbody tr th:only-of-type {\n",
       "        vertical-align: middle;\n",
       "    }\n",
       "\n",
       "    .dataframe tbody tr th {\n",
       "        vertical-align: top;\n",
       "    }\n",
       "\n",
       "    .dataframe thead th {\n",
       "        text-align: right;\n",
       "    }\n",
       "</style>\n",
       "<table border=\"1\" class=\"dataframe\">\n",
       "  <thead>\n",
       "    <tr style=\"text-align: right;\">\n",
       "      <th></th>\n",
       "      <th>address</th>\n",
       "      <th>attributes</th>\n",
       "      <th>business_id</th>\n",
       "      <th>categories</th>\n",
       "      <th>city</th>\n",
       "      <th>hours</th>\n",
       "      <th>is_open</th>\n",
       "      <th>latitude</th>\n",
       "      <th>longitude</th>\n",
       "      <th>name</th>\n",
       "      <th>postal_code</th>\n",
       "      <th>review_count</th>\n",
       "      <th>stars</th>\n",
       "      <th>state</th>\n",
       "    </tr>\n",
       "  </thead>\n",
       "  <tbody>\n",
       "    <tr>\n",
       "      <th>0</th>\n",
       "      <td>921 Pearl St</td>\n",
       "      <td>{'RestaurantsTableService': 'True', 'WiFi': 'u...</td>\n",
       "      <td>6iYb2HFDywm3zjuRg0shjw</td>\n",
       "      <td>Gastropubs, Food, Beer Gardens, Restaurants, B...</td>\n",
       "      <td>Boulder</td>\n",
       "      <td>{'Monday': '11:0-23:0', 'Tuesday': '11:0-23:0'...</td>\n",
       "      <td>1</td>\n",
       "      <td>40.017544</td>\n",
       "      <td>-105.283348</td>\n",
       "      <td>Oskar Blues Taproom</td>\n",
       "      <td>80302</td>\n",
       "      <td>86</td>\n",
       "      <td>4.0</td>\n",
       "      <td>CO</td>\n",
       "    </tr>\n",
       "    <tr>\n",
       "      <th>1</th>\n",
       "      <td>7000 NE Airport Way</td>\n",
       "      <td>{'RestaurantsTakeOut': 'True', 'RestaurantsAtt...</td>\n",
       "      <td>tCbdrRPZA0oiIYSmHG3J0w</td>\n",
       "      <td>Salad, Soup, Sandwiches, Delis, Restaurants, C...</td>\n",
       "      <td>Portland</td>\n",
       "      <td>{'Monday': '5:0-18:0', 'Tuesday': '5:0-17:0', ...</td>\n",
       "      <td>1</td>\n",
       "      <td>45.588906</td>\n",
       "      <td>-122.593331</td>\n",
       "      <td>Flying Elephants at PDX</td>\n",
       "      <td>97218</td>\n",
       "      <td>126</td>\n",
       "      <td>4.0</td>\n",
       "      <td>OR</td>\n",
       "    </tr>\n",
       "  </tbody>\n",
       "</table>\n",
       "</div>"
      ],
      "text/plain": [
       "               address                                         attributes  \\\n",
       "0         921 Pearl St  {'RestaurantsTableService': 'True', 'WiFi': 'u...   \n",
       "1  7000 NE Airport Way  {'RestaurantsTakeOut': 'True', 'RestaurantsAtt...   \n",
       "\n",
       "              business_id                                         categories  \\\n",
       "0  6iYb2HFDywm3zjuRg0shjw  Gastropubs, Food, Beer Gardens, Restaurants, B...   \n",
       "1  tCbdrRPZA0oiIYSmHG3J0w  Salad, Soup, Sandwiches, Delis, Restaurants, C...   \n",
       "\n",
       "       city                                              hours  is_open  \\\n",
       "0   Boulder  {'Monday': '11:0-23:0', 'Tuesday': '11:0-23:0'...        1   \n",
       "1  Portland  {'Monday': '5:0-18:0', 'Tuesday': '5:0-17:0', ...        1   \n",
       "\n",
       "    latitude   longitude                     name postal_code  review_count  \\\n",
       "0  40.017544 -105.283348      Oskar Blues Taproom       80302            86   \n",
       "1  45.588906 -122.593331  Flying Elephants at PDX       97218           126   \n",
       "\n",
       "   stars state  \n",
       "0    4.0    CO  \n",
       "1    4.0    OR  "
      ]
     },
     "execution_count": 3,
     "metadata": {},
     "output_type": "execute_result"
    }
   ],
   "source": [
    "business_df.head(2)"
   ]
  },
  {
   "cell_type": "markdown",
   "metadata": {},
   "source": [
    "### Cleaning the data"
   ]
  },
  {
   "cell_type": "code",
   "execution_count": 4,
   "metadata": {},
   "outputs": [],
   "source": [
    "business_df = business_df.dropna()"
   ]
  },
  {
   "cell_type": "code",
   "execution_count": 5,
   "metadata": {},
   "outputs": [],
   "source": [
    "restaurants_df = business_df.loc[business_df[\"categories\"].str.contains(\"Restaurants\")]"
   ]
  },
  {
   "cell_type": "code",
   "execution_count": 6,
   "metadata": {},
   "outputs": [],
   "source": [
    "restaurants_df = restaurants_df.drop(columns=['address', 'categories', 'name', 'review_count', 'stars', 'attributes', 'hours'])"
   ]
  },
  {
   "cell_type": "code",
   "execution_count": 7,
   "metadata": {},
   "outputs": [
    {
     "data": {
      "text/html": [
       "<div>\n",
       "<style scoped>\n",
       "    .dataframe tbody tr th:only-of-type {\n",
       "        vertical-align: middle;\n",
       "    }\n",
       "\n",
       "    .dataframe tbody tr th {\n",
       "        vertical-align: top;\n",
       "    }\n",
       "\n",
       "    .dataframe thead th {\n",
       "        text-align: right;\n",
       "    }\n",
       "</style>\n",
       "<table border=\"1\" class=\"dataframe\">\n",
       "  <thead>\n",
       "    <tr style=\"text-align: right;\">\n",
       "      <th></th>\n",
       "      <th>business_id</th>\n",
       "      <th>city</th>\n",
       "      <th>is_open</th>\n",
       "      <th>latitude</th>\n",
       "      <th>longitude</th>\n",
       "      <th>postal_code</th>\n",
       "      <th>state</th>\n",
       "    </tr>\n",
       "  </thead>\n",
       "  <tbody>\n",
       "    <tr>\n",
       "      <th>0</th>\n",
       "      <td>6iYb2HFDywm3zjuRg0shjw</td>\n",
       "      <td>Boulder</td>\n",
       "      <td>1</td>\n",
       "      <td>40.017544</td>\n",
       "      <td>-105.283348</td>\n",
       "      <td>80302</td>\n",
       "      <td>CO</td>\n",
       "    </tr>\n",
       "    <tr>\n",
       "      <th>1</th>\n",
       "      <td>tCbdrRPZA0oiIYSmHG3J0w</td>\n",
       "      <td>Portland</td>\n",
       "      <td>1</td>\n",
       "      <td>45.588906</td>\n",
       "      <td>-122.593331</td>\n",
       "      <td>97218</td>\n",
       "      <td>OR</td>\n",
       "    </tr>\n",
       "    <tr>\n",
       "      <th>5</th>\n",
       "      <td>D4JtQNTI4X3KcbzacDJsMw</td>\n",
       "      <td>Vancouver</td>\n",
       "      <td>1</td>\n",
       "      <td>49.251342</td>\n",
       "      <td>-123.101333</td>\n",
       "      <td>V5V</td>\n",
       "      <td>BC</td>\n",
       "    </tr>\n",
       "    <tr>\n",
       "      <th>12</th>\n",
       "      <td>HPA_qyMEddpAEtFof02ixg</td>\n",
       "      <td>Peabody</td>\n",
       "      <td>1</td>\n",
       "      <td>42.541155</td>\n",
       "      <td>-70.973438</td>\n",
       "      <td>01960</td>\n",
       "      <td>MA</td>\n",
       "    </tr>\n",
       "    <tr>\n",
       "      <th>13</th>\n",
       "      <td>ufCxltuh56FF4-ZFZ6cVhg</td>\n",
       "      <td>Orlando</td>\n",
       "      <td>1</td>\n",
       "      <td>28.513265</td>\n",
       "      <td>-81.374707</td>\n",
       "      <td>32806</td>\n",
       "      <td>FL</td>\n",
       "    </tr>\n",
       "    <tr>\n",
       "      <th>16</th>\n",
       "      <td>GfWJ19Js7wX9rwaHQ7KbGw</td>\n",
       "      <td>Orlando</td>\n",
       "      <td>1</td>\n",
       "      <td>28.350498</td>\n",
       "      <td>-81.542819</td>\n",
       "      <td>32830</td>\n",
       "      <td>FL</td>\n",
       "    </tr>\n",
       "    <tr>\n",
       "      <th>22</th>\n",
       "      <td>ynTjh_FdhbG5hY69HsEoaA</td>\n",
       "      <td>Orlando</td>\n",
       "      <td>0</td>\n",
       "      <td>28.381945</td>\n",
       "      <td>-81.510327</td>\n",
       "      <td>32836</td>\n",
       "      <td>FL</td>\n",
       "    </tr>\n",
       "    <tr>\n",
       "      <th>26</th>\n",
       "      <td>hcRxdDg7DYryCxCoI8ySQA</td>\n",
       "      <td>Boston</td>\n",
       "      <td>1</td>\n",
       "      <td>42.338544</td>\n",
       "      <td>-71.106842</td>\n",
       "      <td>02215</td>\n",
       "      <td>MA</td>\n",
       "    </tr>\n",
       "    <tr>\n",
       "      <th>29</th>\n",
       "      <td>jGennaZUr2MsJyRhijNBfA</td>\n",
       "      <td>Boston</td>\n",
       "      <td>1</td>\n",
       "      <td>42.363442</td>\n",
       "      <td>-71.025781</td>\n",
       "      <td>02128</td>\n",
       "      <td>MA</td>\n",
       "    </tr>\n",
       "    <tr>\n",
       "      <th>33</th>\n",
       "      <td>QciD6FbNklaJvUbLExD4Nw</td>\n",
       "      <td>Burnaby</td>\n",
       "      <td>1</td>\n",
       "      <td>49.254436</td>\n",
       "      <td>-123.020050</td>\n",
       "      <td>V5G 1G4</td>\n",
       "      <td>BC</td>\n",
       "    </tr>\n",
       "  </tbody>\n",
       "</table>\n",
       "</div>"
      ],
      "text/plain": [
       "               business_id       city  is_open   latitude   longitude  \\\n",
       "0   6iYb2HFDywm3zjuRg0shjw    Boulder        1  40.017544 -105.283348   \n",
       "1   tCbdrRPZA0oiIYSmHG3J0w   Portland        1  45.588906 -122.593331   \n",
       "5   D4JtQNTI4X3KcbzacDJsMw  Vancouver        1  49.251342 -123.101333   \n",
       "12  HPA_qyMEddpAEtFof02ixg    Peabody        1  42.541155  -70.973438   \n",
       "13  ufCxltuh56FF4-ZFZ6cVhg    Orlando        1  28.513265  -81.374707   \n",
       "16  GfWJ19Js7wX9rwaHQ7KbGw    Orlando        1  28.350498  -81.542819   \n",
       "22  ynTjh_FdhbG5hY69HsEoaA    Orlando        0  28.381945  -81.510327   \n",
       "26  hcRxdDg7DYryCxCoI8ySQA     Boston        1  42.338544  -71.106842   \n",
       "29  jGennaZUr2MsJyRhijNBfA     Boston        1  42.363442  -71.025781   \n",
       "33  QciD6FbNklaJvUbLExD4Nw    Burnaby        1  49.254436 -123.020050   \n",
       "\n",
       "   postal_code state  \n",
       "0        80302    CO  \n",
       "1        97218    OR  \n",
       "5          V5V    BC  \n",
       "12       01960    MA  \n",
       "13       32806    FL  \n",
       "16       32830    FL  \n",
       "22       32836    FL  \n",
       "26       02215    MA  \n",
       "29       02128    MA  \n",
       "33     V5G 1G4    BC  "
      ]
     },
     "execution_count": 7,
     "metadata": {},
     "output_type": "execute_result"
    }
   ],
   "source": [
    "restaurants_df.head(10)"
   ]
  },
  {
   "cell_type": "code",
   "execution_count": 8,
   "metadata": {},
   "outputs": [
    {
     "data": {
      "text/plain": [
       "42638"
      ]
     },
     "execution_count": 8,
     "metadata": {},
     "output_type": "execute_result"
    }
   ],
   "source": [
    "# Remove outliers\n",
    "restaurants_df = restaurants_df[~restaurants_df[\"state\"].isin([\"WY\", \"VA\", \"NH\", \"MN\", \"KY\", \"KS\", \"ABE\"])]\n",
    "restaurants_df = restaurants_df[restaurants_df[\"longitude\"] < 0]\n",
    "len(restaurants_df)"
   ]
  },
  {
   "cell_type": "code",
   "execution_count": 9,
   "metadata": {},
   "outputs": [],
   "source": [
    "cities = restaurants_df.groupby(\"city\").size()\n",
    "unique_cities = cities[cities < 20].keys()\n",
    "restaurants_df = restaurants_df[~restaurants_df[\"city\"].isin(unique_cities)]"
   ]
  },
  {
   "cell_type": "code",
   "execution_count": 10,
   "metadata": {},
   "outputs": [
    {
     "data": {
      "text/plain": [
       "41664"
      ]
     },
     "execution_count": 10,
     "metadata": {},
     "output_type": "execute_result"
    }
   ],
   "source": [
    "len(restaurants_df)"
   ]
  },
  {
   "cell_type": "markdown",
   "metadata": {},
   "source": [
    "### Analyzing distribution of locations"
   ]
  },
  {
   "cell_type": "code",
   "execution_count": 11,
   "metadata": {},
   "outputs": [
    {
     "data": {
      "text/plain": [
       "state\n",
       "MA    8367\n",
       "FL    6413\n",
       "OR    6267\n",
       "BC    6059\n",
       "GA    5049\n",
       "TX    4544\n",
       "OH    3643\n",
       "CO     685\n",
       "WA     637\n",
       "dtype: int64"
      ]
     },
     "execution_count": 11,
     "metadata": {},
     "output_type": "execute_result"
    }
   ],
   "source": [
    "restaurants_df.groupby(\"state\").size().sort_values(ascending=False)"
   ]
  },
  {
   "cell_type": "code",
   "execution_count": 12,
   "metadata": {},
   "outputs": [
    {
     "data": {
      "text/plain": [
       "<matplotlib.axes._subplots.AxesSubplot at 0x1ac45ab7f60>"
      ]
     },
     "execution_count": 12,
     "metadata": {},
     "output_type": "execute_result"
    }
   ],
   "source": [
    "# Can clearly observe the 8 metropolitan areas\n",
    "restaurants_df.plot.scatter(x=\"latitude\", y=\"longitude\")"
   ]
  },
  {
   "cell_type": "code",
   "execution_count": 13,
   "metadata": {},
   "outputs": [
    {
     "data": {
      "text/plain": [
       "city\n",
       "Portland     4877\n",
       "Austin       4211\n",
       "Vancouver    4174\n",
       "Atlanta      3479\n",
       "Orlando      3215\n",
       "Boston       2298\n",
       "Columbus     2249\n",
       "Richmond      694\n",
       "Cambridge     664\n",
       "Kissimmee     581\n",
       "dtype: int64"
      ]
     },
     "execution_count": 13,
     "metadata": {},
     "output_type": "execute_result"
    }
   ],
   "source": [
    "restaurants_df.groupby(\"city\").size().sort_values(ascending=False)[:10]"
   ]
  },
  {
   "cell_type": "markdown",
   "metadata": {},
   "source": [
    "### Get Dataframes for each Metropolitan Areas"
   ]
  },
  {
   "cell_type": "code",
   "execution_count": 14,
   "metadata": {},
   "outputs": [
    {
     "name": "stdout",
     "output_type": "stream",
     "text": [
      "1. Boston (MA)\t\t8367\n",
      "2. Vancouver (BC)\t6059\n",
      "3. Orlando (FL)\t\t6413\n",
      "4. Austin (TX)\t\t4544\n",
      "5. Portland (WA/OR)\t6904\n",
      "6. Atlanta (GA)\t\t5049\n",
      "7. Colombus (OH)\t3643\n",
      "8. Boulder (CO)\t\t685\n"
     ]
    }
   ],
   "source": [
    "boston_df = restaurants_df[restaurants_df[\"state\"] == \"MA\"]\n",
    "vancouver_df = restaurants_df[restaurants_df[\"state\"] == \"BC\"]\n",
    "orlando_df = restaurants_df[restaurants_df[\"state\"] == \"FL\"]\n",
    "austin_df = restaurants_df[restaurants_df[\"state\"] == \"TX\"]\n",
    "portland_df = restaurants_df[restaurants_df[\"state\"].isin([\"WA\", \"OR\"])]\n",
    "atlanta_df = restaurants_df[restaurants_df[\"state\"] == \"GA\"]\n",
    "colombus_df = restaurants_df[restaurants_df[\"state\"] == \"OH\"]\n",
    "boulder_df = restaurants_df[restaurants_df[\"state\"] == \"CO\"]\n",
    "\n",
    "print(f\"1. Boston (MA)\\t\\t{len(boston_df)}\")\n",
    "print(f\"2. Vancouver (BC)\\t{len(vancouver_df)}\")\n",
    "print(f\"3. Orlando (FL)\\t\\t{len(orlando_df)}\")\n",
    "print(f\"4. Austin (TX)\\t\\t{len(austin_df)}\")\n",
    "print(f\"5. Portland (WA/OR)\\t{len(portland_df)}\")\n",
    "print(f\"6. Atlanta (GA)\\t\\t{len(atlanta_df)}\")\n",
    "print(f\"7. Colombus (OH)\\t{len(colombus_df)}\")\n",
    "print(f\"8. Boulder (CO)\\t\\t{len(boulder_df)}\")"
   ]
  },
  {
   "cell_type": "code",
   "execution_count": 15,
   "metadata": {},
   "outputs": [
    {
     "data": {
      "text/html": [
       "<div>\n",
       "<style scoped>\n",
       "    .dataframe tbody tr th:only-of-type {\n",
       "        vertical-align: middle;\n",
       "    }\n",
       "\n",
       "    .dataframe tbody tr th {\n",
       "        vertical-align: top;\n",
       "    }\n",
       "\n",
       "    .dataframe thead th {\n",
       "        text-align: right;\n",
       "    }\n",
       "</style>\n",
       "<table border=\"1\" class=\"dataframe\">\n",
       "  <thead>\n",
       "    <tr style=\"text-align: right;\">\n",
       "      <th></th>\n",
       "      <th>business_id</th>\n",
       "      <th>city</th>\n",
       "      <th>is_open</th>\n",
       "      <th>latitude</th>\n",
       "      <th>longitude</th>\n",
       "      <th>postal_code</th>\n",
       "      <th>state</th>\n",
       "    </tr>\n",
       "  </thead>\n",
       "  <tbody>\n",
       "    <tr>\n",
       "      <th>0</th>\n",
       "      <td>6iYb2HFDywm3zjuRg0shjw</td>\n",
       "      <td>Boulder</td>\n",
       "      <td>1</td>\n",
       "      <td>40.017544</td>\n",
       "      <td>-105.283348</td>\n",
       "      <td>80302</td>\n",
       "      <td>CO</td>\n",
       "    </tr>\n",
       "    <tr>\n",
       "      <th>52</th>\n",
       "      <td>Of6xu3pY3eHe2yhiyz2dvg</td>\n",
       "      <td>Boulder</td>\n",
       "      <td>1</td>\n",
       "      <td>40.033678</td>\n",
       "      <td>-105.259103</td>\n",
       "      <td>80301</td>\n",
       "      <td>CO</td>\n",
       "    </tr>\n",
       "    <tr>\n",
       "      <th>158</th>\n",
       "      <td>_8Hejg5Q-_izIhLvq2ocnw</td>\n",
       "      <td>Boulder</td>\n",
       "      <td>1</td>\n",
       "      <td>40.070694</td>\n",
       "      <td>-105.200376</td>\n",
       "      <td>80301</td>\n",
       "      <td>CO</td>\n",
       "    </tr>\n",
       "    <tr>\n",
       "      <th>339</th>\n",
       "      <td>hfoHYhD4uzqsHQDxKMFnQw</td>\n",
       "      <td>Boulder</td>\n",
       "      <td>0</td>\n",
       "      <td>40.008353</td>\n",
       "      <td>-105.276600</td>\n",
       "      <td>80302</td>\n",
       "      <td>CO</td>\n",
       "    </tr>\n",
       "    <tr>\n",
       "      <th>360</th>\n",
       "      <td>Ziix5uzW9hJu5nYDxCmm1Q</td>\n",
       "      <td>Boulder</td>\n",
       "      <td>0</td>\n",
       "      <td>40.017152</td>\n",
       "      <td>-105.255516</td>\n",
       "      <td>80301</td>\n",
       "      <td>CO</td>\n",
       "    </tr>\n",
       "  </tbody>\n",
       "</table>\n",
       "</div>"
      ],
      "text/plain": [
       "                business_id     city  is_open   latitude   longitude  \\\n",
       "0    6iYb2HFDywm3zjuRg0shjw  Boulder        1  40.017544 -105.283348   \n",
       "52   Of6xu3pY3eHe2yhiyz2dvg  Boulder        1  40.033678 -105.259103   \n",
       "158  _8Hejg5Q-_izIhLvq2ocnw  Boulder        1  40.070694 -105.200376   \n",
       "339  hfoHYhD4uzqsHQDxKMFnQw  Boulder        0  40.008353 -105.276600   \n",
       "360  Ziix5uzW9hJu5nYDxCmm1Q  Boulder        0  40.017152 -105.255516   \n",
       "\n",
       "    postal_code state  \n",
       "0         80302    CO  \n",
       "52        80301    CO  \n",
       "158       80301    CO  \n",
       "339       80302    CO  \n",
       "360       80301    CO  "
      ]
     },
     "execution_count": 15,
     "metadata": {},
     "output_type": "execute_result"
    }
   ],
   "source": [
    "boulder_df.head()"
   ]
  },
  {
   "cell_type": "markdown",
   "metadata": {},
   "source": [
    "### Generate Edges"
   ]
  },
  {
   "cell_type": "markdown",
   "metadata": {},
   "source": [
    "#### Idea:\n",
    "- Calculate distance between every location within each metropolitan area (by state)\n",
    "- Use haversine distance"
   ]
  },
  {
   "cell_type": "code",
   "execution_count": 16,
   "metadata": {},
   "outputs": [],
   "source": [
    "DIST_MAX = 500"
   ]
  },
  {
   "cell_type": "code",
   "execution_count": 17,
   "metadata": {},
   "outputs": [],
   "source": [
    "edges = [] # each edge is a tuple (id1, id2) representing the business IDs"
   ]
  },
  {
   "cell_type": "code",
   "execution_count": 18,
   "metadata": {},
   "outputs": [],
   "source": [
    "metropolitan_areas = [boston_df, vancouver_df, orlando_df, austin_df, portland_df, atlanta_df, colombus_df, boulder_df]"
   ]
  },
  {
   "cell_type": "code",
   "execution_count": 19,
   "metadata": {},
   "outputs": [],
   "source": [
    "def haversine_distance(lat1, lon1, lat2, lon2):\n",
    "   r = 6371\n",
    "   phi1 = np.radians(lat1)\n",
    "   phi2 = np.radians(lat2)\n",
    "   delta_phi = np.radians(lat2 - lat1)\n",
    "   delta_lambda = np.radians(lon2 - lon1)\n",
    "   a = np.sin(delta_phi / 2)**2 + np.cos(phi1) * np.cos(phi2) * np.sin(delta_lambda / 2)**2\n",
    "   res = r * (2 * np.arctan2(np.sqrt(a), np.sqrt(1 - a)))\n",
    "   return np.round(res*1000, 2)"
   ]
  },
  {
   "cell_type": "code",
   "execution_count": 20,
   "metadata": {},
   "outputs": [
    {
     "name": "stdout",
     "output_type": "stream",
     "text": [
      "Processing...\n",
      "Finished area in 32.36449980735779\n",
      "Processing...\n",
      "Finished area in 31.834882020950317\n",
      "Processing...\n",
      "Finished area in 32.69323539733887\n",
      "Processing...\n",
      "Finished area in 32.51703977584839\n",
      "Processing...\n",
      "Finished area in 32.29214429855347\n",
      "Processing...\n",
      "Finished area in 33.65261626243591\n",
      "Processing...\n",
      "Finished area in 31.943434953689575\n",
      "Processing...\n",
      "Finished area in 32.33773374557495\n"
     ]
    }
   ],
   "source": [
    "for area_df in metropolitan_areas:\n",
    "    start_time = time.time()\n",
    "    print(\"Processing...\")\n",
    "    \n",
    "    for index1, row1 in boulder_df.iterrows():\n",
    "        for index2, row2 in boulder_df[boulder_df.index > index1].iterrows():\n",
    "            #print(f\"{row1[0]}  -  {row2[0]}: {haversine_distance(row1[3], row1[4], row2[3], row2[4])}\")\n",
    "            if haversine_distance(row1[3], row1[4], row2[3], row2[4]) < DIST_MAX:\n",
    "                edges.append((row1[0], row2[0]))\n",
    "    \n",
    "    print(f\"Finished area in {time.time() - start_time}\")"
   ]
  },
  {
   "cell_type": "code",
   "execution_count": 21,
   "metadata": {},
   "outputs": [
    {
     "data": {
      "text/plain": [
       "128152"
      ]
     },
     "execution_count": 21,
     "metadata": {},
     "output_type": "execute_result"
    }
   ],
   "source": [
    "len(edges)"
   ]
  },
  {
   "cell_type": "code",
   "execution_count": 24,
   "metadata": {},
   "outputs": [],
   "source": [
    "edges_df = pd.DataFrame(edges, columns=['id1', 'id2'])"
   ]
  },
  {
   "cell_type": "code",
   "execution_count": 25,
   "metadata": {},
   "outputs": [
    {
     "data": {
      "text/html": [
       "<div>\n",
       "<style scoped>\n",
       "    .dataframe tbody tr th:only-of-type {\n",
       "        vertical-align: middle;\n",
       "    }\n",
       "\n",
       "    .dataframe tbody tr th {\n",
       "        vertical-align: top;\n",
       "    }\n",
       "\n",
       "    .dataframe thead th {\n",
       "        text-align: right;\n",
       "    }\n",
       "</style>\n",
       "<table border=\"1\" class=\"dataframe\">\n",
       "  <thead>\n",
       "    <tr style=\"text-align: right;\">\n",
       "      <th></th>\n",
       "      <th>id1</th>\n",
       "      <th>id2</th>\n",
       "    </tr>\n",
       "  </thead>\n",
       "  <tbody>\n",
       "    <tr>\n",
       "      <th>0</th>\n",
       "      <td>6iYb2HFDywm3zjuRg0shjw</td>\n",
       "      <td>Rbt9i4IDFiIBsau020X_xQ</td>\n",
       "    </tr>\n",
       "    <tr>\n",
       "      <th>1</th>\n",
       "      <td>6iYb2HFDywm3zjuRg0shjw</td>\n",
       "      <td>DX6G8Vdu9wUx95Tzh6gEwA</td>\n",
       "    </tr>\n",
       "    <tr>\n",
       "      <th>2</th>\n",
       "      <td>6iYb2HFDywm3zjuRg0shjw</td>\n",
       "      <td>8zehGz9jnxPqXtOc7KaJxA</td>\n",
       "    </tr>\n",
       "    <tr>\n",
       "      <th>3</th>\n",
       "      <td>6iYb2HFDywm3zjuRg0shjw</td>\n",
       "      <td>PYUuu9y8oJFweobxs0CUog</td>\n",
       "    </tr>\n",
       "    <tr>\n",
       "      <th>4</th>\n",
       "      <td>6iYb2HFDywm3zjuRg0shjw</td>\n",
       "      <td>EWOt6ZUkPC12D2E34VWnPQ</td>\n",
       "    </tr>\n",
       "  </tbody>\n",
       "</table>\n",
       "</div>"
      ],
      "text/plain": [
       "                      id1                     id2\n",
       "0  6iYb2HFDywm3zjuRg0shjw  Rbt9i4IDFiIBsau020X_xQ\n",
       "1  6iYb2HFDywm3zjuRg0shjw  DX6G8Vdu9wUx95Tzh6gEwA\n",
       "2  6iYb2HFDywm3zjuRg0shjw  8zehGz9jnxPqXtOc7KaJxA\n",
       "3  6iYb2HFDywm3zjuRg0shjw  PYUuu9y8oJFweobxs0CUog\n",
       "4  6iYb2HFDywm3zjuRg0shjw  EWOt6ZUkPC12D2E34VWnPQ"
      ]
     },
     "execution_count": 25,
     "metadata": {},
     "output_type": "execute_result"
    }
   ],
   "source": [
    "edges_df.head()"
   ]
  },
  {
   "cell_type": "code",
   "execution_count": 27,
   "metadata": {},
   "outputs": [],
   "source": [
    "edges_df.to_csv(\"./restaurants_edges.csv\", index=True)"
   ]
  },
  {
   "cell_type": "code",
   "execution_count": null,
   "metadata": {},
   "outputs": [],
   "source": []
  }
 ],
 "metadata": {
  "kernelspec": {
   "display_name": "Python 3",
   "language": "python",
   "name": "python3"
  },
  "language_info": {
   "codemirror_mode": {
    "name": "ipython",
    "version": 3
   },
   "file_extension": ".py",
   "mimetype": "text/x-python",
   "name": "python",
   "nbconvert_exporter": "python",
   "pygments_lexer": "ipython3",
   "version": "3.7.0"
  }
 },
 "nbformat": 4,
 "nbformat_minor": 2
}

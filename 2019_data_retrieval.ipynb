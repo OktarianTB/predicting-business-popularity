{
 "cells": [
  {
   "cell_type": "markdown",
   "metadata": {},
   "source": [
    "# Exploring Metrics for Business Popularity"
   ]
  },
  {
   "cell_type": "code",
   "execution_count": 1,
   "metadata": {},
   "outputs": [],
   "source": [
    "import json\n",
    "import pandas as pd\n",
    "import numpy as np\n",
    "import math\n",
    "import datetime"
   ]
  },
  {
   "cell_type": "code",
   "execution_count": 2,
   "metadata": {},
   "outputs": [
    {
     "name": "stdout",
     "output_type": "stream",
     "text": [
      "160585\n",
      "138876\n",
      "1162119\n"
     ]
    }
   ],
   "source": [
    "business_df = pd.read_json('./yelp/yelp_academic_dataset_business.json', lines=True)\n",
    "business_df.drop(columns=['address', 'postal_code', 'name', 'stars', 'review_count'], inplace=True)\n",
    "# business_df.dropna(inplace=True)  # the nans are for attributes and opening hours: may not be integral part\n",
    "business_df.set_index(\"business_id\", inplace=True)\n",
    "print(len(business_df))\n",
    "\n",
    "checkins_df = pd.read_json('./yelp/yelp_academic_dataset_checkin.json', lines=True)\n",
    "print(len(checkins_df))\n",
    "\n",
    "reviews_df = pd.read_json('yelp/yelp_academic_dataset_review.json', lines=True)\n",
    "reviews_df.drop(columns=[\"text\", \"user_id\", \"review_id\"], inplace=True)\n",
    "reviews_df[\"date\"] = pd.to_datetime(reviews_df[\"date\"])\n",
    "\n",
    "tips_df = pd.read_json('yelp/yelp_academic_dataset_tip.json', lines=True)\n",
    "print(len(tips_df))\n",
    "\n",
    "YEAR_RANGE = (datetime.datetime(2019, 1, 1, 0, 0), datetime.datetime(2019, 12, 31, 23, 59), None)"
   ]
  },
  {
   "cell_type": "code",
   "execution_count": 3,
   "metadata": {},
   "outputs": [],
   "source": [
    "# Consider business from 2017-2018 dataset\n",
    "df_2017 = pd.read_csv(\"datasets/2017-2018_restaurants.csv\")\n",
    "df_2017.set_index(\"business_id\", inplace=True)\n",
    "\n",
    "business_df = business_df.loc[df_2017.index]"
   ]
  },
  {
   "cell_type": "code",
   "execution_count": 4,
   "metadata": {},
   "outputs": [
    {
     "data": {
      "text/html": [
       "<div>\n",
       "<style scoped>\n",
       "    .dataframe tbody tr th:only-of-type {\n",
       "        vertical-align: middle;\n",
       "    }\n",
       "\n",
       "    .dataframe tbody tr th {\n",
       "        vertical-align: top;\n",
       "    }\n",
       "\n",
       "    .dataframe thead th {\n",
       "        text-align: right;\n",
       "    }\n",
       "</style>\n",
       "<table border=\"1\" class=\"dataframe\">\n",
       "  <thead>\n",
       "    <tr style=\"text-align: right;\">\n",
       "      <th></th>\n",
       "      <th>date</th>\n",
       "      <th>checkin_count</th>\n",
       "    </tr>\n",
       "    <tr>\n",
       "      <th>business_id</th>\n",
       "      <th></th>\n",
       "      <th></th>\n",
       "    </tr>\n",
       "  </thead>\n",
       "  <tbody>\n",
       "    <tr>\n",
       "      <th>--0r8K_AQ4FZfLsX3ZYRDA</th>\n",
       "      <td>2017-09-03 17:13:59</td>\n",
       "      <td>0</td>\n",
       "    </tr>\n",
       "    <tr>\n",
       "      <th>--0zrn43LEaB4jUWTQH_Bg</th>\n",
       "      <td>2010-10-08 22:21:20, 2010-11-01 21:29:14, 2010...</td>\n",
       "      <td>0</td>\n",
       "    </tr>\n",
       "    <tr>\n",
       "      <th>--164t1nclzzmca7eDiJMw</th>\n",
       "      <td>2010-02-26 02:06:53, 2010-02-27 08:00:09, 2010...</td>\n",
       "      <td>0</td>\n",
       "    </tr>\n",
       "    <tr>\n",
       "      <th>--2aF9NhXnNVpDV0KS3xBQ</th>\n",
       "      <td>2014-11-03 16:35:35, 2015-01-30 18:16:03, 2015...</td>\n",
       "      <td>1</td>\n",
       "    </tr>\n",
       "    <tr>\n",
       "      <th>--2mEJ63SC_8_08_jGgVIg</th>\n",
       "      <td>2010-12-15 17:10:46, 2013-12-28 00:27:54, 2015...</td>\n",
       "      <td>0</td>\n",
       "    </tr>\n",
       "  </tbody>\n",
       "</table>\n",
       "</div>"
      ],
      "text/plain": [
       "                                                                     date  \\\n",
       "business_id                                                                 \n",
       "--0r8K_AQ4FZfLsX3ZYRDA                                2017-09-03 17:13:59   \n",
       "--0zrn43LEaB4jUWTQH_Bg  2010-10-08 22:21:20, 2010-11-01 21:29:14, 2010...   \n",
       "--164t1nclzzmca7eDiJMw  2010-02-26 02:06:53, 2010-02-27 08:00:09, 2010...   \n",
       "--2aF9NhXnNVpDV0KS3xBQ  2014-11-03 16:35:35, 2015-01-30 18:16:03, 2015...   \n",
       "--2mEJ63SC_8_08_jGgVIg  2010-12-15 17:10:46, 2013-12-28 00:27:54, 2015...   \n",
       "\n",
       "                        checkin_count  \n",
       "business_id                            \n",
       "--0r8K_AQ4FZfLsX3ZYRDA              0  \n",
       "--0zrn43LEaB4jUWTQH_Bg              0  \n",
       "--164t1nclzzmca7eDiJMw              0  \n",
       "--2aF9NhXnNVpDV0KS3xBQ              1  \n",
       "--2mEJ63SC_8_08_jGgVIg              0  "
      ]
     },
     "execution_count": 4,
     "metadata": {},
     "output_type": "execute_result"
    }
   ],
   "source": [
    "def filter_date(date):\n",
    "    if date < YEAR_RANGE[0] or date > YEAR_RANGE[1]:\n",
    "        return False\n",
    "    return True\n",
    "\n",
    "def calculate_checkin_count(row):\n",
    "    dates = [datetime.datetime.strptime(d.strip(), \"%Y-%m-%d %H:%M:%S\") for d in row.split(\",\")]\n",
    "    dates = list(filter(filter_date, dates))\n",
    "\n",
    "    return len(dates)\n",
    "\n",
    "checkins_df.set_index(\"business_id\", inplace=True)\n",
    "checkins_df['checkin_count'] = checkins_df[\"date\"].apply(calculate_checkin_count)\n",
    "checkins_df.head()"
   ]
  },
  {
   "cell_type": "code",
   "execution_count": 5,
   "metadata": {},
   "outputs": [],
   "source": [
    "checkins_df.drop(columns=\"date\", inplace=True)"
   ]
  },
  {
   "cell_type": "code",
   "execution_count": 6,
   "metadata": {},
   "outputs": [
    {
     "data": {
      "text/plain": [
       "30094"
      ]
     },
     "execution_count": 6,
     "metadata": {},
     "output_type": "execute_result"
    }
   ],
   "source": [
    "# merge checkin\n",
    "business_df = pd.merge(business_df, checkins_df, on='business_id', how=\"left\")\n",
    "\n",
    "len(business_df)"
   ]
  },
  {
   "cell_type": "markdown",
   "metadata": {},
   "source": [
    "## Process Reviews"
   ]
  },
  {
   "cell_type": "code",
   "execution_count": 7,
   "metadata": {},
   "outputs": [
    {
     "data": {
      "text/html": [
       "<div>\n",
       "<style scoped>\n",
       "    .dataframe tbody tr th:only-of-type {\n",
       "        vertical-align: middle;\n",
       "    }\n",
       "\n",
       "    .dataframe tbody tr th {\n",
       "        vertical-align: top;\n",
       "    }\n",
       "\n",
       "    .dataframe thead th {\n",
       "        text-align: right;\n",
       "    }\n",
       "</style>\n",
       "<table border=\"1\" class=\"dataframe\">\n",
       "  <thead>\n",
       "    <tr style=\"text-align: right;\">\n",
       "      <th></th>\n",
       "      <th>review_count</th>\n",
       "    </tr>\n",
       "    <tr>\n",
       "      <th>business_id</th>\n",
       "      <th></th>\n",
       "    </tr>\n",
       "  </thead>\n",
       "  <tbody>\n",
       "    <tr>\n",
       "      <th>--0DF12EMHYI8XIgoFha6A</th>\n",
       "      <td>0</td>\n",
       "    </tr>\n",
       "    <tr>\n",
       "      <th>--0r8K_AQ4FZfLsX3ZYRDA</th>\n",
       "      <td>2</td>\n",
       "    </tr>\n",
       "    <tr>\n",
       "      <th>--0zrn43LEaB4jUWTQH_Bg</th>\n",
       "      <td>0</td>\n",
       "    </tr>\n",
       "    <tr>\n",
       "      <th>--164t1nclzzmca7eDiJMw</th>\n",
       "      <td>0</td>\n",
       "    </tr>\n",
       "    <tr>\n",
       "      <th>--2aF9NhXnNVpDV0KS3xBQ</th>\n",
       "      <td>1</td>\n",
       "    </tr>\n",
       "  </tbody>\n",
       "</table>\n",
       "</div>"
      ],
      "text/plain": [
       "                        review_count\n",
       "business_id                         \n",
       "--0DF12EMHYI8XIgoFha6A             0\n",
       "--0r8K_AQ4FZfLsX3ZYRDA             2\n",
       "--0zrn43LEaB4jUWTQH_Bg             0\n",
       "--164t1nclzzmca7eDiJMw             0\n",
       "--2aF9NhXnNVpDV0KS3xBQ             1"
      ]
     },
     "execution_count": 7,
     "metadata": {},
     "output_type": "execute_result"
    }
   ],
   "source": [
    "reviews_data = reviews_df.groupby(by='business_id').agg(\n",
    "    review_count=(\"date\",\n",
    "                  lambda x: x[(x >= YEAR_RANGE[0]) & (x <= YEAR_RANGE[1])].count()))\n",
    "\n",
    "reviews_data.head()"
   ]
  },
  {
   "cell_type": "code",
   "execution_count": 8,
   "metadata": {},
   "outputs": [
    {
     "data": {
      "text/plain": [
       "30094"
      ]
     },
     "execution_count": 8,
     "metadata": {},
     "output_type": "execute_result"
    }
   ],
   "source": [
    "business_df = pd.merge(business_df, reviews_data, on='business_id', how=\"left\")\n",
    "len(business_df)"
   ]
  },
  {
   "cell_type": "code",
   "execution_count": 9,
   "metadata": {},
   "outputs": [
    {
     "data": {
      "text/html": [
       "<div>\n",
       "<style scoped>\n",
       "    .dataframe tbody tr th:only-of-type {\n",
       "        vertical-align: middle;\n",
       "    }\n",
       "\n",
       "    .dataframe tbody tr th {\n",
       "        vertical-align: top;\n",
       "    }\n",
       "\n",
       "    .dataframe thead th {\n",
       "        text-align: right;\n",
       "    }\n",
       "</style>\n",
       "<table border=\"1\" class=\"dataframe\">\n",
       "  <thead>\n",
       "    <tr style=\"text-align: right;\">\n",
       "      <th></th>\n",
       "      <th>stars</th>\n",
       "      <th>raw_stars</th>\n",
       "    </tr>\n",
       "    <tr>\n",
       "      <th>business_id</th>\n",
       "      <th></th>\n",
       "      <th></th>\n",
       "    </tr>\n",
       "  </thead>\n",
       "  <tbody>\n",
       "    <tr>\n",
       "      <th>6iYb2HFDywm3zjuRg0shjw</th>\n",
       "      <td>4.0</td>\n",
       "      <td>4.227273</td>\n",
       "    </tr>\n",
       "    <tr>\n",
       "      <th>tCbdrRPZA0oiIYSmHG3J0w</th>\n",
       "      <td>4.5</td>\n",
       "      <td>4.428571</td>\n",
       "    </tr>\n",
       "    <tr>\n",
       "      <th>D4JtQNTI4X3KcbzacDJsMw</th>\n",
       "      <td>3.5</td>\n",
       "      <td>3.500000</td>\n",
       "    </tr>\n",
       "    <tr>\n",
       "      <th>ufCxltuh56FF4-ZFZ6cVhg</th>\n",
       "      <td>4.5</td>\n",
       "      <td>4.666667</td>\n",
       "    </tr>\n",
       "    <tr>\n",
       "      <th>dmbbf3AqeG61_QHRZi1M1w</th>\n",
       "      <td>4.0</td>\n",
       "      <td>4.000000</td>\n",
       "    </tr>\n",
       "    <tr>\n",
       "      <th>...</th>\n",
       "      <td>...</td>\n",
       "      <td>...</td>\n",
       "    </tr>\n",
       "    <tr>\n",
       "      <th>yQL8SrSETbbCI1U5esVJQw</th>\n",
       "      <td>4.5</td>\n",
       "      <td>4.703947</td>\n",
       "    </tr>\n",
       "    <tr>\n",
       "      <th>r5Uag1JqYjr2nbxQCVqm8A</th>\n",
       "      <td>4.5</td>\n",
       "      <td>4.300000</td>\n",
       "    </tr>\n",
       "    <tr>\n",
       "      <th>Q78fYV6B6P6GmX07YVgi4g</th>\n",
       "      <td>3.0</td>\n",
       "      <td>3.060606</td>\n",
       "    </tr>\n",
       "    <tr>\n",
       "      <th>uXdQkuEtvLAzfc3MsO-sTQ</th>\n",
       "      <td>4.0</td>\n",
       "      <td>3.813953</td>\n",
       "    </tr>\n",
       "    <tr>\n",
       "      <th>ngmLL5Y5OT-bYHKU0kKrYA</th>\n",
       "      <td>NaN</td>\n",
       "      <td>NaN</td>\n",
       "    </tr>\n",
       "  </tbody>\n",
       "</table>\n",
       "<p>30094 rows × 2 columns</p>\n",
       "</div>"
      ],
      "text/plain": [
       "                        stars  raw_stars\n",
       "business_id                             \n",
       "6iYb2HFDywm3zjuRg0shjw    4.0   4.227273\n",
       "tCbdrRPZA0oiIYSmHG3J0w    4.5   4.428571\n",
       "D4JtQNTI4X3KcbzacDJsMw    3.5   3.500000\n",
       "ufCxltuh56FF4-ZFZ6cVhg    4.5   4.666667\n",
       "dmbbf3AqeG61_QHRZi1M1w    4.0   4.000000\n",
       "...                       ...        ...\n",
       "yQL8SrSETbbCI1U5esVJQw    4.5   4.703947\n",
       "r5Uag1JqYjr2nbxQCVqm8A    4.5   4.300000\n",
       "Q78fYV6B6P6GmX07YVgi4g    3.0   3.060606\n",
       "uXdQkuEtvLAzfc3MsO-sTQ    4.0   3.813953\n",
       "ngmLL5Y5OT-bYHKU0kKrYA    NaN        NaN\n",
       "\n",
       "[30094 rows x 2 columns]"
      ]
     },
     "execution_count": 9,
     "metadata": {},
     "output_type": "execute_result"
    }
   ],
   "source": [
    "def round_star(raw_star):\n",
    "\n",
    "    i = raw_star // 1\n",
    "    f = raw_star % 1\n",
    "    if f >= 0.75:\n",
    "        ans = i + 1\n",
    "    elif f >=0.25:\n",
    "        ans = i + 0.5\n",
    "    else:\n",
    "        ans = i\n",
    "\n",
    "    return ans\n",
    "\n",
    "ranged_reviews_df = reviews_df[(reviews_df[\"date\"] >= YEAR_RANGE[0]) & (reviews_df[\"date\"] <= YEAR_RANGE[1])]\n",
    "\n",
    "business_df[\"raw_stars\"] = ranged_reviews_df.groupby(\"business_id\").mean()[\"stars\"]\n",
    "business_df[\"stars\"] = business_df[\"raw_stars\"].apply(round_star)\n",
    "\n",
    "business_df[[\"stars\", \"raw_stars\"]]"
   ]
  },
  {
   "cell_type": "code",
   "execution_count": 10,
   "metadata": {},
   "outputs": [
    {
     "name": "stderr",
     "output_type": "stream",
     "text": [
      "/data/tianqing/Downloads/ENTER/envs/sh_DISCOS/lib/python3.8/site-packages/pandas/core/indexing.py:1599: SettingWithCopyWarning: \n",
      "A value is trying to be set on a copy of a slice from a DataFrame.\n",
      "Try using .loc[row_indexer,col_indexer] = value instead\n",
      "\n",
      "See the caveats in the documentation: https://pandas.pydata.org/pandas-docs/stable/user_guide/indexing.html#returning-a-view-versus-a-copy\n",
      "  self.obj[key] = infer_fill_value(value)\n",
      "/data/tianqing/Downloads/ENTER/envs/sh_DISCOS/lib/python3.8/site-packages/pandas/core/indexing.py:1676: SettingWithCopyWarning: \n",
      "A value is trying to be set on a copy of a slice from a DataFrame.\n",
      "Try using .loc[row_indexer,col_indexer] = value instead\n",
      "\n",
      "See the caveats in the documentation: https://pandas.pydata.org/pandas-docs/stable/user_guide/indexing.html#returning-a-view-versus-a-copy\n",
      "  self._setitem_single_column(ilocs[0], value, pi)\n"
     ]
    },
    {
     "data": {
      "text/html": [
       "<div>\n",
       "<style scoped>\n",
       "    .dataframe tbody tr th:only-of-type {\n",
       "        vertical-align: middle;\n",
       "    }\n",
       "\n",
       "    .dataframe tbody tr th {\n",
       "        vertical-align: top;\n",
       "    }\n",
       "\n",
       "    .dataframe thead th {\n",
       "        text-align: right;\n",
       "    }\n",
       "</style>\n",
       "<table border=\"1\" class=\"dataframe\">\n",
       "  <thead>\n",
       "    <tr style=\"text-align: right;\">\n",
       "      <th></th>\n",
       "      <th>stars</th>\n",
       "      <th>raw_stars</th>\n",
       "      <th>weighted_stars</th>\n",
       "    </tr>\n",
       "    <tr>\n",
       "      <th>business_id</th>\n",
       "      <th></th>\n",
       "      <th></th>\n",
       "      <th></th>\n",
       "    </tr>\n",
       "  </thead>\n",
       "  <tbody>\n",
       "    <tr>\n",
       "      <th>6iYb2HFDywm3zjuRg0shjw</th>\n",
       "      <td>4.0</td>\n",
       "      <td>4.227273</td>\n",
       "      <td>3.338557</td>\n",
       "    </tr>\n",
       "    <tr>\n",
       "      <th>tCbdrRPZA0oiIYSmHG3J0w</th>\n",
       "      <td>4.5</td>\n",
       "      <td>4.428571</td>\n",
       "      <td>3.755950</td>\n",
       "    </tr>\n",
       "    <tr>\n",
       "      <th>D4JtQNTI4X3KcbzacDJsMw</th>\n",
       "      <td>3.5</td>\n",
       "      <td>3.500000</td>\n",
       "      <td>3.078625</td>\n",
       "    </tr>\n",
       "    <tr>\n",
       "      <th>ufCxltuh56FF4-ZFZ6cVhg</th>\n",
       "      <td>4.5</td>\n",
       "      <td>4.666667</td>\n",
       "      <td>3.836140</td>\n",
       "    </tr>\n",
       "    <tr>\n",
       "      <th>dmbbf3AqeG61_QHRZi1M1w</th>\n",
       "      <td>4.0</td>\n",
       "      <td>4.000000</td>\n",
       "      <td>4.787566</td>\n",
       "    </tr>\n",
       "    <tr>\n",
       "      <th>...</th>\n",
       "      <td>...</td>\n",
       "      <td>...</td>\n",
       "      <td>...</td>\n",
       "    </tr>\n",
       "    <tr>\n",
       "      <th>yQL8SrSETbbCI1U5esVJQw</th>\n",
       "      <td>4.5</td>\n",
       "      <td>4.703947</td>\n",
       "      <td>3.505930</td>\n",
       "    </tr>\n",
       "    <tr>\n",
       "      <th>r5Uag1JqYjr2nbxQCVqm8A</th>\n",
       "      <td>4.5</td>\n",
       "      <td>4.300000</td>\n",
       "      <td>3.543347</td>\n",
       "    </tr>\n",
       "    <tr>\n",
       "      <th>Q78fYV6B6P6GmX07YVgi4g</th>\n",
       "      <td>3.0</td>\n",
       "      <td>3.060606</td>\n",
       "      <td>2.164611</td>\n",
       "    </tr>\n",
       "    <tr>\n",
       "      <th>uXdQkuEtvLAzfc3MsO-sTQ</th>\n",
       "      <td>4.0</td>\n",
       "      <td>3.813953</td>\n",
       "      <td>2.821628</td>\n",
       "    </tr>\n",
       "    <tr>\n",
       "      <th>ngmLL5Y5OT-bYHKU0kKrYA</th>\n",
       "      <td>NaN</td>\n",
       "      <td>NaN</td>\n",
       "      <td>NaN</td>\n",
       "    </tr>\n",
       "  </tbody>\n",
       "</table>\n",
       "<p>30094 rows × 3 columns</p>\n",
       "</div>"
      ],
      "text/plain": [
       "                        stars  raw_stars  weighted_stars\n",
       "business_id                                             \n",
       "6iYb2HFDywm3zjuRg0shjw    4.0   4.227273        3.338557\n",
       "tCbdrRPZA0oiIYSmHG3J0w    4.5   4.428571        3.755950\n",
       "D4JtQNTI4X3KcbzacDJsMw    3.5   3.500000        3.078625\n",
       "ufCxltuh56FF4-ZFZ6cVhg    4.5   4.666667        3.836140\n",
       "dmbbf3AqeG61_QHRZi1M1w    4.0   4.000000        4.787566\n",
       "...                       ...        ...             ...\n",
       "yQL8SrSETbbCI1U5esVJQw    4.5   4.703947        3.505930\n",
       "r5Uag1JqYjr2nbxQCVqm8A    4.5   4.300000        3.543347\n",
       "Q78fYV6B6P6GmX07YVgi4g    3.0   3.060606        2.164611\n",
       "uXdQkuEtvLAzfc3MsO-sTQ    4.0   3.813953        2.821628\n",
       "ngmLL5Y5OT-bYHKU0kKrYA    NaN        NaN             NaN\n",
       "\n",
       "[30094 rows x 3 columns]"
      ]
     },
     "execution_count": 10,
     "metadata": {},
     "output_type": "execute_result"
    }
   ],
   "source": [
    "weights = ranged_reviews_df.groupby(\"stars\").mean()[\"useful\"].values\n",
    "\n",
    "weights[:1] = -weights[:1]\n",
    "\n",
    "ranged_reviews_df.loc[ranged_reviews_df.index, \"weighted_stars\"] = ranged_reviews_df[\"stars\"].apply(lambda x: x * weights[x - 1])\n",
    "\n",
    "\n",
    "business_df[\"weighted_stars\"] = ranged_reviews_df.groupby(\"business_id\").mean()[\"weighted_stars\"]\n",
    "business_df[[\"stars\", \"raw_stars\", \"weighted_stars\"]]"
   ]
  },
  {
   "cell_type": "markdown",
   "metadata": {},
   "source": [
    "## Process tips"
   ]
  },
  {
   "cell_type": "code",
   "execution_count": 11,
   "metadata": {},
   "outputs": [],
   "source": [
    "tips_data = tips_df.groupby(by='business_id').agg(\n",
    "    tip_count=(\"date\",\n",
    "               lambda x: x[(x >= YEAR_RANGE[0]) & (x <= YEAR_RANGE[1])].count()))\n"
   ]
  },
  {
   "cell_type": "code",
   "execution_count": 12,
   "metadata": {},
   "outputs": [
    {
     "data": {
      "text/plain": [
       "30094"
      ]
     },
     "execution_count": 12,
     "metadata": {},
     "output_type": "execute_result"
    }
   ],
   "source": [
    "business_df = pd.merge(business_df, tips_data, on='business_id', how=\"left\")\n",
    "len(business_df)"
   ]
  },
  {
   "cell_type": "markdown",
   "metadata": {},
   "source": [
    "## Put all the dates and counts together"
   ]
  },
  {
   "cell_type": "code",
   "execution_count": 13,
   "metadata": {},
   "outputs": [],
   "source": [
    "business_df[\"visit_count\"] = business_df[[\"checkin_count\", \"review_count\", \"tip_count\"]].sum(axis=1)"
   ]
  },
  {
   "cell_type": "code",
   "execution_count": 14,
   "metadata": {},
   "outputs": [],
   "source": [
    "business_df.drop(columns=[\"city\", \"state\", \"latitude\", \"longitude\", \"is_open\", \"attributes\", \"categories\", \"hours\"], inplace=True)"
   ]
  },
  {
   "cell_type": "code",
   "execution_count": 15,
   "metadata": {},
   "outputs": [
    {
     "data": {
      "text/html": [
       "<div>\n",
       "<style scoped>\n",
       "    .dataframe tbody tr th:only-of-type {\n",
       "        vertical-align: middle;\n",
       "    }\n",
       "\n",
       "    .dataframe tbody tr th {\n",
       "        vertical-align: top;\n",
       "    }\n",
       "\n",
       "    .dataframe thead th {\n",
       "        text-align: right;\n",
       "    }\n",
       "</style>\n",
       "<table border=\"1\" class=\"dataframe\">\n",
       "  <thead>\n",
       "    <tr style=\"text-align: right;\">\n",
       "      <th></th>\n",
       "      <th>checkin_count</th>\n",
       "      <th>review_count</th>\n",
       "      <th>raw_stars</th>\n",
       "      <th>stars</th>\n",
       "      <th>weighted_stars</th>\n",
       "      <th>tip_count</th>\n",
       "      <th>visit_count</th>\n",
       "    </tr>\n",
       "    <tr>\n",
       "      <th>business_id</th>\n",
       "      <th></th>\n",
       "      <th></th>\n",
       "      <th></th>\n",
       "      <th></th>\n",
       "      <th></th>\n",
       "      <th></th>\n",
       "      <th></th>\n",
       "    </tr>\n",
       "  </thead>\n",
       "  <tbody>\n",
       "    <tr>\n",
       "      <th>6iYb2HFDywm3zjuRg0shjw</th>\n",
       "      <td>78</td>\n",
       "      <td>22</td>\n",
       "      <td>4.227273</td>\n",
       "      <td>4.0</td>\n",
       "      <td>3.338557</td>\n",
       "      <td>3</td>\n",
       "      <td>103</td>\n",
       "    </tr>\n",
       "    <tr>\n",
       "      <th>tCbdrRPZA0oiIYSmHG3J0w</th>\n",
       "      <td>163</td>\n",
       "      <td>7</td>\n",
       "      <td>4.428571</td>\n",
       "      <td>4.5</td>\n",
       "      <td>3.755950</td>\n",
       "      <td>1</td>\n",
       "      <td>171</td>\n",
       "    </tr>\n",
       "    <tr>\n",
       "      <th>D4JtQNTI4X3KcbzacDJsMw</th>\n",
       "      <td>22</td>\n",
       "      <td>18</td>\n",
       "      <td>3.500000</td>\n",
       "      <td>3.5</td>\n",
       "      <td>3.078625</td>\n",
       "      <td>1</td>\n",
       "      <td>41</td>\n",
       "    </tr>\n",
       "    <tr>\n",
       "      <th>ufCxltuh56FF4-ZFZ6cVhg</th>\n",
       "      <td>26</td>\n",
       "      <td>12</td>\n",
       "      <td>4.666667</td>\n",
       "      <td>4.5</td>\n",
       "      <td>3.836140</td>\n",
       "      <td>0</td>\n",
       "      <td>38</td>\n",
       "    </tr>\n",
       "    <tr>\n",
       "      <th>dmbbf3AqeG61_QHRZi1M1w</th>\n",
       "      <td>8</td>\n",
       "      <td>1</td>\n",
       "      <td>4.000000</td>\n",
       "      <td>4.0</td>\n",
       "      <td>4.787566</td>\n",
       "      <td>0</td>\n",
       "      <td>9</td>\n",
       "    </tr>\n",
       "  </tbody>\n",
       "</table>\n",
       "</div>"
      ],
      "text/plain": [
       "                        checkin_count  review_count  raw_stars  stars  \\\n",
       "business_id                                                             \n",
       "6iYb2HFDywm3zjuRg0shjw             78            22   4.227273    4.0   \n",
       "tCbdrRPZA0oiIYSmHG3J0w            163             7   4.428571    4.5   \n",
       "D4JtQNTI4X3KcbzacDJsMw             22            18   3.500000    3.5   \n",
       "ufCxltuh56FF4-ZFZ6cVhg             26            12   4.666667    4.5   \n",
       "dmbbf3AqeG61_QHRZi1M1w              8             1   4.000000    4.0   \n",
       "\n",
       "                        weighted_stars  tip_count  visit_count  \n",
       "business_id                                                     \n",
       "6iYb2HFDywm3zjuRg0shjw        3.338557          3          103  \n",
       "tCbdrRPZA0oiIYSmHG3J0w        3.755950          1          171  \n",
       "D4JtQNTI4X3KcbzacDJsMw        3.078625          1           41  \n",
       "ufCxltuh56FF4-ZFZ6cVhg        3.836140          0           38  \n",
       "dmbbf3AqeG61_QHRZi1M1w        4.787566          0            9  "
      ]
     },
     "execution_count": 15,
     "metadata": {},
     "output_type": "execute_result"
    }
   ],
   "source": [
    "business_df.head()"
   ]
  },
  {
   "cell_type": "code",
   "execution_count": 16,
   "metadata": {},
   "outputs": [],
   "source": [
    "df_2017_2019 = pd.merge(df_2017, business_df, on=\"business_id\", how=\"left\")"
   ]
  },
  {
   "cell_type": "code",
   "execution_count": 17,
   "metadata": {},
   "outputs": [
    {
     "data": {
      "text/html": [
       "<div>\n",
       "<style scoped>\n",
       "    .dataframe tbody tr th:only-of-type {\n",
       "        vertical-align: middle;\n",
       "    }\n",
       "\n",
       "    .dataframe tbody tr th {\n",
       "        vertical-align: top;\n",
       "    }\n",
       "\n",
       "    .dataframe thead th {\n",
       "        text-align: right;\n",
       "    }\n",
       "</style>\n",
       "<table border=\"1\" class=\"dataframe\">\n",
       "  <thead>\n",
       "    <tr style=\"text-align: right;\">\n",
       "      <th></th>\n",
       "      <th>visit_count_x</th>\n",
       "      <th>visit_count_y</th>\n",
       "    </tr>\n",
       "    <tr>\n",
       "      <th>business_id</th>\n",
       "      <th></th>\n",
       "      <th></th>\n",
       "    </tr>\n",
       "  </thead>\n",
       "  <tbody>\n",
       "    <tr>\n",
       "      <th>6iYb2HFDywm3zjuRg0shjw</th>\n",
       "      <td>132</td>\n",
       "      <td>103</td>\n",
       "    </tr>\n",
       "    <tr>\n",
       "      <th>tCbdrRPZA0oiIYSmHG3J0w</th>\n",
       "      <td>209</td>\n",
       "      <td>171</td>\n",
       "    </tr>\n",
       "    <tr>\n",
       "      <th>D4JtQNTI4X3KcbzacDJsMw</th>\n",
       "      <td>73</td>\n",
       "      <td>41</td>\n",
       "    </tr>\n",
       "    <tr>\n",
       "      <th>ufCxltuh56FF4-ZFZ6cVhg</th>\n",
       "      <td>85</td>\n",
       "      <td>38</td>\n",
       "    </tr>\n",
       "    <tr>\n",
       "      <th>dmbbf3AqeG61_QHRZi1M1w</th>\n",
       "      <td>8</td>\n",
       "      <td>9</td>\n",
       "    </tr>\n",
       "    <tr>\n",
       "      <th>...</th>\n",
       "      <td>...</td>\n",
       "      <td>...</td>\n",
       "    </tr>\n",
       "    <tr>\n",
       "      <th>yQL8SrSETbbCI1U5esVJQw</th>\n",
       "      <td>604</td>\n",
       "      <td>270</td>\n",
       "    </tr>\n",
       "    <tr>\n",
       "      <th>r5Uag1JqYjr2nbxQCVqm8A</th>\n",
       "      <td>781</td>\n",
       "      <td>210</td>\n",
       "    </tr>\n",
       "    <tr>\n",
       "      <th>Q78fYV6B6P6GmX07YVgi4g</th>\n",
       "      <td>217</td>\n",
       "      <td>86</td>\n",
       "    </tr>\n",
       "    <tr>\n",
       "      <th>uXdQkuEtvLAzfc3MsO-sTQ</th>\n",
       "      <td>168</td>\n",
       "      <td>102</td>\n",
       "    </tr>\n",
       "    <tr>\n",
       "      <th>ngmLL5Y5OT-bYHKU0kKrYA</th>\n",
       "      <td>31</td>\n",
       "      <td>0</td>\n",
       "    </tr>\n",
       "  </tbody>\n",
       "</table>\n",
       "<p>30094 rows × 2 columns</p>\n",
       "</div>"
      ],
      "text/plain": [
       "                        visit_count_x  visit_count_y\n",
       "business_id                                         \n",
       "6iYb2HFDywm3zjuRg0shjw            132            103\n",
       "tCbdrRPZA0oiIYSmHG3J0w            209            171\n",
       "D4JtQNTI4X3KcbzacDJsMw             73             41\n",
       "ufCxltuh56FF4-ZFZ6cVhg             85             38\n",
       "dmbbf3AqeG61_QHRZi1M1w              8              9\n",
       "...                               ...            ...\n",
       "yQL8SrSETbbCI1U5esVJQw            604            270\n",
       "r5Uag1JqYjr2nbxQCVqm8A            781            210\n",
       "Q78fYV6B6P6GmX07YVgi4g            217             86\n",
       "uXdQkuEtvLAzfc3MsO-sTQ            168            102\n",
       "ngmLL5Y5OT-bYHKU0kKrYA             31              0\n",
       "\n",
       "[30094 rows x 2 columns]"
      ]
     },
     "execution_count": 17,
     "metadata": {},
     "output_type": "execute_result"
    }
   ],
   "source": [
    "df_2017_2019[[\"visit_count_x\", \"visit_count_y\"]]"
   ]
  },
  {
   "cell_type": "code",
   "execution_count": 18,
   "metadata": {},
   "outputs": [],
   "source": [
    "df_2017_2019.to_csv(\"datasets/2017-2018-2019_restaurants.csv\")"
   ]
  },
  {
   "cell_type": "code",
   "execution_count": null,
   "metadata": {},
   "outputs": [],
   "source": []
  }
 ],
 "metadata": {
  "kernelspec": {
   "display_name": "Python 3.8.5 64-bit ('sh_DISCOS': conda)",
   "language": "python",
   "name": "python385jvsc74a57bd05aae779e5a6e43bb4d5a1a18389e0ef17035022d1c59c16f20167bbbbb8edb50"
  },
  "language_info": {
   "codemirror_mode": {
    "name": "ipython",
    "version": 3
   },
   "file_extension": ".py",
   "mimetype": "text/x-python",
   "name": "python",
   "nbconvert_exporter": "python",
   "pygments_lexer": "ipython3",
   "version": "3.8.5"
  },
  "metadata": {
   "interpreter": {
    "hash": "5aae779e5a6e43bb4d5a1a18389e0ef17035022d1c59c16f20167bbbbb8edb50"
   }
  }
 },
 "nbformat": 4,
 "nbformat_minor": 4
}

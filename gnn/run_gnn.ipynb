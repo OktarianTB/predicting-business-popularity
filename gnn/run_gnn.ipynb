{
 "cells": [
  {
   "cell_type": "code",
   "execution_count": 1,
   "metadata": {},
   "outputs": [],
   "source": [
    "import torch\n",
    "from torch import nn\n",
    "from torch_geometric.data import NeighborSampler\n",
    "\n",
    "from modeling import GNN, HybridNetwork, train\n",
    "from dataset import HybridDataset"
   ]
  },
  {
   "cell_type": "markdown",
   "metadata": {},
   "source": [
    "## Dataset"
   ]
  },
  {
   "cell_type": "code",
   "execution_count": 2,
   "metadata": {},
   "outputs": [
    {
     "name": "stdout",
     "output_type": "stream",
     "text": [
      "Number of restaurants: 29963\n",
      "Number of neighbors: 491371\n",
      "converting restaurant graph to pyg graph... done!\n",
      "Number of users: 559439\n",
      "Number of friends: 1448583\n",
      "converting restaurant graph to pyg graph... done!\n",
      "2033\n"
     ]
    }
   ],
   "source": [
    "h_dataset = HybridDataset(\"../graphs/restaurants_user_influence2.gpickle\",\n",
    "                        \"../graphs/2017-2018_user_network.gpickle\",\n",
    "                        \"../datasets/2017-2018_visited_users.csv\",\n",
    "                        split=[0.8, 0.1, 0.1])"
   ]
  },
  {
   "cell_type": "code",
   "execution_count": 3,
   "metadata": {},
   "outputs": [],
   "source": [
    "train_loader = NeighborSampler(h_dataset.res_pyg_graph.edge_index, node_idx=h_dataset.train_index,\n",
    "                               sizes=[-1, -1], batch_size=h_dataset.train_index.shape[0], shuffle=True)\n",
    "all_loader = NeighborSampler(h_dataset.res_pyg_graph.edge_index, node_idx=None,\n",
    "                               sizes=[-1, -1], batch_size=h_dataset.res_pyg_graph.num_nodes, shuffle=False)"
   ]
  },
  {
   "cell_type": "code",
   "execution_count": 4,
   "metadata": {},
   "outputs": [],
   "source": [
    "device = torch.device('cuda:2' if torch.cuda.is_available() else 'cpu')\n",
    "h_dataset.to(device)\n",
    "model = HybridNetwork(h_dataset.num_res_features,\n",
    "                      h_dataset.num_user_features,\n",
    "                      64,\n",
    "                      h_dataset.num_class,\n",
    "                      num_layers=2,\n",
    "                      model=\"GraphSage\",\n",
    "                      aggr=\"max\").to(device)\n",
    "\n",
    "# model = GNN(h_dataset.num_res_features,\n",
    "#             64, \n",
    "#             is_final=True, \n",
    "#             output_size=3, \n",
    "#             num_layers=2, \n",
    "#             model=\"GraphSage\", \n",
    "#             aggr=\"max\").to(device)\n",
    "\n",
    "optimizer = torch.optim.Adam(model.parameters(), lr=0.01)\n",
    "loss = nn.CrossEntropyLoss()"
   ]
  },
  {
   "cell_type": "code",
   "execution_count": 5,
   "metadata": {},
   "outputs": [],
   "source": [
    "# from importlib import reload\n",
    "\n",
    "# import modeling\n",
    "# reload(modeling)\n",
    "# from modeling import GNN, HybridNetwork, train"
   ]
  },
  {
   "cell_type": "code",
   "execution_count": 6,
   "metadata": {},
   "outputs": [
    {
     "name": "stdout",
     "output_type": "stream",
     "text": [
      "epoch: 1, Train: 0.3284, Val: 0.3374, Test: 0.3370\n",
      "epoch: 6, Train: 0.3458, Val: 0.3555, Test: 0.3540\n",
      "epoch: 11, Train: 0.3521, Val: 0.3334, Test: 0.3520\n",
      "epoch: 16, Train: 0.4023, Val: 0.4122, Test: 0.3887\n",
      "epoch: 21, Train: 0.4528, Val: 0.4556, Test: 0.4578\n",
      "epoch: 26, Train: 0.4894, Val: 0.5090, Test: 0.4855\n",
      "epoch: 31, Train: 0.5232, Val: 0.5421, Test: 0.5252\n",
      "epoch: 36, Train: 0.5571, Val: 0.5738, Test: 0.5612\n",
      "epoch: 41, Train: 0.5910, Val: 0.5885, Test: 0.5946\n",
      "epoch: 46, Train: 0.6257, Val: 0.6111, Test: 0.6336\n",
      "epoch: 51, Train: 0.6338, Val: 0.6225, Test: 0.6393\n",
      "epoch: 56, Train: 0.6385, Val: 0.6242, Test: 0.6446\n",
      "epoch: 61, Train: 0.6333, Val: 0.6328, Test: 0.6490\n",
      "epoch: 66, Train: 0.6540, Val: 0.6412, Test: 0.6627\n",
      "epoch: 71, Train: 0.6506, Val: 0.6389, Test: 0.6603\n",
      "epoch: 76, Train: 0.6631, Val: 0.6442, Test: 0.6690\n",
      "epoch: 81, Train: 0.6643, Val: 0.6328, Test: 0.6583\n",
      "epoch: 86, Train: 0.6786, Val: 0.6529, Test: 0.6857\n",
      "epoch: 91, Train: 0.6732, Val: 0.6532, Test: 0.6763\n",
      "epoch: 96, Train: 0.6833, Val: 0.6539, Test: 0.6884\n",
      "epoch: 101, Train: 0.6761, Val: 0.6442, Test: 0.6773\n",
      "epoch: 106, Train: 0.6889, Val: 0.6559, Test: 0.6934\n",
      "epoch: 111, Train: 0.6907, Val: 0.6575, Test: 0.6927\n",
      "epoch: 116, Train: 0.6969, Val: 0.6676, Test: 0.6990\n",
      "epoch: 121, Train: 0.6993, Val: 0.6619, Test: 0.7000\n",
      "epoch: 126, Train: 0.7033, Val: 0.6666, Test: 0.7027\n",
      "epoch: 131, Train: 0.7026, Val: 0.6636, Test: 0.7014\n",
      "epoch: 136, Train: 0.7027, Val: 0.6626, Test: 0.6960\n",
      "epoch: 141, Train: 0.7033, Val: 0.6726, Test: 0.6967\n",
      "epoch: 146, Train: 0.7126, Val: 0.6759, Test: 0.7017\n",
      "epoch: 151, Train: 0.7129, Val: 0.6739, Test: 0.6970\n",
      "epoch: 156, Train: 0.7131, Val: 0.6796, Test: 0.6947\n",
      "epoch: 161, Train: 0.7110, Val: 0.6699, Test: 0.7010\n",
      "epoch: 166, Train: 0.7157, Val: 0.6802, Test: 0.6994\n",
      "epoch: 171, Train: 0.7166, Val: 0.6692, Test: 0.6970\n",
      "epoch: 176, Train: 0.7127, Val: 0.6732, Test: 0.6907\n",
      "epoch: 181, Train: 0.7191, Val: 0.6766, Test: 0.7020\n",
      "epoch: 186, Train: 0.7143, Val: 0.6742, Test: 0.6997\n",
      "epoch: 191, Train: 0.7230, Val: 0.6762, Test: 0.7024\n",
      "epoch: 196, Train: 0.7217, Val: 0.6739, Test: 0.7030\n",
      "epoch: 201, Train: 0.7207, Val: 0.6776, Test: 0.6990\n",
      "epoch: 206, Train: 0.7135, Val: 0.6712, Test: 0.6880\n",
      "epoch: 211, Train: 0.7245, Val: 0.6806, Test: 0.7000\n",
      "epoch: 216, Train: 0.7237, Val: 0.6792, Test: 0.7014\n",
      "epoch: 221, Train: 0.7233, Val: 0.6769, Test: 0.7014\n",
      "epoch: 226, Train: 0.7243, Val: 0.6752, Test: 0.7010\n",
      "epoch: 231, Train: 0.7281, Val: 0.6816, Test: 0.6987\n",
      "epoch: 236, Train: 0.7207, Val: 0.6759, Test: 0.6927\n",
      "epoch: 241, Train: 0.7274, Val: 0.6756, Test: 0.7030\n",
      "epoch: 246, Train: 0.7219, Val: 0.6726, Test: 0.6957\n"
     ]
    }
   ],
   "source": [
    "train(model, 250, h_dataset, train_loader, optimizer, loss, device, k=20, all_loader=all_loader)"
   ]
  },
  {
   "cell_type": "code",
   "execution_count": null,
   "metadata": {},
   "outputs": [],
   "source": []
  }
 ],
 "metadata": {
  "interpreter": {
   "hash": "ad07cc198a2979f9f8d819f253cb1992218493ce2685c9cbe5cb65c70d7f444d"
  },
  "kernelspec": {
   "display_name": "Python 3.8.8 64-bit ('synch')",
   "name": "python3"
  },
  "language_info": {
   "codemirror_mode": {
    "name": "ipython",
    "version": 3
   },
   "file_extension": ".py",
   "mimetype": "text/x-python",
   "name": "python",
   "nbconvert_exporter": "python",
   "pygments_lexer": "ipython3",
   "version": "3.8.8"
  },
  "metadata": {
   "interpreter": {
    "hash": "63fd5069d213b44bf678585dea6b12cceca9941eaf7f819626cde1f2670de90d"
   }
  }
 },
 "nbformat": 4,
 "nbformat_minor": 5
}
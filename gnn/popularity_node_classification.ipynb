{
  "nbformat": 4,
  "nbformat_minor": 0,
  "metadata": {
    "colab": {
      "name": "popularity_node_classification.ipynb",
      "provenance": [],
      "collapsed_sections": []
    },
    "kernelspec": {
      "name": "python3",
      "display_name": "Python 3"
    },
    "language_info": {
      "name": "python"
    },
    "accelerator": "GPU"
  },
  "cells": [
    {
      "cell_type": "markdown",
      "metadata": {
        "id": "qblUM5xVnXwI"
      },
      "source": [
        "# Predicting Business Popularity\n",
        "##### Pytorch Geometric implementation with NetworkX graph"
      ]
    },
    {
      "cell_type": "code",
      "metadata": {
        "colab": {
          "base_uri": "https://localhost:8080/"
        },
        "id": "zYqsoeYGnUQ0",
        "outputId": "fcd3750c-64ea-4ba6-ee2b-92f16d8bf1cb"
      },
      "source": [
        "# Install required packages.\n",
        "!pip install -q torch-scatter -f https://pytorch-geometric.com/whl/torch-1.8.0+cu101.html\n",
        "!pip install -q torch-sparse -f https://pytorch-geometric.com/whl/torch-1.8.0+cu101.html\n",
        "!pip install -q torch-geometric\n",
        "!pip install -q git+https://github.com/snap-stanford/deepsnap.git"
      ],
      "execution_count": null,
      "outputs": [
        {
          "output_type": "stream",
          "text": [
            "  Building wheel for deepsnap (setup.py) ... \u001b[?25l\u001b[?25hdone\n"
          ],
          "name": "stdout"
        }
      ]
    },
    {
      "cell_type": "code",
      "metadata": {
        "id": "z-ABYVKzIBey"
      },
      "source": [
        "import torch\n",
        "import torch.nn as nn\n",
        "import torch.nn.functional as F\n",
        "import torch.optim as optim\n",
        "from torch.utils.data import DataLoader\n",
        "import torch_geometric.nn as pyg_nn\n",
        "\n",
        "import networkx as nx\n",
        "from deepsnap.graph import Graph\n",
        "from deepsnap.batch import Batch\n",
        "from deepsnap.dataset import GraphDataset\n",
        "\n",
        "%matplotlib inline\n",
        "import matplotlib.pyplot as plt"
      ],
      "execution_count": null,
      "outputs": []
    },
    {
      "cell_type": "code",
      "metadata": {
        "colab": {
          "base_uri": "https://localhost:8080/"
        },
        "id": "tj04yyTQnyVy",
        "outputId": "d2e007f0-9e34-4722-ecec-dd3485f8dff7"
      },
      "source": [
        "from google.colab import drive\n",
        "drive.mount('/content/drive')"
      ],
      "execution_count": null,
      "outputs": [
        {
          "output_type": "stream",
          "text": [
            "Drive already mounted at /content/drive; to attempt to forcibly remount, call drive.mount(\"/content/drive\", force_remount=True).\n"
          ],
          "name": "stdout"
        }
      ]
    },
    {
      "cell_type": "markdown",
      "metadata": {
        "id": "6-SbFnpP4UW5"
      },
      "source": [
        "## Creating the network graph datasets\n",
        "\n",
        "We use NetworkX to read and parse the graph into train/validate/test sets. We load these into DataLoader to use mini-batching."
      ]
    },
    {
      "cell_type": "code",
      "metadata": {
        "id": "wqrP8jo8nyeF"
      },
      "source": [
        "G = nx.read_gpickle(\"./drive/MyDrive/Colab Notebooks/restaurants_test1.gpickle\")"
      ],
      "execution_count": null,
      "outputs": []
    },
    {
      "cell_type": "code",
      "metadata": {
        "colab": {
          "base_uri": "https://localhost:8080/"
        },
        "id": "DejVQEGxphK3",
        "outputId": "1670c2c5-fd18-42cb-90d3-e1df24d3f565"
      },
      "source": [
        "print(f\"Number of nodes: {G.number_of_nodes()}\")\n",
        "print(f\"Number of edges: {G.number_of_edges()}\")"
      ],
      "execution_count": null,
      "outputs": [
        {
          "output_type": "stream",
          "text": [
            "Number of nodes: 29963\n",
            "Number of edges: 491371\n"
          ],
          "name": "stdout"
        }
      ]
    },
    {
      "cell_type": "code",
      "metadata": {
        "id": "nJdPl2F6Jiz7"
      },
      "source": [
        "H = Graph(G)\n",
        "dataset = GraphDataset(graphs=[H], task='node')"
      ],
      "execution_count": null,
      "outputs": []
    },
    {
      "cell_type": "code",
      "metadata": {
        "colab": {
          "base_uri": "https://localhost:8080/"
        },
        "id": "-pzvM8E_O6aW",
        "outputId": "4a85353b-fde0-4a16-b0d8-92b48d813f98"
      },
      "source": [
        "print(dataset.graphs[0])"
      ],
      "execution_count": null,
      "outputs": [
        {
          "output_type": "stream",
          "text": [
            "Graph(G=[], edge_index=[2, 982742], edge_label_index=[2, 982742], node_feature=[29963, 537], node_label=[29963], node_label_index=[29963], node_type=[29963], task=[])\n"
          ],
          "name": "stdout"
        }
      ]
    },
    {
      "cell_type": "code",
      "metadata": {
        "colab": {
          "base_uri": "https://localhost:8080/"
        },
        "id": "XhLKoKmeUx68",
        "outputId": "aeafd63a-02e4-4dea-824d-fb26b5ef6bf8"
      },
      "source": [
        "dataset.graphs[0].node_label = torch.LongTensor(dataset.graphs[0].node_label)\n",
        "print(dataset.graphs[0].node_label)"
      ],
      "execution_count": null,
      "outputs": [
        {
          "output_type": "stream",
          "text": [
            "tensor([2, 2, 1,  ..., 2, 2, 1])\n"
          ],
          "name": "stdout"
        }
      ]
    },
    {
      "cell_type": "code",
      "metadata": {
        "colab": {
          "base_uri": "https://localhost:8080/"
        },
        "id": "Hl7KGLQPg5Nz",
        "outputId": "0ec12fa2-6378-47db-80a0-06bcdff5f1b5"
      },
      "source": [
        "dataset_train, dataset_val, dataset_test = dataset.split(transductive=True, split_ratio=[0.8, 0.1, 0.1])\n",
        "\n",
        "train_loader = DataLoader(dataset_train, collate_fn=Batch.collate(), batch_size=16)\n",
        "val_loader = DataLoader(dataset_val, collate_fn=Batch.collate(), batch_size=16)\n",
        "test_loader = DataLoader(dataset_test, collate_fn=Batch.collate(), batch_size=16)\n",
        "\n",
        "num_node_features = dataset_train.num_node_features\n",
        "num_classes = dataset_train.num_node_labels\n",
        "print(f\"There are {num_node_features} features and {num_classes} labels.\")"
      ],
      "execution_count": null,
      "outputs": [
        {
          "output_type": "stream",
          "text": [
            "There are 537 features and 3 labels.\n"
          ],
          "name": "stdout"
        }
      ]
    },
    {
      "cell_type": "markdown",
      "metadata": {
        "id": "yRbKKXJA9Rgu"
      },
      "source": [
        "## Training a Multi-layer Perception Network (MLP)\n",
        "\n",
        "In theory, we should be able to infer the popularity category, without taking any relational information into account.\n",
        "\n",
        "Let's verify that by constructing a simple MLP that solely operates on input node features (using shared weights across all nodes):"
      ]
    },
    {
      "cell_type": "code",
      "metadata": {
        "id": "BCG2l3CeovKG",
        "colab": {
          "base_uri": "https://localhost:8080/"
        },
        "outputId": "333ccf0c-1a63-4b7e-903b-25e7d60e4d5d"
      },
      "source": [
        "class MLP(torch.nn.Module):\n",
        "    def __init__(self, hidden_channels):\n",
        "        super(MLP, self).__init__()\n",
        "        torch.manual_seed(12345)\n",
        "        self.lin1 = nn.Linear(num_node_features, hidden_channels)\n",
        "        self.lin2 = nn.Linear(hidden_channels, num_classes)\n",
        "\n",
        "    def forward(self, x):\n",
        "        x = self.lin1(x)\n",
        "        x = x.relu()\n",
        "        x = F.dropout(x, p=0.5, training=self.training)\n",
        "        x = self.lin2(x)\n",
        "        return x\n",
        "\n",
        "model = MLP(hidden_channels=16)\n",
        "print(model)"
      ],
      "execution_count": null,
      "outputs": [
        {
          "output_type": "stream",
          "text": [
            "MLP(\n",
            "  (lin1): Linear(in_features=537, out_features=16, bias=True)\n",
            "  (lin2): Linear(in_features=16, out_features=3, bias=True)\n",
            ")\n"
          ],
          "name": "stdout"
        }
      ]
    },
    {
      "cell_type": "markdown",
      "metadata": {
        "id": "z3f2Gdnj_kys"
      },
      "source": [
        "Our MLP is defined by two linear layers and enhanced by [ReLU](https://pytorch.org/docs/stable/generated/torch.nn.ReLU.html?highlight=relu#torch.nn.ReLU) non-linearity and [dropout](https://pytorch.org/docs/stable/generated/torch.nn.Dropout.html?highlight=dropout#torch.nn.Dropout).\n",
        "Here, we first reduce the 1433-dimensional feature vector to a low-dimensional embedding (`hidden_channels=16`), while the second linear layer acts as a classifier that should map each low-dimensional node embedding to one of the 7 classes.\n",
        "\n",
        "Let's train our simple MLP by following a similar procedure as described in [the first part of this tutorial](https://colab.research.google.com/drive/1h3-vJGRVloF5zStxL5I0rSy4ZUPNsjy8).\n",
        "We again make use of the **cross entropy loss** and **Adam optimizer**.\n",
        "This time, we also define a **`test` function** to evaluate how well our final model performs on the test node set (which labels have not been observed during training)."
      ]
    },
    {
      "cell_type": "code",
      "metadata": {
        "colab": {
          "base_uri": "https://localhost:8080/"
        },
        "id": "p1RXBrSGMRUq",
        "outputId": "3f6fd10a-cd8f-43ec-9cad-e4ddb0cb5d55"
      },
      "source": [
        "x = dataset.graphs[0].node_feature\n",
        "y = dataset.graphs[0].node_label\n",
        "\n",
        "print(x.size())\n",
        "print(y.size())"
      ],
      "execution_count": null,
      "outputs": [
        {
          "output_type": "stream",
          "text": [
            "torch.Size([29963, 537])\n",
            "torch.Size([29963])\n"
          ],
          "name": "stdout"
        }
      ]
    },
    {
      "cell_type": "code",
      "metadata": {
        "colab": {
          "base_uri": "https://localhost:8080/"
        },
        "id": "49RWYzgAPPNo",
        "outputId": "44a2116b-60ec-437b-ebb3-eb291373659a"
      },
      "source": [
        "import numpy as np\n",
        "\n",
        "mask = np.random.rand(1, y.size()[0])\n",
        "\n",
        "train_mask = (mask < 0.9)[0]\n",
        "test_mask = (mask >= 0.9)[0]\n",
        "\n",
        "print(train_mask)\n",
        "print(test_mask)"
      ],
      "execution_count": null,
      "outputs": [
        {
          "output_type": "stream",
          "text": [
            "[ True False  True ...  True  True  True]\n",
            "[False  True False ... False False False]\n"
          ],
          "name": "stdout"
        }
      ]
    },
    {
      "cell_type": "code",
      "metadata": {
        "colab": {
          "base_uri": "https://localhost:8080/",
          "height": 300
        },
        "id": "qD6iAX_e9bz4",
        "outputId": "5fa87b63-15b2-4066-f9a2-b5c4fc099d9c"
      },
      "source": [
        "from IPython.display import Javascript  # Restrict height of output cell.\n",
        "display(Javascript('''google.colab.output.setIframeHeight(0, true, {maxHeight: 300})'''))\n",
        "\n",
        "model = MLP(hidden_channels=16)\n",
        "criterion = torch.nn.CrossEntropyLoss()  # Define loss criterion.\n",
        "optimizer = torch.optim.Adam(model.parameters(), lr=0.01, weight_decay=5e-4)  # Define optimizer.\n",
        "\n",
        "def train():\n",
        "      model.train()\n",
        "      optimizer.zero_grad()  # Clear gradients.\n",
        "      out = model(x)  # Perform a single forward pass.\n",
        "      loss = criterion(out[train_mask], y[train_mask])  # Compute the loss solely based on the training nodes.\n",
        "      loss.backward()  # Derive gradients.\n",
        "      optimizer.step()  # Update parameters based on gradients.\n",
        "      return loss\n",
        "\n",
        "def test():\n",
        "      model.eval()\n",
        "      out = model(x)\n",
        "      pred = out.argmax(dim=1)  # Use the class with highest probability.\n",
        "      test_correct = pred[test_mask] == y[test_mask]  # Check against ground-truth labels.\n",
        "      test_acc = int(test_correct.sum()) / int(test_mask.sum())  # Derive ratio of correct predictions.\n",
        "      return test_acc\n",
        "\n",
        "for epoch in range(1, 500):\n",
        "    loss = train()\n",
        "    if epoch % 5 == 0:\n",
        "      print(f'Epoch: {epoch:03d}, Loss: {loss:.4f}')"
      ],
      "execution_count": null,
      "outputs": [
        {
          "output_type": "display_data",
          "data": {
            "application/javascript": [
              "google.colab.output.setIframeHeight(0, true, {maxHeight: 300})"
            ],
            "text/plain": [
              "<IPython.core.display.Javascript object>"
            ]
          },
          "metadata": {
            "tags": []
          }
        },
        {
          "output_type": "stream",
          "text": [
            "Epoch: 005, Loss: 1.0353\n",
            "Epoch: 010, Loss: 0.9847\n",
            "Epoch: 015, Loss: 0.9554\n",
            "Epoch: 020, Loss: 0.9334\n",
            "Epoch: 025, Loss: 0.9200\n",
            "Epoch: 030, Loss: 0.9069\n",
            "Epoch: 035, Loss: 0.8968\n",
            "Epoch: 040, Loss: 0.8891\n",
            "Epoch: 045, Loss: 0.8851\n",
            "Epoch: 050, Loss: 0.8816\n",
            "Epoch: 055, Loss: 0.8764\n",
            "Epoch: 060, Loss: 0.8739\n",
            "Epoch: 065, Loss: 0.8689\n",
            "Epoch: 070, Loss: 0.8687\n",
            "Epoch: 075, Loss: 0.8654\n",
            "Epoch: 080, Loss: 0.8670\n",
            "Epoch: 085, Loss: 0.8632\n",
            "Epoch: 090, Loss: 0.8605\n",
            "Epoch: 095, Loss: 0.8599\n",
            "Epoch: 100, Loss: 0.8614\n",
            "Epoch: 105, Loss: 0.8573\n",
            "Epoch: 110, Loss: 0.8562\n",
            "Epoch: 115, Loss: 0.8563\n",
            "Epoch: 120, Loss: 0.8577\n",
            "Epoch: 125, Loss: 0.8528\n",
            "Epoch: 130, Loss: 0.8545\n",
            "Epoch: 135, Loss: 0.8559\n",
            "Epoch: 140, Loss: 0.8510\n",
            "Epoch: 145, Loss: 0.8528\n",
            "Epoch: 150, Loss: 0.8517\n",
            "Epoch: 155, Loss: 0.8542\n",
            "Epoch: 160, Loss: 0.8519\n",
            "Epoch: 165, Loss: 0.8502\n",
            "Epoch: 170, Loss: 0.8509\n",
            "Epoch: 175, Loss: 0.8531\n",
            "Epoch: 180, Loss: 0.8519\n",
            "Epoch: 185, Loss: 0.8523\n",
            "Epoch: 190, Loss: 0.8516\n",
            "Epoch: 195, Loss: 0.8485\n",
            "Epoch: 200, Loss: 0.8472\n",
            "Epoch: 205, Loss: 0.8501\n",
            "Epoch: 210, Loss: 0.8482\n",
            "Epoch: 215, Loss: 0.8497\n",
            "Epoch: 220, Loss: 0.8499\n",
            "Epoch: 225, Loss: 0.8488\n",
            "Epoch: 230, Loss: 0.8468\n",
            "Epoch: 235, Loss: 0.8481\n",
            "Epoch: 240, Loss: 0.8483\n",
            "Epoch: 245, Loss: 0.8465\n",
            "Epoch: 250, Loss: 0.8486\n",
            "Epoch: 255, Loss: 0.8473\n",
            "Epoch: 260, Loss: 0.8463\n",
            "Epoch: 265, Loss: 0.8462\n",
            "Epoch: 270, Loss: 0.8444\n",
            "Epoch: 275, Loss: 0.8454\n",
            "Epoch: 280, Loss: 0.8445\n",
            "Epoch: 285, Loss: 0.8446\n",
            "Epoch: 290, Loss: 0.8441\n",
            "Epoch: 295, Loss: 0.8446\n",
            "Epoch: 300, Loss: 0.8445\n",
            "Epoch: 305, Loss: 0.8440\n",
            "Epoch: 310, Loss: 0.8430\n",
            "Epoch: 315, Loss: 0.8433\n",
            "Epoch: 320, Loss: 0.8441\n",
            "Epoch: 325, Loss: 0.8406\n",
            "Epoch: 330, Loss: 0.8427\n",
            "Epoch: 335, Loss: 0.8426\n",
            "Epoch: 340, Loss: 0.8402\n",
            "Epoch: 345, Loss: 0.8418\n",
            "Epoch: 350, Loss: 0.8433\n",
            "Epoch: 355, Loss: 0.8409\n",
            "Epoch: 360, Loss: 0.8431\n",
            "Epoch: 365, Loss: 0.8434\n",
            "Epoch: 370, Loss: 0.8456\n",
            "Epoch: 375, Loss: 0.8401\n",
            "Epoch: 380, Loss: 0.8430\n",
            "Epoch: 385, Loss: 0.8406\n",
            "Epoch: 390, Loss: 0.8408\n",
            "Epoch: 395, Loss: 0.8422\n",
            "Epoch: 400, Loss: 0.8429\n",
            "Epoch: 405, Loss: 0.8417\n",
            "Epoch: 410, Loss: 0.8400\n",
            "Epoch: 415, Loss: 0.8410\n",
            "Epoch: 420, Loss: 0.8406\n",
            "Epoch: 425, Loss: 0.8405\n",
            "Epoch: 430, Loss: 0.8401\n",
            "Epoch: 435, Loss: 0.8439\n",
            "Epoch: 440, Loss: 0.8424\n",
            "Epoch: 445, Loss: 0.8435\n",
            "Epoch: 450, Loss: 0.8414\n",
            "Epoch: 455, Loss: 0.8391\n",
            "Epoch: 460, Loss: 0.8409\n",
            "Epoch: 465, Loss: 0.8400\n",
            "Epoch: 470, Loss: 0.8419\n",
            "Epoch: 475, Loss: 0.8395\n",
            "Epoch: 480, Loss: 0.8389\n",
            "Epoch: 485, Loss: 0.8426\n",
            "Epoch: 490, Loss: 0.8411\n",
            "Epoch: 495, Loss: 0.8412\n"
          ],
          "name": "stdout"
        }
      ]
    },
    {
      "cell_type": "markdown",
      "metadata": {
        "id": "AsnhGADw_v8N"
      },
      "source": [
        "After training the model, we can call the `test` function to see how well our model performs on unseen labels.\n",
        "Here, we are interested in the accuracy of the model, *i.e.*, the ratio of correctly classified nodes:"
      ]
    },
    {
      "cell_type": "code",
      "metadata": {
        "colab": {
          "base_uri": "https://localhost:8080/"
        },
        "id": "wId7_-jW_ehn",
        "outputId": "7075caae-9f8c-4c4f-bd21-171e4b044591"
      },
      "source": [
        "test_acc = test()\n",
        "print(f'Test Accuracy: {test_acc:.4f}')"
      ],
      "execution_count": null,
      "outputs": [
        {
          "output_type": "stream",
          "text": [
            "Test Accuracy: 0.5981\n"
          ],
          "name": "stdout"
        }
      ]
    },
    {
      "cell_type": "markdown",
      "metadata": {
        "id": "8yzxxbjcACGM"
      },
      "source": [
        "## Training a Graph Neural Network (GNN)\n",
        "\n",
        "We can easily convert our MLP to a GNN by swapping the `torch.nn.Linear` layers with PyG's GNN operators.\n"
      ]
    },
    {
      "cell_type": "code",
      "metadata": {
        "id": "JCLoB6j6_wt8"
      },
      "source": [
        "class GNN(torch.nn.Module):\n",
        "    def __init__(self, input_size, hidden_size, output_size, args):\n",
        "        super(GNN, self).__init__()\n",
        "        self.num_layers = args[\"num_layers\"]\n",
        "\n",
        "        conv_model = self.build_conv_model(args[\"model\"])\n",
        "        self.convs = nn.ModuleList()\n",
        "        self.convs.append(conv_model(input_size, hidden_size))\n",
        "\n",
        "        for l in range(self.num_layers - 1):\n",
        "            self.convs.append(conv_model(hidden_size, hidden_size))\n",
        "        self.post_mp = nn.Linear(hidden_size, output_size)\n",
        "\n",
        "    def forward(self, data):\n",
        "        x, edge_index, batch = data.node_feature, data.edge_index, data.batch\n",
        "\n",
        "        for i in range(len(self.convs) - 1):\n",
        "            x = self.convs[i](x, edge_index)\n",
        "            x = F.leaky_relu(x)\n",
        "            x = F.dropout(x, p=0.5, training=self.training)\n",
        "        x = self.convs[-1](x, edge_index)\n",
        "        x = F.log_softmax(x, dim=1)\n",
        "        return x\n",
        "\n",
        "    def loss(self, pred, label):\n",
        "        return F.nll_loss(pred, label)\n",
        "\n",
        "    def build_conv_model(self, model_type):\n",
        "        if model_type == 'GCN':\n",
        "            return pyg_nn.GCNConv\n",
        "        elif model_type == 'GAT':\n",
        "            return pyg_nn.GATConv\n",
        "        elif model_type == \"GraphSage\":\n",
        "            return pyg_nn.SAGEConv\n",
        "        elif model_type == \"TransformerConv\":\n",
        "            return pyg_nn.TransformerConv\n",
        "        else:\n",
        "            raise ValueError(\n",
        "                \"Model {} unavailable, please add it to GNN.build_conv_model.\".format(model_type))"
      ],
      "execution_count": null,
      "outputs": []
    },
    {
      "cell_type": "code",
      "metadata": {
        "id": "vYPyeWfCCugm"
      },
      "source": [
        "def train_gnn(train_loader, val_loader, test_loader, args, num_node_features, num_classes,\n",
        "          device=\"cpu\"):\n",
        "    model = GNN(num_node_features, args['hidden_size'], num_classes, args).to(device)\n",
        "    print(model)\n",
        "    optimizer = torch.optim.Adam(model.parameters(), lr=args['lr'], weight_decay=5e-4)\n",
        "    losses = []\n",
        "    accuracies = [[], [], []] # train / validate / test\n",
        "\n",
        "    for epoch in range(1, args['epochs']+1):\n",
        "        total_loss = 0\n",
        "        model.train()\n",
        "        for batch in train_loader:\n",
        "            batch.to(device)\n",
        "            optimizer.zero_grad()\n",
        "            pred = model(batch)\n",
        "            label = batch.node_label\n",
        "            loss = model.loss(pred[batch.node_label_index], label)\n",
        "            total_loss += loss.item()\n",
        "            loss.backward()\n",
        "            optimizer.step()\n",
        "\n",
        "        train_acc = test_gnn(train_loader, model, device)\n",
        "        val_acc = test_gnn(val_loader, model, device)\n",
        "        test_acc = test_gnn(test_loader, model, device)\n",
        "\n",
        "        if epoch % 5 == 0:\n",
        "          print(f\"Epoch {epoch}: Train: {train_acc:.4f}, Validation: {val_acc:.4f}. Test: {test_acc:.4f}, Loss: {total_loss:.4f}\")\n",
        "\n",
        "        losses.append(round(total_loss, 4))\n",
        "        accuracies[0].append(train_acc)\n",
        "        accuracies[1].append(val_acc)\n",
        "        accuracies[2].append(test_acc)\n",
        "\n",
        "    return (model, losses, accuracies)\n",
        "\n",
        "def test_gnn(loader, model, device='cuda'):\n",
        "    model.eval()\n",
        "    for batch in loader:\n",
        "        batch.to(device)\n",
        "        logits = model(batch)\n",
        "        pred = logits[batch.node_label_index].max(1)[1]\n",
        "        acc = pred.eq(batch.node_label).sum().item()\n",
        "        total = batch.node_label_index.shape[0]\n",
        "        acc /= total\n",
        "    return acc"
      ],
      "execution_count": null,
      "outputs": []
    },
    {
      "cell_type": "code",
      "metadata": {
        "colab": {
          "base_uri": "https://localhost:8080/",
          "height": 250
        },
        "id": "iRg7AX6nEjc2",
        "outputId": "c803ce46-fc0b-4e8a-9e40-f4f37cf107a1"
      },
      "source": [
        "from IPython.display import Javascript  # Restrict height of output cell.\n",
        "display(Javascript('''google.colab.output.setIframeHeight(0, true, {maxHeight: 250})'''))\n",
        "\n",
        "args = {\n",
        "    \"device\" : 'cuda' if torch.cuda.is_available() else 'cpu',\n",
        "    \"hidden_size\" : 64,\n",
        "    \"epochs\" : 400,\n",
        "    \"lr\" : 0.01,\n",
        "    \"num_layers\": 2,\n",
        "    \"model\": \"GraphSage\" # [GraphSage, GAT, GCN, TransformerConv]\n",
        "}\n",
        "\n",
        "gnn_model, losses, accuracies = train_gnn(train_loader, val_loader, test_loader, args, num_node_features, num_classes, args[\"device\"])"
      ],
      "execution_count": null,
      "outputs": [
        {
          "output_type": "display_data",
          "data": {
            "application/javascript": [
              "google.colab.output.setIframeHeight(0, true, {maxHeight: 250})"
            ],
            "text/plain": [
              "<IPython.core.display.Javascript object>"
            ]
          },
          "metadata": {
            "tags": []
          }
        },
        {
          "output_type": "stream",
          "text": [
            "GNN(\n",
            "  (convs): ModuleList(\n",
            "    (0): SAGEConv(537, 64)\n",
            "    (1): SAGEConv(64, 64)\n",
            "  )\n",
            "  (post_mp): Linear(in_features=64, out_features=3, bias=True)\n",
            ")\n",
            "Epoch 5: Train: 0.3728, Validation: 0.3625. Test: 0.3604, Loss: 1.2512\n",
            "Epoch 10: Train: 0.4522, Validation: 0.4413. Test: 0.4421, Loss: 1.2147\n",
            "Epoch 15: Train: 0.4857, Validation: 0.4720. Test: 0.4788, Loss: 1.0915\n",
            "Epoch 20: Train: 0.5088, Validation: 0.4866. Test: 0.4958, Loss: 1.0344\n",
            "Epoch 25: Train: 0.5310, Validation: 0.5227. Test: 0.5125, Loss: 1.0087\n",
            "Epoch 30: Train: 0.5401, Validation: 0.5344. Test: 0.5285, Loss: 0.9972\n",
            "Epoch 35: Train: 0.5461, Validation: 0.5414. Test: 0.5395, Loss: 0.9811\n",
            "Epoch 40: Train: 0.5500, Validation: 0.5431. Test: 0.5395, Loss: 0.9685\n",
            "Epoch 45: Train: 0.5534, Validation: 0.5401. Test: 0.5479, Loss: 0.9589\n",
            "Epoch 50: Train: 0.5613, Validation: 0.5464. Test: 0.5559, Loss: 0.9520\n",
            "Epoch 55: Train: 0.5651, Validation: 0.5524. Test: 0.5642, Loss: 0.9414\n",
            "Epoch 60: Train: 0.5700, Validation: 0.5524. Test: 0.5689, Loss: 0.9384\n",
            "Epoch 65: Train: 0.5738, Validation: 0.5521. Test: 0.5666, Loss: 0.9301\n",
            "Epoch 70: Train: 0.5764, Validation: 0.5547. Test: 0.5659, Loss: 0.9248\n",
            "Epoch 75: Train: 0.5825, Validation: 0.5604. Test: 0.5716, Loss: 0.9203\n",
            "Epoch 80: Train: 0.5822, Validation: 0.5658. Test: 0.5749, Loss: 0.9151\n",
            "Epoch 85: Train: 0.5864, Validation: 0.5668. Test: 0.5756, Loss: 0.9116\n",
            "Epoch 90: Train: 0.5902, Validation: 0.5648. Test: 0.5776, Loss: 0.9047\n",
            "Epoch 95: Train: 0.5924, Validation: 0.5668. Test: 0.5866, Loss: 0.8965\n",
            "Epoch 100: Train: 0.6000, Validation: 0.5758. Test: 0.5896, Loss: 0.8915\n",
            "Epoch 105: Train: 0.5987, Validation: 0.5764. Test: 0.5956, Loss: 0.8870\n",
            "Epoch 110: Train: 0.6038, Validation: 0.5781. Test: 0.5893, Loss: 0.8793\n",
            "Epoch 115: Train: 0.6038, Validation: 0.5821. Test: 0.5889, Loss: 0.8776\n",
            "Epoch 120: Train: 0.6050, Validation: 0.5821. Test: 0.5926, Loss: 0.8790\n",
            "Epoch 125: Train: 0.6079, Validation: 0.5828. Test: 0.5976, Loss: 0.8749\n",
            "Epoch 130: Train: 0.6101, Validation: 0.5878. Test: 0.5966, Loss: 0.8728\n",
            "Epoch 135: Train: 0.6111, Validation: 0.5895. Test: 0.5976, Loss: 0.8707\n",
            "Epoch 140: Train: 0.6081, Validation: 0.5841. Test: 0.5983, Loss: 0.8671\n",
            "Epoch 145: Train: 0.6119, Validation: 0.5881. Test: 0.5986, Loss: 0.8715\n",
            "Epoch 150: Train: 0.6137, Validation: 0.5881. Test: 0.6029, Loss: 0.8646\n",
            "Epoch 155: Train: 0.6123, Validation: 0.5901. Test: 0.6056, Loss: 0.8626\n",
            "Epoch 160: Train: 0.6149, Validation: 0.5908. Test: 0.6089, Loss: 0.8592\n",
            "Epoch 165: Train: 0.6151, Validation: 0.5864. Test: 0.6049, Loss: 0.8585\n",
            "Epoch 170: Train: 0.6178, Validation: 0.5905. Test: 0.6063, Loss: 0.8518\n",
            "Epoch 175: Train: 0.6191, Validation: 0.5945. Test: 0.6089, Loss: 0.8513\n",
            "Epoch 180: Train: 0.6154, Validation: 0.5871. Test: 0.6109, Loss: 0.8531\n",
            "Epoch 185: Train: 0.6207, Validation: 0.5921. Test: 0.6113, Loss: 0.8485\n",
            "Epoch 190: Train: 0.6219, Validation: 0.5928. Test: 0.6143, Loss: 0.8461\n",
            "Epoch 195: Train: 0.6209, Validation: 0.5918. Test: 0.6079, Loss: 0.8472\n",
            "Epoch 200: Train: 0.6229, Validation: 0.5878. Test: 0.6109, Loss: 0.8444\n",
            "Epoch 205: Train: 0.6238, Validation: 0.5941. Test: 0.6156, Loss: 0.8418\n",
            "Epoch 210: Train: 0.6241, Validation: 0.5928. Test: 0.6116, Loss: 0.8406\n",
            "Epoch 215: Train: 0.6249, Validation: 0.5948. Test: 0.6136, Loss: 0.8383\n",
            "Epoch 220: Train: 0.6243, Validation: 0.5911. Test: 0.6116, Loss: 0.8388\n",
            "Epoch 225: Train: 0.6187, Validation: 0.5881. Test: 0.6059, Loss: 0.8527\n",
            "Epoch 230: Train: 0.6160, Validation: 0.5898. Test: 0.6113, Loss: 0.8587\n",
            "Epoch 235: Train: 0.6190, Validation: 0.5911. Test: 0.6059, Loss: 0.8439\n",
            "Epoch 240: Train: 0.6186, Validation: 0.5911. Test: 0.6059, Loss: 0.8465\n",
            "Epoch 245: Train: 0.6240, Validation: 0.5878. Test: 0.6079, Loss: 0.8446\n",
            "Epoch 250: Train: 0.6273, Validation: 0.6025. Test: 0.6159, Loss: 0.8359\n",
            "Epoch 255: Train: 0.6314, Validation: 0.5948. Test: 0.6119, Loss: 0.8363\n",
            "Epoch 260: Train: 0.6294, Validation: 0.5998. Test: 0.6119, Loss: 0.8329\n",
            "Epoch 265: Train: 0.6267, Validation: 0.5918. Test: 0.6113, Loss: 0.8331\n",
            "Epoch 270: Train: 0.6259, Validation: 0.5948. Test: 0.6129, Loss: 0.8322\n",
            "Epoch 275: Train: 0.6244, Validation: 0.5928. Test: 0.6089, Loss: 0.8370\n",
            "Epoch 280: Train: 0.6278, Validation: 0.5928. Test: 0.6103, Loss: 0.8337\n",
            "Epoch 285: Train: 0.6265, Validation: 0.5901. Test: 0.6119, Loss: 0.8326\n",
            "Epoch 290: Train: 0.6284, Validation: 0.5885. Test: 0.6170, Loss: 0.8344\n",
            "Epoch 295: Train: 0.6270, Validation: 0.5935. Test: 0.6119, Loss: 0.8300\n",
            "Epoch 300: Train: 0.6280, Validation: 0.5918. Test: 0.6170, Loss: 0.8286\n",
            "Epoch 305: Train: 0.6270, Validation: 0.5915. Test: 0.6146, Loss: 0.8239\n",
            "Epoch 310: Train: 0.6307, Validation: 0.5928. Test: 0.6153, Loss: 0.8258\n",
            "Epoch 315: Train: 0.6358, Validation: 0.5925. Test: 0.6210, Loss: 0.8233\n",
            "Epoch 320: Train: 0.6373, Validation: 0.5965. Test: 0.6220, Loss: 0.8262\n",
            "Epoch 325: Train: 0.6361, Validation: 0.5965. Test: 0.6236, Loss: 0.8249\n",
            "Epoch 330: Train: 0.6367, Validation: 0.5978. Test: 0.6206, Loss: 0.8232\n",
            "Epoch 335: Train: 0.6383, Validation: 0.6021. Test: 0.6183, Loss: 0.8226\n",
            "Epoch 340: Train: 0.6390, Validation: 0.6001. Test: 0.6203, Loss: 0.8228\n",
            "Epoch 345: Train: 0.6395, Validation: 0.6001. Test: 0.6183, Loss: 0.8222\n",
            "Epoch 350: Train: 0.6339, Validation: 0.5958. Test: 0.6163, Loss: 0.8234\n",
            "Epoch 355: Train: 0.6380, Validation: 0.5981. Test: 0.6196, Loss: 0.8203\n",
            "Epoch 360: Train: 0.6380, Validation: 0.5935. Test: 0.6206, Loss: 0.8202\n",
            "Epoch 365: Train: 0.6376, Validation: 0.6001. Test: 0.6186, Loss: 0.8160\n",
            "Epoch 370: Train: 0.6393, Validation: 0.5968. Test: 0.6203, Loss: 0.8176\n",
            "Epoch 375: Train: 0.6369, Validation: 0.5975. Test: 0.6200, Loss: 0.8199\n",
            "Epoch 380: Train: 0.6370, Validation: 0.5951. Test: 0.6170, Loss: 0.8222\n",
            "Epoch 385: Train: 0.6366, Validation: 0.5995. Test: 0.6146, Loss: 0.8248\n",
            "Epoch 390: Train: 0.6364, Validation: 0.5968. Test: 0.6149, Loss: 0.8180\n",
            "Epoch 395: Train: 0.6398, Validation: 0.5981. Test: 0.6176, Loss: 0.8136\n",
            "Epoch 400: Train: 0.6454, Validation: 0.6015. Test: 0.6226, Loss: 0.8136\n"
          ],
          "name": "stdout"
        }
      ]
    },
    {
      "cell_type": "markdown",
      "metadata": {
        "id": "jS5_KxhsRhMV"
      },
      "source": [
        "### Plotting training data "
      ]
    },
    {
      "cell_type": "code",
      "metadata": {
        "colab": {
          "base_uri": "https://localhost:8080/",
          "height": 350
        },
        "id": "aDMQdzuHRYB2",
        "outputId": "4c99f6ae-c167-4c5d-8eb3-d9114f72999d"
      },
      "source": [
        "plt.figure(figsize=(10,5))\n",
        "plt.title(\"Training Loss\")\n",
        "plt.plot(losses, label=\"Training Loss\")\n",
        "plt.xlabel(\"iterations\")\n",
        "plt.ylabel(\"Loss\")\n",
        "plt.legend()\n",
        "plt.show()"
      ],
      "execution_count": null,
      "outputs": [
        {
          "output_type": "display_data",
          "data": {
            "image/png": "[encoded data removed]",
            "text/plain": [
              "<Figure size 720x360 with 1 Axes>"
            ]
          },
          "metadata": {
            "tags": [],
            "needs_background": "light"
          }
        }
      ]
    },
    {
      "cell_type": "code",
      "metadata": {
        "colab": {
          "base_uri": "https://localhost:8080/",
          "height": 350
        },
        "id": "1pDjO9lYRzty",
        "outputId": "9fb85cb3-e029-49c4-ade5-a28a3da3ebce"
      },
      "source": [
        "plt.figure(figsize=(10,5))\n",
        "plt.title(\"Evolution of Accuracies during Training\")\n",
        "plt.plot(accuracies[0],label=\"Train set\")\n",
        "plt.plot(accuracies[1],label=\"Validate set\")\n",
        "plt.plot(accuracies[2],label=\"Test set\")\n",
        "plt.xlabel(\"iterations\")\n",
        "plt.ylabel(\"Accuracy\")\n",
        "plt.legend()\n",
        "plt.show()"
      ],
      "execution_count": null,
      "outputs": [
        {
          "output_type": "display_data",
          "data": {
            "image/png": "[encoded data removed]",
            "text/plain": [
              "<Figure size 720x360 with 1 Axes>"
            ]
          },
          "metadata": {
            "tags": [],
            "needs_background": "light"
          }
        }
      ]
    },
    {
      "cell_type": "markdown",
      "metadata": {
        "id": "_xe9DLCyR88_"
      },
      "source": [
        "### Classification Report"
      ]
    },
    {
      "cell_type": "code",
      "metadata": {
        "id": "BWDSnSTjR35X"
      },
      "source": [
        "final_test_loader = DataLoader(dataset_test, collate_fn=Batch.collate(), batch_size=len(dataset_test))\n",
        "\n",
        "y_pred = None\n",
        "y_true = None\n",
        "\n",
        "gnn_model.eval()\n",
        "for batch in final_test_loader:\n",
        "    batch.to(\"cuda\")\n",
        "    logits = gnn_model(batch)\n",
        "    y_pred = logits[batch.node_label_index].max(1)[1]\n",
        "    y_true = batch.node_label"
      ],
      "execution_count": null,
      "outputs": []
    },
    {
      "cell_type": "code",
      "metadata": {
        "colab": {
          "base_uri": "https://localhost:8080/"
        },
        "id": "pp3_kiP0Q0Jf",
        "outputId": "9fe60ada-df74-446e-d999-abd4dd24c5f0"
      },
      "source": [
        "from sklearn.metrics import classification_report\n",
        "\n",
        "target_names = ['Low', 'Middle', 'High']\n",
        "print(classification_report(y_true.cpu(), y_pred.cpu(), target_names=target_names))"
      ],
      "execution_count": null,
      "outputs": [
        {
          "output_type": "stream",
          "text": [
            "              precision    recall  f1-score   support\n",
            "\n",
            "         Low       0.70      0.71      0.70      1005\n",
            "      Middle       0.48      0.49      0.49       993\n",
            "        High       0.68      0.67      0.68       999\n",
            "\n",
            "    accuracy                           0.62      2997\n",
            "   macro avg       0.62      0.62      0.62      2997\n",
            "weighted avg       0.62      0.62      0.62      2997\n",
            "\n"
          ],
          "name": "stdout"
        }
      ]
    },
    {
      "cell_type": "code",
      "metadata": {
        "colab": {
          "base_uri": "https://localhost:8080/"
        },
        "id": "NqB7w7GyWXbl",
        "outputId": "dda02750-4093-4493-8123-3516d4766fd6"
      },
      "source": [
        "from sklearn.metrics import multilabel_confusion_matrix\n",
        "\n",
        "multilabel_confusion_matrix(y_true.cpu(), y_pred.cpu())"
      ],
      "execution_count": null,
      "outputs": [
        {
          "output_type": "execute_result",
          "data": {
            "text/plain": [
              "array([[[1692,  300],\n",
              "        [ 295,  710]],\n",
              "\n",
              "       [[1486,  518],\n",
              "        [ 506,  487]],\n",
              "\n",
              "       [[1685,  313],\n",
              "        [ 330,  669]]])"
            ]
          },
          "metadata": {
            "tags": []
          },
          "execution_count": 49
        }
      ]
    },
    {
      "cell_type": "code",
      "metadata": {
        "id": "KLm__cI7XRCN"
      },
      "source": [
        ""
      ],
      "execution_count": null,
      "outputs": []
    }
  ]
}
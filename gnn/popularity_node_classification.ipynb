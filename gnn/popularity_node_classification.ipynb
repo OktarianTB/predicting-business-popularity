{
  "nbformat": 4,
  "nbformat_minor": 0,
  "metadata": {
    "colab": {
      "name": "popularity_node_classification.ipynb",
      "provenance": [],
      "collapsed_sections": []
    },
    "kernelspec": {
      "name": "python3",
      "display_name": "Python 3"
    },
    "language_info": {
      "name": "python"
    },
    "accelerator": "GPU"
  },
  "cells": [
    {
      "cell_type": "markdown",
      "metadata": {
        "id": "qblUM5xVnXwI"
      },
      "source": [
        "# Predicting Business Popularity\n",
        "##### Pytorch Geometric implementation with NetworkX graph"
      ]
    },
    {
      "cell_type": "code",
      "metadata": {
        "colab": {
          "base_uri": "https://localhost:8080/"
        },
        "id": "zYqsoeYGnUQ0",
        "outputId": "47c5e232-d427-4a0f-fce4-e21c7bc2e19e"
      },
      "source": [
        "# Install required packages.\n",
        "!pip install -q torch-scatter -f https://pytorch-geometric.com/whl/torch-1.8.0+cu101.html\n",
        "!pip install -q torch-sparse -f https://pytorch-geometric.com/whl/torch-1.8.0+cu101.html\n",
        "!pip install -q torch-geometric\n",
        "!pip install -q git+https://github.com/snap-stanford/deepsnap.git"
      ],
      "execution_count": 1,
      "outputs": [
        {
          "output_type": "stream",
          "text": [
            "  Building wheel for deepsnap (setup.py) ... \u001b[?25l\u001b[?25hdone\n"
          ],
          "name": "stdout"
        }
      ]
    },
    {
      "cell_type": "code",
      "metadata": {
        "id": "z-ABYVKzIBey"
      },
      "source": [
        "import torch\n",
        "import torch.nn as nn\n",
        "import torch.nn.functional as F\n",
        "import torch.optim as optim\n",
        "from torch.utils.data import DataLoader\n",
        "import torch_geometric.nn as pyg_nn\n",
        "\n",
        "import networkx as nx\n",
        "from deepsnap.graph import Graph\n",
        "from deepsnap.batch import Batch\n",
        "from deepsnap.dataset import GraphDataset\n",
        "\n",
        "%matplotlib inline\n",
        "import matplotlib.pyplot as plt"
      ],
      "execution_count": 2,
      "outputs": []
    },
    {
      "cell_type": "code",
      "metadata": {
        "colab": {
          "base_uri": "https://localhost:8080/"
        },
        "id": "tj04yyTQnyVy",
        "outputId": "d685af7d-7ab1-4f24-8dc6-e0c1d6fac263"
      },
      "source": [
        "from google.colab import drive\n",
        "drive.mount('/content/drive')"
      ],
      "execution_count": 3,
      "outputs": [
        {
          "output_type": "stream",
          "text": [
            "Drive already mounted at /content/drive; to attempt to forcibly remount, call drive.mount(\"/content/drive\", force_remount=True).\n"
          ],
          "name": "stdout"
        }
      ]
    },
    {
      "cell_type": "markdown",
      "metadata": {
        "id": "6-SbFnpP4UW5"
      },
      "source": [
        "## Creating the network graph datasets\n",
        "\n",
        "We use NetworkX to read and parse the graph into train/validate/test sets. We load these into DataLoader to use mini-batching."
      ]
    },
    {
      "cell_type": "code",
      "metadata": {
        "id": "wqrP8jo8nyeF"
      },
      "source": [
        "G = nx.read_gpickle(\"./drive/MyDrive/Colab Notebooks/restaurants_MA.gpickle\")"
      ],
      "execution_count": 4,
      "outputs": []
    },
    {
      "cell_type": "code",
      "metadata": {
        "id": "nJdPl2F6Jiz7"
      },
      "source": [
        "H = Graph(G)\n",
        "dataset = GraphDataset(graphs=[H], task='node')"
      ],
      "execution_count": 5,
      "outputs": []
    },
    {
      "cell_type": "code",
      "metadata": {
        "colab": {
          "base_uri": "https://localhost:8080/"
        },
        "id": "Hl7KGLQPg5Nz",
        "outputId": "86357ac3-259f-4361-f7e6-096c01685274"
      },
      "source": [
        "dataset_train, dataset_val, dataset_test = dataset.split(transductive=True, split_ratio=[0.8, 0.1, 0.1])\n",
        "\n",
        "train_loader = DataLoader(dataset_train, collate_fn=Batch.collate(), batch_size=16)\n",
        "val_loader = DataLoader(dataset_val, collate_fn=Batch.collate(), batch_size=16)\n",
        "test_loader = DataLoader(dataset_test, collate_fn=Batch.collate(), batch_size=16)\n",
        "\n",
        "num_node_features = dataset_train.num_node_features\n",
        "num_classes = dataset_train.num_node_labels\n",
        "print(f\"There are {num_node_features} features and {num_classes} labels.\")"
      ],
      "execution_count": 6,
      "outputs": [
        {
          "output_type": "stream",
          "text": [
            "There are 59 features and 3 labels.\n"
          ],
          "name": "stdout"
        }
      ]
    },
    {
      "cell_type": "markdown",
      "metadata": {
        "id": "yRbKKXJA9Rgu"
      },
      "source": [
        "## Training a Multi-layer Perception Network (MLP)\n",
        "\n",
        "In theory, we should be able to infer the popularity category, without taking any relational information into account.\n",
        "\n",
        "Let's verify that by constructing a simple MLP that solely operates on input node features (using shared weights across all nodes):"
      ]
    },
    {
      "cell_type": "code",
      "metadata": {
        "id": "BCG2l3CeovKG",
        "colab": {
          "base_uri": "https://localhost:8080/"
        },
        "outputId": "3f4fb636-d214-4ba1-955c-dd748f5910f2"
      },
      "source": [
        "class MLP(torch.nn.Module):\n",
        "    def __init__(self, hidden_channels):\n",
        "        super(MLP, self).__init__()\n",
        "        torch.manual_seed(12345)\n",
        "        self.lin1 = nn.Linear(num_node_features, hidden_channels)\n",
        "        self.lin2 = nn.Linear(hidden_channels, num_classes)\n",
        "\n",
        "    def forward(self, x):\n",
        "        x = self.lin1(x)\n",
        "        x = x.relu()\n",
        "        x = F.dropout(x, p=0.5, training=self.training)\n",
        "        x = self.lin2(x)\n",
        "        return x\n",
        "\n",
        "model = MLP(hidden_channels=16)\n",
        "print(model)"
      ],
      "execution_count": 7,
      "outputs": [
        {
          "output_type": "stream",
          "text": [
            "MLP(\n",
            "  (lin1): Linear(in_features=59, out_features=16, bias=True)\n",
            "  (lin2): Linear(in_features=16, out_features=3, bias=True)\n",
            ")\n"
          ],
          "name": "stdout"
        }
      ]
    },
    {
      "cell_type": "markdown",
      "metadata": {
        "id": "z3f2Gdnj_kys"
      },
      "source": [
        "Our MLP is defined by two linear layers and enhanced by [ReLU](https://pytorch.org/docs/stable/generated/torch.nn.ReLU.html?highlight=relu#torch.nn.ReLU) non-linearity and [dropout](https://pytorch.org/docs/stable/generated/torch.nn.Dropout.html?highlight=dropout#torch.nn.Dropout).\n",
        "Here, we first reduce the 1433-dimensional feature vector to a low-dimensional embedding (`hidden_channels=16`), while the second linear layer acts as a classifier that should map each low-dimensional node embedding to one of the 7 classes.\n",
        "\n",
        "Let's train our simple MLP by following a similar procedure as described in [the first part of this tutorial](https://colab.research.google.com/drive/1h3-vJGRVloF5zStxL5I0rSy4ZUPNsjy8).\n",
        "We again make use of the **cross entropy loss** and **Adam optimizer**.\n",
        "This time, we also define a **`test` function** to evaluate how well our final model performs on the test node set (which labels have not been observed during training)."
      ]
    },
    {
      "cell_type": "code",
      "metadata": {
        "colab": {
          "base_uri": "https://localhost:8080/"
        },
        "id": "-pzvM8E_O6aW",
        "outputId": "f4bc1f57-fc61-407d-f75b-7f60934bb770"
      },
      "source": [
        "print(dataset.graphs[0])"
      ],
      "execution_count": 8,
      "outputs": [
        {
          "output_type": "stream",
          "text": [
            "Graph(G=[], edge_index=[2, 81210], edge_label_index=[2, 81210], node_feature=[6192, 59], node_label=[6192], node_label_index=[6192], task=[])\n"
          ],
          "name": "stdout"
        }
      ]
    },
    {
      "cell_type": "code",
      "metadata": {
        "colab": {
          "base_uri": "https://localhost:8080/"
        },
        "id": "p1RXBrSGMRUq",
        "outputId": "b174551d-9e00-4ca7-de99-fd008906249a"
      },
      "source": [
        "x = dataset.graphs[0].node_feature\n",
        "y = dataset.graphs[0].node_label\n",
        "\n",
        "print(x.size())\n",
        "print(y.size())"
      ],
      "execution_count": 9,
      "outputs": [
        {
          "output_type": "stream",
          "text": [
            "torch.Size([6192, 59])\n",
            "torch.Size([6192])\n"
          ],
          "name": "stdout"
        }
      ]
    },
    {
      "cell_type": "code",
      "metadata": {
        "colab": {
          "base_uri": "https://localhost:8080/"
        },
        "id": "49RWYzgAPPNo",
        "outputId": "2f478de9-d42d-4e61-c854-700a534e24dd"
      },
      "source": [
        "import numpy as np\n",
        "\n",
        "mask = np.random.rand(1, y.size()[0])\n",
        "\n",
        "train_mask = (mask < 0.9)[0]\n",
        "test_mask = (mask >= 0.9)[0]\n",
        "\n",
        "print(train_mask)\n",
        "print(test_mask)"
      ],
      "execution_count": 10,
      "outputs": [
        {
          "output_type": "stream",
          "text": [
            "[ True False  True ...  True  True  True]\n",
            "[False  True False ... False False False]\n"
          ],
          "name": "stdout"
        }
      ]
    },
    {
      "cell_type": "code",
      "metadata": {
        "colab": {
          "base_uri": "https://localhost:8080/",
          "height": 300
        },
        "id": "qD6iAX_e9bz4",
        "outputId": "a8cff778-0742-4e0a-8d3e-f16eb6d22ce8"
      },
      "source": [
        "from IPython.display import Javascript  # Restrict height of output cell.\n",
        "display(Javascript('''google.colab.output.setIframeHeight(0, true, {maxHeight: 300})'''))\n",
        "\n",
        "model = MLP(hidden_channels=16)\n",
        "criterion = torch.nn.CrossEntropyLoss()  # Define loss criterion.\n",
        "optimizer = torch.optim.Adam(model.parameters(), lr=0.01, weight_decay=5e-4)  # Define optimizer.\n",
        "\n",
        "def train():\n",
        "      model.train()\n",
        "      optimizer.zero_grad()  # Clear gradients.\n",
        "      out = model(x)  # Perform a single forward pass.\n",
        "      loss = criterion(out[train_mask], y[train_mask])  # Compute the loss solely based on the training nodes.\n",
        "      loss.backward()  # Derive gradients.\n",
        "      optimizer.step()  # Update parameters based on gradients.\n",
        "      return loss\n",
        "\n",
        "def test():\n",
        "      model.eval()\n",
        "      out = model(x)\n",
        "      pred = out.argmax(dim=1)  # Use the class with highest probability.\n",
        "      test_correct = pred[test_mask] == y[test_mask]  # Check against ground-truth labels.\n",
        "      test_acc = int(test_correct.sum()) / int(test_mask.sum())  # Derive ratio of correct predictions.\n",
        "      return test_acc\n",
        "\n",
        "for epoch in range(1, 300):\n",
        "    loss = train()\n",
        "    print(f'Epoch: {epoch:03d}, Loss: {loss:.4f}')"
      ],
      "execution_count": 11,
      "outputs": [
        {
          "output_type": "display_data",
          "data": {
            "application/javascript": [
              "google.colab.output.setIframeHeight(0, true, {maxHeight: 300})"
            ],
            "text/plain": [
              "<IPython.core.display.Javascript object>"
            ]
          },
          "metadata": {
            "tags": []
          }
        },
        {
          "output_type": "stream",
          "text": [
            "Epoch: 001, Loss: 1.2184\n",
            "Epoch: 002, Loss: 1.1271\n",
            "Epoch: 003, Loss: 1.1017\n",
            "Epoch: 004, Loss: 1.0858\n",
            "Epoch: 005, Loss: 1.0706\n",
            "Epoch: 006, Loss: 1.0646\n",
            "Epoch: 007, Loss: 1.0548\n",
            "Epoch: 008, Loss: 1.0483\n",
            "Epoch: 009, Loss: 1.0416\n",
            "Epoch: 010, Loss: 1.0404\n",
            "Epoch: 011, Loss: 1.0328\n",
            "Epoch: 012, Loss: 1.0328\n",
            "Epoch: 013, Loss: 1.0246\n",
            "Epoch: 014, Loss: 1.0208\n",
            "Epoch: 015, Loss: 1.0127\n",
            "Epoch: 016, Loss: 1.0089\n",
            "Epoch: 017, Loss: 1.0035\n",
            "Epoch: 018, Loss: 0.9968\n",
            "Epoch: 019, Loss: 0.9965\n",
            "Epoch: 020, Loss: 0.9867\n",
            "Epoch: 021, Loss: 0.9880\n",
            "Epoch: 022, Loss: 0.9814\n",
            "Epoch: 023, Loss: 0.9812\n",
            "Epoch: 024, Loss: 0.9698\n",
            "Epoch: 025, Loss: 0.9698\n",
            "Epoch: 026, Loss: 0.9642\n",
            "Epoch: 027, Loss: 0.9612\n",
            "Epoch: 028, Loss: 0.9639\n",
            "Epoch: 029, Loss: 0.9534\n",
            "Epoch: 030, Loss: 0.9516\n",
            "Epoch: 031, Loss: 0.9497\n",
            "Epoch: 032, Loss: 0.9527\n",
            "Epoch: 033, Loss: 0.9506\n",
            "Epoch: 034, Loss: 0.9454\n",
            "Epoch: 035, Loss: 0.9455\n",
            "Epoch: 036, Loss: 0.9475\n",
            "Epoch: 037, Loss: 0.9429\n",
            "Epoch: 038, Loss: 0.9345\n",
            "Epoch: 039, Loss: 0.9432\n",
            "Epoch: 040, Loss: 0.9315\n",
            "Epoch: 041, Loss: 0.9340\n",
            "Epoch: 042, Loss: 0.9320\n",
            "Epoch: 043, Loss: 0.9315\n",
            "Epoch: 044, Loss: 0.9240\n",
            "Epoch: 045, Loss: 0.9303\n",
            "Epoch: 046, Loss: 0.9194\n",
            "Epoch: 047, Loss: 0.9259\n",
            "Epoch: 048, Loss: 0.9241\n",
            "Epoch: 049, Loss: 0.9157\n",
            "Epoch: 050, Loss: 0.9224\n",
            "Epoch: 051, Loss: 0.9218\n",
            "Epoch: 052, Loss: 0.9210\n",
            "Epoch: 053, Loss: 0.9193\n",
            "Epoch: 054, Loss: 0.9156\n",
            "Epoch: 055, Loss: 0.9208\n",
            "Epoch: 056, Loss: 0.9127\n",
            "Epoch: 057, Loss: 0.9140\n",
            "Epoch: 058, Loss: 0.9175\n",
            "Epoch: 059, Loss: 0.9033\n",
            "Epoch: 060, Loss: 0.9108\n",
            "Epoch: 061, Loss: 0.9170\n",
            "Epoch: 062, Loss: 0.9102\n",
            "Epoch: 063, Loss: 0.9134\n",
            "Epoch: 064, Loss: 0.9133\n",
            "Epoch: 065, Loss: 0.9075\n",
            "Epoch: 066, Loss: 0.9072\n",
            "Epoch: 067, Loss: 0.9082\n",
            "Epoch: 068, Loss: 0.9031\n",
            "Epoch: 069, Loss: 0.9072\n",
            "Epoch: 070, Loss: 0.9044\n",
            "Epoch: 071, Loss: 0.9035\n",
            "Epoch: 072, Loss: 0.8967\n",
            "Epoch: 073, Loss: 0.9053\n",
            "Epoch: 074, Loss: 0.9058\n",
            "Epoch: 075, Loss: 0.9060\n",
            "Epoch: 076, Loss: 0.9022\n",
            "Epoch: 077, Loss: 0.8971\n",
            "Epoch: 078, Loss: 0.9054\n",
            "Epoch: 079, Loss: 0.9006\n",
            "Epoch: 080, Loss: 0.8905\n",
            "Epoch: 081, Loss: 0.9005\n",
            "Epoch: 082, Loss: 0.8998\n",
            "Epoch: 083, Loss: 0.8932\n",
            "Epoch: 084, Loss: 0.8922\n",
            "Epoch: 085, Loss: 0.8945\n",
            "Epoch: 086, Loss: 0.8997\n",
            "Epoch: 087, Loss: 0.8978\n",
            "Epoch: 088, Loss: 0.8985\n",
            "Epoch: 089, Loss: 0.8939\n",
            "Epoch: 090, Loss: 0.8913\n",
            "Epoch: 091, Loss: 0.8960\n",
            "Epoch: 092, Loss: 0.8980\n",
            "Epoch: 093, Loss: 0.8962\n",
            "Epoch: 094, Loss: 0.8952\n",
            "Epoch: 095, Loss: 0.8943\n",
            "Epoch: 096, Loss: 0.8954\n",
            "Epoch: 097, Loss: 0.8948\n",
            "Epoch: 098, Loss: 0.8923\n",
            "Epoch: 099, Loss: 0.8849\n",
            "Epoch: 100, Loss: 0.8864\n",
            "Epoch: 101, Loss: 0.8913\n",
            "Epoch: 102, Loss: 0.8887\n",
            "Epoch: 103, Loss: 0.8903\n",
            "Epoch: 104, Loss: 0.8894\n",
            "Epoch: 105, Loss: 0.8945\n",
            "Epoch: 106, Loss: 0.8848\n",
            "Epoch: 107, Loss: 0.8899\n",
            "Epoch: 108, Loss: 0.8927\n",
            "Epoch: 109, Loss: 0.8972\n",
            "Epoch: 110, Loss: 0.8912\n",
            "Epoch: 111, Loss: 0.8910\n",
            "Epoch: 112, Loss: 0.8875\n",
            "Epoch: 113, Loss: 0.8906\n",
            "Epoch: 114, Loss: 0.8903\n",
            "Epoch: 115, Loss: 0.8838\n",
            "Epoch: 116, Loss: 0.8916\n",
            "Epoch: 117, Loss: 0.8934\n",
            "Epoch: 118, Loss: 0.8863\n",
            "Epoch: 119, Loss: 0.8910\n",
            "Epoch: 120, Loss: 0.8853\n",
            "Epoch: 121, Loss: 0.8866\n",
            "Epoch: 122, Loss: 0.8849\n",
            "Epoch: 123, Loss: 0.8809\n",
            "Epoch: 124, Loss: 0.8880\n",
            "Epoch: 125, Loss: 0.8872\n",
            "Epoch: 126, Loss: 0.8894\n",
            "Epoch: 127, Loss: 0.8839\n",
            "Epoch: 128, Loss: 0.8846\n",
            "Epoch: 129, Loss: 0.8873\n",
            "Epoch: 130, Loss: 0.8816\n",
            "Epoch: 131, Loss: 0.8846\n",
            "Epoch: 132, Loss: 0.8935\n",
            "Epoch: 133, Loss: 0.8847\n",
            "Epoch: 134, Loss: 0.8945\n",
            "Epoch: 135, Loss: 0.8842\n",
            "Epoch: 136, Loss: 0.8845\n",
            "Epoch: 137, Loss: 0.8832\n",
            "Epoch: 138, Loss: 0.8849\n",
            "Epoch: 139, Loss: 0.8782\n",
            "Epoch: 140, Loss: 0.8833\n",
            "Epoch: 141, Loss: 0.8814\n",
            "Epoch: 142, Loss: 0.8816\n",
            "Epoch: 143, Loss: 0.8807\n",
            "Epoch: 144, Loss: 0.8829\n",
            "Epoch: 145, Loss: 0.8806\n",
            "Epoch: 146, Loss: 0.8808\n",
            "Epoch: 147, Loss: 0.8798\n",
            "Epoch: 148, Loss: 0.8799\n",
            "Epoch: 149, Loss: 0.8895\n",
            "Epoch: 150, Loss: 0.8878\n",
            "Epoch: 151, Loss: 0.8817\n",
            "Epoch: 152, Loss: 0.8765\n",
            "Epoch: 153, Loss: 0.8788\n",
            "Epoch: 154, Loss: 0.8825\n",
            "Epoch: 155, Loss: 0.8824\n",
            "Epoch: 156, Loss: 0.8779\n",
            "Epoch: 157, Loss: 0.8751\n",
            "Epoch: 158, Loss: 0.8831\n",
            "Epoch: 159, Loss: 0.8858\n",
            "Epoch: 160, Loss: 0.8798\n",
            "Epoch: 161, Loss: 0.8836\n",
            "Epoch: 162, Loss: 0.8841\n",
            "Epoch: 163, Loss: 0.8817\n",
            "Epoch: 164, Loss: 0.8802\n",
            "Epoch: 165, Loss: 0.8745\n",
            "Epoch: 166, Loss: 0.8764\n",
            "Epoch: 167, Loss: 0.8806\n",
            "Epoch: 168, Loss: 0.8815\n",
            "Epoch: 169, Loss: 0.8739\n",
            "Epoch: 170, Loss: 0.8791\n",
            "Epoch: 171, Loss: 0.8748\n",
            "Epoch: 172, Loss: 0.8823\n",
            "Epoch: 173, Loss: 0.8760\n",
            "Epoch: 174, Loss: 0.8802\n",
            "Epoch: 175, Loss: 0.8773\n",
            "Epoch: 176, Loss: 0.8858\n",
            "Epoch: 177, Loss: 0.8832\n",
            "Epoch: 178, Loss: 0.8760\n",
            "Epoch: 179, Loss: 0.8799\n",
            "Epoch: 180, Loss: 0.8794\n",
            "Epoch: 181, Loss: 0.8794\n",
            "Epoch: 182, Loss: 0.8761\n",
            "Epoch: 183, Loss: 0.8755\n",
            "Epoch: 184, Loss: 0.8810\n",
            "Epoch: 185, Loss: 0.8792\n",
            "Epoch: 186, Loss: 0.8804\n",
            "Epoch: 187, Loss: 0.8788\n",
            "Epoch: 188, Loss: 0.8753\n",
            "Epoch: 189, Loss: 0.8796\n",
            "Epoch: 190, Loss: 0.8783\n",
            "Epoch: 191, Loss: 0.8763\n",
            "Epoch: 192, Loss: 0.8727\n",
            "Epoch: 193, Loss: 0.8781\n",
            "Epoch: 194, Loss: 0.8797\n",
            "Epoch: 195, Loss: 0.8746\n",
            "Epoch: 196, Loss: 0.8746\n",
            "Epoch: 197, Loss: 0.8758\n",
            "Epoch: 198, Loss: 0.8782\n",
            "Epoch: 199, Loss: 0.8807\n",
            "Epoch: 200, Loss: 0.8775\n",
            "Epoch: 201, Loss: 0.8734\n",
            "Epoch: 202, Loss: 0.8804\n",
            "Epoch: 203, Loss: 0.8817\n",
            "Epoch: 204, Loss: 0.8762\n",
            "Epoch: 205, Loss: 0.8762\n",
            "Epoch: 206, Loss: 0.8783\n",
            "Epoch: 207, Loss: 0.8731\n",
            "Epoch: 208, Loss: 0.8708\n",
            "Epoch: 209, Loss: 0.8805\n",
            "Epoch: 210, Loss: 0.8794\n",
            "Epoch: 211, Loss: 0.8720\n",
            "Epoch: 212, Loss: 0.8666\n",
            "Epoch: 213, Loss: 0.8752\n",
            "Epoch: 214, Loss: 0.8791\n",
            "Epoch: 215, Loss: 0.8729\n",
            "Epoch: 216, Loss: 0.8764\n",
            "Epoch: 217, Loss: 0.8736\n",
            "Epoch: 218, Loss: 0.8715\n",
            "Epoch: 219, Loss: 0.8747\n",
            "Epoch: 220, Loss: 0.8721\n",
            "Epoch: 221, Loss: 0.8690\n",
            "Epoch: 222, Loss: 0.8737\n",
            "Epoch: 223, Loss: 0.8731\n",
            "Epoch: 224, Loss: 0.8735\n",
            "Epoch: 225, Loss: 0.8657\n",
            "Epoch: 226, Loss: 0.8681\n",
            "Epoch: 227, Loss: 0.8702\n",
            "Epoch: 228, Loss: 0.8708\n",
            "Epoch: 229, Loss: 0.8686\n",
            "Epoch: 230, Loss: 0.8699\n",
            "Epoch: 231, Loss: 0.8747\n",
            "Epoch: 232, Loss: 0.8701\n",
            "Epoch: 233, Loss: 0.8708\n",
            "Epoch: 234, Loss: 0.8671\n",
            "Epoch: 235, Loss: 0.8712\n",
            "Epoch: 236, Loss: 0.8745\n",
            "Epoch: 237, Loss: 0.8716\n",
            "Epoch: 238, Loss: 0.8685\n",
            "Epoch: 239, Loss: 0.8709\n",
            "Epoch: 240, Loss: 0.8709\n",
            "Epoch: 241, Loss: 0.8688\n",
            "Epoch: 242, Loss: 0.8705\n",
            "Epoch: 243, Loss: 0.8751\n",
            "Epoch: 244, Loss: 0.8700\n",
            "Epoch: 245, Loss: 0.8707\n",
            "Epoch: 246, Loss: 0.8684\n",
            "Epoch: 247, Loss: 0.8716\n",
            "Epoch: 248, Loss: 0.8653\n",
            "Epoch: 249, Loss: 0.8693\n",
            "Epoch: 250, Loss: 0.8735\n",
            "Epoch: 251, Loss: 0.8764\n",
            "Epoch: 252, Loss: 0.8718\n",
            "Epoch: 253, Loss: 0.8760\n",
            "Epoch: 254, Loss: 0.8767\n",
            "Epoch: 255, Loss: 0.8725\n",
            "Epoch: 256, Loss: 0.8669\n",
            "Epoch: 257, Loss: 0.8739\n",
            "Epoch: 258, Loss: 0.8734\n",
            "Epoch: 259, Loss: 0.8753\n",
            "Epoch: 260, Loss: 0.8698\n",
            "Epoch: 261, Loss: 0.8655\n",
            "Epoch: 262, Loss: 0.8692\n",
            "Epoch: 263, Loss: 0.8703\n",
            "Epoch: 264, Loss: 0.8674\n",
            "Epoch: 265, Loss: 0.8661\n",
            "Epoch: 266, Loss: 0.8653\n",
            "Epoch: 267, Loss: 0.8685\n",
            "Epoch: 268, Loss: 0.8704\n",
            "Epoch: 269, Loss: 0.8701\n",
            "Epoch: 270, Loss: 0.8701\n",
            "Epoch: 271, Loss: 0.8695\n",
            "Epoch: 272, Loss: 0.8670\n",
            "Epoch: 273, Loss: 0.8705\n",
            "Epoch: 274, Loss: 0.8712\n",
            "Epoch: 275, Loss: 0.8645\n",
            "Epoch: 276, Loss: 0.8668\n",
            "Epoch: 277, Loss: 0.8665\n",
            "Epoch: 278, Loss: 0.8707\n",
            "Epoch: 279, Loss: 0.8676\n",
            "Epoch: 280, Loss: 0.8640\n",
            "Epoch: 281, Loss: 0.8672\n",
            "Epoch: 282, Loss: 0.8761\n",
            "Epoch: 283, Loss: 0.8697\n",
            "Epoch: 284, Loss: 0.8680\n",
            "Epoch: 285, Loss: 0.8629\n",
            "Epoch: 286, Loss: 0.8704\n",
            "Epoch: 287, Loss: 0.8755\n",
            "Epoch: 288, Loss: 0.8618\n",
            "Epoch: 289, Loss: 0.8625\n",
            "Epoch: 290, Loss: 0.8641\n",
            "Epoch: 291, Loss: 0.8666\n",
            "Epoch: 292, Loss: 0.8695\n",
            "Epoch: 293, Loss: 0.8703\n",
            "Epoch: 294, Loss: 0.8625\n",
            "Epoch: 295, Loss: 0.8634\n",
            "Epoch: 296, Loss: 0.8739\n",
            "Epoch: 297, Loss: 0.8686\n",
            "Epoch: 298, Loss: 0.8666\n",
            "Epoch: 299, Loss: 0.8725\n"
          ],
          "name": "stdout"
        }
      ]
    },
    {
      "cell_type": "markdown",
      "metadata": {
        "id": "AsnhGADw_v8N"
      },
      "source": [
        "After training the model, we can call the `test` function to see how well our model performs on unseen labels.\n",
        "Here, we are interested in the accuracy of the model, *i.e.*, the ratio of correctly classified nodes:"
      ]
    },
    {
      "cell_type": "code",
      "metadata": {
        "colab": {
          "base_uri": "https://localhost:8080/"
        },
        "id": "wId7_-jW_ehn",
        "outputId": "88859e20-7578-4f7c-ac19-f48a1b79ffe2"
      },
      "source": [
        "test_acc = test()\n",
        "print(f'Test Accuracy: {test_acc:.4f}')"
      ],
      "execution_count": 12,
      "outputs": [
        {
          "output_type": "stream",
          "text": [
            "Test Accuracy: 0.5620\n"
          ],
          "name": "stdout"
        }
      ]
    },
    {
      "cell_type": "markdown",
      "metadata": {
        "id": "8yzxxbjcACGM"
      },
      "source": [
        "## Training a Graph Neural Network (GNN)\n",
        "\n",
        "We can easily convert our MLP to a GNN by swapping the `torch.nn.Linear` layers with PyG's GNN operators.\n"
      ]
    },
    {
      "cell_type": "code",
      "metadata": {
        "id": "JCLoB6j6_wt8"
      },
      "source": [
        "class GNN(torch.nn.Module):\n",
        "    def __init__(self, input_size, hidden_size, output_size, args):\n",
        "        super(GNN, self).__init__()\n",
        "        self.num_layers = args[\"num_layers\"]\n",
        "\n",
        "        conv_model = self.build_conv_model(args[\"model\"])\n",
        "        self.convs = nn.ModuleList()\n",
        "        self.convs.append(conv_model(input_size, hidden_size))\n",
        "\n",
        "        for l in range(self.num_layers - 1):\n",
        "            self.convs.append(conv_model(hidden_size, hidden_size))\n",
        "        self.post_mp = nn.Linear(hidden_size, output_size)\n",
        "\n",
        "    def forward(self, data):\n",
        "        x, edge_index, batch = data.node_feature, data.edge_index, data.batch\n",
        "\n",
        "        for i in range(len(self.convs) - 1):\n",
        "            x = self.convs[i](x, edge_index)\n",
        "            x = F.leaky_relu(x)\n",
        "        x = self.convs[-1](x, edge_index)\n",
        "        x = F.log_softmax(x, dim=1)\n",
        "        return x\n",
        "\n",
        "    def loss(self, pred, label):\n",
        "        return F.nll_loss(pred, label)\n",
        "\n",
        "    def build_conv_model(self, model_type):\n",
        "        if model_type == 'GCN':\n",
        "            return pyg_nn.GCNConv\n",
        "        elif model_type == 'GAT':\n",
        "            return pyg_nn.GATConv\n",
        "        elif model_type == \"GraphSage\":\n",
        "            return pyg_nn.SAGEConv\n",
        "        elif model_type == \"TransformerConv\":\n",
        "            return pyg_nn.TransformerConv\n",
        "        else:\n",
        "            raise ValueError(\n",
        "                \"Model {} unavailable, please add it to GNN.build_conv_model.\".format(model_type))"
      ],
      "execution_count": 13,
      "outputs": []
    },
    {
      "cell_type": "code",
      "metadata": {
        "id": "vYPyeWfCCugm"
      },
      "source": [
        "def train_gnn(train_loader, val_loader, test_loader, args, num_node_features, num_classes,\n",
        "          device=\"cpu\"):\n",
        "    model = GNN(num_node_features, args['hidden_size'], num_classes, args).to(device)\n",
        "    print(model)\n",
        "    optimizer = torch.optim.Adam(model.parameters(), lr=args['lr'], weight_decay=5e-4)\n",
        "    losses = []\n",
        "    accuracies = []\n",
        "\n",
        "    for epoch in range(args['epochs']):\n",
        "        total_loss = 0\n",
        "        model.train()\n",
        "        for batch in train_loader:\n",
        "            batch.to(device)\n",
        "            optimizer.zero_grad()\n",
        "            pred = model(batch)\n",
        "            label = batch.node_label\n",
        "            loss = model.loss(pred[batch.node_label_index], label)\n",
        "            total_loss += loss.item()\n",
        "            loss.backward()\n",
        "            optimizer.step()\n",
        "\n",
        "        train_acc = test_gnn(train_loader, model, device)\n",
        "        val_acc = test_gnn(val_loader, model, device)\n",
        "        test_acc = test_gnn(test_loader, model, device)\n",
        "\n",
        "        print(f\"Epoch {epoch + 1}: Train: {train_acc:.4f}, Validation: {val_acc:.4f}. Test: {test_acc:.4f}, Loss: {total_loss:.4f}\")\n",
        "\n",
        "        losses.append(round(total_loss, 4))\n",
        "        accuracies.append(test_acc)\n",
        "\n",
        "    return (model, losses, accuracies)\n",
        "\n",
        "def test_gnn(loader, model, device='cuda'):\n",
        "    model.eval()\n",
        "    for batch in loader:\n",
        "        batch.to(device)\n",
        "        logits = model(batch)\n",
        "        pred = logits[batch.node_label_index].max(1)[1]\n",
        "        acc = pred.eq(batch.node_label).sum().item()\n",
        "        total = batch.node_label_index.shape[0]\n",
        "        acc /= total\n",
        "    return acc"
      ],
      "execution_count": 14,
      "outputs": []
    },
    {
      "cell_type": "code",
      "metadata": {
        "colab": {
          "base_uri": "https://localhost:8080/",
          "height": 250
        },
        "id": "iRg7AX6nEjc2",
        "outputId": "7c0b2d96-d58c-4b0c-99cf-3eebcc6f889d"
      },
      "source": [
        "from IPython.display import Javascript  # Restrict height of output cell.\n",
        "display(Javascript('''google.colab.output.setIframeHeight(0, true, {maxHeight: 250})'''))\n",
        "\n",
        "args = {\n",
        "    \"device\" : 'cuda' if torch.cuda.is_available() else 'cpu',\n",
        "    \"hidden_size\" : 48,\n",
        "    \"epochs\" : 300,\n",
        "    \"lr\" : 0.001,\n",
        "    \"num_layers\": 2,\n",
        "    \"model\": \"GraphSage\" # [GraphSage, GAT, GCN, TransformerConv]\n",
        "}\n",
        "\n",
        "gnn_model, losses, accuracies = train_gnn(train_loader, val_loader, test_loader, args, num_node_features, num_classes, args[\"device\"])"
      ],
      "execution_count": 15,
      "outputs": [
        {
          "output_type": "display_data",
          "data": {
            "application/javascript": [
              "google.colab.output.setIframeHeight(0, true, {maxHeight: 250})"
            ],
            "text/plain": [
              "<IPython.core.display.Javascript object>"
            ]
          },
          "metadata": {
            "tags": []
          }
        },
        {
          "output_type": "stream",
          "text": [
            "GNN(\n",
            "  (convs): ModuleList(\n",
            "    (0): SAGEConv(59, 48)\n",
            "    (1): SAGEConv(48, 48)\n",
            "  )\n",
            "  (post_mp): Linear(in_features=48, out_features=3, bias=True)\n",
            ")\n",
            "Epoch 1: Train: 0.0143, Validation: 0.0194. Test: 0.0081, Loss: 4.7936\n",
            "Epoch 2: Train: 0.0188, Validation: 0.0226. Test: 0.0177, Loss: 4.6089\n",
            "Epoch 3: Train: 0.0220, Validation: 0.0242. Test: 0.0226, Loss: 4.4292\n",
            "Epoch 4: Train: 0.0267, Validation: 0.0291. Test: 0.0274, Loss: 4.2545\n",
            "Epoch 5: Train: 0.0380, Validation: 0.0372. Test: 0.0339, Loss: 4.0849\n",
            "Epoch 6: Train: 0.0529, Validation: 0.0533. Test: 0.0468, Loss: 3.9201\n",
            "Epoch 7: Train: 0.0715, Validation: 0.0743. Test: 0.0645, Loss: 3.7601\n",
            "Epoch 8: Train: 0.1104, Validation: 0.1099. Test: 0.1032, Loss: 3.6050\n",
            "Epoch 9: Train: 0.1641, Validation: 0.1712. Test: 0.1742, Loss: 3.4552\n",
            "Epoch 10: Train: 0.2374, Validation: 0.2423. Test: 0.2452, Loss: 3.3117\n",
            "Epoch 11: Train: 0.2966, Validation: 0.3037. Test: 0.3161, Loss: 3.1768\n",
            "Epoch 12: Train: 0.3525, Validation: 0.3522. Test: 0.3613, Loss: 3.0530\n",
            "Epoch 13: Train: 0.3559, Validation: 0.3522. Test: 0.3645, Loss: 2.9418\n",
            "Epoch 14: Train: 0.3584, Validation: 0.3570. Test: 0.3758, Loss: 2.8419\n",
            "Epoch 15: Train: 0.3604, Validation: 0.3635. Test: 0.3758, Loss: 2.7500\n",
            "Epoch 16: Train: 0.3612, Validation: 0.3651. Test: 0.3726, Loss: 2.6634\n",
            "Epoch 17: Train: 0.3616, Validation: 0.3667. Test: 0.3774, Loss: 2.5802\n",
            "Epoch 18: Train: 0.3622, Validation: 0.3651. Test: 0.3790, Loss: 2.4992\n",
            "Epoch 19: Train: 0.3642, Validation: 0.3651. Test: 0.3790, Loss: 2.4199\n",
            "Epoch 20: Train: 0.3636, Validation: 0.3667. Test: 0.3790, Loss: 2.3416\n",
            "Epoch 21: Train: 0.3644, Validation: 0.3635. Test: 0.3806, Loss: 2.2643\n",
            "Epoch 22: Train: 0.3656, Validation: 0.3635. Test: 0.3806, Loss: 2.1879\n",
            "Epoch 23: Train: 0.3673, Validation: 0.3619. Test: 0.3806, Loss: 2.1126\n",
            "Epoch 24: Train: 0.3681, Validation: 0.3603. Test: 0.3806, Loss: 2.0387\n",
            "Epoch 25: Train: 0.3709, Validation: 0.3651. Test: 0.3806, Loss: 1.9667\n",
            "Epoch 26: Train: 0.3733, Validation: 0.3651. Test: 0.3806, Loss: 1.8971\n",
            "Epoch 27: Train: 0.3765, Validation: 0.3635. Test: 0.3855, Loss: 1.8304\n",
            "Epoch 28: Train: 0.3763, Validation: 0.3538. Test: 0.3839, Loss: 1.7672\n",
            "Epoch 29: Train: 0.3846, Validation: 0.3651. Test: 0.3871, Loss: 1.7080\n",
            "Epoch 30: Train: 0.3969, Validation: 0.3683. Test: 0.4065, Loss: 1.6531\n",
            "Epoch 31: Train: 0.4048, Validation: 0.3716. Test: 0.4097, Loss: 1.6027\n",
            "Epoch 32: Train: 0.4165, Validation: 0.3861. Test: 0.4177, Loss: 1.5567\n",
            "Epoch 33: Train: 0.4212, Validation: 0.3926. Test: 0.4161, Loss: 1.5148\n",
            "Epoch 34: Train: 0.4304, Validation: 0.3813. Test: 0.4210, Loss: 1.4766\n",
            "Epoch 35: Train: 0.4329, Validation: 0.3748. Test: 0.4258, Loss: 1.4418\n",
            "Epoch 36: Train: 0.4357, Validation: 0.3877. Test: 0.4210, Loss: 1.4102\n",
            "Epoch 37: Train: 0.4379, Validation: 0.3942. Test: 0.4290, Loss: 1.3814\n",
            "Epoch 38: Train: 0.4418, Validation: 0.4039. Test: 0.4323, Loss: 1.3553\n",
            "Epoch 39: Train: 0.4470, Validation: 0.4136. Test: 0.4371, Loss: 1.3319\n",
            "Epoch 40: Train: 0.4520, Validation: 0.4265. Test: 0.4484, Loss: 1.3110\n",
            "Epoch 41: Train: 0.4537, Validation: 0.4297. Test: 0.4548, Loss: 1.2923\n",
            "Epoch 42: Train: 0.4551, Validation: 0.4265. Test: 0.4613, Loss: 1.2757\n",
            "Epoch 43: Train: 0.4553, Validation: 0.4330. Test: 0.4661, Loss: 1.2607\n",
            "Epoch 44: Train: 0.4575, Validation: 0.4346. Test: 0.4694, Loss: 1.2473\n",
            "Epoch 45: Train: 0.4559, Validation: 0.4443. Test: 0.4742, Loss: 1.2351\n",
            "Epoch 46: Train: 0.4549, Validation: 0.4443. Test: 0.4839, Loss: 1.2240\n",
            "Epoch 47: Train: 0.4599, Validation: 0.4313. Test: 0.4823, Loss: 1.2139\n",
            "Epoch 48: Train: 0.4611, Validation: 0.4233. Test: 0.4855, Loss: 1.2045\n",
            "Epoch 49: Train: 0.4656, Validation: 0.4233. Test: 0.4839, Loss: 1.1958\n",
            "Epoch 50: Train: 0.4684, Validation: 0.4281. Test: 0.4774, Loss: 1.1876\n",
            "Epoch 51: Train: 0.4732, Validation: 0.4330. Test: 0.4742, Loss: 1.1799\n",
            "Epoch 52: Train: 0.4716, Validation: 0.4378. Test: 0.4919, Loss: 1.1727\n",
            "Epoch 53: Train: 0.4741, Validation: 0.4394. Test: 0.4903, Loss: 1.1660\n",
            "Epoch 54: Train: 0.4741, Validation: 0.4426. Test: 0.5048, Loss: 1.1599\n",
            "Epoch 55: Train: 0.4749, Validation: 0.4426. Test: 0.5113, Loss: 1.1542\n",
            "Epoch 56: Train: 0.4749, Validation: 0.4394. Test: 0.5081, Loss: 1.1489\n",
            "Epoch 57: Train: 0.4771, Validation: 0.4410. Test: 0.5097, Loss: 1.1439\n",
            "Epoch 58: Train: 0.4791, Validation: 0.4491. Test: 0.5081, Loss: 1.1390\n",
            "Epoch 59: Train: 0.4864, Validation: 0.4540. Test: 0.5129, Loss: 1.1342\n",
            "Epoch 60: Train: 0.4896, Validation: 0.4556. Test: 0.5097, Loss: 1.1295\n",
            "Epoch 61: Train: 0.4912, Validation: 0.4572. Test: 0.5145, Loss: 1.1250\n",
            "Epoch 62: Train: 0.4924, Validation: 0.4604. Test: 0.5161, Loss: 1.1208\n",
            "Epoch 63: Train: 0.4928, Validation: 0.4653. Test: 0.5194, Loss: 1.1168\n",
            "Epoch 64: Train: 0.4949, Validation: 0.4717. Test: 0.5194, Loss: 1.1130\n",
            "Epoch 65: Train: 0.4961, Validation: 0.4717. Test: 0.5242, Loss: 1.1092\n",
            "Epoch 66: Train: 0.4981, Validation: 0.4750. Test: 0.5226, Loss: 1.1054\n",
            "Epoch 67: Train: 0.4981, Validation: 0.4733. Test: 0.5161, Loss: 1.1017\n",
            "Epoch 68: Train: 0.5001, Validation: 0.4733. Test: 0.5161, Loss: 1.0980\n",
            "Epoch 69: Train: 0.4997, Validation: 0.4733. Test: 0.5145, Loss: 1.0944\n",
            "Epoch 70: Train: 0.5015, Validation: 0.4733. Test: 0.5129, Loss: 1.0909\n",
            "Epoch 71: Train: 0.5027, Validation: 0.4733. Test: 0.5145, Loss: 1.0875\n",
            "Epoch 72: Train: 0.5045, Validation: 0.4750. Test: 0.5145, Loss: 1.0842\n",
            "Epoch 73: Train: 0.5054, Validation: 0.4766. Test: 0.5177, Loss: 1.0810\n",
            "Epoch 74: Train: 0.5054, Validation: 0.4782. Test: 0.5210, Loss: 1.0778\n",
            "Epoch 75: Train: 0.5060, Validation: 0.4766. Test: 0.5210, Loss: 1.0747\n",
            "Epoch 76: Train: 0.5070, Validation: 0.4782. Test: 0.5210, Loss: 1.0717\n",
            "Epoch 77: Train: 0.5106, Validation: 0.4830. Test: 0.5226, Loss: 1.0687\n",
            "Epoch 78: Train: 0.5102, Validation: 0.4830. Test: 0.5323, Loss: 1.0659\n",
            "Epoch 79: Train: 0.5124, Validation: 0.4814. Test: 0.5339, Loss: 1.0631\n",
            "Epoch 80: Train: 0.5142, Validation: 0.4814. Test: 0.5339, Loss: 1.0603\n",
            "Epoch 81: Train: 0.5169, Validation: 0.4814. Test: 0.5355, Loss: 1.0576\n",
            "Epoch 82: Train: 0.5181, Validation: 0.4814. Test: 0.5355, Loss: 1.0550\n",
            "Epoch 83: Train: 0.5189, Validation: 0.4830. Test: 0.5323, Loss: 1.0524\n",
            "Epoch 84: Train: 0.5193, Validation: 0.4847. Test: 0.5323, Loss: 1.0498\n",
            "Epoch 85: Train: 0.5197, Validation: 0.4863. Test: 0.5323, Loss: 1.0473\n",
            "Epoch 86: Train: 0.5195, Validation: 0.4847. Test: 0.5339, Loss: 1.0448\n",
            "Epoch 87: Train: 0.5193, Validation: 0.4847. Test: 0.5323, Loss: 1.0424\n",
            "Epoch 88: Train: 0.5207, Validation: 0.4863. Test: 0.5306, Loss: 1.0399\n",
            "Epoch 89: Train: 0.5217, Validation: 0.4863. Test: 0.5355, Loss: 1.0375\n",
            "Epoch 90: Train: 0.5209, Validation: 0.4895. Test: 0.5355, Loss: 1.0352\n",
            "Epoch 91: Train: 0.5207, Validation: 0.4927. Test: 0.5355, Loss: 1.0329\n",
            "Epoch 92: Train: 0.5209, Validation: 0.4943. Test: 0.5371, Loss: 1.0306\n",
            "Epoch 93: Train: 0.5207, Validation: 0.4943. Test: 0.5355, Loss: 1.0283\n",
            "Epoch 94: Train: 0.5221, Validation: 0.4927. Test: 0.5355, Loss: 1.0261\n",
            "Epoch 95: Train: 0.5217, Validation: 0.4927. Test: 0.5371, Loss: 1.0239\n",
            "Epoch 96: Train: 0.5219, Validation: 0.4911. Test: 0.5371, Loss: 1.0218\n",
            "Epoch 97: Train: 0.5223, Validation: 0.4911. Test: 0.5387, Loss: 1.0197\n",
            "Epoch 98: Train: 0.5239, Validation: 0.4911. Test: 0.5403, Loss: 1.0176\n",
            "Epoch 99: Train: 0.5237, Validation: 0.4943. Test: 0.5435, Loss: 1.0155\n",
            "Epoch 100: Train: 0.5243, Validation: 0.4943. Test: 0.5387, Loss: 1.0135\n",
            "Epoch 101: Train: 0.5249, Validation: 0.4927. Test: 0.5387, Loss: 1.0115\n",
            "Epoch 102: Train: 0.5243, Validation: 0.4960. Test: 0.5387, Loss: 1.0096\n",
            "Epoch 103: Train: 0.5247, Validation: 0.4960. Test: 0.5355, Loss: 1.0077\n",
            "Epoch 104: Train: 0.5243, Validation: 0.4976. Test: 0.5355, Loss: 1.0058\n",
            "Epoch 105: Train: 0.5243, Validation: 0.4992. Test: 0.5355, Loss: 1.0039\n",
            "Epoch 106: Train: 0.5249, Validation: 0.4992. Test: 0.5371, Loss: 1.0021\n",
            "Epoch 107: Train: 0.5257, Validation: 0.5008. Test: 0.5403, Loss: 1.0003\n",
            "Epoch 108: Train: 0.5261, Validation: 0.5024. Test: 0.5419, Loss: 0.9985\n",
            "Epoch 109: Train: 0.5274, Validation: 0.5040. Test: 0.5435, Loss: 0.9967\n",
            "Epoch 110: Train: 0.5268, Validation: 0.5040. Test: 0.5387, Loss: 0.9950\n",
            "Epoch 111: Train: 0.5280, Validation: 0.5057. Test: 0.5371, Loss: 0.9933\n",
            "Epoch 112: Train: 0.5276, Validation: 0.5040. Test: 0.5355, Loss: 0.9916\n",
            "Epoch 113: Train: 0.5282, Validation: 0.5073. Test: 0.5306, Loss: 0.9899\n",
            "Epoch 114: Train: 0.5294, Validation: 0.5105. Test: 0.5306, Loss: 0.9883\n",
            "Epoch 115: Train: 0.5302, Validation: 0.5105. Test: 0.5306, Loss: 0.9866\n",
            "Epoch 116: Train: 0.5312, Validation: 0.5105. Test: 0.5306, Loss: 0.9850\n",
            "Epoch 117: Train: 0.5312, Validation: 0.5121. Test: 0.5323, Loss: 0.9835\n",
            "Epoch 118: Train: 0.5334, Validation: 0.5089. Test: 0.5371, Loss: 0.9819\n",
            "Epoch 119: Train: 0.5338, Validation: 0.5105. Test: 0.5387, Loss: 0.9803\n",
            "Epoch 120: Train: 0.5360, Validation: 0.5137. Test: 0.5371, Loss: 0.9788\n",
            "Epoch 121: Train: 0.5364, Validation: 0.5137. Test: 0.5371, Loss: 0.9773\n",
            "Epoch 122: Train: 0.5373, Validation: 0.5202. Test: 0.5371, Loss: 0.9758\n",
            "Epoch 123: Train: 0.5370, Validation: 0.5218. Test: 0.5371, Loss: 0.9743\n",
            "Epoch 124: Train: 0.5383, Validation: 0.5202. Test: 0.5371, Loss: 0.9729\n",
            "Epoch 125: Train: 0.5389, Validation: 0.5202. Test: 0.5355, Loss: 0.9714\n",
            "Epoch 126: Train: 0.5391, Validation: 0.5218. Test: 0.5339, Loss: 0.9700\n",
            "Epoch 127: Train: 0.5387, Validation: 0.5234. Test: 0.5339, Loss: 0.9685\n",
            "Epoch 128: Train: 0.5401, Validation: 0.5186. Test: 0.5355, Loss: 0.9671\n",
            "Epoch 129: Train: 0.5411, Validation: 0.5202. Test: 0.5323, Loss: 0.9656\n",
            "Epoch 130: Train: 0.5415, Validation: 0.5186. Test: 0.5323, Loss: 0.9642\n",
            "Epoch 131: Train: 0.5417, Validation: 0.5170. Test: 0.5339, Loss: 0.9628\n",
            "Epoch 132: Train: 0.5445, Validation: 0.5170. Test: 0.5387, Loss: 0.9614\n",
            "Epoch 133: Train: 0.5482, Validation: 0.5137. Test: 0.5403, Loss: 0.9601\n",
            "Epoch 134: Train: 0.5492, Validation: 0.5202. Test: 0.5435, Loss: 0.9587\n",
            "Epoch 135: Train: 0.5496, Validation: 0.5218. Test: 0.5435, Loss: 0.9575\n",
            "Epoch 136: Train: 0.5504, Validation: 0.5250. Test: 0.5403, Loss: 0.9562\n",
            "Epoch 137: Train: 0.5498, Validation: 0.5267. Test: 0.5419, Loss: 0.9549\n",
            "Epoch 138: Train: 0.5514, Validation: 0.5283. Test: 0.5419, Loss: 0.9536\n",
            "Epoch 139: Train: 0.5522, Validation: 0.5283. Test: 0.5419, Loss: 0.9524\n",
            "Epoch 140: Train: 0.5526, Validation: 0.5283. Test: 0.5435, Loss: 0.9511\n",
            "Epoch 141: Train: 0.5526, Validation: 0.5267. Test: 0.5435, Loss: 0.9499\n",
            "Epoch 142: Train: 0.5552, Validation: 0.5299. Test: 0.5452, Loss: 0.9487\n",
            "Epoch 143: Train: 0.5554, Validation: 0.5299. Test: 0.5452, Loss: 0.9475\n",
            "Epoch 144: Train: 0.5546, Validation: 0.5315. Test: 0.5452, Loss: 0.9463\n",
            "Epoch 145: Train: 0.5552, Validation: 0.5347. Test: 0.5484, Loss: 0.9451\n",
            "Epoch 146: Train: 0.5584, Validation: 0.5331. Test: 0.5484, Loss: 0.9440\n",
            "Epoch 147: Train: 0.5595, Validation: 0.5331. Test: 0.5484, Loss: 0.9428\n",
            "Epoch 148: Train: 0.5595, Validation: 0.5315. Test: 0.5468, Loss: 0.9417\n",
            "Epoch 149: Train: 0.5605, Validation: 0.5347. Test: 0.5468, Loss: 0.9406\n",
            "Epoch 150: Train: 0.5617, Validation: 0.5331. Test: 0.5484, Loss: 0.9395\n",
            "Epoch 151: Train: 0.5627, Validation: 0.5347. Test: 0.5516, Loss: 0.9384\n",
            "Epoch 152: Train: 0.5641, Validation: 0.5347. Test: 0.5516, Loss: 0.9373\n",
            "Epoch 153: Train: 0.5643, Validation: 0.5347. Test: 0.5548, Loss: 0.9363\n",
            "Epoch 154: Train: 0.5665, Validation: 0.5363. Test: 0.5581, Loss: 0.9352\n",
            "Epoch 155: Train: 0.5685, Validation: 0.5363. Test: 0.5613, Loss: 0.9341\n",
            "Epoch 156: Train: 0.5704, Validation: 0.5363. Test: 0.5613, Loss: 0.9331\n",
            "Epoch 157: Train: 0.5710, Validation: 0.5396. Test: 0.5629, Loss: 0.9320\n",
            "Epoch 158: Train: 0.5726, Validation: 0.5444. Test: 0.5629, Loss: 0.9310\n",
            "Epoch 159: Train: 0.5736, Validation: 0.5444. Test: 0.5645, Loss: 0.9299\n",
            "Epoch 160: Train: 0.5738, Validation: 0.5444. Test: 0.5645, Loss: 0.9289\n",
            "Epoch 161: Train: 0.5738, Validation: 0.5460. Test: 0.5613, Loss: 0.9279\n",
            "Epoch 162: Train: 0.5722, Validation: 0.5460. Test: 0.5694, Loss: 0.9270\n",
            "Epoch 163: Train: 0.5722, Validation: 0.5493. Test: 0.5645, Loss: 0.9260\n",
            "Epoch 164: Train: 0.5732, Validation: 0.5525. Test: 0.5661, Loss: 0.9250\n",
            "Epoch 165: Train: 0.5742, Validation: 0.5541. Test: 0.5677, Loss: 0.9241\n",
            "Epoch 166: Train: 0.5742, Validation: 0.5541. Test: 0.5677, Loss: 0.9231\n",
            "Epoch 167: Train: 0.5740, Validation: 0.5541. Test: 0.5677, Loss: 0.9221\n",
            "Epoch 168: Train: 0.5742, Validation: 0.5541. Test: 0.5694, Loss: 0.9212\n",
            "Epoch 169: Train: 0.5742, Validation: 0.5541. Test: 0.5710, Loss: 0.9203\n",
            "Epoch 170: Train: 0.5738, Validation: 0.5525. Test: 0.5677, Loss: 0.9194\n",
            "Epoch 171: Train: 0.5746, Validation: 0.5509. Test: 0.5677, Loss: 0.9185\n",
            "Epoch 172: Train: 0.5750, Validation: 0.5509. Test: 0.5694, Loss: 0.9176\n",
            "Epoch 173: Train: 0.5752, Validation: 0.5509. Test: 0.5710, Loss: 0.9167\n",
            "Epoch 174: Train: 0.5758, Validation: 0.5525. Test: 0.5726, Loss: 0.9158\n",
            "Epoch 175: Train: 0.5760, Validation: 0.5557. Test: 0.5742, Loss: 0.9149\n",
            "Epoch 176: Train: 0.5776, Validation: 0.5590. Test: 0.5758, Loss: 0.9141\n",
            "Epoch 177: Train: 0.5780, Validation: 0.5590. Test: 0.5774, Loss: 0.9132\n",
            "Epoch 178: Train: 0.5780, Validation: 0.5590. Test: 0.5790, Loss: 0.9124\n",
            "Epoch 179: Train: 0.5788, Validation: 0.5606. Test: 0.5806, Loss: 0.9115\n",
            "Epoch 180: Train: 0.5784, Validation: 0.5622. Test: 0.5806, Loss: 0.9107\n",
            "Epoch 181: Train: 0.5788, Validation: 0.5638. Test: 0.5790, Loss: 0.9099\n",
            "Epoch 182: Train: 0.5790, Validation: 0.5622. Test: 0.5790, Loss: 0.9091\n",
            "Epoch 183: Train: 0.5801, Validation: 0.5606. Test: 0.5790, Loss: 0.9083\n",
            "Epoch 184: Train: 0.5801, Validation: 0.5606. Test: 0.5806, Loss: 0.9075\n",
            "Epoch 185: Train: 0.5807, Validation: 0.5606. Test: 0.5839, Loss: 0.9067\n",
            "Epoch 186: Train: 0.5807, Validation: 0.5606. Test: 0.5839, Loss: 0.9059\n",
            "Epoch 187: Train: 0.5811, Validation: 0.5622. Test: 0.5855, Loss: 0.9052\n",
            "Epoch 188: Train: 0.5799, Validation: 0.5606. Test: 0.5903, Loss: 0.9044\n",
            "Epoch 189: Train: 0.5796, Validation: 0.5622. Test: 0.5919, Loss: 0.9036\n",
            "Epoch 190: Train: 0.5799, Validation: 0.5606. Test: 0.5919, Loss: 0.9029\n",
            "Epoch 191: Train: 0.5799, Validation: 0.5606. Test: 0.5935, Loss: 0.9021\n",
            "Epoch 192: Train: 0.5796, Validation: 0.5574. Test: 0.5935, Loss: 0.9014\n",
            "Epoch 193: Train: 0.5799, Validation: 0.5590. Test: 0.5935, Loss: 0.9006\n",
            "Epoch 194: Train: 0.5801, Validation: 0.5606. Test: 0.5935, Loss: 0.8998\n",
            "Epoch 195: Train: 0.5799, Validation: 0.5606. Test: 0.5935, Loss: 0.8991\n",
            "Epoch 196: Train: 0.5803, Validation: 0.5590. Test: 0.5935, Loss: 0.8984\n",
            "Epoch 197: Train: 0.5807, Validation: 0.5590. Test: 0.5935, Loss: 0.8976\n",
            "Epoch 198: Train: 0.5807, Validation: 0.5590. Test: 0.5935, Loss: 0.8969\n",
            "Epoch 199: Train: 0.5807, Validation: 0.5606. Test: 0.5935, Loss: 0.8962\n",
            "Epoch 200: Train: 0.5805, Validation: 0.5606. Test: 0.5935, Loss: 0.8955\n",
            "Epoch 201: Train: 0.5805, Validation: 0.5606. Test: 0.5935, Loss: 0.8948\n",
            "Epoch 202: Train: 0.5811, Validation: 0.5638. Test: 0.5935, Loss: 0.8941\n",
            "Epoch 203: Train: 0.5811, Validation: 0.5638. Test: 0.5952, Loss: 0.8935\n",
            "Epoch 204: Train: 0.5805, Validation: 0.5670. Test: 0.5968, Loss: 0.8928\n",
            "Epoch 205: Train: 0.5807, Validation: 0.5687. Test: 0.5968, Loss: 0.8921\n",
            "Epoch 206: Train: 0.5807, Validation: 0.5687. Test: 0.5968, Loss: 0.8915\n",
            "Epoch 207: Train: 0.5813, Validation: 0.5687. Test: 0.5968, Loss: 0.8908\n",
            "Epoch 208: Train: 0.5815, Validation: 0.5670. Test: 0.5968, Loss: 0.8902\n",
            "Epoch 209: Train: 0.5819, Validation: 0.5654. Test: 0.5968, Loss: 0.8895\n",
            "Epoch 210: Train: 0.5813, Validation: 0.5670. Test: 0.5968, Loss: 0.8889\n",
            "Epoch 211: Train: 0.5813, Validation: 0.5654. Test: 0.5952, Loss: 0.8883\n",
            "Epoch 212: Train: 0.5819, Validation: 0.5670. Test: 0.5935, Loss: 0.8876\n",
            "Epoch 213: Train: 0.5817, Validation: 0.5638. Test: 0.5935, Loss: 0.8870\n",
            "Epoch 214: Train: 0.5815, Validation: 0.5638. Test: 0.5935, Loss: 0.8864\n",
            "Epoch 215: Train: 0.5829, Validation: 0.5654. Test: 0.5935, Loss: 0.8858\n",
            "Epoch 216: Train: 0.5829, Validation: 0.5654. Test: 0.5935, Loss: 0.8852\n",
            "Epoch 217: Train: 0.5825, Validation: 0.5654. Test: 0.5935, Loss: 0.8846\n",
            "Epoch 218: Train: 0.5821, Validation: 0.5654. Test: 0.5935, Loss: 0.8840\n",
            "Epoch 219: Train: 0.5825, Validation: 0.5654. Test: 0.5919, Loss: 0.8834\n",
            "Epoch 220: Train: 0.5827, Validation: 0.5654. Test: 0.5935, Loss: 0.8828\n",
            "Epoch 221: Train: 0.5829, Validation: 0.5654. Test: 0.5952, Loss: 0.8823\n",
            "Epoch 222: Train: 0.5833, Validation: 0.5654. Test: 0.5952, Loss: 0.8817\n",
            "Epoch 223: Train: 0.5829, Validation: 0.5638. Test: 0.5952, Loss: 0.8811\n",
            "Epoch 224: Train: 0.5833, Validation: 0.5622. Test: 0.5952, Loss: 0.8806\n",
            "Epoch 225: Train: 0.5837, Validation: 0.5622. Test: 0.5952, Loss: 0.8800\n",
            "Epoch 226: Train: 0.5839, Validation: 0.5622. Test: 0.5952, Loss: 0.8794\n",
            "Epoch 227: Train: 0.5835, Validation: 0.5638. Test: 0.5952, Loss: 0.8789\n",
            "Epoch 228: Train: 0.5841, Validation: 0.5654. Test: 0.5952, Loss: 0.8783\n",
            "Epoch 229: Train: 0.5845, Validation: 0.5670. Test: 0.5968, Loss: 0.8778\n",
            "Epoch 230: Train: 0.5847, Validation: 0.5654. Test: 0.5968, Loss: 0.8773\n",
            "Epoch 231: Train: 0.5845, Validation: 0.5654. Test: 0.5968, Loss: 0.8767\n",
            "Epoch 232: Train: 0.5849, Validation: 0.5654. Test: 0.5968, Loss: 0.8762\n",
            "Epoch 233: Train: 0.5855, Validation: 0.5654. Test: 0.5968, Loss: 0.8757\n",
            "Epoch 234: Train: 0.5857, Validation: 0.5654. Test: 0.5952, Loss: 0.8752\n",
            "Epoch 235: Train: 0.5857, Validation: 0.5654. Test: 0.5952, Loss: 0.8746\n",
            "Epoch 236: Train: 0.5865, Validation: 0.5654. Test: 0.5952, Loss: 0.8741\n",
            "Epoch 237: Train: 0.5865, Validation: 0.5687. Test: 0.5968, Loss: 0.8736\n",
            "Epoch 238: Train: 0.5859, Validation: 0.5703. Test: 0.5935, Loss: 0.8731\n",
            "Epoch 239: Train: 0.5869, Validation: 0.5703. Test: 0.5919, Loss: 0.8726\n",
            "Epoch 240: Train: 0.5871, Validation: 0.5703. Test: 0.5919, Loss: 0.8721\n",
            "Epoch 241: Train: 0.5873, Validation: 0.5703. Test: 0.5903, Loss: 0.8716\n",
            "Epoch 242: Train: 0.5877, Validation: 0.5719. Test: 0.5903, Loss: 0.8711\n",
            "Epoch 243: Train: 0.5883, Validation: 0.5719. Test: 0.5887, Loss: 0.8707\n",
            "Epoch 244: Train: 0.5881, Validation: 0.5719. Test: 0.5887, Loss: 0.8702\n",
            "Epoch 245: Train: 0.5887, Validation: 0.5719. Test: 0.5903, Loss: 0.8697\n",
            "Epoch 246: Train: 0.5883, Validation: 0.5687. Test: 0.5903, Loss: 0.8692\n",
            "Epoch 247: Train: 0.5893, Validation: 0.5687. Test: 0.5903, Loss: 0.8688\n",
            "Epoch 248: Train: 0.5891, Validation: 0.5703. Test: 0.5919, Loss: 0.8683\n",
            "Epoch 249: Train: 0.5889, Validation: 0.5703. Test: 0.5919, Loss: 0.8678\n",
            "Epoch 250: Train: 0.5891, Validation: 0.5703. Test: 0.5935, Loss: 0.8674\n",
            "Epoch 251: Train: 0.5885, Validation: 0.5703. Test: 0.5935, Loss: 0.8669\n",
            "Epoch 252: Train: 0.5885, Validation: 0.5687. Test: 0.5935, Loss: 0.8665\n",
            "Epoch 253: Train: 0.5885, Validation: 0.5687. Test: 0.5935, Loss: 0.8660\n",
            "Epoch 254: Train: 0.5893, Validation: 0.5670. Test: 0.5952, Loss: 0.8656\n",
            "Epoch 255: Train: 0.5891, Validation: 0.5670. Test: 0.5952, Loss: 0.8651\n",
            "Epoch 256: Train: 0.5897, Validation: 0.5687. Test: 0.5952, Loss: 0.8647\n",
            "Epoch 257: Train: 0.5906, Validation: 0.5687. Test: 0.5952, Loss: 0.8643\n",
            "Epoch 258: Train: 0.5912, Validation: 0.5687. Test: 0.5952, Loss: 0.8638\n",
            "Epoch 259: Train: 0.5916, Validation: 0.5703. Test: 0.5935, Loss: 0.8634\n",
            "Epoch 260: Train: 0.5932, Validation: 0.5687. Test: 0.5952, Loss: 0.8630\n",
            "Epoch 261: Train: 0.5938, Validation: 0.5703. Test: 0.5952, Loss: 0.8626\n",
            "Epoch 262: Train: 0.5940, Validation: 0.5703. Test: 0.5952, Loss: 0.8621\n",
            "Epoch 263: Train: 0.5948, Validation: 0.5687. Test: 0.5952, Loss: 0.8617\n",
            "Epoch 264: Train: 0.5950, Validation: 0.5703. Test: 0.5952, Loss: 0.8613\n",
            "Epoch 265: Train: 0.5944, Validation: 0.5719. Test: 0.5952, Loss: 0.8609\n",
            "Epoch 266: Train: 0.5956, Validation: 0.5719. Test: 0.5952, Loss: 0.8605\n",
            "Epoch 267: Train: 0.5960, Validation: 0.5719. Test: 0.5952, Loss: 0.8601\n",
            "Epoch 268: Train: 0.5956, Validation: 0.5719. Test: 0.5952, Loss: 0.8597\n",
            "Epoch 269: Train: 0.5958, Validation: 0.5719. Test: 0.5952, Loss: 0.8593\n",
            "Epoch 270: Train: 0.5958, Validation: 0.5751. Test: 0.5952, Loss: 0.8589\n",
            "Epoch 271: Train: 0.5962, Validation: 0.5751. Test: 0.5952, Loss: 0.8585\n",
            "Epoch 272: Train: 0.5960, Validation: 0.5751. Test: 0.5952, Loss: 0.8581\n",
            "Epoch 273: Train: 0.5964, Validation: 0.5751. Test: 0.5952, Loss: 0.8577\n",
            "Epoch 274: Train: 0.5966, Validation: 0.5751. Test: 0.5952, Loss: 0.8573\n",
            "Epoch 275: Train: 0.5968, Validation: 0.5751. Test: 0.5952, Loss: 0.8570\n",
            "Epoch 276: Train: 0.5970, Validation: 0.5751. Test: 0.5952, Loss: 0.8566\n",
            "Epoch 277: Train: 0.5978, Validation: 0.5767. Test: 0.5952, Loss: 0.8562\n",
            "Epoch 278: Train: 0.5976, Validation: 0.5767. Test: 0.5952, Loss: 0.8558\n",
            "Epoch 279: Train: 0.5970, Validation: 0.5767. Test: 0.5935, Loss: 0.8555\n",
            "Epoch 280: Train: 0.5970, Validation: 0.5767. Test: 0.5935, Loss: 0.8551\n",
            "Epoch 281: Train: 0.5968, Validation: 0.5751. Test: 0.5952, Loss: 0.8547\n",
            "Epoch 282: Train: 0.5974, Validation: 0.5751. Test: 0.5935, Loss: 0.8544\n",
            "Epoch 283: Train: 0.5982, Validation: 0.5735. Test: 0.5935, Loss: 0.8540\n",
            "Epoch 284: Train: 0.5988, Validation: 0.5735. Test: 0.5952, Loss: 0.8536\n",
            "Epoch 285: Train: 0.5986, Validation: 0.5735. Test: 0.5952, Loss: 0.8533\n",
            "Epoch 286: Train: 0.5988, Validation: 0.5735. Test: 0.5952, Loss: 0.8529\n",
            "Epoch 287: Train: 0.6004, Validation: 0.5751. Test: 0.5952, Loss: 0.8526\n",
            "Epoch 288: Train: 0.6002, Validation: 0.5751. Test: 0.5952, Loss: 0.8522\n",
            "Epoch 289: Train: 0.6004, Validation: 0.5751. Test: 0.5968, Loss: 0.8519\n",
            "Epoch 290: Train: 0.6008, Validation: 0.5751. Test: 0.5968, Loss: 0.8515\n",
            "Epoch 291: Train: 0.6008, Validation: 0.5751. Test: 0.6000, Loss: 0.8512\n",
            "Epoch 292: Train: 0.6004, Validation: 0.5751. Test: 0.6016, Loss: 0.8509\n",
            "Epoch 293: Train: 0.6006, Validation: 0.5751. Test: 0.6016, Loss: 0.8505\n",
            "Epoch 294: Train: 0.6008, Validation: 0.5767. Test: 0.6000, Loss: 0.8502\n",
            "Epoch 295: Train: 0.6006, Validation: 0.5784. Test: 0.6016, Loss: 0.8499\n",
            "Epoch 296: Train: 0.6010, Validation: 0.5751. Test: 0.6016, Loss: 0.8495\n",
            "Epoch 297: Train: 0.6010, Validation: 0.5735. Test: 0.6000, Loss: 0.8492\n",
            "Epoch 298: Train: 0.6008, Validation: 0.5767. Test: 0.6000, Loss: 0.8489\n",
            "Epoch 299: Train: 0.6015, Validation: 0.5751. Test: 0.6000, Loss: 0.8486\n",
            "Epoch 300: Train: 0.6015, Validation: 0.5767. Test: 0.6000, Loss: 0.8482\n"
          ],
          "name": "stdout"
        }
      ]
    },
    {
      "cell_type": "markdown",
      "metadata": {
        "id": "jS5_KxhsRhMV"
      },
      "source": [
        "### Plotting training data "
      ]
    },
    {
      "cell_type": "code",
      "metadata": {
        "colab": {
          "base_uri": "https://localhost:8080/",
          "height": 350
        },
        "id": "aDMQdzuHRYB2",
        "outputId": "ab6bce2d-b380-4d16-8902-8cd020f89039"
      },
      "source": [
        "plt.figure(figsize=(10,5))\n",
        "plt.title(\"Training Loss\")\n",
        "plt.plot(losses,label=\"Training Loss\")\n",
        "plt.xlabel(\"iterations\")\n",
        "plt.ylabel(\"Loss\")\n",
        "plt.legend()\n",
        "plt.show()"
      ],
      "execution_count": 16,
      "outputs": [
        {
          "output_type": "display_data",
          "data": {
            "image/png": "[encoded data removed]",
            "text/plain": [
              "<Figure size 720x360 with 1 Axes>"
            ]
          },
          "metadata": {
            "tags": [],
            "needs_background": "light"
          }
        }
      ]
    },
    {
      "cell_type": "code",
      "metadata": {
        "colab": {
          "base_uri": "https://localhost:8080/",
          "height": 350
        },
        "id": "1pDjO9lYRzty",
        "outputId": "13dbd9bb-e6cb-46ed-a702-20bdae9f85b0"
      },
      "source": [
        "plt.figure(figsize=(10,5))\n",
        "plt.title(\"Testing Accuracy during Training\")\n",
        "plt.plot(accuracies,label=\"Testing Accuracy\")\n",
        "plt.xlabel(\"iterations\")\n",
        "plt.ylabel(\"Accuracy\")\n",
        "plt.legend()\n",
        "plt.show()"
      ],
      "execution_count": 17,
      "outputs": [
        {
          "output_type": "display_data",
          "data": {
            "image/png": "[encoded data removed]",
            "text/plain": [
              "<Figure size 720x360 with 1 Axes>"
            ]
          },
          "metadata": {
            "tags": [],
            "needs_background": "light"
          }
        }
      ]
    },
    {
      "cell_type": "markdown",
      "metadata": {
        "id": "_xe9DLCyR88_"
      },
      "source": [
        "### Calculate F1 Score"
      ]
    },
    {
      "cell_type": "code",
      "metadata": {
        "id": "Tl8NPHT0R30i"
      },
      "source": [
        "def accuracy(pred, target):\n",
        "    # Computes the accuracy of predictions.\n",
        "    return round((pred == target).sum().item() / target.numel(), 4)\n",
        "\n",
        "def true_positive(pred, target, num_classes):\n",
        "    # Computes the number of true positive predictions.\n",
        "    out = []\n",
        "    for i in range(num_classes):\n",
        "        out.append(((pred == i) & (target == i)).sum())\n",
        "\n",
        "    return torch.tensor(out)\n",
        "\n",
        "def true_negative(pred, target, num_classes):\n",
        "    # Computes the number of true negative predictions.\n",
        "    out = []\n",
        "    for i in range(num_classes):\n",
        "        out.append(((pred != i) & (target != i)).sum())\n",
        "\n",
        "    return torch.tensor(out)\n",
        "\n",
        "def false_positive(pred, target, num_classes):\n",
        "    # Computes the number of false positive predictions.\n",
        "    out = []\n",
        "    for i in range(num_classes):\n",
        "        out.append(((pred == i) & (target != i)).sum())\n",
        "\n",
        "    return torch.tensor(out)\n",
        "\n",
        "def false_negative(pred, target, num_classes):\n",
        "    # Computes the number of false negative predictions.\n",
        "    out = []\n",
        "    for i in range(num_classes):\n",
        "        out.append(((pred != i) & (target == i)).sum())\n",
        "\n",
        "    return torch.tensor(out)\n",
        "\n",
        "def precision(pred, target, num_classes):\n",
        "    # Computes the precision\n",
        "    tp = true_positive(pred, target, num_classes).to(torch.float)\n",
        "    fp = false_positive(pred, target, num_classes).to(torch.float)\n",
        "\n",
        "    out = tp / (tp + fp)\n",
        "    out[torch.isnan(out)] = 0\n",
        "\n",
        "    return out\n",
        "\n",
        "def recall(pred, target, num_classes):\n",
        "    # Computes the recall\n",
        "    tp = true_positive(pred, target, num_classes).to(torch.float)\n",
        "    fn = false_negative(pred, target, num_classes).to(torch.float)\n",
        "\n",
        "    out = tp / (tp + fn)\n",
        "    out[torch.isnan(out)] = 0\n",
        "\n",
        "    return out\n",
        "\n",
        "def f1_score(pred, target, num_classes):\n",
        "    # Computes the F1 score\n",
        "    prec = precision(pred, target, num_classes)\n",
        "    rec = recall(pred, target, num_classes)\n",
        "\n",
        "    score = 2 * (prec * rec) / (prec + rec)\n",
        "    score[torch.isnan(score)] = 0\n",
        "\n",
        "    return score"
      ],
      "execution_count": 18,
      "outputs": []
    },
    {
      "cell_type": "code",
      "metadata": {
        "colab": {
          "base_uri": "https://localhost:8080/"
        },
        "id": "BWDSnSTjR35X",
        "outputId": "87d5116f-9005-470e-cbec-5d094ce69b2f"
      },
      "source": [
        "final_test_loader = DataLoader(dataset_test, collate_fn=Batch.collate(), batch_size=len(dataset_test))\n",
        "\n",
        "gnn_model.eval()\n",
        "for batch in final_test_loader:\n",
        "    batch.to(\"cuda\")\n",
        "    logits = gnn_model(batch)\n",
        "    pred = logits[batch.node_label_index].max(1)[1]\n",
        "    \n",
        "    f1 = f1_score(pred, batch.node_label, num_classes)\n",
        "    print(f1)\n",
        "\n",
        "    testing_accuracy = accuracy(pred, batch.node_label)\n",
        "    print(f\"Accuracy on the whole testing set is: {testing_accuracy}\")"
      ],
      "execution_count": 19,
      "outputs": [
        {
          "output_type": "stream",
          "text": [
            "tensor([0.6722, 0.4350, 0.6719])\n",
            "Accuracy on the whole testing set is: 0.6\n"
          ],
          "name": "stdout"
        }
      ]
    }
  ]
}
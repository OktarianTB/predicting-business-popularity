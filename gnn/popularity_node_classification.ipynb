{
  "nbformat": 4,
  "nbformat_minor": 0,
  "metadata": {
    "colab": {
      "name": "popularity_node_classification.ipynb",
      "provenance": [],
      "collapsed_sections": [
        "yRbKKXJA9Rgu",
        "G36NeabnYJVb",
        "jS5_KxhsRhMV",
        "_xe9DLCyR88_"
      ]
    },
    "kernelspec": {
      "name": "python3",
      "display_name": "Python 3"
    },
    "language_info": {
      "name": "python"
    },
    "accelerator": "GPU"
  },
  "cells": [
    {
      "cell_type": "markdown",
      "metadata": {
        "id": "qblUM5xVnXwI"
      },
      "source": [
        "# Predicting Business Popularity\n",
        "##### Pytorch Geometric implementation with NetworkX graph"
      ]
    },
    {
      "cell_type": "code",
      "metadata": {
        "colab": {
          "base_uri": "https://localhost:8080/"
        },
        "id": "zYqsoeYGnUQ0",
        "outputId": "9c2ca351-0764-45d4-8fd7-685ff5b0289d"
      },
      "source": [
        "# Install required packages.\n",
        "!pip install -q torch-scatter -f https://pytorch-geometric.com/whl/torch-1.8.0+cu101.html\n",
        "!pip install -q torch-sparse -f https://pytorch-geometric.com/whl/torch-1.8.0+cu101.html\n",
        "!pip install -q torch-cluster -f https://pytorch-geometric.com/whl/torch-1.8.0+cu101.html\n",
        "!pip install -q torch-geometric\n",
        "!pip install -q git+https://github.com/snap-stanford/deepsnap.git"
      ],
      "execution_count": null,
      "outputs": [
        {
          "output_type": "stream",
          "text": [
            "\u001b[K     |████████████████████████████████| 2.6MB 44.2MB/s \n",
            "\u001b[K     |████████████████████████████████| 1.5MB 16.9MB/s \n",
            "\u001b[K     |████████████████████████████████| 1.0MB 516kB/s \n",
            "\u001b[K     |████████████████████████████████| 215kB 26.2MB/s \n",
            "\u001b[K     |████████████████████████████████| 235kB 44.0MB/s \n",
            "\u001b[K     |████████████████████████████████| 2.2MB 50.8MB/s \n",
            "\u001b[K     |████████████████████████████████| 51kB 9.1MB/s \n",
            "\u001b[?25h  Building wheel for torch-geometric (setup.py) ... \u001b[?25l\u001b[?25hdone\n",
            "  Building wheel for deepsnap (setup.py) ... \u001b[?25l\u001b[?25hdone\n"
          ],
          "name": "stdout"
        }
      ]
    },
    {
      "cell_type": "code",
      "metadata": {
        "id": "z-ABYVKzIBey"
      },
      "source": [
        "import torch\n",
        "import torch.nn as nn\n",
        "import torch.nn.functional as F\n",
        "import torch.optim as optim\n",
        "from torch.utils.data import DataLoader\n",
        "import torch_geometric.nn as pyg_nn\n",
        "import torch_geometric.transforms as pyg_transforms\n",
        "import torch_cluster\n",
        "\n",
        "import networkx as nx\n",
        "from deepsnap.graph import Graph\n",
        "from deepsnap.batch import Batch\n",
        "from deepsnap.dataset import GraphDataset\n",
        "\n",
        "%matplotlib inline\n",
        "import matplotlib.pyplot as plt"
      ],
      "execution_count": null,
      "outputs": []
    },
    {
      "cell_type": "code",
      "metadata": {
        "colab": {
          "base_uri": "https://localhost:8080/"
        },
        "id": "tj04yyTQnyVy",
        "outputId": "7f50534b-df07-4723-a90f-1218f43884e7"
      },
      "source": [
        "from google.colab import drive\n",
        "drive.mount('/content/drive')"
      ],
      "execution_count": null,
      "outputs": [
        {
          "output_type": "stream",
          "text": [
            "Mounted at /content/drive\n"
          ],
          "name": "stdout"
        }
      ]
    },
    {
      "cell_type": "markdown",
      "metadata": {
        "id": "6-SbFnpP4UW5"
      },
      "source": [
        "## Creating the network graph datasets\n",
        "\n",
        "We use NetworkX to read and parse the graph into train/validate/test sets. We load these into DataLoader to use mini-batching."
      ]
    },
    {
      "cell_type": "code",
      "metadata": {
        "id": "wqrP8jo8nyeF"
      },
      "source": [
        "G = nx.read_gpickle(\"./drive/MyDrive/Colab Notebooks/restaurant_graph/restaurants_user_influence.gpickle\")"
      ],
      "execution_count": null,
      "outputs": []
    },
    {
      "cell_type": "code",
      "metadata": {
        "colab": {
          "base_uri": "https://localhost:8080/"
        },
        "id": "DejVQEGxphK3",
        "outputId": "01142efd-37d7-4468-bdfb-ff56c5d93c76"
      },
      "source": [
        "print(f\"Number of nodes: {G.number_of_nodes()}\")\n",
        "print(f\"Number of edges: {G.number_of_edges()}\")"
      ],
      "execution_count": null,
      "outputs": [
        {
          "output_type": "stream",
          "text": [
            "Number of nodes: 29963\n",
            "Number of edges: 491371\n"
          ],
          "name": "stdout"
        }
      ]
    },
    {
      "cell_type": "code",
      "metadata": {
        "id": "nJdPl2F6Jiz7"
      },
      "source": [
        "H = Graph(G)\n",
        "dataset = GraphDataset(graphs=[H], task='node')"
      ],
      "execution_count": null,
      "outputs": []
    },
    {
      "cell_type": "code",
      "metadata": {
        "colab": {
          "base_uri": "https://localhost:8080/"
        },
        "id": "-pzvM8E_O6aW",
        "outputId": "993fa427-164e-4dbb-d85e-43e6116c2ab3"
      },
      "source": [
        "print(dataset.graphs[0])"
      ],
      "execution_count": null,
      "outputs": [
        {
          "output_type": "stream",
          "text": [
            "Graph(G=[], edge_index=[2, 982742], edge_label_index=[2, 982742], node_feature=[29963, 539], node_label=[29963], node_label_index=[29963], node_type=[29963], task=[])\n"
          ],
          "name": "stdout"
        }
      ]
    },
    {
      "cell_type": "code",
      "metadata": {
        "colab": {
          "base_uri": "https://localhost:8080/"
        },
        "id": "XhLKoKmeUx68",
        "outputId": "8b929d79-5b8d-4307-9629-3c863997d811"
      },
      "source": [
        "dataset.graphs[0].node_label = torch.LongTensor(dataset.graphs[0].node_label)\n",
        "print(dataset.graphs[0].node_label)\n",
        "print(dataset.graphs[0].node_label_index)"
      ],
      "execution_count": null,
      "outputs": [
        {
          "output_type": "stream",
          "text": [
            "tensor([2, 2, 1,  ..., 2, 2, 1])\n",
            "tensor([    0,     1,     2,  ..., 29960, 29961, 29962])\n"
          ],
          "name": "stdout"
        }
      ]
    },
    {
      "cell_type": "code",
      "metadata": {
        "colab": {
          "base_uri": "https://localhost:8080/"
        },
        "id": "Hl7KGLQPg5Nz",
        "outputId": "da6321d9-12a9-4079-e0fb-c86c72ec85ef"
      },
      "source": [
        "dataset_train, dataset_val, dataset_test = dataset.split(transductive=True, split_ratio=[0.8, 0.1, 0.1], shuffle=True)\n",
        "\n",
        "train_loader = DataLoader(dataset_train, collate_fn=Batch.collate(), batch_size=16)\n",
        "val_loader = DataLoader(dataset_val, collate_fn=Batch.collate(), batch_size=16)\n",
        "test_loader = DataLoader(dataset_test, collate_fn=Batch.collate(), batch_size=16)\n",
        "\n",
        "num_node_features = dataset_train.num_node_features\n",
        "num_classes = dataset_train.num_node_labels\n",
        "print(f\"There are {num_node_features} features and {num_classes} labels.\")"
      ],
      "execution_count": null,
      "outputs": [
        {
          "output_type": "stream",
          "text": [
            "There are 539 features and 3 labels.\n"
          ],
          "name": "stdout"
        }
      ]
    },
    {
      "cell_type": "markdown",
      "metadata": {
        "id": "yRbKKXJA9Rgu"
      },
      "source": [
        "## Training a Multi-layer Perception Network (MLP)\n",
        "\n",
        "In theory, we should be able to infer the popularity category, without taking any relational information into account.\n",
        "\n",
        "Let's verify that by constructing a simple MLP that solely operates on input node features (using shared weights across all nodes):"
      ]
    },
    {
      "cell_type": "code",
      "metadata": {
        "id": "BCG2l3CeovKG",
        "colab": {
          "base_uri": "https://localhost:8080/"
        },
        "outputId": "cbdf5f5b-87cd-4bbd-e763-61ab695fb199"
      },
      "source": [
        "class MLP(torch.nn.Module):\n",
        "    def __init__(self, hidden_channels):\n",
        "        super(MLP, self).__init__()\n",
        "        torch.manual_seed(12345)\n",
        "        self.lin1 = nn.Linear(num_node_features, hidden_channels)\n",
        "        self.lin2 = nn.Linear(hidden_channels, num_classes)\n",
        "\n",
        "    def forward(self, x):\n",
        "        x = self.lin1(x)\n",
        "        x = x.relu()\n",
        "        x = F.dropout(x, p=0.5, training=self.training)\n",
        "        x = self.lin2(x)\n",
        "        return x\n",
        "\n",
        "model = MLP(hidden_channels=16)\n",
        "print(model)"
      ],
      "execution_count": null,
      "outputs": [
        {
          "output_type": "stream",
          "text": [
            "MLP(\n",
            "  (lin1): Linear(in_features=539, out_features=16, bias=True)\n",
            "  (lin2): Linear(in_features=16, out_features=3, bias=True)\n",
            ")\n"
          ],
          "name": "stdout"
        }
      ]
    },
    {
      "cell_type": "markdown",
      "metadata": {
        "id": "z3f2Gdnj_kys"
      },
      "source": [
        "Our MLP is defined by two linear layers and enhanced by [ReLU](https://pytorch.org/docs/stable/generated/torch.nn.ReLU.html?highlight=relu#torch.nn.ReLU) non-linearity and [dropout](https://pytorch.org/docs/stable/generated/torch.nn.Dropout.html?highlight=dropout#torch.nn.Dropout).\n",
        "Here, we first reduce the 1433-dimensional feature vector to a low-dimensional embedding (`hidden_channels=16`), while the second linear layer acts as a classifier that should map each low-dimensional node embedding to one of the 7 classes.\n",
        "\n",
        "Let's train our simple MLP by following a similar procedure as described in [the first part of this tutorial](https://colab.research.google.com/drive/1h3-vJGRVloF5zStxL5I0rSy4ZUPNsjy8).\n",
        "We again make use of the **cross entropy loss** and **Adam optimizer**.\n",
        "This time, we also define a **`test` function** to evaluate how well our final model performs on the test node set (which labels have not been observed during training)."
      ]
    },
    {
      "cell_type": "code",
      "metadata": {
        "colab": {
          "base_uri": "https://localhost:8080/"
        },
        "id": "p1RXBrSGMRUq",
        "outputId": "2985c8f4-bac5-4979-834c-3b2764e7bcd1"
      },
      "source": [
        "x = dataset.graphs[0].node_feature\n",
        "y = dataset.graphs[0].node_label\n",
        "\n",
        "print(x.size())\n",
        "print(y.size())"
      ],
      "execution_count": null,
      "outputs": [
        {
          "output_type": "stream",
          "text": [
            "torch.Size([29963, 539])\n",
            "torch.Size([29963])\n"
          ],
          "name": "stdout"
        }
      ]
    },
    {
      "cell_type": "code",
      "metadata": {
        "colab": {
          "base_uri": "https://localhost:8080/"
        },
        "id": "49RWYzgAPPNo",
        "outputId": "cfaedee1-9e53-4ecc-ebbb-71de62002c7d"
      },
      "source": [
        "import numpy as np\n",
        "\n",
        "mask = np.random.rand(1, y.size()[0])\n",
        "\n",
        "train_mask = (mask < 0.9)[0]\n",
        "test_mask = (mask >= 0.9)[0]\n",
        "\n",
        "print(train_mask)\n",
        "print(test_mask)"
      ],
      "execution_count": null,
      "outputs": [
        {
          "output_type": "stream",
          "text": [
            "[ True  True  True ... False  True  True]\n",
            "[False False False ...  True False False]\n"
          ],
          "name": "stdout"
        }
      ]
    },
    {
      "cell_type": "code",
      "metadata": {
        "colab": {
          "base_uri": "https://localhost:8080/",
          "height": 300
        },
        "id": "qD6iAX_e9bz4",
        "outputId": "15a7125f-8ad0-4c38-aa0a-576e98dd19cd"
      },
      "source": [
        "from IPython.display import Javascript  # Restrict height of output cell.\n",
        "display(Javascript('''google.colab.output.setIframeHeight(0, true, {maxHeight: 300})'''))\n",
        "\n",
        "model = MLP(hidden_channels=16)\n",
        "criterion = torch.nn.CrossEntropyLoss()  # Define loss criterion.\n",
        "optimizer = torch.optim.Adam(model.parameters(), lr=0.01, weight_decay=5e-4)  # Define optimizer.\n",
        "\n",
        "def train():\n",
        "      model.train()\n",
        "      optimizer.zero_grad()  # Clear gradients.\n",
        "      out = model(x)  # Perform a single forward pass.\n",
        "      loss = criterion(out[train_mask], y[train_mask])  # Compute the loss solely based on the training nodes.\n",
        "      loss.backward()  # Derive gradients.\n",
        "      optimizer.step()  # Update parameters based on gradients.\n",
        "      return loss\n",
        "\n",
        "def test():\n",
        "      model.eval()\n",
        "      out = model(x)\n",
        "      pred = out.argmax(dim=1)  # Use the class with highest probability.\n",
        "      test_correct = pred[test_mask] == y[test_mask]  # Check against ground-truth labels.\n",
        "      test_acc = int(test_correct.sum()) / int(test_mask.sum())  # Derive ratio of correct predictions.\n",
        "      return test_acc\n",
        "\n",
        "for epoch in range(1, 500):\n",
        "    loss = train()\n",
        "    if epoch % 5 == 0:\n",
        "      print(f'Epoch: {epoch:03d}, Loss: {loss:.4f}')"
      ],
      "execution_count": null,
      "outputs": [
        {
          "output_type": "display_data",
          "data": {
            "application/javascript": [
              "google.colab.output.setIframeHeight(0, true, {maxHeight: 300})"
            ],
            "text/plain": [
              "<IPython.core.display.Javascript object>"
            ]
          },
          "metadata": {
            "tags": []
          }
        },
        {
          "output_type": "stream",
          "text": [
            "Epoch: 005, Loss: 0.9924\n",
            "Epoch: 010, Loss: 0.9098\n",
            "Epoch: 015, Loss: 0.8467\n",
            "Epoch: 020, Loss: 0.8072\n",
            "Epoch: 025, Loss: 0.7907\n",
            "Epoch: 030, Loss: 0.7714\n",
            "Epoch: 035, Loss: 0.7664\n",
            "Epoch: 040, Loss: 0.7591\n",
            "Epoch: 045, Loss: 0.7504\n",
            "Epoch: 050, Loss: 0.7438\n",
            "Epoch: 055, Loss: 0.7387\n",
            "Epoch: 060, Loss: 0.7367\n",
            "Epoch: 065, Loss: 0.7362\n",
            "Epoch: 070, Loss: 0.7339\n",
            "Epoch: 075, Loss: 0.7269\n",
            "Epoch: 080, Loss: 0.7290\n",
            "Epoch: 085, Loss: 0.7233\n",
            "Epoch: 090, Loss: 0.7252\n",
            "Epoch: 095, Loss: 0.7231\n",
            "Epoch: 100, Loss: 0.7195\n",
            "Epoch: 105, Loss: 0.7193\n",
            "Epoch: 110, Loss: 0.7170\n",
            "Epoch: 115, Loss: 0.7164\n",
            "Epoch: 120, Loss: 0.7158\n",
            "Epoch: 125, Loss: 0.7139\n",
            "Epoch: 130, Loss: 0.7143\n",
            "Epoch: 135, Loss: 0.7136\n",
            "Epoch: 140, Loss: 0.7111\n",
            "Epoch: 145, Loss: 0.7122\n",
            "Epoch: 150, Loss: 0.7122\n",
            "Epoch: 155, Loss: 0.7141\n",
            "Epoch: 160, Loss: 0.7124\n",
            "Epoch: 165, Loss: 0.7120\n",
            "Epoch: 170, Loss: 0.7086\n",
            "Epoch: 175, Loss: 0.7130\n",
            "Epoch: 180, Loss: 0.7081\n",
            "Epoch: 185, Loss: 0.7082\n",
            "Epoch: 190, Loss: 0.7052\n",
            "Epoch: 195, Loss: 0.7062\n",
            "Epoch: 200, Loss: 0.7046\n",
            "Epoch: 205, Loss: 0.7063\n",
            "Epoch: 210, Loss: 0.7075\n",
            "Epoch: 215, Loss: 0.7043\n",
            "Epoch: 220, Loss: 0.7031\n",
            "Epoch: 225, Loss: 0.7038\n",
            "Epoch: 230, Loss: 0.7041\n",
            "Epoch: 235, Loss: 0.7039\n",
            "Epoch: 240, Loss: 0.7032\n",
            "Epoch: 245, Loss: 0.7044\n",
            "Epoch: 250, Loss: 0.7055\n",
            "Epoch: 255, Loss: 0.7050\n",
            "Epoch: 260, Loss: 0.7015\n",
            "Epoch: 265, Loss: 0.7039\n",
            "Epoch: 270, Loss: 0.7048\n",
            "Epoch: 275, Loss: 0.7038\n",
            "Epoch: 280, Loss: 0.7013\n",
            "Epoch: 285, Loss: 0.7024\n",
            "Epoch: 290, Loss: 0.7013\n",
            "Epoch: 295, Loss: 0.7009\n",
            "Epoch: 300, Loss: 0.7026\n",
            "Epoch: 305, Loss: 0.7060\n",
            "Epoch: 310, Loss: 0.7037\n",
            "Epoch: 315, Loss: 0.6985\n",
            "Epoch: 320, Loss: 0.7015\n",
            "Epoch: 325, Loss: 0.6981\n",
            "Epoch: 330, Loss: 0.7031\n",
            "Epoch: 335, Loss: 0.6995\n",
            "Epoch: 340, Loss: 0.7031\n",
            "Epoch: 345, Loss: 0.7012\n",
            "Epoch: 350, Loss: 0.6987\n",
            "Epoch: 355, Loss: 0.7020\n",
            "Epoch: 360, Loss: 0.7001\n",
            "Epoch: 365, Loss: 0.6989\n",
            "Epoch: 370, Loss: 0.6965\n",
            "Epoch: 375, Loss: 0.7024\n",
            "Epoch: 380, Loss: 0.7002\n",
            "Epoch: 385, Loss: 0.6999\n",
            "Epoch: 390, Loss: 0.6992\n",
            "Epoch: 395, Loss: 0.6998\n",
            "Epoch: 400, Loss: 0.6980\n",
            "Epoch: 405, Loss: 0.7023\n",
            "Epoch: 410, Loss: 0.7016\n",
            "Epoch: 415, Loss: 0.7012\n",
            "Epoch: 420, Loss: 0.6968\n",
            "Epoch: 425, Loss: 0.7039\n",
            "Epoch: 430, Loss: 0.6981\n",
            "Epoch: 435, Loss: 0.6977\n",
            "Epoch: 440, Loss: 0.6979\n",
            "Epoch: 445, Loss: 0.7025\n",
            "Epoch: 450, Loss: 0.6947\n",
            "Epoch: 455, Loss: 0.6985\n",
            "Epoch: 460, Loss: 0.6978\n",
            "Epoch: 465, Loss: 0.7022\n",
            "Epoch: 470, Loss: 0.6989\n",
            "Epoch: 475, Loss: 0.7002\n",
            "Epoch: 480, Loss: 0.6969\n",
            "Epoch: 485, Loss: 0.6987\n",
            "Epoch: 490, Loss: 0.6969\n",
            "Epoch: 495, Loss: 0.6961\n"
          ],
          "name": "stdout"
        }
      ]
    },
    {
      "cell_type": "markdown",
      "metadata": {
        "id": "AsnhGADw_v8N"
      },
      "source": [
        "After training the model, we can call the `test` function to see how well our model performs on unseen labels.\n",
        "Here, we are interested in the accuracy of the model, *i.e.*, the ratio of correctly classified nodes:"
      ]
    },
    {
      "cell_type": "code",
      "metadata": {
        "colab": {
          "base_uri": "https://localhost:8080/"
        },
        "id": "wId7_-jW_ehn",
        "outputId": "c20f0f1c-fa6d-4f8c-d83f-60f383ad6cac"
      },
      "source": [
        "test_acc = test()\n",
        "print(f'Test Accuracy: {test_acc:.4f}')"
      ],
      "execution_count": null,
      "outputs": [
        {
          "output_type": "stream",
          "text": [
            "Test Accuracy: 0.6932\n"
          ],
          "name": "stdout"
        }
      ]
    },
    {
      "cell_type": "markdown",
      "metadata": {
        "id": "G36NeabnYJVb"
      },
      "source": [
        "## Logistic Regression"
      ]
    },
    {
      "cell_type": "code",
      "metadata": {
        "id": "60OInsDNYI9w"
      },
      "source": [
        "from sklearn import datasets\n",
        "from sklearn import model_selection\n",
        "from sklearn import linear_model\n",
        "from sklearn import metrics"
      ],
      "execution_count": null,
      "outputs": []
    },
    {
      "cell_type": "code",
      "metadata": {
        "id": "uX-Fo1MnYW8Y"
      },
      "source": [
        "X_train, X_test, y_train, y_test = model_selection.train_test_split(x, y, test_size= 0.2, random_state = 1)"
      ],
      "execution_count": null,
      "outputs": []
    },
    {
      "cell_type": "code",
      "metadata": {
        "colab": {
          "base_uri": "https://localhost:8080/"
        },
        "id": "4JYY9VyRYW-f",
        "outputId": "0e00d27a-15e9-46c9-fdc9-84d1f25bf42a"
      },
      "source": [
        "lm = linear_model.LogisticRegression(multi_class='ovr', solver='liblinear')\n",
        "lm.fit(X_train, y_train)"
      ],
      "execution_count": null,
      "outputs": [
        {
          "output_type": "execute_result",
          "data": {
            "text/plain": [
              "LogisticRegression(C=1.0, class_weight=None, dual=False, fit_intercept=True,\n",
              "                   intercept_scaling=1, l1_ratio=None, max_iter=100,\n",
              "                   multi_class='ovr', n_jobs=None, penalty='l2',\n",
              "                   random_state=None, solver='liblinear', tol=0.0001, verbose=0,\n",
              "                   warm_start=False)"
            ]
          },
          "metadata": {
            "tags": []
          },
          "execution_count": 28
        }
      ]
    },
    {
      "cell_type": "code",
      "metadata": {
        "colab": {
          "base_uri": "https://localhost:8080/"
        },
        "id": "WjuNGYjnYjEK",
        "outputId": "3d8a32c8-7ede-493f-bb57-8b2160e72926"
      },
      "source": [
        "lm.score(X_test, y_test)"
      ],
      "execution_count": null,
      "outputs": [
        {
          "output_type": "execute_result",
          "data": {
            "text/plain": [
              "0.6686133822793259"
            ]
          },
          "metadata": {
            "tags": []
          },
          "execution_count": 29
        }
      ]
    },
    {
      "cell_type": "markdown",
      "metadata": {
        "id": "8yzxxbjcACGM"
      },
      "source": [
        "## Training a Graph Neural Network (GNN)\n",
        "\n",
        "We can easily convert our MLP to a GNN by swapping the `torch.nn.Linear` layers with PyG's GNN operators.\n"
      ]
    },
    {
      "cell_type": "code",
      "metadata": {
        "id": "JCLoB6j6_wt8"
      },
      "source": [
        "class GNN(torch.nn.Module):\n",
        "    def __init__(self, input_size, hidden_size, output_size, args):\n",
        "        super(GNN, self).__init__()\n",
        "        self.num_layers = args[\"num_layers\"]\n",
        "\n",
        "        conv_model = self.build_conv_model(args[\"model\"])\n",
        "        self.convs = nn.ModuleList()\n",
        "        self.convs.append(conv_model(input_size, hidden_size, aggr=\"max\"))\n",
        "\n",
        "        for l in range(self.num_layers - 1):\n",
        "            self.convs.append(conv_model(hidden_size, hidden_size, aggr=\"max\"))\n",
        "        self.post_mp = nn.Linear(hidden_size, output_size)\n",
        "\n",
        "    def forward(self, data):\n",
        "        x, edge_index, node_label_index, batch = data.node_feature, data.edge_index, data.node_label_index, data.batch\n",
        "\n",
        "        for i in range(len(self.convs) - 1):\n",
        "            x = self.convs[i](x, edge_index)\n",
        "            x = F.leaky_relu(x)\n",
        "            x = F.dropout(x, p=0.5, training=self.training)\n",
        "        x = self.convs[-1](x, edge_index)\n",
        "        x = F.log_softmax(x, dim=1)\n",
        "        return x\n",
        "\n",
        "    def loss(self, pred, label):\n",
        "        return F.nll_loss(pred, label)\n",
        "\n",
        "    def build_conv_model(self, model_type):\n",
        "        if model_type == 'GCN':\n",
        "            return pyg_nn.GCNConv\n",
        "        elif model_type == 'GAT':\n",
        "            return pyg_nn.GATConv\n",
        "        elif model_type == \"GraphSage\":\n",
        "            return pyg_nn.SAGEConv\n",
        "        elif model_type == \"TransformerConv\":\n",
        "            return pyg_nn.TransformerConv\n",
        "        else:\n",
        "            raise ValueError(\n",
        "                \"Model {} unavailable, please add it to GNN.build_conv_model.\".format(model_type))"
      ],
      "execution_count": null,
      "outputs": []
    },
    {
      "cell_type": "code",
      "metadata": {
        "id": "vYPyeWfCCugm"
      },
      "source": [
        "def train_gnn(train_loader, val_loader, test_loader, args, num_node_features, num_classes,\n",
        "          device=\"cpu\"):\n",
        "    model = GNN(num_node_features, args['hidden_size'], num_classes, args).to(device)\n",
        "    print(model)\n",
        "    optimizer = torch.optim.Adam(model.parameters(), lr=args['lr'], weight_decay=5e-4)\n",
        "    losses = []\n",
        "    accuracies = [[], [], []] # train / validate / test\n",
        "\n",
        "    for epoch in range(1, args['epochs']+1):\n",
        "        total_loss = 0\n",
        "        model.train()\n",
        "        for batch in train_loader:\n",
        "            batch.to(device)\n",
        "            optimizer.zero_grad()\n",
        "            pred = model(batch)\n",
        "            label = batch.node_label\n",
        "            loss = model.loss(pred[batch.node_label_index], label)\n",
        "            total_loss += loss.item()\n",
        "            loss.backward()\n",
        "            optimizer.step()\n",
        "\n",
        "        train_acc = test_gnn(train_loader, model, device)\n",
        "        val_acc = test_gnn(val_loader, model, device)\n",
        "        test_acc = test_gnn(test_loader, model, device)\n",
        "\n",
        "        if epoch % 5 == 0:\n",
        "          print(f\"Epoch {epoch}: Train: {train_acc:.4f}, Validation: {val_acc:.4f}. Test: {test_acc:.4f}, Loss: {total_loss:.4f}\")\n",
        "\n",
        "        losses.append(round(total_loss, 4))\n",
        "        accuracies[0].append(train_acc)\n",
        "        accuracies[1].append(val_acc)\n",
        "        accuracies[2].append(test_acc)\n",
        "\n",
        "    return (model, losses, accuracies)\n",
        "\n",
        "def test_gnn(loader, model, device='cuda'):\n",
        "    model.eval()\n",
        "    for batch in loader:\n",
        "        batch.to(device)\n",
        "        logits = model(batch)\n",
        "        pred = logits[batch.node_label_index].max(1)[1]\n",
        "        acc = pred.eq(batch.node_label).sum().item()\n",
        "        total = batch.node_label_index.shape[0]\n",
        "        acc /= total\n",
        "    return acc"
      ],
      "execution_count": null,
      "outputs": []
    },
    {
      "cell_type": "code",
      "metadata": {
        "colab": {
          "base_uri": "https://localhost:8080/",
          "height": 250
        },
        "id": "iRg7AX6nEjc2",
        "outputId": "bc35285c-9f18-42d3-8fda-b2f8d9b85b81"
      },
      "source": [
        "from IPython.display import Javascript  # Restrict height of output cell.\n",
        "display(Javascript('''google.colab.output.setIframeHeight(0, true, {maxHeight: 250})'''))\n",
        "\n",
        "args = {\n",
        "    \"device\" : 'cuda' if torch.cuda.is_available() else 'cpu',\n",
        "    \"hidden_size\" : 64,\n",
        "    \"epochs\" : 250,\n",
        "    \"lr\" : 0.01,\n",
        "    \"num_layers\": 2,\n",
        "    \"model\": \"GraphSage\" # [GraphSage, GAT, GCN, TransformerConv]\n",
        "}\n",
        "\n",
        "gnn_model, losses, accuracies = train_gnn(train_loader, val_loader, test_loader, args, num_node_features, num_classes, args[\"device\"])"
      ],
      "execution_count": null,
      "outputs": [
        {
          "output_type": "display_data",
          "data": {
            "application/javascript": [
              "google.colab.output.setIframeHeight(0, true, {maxHeight: 250})"
            ],
            "text/plain": [
              "<IPython.core.display.Javascript object>"
            ]
          },
          "metadata": {
            "tags": []
          }
        },
        {
          "output_type": "stream",
          "text": [
            "GNN(\n",
            "  (convs): ModuleList(\n",
            "    (0): SAGEConv(539, 64)\n",
            "    (1): SAGEConv(64, 64)\n",
            "  )\n",
            "  (post_mp): Linear(in_features=64, out_features=3, bias=True)\n",
            ")\n",
            "Epoch 5: Train: 0.4417, Validation: 0.4476. Test: 0.4438, Loss: 4.2463\n",
            "Epoch 10: Train: 0.4751, Validation: 0.4656. Test: 0.4808, Loss: 1.7976\n",
            "Epoch 15: Train: 0.4888, Validation: 0.4927. Test: 0.5032, Loss: 1.6576\n",
            "Epoch 20: Train: 0.5196, Validation: 0.5130. Test: 0.5249, Loss: 1.2882\n",
            "Epoch 25: Train: 0.4983, Validation: 0.4910. Test: 0.5045, Loss: 1.2357\n",
            "Epoch 30: Train: 0.4864, Validation: 0.4710. Test: 0.4795, Loss: 1.0936\n",
            "Epoch 35: Train: 0.5007, Validation: 0.5010. Test: 0.5038, Loss: 1.0322\n",
            "Epoch 40: Train: 0.5428, Validation: 0.5257. Test: 0.5422, Loss: 0.9925\n",
            "Epoch 45: Train: 0.5602, Validation: 0.5454. Test: 0.5569, Loss: 0.9785\n",
            "Epoch 50: Train: 0.5700, Validation: 0.5631. Test: 0.5716, Loss: 0.9579\n",
            "Epoch 55: Train: 0.6018, Validation: 0.5948. Test: 0.5996, Loss: 0.9291\n",
            "Epoch 60: Train: 0.6117, Validation: 0.6088. Test: 0.6210, Loss: 0.9066\n",
            "Epoch 65: Train: 0.6080, Validation: 0.6038. Test: 0.6116, Loss: 0.9134\n",
            "Epoch 70: Train: 0.6183, Validation: 0.6168. Test: 0.6196, Loss: 0.8876\n",
            "Epoch 75: Train: 0.6323, Validation: 0.6258. Test: 0.6376, Loss: 0.8711\n",
            "Epoch 80: Train: 0.6307, Validation: 0.6302. Test: 0.6356, Loss: 0.8646\n",
            "Epoch 85: Train: 0.6502, Validation: 0.6439. Test: 0.6527, Loss: 0.8525\n",
            "Epoch 90: Train: 0.6476, Validation: 0.6429. Test: 0.6473, Loss: 0.8390\n",
            "Epoch 95: Train: 0.6507, Validation: 0.6449. Test: 0.6527, Loss: 0.8331\n",
            "Epoch 100: Train: 0.6588, Validation: 0.6429. Test: 0.6547, Loss: 0.8283\n",
            "Epoch 105: Train: 0.6627, Validation: 0.6512. Test: 0.6610, Loss: 0.8161\n",
            "Epoch 110: Train: 0.6569, Validation: 0.6519. Test: 0.6663, Loss: 0.8108\n",
            "Epoch 115: Train: 0.6426, Validation: 0.6342. Test: 0.6406, Loss: 0.8338\n",
            "Epoch 120: Train: 0.6669, Validation: 0.6642. Test: 0.6643, Loss: 0.8211\n",
            "Epoch 125: Train: 0.6622, Validation: 0.6522. Test: 0.6700, Loss: 0.8275\n",
            "Epoch 130: Train: 0.6693, Validation: 0.6646. Test: 0.6677, Loss: 0.7945\n",
            "Epoch 135: Train: 0.6695, Validation: 0.6682. Test: 0.6740, Loss: 0.7876\n",
            "Epoch 140: Train: 0.6742, Validation: 0.6676. Test: 0.6687, Loss: 0.7763\n",
            "Epoch 145: Train: 0.6679, Validation: 0.6615. Test: 0.6697, Loss: 0.7883\n",
            "Epoch 150: Train: 0.6769, Validation: 0.6649. Test: 0.6723, Loss: 0.7794\n",
            "Epoch 155: Train: 0.6756, Validation: 0.6639. Test: 0.6777, Loss: 0.7759\n",
            "Epoch 160: Train: 0.6786, Validation: 0.6689. Test: 0.6740, Loss: 0.7788\n",
            "Epoch 165: Train: 0.6816, Validation: 0.6796. Test: 0.6810, Loss: 0.7725\n",
            "Epoch 170: Train: 0.6773, Validation: 0.6649. Test: 0.6717, Loss: 0.7662\n",
            "Epoch 175: Train: 0.6819, Validation: 0.6779. Test: 0.6770, Loss: 0.7604\n",
            "Epoch 180: Train: 0.6814, Validation: 0.6742. Test: 0.6780, Loss: 0.7607\n",
            "Epoch 185: Train: 0.6837, Validation: 0.6752. Test: 0.6840, Loss: 0.7522\n",
            "Epoch 190: Train: 0.6843, Validation: 0.6746. Test: 0.6850, Loss: 0.7501\n",
            "Epoch 195: Train: 0.6845, Validation: 0.6759. Test: 0.6733, Loss: 0.7454\n",
            "Epoch 200: Train: 0.6838, Validation: 0.6702. Test: 0.6710, Loss: 0.7443\n",
            "Epoch 205: Train: 0.6880, Validation: 0.6819. Test: 0.6767, Loss: 0.7397\n",
            "Epoch 210: Train: 0.6886, Validation: 0.6752. Test: 0.6787, Loss: 0.7321\n",
            "Epoch 215: Train: 0.6913, Validation: 0.6812. Test: 0.6817, Loss: 0.7327\n",
            "Epoch 220: Train: 0.6865, Validation: 0.6702. Test: 0.6737, Loss: 0.7339\n",
            "Epoch 225: Train: 0.6632, Validation: 0.6539. Test: 0.6523, Loss: 0.7554\n",
            "Epoch 230: Train: 0.6647, Validation: 0.6599. Test: 0.6603, Loss: 0.7532\n",
            "Epoch 235: Train: 0.6565, Validation: 0.6452. Test: 0.6456, Loss: 0.7739\n",
            "Epoch 240: Train: 0.6782, Validation: 0.6662. Test: 0.6647, Loss: 0.7707\n",
            "Epoch 245: Train: 0.6866, Validation: 0.6719. Test: 0.6747, Loss: 0.7446\n",
            "Epoch 250: Train: 0.6832, Validation: 0.6762. Test: 0.6790, Loss: 0.7408\n"
          ],
          "name": "stdout"
        }
      ]
    },
    {
      "cell_type": "markdown",
      "metadata": {
        "id": "jS5_KxhsRhMV"
      },
      "source": [
        "### Plotting training data "
      ]
    },
    {
      "cell_type": "code",
      "metadata": {
        "colab": {
          "base_uri": "https://localhost:8080/",
          "height": 350
        },
        "id": "aDMQdzuHRYB2",
        "outputId": "c0574627-3bc5-415e-8fa2-7af06178627a"
      },
      "source": [
        "plt.figure(figsize=(10,5))\n",
        "plt.title(\"Training Loss\")\n",
        "plt.plot(losses, label=\"Training Loss\")\n",
        "plt.xlabel(\"iterations\")\n",
        "plt.ylabel(\"Loss\")\n",
        "plt.legend()\n",
        "plt.show()"
      ],
      "execution_count": null,
      "outputs": [
        {
          "output_type": "display_data",
          "data": {
            "image/png": "[encoded data removed]",
            "text/plain": [
              "<Figure size 720x360 with 1 Axes>"
            ]
          },
          "metadata": {
            "tags": [],
            "needs_background": "light"
          }
        }
      ]
    },
    {
      "cell_type": "code",
      "metadata": {
        "colab": {
          "base_uri": "https://localhost:8080/",
          "height": 350
        },
        "id": "1pDjO9lYRzty",
        "outputId": "6af032cb-ef19-47f7-fe11-0f9cf6ed3f54"
      },
      "source": [
        "plt.figure(figsize=(10,5))\n",
        "plt.title(\"Evolution of Accuracies during Training\")\n",
        "plt.plot(accuracies[0],label=\"Train set\")\n",
        "plt.plot(accuracies[1],label=\"Validate set\")\n",
        "plt.plot(accuracies[2],label=\"Test set\")\n",
        "plt.xlabel(\"iterations\")\n",
        "plt.ylabel(\"Accuracy\")\n",
        "plt.legend()\n",
        "plt.show()"
      ],
      "execution_count": null,
      "outputs": [
        {
          "output_type": "display_data",
          "data": {
            "image/png": "[encoded data removed]",
            "text/plain": [
              "<Figure size 720x360 with 1 Axes>"
            ]
          },
          "metadata": {
            "tags": [],
            "needs_background": "light"
          }
        }
      ]
    },
    {
      "cell_type": "markdown",
      "metadata": {
        "id": "_xe9DLCyR88_"
      },
      "source": [
        "### Classification Report"
      ]
    },
    {
      "cell_type": "code",
      "metadata": {
        "id": "BWDSnSTjR35X"
      },
      "source": [
        "final_test_loader = DataLoader(dataset_test, collate_fn=Batch.collate(), batch_size=len(dataset_test))\n",
        "\n",
        "y_pred = None\n",
        "y_true = None\n",
        "\n",
        "gnn_model.eval()\n",
        "for batch in final_test_loader:\n",
        "    batch.to(\"cuda\")\n",
        "    logits = gnn_model(batch)\n",
        "    y_pred = logits[batch.node_label_index].max(1)[1]\n",
        "    y_true = batch.node_label"
      ],
      "execution_count": null,
      "outputs": []
    },
    {
      "cell_type": "code",
      "metadata": {
        "colab": {
          "base_uri": "https://localhost:8080/"
        },
        "id": "pp3_kiP0Q0Jf",
        "outputId": "ae584a37-20b0-4e87-9145-2d9f18f0262b"
      },
      "source": [
        "from sklearn.metrics import classification_report\n",
        "\n",
        "target_names = ['Low', 'Middle', 'High']\n",
        "print(classification_report(y_true.cpu(), y_pred.cpu(), target_names=target_names))"
      ],
      "execution_count": null,
      "outputs": [
        {
          "output_type": "stream",
          "text": [
            "              precision    recall  f1-score   support\n",
            "\n",
            "         Low       0.68      0.78      0.73       973\n",
            "      Middle       0.56      0.45      0.50      1008\n",
            "        High       0.77      0.80      0.78      1016\n",
            "\n",
            "    accuracy                           0.68      2997\n",
            "   macro avg       0.67      0.68      0.67      2997\n",
            "weighted avg       0.67      0.68      0.67      2997\n",
            "\n"
          ],
          "name": "stdout"
        }
      ]
    },
    {
      "cell_type": "code",
      "metadata": {
        "id": "KLm__cI7XRCN"
      },
      "source": [
        ""
      ],
      "execution_count": null,
      "outputs": []
    }
  ]
}
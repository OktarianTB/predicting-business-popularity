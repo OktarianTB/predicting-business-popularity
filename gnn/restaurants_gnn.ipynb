{
  "nbformat": 4,
  "nbformat_minor": 0,
  "metadata": {
    "colab": {
      "name": "restaurants_gnn.ipynb",
      "provenance": [],
      "collapsed_sections": []
    },
    "kernelspec": {
      "name": "python3",
      "display_name": "Python 3"
    },
    "language_info": {
      "name": "python"
    },
    "accelerator": "GPU"
  },
  "cells": [
    {
      "cell_type": "code",
      "metadata": {
        "colab": {
          "base_uri": "https://localhost:8080/"
        },
        "id": "PnzHs-cvhVEi",
        "outputId": "1f0b12bc-6185-4183-bd66-8068013472ed"
      },
      "source": [
        "!pip install -q torch-scatter -f https://pytorch-geometric.com/whl/torch-1.8.0+cu101.html\n",
        "!pip install -q torch-sparse -f https://pytorch-geometric.com/whl/torch-1.8.0+cu101.html\n",
        "!pip install -q torch-geometric\n",
        "!pip install -q git+https://github.com/snap-stanford/deepsnap.git"
      ],
      "execution_count": 1,
      "outputs": [
        {
          "output_type": "stream",
          "text": [
            "\u001b[K     |████████████████████████████████| 2.6MB 1.7MB/s \n",
            "\u001b[K     |████████████████████████████████| 1.5MB 1.9MB/s \n",
            "\u001b[K     |████████████████████████████████| 215kB 5.8MB/s \n",
            "\u001b[K     |████████████████████████████████| 235kB 7.6MB/s \n",
            "\u001b[K     |████████████████████████████████| 2.2MB 7.8MB/s \n",
            "\u001b[K     |████████████████████████████████| 51kB 7.7MB/s \n",
            "\u001b[?25h  Building wheel for torch-geometric (setup.py) ... \u001b[?25l\u001b[?25hdone\n",
            "  Building wheel for deepsnap (setup.py) ... \u001b[?25l\u001b[?25hdone\n"
          ],
          "name": "stdout"
        }
      ]
    },
    {
      "cell_type": "code",
      "metadata": {
        "id": "5qvEAMNSiCTc"
      },
      "source": [
        "import copy\n",
        "import torch\n",
        "import torch.nn as nn\n",
        "import networkx as nx\n",
        "import torch.nn.functional as F\n",
        "import matplotlib.pyplot as plt\n",
        "import torch.optim as optim\n",
        "\n",
        "from deepsnap.graph import Graph\n",
        "from deepsnap.batch import Batch\n",
        "from deepsnap.dataset import GraphDataset\n",
        "from torch.utils.data import DataLoader\n",
        "import torch_geometric.nn as pyg_nn\n",
        "import matplotlib.pyplot as plt"
      ],
      "execution_count": 35,
      "outputs": []
    },
    {
      "cell_type": "code",
      "metadata": {
        "colab": {
          "base_uri": "https://localhost:8080/"
        },
        "id": "QWmejSI5inim",
        "outputId": "cbaec55f-aadd-4d8f-f791-031a38883095"
      },
      "source": [
        "from google.colab import drive\n",
        "drive.mount('/content/drive')"
      ],
      "execution_count": 3,
      "outputs": [
        {
          "output_type": "stream",
          "text": [
            "Mounted at /content/drive\n"
          ],
          "name": "stdout"
        }
      ]
    },
    {
      "cell_type": "code",
      "metadata": {
        "id": "QGp07hICiCYy"
      },
      "source": [
        "# Read NetworkX graph of restaurants\n",
        "# No features: restaurants_no_features.gpickle\n",
        "# Basic features: restaurants_basic_features.gpickle\n",
        "# With node degree: restaurants_node_degree.gpickle\n",
        "# With categories (top 20) and node degree + attributes: restaurants_with_categories.gpickle\n",
        "# With categories (top 50) and node degree + attributes: restaurants_with_categories50.gpickle\"\n",
        "# With categories (top 50) + node degree + attributes + clustering coeffs: restaurants_with_cluster.gpickle\n",
        "\n",
        "G = nx.read_gpickle(\"./drive/MyDrive/Colab Notebooks/restaurants_with_cluster.gpickle\")"
      ],
      "execution_count": 51,
      "outputs": []
    },
    {
      "cell_type": "code",
      "metadata": {
        "colab": {
          "base_uri": "https://localhost:8080/"
        },
        "id": "bwC8yUVYqRXZ",
        "outputId": "37926ac8-b367-45e7-945f-66050c5f0e3b"
      },
      "source": [
        "G.nodes[0]"
      ],
      "execution_count": 52,
      "outputs": [
        {
          "output_type": "execute_result",
          "data": {
            "text/plain": [
              "{'node_feature': tensor([ 2.0000,  1.0000,  1.0000,  1.0000,  0.0000,  1.0000,  1.0000,  1.0000,\n",
              "          1.0000,  1.0000,  1.0000,  1.0000,  0.0000,  0.0000,  0.0000,  0.0000,\n",
              "          0.0000,  0.0000,  0.0000,  0.0000,  0.0000,  0.0000,  0.0000,  0.0000,\n",
              "          0.0000,  0.0000,  0.0000,  0.0000,  0.0000,  0.0000,  0.0000,  1.0000,\n",
              "          0.0000,  0.0000,  0.0000,  0.0000,  0.0000,  0.0000,  0.0000,  0.0000,\n",
              "          0.0000,  1.0000,  0.0000,  0.0000,  0.0000,  0.0000,  0.0000,  0.0000,\n",
              "          0.0000,  0.0000,  0.0000,  0.0000,  0.0000,  0.0000,  0.0000,  0.0000,\n",
              "          0.0000, 73.0000,  0.9600]), 'node_label': 2}"
            ]
          },
          "metadata": {
            "tags": []
          },
          "execution_count": 52
        }
      ]
    },
    {
      "cell_type": "code",
      "metadata": {
        "colab": {
          "base_uri": "https://localhost:8080/"
        },
        "id": "wi-4KYdpn1ce",
        "outputId": "73385f97-256d-490c-835f-cc4254ce8985"
      },
      "source": [
        "G.number_of_nodes()"
      ],
      "execution_count": 53,
      "outputs": [
        {
          "output_type": "execute_result",
          "data": {
            "text/plain": [
              "29963"
            ]
          },
          "metadata": {
            "tags": []
          },
          "execution_count": 53
        }
      ]
    },
    {
      "cell_type": "code",
      "metadata": {
        "colab": {
          "base_uri": "https://localhost:8080/"
        },
        "id": "P9pIILdRn3qV",
        "outputId": "6ec8bcb5-10d8-4898-b066-d5c9b5b32f92"
      },
      "source": [
        "G.number_of_edges()"
      ],
      "execution_count": 54,
      "outputs": [
        {
          "output_type": "execute_result",
          "data": {
            "text/plain": [
              "491464"
            ]
          },
          "metadata": {
            "tags": []
          },
          "execution_count": 54
        }
      ]
    },
    {
      "cell_type": "code",
      "metadata": {
        "id": "gCbGQz6NixeH"
      },
      "source": [
        "class GNN(torch.nn.Module):\n",
        "    def __init__(self, input_size, hidden_size, output_size, args):\n",
        "        super(GNN, self).__init__()\n",
        "        self.num_layers = args[\"num_layers\"]\n",
        "\n",
        "        conv_model = self.build_conv_model(args[\"model\"])\n",
        "        self.convs = nn.ModuleList()\n",
        "        self.convs.append(conv_model(input_size, hidden_size))\n",
        "\n",
        "        for l in range(self.num_layers - 1):\n",
        "            self.convs.append(conv_model(hidden_size, hidden_size))\n",
        "        self.post_mp = nn.Linear(hidden_size, output_size)\n",
        "\n",
        "    def forward(self, data):\n",
        "        x, edge_index, batch = data.node_feature, data.edge_index, data.batch\n",
        "\n",
        "        for i in range(len(self.convs) - 1):\n",
        "            x = self.convs[i](x, edge_index)\n",
        "            x = F.leaky_relu(x)\n",
        "        x = self.convs[-1](x, edge_index)\n",
        "        x = F.log_softmax(x, dim=1)\n",
        "        return x\n",
        "\n",
        "    def loss(self, pred, label):\n",
        "        return F.nll_loss(pred, label)\n",
        "\n",
        "    def build_conv_model(self, model_type):\n",
        "        if model_type == 'GCN':\n",
        "            return pyg_nn.GCNConv\n",
        "        elif model_type == 'GAT':\n",
        "            return pyg_nn.GATConv\n",
        "        elif model_type == \"GraphSage\":\n",
        "            return pyg_nn.SAGEConv\n",
        "        else:\n",
        "            raise ValueError(\n",
        "                \"Model {} unavailable, please add it to GNN.build_conv_model.\".format(model_type))"
      ],
      "execution_count": 55,
      "outputs": []
    },
    {
      "cell_type": "code",
      "metadata": {
        "id": "mXuVFQCCixiA"
      },
      "source": [
        "def train(train_loader, val_loader, test_loader, args, num_node_features, num_classes,\n",
        "          device=\"cpu\"):\n",
        "    model = GNN(num_node_features, args['hidden_size'], num_classes, args).to(device)\n",
        "    print(model)\n",
        "    optimizer = optim.Adam(model.parameters(), lr=args['lr'], weight_decay=5e-4)\n",
        "    losses = []\n",
        "    accuracies = []\n",
        "\n",
        "    for epoch in range(args['epochs']):\n",
        "        total_loss = 0\n",
        "        model.train()\n",
        "        for batch in train_loader:\n",
        "            batch.to(device)\n",
        "            optimizer.zero_grad()\n",
        "            pred = model(batch)\n",
        "            label = batch.node_label\n",
        "            loss = model.loss(pred[batch.node_label_index], label)\n",
        "            total_loss += loss.item()\n",
        "            loss.backward()\n",
        "            optimizer.step()\n",
        "\n",
        "        train_acc = round(test(train_loader, model, device), 4)\n",
        "        val_acc = round(test(val_loader, model, device), 4)\n",
        "        test_acc = round(test(test_loader, model, device), 4)\n",
        "\n",
        "        if epoch % 5 == 0:\n",
        "          print(f\"Epoch {epoch + 1}: Train: {train_acc}, Validation: {val_acc}. Test: {test_acc}, Loss: {round(total_loss, 4)}\")\n",
        "\n",
        "        losses.append(round(total_loss, 4))\n",
        "        accuracies.append(test_acc)\n",
        "\n",
        "    return (model, losses, accuracies)\n",
        "\n",
        "def test(loader, model, device='cuda'):\n",
        "    model.eval()\n",
        "    for batch in loader:\n",
        "        batch.to(device)\n",
        "        logits = model(batch)\n",
        "        pred = logits[batch.node_label_index].max(1)[1]\n",
        "        acc = pred.eq(batch.node_label).sum().item()\n",
        "        total = batch.node_label_index.shape[0]\n",
        "        acc /= total\n",
        "    return acc"
      ],
      "execution_count": 56,
      "outputs": []
    },
    {
      "cell_type": "code",
      "metadata": {
        "id": "O-cyNHzf0Tt1",
        "colab": {
          "base_uri": "https://localhost:8080/"
        },
        "outputId": "3b66933f-f774-47a0-b15e-174e5e386883"
      },
      "source": [
        "args = {\n",
        "    \"device\" : 'cuda' if torch.cuda.is_available() else 'cpu',\n",
        "    \"hidden_size\" : 128,\n",
        "    \"epochs\" : 250,\n",
        "    \"lr\" : 0.01,\n",
        "    \"num_layers\": 2,\n",
        "    \"model\": \"GraphSage\" # [GraphSage, GAT, GCN]\n",
        "}\n",
        "\n",
        "H = Graph(G)\n",
        "dataset = GraphDataset(graphs=[H], task='node')\n",
        "\n",
        "dataset_train, dataset_val, dataset_test = dataset.split(transductive=True, split_ratio=[0.8, 0.1, 0.1])\n",
        "\n",
        "train_loader = DataLoader(dataset_train, collate_fn=Batch.collate(), batch_size=16)\n",
        "val_loader = DataLoader(dataset_val, collate_fn=Batch.collate(), batch_size=16)\n",
        "test_loader = DataLoader(dataset_test, collate_fn=Batch.collate(), batch_size=16)\n",
        "\n",
        "num_node_features = dataset_train.num_node_features\n",
        "num_classes = dataset_train.num_node_labels\n",
        "print(f\"There are {num_node_features} features and {num_classes} labels.\")\n",
        "\n",
        "model, losses, accuracies = train(train_loader, val_loader, test_loader, args, num_node_features, num_classes, args[\"device\"])"
      ],
      "execution_count": 57,
      "outputs": [
        {
          "output_type": "stream",
          "text": [
            "There are 59 features and 3 labels.\n",
            "GNN(\n",
            "  (convs): ModuleList(\n",
            "    (0): SAGEConv(59, 128)\n",
            "    (1): SAGEConv(128, 128)\n",
            "  )\n",
            "  (post_mp): Linear(in_features=128, out_features=3, bias=True)\n",
            ")\n",
            "Epoch 1: Train: 0.315, Validation: 0.3031. Test: 0.314, Loss: 7.4444\n",
            "Epoch 6: Train: 0.3306, Validation: 0.3248. Test: 0.33, Loss: 2.0488\n",
            "Epoch 11: Train: 0.4262, Validation: 0.4206. Test: 0.4231, Loss: 1.4029\n",
            "Epoch 16: Train: 0.347, Validation: 0.3601. Test: 0.3624, Loss: 1.1462\n",
            "Epoch 21: Train: 0.4432, Validation: 0.4349. Test: 0.4364, Loss: 1.178\n",
            "Epoch 26: Train: 0.4516, Validation: 0.4533. Test: 0.4525, Loss: 1.126\n",
            "Epoch 31: Train: 0.4941, Validation: 0.4853. Test: 0.4708, Loss: 1.0697\n",
            "Epoch 36: Train: 0.4938, Validation: 0.497. Test: 0.4755, Loss: 1.016\n",
            "Epoch 41: Train: 0.5062, Validation: 0.5093. Test: 0.4942, Loss: 0.9765\n",
            "Epoch 46: Train: 0.5121, Validation: 0.506. Test: 0.4942, Loss: 0.9677\n",
            "Epoch 51: Train: 0.5218, Validation: 0.519. Test: 0.5068, Loss: 0.9535\n",
            "Epoch 56: Train: 0.5428, Validation: 0.5407. Test: 0.5302, Loss: 0.9383\n",
            "Epoch 61: Train: 0.5483, Validation: 0.5451. Test: 0.5379, Loss: 0.9314\n",
            "Epoch 66: Train: 0.5539, Validation: 0.5534. Test: 0.5415, Loss: 0.921\n",
            "Epoch 71: Train: 0.5615, Validation: 0.5668. Test: 0.5499, Loss: 0.9109\n",
            "Epoch 76: Train: 0.5675, Validation: 0.5671. Test: 0.5516, Loss: 0.8995\n",
            "Epoch 81: Train: 0.5696, Validation: 0.5691. Test: 0.5536, Loss: 0.893\n",
            "Epoch 86: Train: 0.5603, Validation: 0.5534. Test: 0.5432, Loss: 0.8993\n",
            "Epoch 91: Train: 0.5695, Validation: 0.5754. Test: 0.5489, Loss: 0.8974\n",
            "Epoch 96: Train: 0.577, Validation: 0.5724. Test: 0.5612, Loss: 0.8931\n",
            "Epoch 101: Train: 0.5764, Validation: 0.5818. Test: 0.5592, Loss: 0.8857\n",
            "Epoch 106: Train: 0.577, Validation: 0.5708. Test: 0.5609, Loss: 0.8804\n",
            "Epoch 111: Train: 0.5802, Validation: 0.5811. Test: 0.5629, Loss: 0.8781\n",
            "Epoch 116: Train: 0.5806, Validation: 0.5841. Test: 0.5612, Loss: 0.8819\n",
            "Epoch 121: Train: 0.5814, Validation: 0.5874. Test: 0.5592, Loss: 0.8745\n",
            "Epoch 126: Train: 0.5808, Validation: 0.5844. Test: 0.5619, Loss: 0.8739\n",
            "Epoch 131: Train: 0.583, Validation: 0.5831. Test: 0.5606, Loss: 0.8723\n",
            "Epoch 136: Train: 0.5809, Validation: 0.5794. Test: 0.5582, Loss: 0.8743\n",
            "Epoch 141: Train: 0.5846, Validation: 0.5811. Test: 0.5612, Loss: 0.8803\n",
            "Epoch 146: Train: 0.5817, Validation: 0.5744. Test: 0.5632, Loss: 0.8692\n",
            "Epoch 151: Train: 0.5806, Validation: 0.5761. Test: 0.5612, Loss: 0.8702\n",
            "Epoch 156: Train: 0.5889, Validation: 0.5801. Test: 0.5622, Loss: 0.8685\n",
            "Epoch 161: Train: 0.5879, Validation: 0.5814. Test: 0.5656, Loss: 0.8712\n",
            "Epoch 166: Train: 0.5896, Validation: 0.5821. Test: 0.5642, Loss: 0.8648\n",
            "Epoch 171: Train: 0.5876, Validation: 0.5784. Test: 0.5606, Loss: 0.8719\n",
            "Epoch 176: Train: 0.5878, Validation: 0.5804. Test: 0.5606, Loss: 0.8695\n",
            "Epoch 181: Train: 0.5891, Validation: 0.5764. Test: 0.5669, Loss: 0.8623\n",
            "Epoch 186: Train: 0.5917, Validation: 0.5808. Test: 0.5652, Loss: 0.8616\n",
            "Epoch 191: Train: 0.5922, Validation: 0.5838. Test: 0.5692, Loss: 0.8592\n",
            "Epoch 196: Train: 0.5878, Validation: 0.5808. Test: 0.5592, Loss: 0.8892\n",
            "Epoch 201: Train: 0.5802, Validation: 0.5748. Test: 0.5612, Loss: 0.8657\n",
            "Epoch 206: Train: 0.5872, Validation: 0.5831. Test: 0.5592, Loss: 0.8587\n",
            "Epoch 211: Train: 0.5937, Validation: 0.5901. Test: 0.5679, Loss: 0.8696\n",
            "Epoch 216: Train: 0.5866, Validation: 0.5781. Test: 0.5632, Loss: 0.8611\n",
            "Epoch 221: Train: 0.5947, Validation: 0.5861. Test: 0.5609, Loss: 0.8551\n",
            "Epoch 226: Train: 0.5958, Validation: 0.5881. Test: 0.5622, Loss: 0.8617\n",
            "Epoch 231: Train: 0.5958, Validation: 0.5895. Test: 0.5686, Loss: 0.8531\n",
            "Epoch 236: Train: 0.5975, Validation: 0.5861. Test: 0.5712, Loss: 0.851\n",
            "Epoch 241: Train: 0.5985, Validation: 0.5885. Test: 0.5682, Loss: 0.8504\n",
            "Epoch 246: Train: 0.597, Validation: 0.5844. Test: 0.5656, Loss: 0.8585\n"
          ],
          "name": "stdout"
        }
      ]
    },
    {
      "cell_type": "code",
      "metadata": {
        "colab": {
          "base_uri": "https://localhost:8080/",
          "height": 350
        },
        "id": "MAX4KKrJrjMB",
        "outputId": "c666fcc6-c2f7-477c-c7ee-0f1be760da50"
      },
      "source": [
        "plt.figure(figsize=(10,5))\n",
        "plt.title(\"Training Loss\")\n",
        "plt.plot(losses,label=\"Training Loss\")\n",
        "plt.xlabel(\"iterations\")\n",
        "plt.ylabel(\"Loss\")\n",
        "plt.legend()\n",
        "plt.show()"
      ],
      "execution_count": 58,
      "outputs": [
        {
          "output_type": "display_data",
          "data": {
            "image/png": "[encoded data removed]",
            "text/plain": [
              "<Figure size 720x360 with 1 Axes>"
            ]
          },
          "metadata": {
            "tags": [],
            "needs_background": "light"
          }
        }
      ]
    },
    {
      "cell_type": "code",
      "metadata": {
        "colab": {
          "base_uri": "https://localhost:8080/",
          "height": 350
        },
        "id": "Q_kACcT3sKFh",
        "outputId": "5f09b704-2954-4e4e-ea09-218542ec9fd4"
      },
      "source": [
        "plt.figure(figsize=(10,5))\n",
        "plt.title(\"Testing Accuracy during Training\")\n",
        "plt.plot(accuracies,label=\"Testing Accuracy\")\n",
        "plt.xlabel(\"iterations\")\n",
        "plt.ylabel(\"Accuracy\")\n",
        "plt.legend()\n",
        "plt.show()"
      ],
      "execution_count": 59,
      "outputs": [
        {
          "output_type": "display_data",
          "data": {
            "image/png": "[encoded data removed]",
            "text/plain": [
              "<Figure size 720x360 with 1 Axes>"
            ]
          },
          "metadata": {
            "tags": [],
            "needs_background": "light"
          }
        }
      ]
    },
    {
      "cell_type": "code",
      "metadata": {
        "id": "VgRRdKS6Nx-h"
      },
      "source": [
        "def accuracy(pred, target):\n",
        "    r\"\"\"Computes the accuracy of predictions.\n",
        "\n",
        "    Args:\n",
        "        pred (Tensor): The predictions.\n",
        "        target (Tensor): The targets.\n",
        "\n",
        "    :rtype: float\n",
        "    \"\"\"\n",
        "    return round((pred == target).sum().item() / target.numel(), 4)\n",
        "\n",
        "\n",
        "\n",
        "def true_positive(pred, target, num_classes):\n",
        "    r\"\"\"Computes the number of true positive predictions.\n",
        "\n",
        "    Args:\n",
        "        pred (Tensor): The predictions.\n",
        "        target (Tensor): The targets.\n",
        "        num_classes (int): The number of classes.\n",
        "\n",
        "    :rtype: :class:`LongTensor`\n",
        "    \"\"\"\n",
        "    out = []\n",
        "    for i in range(num_classes):\n",
        "        out.append(((pred == i) & (target == i)).sum())\n",
        "\n",
        "    return torch.tensor(out)\n",
        "\n",
        "\n",
        "\n",
        "def true_negative(pred, target, num_classes):\n",
        "    r\"\"\"Computes the number of true negative predictions.\n",
        "\n",
        "    Args:\n",
        "        pred (Tensor): The predictions.\n",
        "        target (Tensor): The targets.\n",
        "        num_classes (int): The number of classes.\n",
        "\n",
        "    :rtype: :class:`LongTensor`\n",
        "    \"\"\"\n",
        "    out = []\n",
        "    for i in range(num_classes):\n",
        "        out.append(((pred != i) & (target != i)).sum())\n",
        "\n",
        "    return torch.tensor(out)\n",
        "\n",
        "\n",
        "\n",
        "def false_positive(pred, target, num_classes):\n",
        "    r\"\"\"Computes the number of false positive predictions.\n",
        "\n",
        "    Args:\n",
        "        pred (Tensor): The predictions.\n",
        "        target (Tensor): The targets.\n",
        "        num_classes (int): The number of classes.\n",
        "\n",
        "    :rtype: :class:`LongTensor`\n",
        "    \"\"\"\n",
        "    out = []\n",
        "    for i in range(num_classes):\n",
        "        out.append(((pred == i) & (target != i)).sum())\n",
        "\n",
        "    return torch.tensor(out)\n",
        "\n",
        "\n",
        "\n",
        "def false_negative(pred, target, num_classes):\n",
        "    r\"\"\"Computes the number of false negative predictions.\n",
        "\n",
        "    Args:\n",
        "        pred (Tensor): The predictions.\n",
        "        target (Tensor): The targets.\n",
        "        num_classes (int): The number of classes.\n",
        "\n",
        "    :rtype: :class:`LongTensor`\n",
        "    \"\"\"\n",
        "    out = []\n",
        "    for i in range(num_classes):\n",
        "        out.append(((pred != i) & (target == i)).sum())\n",
        "\n",
        "    return torch.tensor(out)\n",
        "\n",
        "\n",
        "def precision(pred, target, num_classes):\n",
        "    r\"\"\"Computes the precision\n",
        "    :math:`\\frac{\\mathrm{TP}}{\\mathrm{TP}+\\mathrm{FP}}` of predictions.\n",
        "\n",
        "    Args:\n",
        "        pred (Tensor): The predictions.\n",
        "        target (Tensor): The targets.\n",
        "        num_classes (int): The number of classes.\n",
        "\n",
        "    :rtype: :class:`Tensor`\n",
        "    \"\"\"\n",
        "    tp = true_positive(pred, target, num_classes).to(torch.float)\n",
        "    fp = false_positive(pred, target, num_classes).to(torch.float)\n",
        "\n",
        "    out = tp / (tp + fp)\n",
        "    out[torch.isnan(out)] = 0\n",
        "\n",
        "    return out\n",
        "\n",
        "\n",
        "\n",
        "def recall(pred, target, num_classes):\n",
        "    r\"\"\"Computes the recall\n",
        "    :math:`\\frac{\\mathrm{TP}}{\\mathrm{TP}+\\mathrm{FN}}` of predictions.\n",
        "\n",
        "    Args:\n",
        "        pred (Tensor): The predictions.\n",
        "        target (Tensor): The targets.\n",
        "        num_classes (int): The number of classes.\n",
        "\n",
        "    :rtype: :class:`Tensor`\n",
        "    \"\"\"\n",
        "    tp = true_positive(pred, target, num_classes).to(torch.float)\n",
        "    fn = false_negative(pred, target, num_classes).to(torch.float)\n",
        "\n",
        "    out = tp / (tp + fn)\n",
        "    out[torch.isnan(out)] = 0\n",
        "\n",
        "    return out\n",
        "\n",
        "\n",
        "\n",
        "def f1_score(pred, target, num_classes):\n",
        "    r\"\"\"Computes the :math:`F_1` score\n",
        "    :math:`2 \\cdot \\frac{\\mathrm{precision} \\cdot \\mathrm{recall}}\n",
        "    {\\mathrm{precision}+\\mathrm{recall}}` of predictions.\n",
        "\n",
        "    Args:\n",
        "        pred (Tensor): The predictions.\n",
        "        target (Tensor): The targets.\n",
        "        num_classes (int): The number of classes.\n",
        "\n",
        "    :rtype: :class:`Tensor`\n",
        "    \"\"\"\n",
        "    prec = precision(pred, target, num_classes)\n",
        "    rec = recall(pred, target, num_classes)\n",
        "\n",
        "    score = 2 * (prec * rec) / (prec + rec)\n",
        "    score[torch.isnan(score)] = 0\n",
        "\n",
        "    return score"
      ],
      "execution_count": 68,
      "outputs": []
    },
    {
      "cell_type": "code",
      "metadata": {
        "id": "AlsPif913e_S",
        "colab": {
          "base_uri": "https://localhost:8080/"
        },
        "outputId": "356098ed-81b8-4145-b90c-02248deebfe5"
      },
      "source": [
        "model.eval()\n",
        "for batch in test_loader:\n",
        "    batch.to(\"cuda\")\n",
        "    logits = model(batch)\n",
        "    pred = logits[batch.node_label_index].max(1)[1]\n",
        "    f1 = f1_score(pred, batch.node_label, num_classes)\n",
        "    print(f1)"
      ],
      "execution_count": 61,
      "outputs": [
        {
          "output_type": "stream",
          "text": [
            "tensor([0.6368, 0.4017, 0.6455])\n"
          ],
          "name": "stdout"
        }
      ]
    },
    {
      "cell_type": "code",
      "metadata": {
        "colab": {
          "base_uri": "https://localhost:8080/"
        },
        "id": "82_C7oXUws1N",
        "outputId": "5bf5cc96-3cea-4ead-fb1d-3af203d15c30"
      },
      "source": [
        "final_test_loader = DataLoader(dataset_test, collate_fn=Batch.collate(), batch_size=len(dataset_test))\n",
        "model.eval()\n",
        "for batch in final_test_loader:\n",
        "    batch.to(\"cuda\")\n",
        "    logits = model(batch)\n",
        "    pred = logits[batch.node_label_index].max(1)[1]\n",
        "    \n",
        "    testing_accuracy = accuracy(pred, batch.node_label)\n",
        "    print(f\"Accuracy on the whole testing set is: {testing_accuracy}\")"
      ],
      "execution_count": 69,
      "outputs": [
        {
          "output_type": "stream",
          "text": [
            "Accuracy on the whole testing set is: 0.5666\n"
          ],
          "name": "stdout"
        }
      ]
    }
  ]
}
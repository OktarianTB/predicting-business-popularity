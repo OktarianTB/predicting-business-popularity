{
 "cells": [
  {
   "cell_type": "markdown",
   "metadata": {},
   "source": [
    "# Popularity Metric Analysis for 2016 Timeframe"
   ]
  },
  {
   "cell_type": "code",
   "execution_count": 1,
   "metadata": {},
   "outputs": [],
   "source": [
    "import json\n",
    "import pandas as pd\n",
    "import numpy as np\n",
    "import math\n",
    "import datetime"
   ]
  },
  {
   "cell_type": "markdown",
   "metadata": {},
   "source": [
    "## Reading the Data"
   ]
  },
  {
   "cell_type": "code",
   "execution_count": 2,
   "metadata": {},
   "outputs": [],
   "source": [
    "restaurants_df = pd.read_csv(\"./../datasets/2016_restaurants.csv\")"
   ]
  },
  {
   "cell_type": "code",
   "execution_count": 3,
   "metadata": {},
   "outputs": [
    {
     "data": {
      "text/html": [
       "<div>\n",
       "<style scoped>\n",
       "    .dataframe tbody tr th:only-of-type {\n",
       "        vertical-align: middle;\n",
       "    }\n",
       "\n",
       "    .dataframe tbody tr th {\n",
       "        vertical-align: top;\n",
       "    }\n",
       "\n",
       "    .dataframe thead th {\n",
       "        text-align: right;\n",
       "    }\n",
       "</style>\n",
       "<table border=\"1\" class=\"dataframe\">\n",
       "  <thead>\n",
       "    <tr style=\"text-align: right;\">\n",
       "      <th></th>\n",
       "      <th>business_id</th>\n",
       "      <th>city</th>\n",
       "      <th>state</th>\n",
       "      <th>latitude</th>\n",
       "      <th>longitude</th>\n",
       "      <th>is_open</th>\n",
       "      <th>attributes</th>\n",
       "      <th>categories</th>\n",
       "      <th>hours</th>\n",
       "      <th>checkin_count</th>\n",
       "      <th>review_count</th>\n",
       "      <th>raw_stars</th>\n",
       "      <th>stars</th>\n",
       "      <th>tip_count</th>\n",
       "      <th>first_date</th>\n",
       "      <th>last_date</th>\n",
       "      <th>visit_count</th>\n",
       "      <th>is_open_year_after</th>\n",
       "    </tr>\n",
       "  </thead>\n",
       "  <tbody>\n",
       "    <tr>\n",
       "      <th>0</th>\n",
       "      <td>tCbdrRPZA0oiIYSmHG3J0w</td>\n",
       "      <td>Portland</td>\n",
       "      <td>OR</td>\n",
       "      <td>45.588906</td>\n",
       "      <td>-122.593331</td>\n",
       "      <td>1</td>\n",
       "      <td>{'RestaurantsTakeOut': 'True', 'RestaurantsAtt...</td>\n",
       "      <td>Salad, Soup, Sandwiches, Delis, Restaurants, C...</td>\n",
       "      <td>{'Monday': '5:0-18:0', 'Tuesday': '5:0-17:0', ...</td>\n",
       "      <td>141</td>\n",
       "      <td>13</td>\n",
       "      <td>4.076923</td>\n",
       "      <td>4.0</td>\n",
       "      <td>3</td>\n",
       "      <td>2010-03-09 16:02:04</td>\n",
       "      <td>2021-01-21 17:55:35</td>\n",
       "      <td>157</td>\n",
       "      <td>True</td>\n",
       "    </tr>\n",
       "    <tr>\n",
       "      <th>1</th>\n",
       "      <td>D4JtQNTI4X3KcbzacDJsMw</td>\n",
       "      <td>Vancouver</td>\n",
       "      <td>BC</td>\n",
       "      <td>49.251342</td>\n",
       "      <td>-123.101333</td>\n",
       "      <td>1</td>\n",
       "      <td>{'GoodForKids': 'True', 'Alcohol': \"u'none'\", ...</td>\n",
       "      <td>Restaurants, Thai</td>\n",
       "      <td>{'Monday': '17:0-21:0', 'Tuesday': '17:0-21:0'...</td>\n",
       "      <td>22</td>\n",
       "      <td>13</td>\n",
       "      <td>3.615385</td>\n",
       "      <td>3.5</td>\n",
       "      <td>2</td>\n",
       "      <td>2010-09-26 04:03:35</td>\n",
       "      <td>2021-01-23 01:43:50</td>\n",
       "      <td>37</td>\n",
       "      <td>True</td>\n",
       "    </tr>\n",
       "    <tr>\n",
       "      <th>2</th>\n",
       "      <td>ufCxltuh56FF4-ZFZ6cVhg</td>\n",
       "      <td>Orlando</td>\n",
       "      <td>FL</td>\n",
       "      <td>28.513265</td>\n",
       "      <td>-81.374707</td>\n",
       "      <td>1</td>\n",
       "      <td>{'BusinessParking': \"{'garage': False, 'street...</td>\n",
       "      <td>Restaurants, American (New), Bakeries, Dessert...</td>\n",
       "      <td>{'Tuesday': '11:0-18:0', 'Wednesday': '11:0-18...</td>\n",
       "      <td>28</td>\n",
       "      <td>14</td>\n",
       "      <td>4.642857</td>\n",
       "      <td>4.5</td>\n",
       "      <td>3</td>\n",
       "      <td>2012-08-19 21:08:57</td>\n",
       "      <td>2020-12-29 16:25:19</td>\n",
       "      <td>45</td>\n",
       "      <td>True</td>\n",
       "    </tr>\n",
       "    <tr>\n",
       "      <th>3</th>\n",
       "      <td>dmbbf3AqeG61_QHRZi1M1w</td>\n",
       "      <td>Pine Castle</td>\n",
       "      <td>FL</td>\n",
       "      <td>28.450303</td>\n",
       "      <td>-81.380587</td>\n",
       "      <td>1</td>\n",
       "      <td>{'BikeParking': 'False', 'RestaurantsPriceRang...</td>\n",
       "      <td>Automotive, American (Traditional), Gas Statio...</td>\n",
       "      <td>NaN</td>\n",
       "      <td>11</td>\n",
       "      <td>0</td>\n",
       "      <td>NaN</td>\n",
       "      <td>NaN</td>\n",
       "      <td>0</td>\n",
       "      <td>2015-06-11 16:44:12</td>\n",
       "      <td>2020-11-14 00:49:04</td>\n",
       "      <td>11</td>\n",
       "      <td>True</td>\n",
       "    </tr>\n",
       "    <tr>\n",
       "      <th>4</th>\n",
       "      <td>jGennaZUr2MsJyRhijNBfA</td>\n",
       "      <td>Boston</td>\n",
       "      <td>MA</td>\n",
       "      <td>42.363442</td>\n",
       "      <td>-71.025781</td>\n",
       "      <td>1</td>\n",
       "      <td>{'NoiseLevel': \"u'average'\", 'BikeParking': 'F...</td>\n",
       "      <td>Sandwiches, Food, Restaurants, Breakfast &amp; Bru...</td>\n",
       "      <td>{'Monday': '6:0-21:0', 'Tuesday': '6:0-21:0', ...</td>\n",
       "      <td>390</td>\n",
       "      <td>105</td>\n",
       "      <td>3.590476</td>\n",
       "      <td>3.5</td>\n",
       "      <td>19</td>\n",
       "      <td>2005-12-13 23:59:04</td>\n",
       "      <td>2020-11-04 20:09:32</td>\n",
       "      <td>514</td>\n",
       "      <td>True</td>\n",
       "    </tr>\n",
       "  </tbody>\n",
       "</table>\n",
       "</div>"
      ],
      "text/plain": [
       "              business_id         city state   latitude   longitude  is_open  \\\n",
       "0  tCbdrRPZA0oiIYSmHG3J0w     Portland    OR  45.588906 -122.593331        1   \n",
       "1  D4JtQNTI4X3KcbzacDJsMw    Vancouver    BC  49.251342 -123.101333        1   \n",
       "2  ufCxltuh56FF4-ZFZ6cVhg      Orlando    FL  28.513265  -81.374707        1   \n",
       "3  dmbbf3AqeG61_QHRZi1M1w  Pine Castle    FL  28.450303  -81.380587        1   \n",
       "4  jGennaZUr2MsJyRhijNBfA       Boston    MA  42.363442  -71.025781        1   \n",
       "\n",
       "                                          attributes  \\\n",
       "0  {'RestaurantsTakeOut': 'True', 'RestaurantsAtt...   \n",
       "1  {'GoodForKids': 'True', 'Alcohol': \"u'none'\", ...   \n",
       "2  {'BusinessParking': \"{'garage': False, 'street...   \n",
       "3  {'BikeParking': 'False', 'RestaurantsPriceRang...   \n",
       "4  {'NoiseLevel': \"u'average'\", 'BikeParking': 'F...   \n",
       "\n",
       "                                          categories  \\\n",
       "0  Salad, Soup, Sandwiches, Delis, Restaurants, C...   \n",
       "1                                  Restaurants, Thai   \n",
       "2  Restaurants, American (New), Bakeries, Dessert...   \n",
       "3  Automotive, American (Traditional), Gas Statio...   \n",
       "4  Sandwiches, Food, Restaurants, Breakfast & Bru...   \n",
       "\n",
       "                                               hours  checkin_count  \\\n",
       "0  {'Monday': '5:0-18:0', 'Tuesday': '5:0-17:0', ...            141   \n",
       "1  {'Monday': '17:0-21:0', 'Tuesday': '17:0-21:0'...             22   \n",
       "2  {'Tuesday': '11:0-18:0', 'Wednesday': '11:0-18...             28   \n",
       "3                                                NaN             11   \n",
       "4  {'Monday': '6:0-21:0', 'Tuesday': '6:0-21:0', ...            390   \n",
       "\n",
       "   review_count  raw_stars  stars  tip_count           first_date  \\\n",
       "0            13   4.076923    4.0          3  2010-03-09 16:02:04   \n",
       "1            13   3.615385    3.5          2  2010-09-26 04:03:35   \n",
       "2            14   4.642857    4.5          3  2012-08-19 21:08:57   \n",
       "3             0        NaN    NaN          0  2015-06-11 16:44:12   \n",
       "4           105   3.590476    3.5         19  2005-12-13 23:59:04   \n",
       "\n",
       "             last_date  visit_count  is_open_year_after  \n",
       "0  2021-01-21 17:55:35          157                True  \n",
       "1  2021-01-23 01:43:50           37                True  \n",
       "2  2020-12-29 16:25:19           45                True  \n",
       "3  2020-11-14 00:49:04           11                True  \n",
       "4  2020-11-04 20:09:32          514                True  "
      ]
     },
     "execution_count": 3,
     "metadata": {},
     "output_type": "execute_result"
    }
   ],
   "source": [
    "restaurants_df.head()"
   ]
  },
  {
   "cell_type": "code",
   "execution_count": 4,
   "metadata": {},
   "outputs": [
    {
     "data": {
      "text/plain": [
       "879"
      ]
     },
     "execution_count": 4,
     "metadata": {},
     "output_type": "execute_result"
    }
   ],
   "source": [
    "restaurants_df[\"raw_stars\"].isna().sum()"
   ]
  },
  {
   "cell_type": "code",
   "execution_count": 111,
   "metadata": {},
   "outputs": [],
   "source": [
    "restaurants_df = restaurants_df[restaurants_df[\"review_count\"] > 0]"
   ]
  },
  {
   "cell_type": "code",
   "execution_count": 11,
   "metadata": {},
   "outputs": [],
   "source": [
    "def get_last_date_year(row):\n",
    "    date = row[15]\n",
    "    last_date = datetime.datetime.strptime(date, \"%Y-%m-%d %H:%M:%S\")\n",
    "    return last_date.year\n",
    "\n",
    "def get_first_date_year(row):\n",
    "    date = row[14]\n",
    "    first_date = datetime.datetime.strptime(date, \"%Y-%m-%d %H:%M:%S\")\n",
    "    return first_date.year"
   ]
  },
  {
   "cell_type": "code",
   "execution_count": 12,
   "metadata": {},
   "outputs": [],
   "source": [
    "restaurants_df[\"last_date_year\"] = restaurants_df.apply(get_last_date_year, axis=1)\n",
    "restaurants_df[\"first_date_year\"] = restaurants_df.apply(get_first_date_year, axis=1)"
   ]
  },
  {
   "cell_type": "code",
   "execution_count": 13,
   "metadata": {},
   "outputs": [],
   "source": [
    "restaurants_df[\"checkins_tips_count\"] = restaurants_df[\"tip_count\"] + restaurants_df[\"checkin_count\"]"
   ]
  },
  {
   "cell_type": "code",
   "execution_count": 14,
   "metadata": {},
   "outputs": [
    {
     "data": {
      "text/html": [
       "<div>\n",
       "<style scoped>\n",
       "    .dataframe tbody tr th:only-of-type {\n",
       "        vertical-align: middle;\n",
       "    }\n",
       "\n",
       "    .dataframe tbody tr th {\n",
       "        vertical-align: top;\n",
       "    }\n",
       "\n",
       "    .dataframe thead th {\n",
       "        text-align: right;\n",
       "    }\n",
       "</style>\n",
       "<table border=\"1\" class=\"dataframe\">\n",
       "  <thead>\n",
       "    <tr style=\"text-align: right;\">\n",
       "      <th></th>\n",
       "      <th>business_id</th>\n",
       "      <th>city</th>\n",
       "      <th>state</th>\n",
       "      <th>latitude</th>\n",
       "      <th>longitude</th>\n",
       "      <th>is_open</th>\n",
       "      <th>attributes</th>\n",
       "      <th>categories</th>\n",
       "      <th>hours</th>\n",
       "      <th>checkin_count</th>\n",
       "      <th>...</th>\n",
       "      <th>raw_stars</th>\n",
       "      <th>stars</th>\n",
       "      <th>tip_count</th>\n",
       "      <th>first_date</th>\n",
       "      <th>last_date</th>\n",
       "      <th>visit_count</th>\n",
       "      <th>is_open_year_after</th>\n",
       "      <th>last_date_year</th>\n",
       "      <th>checkins_tips_count</th>\n",
       "      <th>first_date_year</th>\n",
       "    </tr>\n",
       "  </thead>\n",
       "  <tbody>\n",
       "    <tr>\n",
       "      <th>0</th>\n",
       "      <td>tCbdrRPZA0oiIYSmHG3J0w</td>\n",
       "      <td>Portland</td>\n",
       "      <td>OR</td>\n",
       "      <td>45.588906</td>\n",
       "      <td>-122.593331</td>\n",
       "      <td>1</td>\n",
       "      <td>{'RestaurantsTakeOut': 'True', 'RestaurantsAtt...</td>\n",
       "      <td>Salad, Soup, Sandwiches, Delis, Restaurants, C...</td>\n",
       "      <td>{'Monday': '5:0-18:0', 'Tuesday': '5:0-17:0', ...</td>\n",
       "      <td>141</td>\n",
       "      <td>...</td>\n",
       "      <td>4.076923</td>\n",
       "      <td>4.0</td>\n",
       "      <td>3</td>\n",
       "      <td>2010-03-09 16:02:04</td>\n",
       "      <td>2021-01-21 17:55:35</td>\n",
       "      <td>157</td>\n",
       "      <td>True</td>\n",
       "      <td>2021</td>\n",
       "      <td>144</td>\n",
       "      <td>2010</td>\n",
       "    </tr>\n",
       "    <tr>\n",
       "      <th>1</th>\n",
       "      <td>D4JtQNTI4X3KcbzacDJsMw</td>\n",
       "      <td>Vancouver</td>\n",
       "      <td>BC</td>\n",
       "      <td>49.251342</td>\n",
       "      <td>-123.101333</td>\n",
       "      <td>1</td>\n",
       "      <td>{'GoodForKids': 'True', 'Alcohol': \"u'none'\", ...</td>\n",
       "      <td>Restaurants, Thai</td>\n",
       "      <td>{'Monday': '17:0-21:0', 'Tuesday': '17:0-21:0'...</td>\n",
       "      <td>22</td>\n",
       "      <td>...</td>\n",
       "      <td>3.615385</td>\n",
       "      <td>3.5</td>\n",
       "      <td>2</td>\n",
       "      <td>2010-09-26 04:03:35</td>\n",
       "      <td>2021-01-23 01:43:50</td>\n",
       "      <td>37</td>\n",
       "      <td>True</td>\n",
       "      <td>2021</td>\n",
       "      <td>24</td>\n",
       "      <td>2010</td>\n",
       "    </tr>\n",
       "  </tbody>\n",
       "</table>\n",
       "<p>2 rows × 21 columns</p>\n",
       "</div>"
      ],
      "text/plain": [
       "              business_id       city state   latitude   longitude  is_open  \\\n",
       "0  tCbdrRPZA0oiIYSmHG3J0w   Portland    OR  45.588906 -122.593331        1   \n",
       "1  D4JtQNTI4X3KcbzacDJsMw  Vancouver    BC  49.251342 -123.101333        1   \n",
       "\n",
       "                                          attributes  \\\n",
       "0  {'RestaurantsTakeOut': 'True', 'RestaurantsAtt...   \n",
       "1  {'GoodForKids': 'True', 'Alcohol': \"u'none'\", ...   \n",
       "\n",
       "                                          categories  \\\n",
       "0  Salad, Soup, Sandwiches, Delis, Restaurants, C...   \n",
       "1                                  Restaurants, Thai   \n",
       "\n",
       "                                               hours  checkin_count  ...  \\\n",
       "0  {'Monday': '5:0-18:0', 'Tuesday': '5:0-17:0', ...            141  ...   \n",
       "1  {'Monday': '17:0-21:0', 'Tuesday': '17:0-21:0'...             22  ...   \n",
       "\n",
       "   raw_stars  stars  tip_count           first_date            last_date  \\\n",
       "0   4.076923    4.0          3  2010-03-09 16:02:04  2021-01-21 17:55:35   \n",
       "1   3.615385    3.5          2  2010-09-26 04:03:35  2021-01-23 01:43:50   \n",
       "\n",
       "  visit_count  is_open_year_after  last_date_year  checkins_tips_count  \\\n",
       "0         157                True            2021                  144   \n",
       "1          37                True            2021                   24   \n",
       "\n",
       "   first_date_year  \n",
       "0             2010  \n",
       "1             2010  \n",
       "\n",
       "[2 rows x 21 columns]"
      ]
     },
     "execution_count": 14,
     "metadata": {},
     "output_type": "execute_result"
    }
   ],
   "source": [
    "restaurants_df.head(2)"
   ]
  },
  {
   "cell_type": "code",
   "execution_count": 16,
   "metadata": {},
   "outputs": [
    {
     "data": {
      "text/plain": [
       "653"
      ]
     },
     "execution_count": 16,
     "metadata": {},
     "output_type": "execute_result"
    }
   ],
   "source": [
    "len(restaurants_df[restaurants_df[\"last_date_year\"] < 2017])"
   ]
  },
  {
   "cell_type": "code",
   "execution_count": 17,
   "metadata": {},
   "outputs": [
    {
     "data": {
      "text/plain": [
       "0"
      ]
     },
     "execution_count": 17,
     "metadata": {},
     "output_type": "execute_result"
    }
   ],
   "source": [
    "len(restaurants_df[restaurants_df[\"first_date_year\"] > 2016])"
   ]
  },
  {
   "cell_type": "code",
   "execution_count": 18,
   "metadata": {},
   "outputs": [],
   "source": [
    "restaurants_df = restaurants_df[restaurants_df[\"last_date_year\"] > 2016]"
   ]
  },
  {
   "cell_type": "markdown",
   "metadata": {},
   "source": [
    "## Analyzing Data"
   ]
  },
  {
   "cell_type": "markdown",
   "metadata": {},
   "source": [
    "### Looking at Restaurants"
   ]
  },
  {
   "cell_type": "code",
   "execution_count": 19,
   "metadata": {},
   "outputs": [
    {
     "data": {
      "text/plain": [
       "26598"
      ]
     },
     "execution_count": 19,
     "metadata": {},
     "output_type": "execute_result"
    }
   ],
   "source": [
    "len(restaurants_df)"
   ]
  },
  {
   "cell_type": "code",
   "execution_count": 20,
   "metadata": {},
   "outputs": [
    {
     "name": "stdout",
     "output_type": "stream",
     "text": [
      "Restaurants have on 21 reviews, 53 checkins and 3 tips on average\n"
     ]
    }
   ],
   "source": [
    "avg_review_count = round(restaurants_df[\"review_count\"].mean())\n",
    "avg_checkins_count = round(restaurants_df[\"checkin_count\"].mean())\n",
    "avg_tips_count = round(restaurants_df[\"tip_count\"].mean())\n",
    "print(f\"Restaurants have on {avg_review_count} reviews, {avg_checkins_count} checkins and {avg_tips_count} tips on average\")"
   ]
  },
  {
   "cell_type": "code",
   "execution_count": 21,
   "metadata": {},
   "outputs": [
    {
     "name": "stdout",
     "output_type": "stream",
     "text": [
      "There are 4528 restaurants with 5 checkins or less\n"
     ]
    }
   ],
   "source": [
    "v = len(restaurants_df[restaurants_df[\"checkin_count\"] < 5])\n",
    "print(f\"There are {v} restaurants with 5 checkins or less\")"
   ]
  },
  {
   "cell_type": "code",
   "execution_count": 22,
   "metadata": {},
   "outputs": [
    {
     "name": "stdout",
     "output_type": "stream",
     "text": [
      "Restaurants star rating is 3.48/5 average\n"
     ]
    }
   ],
   "source": [
    "average_star_rating = round(restaurants_df[\"raw_stars\"].mean(), 2)\n",
    "print(f\"Restaurants star rating is {average_star_rating}/5 average\")"
   ]
  },
  {
   "cell_type": "code",
   "execution_count": 23,
   "metadata": {},
   "outputs": [
    {
     "data": {
      "text/plain": [
       "4.0    6265\n",
       "3.5    5305\n",
       "4.5    3965\n",
       "3.0    3665\n",
       "2.5    2110\n",
       "5.0    1508\n",
       "2.0    1359\n",
       "1.0     851\n",
       "1.5     691\n",
       "Name: stars, dtype: int64"
      ]
     },
     "execution_count": 23,
     "metadata": {},
     "output_type": "execute_result"
    }
   ],
   "source": [
    "restaurants_df['stars'].value_counts()"
   ]
  },
  {
   "cell_type": "code",
   "execution_count": 24,
   "metadata": {},
   "outputs": [
    {
     "data": {
      "text/html": [
       "<div>\n",
       "<style scoped>\n",
       "    .dataframe tbody tr th:only-of-type {\n",
       "        vertical-align: middle;\n",
       "    }\n",
       "\n",
       "    .dataframe tbody tr th {\n",
       "        vertical-align: top;\n",
       "    }\n",
       "\n",
       "    .dataframe thead th {\n",
       "        text-align: right;\n",
       "    }\n",
       "</style>\n",
       "<table border=\"1\" class=\"dataframe\">\n",
       "  <thead>\n",
       "    <tr style=\"text-align: right;\">\n",
       "      <th></th>\n",
       "      <th>checkin_count</th>\n",
       "      <th>tip_count</th>\n",
       "      <th>review_count</th>\n",
       "    </tr>\n",
       "  </thead>\n",
       "  <tbody>\n",
       "    <tr>\n",
       "      <th>checkin_count</th>\n",
       "      <td>1.000000</td>\n",
       "      <td>0.73862</td>\n",
       "      <td>0.791619</td>\n",
       "    </tr>\n",
       "    <tr>\n",
       "      <th>tip_count</th>\n",
       "      <td>0.738620</td>\n",
       "      <td>1.00000</td>\n",
       "      <td>0.846600</td>\n",
       "    </tr>\n",
       "    <tr>\n",
       "      <th>review_count</th>\n",
       "      <td>0.791619</td>\n",
       "      <td>0.84660</td>\n",
       "      <td>1.000000</td>\n",
       "    </tr>\n",
       "  </tbody>\n",
       "</table>\n",
       "</div>"
      ],
      "text/plain": [
       "               checkin_count  tip_count  review_count\n",
       "checkin_count       1.000000    0.73862      0.791619\n",
       "tip_count           0.738620    1.00000      0.846600\n",
       "review_count        0.791619    0.84660      1.000000"
      ]
     },
     "execution_count": 24,
     "metadata": {},
     "output_type": "execute_result"
    }
   ],
   "source": [
    "restaurants_df[['checkin_count', 'tip_count', 'review_count']].corr()"
   ]
  },
  {
   "cell_type": "code",
   "execution_count": 26,
   "metadata": {},
   "outputs": [
    {
     "name": "stdout",
     "output_type": "stream",
     "text": [
      "There were 26598 restaurants open in 2016 of which 5047 have since closed down\n"
     ]
    }
   ],
   "source": [
    "later_closed = restaurants_df[restaurants_df[\"is_open\"] == 0]\n",
    "\n",
    "print(f\"There were {len(restaurants_df)} restaurants open in 2016 of which {len(later_closed)} have since closed down\")"
   ]
  },
  {
   "cell_type": "code",
   "execution_count": 27,
   "metadata": {},
   "outputs": [
    {
     "data": {
      "text/plain": [
       "76.27633656665915"
      ]
     },
     "execution_count": 27,
     "metadata": {},
     "output_type": "execute_result"
    }
   ],
   "source": [
    "restaurants_df[\"visit_count\"].mean()"
   ]
  },
  {
   "cell_type": "code",
   "execution_count": 28,
   "metadata": {},
   "outputs": [
    {
     "data": {
      "text/plain": [
       "0"
      ]
     },
     "execution_count": 28,
     "metadata": {},
     "output_type": "execute_result"
    }
   ],
   "source": [
    "restaurants_df[\"visit_count\"].min()"
   ]
  },
  {
   "cell_type": "code",
   "execution_count": 29,
   "metadata": {},
   "outputs": [
    {
     "data": {
      "text/plain": [
       "3904"
      ]
     },
     "execution_count": 29,
     "metadata": {},
     "output_type": "execute_result"
    }
   ],
   "source": [
    "restaurants_df[\"visit_count\"].max()"
   ]
  },
  {
   "cell_type": "code",
   "execution_count": 30,
   "metadata": {},
   "outputs": [
    {
     "data": {
      "text/plain": [
       "138.26782620412973"
      ]
     },
     "execution_count": 30,
     "metadata": {},
     "output_type": "execute_result"
    }
   ],
   "source": [
    "restaurants_df[\"visit_count\"].std()"
   ]
  },
  {
   "cell_type": "code",
   "execution_count": 31,
   "metadata": {},
   "outputs": [
    {
     "data": {
      "text/plain": [
       "84"
      ]
     },
     "execution_count": 31,
     "metadata": {},
     "output_type": "execute_result"
    }
   ],
   "source": [
    "len(restaurants_df[restaurants_df['visit_count'] > 1000])"
   ]
  },
  {
   "cell_type": "code",
   "execution_count": 32,
   "metadata": {},
   "outputs": [
    {
     "name": "stdout",
     "output_type": "stream",
     "text": [
      "25% quantile total is 14.0\n",
      "33% quantile total is 19.0\n",
      "50% quantile total is 36.0\n",
      "66% quantile total is 61.0\n",
      "75% quantile total is 86.0\n"
     ]
    }
   ],
   "source": [
    "print(\"25% quantile total is \" + str(restaurants_df['visit_count'].quantile(0.25)))\n",
    "print(\"33% quantile total is \" + str(restaurants_df['visit_count'].quantile(0.33)))\n",
    "print(\"50% quantile total is \" + str(restaurants_df['visit_count'].quantile(0.5)))\n",
    "print(\"66% quantile total is \" + str(restaurants_df['visit_count'].quantile(0.66)))\n",
    "print(\"75% quantile total is \" + str(restaurants_df['visit_count'].quantile(0.75)))"
   ]
  },
  {
   "cell_type": "code",
   "execution_count": 33,
   "metadata": {},
   "outputs": [
    {
     "name": "stdout",
     "output_type": "stream",
     "text": [
      "25% quantile total is 8.0\n",
      "33% quantile total is 12.0\n",
      "50% quantile total is 24.0\n",
      "66% quantile total is 43.0\n",
      "75% quantile total is 60.0\n"
     ]
    }
   ],
   "source": [
    "print(\"25% quantile total is \" + str(restaurants_df['checkins_tips_count'].quantile(0.25)))\n",
    "print(\"33% quantile total is \" + str(restaurants_df['checkins_tips_count'].quantile(0.33)))\n",
    "print(\"50% quantile total is \" + str(restaurants_df['checkins_tips_count'].quantile(0.5)))\n",
    "print(\"66% quantile total is \" + str(restaurants_df['checkins_tips_count'].quantile(0.66)))\n",
    "print(\"75% quantile total is \" + str(restaurants_df['checkins_tips_count'].quantile(0.75)))"
   ]
  },
  {
   "cell_type": "markdown",
   "metadata": {},
   "source": [
    "#### Correlations"
   ]
  },
  {
   "cell_type": "code",
   "execution_count": 34,
   "metadata": {},
   "outputs": [
    {
     "data": {
      "text/html": [
       "<div>\n",
       "<style scoped>\n",
       "    .dataframe tbody tr th:only-of-type {\n",
       "        vertical-align: middle;\n",
       "    }\n",
       "\n",
       "    .dataframe tbody tr th {\n",
       "        vertical-align: top;\n",
       "    }\n",
       "\n",
       "    .dataframe thead th {\n",
       "        text-align: right;\n",
       "    }\n",
       "</style>\n",
       "<table border=\"1\" class=\"dataframe\">\n",
       "  <thead>\n",
       "    <tr style=\"text-align: right;\">\n",
       "      <th></th>\n",
       "      <th>visit_count</th>\n",
       "      <th>raw_stars</th>\n",
       "    </tr>\n",
       "  </thead>\n",
       "  <tbody>\n",
       "    <tr>\n",
       "      <th>visit_count</th>\n",
       "      <td>1.000000</td>\n",
       "      <td>0.174119</td>\n",
       "    </tr>\n",
       "    <tr>\n",
       "      <th>raw_stars</th>\n",
       "      <td>0.174119</td>\n",
       "      <td>1.000000</td>\n",
       "    </tr>\n",
       "  </tbody>\n",
       "</table>\n",
       "</div>"
      ],
      "text/plain": [
       "             visit_count  raw_stars\n",
       "visit_count     1.000000   0.174119\n",
       "raw_stars       0.174119   1.000000"
      ]
     },
     "execution_count": 34,
     "metadata": {},
     "output_type": "execute_result"
    }
   ],
   "source": [
    "restaurants_df[['visit_count', 'raw_stars']].corr()"
   ]
  },
  {
   "cell_type": "code",
   "execution_count": 35,
   "metadata": {},
   "outputs": [
    {
     "data": {
      "text/html": [
       "<div>\n",
       "<style scoped>\n",
       "    .dataframe tbody tr th:only-of-type {\n",
       "        vertical-align: middle;\n",
       "    }\n",
       "\n",
       "    .dataframe tbody tr th {\n",
       "        vertical-align: top;\n",
       "    }\n",
       "\n",
       "    .dataframe thead th {\n",
       "        text-align: right;\n",
       "    }\n",
       "</style>\n",
       "<table border=\"1\" class=\"dataframe\">\n",
       "  <thead>\n",
       "    <tr style=\"text-align: right;\">\n",
       "      <th></th>\n",
       "      <th>visit_count</th>\n",
       "      <th>is_open</th>\n",
       "    </tr>\n",
       "  </thead>\n",
       "  <tbody>\n",
       "    <tr>\n",
       "      <th>visit_count</th>\n",
       "      <td>1.000000</td>\n",
       "      <td>0.023345</td>\n",
       "    </tr>\n",
       "    <tr>\n",
       "      <th>is_open</th>\n",
       "      <td>0.023345</td>\n",
       "      <td>1.000000</td>\n",
       "    </tr>\n",
       "  </tbody>\n",
       "</table>\n",
       "</div>"
      ],
      "text/plain": [
       "             visit_count   is_open\n",
       "visit_count     1.000000  0.023345\n",
       "is_open         0.023345  1.000000"
      ]
     },
     "execution_count": 35,
     "metadata": {},
     "output_type": "execute_result"
    }
   ],
   "source": [
    "restaurants_df[['visit_count', 'is_open']].corr()"
   ]
  },
  {
   "cell_type": "code",
   "execution_count": 36,
   "metadata": {},
   "outputs": [
    {
     "data": {
      "text/html": [
       "<div>\n",
       "<style scoped>\n",
       "    .dataframe tbody tr th:only-of-type {\n",
       "        vertical-align: middle;\n",
       "    }\n",
       "\n",
       "    .dataframe tbody tr th {\n",
       "        vertical-align: top;\n",
       "    }\n",
       "\n",
       "    .dataframe thead th {\n",
       "        text-align: right;\n",
       "    }\n",
       "</style>\n",
       "<table border=\"1\" class=\"dataframe\">\n",
       "  <thead>\n",
       "    <tr style=\"text-align: right;\">\n",
       "      <th></th>\n",
       "      <th>checkins_tips_count</th>\n",
       "      <th>is_open</th>\n",
       "    </tr>\n",
       "  </thead>\n",
       "  <tbody>\n",
       "    <tr>\n",
       "      <th>checkins_tips_count</th>\n",
       "      <td>1.000000</td>\n",
       "      <td>0.027266</td>\n",
       "    </tr>\n",
       "    <tr>\n",
       "      <th>is_open</th>\n",
       "      <td>0.027266</td>\n",
       "      <td>1.000000</td>\n",
       "    </tr>\n",
       "  </tbody>\n",
       "</table>\n",
       "</div>"
      ],
      "text/plain": [
       "                     checkins_tips_count   is_open\n",
       "checkins_tips_count             1.000000  0.027266\n",
       "is_open                         0.027266  1.000000"
      ]
     },
     "execution_count": 36,
     "metadata": {},
     "output_type": "execute_result"
    }
   ],
   "source": [
    "restaurants_df[['checkins_tips_count', 'is_open']].corr()"
   ]
  },
  {
   "cell_type": "markdown",
   "metadata": {},
   "source": [
    "### Looking at the restaurants who later closed down"
   ]
  },
  {
   "cell_type": "code",
   "execution_count": 37,
   "metadata": {},
   "outputs": [],
   "source": [
    "open_restaurants_in_2017_df = restaurants_df[restaurants_df[\"is_open\"] == 1]"
   ]
  },
  {
   "cell_type": "code",
   "execution_count": 38,
   "metadata": {},
   "outputs": [
    {
     "data": {
      "text/plain": [
       "77.83833696812214"
      ]
     },
     "execution_count": 38,
     "metadata": {},
     "output_type": "execute_result"
    }
   ],
   "source": [
    "open_restaurants_in_2017_df[\"visit_count\"].mean()"
   ]
  },
  {
   "cell_type": "code",
   "execution_count": 39,
   "metadata": {},
   "outputs": [],
   "source": [
    "closed_restaurants_in_2017_df = restaurants_df[restaurants_df[\"is_open\"] == 0]"
   ]
  },
  {
   "cell_type": "code",
   "execution_count": 40,
   "metadata": {},
   "outputs": [
    {
     "data": {
      "text/plain": [
       "5047"
      ]
     },
     "execution_count": 40,
     "metadata": {},
     "output_type": "execute_result"
    }
   ],
   "source": [
    "len(closed_restaurants_in_2017_df)"
   ]
  },
  {
   "cell_type": "code",
   "execution_count": 41,
   "metadata": {},
   "outputs": [
    {
     "data": {
      "text/plain": [
       "69.60649891024372"
      ]
     },
     "execution_count": 41,
     "metadata": {},
     "output_type": "execute_result"
    }
   ],
   "source": [
    "closed_restaurants_in_2017_df[\"visit_count\"].mean()"
   ]
  },
  {
   "cell_type": "code",
   "execution_count": 42,
   "metadata": {},
   "outputs": [],
   "source": [
    "closed_restaurants_in_2017_df = closed_restaurants_in_2017_df[closed_restaurants_in_2017_df[\"last_date_year\"] == 2017]"
   ]
  },
  {
   "cell_type": "code",
   "execution_count": 43,
   "metadata": {},
   "outputs": [
    {
     "data": {
      "text/plain": [
       "1130"
      ]
     },
     "execution_count": 43,
     "metadata": {},
     "output_type": "execute_result"
    }
   ],
   "source": [
    "len(closed_restaurants_in_2017_df)"
   ]
  },
  {
   "cell_type": "code",
   "execution_count": 44,
   "metadata": {},
   "outputs": [
    {
     "data": {
      "text/plain": [
       "48.130973451327435"
      ]
     },
     "execution_count": 44,
     "metadata": {},
     "output_type": "execute_result"
    }
   ],
   "source": [
    "closed_restaurants_in_2017_df[\"visit_count\"].mean()"
   ]
  },
  {
   "cell_type": "markdown",
   "metadata": {},
   "source": [
    "### Looking at % of Restaurants who closed down based on visit count"
   ]
  },
  {
   "cell_type": "code",
   "execution_count": 45,
   "metadata": {},
   "outputs": [],
   "source": [
    "bottom_df = restaurants_df.loc[restaurants_df[\"visit_count\"] <= 19.0]"
   ]
  },
  {
   "cell_type": "code",
   "execution_count": 46,
   "metadata": {},
   "outputs": [
    {
     "data": {
      "text/plain": [
       "0.33055116926084666"
      ]
     },
     "execution_count": 46,
     "metadata": {},
     "output_type": "execute_result"
    }
   ],
   "source": [
    "len(bottom_df)/len(restaurants_df)"
   ]
  },
  {
   "cell_type": "code",
   "execution_count": 47,
   "metadata": {},
   "outputs": [],
   "source": [
    "middle_df = restaurants_df.loc[restaurants_df[\"visit_count\"] > 19.0]\n",
    "middle_df = middle_df.loc[middle_df[\"visit_count\"] <= 61.0]"
   ]
  },
  {
   "cell_type": "code",
   "execution_count": 48,
   "metadata": {},
   "outputs": [
    {
     "data": {
      "text/plain": [
       "0.33171667042634784"
      ]
     },
     "execution_count": 48,
     "metadata": {},
     "output_type": "execute_result"
    }
   ],
   "source": [
    "len(middle_df)/len(restaurants_df)"
   ]
  },
  {
   "cell_type": "code",
   "execution_count": 49,
   "metadata": {},
   "outputs": [],
   "source": [
    "top_df = restaurants_df.loc[restaurants_df[\"visit_count\"] > 61.0]"
   ]
  },
  {
   "cell_type": "code",
   "execution_count": 50,
   "metadata": {},
   "outputs": [
    {
     "data": {
      "text/plain": [
       "0.33773216031280545"
      ]
     },
     "execution_count": 50,
     "metadata": {},
     "output_type": "execute_result"
    }
   ],
   "source": [
    "len(top_df)/len(restaurants_df)"
   ]
  },
  {
   "cell_type": "code",
   "execution_count": 51,
   "metadata": {},
   "outputs": [
    {
     "data": {
      "text/plain": [
       "1.0"
      ]
     },
     "execution_count": 51,
     "metadata": {},
     "output_type": "execute_result"
    }
   ],
   "source": [
    "(len(bottom_df) + len(middle_df) + len(top_df))/len(restaurants_df)"
   ]
  },
  {
   "cell_type": "code",
   "execution_count": 52,
   "metadata": {},
   "outputs": [
    {
     "name": "stdout",
     "output_type": "stream",
     "text": [
      "1130\n"
     ]
    }
   ],
   "source": [
    "total_closed = len(closed_restaurants_in_2017_df)\n",
    "print(total_closed)"
   ]
  },
  {
   "cell_type": "code",
   "execution_count": 53,
   "metadata": {},
   "outputs": [],
   "source": [
    "bottom_closed_df = bottom_df[(bottom_df[\"is_open\"] == 0) & (bottom_df[\"last_date_year\"] == 2017)]\n",
    "middle_closed_df = middle_df[(middle_df[\"is_open\"] == 0) & (middle_df[\"last_date_year\"] == 2017)]\n",
    "top_closed_df = top_df[(top_df[\"is_open\"] == 0) & (top_df[\"last_date_year\"] == 2017)]"
   ]
  },
  {
   "cell_type": "code",
   "execution_count": 54,
   "metadata": {},
   "outputs": [
    {
     "name": "stdout",
     "output_type": "stream",
     "text": [
      "35.31% of closed restaurants are in the bottom 33% quartile\n",
      "38.85% of closed restaurants are in the middle 33% quartile\n",
      "25.84% of closed restaurants are in the top 33% quartile\n"
     ]
    }
   ],
   "source": [
    "bottom_pct = round(len(bottom_closed_df) / total_closed * 100, 2)\n",
    "middle_pct = round(len(middle_closed_df) / total_closed * 100, 2)\n",
    "top_pct = round(len(top_closed_df) / total_closed * 100, 2)\n",
    "\n",
    "print(f\"{bottom_pct}% of closed restaurants are in the bottom 33% quartile\")\n",
    "print(f\"{middle_pct}% of closed restaurants are in the middle 33% quartile\")\n",
    "print(f\"{top_pct}% of closed restaurants are in the top 33% quartile\")"
   ]
  },
  {
   "cell_type": "code",
   "execution_count": 55,
   "metadata": {},
   "outputs": [],
   "source": [
    "first_df = restaurants_df.loc[restaurants_df[\"visit_count\"] <= 36]\n",
    "second_df = restaurants_df.loc[restaurants_df[\"visit_count\"] > 36]"
   ]
  },
  {
   "cell_type": "code",
   "execution_count": 56,
   "metadata": {},
   "outputs": [],
   "source": [
    "first_closed_df = first_df[(first_df[\"is_open\"] == 0) & (first_df[\"last_date_year\"] == 2017)]\n",
    "second_closed_df = second_df[(second_df[\"is_open\"] == 0) & (second_df[\"last_date_year\"] == 2017)]"
   ]
  },
  {
   "cell_type": "code",
   "execution_count": 57,
   "metadata": {},
   "outputs": [
    {
     "name": "stdout",
     "output_type": "stream",
     "text": [
      "56.11% of closed restaurants are in the bottom 50% quartile\n",
      "43.89% of closed restaurants are in the top 50% quartile\n"
     ]
    }
   ],
   "source": [
    "print(f\"{round(len(first_closed_df) / total_closed * 100, 2)}% of closed restaurants are in the bottom 50% quartile\")\n",
    "print(f\"{round(len(second_closed_df) / total_closed * 100, 2)}% of closed restaurants are in the top 50% quartile\")"
   ]
  },
  {
   "cell_type": "code",
   "execution_count": 58,
   "metadata": {},
   "outputs": [
    {
     "name": "stdout",
     "output_type": "stream",
     "text": [
      "3.204649895015819 3.454684938621264 3.7543916392419088\n"
     ]
    }
   ],
   "source": [
    "bm = bottom_df[\"raw_stars\"].mean()\n",
    "mm = middle_df[\"raw_stars\"].mean()\n",
    "tm = top_df[\"raw_stars\"].mean()\n",
    "print(bm, mm, tm)"
   ]
  },
  {
   "cell_type": "markdown",
   "metadata": {},
   "source": [
    "### Looking at % of Restaurants who closed down based on tips and checkins count"
   ]
  },
  {
   "cell_type": "code",
   "execution_count": 59,
   "metadata": {},
   "outputs": [],
   "source": [
    "bottom_df = restaurants_df.loc[restaurants_df[\"checkins_tips_count\"] <= 12.0]\n",
    "middle_df = restaurants_df.loc[restaurants_df[\"checkins_tips_count\"] > 12.0]\n",
    "middle_df = middle_df.loc[middle_df[\"checkins_tips_count\"] <= 43]\n",
    "top_df = restaurants_df.loc[restaurants_df[\"checkins_tips_count\"] > 43]"
   ]
  },
  {
   "cell_type": "code",
   "execution_count": 60,
   "metadata": {},
   "outputs": [
    {
     "data": {
      "text/plain": [
       "1.0"
      ]
     },
     "execution_count": 60,
     "metadata": {},
     "output_type": "execute_result"
    }
   ],
   "source": [
    "(len(bottom_df) + len(middle_df) + len(top_df))/len(restaurants_df)"
   ]
  },
  {
   "cell_type": "code",
   "execution_count": 61,
   "metadata": {},
   "outputs": [],
   "source": [
    "bottom_closed_df = bottom_df[(bottom_df[\"is_open\"] == 0) & (bottom_df[\"last_date_year\"] == 2017)]\n",
    "middle_closed_df = middle_df[(middle_df[\"is_open\"] == 0) & (middle_df[\"last_date_year\"] == 2017)]\n",
    "top_closed_df = top_df[(top_df[\"is_open\"] == 0) & (top_df[\"last_date_year\"] == 2017)]"
   ]
  },
  {
   "cell_type": "code",
   "execution_count": 62,
   "metadata": {},
   "outputs": [
    {
     "name": "stdout",
     "output_type": "stream",
     "text": [
      "39.29% of closed restaurants are in the bottom 33% quartile\n",
      "37.26% of closed restaurants are in the middle 33% quartile\n",
      "23.45% of closed restaurants are in the top 33% quartile\n"
     ]
    }
   ],
   "source": [
    "bottom_pct = round(len(bottom_closed_df) / total_closed * 100, 2)\n",
    "middle_pct = round(len(middle_closed_df) / total_closed * 100, 2)\n",
    "top_pct = round(len(top_closed_df) / total_closed * 100, 2)\n",
    "\n",
    "print(f\"{bottom_pct}% of closed restaurants are in the bottom 33% quartile\")\n",
    "print(f\"{middle_pct}% of closed restaurants are in the middle 33% quartile\")\n",
    "print(f\"{top_pct}% of closed restaurants are in the top 33% quartile\")"
   ]
  },
  {
   "cell_type": "code",
   "execution_count": 63,
   "metadata": {},
   "outputs": [],
   "source": [
    "first_df = restaurants_df.loc[restaurants_df[\"checkins_tips_count\"] <= 24]\n",
    "second_df = restaurants_df.loc[restaurants_df[\"checkins_tips_count\"] > 24]\n",
    "\n",
    "first_closed_df = first_df[(first_df[\"is_open\"] == 0) & (first_df[\"last_date_year\"] == 2017)]\n",
    "second_closed_df = second_df[(second_df[\"is_open\"] == 0) & (second_df[\"last_date_year\"] == 2017)]"
   ]
  },
  {
   "cell_type": "code",
   "execution_count": 64,
   "metadata": {},
   "outputs": [
    {
     "name": "stdout",
     "output_type": "stream",
     "text": [
      "58.67% of closed restaurants are in the bottom 50% quartile\n",
      "41.33% of closed restaurants are in the top 50% quartile\n"
     ]
    }
   ],
   "source": [
    "print(f\"{round(len(first_closed_df) / total_closed * 100, 2)}% of closed restaurants are in the bottom 50% quartile\")\n",
    "print(f\"{round(len(second_closed_df) / total_closed * 100, 2)}% of closed restaurants are in the top 50% quartile\")"
   ]
  },
  {
   "cell_type": "markdown",
   "metadata": {},
   "source": [
    "### Looking at % of Restaurants who closed down based star rating"
   ]
  },
  {
   "cell_type": "code",
   "execution_count": 65,
   "metadata": {},
   "outputs": [
    {
     "name": "stdout",
     "output_type": "stream",
     "text": [
      "25% quantile total is 3.0\n",
      "33% quantile total is 3.2142857142857144\n",
      "50% quantile total is 3.6538461538461537\n",
      "66% quantile total is 4.0\n",
      "75% quantile total is 4.153846153846153\n"
     ]
    }
   ],
   "source": [
    "print(\"25% quantile total is \" + str(restaurants_df['raw_stars'].quantile(0.25)))\n",
    "print(\"33% quantile total is \" + str(restaurants_df['raw_stars'].quantile(0.33)))\n",
    "print(\"50% quantile total is \" + str(restaurants_df['raw_stars'].quantile(0.5)))\n",
    "print(\"66% quantile total is \" + str(restaurants_df['raw_stars'].quantile(0.66)))\n",
    "print(\"75% quantile total is \" + str(restaurants_df['raw_stars'].quantile(0.75)))"
   ]
  },
  {
   "cell_type": "code",
   "execution_count": 66,
   "metadata": {},
   "outputs": [],
   "source": [
    "bottom_df = restaurants_df.loc[restaurants_df[\"raw_stars\"] <= 3.21]\n",
    "middle_df = restaurants_df.loc[restaurants_df[\"raw_stars\"] > 3.21]\n",
    "middle_df = middle_df.loc[middle_df[\"raw_stars\"] <= 4.0]\n",
    "top_df = restaurants_df.loc[restaurants_df[\"raw_stars\"] > 4.0]"
   ]
  },
  {
   "cell_type": "code",
   "execution_count": 67,
   "metadata": {},
   "outputs": [],
   "source": [
    "bottom_closed_df = bottom_df[(bottom_df[\"is_open\"] == 0) & (bottom_df[\"last_date_year\"] == 2017)]\n",
    "middle_closed_df = middle_df[(middle_df[\"is_open\"] == 0) & (middle_df[\"last_date_year\"] == 2017)]\n",
    "top_closed_df = top_df[(top_df[\"is_open\"] == 0) & (top_df[\"last_date_year\"] == 2017)]"
   ]
  },
  {
   "cell_type": "code",
   "execution_count": 68,
   "metadata": {},
   "outputs": [
    {
     "name": "stdout",
     "output_type": "stream",
     "text": [
      "38.0% of closed restaurants are in the bottom 33% quartile\n",
      "37.0% of closed restaurants are in the middle 33% quartile\n",
      "23.1% of closed restaurants are in the top 33% quartile\n"
     ]
    }
   ],
   "source": [
    "bottom_pct = round(len(bottom_closed_df) / total_closed, 2)*100\n",
    "middle_pct = round(len(middle_closed_df) / total_closed, 2)*100\n",
    "top_pct = round(len(top_closed_df) / total_closed *100, 2)\n",
    "\n",
    "print(f\"{bottom_pct}% of closed restaurants are in the bottom 33% quartile\")\n",
    "print(f\"{middle_pct}% of closed restaurants are in the middle 33% quartile\")\n",
    "print(f\"{top_pct}% of closed restaurants are in the top 33% quartile\")"
   ]
  },
  {
   "cell_type": "code",
   "execution_count": 70,
   "metadata": {},
   "outputs": [],
   "source": [
    "first_df = restaurants_df.loc[restaurants_df[\"raw_stars\"] <= 3.65]\n",
    "second_df = restaurants_df.loc[restaurants_df[\"raw_stars\"] > 3.65]\n",
    "\n",
    "first_closed_df = first_df[(first_df[\"is_open\"] == 0) & (first_df[\"last_date_year\"] == 2017)]\n",
    "second_closed_df = second_df[(second_df[\"is_open\"] == 0) & (second_df[\"last_date_year\"] == 2017)]"
   ]
  },
  {
   "cell_type": "code",
   "execution_count": 72,
   "metadata": {},
   "outputs": [
    {
     "name": "stdout",
     "output_type": "stream",
     "text": [
      "55.84% of closed restaurants are in the bottom 50% quartile\n",
      "42.3% of closed restaurants are in the top 50% quartile\n"
     ]
    }
   ],
   "source": [
    "print(f\"{round(len(first_closed_df) / total_closed * 100, 2)}% of closed restaurants are in the bottom 50% quartile\")\n",
    "print(f\"{round(len(second_closed_df) / total_closed * 100, 2)}% of closed restaurants are in the top 50% quartile\")"
   ]
  },
  {
   "cell_type": "markdown",
   "metadata": {},
   "source": [
    "### Looking at star rating of unpopular businesses"
   ]
  },
  {
   "cell_type": "code",
   "execution_count": 74,
   "metadata": {},
   "outputs": [
    {
     "data": {
      "text/plain": [
       "<matplotlib.axes._subplots.AxesSubplot at 0x19c6c5086a0>"
      ]
     },
     "execution_count": 74,
     "metadata": {},
     "output_type": "execute_result"
    },
    {
     "data": {
      "image/png": "[encoded data removed]",
      "text/plain": [
       "<Figure size 432x288 with 1 Axes>"
      ]
     },
     "metadata": {
      "needs_background": "light"
     },
     "output_type": "display_data"
    }
   ],
   "source": [
    "restaurants_df.plot(x='visit_count', y='raw_stars', style='o')"
   ]
  },
  {
   "cell_type": "markdown",
   "metadata": {},
   "source": [
    "### K-Means Clustering"
   ]
  },
  {
   "cell_type": "code",
   "execution_count": 75,
   "metadata": {},
   "outputs": [],
   "source": [
    "from matplotlib import pyplot as plt\n",
    "from sklearn.cluster import KMeans"
   ]
  },
  {
   "cell_type": "code",
   "execution_count": 136,
   "metadata": {},
   "outputs": [],
   "source": [
    "X_df = restaurants_df.copy()[[\"checkins_tips_count\", \"raw_stars\"]]\n",
    "X_df[\"raw_stars\"] = X_df[\"raw_stars\"].apply(lambda x: x*50)\n",
    "X_df = X_df.dropna()"
   ]
  },
  {
   "cell_type": "code",
   "execution_count": 137,
   "metadata": {},
   "outputs": [],
   "source": [
    "X = X_df.to_numpy()"
   ]
  },
  {
   "cell_type": "code",
   "execution_count": 138,
   "metadata": {},
   "outputs": [
    {
     "data": {
      "text/plain": [
       "array([[144.        , 203.84615385],\n",
       "       [ 24.        , 180.76923077],\n",
       "       [ 31.        , 232.14285714],\n",
       "       ...,\n",
       "       [116.        , 138.33333333],\n",
       "       [ 41.        , 148.21428571],\n",
       "       [ 33.        , 206.57894737]])"
      ]
     },
     "execution_count": 138,
     "metadata": {},
     "output_type": "execute_result"
    }
   ],
   "source": [
    "X"
   ]
  },
  {
   "cell_type": "code",
   "execution_count": 139,
   "metadata": {},
   "outputs": [
    {
     "data": {
      "text/plain": [
       "<matplotlib.collections.PathCollection at 0x19c7242ff28>"
      ]
     },
     "execution_count": 139,
     "metadata": {},
     "output_type": "execute_result"
    },
    {
     "data": {
      "image/png": "[encoded data removed]",
      "text/plain": [
       "<Figure size 432x288 with 1 Axes>"
      ]
     },
     "metadata": {
      "needs_background": "light"
     },
     "output_type": "display_data"
    }
   ],
   "source": [
    "plt.scatter(X[:,0], X[:,1])"
   ]
  },
  {
   "cell_type": "code",
   "execution_count": 92,
   "metadata": {},
   "outputs": [
    {
     "data": {
      "image/png": "[encoded data removed]",
      "text/plain": [
       "<Figure size 432x288 with 1 Axes>"
      ]
     },
     "metadata": {
      "needs_background": "light"
     },
     "output_type": "display_data"
    }
   ],
   "source": [
    "# calculate distortion for a range of number of cluster\n",
    "distortions = []\n",
    "for i in range(1, 11):\n",
    "    km = KMeans(\n",
    "        n_clusters=i, init='random',\n",
    "        n_init=10, max_iter=300,\n",
    "        tol=1e-04, random_state=0\n",
    "    )\n",
    "    km.fit(X)\n",
    "    distortions.append(km.inertia_)\n",
    "\n",
    "# plot\n",
    "plt.plot(range(1, 11), distortions, marker='o')\n",
    "plt.xlabel('Number of clusters')\n",
    "plt.ylabel('Distortion')\n",
    "plt.show()"
   ]
  },
  {
   "cell_type": "code",
   "execution_count": 174,
   "metadata": {},
   "outputs": [],
   "source": [
    "km = KMeans(\n",
    "    n_clusters=4, init='k-means++',\n",
    "    n_init=30, max_iter=1000, \n",
    "    tol=1e-04, random_state=0\n",
    ")\n",
    "y_km = km.fit_predict(X)"
   ]
  },
  {
   "cell_type": "code",
   "execution_count": 175,
   "metadata": {},
   "outputs": [
    {
     "data": {
      "image/png": "[encoded data removed]",
      "text/plain": [
       "<Figure size 432x288 with 1 Axes>"
      ]
     },
     "metadata": {
      "needs_background": "light"
     },
     "output_type": "display_data"
    }
   ],
   "source": [
    "# plot the 4 clusters\n",
    "plt.scatter(\n",
    "    X[y_km == 0, 0], X[y_km == 0, 1],\n",
    "    s=50, c='lightgreen',\n",
    "    marker='s', edgecolor='black',\n",
    "    label='cluster 0'\n",
    ")\n",
    "\n",
    "plt.scatter(\n",
    "    X[y_km == 1, 0], X[y_km == 1, 1],\n",
    "    s=50, c='orange',\n",
    "    marker='o', edgecolor='black',\n",
    "    label='cluster 1'\n",
    ")\n",
    "\n",
    "plt.scatter(\n",
    "    X[y_km == 2, 0], X[y_km == 2, 1],\n",
    "    s=50, c='lightblue',\n",
    "    marker='v', edgecolor='black',\n",
    "    label='cluster 2'\n",
    ")\n",
    "\n",
    "plt.scatter(\n",
    "    X[y_km == 3, 0], X[y_km == 3, 1],\n",
    "    s=50, c='pink',\n",
    "    marker='8', edgecolor='black',\n",
    "    label='cluster 3'\n",
    ")\n",
    "\n",
    "# plot the centroids\n",
    "plt.scatter(\n",
    "    km.cluster_centers_[:, 0], km.cluster_centers_[:, 1],\n",
    "    s=250, marker='*',\n",
    "    c='red', edgecolor='black',\n",
    "    label='centroids'\n",
    ")\n",
    "plt.legend(scatterpoints=1)\n",
    "plt.grid()\n",
    "plt.show()"
   ]
  },
  {
   "cell_type": "code",
   "execution_count": 176,
   "metadata": {},
   "outputs": [
    {
     "data": {
      "text/plain": [
       "array([3, 3, 3, ..., 3, 0, 3])"
      ]
     },
     "execution_count": 176,
     "metadata": {},
     "output_type": "execute_result"
    }
   ],
   "source": [
    "y_km"
   ]
  },
  {
   "cell_type": "code",
   "execution_count": 177,
   "metadata": {},
   "outputs": [
    {
     "data": {
      "text/plain": [
       "25719"
      ]
     },
     "execution_count": 177,
     "metadata": {},
     "output_type": "execute_result"
    }
   ],
   "source": [
    "len(y_km)"
   ]
  },
  {
   "cell_type": "code",
   "execution_count": 178,
   "metadata": {},
   "outputs": [
    {
     "data": {
      "text/plain": [
       "{0: 8056, 1: 1819, 2: 79, 3: 15765}"
      ]
     },
     "execution_count": 178,
     "metadata": {},
     "output_type": "execute_result"
    }
   ],
   "source": [
    "unique, counts = np.unique(list(y_km), return_counts=True)\n",
    "dict(zip(unique, counts))"
   ]
  },
  {
   "cell_type": "code",
   "execution_count": 179,
   "metadata": {},
   "outputs": [],
   "source": [
    "def get_label(nb):\n",
    "    if nb == 0:\n",
    "        return 0\n",
    "    if nb == 1:\n",
    "        return 2\n",
    "    if nb == 2:\n",
    "        return 2\n",
    "    if nb == 3:\n",
    "        return 1\n",
    "\n",
    "\n",
    "labels = [get_label(nb) for nb in list(y_km)]"
   ]
  },
  {
   "cell_type": "code",
   "execution_count": 180,
   "metadata": {},
   "outputs": [
    {
     "name": "stderr",
     "output_type": "stream",
     "text": [
      "C:\\Users\\oktar\\Anaconda3\\lib\\site-packages\\ipykernel_launcher.py:1: SettingWithCopyWarning: \n",
      "A value is trying to be set on a copy of a slice from a DataFrame.\n",
      "Try using .loc[row_indexer,col_indexer] = value instead\n",
      "\n",
      "See the caveats in the documentation: http://pandas.pydata.org/pandas-docs/stable/indexing.html#indexing-view-versus-copy\n",
      "  \"\"\"Entry point for launching an IPython kernel.\n"
     ]
    }
   ],
   "source": [
    "restaurants_df['k'] = labels"
   ]
  },
  {
   "cell_type": "code",
   "execution_count": 181,
   "metadata": {},
   "outputs": [
    {
     "data": {
      "text/html": [
       "<div>\n",
       "<style scoped>\n",
       "    .dataframe tbody tr th:only-of-type {\n",
       "        vertical-align: middle;\n",
       "    }\n",
       "\n",
       "    .dataframe tbody tr th {\n",
       "        vertical-align: top;\n",
       "    }\n",
       "\n",
       "    .dataframe thead th {\n",
       "        text-align: right;\n",
       "    }\n",
       "</style>\n",
       "<table border=\"1\" class=\"dataframe\">\n",
       "  <thead>\n",
       "    <tr style=\"text-align: right;\">\n",
       "      <th></th>\n",
       "      <th>business_id</th>\n",
       "      <th>city</th>\n",
       "      <th>state</th>\n",
       "      <th>latitude</th>\n",
       "      <th>longitude</th>\n",
       "      <th>is_open</th>\n",
       "      <th>attributes</th>\n",
       "      <th>categories</th>\n",
       "      <th>hours</th>\n",
       "      <th>checkin_count</th>\n",
       "      <th>...</th>\n",
       "      <th>stars</th>\n",
       "      <th>tip_count</th>\n",
       "      <th>first_date</th>\n",
       "      <th>last_date</th>\n",
       "      <th>visit_count</th>\n",
       "      <th>is_open_year_after</th>\n",
       "      <th>last_date_year</th>\n",
       "      <th>checkins_tips_count</th>\n",
       "      <th>first_date_year</th>\n",
       "      <th>k</th>\n",
       "    </tr>\n",
       "  </thead>\n",
       "  <tbody>\n",
       "    <tr>\n",
       "      <th>0</th>\n",
       "      <td>tCbdrRPZA0oiIYSmHG3J0w</td>\n",
       "      <td>Portland</td>\n",
       "      <td>OR</td>\n",
       "      <td>45.588906</td>\n",
       "      <td>-122.593331</td>\n",
       "      <td>1</td>\n",
       "      <td>{'RestaurantsTakeOut': 'True', 'RestaurantsAtt...</td>\n",
       "      <td>Salad, Soup, Sandwiches, Delis, Restaurants, C...</td>\n",
       "      <td>{'Monday': '5:0-18:0', 'Tuesday': '5:0-17:0', ...</td>\n",
       "      <td>141</td>\n",
       "      <td>...</td>\n",
       "      <td>4.0</td>\n",
       "      <td>3</td>\n",
       "      <td>2010-03-09 16:02:04</td>\n",
       "      <td>2021-01-21 17:55:35</td>\n",
       "      <td>157</td>\n",
       "      <td>True</td>\n",
       "      <td>2021</td>\n",
       "      <td>144</td>\n",
       "      <td>2010</td>\n",
       "      <td>1</td>\n",
       "    </tr>\n",
       "    <tr>\n",
       "      <th>1</th>\n",
       "      <td>D4JtQNTI4X3KcbzacDJsMw</td>\n",
       "      <td>Vancouver</td>\n",
       "      <td>BC</td>\n",
       "      <td>49.251342</td>\n",
       "      <td>-123.101333</td>\n",
       "      <td>1</td>\n",
       "      <td>{'GoodForKids': 'True', 'Alcohol': \"u'none'\", ...</td>\n",
       "      <td>Restaurants, Thai</td>\n",
       "      <td>{'Monday': '17:0-21:0', 'Tuesday': '17:0-21:0'...</td>\n",
       "      <td>22</td>\n",
       "      <td>...</td>\n",
       "      <td>3.5</td>\n",
       "      <td>2</td>\n",
       "      <td>2010-09-26 04:03:35</td>\n",
       "      <td>2021-01-23 01:43:50</td>\n",
       "      <td>37</td>\n",
       "      <td>True</td>\n",
       "      <td>2021</td>\n",
       "      <td>24</td>\n",
       "      <td>2010</td>\n",
       "      <td>1</td>\n",
       "    </tr>\n",
       "    <tr>\n",
       "      <th>2</th>\n",
       "      <td>ufCxltuh56FF4-ZFZ6cVhg</td>\n",
       "      <td>Orlando</td>\n",
       "      <td>FL</td>\n",
       "      <td>28.513265</td>\n",
       "      <td>-81.374707</td>\n",
       "      <td>1</td>\n",
       "      <td>{'BusinessParking': \"{'garage': False, 'street...</td>\n",
       "      <td>Restaurants, American (New), Bakeries, Dessert...</td>\n",
       "      <td>{'Tuesday': '11:0-18:0', 'Wednesday': '11:0-18...</td>\n",
       "      <td>28</td>\n",
       "      <td>...</td>\n",
       "      <td>4.5</td>\n",
       "      <td>3</td>\n",
       "      <td>2012-08-19 21:08:57</td>\n",
       "      <td>2020-12-29 16:25:19</td>\n",
       "      <td>45</td>\n",
       "      <td>True</td>\n",
       "      <td>2020</td>\n",
       "      <td>31</td>\n",
       "      <td>2012</td>\n",
       "      <td>1</td>\n",
       "    </tr>\n",
       "    <tr>\n",
       "      <th>4</th>\n",
       "      <td>jGennaZUr2MsJyRhijNBfA</td>\n",
       "      <td>Boston</td>\n",
       "      <td>MA</td>\n",
       "      <td>42.363442</td>\n",
       "      <td>-71.025781</td>\n",
       "      <td>1</td>\n",
       "      <td>{'NoiseLevel': \"u'average'\", 'BikeParking': 'F...</td>\n",
       "      <td>Sandwiches, Food, Restaurants, Breakfast &amp; Bru...</td>\n",
       "      <td>{'Monday': '6:0-21:0', 'Tuesday': '6:0-21:0', ...</td>\n",
       "      <td>390</td>\n",
       "      <td>...</td>\n",
       "      <td>3.5</td>\n",
       "      <td>19</td>\n",
       "      <td>2005-12-13 23:59:04</td>\n",
       "      <td>2020-11-04 20:09:32</td>\n",
       "      <td>514</td>\n",
       "      <td>True</td>\n",
       "      <td>2020</td>\n",
       "      <td>409</td>\n",
       "      <td>2005</td>\n",
       "      <td>2</td>\n",
       "    </tr>\n",
       "    <tr>\n",
       "      <th>6</th>\n",
       "      <td>jx91IMdGOmLOo8h_F9z39g</td>\n",
       "      <td>Portland</td>\n",
       "      <td>OR</td>\n",
       "      <td>45.526473</td>\n",
       "      <td>-122.535323</td>\n",
       "      <td>1</td>\n",
       "      <td>{'RestaurantsGoodForGroups': 'True', 'Alcohol'...</td>\n",
       "      <td>Nightlife, Sandwiches, Seafood, Restaurants</td>\n",
       "      <td>{'Monday': '7:0-23:0', 'Tuesday': '7:0-23:0', ...</td>\n",
       "      <td>3</td>\n",
       "      <td>...</td>\n",
       "      <td>4.5</td>\n",
       "      <td>0</td>\n",
       "      <td>2007-12-06 17:06:49</td>\n",
       "      <td>2020-02-22 23:57:30</td>\n",
       "      <td>7</td>\n",
       "      <td>True</td>\n",
       "      <td>2020</td>\n",
       "      <td>3</td>\n",
       "      <td>2007</td>\n",
       "      <td>1</td>\n",
       "    </tr>\n",
       "  </tbody>\n",
       "</table>\n",
       "<p>5 rows × 22 columns</p>\n",
       "</div>"
      ],
      "text/plain": [
       "              business_id       city state   latitude   longitude  is_open  \\\n",
       "0  tCbdrRPZA0oiIYSmHG3J0w   Portland    OR  45.588906 -122.593331        1   \n",
       "1  D4JtQNTI4X3KcbzacDJsMw  Vancouver    BC  49.251342 -123.101333        1   \n",
       "2  ufCxltuh56FF4-ZFZ6cVhg    Orlando    FL  28.513265  -81.374707        1   \n",
       "4  jGennaZUr2MsJyRhijNBfA     Boston    MA  42.363442  -71.025781        1   \n",
       "6  jx91IMdGOmLOo8h_F9z39g   Portland    OR  45.526473 -122.535323        1   \n",
       "\n",
       "                                          attributes  \\\n",
       "0  {'RestaurantsTakeOut': 'True', 'RestaurantsAtt...   \n",
       "1  {'GoodForKids': 'True', 'Alcohol': \"u'none'\", ...   \n",
       "2  {'BusinessParking': \"{'garage': False, 'street...   \n",
       "4  {'NoiseLevel': \"u'average'\", 'BikeParking': 'F...   \n",
       "6  {'RestaurantsGoodForGroups': 'True', 'Alcohol'...   \n",
       "\n",
       "                                          categories  \\\n",
       "0  Salad, Soup, Sandwiches, Delis, Restaurants, C...   \n",
       "1                                  Restaurants, Thai   \n",
       "2  Restaurants, American (New), Bakeries, Dessert...   \n",
       "4  Sandwiches, Food, Restaurants, Breakfast & Bru...   \n",
       "6        Nightlife, Sandwiches, Seafood, Restaurants   \n",
       "\n",
       "                                               hours  checkin_count  ...  \\\n",
       "0  {'Monday': '5:0-18:0', 'Tuesday': '5:0-17:0', ...            141  ...   \n",
       "1  {'Monday': '17:0-21:0', 'Tuesday': '17:0-21:0'...             22  ...   \n",
       "2  {'Tuesday': '11:0-18:0', 'Wednesday': '11:0-18...             28  ...   \n",
       "4  {'Monday': '6:0-21:0', 'Tuesday': '6:0-21:0', ...            390  ...   \n",
       "6  {'Monday': '7:0-23:0', 'Tuesday': '7:0-23:0', ...              3  ...   \n",
       "\n",
       "   stars  tip_count           first_date            last_date visit_count  \\\n",
       "0    4.0          3  2010-03-09 16:02:04  2021-01-21 17:55:35         157   \n",
       "1    3.5          2  2010-09-26 04:03:35  2021-01-23 01:43:50          37   \n",
       "2    4.5          3  2012-08-19 21:08:57  2020-12-29 16:25:19          45   \n",
       "4    3.5         19  2005-12-13 23:59:04  2020-11-04 20:09:32         514   \n",
       "6    4.5          0  2007-12-06 17:06:49  2020-02-22 23:57:30           7   \n",
       "\n",
       "  is_open_year_after  last_date_year  checkins_tips_count  first_date_year  k  \n",
       "0               True            2021                  144             2010  1  \n",
       "1               True            2021                   24             2010  1  \n",
       "2               True            2020                   31             2012  1  \n",
       "4               True            2020                  409             2005  2  \n",
       "6               True            2020                    3             2007  1  \n",
       "\n",
       "[5 rows x 22 columns]"
      ]
     },
     "execution_count": 181,
     "metadata": {},
     "output_type": "execute_result"
    }
   ],
   "source": [
    "restaurants_df.head()"
   ]
  },
  {
   "cell_type": "code",
   "execution_count": 182,
   "metadata": {},
   "outputs": [
    {
     "data": {
      "text/plain": [
       "{0: 8056, 1: 15765, 2: 1898}"
      ]
     },
     "execution_count": 182,
     "metadata": {},
     "output_type": "execute_result"
    }
   ],
   "source": [
    "unique, counts = np.unique(labels, return_counts=True)\n",
    "dict(zip(unique, counts))"
   ]
  },
  {
   "cell_type": "code",
   "execution_count": 183,
   "metadata": {},
   "outputs": [
    {
     "data": {
      "text/html": [
       "<div>\n",
       "<style scoped>\n",
       "    .dataframe tbody tr th:only-of-type {\n",
       "        vertical-align: middle;\n",
       "    }\n",
       "\n",
       "    .dataframe tbody tr th {\n",
       "        vertical-align: top;\n",
       "    }\n",
       "\n",
       "    .dataframe thead th {\n",
       "        text-align: right;\n",
       "    }\n",
       "</style>\n",
       "<table border=\"1\" class=\"dataframe\">\n",
       "  <thead>\n",
       "    <tr style=\"text-align: right;\">\n",
       "      <th></th>\n",
       "      <th>visit_count</th>\n",
       "      <th>k</th>\n",
       "    </tr>\n",
       "  </thead>\n",
       "  <tbody>\n",
       "    <tr>\n",
       "      <th>visit_count</th>\n",
       "      <td>1.000000</td>\n",
       "      <td>0.514402</td>\n",
       "    </tr>\n",
       "    <tr>\n",
       "      <th>k</th>\n",
       "      <td>0.514402</td>\n",
       "      <td>1.000000</td>\n",
       "    </tr>\n",
       "  </tbody>\n",
       "</table>\n",
       "</div>"
      ],
      "text/plain": [
       "             visit_count         k\n",
       "visit_count     1.000000  0.514402\n",
       "k               0.514402  1.000000"
      ]
     },
     "execution_count": 183,
     "metadata": {},
     "output_type": "execute_result"
    }
   ],
   "source": [
    "restaurants_df[[\"visit_count\", \"k\"]].corr()"
   ]
  },
  {
   "cell_type": "markdown",
   "metadata": {},
   "source": [
    "### Trying to validate the cluster classification"
   ]
  },
  {
   "cell_type": "code",
   "execution_count": 184,
   "metadata": {},
   "outputs": [],
   "source": [
    "bottom_df = restaurants_df.loc[restaurants_df[\"k\"] == 0]\n",
    "middle_df = restaurants_df.loc[restaurants_df[\"k\"] == 1]\n",
    "top_df = restaurants_df.loc[restaurants_df[\"k\"] == 2]\n",
    "#best_df = restaurants_df.loc[restaurants_df[\"k\"] == 3]"
   ]
  },
  {
   "cell_type": "code",
   "execution_count": 185,
   "metadata": {},
   "outputs": [],
   "source": [
    "bottom_closed_df = bottom_df[(bottom_df[\"is_open\"] == 0) & (bottom_df[\"last_date_year\"] == 2017)]\n",
    "middle_closed_df = middle_df[(middle_df[\"is_open\"] == 0) & (middle_df[\"last_date_year\"] == 2017)]\n",
    "top_closed_df = top_df[(top_df[\"is_open\"] == 0) & (top_df[\"last_date_year\"] == 2017)]\n",
    "#best_closed_df = best_df[(best_df[\"is_open\"] == 0) & (best_df[\"last_date_year\"] == 2017)]"
   ]
  },
  {
   "cell_type": "code",
   "execution_count": 186,
   "metadata": {},
   "outputs": [
    {
     "name": "stdout",
     "output_type": "stream",
     "text": [
      "0.05% of unpopular restaurants closed in 2017\n",
      "0.04% of neutral restaurants closed in 2017\n",
      "0.01% of popular restaurants closed in 2017\n"
     ]
    }
   ],
   "source": [
    "bottom_pct = round(len(bottom_closed_df) / len(bottom_df), 2)\n",
    "middle_pct = round(len(middle_closed_df) / len(middle_df), 2)\n",
    "top_pct = round(len(top_closed_df) / len(top_df), 2)\n",
    "#best_pct = round(len(top_closed_df) / len(top_df), 2)\n",
    "\n",
    "print(f\"{bottom_pct}% of unpopular restaurants closed in 2017\")\n",
    "print(f\"{middle_pct}% of neutral restaurants closed in 2017\")\n",
    "print(f\"{top_pct}% of popular restaurants closed in 2017\")\n",
    "#print(f\"{best_pct}% of very popular restaurants closed in 2017\")"
   ]
  },
  {
   "cell_type": "code",
   "execution_count": null,
   "metadata": {},
   "outputs": [],
   "source": []
  }
 ],
 "metadata": {
  "kernelspec": {
   "display_name": "Python 3",
   "language": "python",
   "name": "python3"
  },
  "language_info": {
   "codemirror_mode": {
    "name": "ipython",
    "version": 3
   },
   "file_extension": ".py",
   "mimetype": "text/x-python",
   "name": "python",
   "nbconvert_exporter": "python",
   "pygments_lexer": "ipython3",
   "version": "3.7.0"
  }
 },
 "nbformat": 4,
 "nbformat_minor": 2
}

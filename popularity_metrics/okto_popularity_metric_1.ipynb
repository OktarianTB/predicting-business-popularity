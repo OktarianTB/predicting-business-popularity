{
 "cells": [
  {
   "cell_type": "markdown",
   "metadata": {},
   "source": [
    "# Popularity Metric Analysis - #1"
   ]
  },
  {
   "cell_type": "code",
   "execution_count": 1,
   "metadata": {},
   "outputs": [],
   "source": [
    "import json\n",
    "import pandas as pd\n",
    "import numpy as np\n",
    "import math\n",
    "import datetime"
   ]
  },
  {
   "cell_type": "markdown",
   "metadata": {},
   "source": [
    "## Reading the Data"
   ]
  },
  {
   "cell_type": "code",
   "execution_count": 2,
   "metadata": {},
   "outputs": [],
   "source": [
    "business_df = pd.read_json('../yelp/yelp_academic_dataset_business.json', lines=True)"
   ]
  },
  {
   "cell_type": "code",
   "execution_count": 3,
   "metadata": {},
   "outputs": [
    {
     "data": {
      "text/html": [
       "<div>\n",
       "<style scoped>\n",
       "    .dataframe tbody tr th:only-of-type {\n",
       "        vertical-align: middle;\n",
       "    }\n",
       "\n",
       "    .dataframe tbody tr th {\n",
       "        vertical-align: top;\n",
       "    }\n",
       "\n",
       "    .dataframe thead th {\n",
       "        text-align: right;\n",
       "    }\n",
       "</style>\n",
       "<table border=\"1\" class=\"dataframe\">\n",
       "  <thead>\n",
       "    <tr style=\"text-align: right;\">\n",
       "      <th></th>\n",
       "      <th>address</th>\n",
       "      <th>attributes</th>\n",
       "      <th>business_id</th>\n",
       "      <th>categories</th>\n",
       "      <th>city</th>\n",
       "      <th>hours</th>\n",
       "      <th>is_open</th>\n",
       "      <th>latitude</th>\n",
       "      <th>longitude</th>\n",
       "      <th>name</th>\n",
       "      <th>postal_code</th>\n",
       "      <th>review_count</th>\n",
       "      <th>stars</th>\n",
       "      <th>state</th>\n",
       "    </tr>\n",
       "  </thead>\n",
       "  <tbody>\n",
       "    <tr>\n",
       "      <th>0</th>\n",
       "      <td>921 Pearl St</td>\n",
       "      <td>{'RestaurantsTableService': 'True', 'WiFi': 'u...</td>\n",
       "      <td>6iYb2HFDywm3zjuRg0shjw</td>\n",
       "      <td>Gastropubs, Food, Beer Gardens, Restaurants, B...</td>\n",
       "      <td>Boulder</td>\n",
       "      <td>{'Monday': '11:0-23:0', 'Tuesday': '11:0-23:0'...</td>\n",
       "      <td>1</td>\n",
       "      <td>40.017544</td>\n",
       "      <td>-105.283348</td>\n",
       "      <td>Oskar Blues Taproom</td>\n",
       "      <td>80302</td>\n",
       "      <td>86</td>\n",
       "      <td>4.0</td>\n",
       "      <td>CO</td>\n",
       "    </tr>\n",
       "    <tr>\n",
       "      <th>1</th>\n",
       "      <td>7000 NE Airport Way</td>\n",
       "      <td>{'RestaurantsTakeOut': 'True', 'RestaurantsAtt...</td>\n",
       "      <td>tCbdrRPZA0oiIYSmHG3J0w</td>\n",
       "      <td>Salad, Soup, Sandwiches, Delis, Restaurants, C...</td>\n",
       "      <td>Portland</td>\n",
       "      <td>{'Monday': '5:0-18:0', 'Tuesday': '5:0-17:0', ...</td>\n",
       "      <td>1</td>\n",
       "      <td>45.588906</td>\n",
       "      <td>-122.593331</td>\n",
       "      <td>Flying Elephants at PDX</td>\n",
       "      <td>97218</td>\n",
       "      <td>126</td>\n",
       "      <td>4.0</td>\n",
       "      <td>OR</td>\n",
       "    </tr>\n",
       "    <tr>\n",
       "      <th>2</th>\n",
       "      <td>4720 Hawthorne Ave</td>\n",
       "      <td>{'BusinessAcceptsCreditCards': 'True', 'Restau...</td>\n",
       "      <td>bvN78flM8NLprQ1a1y5dRg</td>\n",
       "      <td>Antiques, Fashion, Used, Vintage &amp; Consignment...</td>\n",
       "      <td>Portland</td>\n",
       "      <td>{'Thursday': '11:0-18:0', 'Friday': '11:0-18:0...</td>\n",
       "      <td>1</td>\n",
       "      <td>45.511907</td>\n",
       "      <td>-122.613693</td>\n",
       "      <td>The Reclaimory</td>\n",
       "      <td>97214</td>\n",
       "      <td>13</td>\n",
       "      <td>4.5</td>\n",
       "      <td>OR</td>\n",
       "    </tr>\n",
       "  </tbody>\n",
       "</table>\n",
       "</div>"
      ],
      "text/plain": [
       "               address                                         attributes  \\\n",
       "0         921 Pearl St  {'RestaurantsTableService': 'True', 'WiFi': 'u...   \n",
       "1  7000 NE Airport Way  {'RestaurantsTakeOut': 'True', 'RestaurantsAtt...   \n",
       "2   4720 Hawthorne Ave  {'BusinessAcceptsCreditCards': 'True', 'Restau...   \n",
       "\n",
       "              business_id                                         categories  \\\n",
       "0  6iYb2HFDywm3zjuRg0shjw  Gastropubs, Food, Beer Gardens, Restaurants, B...   \n",
       "1  tCbdrRPZA0oiIYSmHG3J0w  Salad, Soup, Sandwiches, Delis, Restaurants, C...   \n",
       "2  bvN78flM8NLprQ1a1y5dRg  Antiques, Fashion, Used, Vintage & Consignment...   \n",
       "\n",
       "       city                                              hours  is_open  \\\n",
       "0   Boulder  {'Monday': '11:0-23:0', 'Tuesday': '11:0-23:0'...        1   \n",
       "1  Portland  {'Monday': '5:0-18:0', 'Tuesday': '5:0-17:0', ...        1   \n",
       "2  Portland  {'Thursday': '11:0-18:0', 'Friday': '11:0-18:0...        1   \n",
       "\n",
       "    latitude   longitude                     name postal_code  review_count  \\\n",
       "0  40.017544 -105.283348      Oskar Blues Taproom       80302            86   \n",
       "1  45.588906 -122.593331  Flying Elephants at PDX       97218           126   \n",
       "2  45.511907 -122.613693           The Reclaimory       97214            13   \n",
       "\n",
       "   stars state  \n",
       "0    4.0    CO  \n",
       "1    4.0    OR  \n",
       "2    4.5    OR  "
      ]
     },
     "execution_count": 3,
     "metadata": {},
     "output_type": "execute_result"
    }
   ],
   "source": [
    "business_df.head(3)"
   ]
  },
  {
   "cell_type": "code",
   "execution_count": 4,
   "metadata": {},
   "outputs": [],
   "source": [
    "checkins_df = pd.read_json('../yelp/yelp_academic_dataset_checkin.json', lines=True)"
   ]
  },
  {
   "cell_type": "code",
   "execution_count": 5,
   "metadata": {},
   "outputs": [
    {
     "data": {
      "text/html": [
       "<div>\n",
       "<style scoped>\n",
       "    .dataframe tbody tr th:only-of-type {\n",
       "        vertical-align: middle;\n",
       "    }\n",
       "\n",
       "    .dataframe tbody tr th {\n",
       "        vertical-align: top;\n",
       "    }\n",
       "\n",
       "    .dataframe thead th {\n",
       "        text-align: right;\n",
       "    }\n",
       "</style>\n",
       "<table border=\"1\" class=\"dataframe\">\n",
       "  <thead>\n",
       "    <tr style=\"text-align: right;\">\n",
       "      <th></th>\n",
       "      <th>business_id</th>\n",
       "      <th>date</th>\n",
       "    </tr>\n",
       "  </thead>\n",
       "  <tbody>\n",
       "    <tr>\n",
       "      <th>0</th>\n",
       "      <td>--0r8K_AQ4FZfLsX3ZYRDA</td>\n",
       "      <td>2017-09-03 17:13:59</td>\n",
       "    </tr>\n",
       "    <tr>\n",
       "      <th>1</th>\n",
       "      <td>--0zrn43LEaB4jUWTQH_Bg</td>\n",
       "      <td>2010-10-08 22:21:20, 2010-11-01 21:29:14, 2010...</td>\n",
       "    </tr>\n",
       "    <tr>\n",
       "      <th>2</th>\n",
       "      <td>--164t1nclzzmca7eDiJMw</td>\n",
       "      <td>2010-02-26 02:06:53, 2010-02-27 08:00:09, 2010...</td>\n",
       "    </tr>\n",
       "  </tbody>\n",
       "</table>\n",
       "</div>"
      ],
      "text/plain": [
       "              business_id                                               date\n",
       "0  --0r8K_AQ4FZfLsX3ZYRDA                                2017-09-03 17:13:59\n",
       "1  --0zrn43LEaB4jUWTQH_Bg  2010-10-08 22:21:20, 2010-11-01 21:29:14, 2010...\n",
       "2  --164t1nclzzmca7eDiJMw  2010-02-26 02:06:53, 2010-02-27 08:00:09, 2010..."
      ]
     },
     "execution_count": 5,
     "metadata": {},
     "output_type": "execute_result"
    }
   ],
   "source": [
    "checkins_df.head(3)"
   ]
  },
  {
   "cell_type": "code",
   "execution_count": 6,
   "metadata": {},
   "outputs": [],
   "source": [
    "#reviews_df = pd.read_json('../yelp/yelp_academic_dataset_review.json', lines=True)"
   ]
  },
  {
   "cell_type": "code",
   "execution_count": 7,
   "metadata": {},
   "outputs": [],
   "source": [
    "#reviews_df.head(3)"
   ]
  },
  {
   "cell_type": "code",
   "execution_count": 8,
   "metadata": {},
   "outputs": [],
   "source": [
    "tips_df = pd.read_json('../yelp/yelp_academic_dataset_tip.json', lines=True)"
   ]
  },
  {
   "cell_type": "code",
   "execution_count": 9,
   "metadata": {},
   "outputs": [
    {
     "data": {
      "text/html": [
       "<div>\n",
       "<style scoped>\n",
       "    .dataframe tbody tr th:only-of-type {\n",
       "        vertical-align: middle;\n",
       "    }\n",
       "\n",
       "    .dataframe tbody tr th {\n",
       "        vertical-align: top;\n",
       "    }\n",
       "\n",
       "    .dataframe thead th {\n",
       "        text-align: right;\n",
       "    }\n",
       "</style>\n",
       "<table border=\"1\" class=\"dataframe\">\n",
       "  <thead>\n",
       "    <tr style=\"text-align: right;\">\n",
       "      <th></th>\n",
       "      <th>business_id</th>\n",
       "      <th>compliment_count</th>\n",
       "      <th>date</th>\n",
       "      <th>text</th>\n",
       "      <th>user_id</th>\n",
       "    </tr>\n",
       "  </thead>\n",
       "  <tbody>\n",
       "    <tr>\n",
       "      <th>0</th>\n",
       "      <td>ENwBByjpoa5Gg7tKgxqwLg</td>\n",
       "      <td>0</td>\n",
       "      <td>2011-07-22 19:07:35</td>\n",
       "      <td>Carne asada chips...</td>\n",
       "      <td>WCjg0jdHXMlwbqS9tZUx8Q</td>\n",
       "    </tr>\n",
       "    <tr>\n",
       "      <th>1</th>\n",
       "      <td>jKO4Og6ucdX2-YCTKQVYjg</td>\n",
       "      <td>0</td>\n",
       "      <td>2014-09-10 07:33:29</td>\n",
       "      <td>Best happy hour from 3pm to 6pm! $1 off martin...</td>\n",
       "      <td>42-Z02y9bABShAGZhuSzrQ</td>\n",
       "    </tr>\n",
       "    <tr>\n",
       "      <th>2</th>\n",
       "      <td>9Bto7mky640ocgezVKSfVg</td>\n",
       "      <td>0</td>\n",
       "      <td>2013-12-13 23:23:41</td>\n",
       "      <td>Nice people, skilled staff, clean location - b...</td>\n",
       "      <td>5u7E3LYp_3eB8dLuUBazXQ</td>\n",
       "    </tr>\n",
       "  </tbody>\n",
       "</table>\n",
       "</div>"
      ],
      "text/plain": [
       "              business_id  compliment_count                date  \\\n",
       "0  ENwBByjpoa5Gg7tKgxqwLg                 0 2011-07-22 19:07:35   \n",
       "1  jKO4Og6ucdX2-YCTKQVYjg                 0 2014-09-10 07:33:29   \n",
       "2  9Bto7mky640ocgezVKSfVg                 0 2013-12-13 23:23:41   \n",
       "\n",
       "                                                text                 user_id  \n",
       "0                               Carne asada chips...  WCjg0jdHXMlwbqS9tZUx8Q  \n",
       "1  Best happy hour from 3pm to 6pm! $1 off martin...  42-Z02y9bABShAGZhuSzrQ  \n",
       "2  Nice people, skilled staff, clean location - b...  5u7E3LYp_3eB8dLuUBazXQ  "
      ]
     },
     "execution_count": 9,
     "metadata": {},
     "output_type": "execute_result"
    }
   ],
   "source": [
    "tips_df.head(3)"
   ]
  },
  {
   "cell_type": "code",
   "execution_count": 10,
   "metadata": {},
   "outputs": [
    {
     "name": "stdout",
     "output_type": "stream",
     "text": [
      "There are 160585 businesses, 138876 checkins and 1162119 tips\n"
     ]
    }
   ],
   "source": [
    "print(f\"There are {len(business_df)} businesses, {len(checkins_df)} checkins \" +\n",
    "      f\"and {len(tips_df)} tips\")"
   ]
  },
  {
   "cell_type": "markdown",
   "metadata": {},
   "source": [
    "## Processing the Data"
   ]
  },
  {
   "cell_type": "markdown",
   "metadata": {},
   "source": [
    "#### Removing unnecessary features and creating restaurants dataframe"
   ]
  },
  {
   "cell_type": "code",
   "execution_count": 11,
   "metadata": {},
   "outputs": [],
   "source": [
    "business_df = business_df.dropna()"
   ]
  },
  {
   "cell_type": "code",
   "execution_count": 12,
   "metadata": {},
   "outputs": [],
   "source": [
    "# Only keeping restaurants\n",
    "restaurants_df = business_df.loc[business_df[\"categories\"].str.contains(\"Restaurants\")]"
   ]
  },
  {
   "cell_type": "code",
   "execution_count": 13,
   "metadata": {},
   "outputs": [],
   "source": [
    "# Dropping columns that are not needed for popularity analysis\n",
    "restaurants_df = restaurants_df.drop(columns=['address', 'postal_code', 'state', 'name', 'city', \n",
    "                                        'attributes', 'latitude', 'longitude', 'hours', 'categories'])"
   ]
  },
  {
   "cell_type": "code",
   "execution_count": 14,
   "metadata": {},
   "outputs": [
    {
     "data": {
      "text/html": [
       "<div>\n",
       "<style scoped>\n",
       "    .dataframe tbody tr th:only-of-type {\n",
       "        vertical-align: middle;\n",
       "    }\n",
       "\n",
       "    .dataframe tbody tr th {\n",
       "        vertical-align: top;\n",
       "    }\n",
       "\n",
       "    .dataframe thead th {\n",
       "        text-align: right;\n",
       "    }\n",
       "</style>\n",
       "<table border=\"1\" class=\"dataframe\">\n",
       "  <thead>\n",
       "    <tr style=\"text-align: right;\">\n",
       "      <th></th>\n",
       "      <th>business_id</th>\n",
       "      <th>is_open</th>\n",
       "      <th>review_count</th>\n",
       "      <th>stars</th>\n",
       "    </tr>\n",
       "  </thead>\n",
       "  <tbody>\n",
       "    <tr>\n",
       "      <th>0</th>\n",
       "      <td>6iYb2HFDywm3zjuRg0shjw</td>\n",
       "      <td>1</td>\n",
       "      <td>86</td>\n",
       "      <td>4.0</td>\n",
       "    </tr>\n",
       "    <tr>\n",
       "      <th>1</th>\n",
       "      <td>tCbdrRPZA0oiIYSmHG3J0w</td>\n",
       "      <td>1</td>\n",
       "      <td>126</td>\n",
       "      <td>4.0</td>\n",
       "    </tr>\n",
       "  </tbody>\n",
       "</table>\n",
       "</div>"
      ],
      "text/plain": [
       "              business_id  is_open  review_count  stars\n",
       "0  6iYb2HFDywm3zjuRg0shjw        1            86    4.0\n",
       "1  tCbdrRPZA0oiIYSmHG3J0w        1           126    4.0"
      ]
     },
     "execution_count": 14,
     "metadata": {},
     "output_type": "execute_result"
    }
   ],
   "source": [
    "restaurants_df.head(2)"
   ]
  },
  {
   "cell_type": "code",
   "execution_count": 15,
   "metadata": {},
   "outputs": [
    {
     "name": "stdout",
     "output_type": "stream",
     "text": [
      "There are 42646 restaurants\n"
     ]
    }
   ],
   "source": [
    "print(f\"There are {len(restaurants_df)} restaurants\")"
   ]
  },
  {
   "cell_type": "markdown",
   "metadata": {},
   "source": [
    "#### Only keeping checkins associated with restaurants"
   ]
  },
  {
   "cell_type": "code",
   "execution_count": 16,
   "metadata": {},
   "outputs": [],
   "source": [
    "restaurants_df = pd.merge(restaurants_df, checkins_df, on='business_id')\n",
    "restaurants_df = restaurants_df.rename(columns={\"date\": \"checkins_dates\"})"
   ]
  },
  {
   "cell_type": "code",
   "execution_count": 17,
   "metadata": {},
   "outputs": [
    {
     "name": "stdout",
     "output_type": "stream",
     "text": [
      "42089\n"
     ]
    }
   ],
   "source": [
    "print(len(restaurants_df))"
   ]
  },
  {
   "cell_type": "code",
   "execution_count": 18,
   "metadata": {},
   "outputs": [],
   "source": [
    "def get_checkins_count(row):\n",
    "    checkins = row[4].split(\",\")\n",
    "    return len(checkins)"
   ]
  },
  {
   "cell_type": "code",
   "execution_count": 19,
   "metadata": {},
   "outputs": [],
   "source": [
    "restaurants_df[\"checkins_count\"] = restaurants_df.apply(get_checkins_count, axis=1)"
   ]
  },
  {
   "cell_type": "code",
   "execution_count": 20,
   "metadata": {},
   "outputs": [
    {
     "data": {
      "text/html": [
       "<div>\n",
       "<style scoped>\n",
       "    .dataframe tbody tr th:only-of-type {\n",
       "        vertical-align: middle;\n",
       "    }\n",
       "\n",
       "    .dataframe tbody tr th {\n",
       "        vertical-align: top;\n",
       "    }\n",
       "\n",
       "    .dataframe thead th {\n",
       "        text-align: right;\n",
       "    }\n",
       "</style>\n",
       "<table border=\"1\" class=\"dataframe\">\n",
       "  <thead>\n",
       "    <tr style=\"text-align: right;\">\n",
       "      <th></th>\n",
       "      <th>business_id</th>\n",
       "      <th>is_open</th>\n",
       "      <th>review_count</th>\n",
       "      <th>stars</th>\n",
       "      <th>checkins_dates</th>\n",
       "      <th>checkins_count</th>\n",
       "    </tr>\n",
       "  </thead>\n",
       "  <tbody>\n",
       "    <tr>\n",
       "      <th>0</th>\n",
       "      <td>6iYb2HFDywm3zjuRg0shjw</td>\n",
       "      <td>1</td>\n",
       "      <td>86</td>\n",
       "      <td>4.0</td>\n",
       "      <td>2017-09-10 04:48:12, 2017-09-10 04:49:28, 2017...</td>\n",
       "      <td>184</td>\n",
       "    </tr>\n",
       "    <tr>\n",
       "      <th>1</th>\n",
       "      <td>tCbdrRPZA0oiIYSmHG3J0w</td>\n",
       "      <td>1</td>\n",
       "      <td>126</td>\n",
       "      <td>4.0</td>\n",
       "      <td>2010-04-22 05:31:33, 2010-05-09 18:24:50, 2010...</td>\n",
       "      <td>1180</td>\n",
       "    </tr>\n",
       "    <tr>\n",
       "      <th>2</th>\n",
       "      <td>D4JtQNTI4X3KcbzacDJsMw</td>\n",
       "      <td>1</td>\n",
       "      <td>169</td>\n",
       "      <td>3.5</td>\n",
       "      <td>2010-11-06 02:53:03, 2010-11-29 02:16:55, 2010...</td>\n",
       "      <td>288</td>\n",
       "    </tr>\n",
       "  </tbody>\n",
       "</table>\n",
       "</div>"
      ],
      "text/plain": [
       "              business_id  is_open  review_count  stars  \\\n",
       "0  6iYb2HFDywm3zjuRg0shjw        1            86    4.0   \n",
       "1  tCbdrRPZA0oiIYSmHG3J0w        1           126    4.0   \n",
       "2  D4JtQNTI4X3KcbzacDJsMw        1           169    3.5   \n",
       "\n",
       "                                      checkins_dates  checkins_count  \n",
       "0  2017-09-10 04:48:12, 2017-09-10 04:49:28, 2017...             184  \n",
       "1  2010-04-22 05:31:33, 2010-05-09 18:24:50, 2010...            1180  \n",
       "2  2010-11-06 02:53:03, 2010-11-29 02:16:55, 2010...             288  "
      ]
     },
     "execution_count": 20,
     "metadata": {},
     "output_type": "execute_result"
    }
   ],
   "source": [
    "restaurants_df.head(3)"
   ]
  },
  {
   "cell_type": "markdown",
   "metadata": {},
   "source": [
    "#### Analyzing Tips distribution"
   ]
  },
  {
   "cell_type": "code",
   "execution_count": 21,
   "metadata": {},
   "outputs": [],
   "source": [
    "def get_year(row):\n",
    "    date = datetime.datetime.strptime(str(row[2]), \"%Y-%m-%d %H:%M:%S\")\n",
    "    return date.year\n",
    "    \n",
    "\n",
    "tips_df[\"year\"] = tips_df.apply(get_year, axis=1)"
   ]
  },
  {
   "cell_type": "code",
   "execution_count": 22,
   "metadata": {},
   "outputs": [
    {
     "data": {
      "text/plain": [
       "2012    181139\n",
       "2011    149316\n",
       "2014    134835\n",
       "2013    133550\n",
       "2017    112507\n",
       "2016    109153\n",
       "2015    105454\n",
       "2018     77223\n",
       "2019     62195\n",
       "2010     60043\n",
       "2020     33073\n",
       "2021      2212\n",
       "2009      1419\n",
       "Name: year, dtype: int64"
      ]
     },
     "execution_count": 22,
     "metadata": {},
     "output_type": "execute_result"
    }
   ],
   "source": [
    "tips_df[\"year\"].value_counts()"
   ]
  },
  {
   "cell_type": "markdown",
   "metadata": {},
   "source": [
    "#### Adding tips to restaurants"
   ]
  },
  {
   "cell_type": "code",
   "execution_count": 23,
   "metadata": {},
   "outputs": [
    {
     "name": "stdout",
     "output_type": "stream",
     "text": [
      "There are 1162119 tips\n"
     ]
    }
   ],
   "source": [
    "print(f\"There are {len(tips_df)} tips\")"
   ]
  },
  {
   "cell_type": "code",
   "execution_count": 24,
   "metadata": {},
   "outputs": [],
   "source": [
    "tips = {}"
   ]
  },
  {
   "cell_type": "code",
   "execution_count": 25,
   "metadata": {},
   "outputs": [],
   "source": [
    "def group_tips(row):\n",
    "    business_id = str(row[0])\n",
    "    date = str(row[2])\n",
    "    if business_id in tips.keys():\n",
    "        tips[business_id].append(date)\n",
    "    else:\n",
    "        tips[business_id] = [date]"
   ]
  },
  {
   "cell_type": "code",
   "execution_count": 26,
   "metadata": {
    "scrolled": true
   },
   "outputs": [],
   "source": [
    "for index, row in tips_df.iterrows():\n",
    "    group_tips(row)"
   ]
  },
  {
   "cell_type": "code",
   "execution_count": 27,
   "metadata": {},
   "outputs": [
    {
     "name": "stdout",
     "output_type": "stream",
     "text": [
      "ENwBByjpoa5Gg7tKgxqwLg: 67\n",
      "jKO4Og6ucdX2-YCTKQVYjg: 64\n",
      "9Bto7mky640ocgezVKSfVg: 17\n",
      "XWFjKtRGZ9khRGtGg2ZvaA: 97\n",
      "mkrx0VhSMU3p3uhyJGCoWA: 58\n",
      "VQftVUvHfMQdDTmnO0iQqg: 8\n",
      "2PxZ-fICnd432NJHefXrcA: 1499\n",
      "oQyf1788YWsiDLupGva6sw: 6\n",
      "OQ2oHkcWA8KNC1Lsvj1SBA: 949\n",
      "Wqetc51pFQzz04SXh_AORA: 50\n"
     ]
    }
   ],
   "source": [
    "# Looking at total tips count per business_id for a few examples\n",
    "for k in list(tips.keys())[:10]:\n",
    "    print(f\"{k}: {len(tips[k])}\")"
   ]
  },
  {
   "cell_type": "code",
   "execution_count": 28,
   "metadata": {},
   "outputs": [
    {
     "data": {
      "text/plain": [
       "1162119"
      ]
     },
     "execution_count": 28,
     "metadata": {},
     "output_type": "execute_result"
    }
   ],
   "source": [
    "# Checking the total matches the total number of tips\n",
    "counts = [len(tips[k]) for k in list(tips.keys())]\n",
    "sum(counts)"
   ]
  },
  {
   "cell_type": "code",
   "execution_count": 29,
   "metadata": {},
   "outputs": [],
   "source": [
    "tips_processed = []\n",
    "for k in list(tips.keys()):\n",
    "    tips_processed.append([k, len(tips[k]), \",\".join(tips[k])])"
   ]
  },
  {
   "cell_type": "code",
   "execution_count": 30,
   "metadata": {},
   "outputs": [],
   "source": [
    "tips_count_df = pd.DataFrame(tips_processed, columns=[\"business_id\", \"tips_count\", \"tips_dates\"])"
   ]
  },
  {
   "cell_type": "code",
   "execution_count": 31,
   "metadata": {},
   "outputs": [
    {
     "data": {
      "text/html": [
       "<div>\n",
       "<style scoped>\n",
       "    .dataframe tbody tr th:only-of-type {\n",
       "        vertical-align: middle;\n",
       "    }\n",
       "\n",
       "    .dataframe tbody tr th {\n",
       "        vertical-align: top;\n",
       "    }\n",
       "\n",
       "    .dataframe thead th {\n",
       "        text-align: right;\n",
       "    }\n",
       "</style>\n",
       "<table border=\"1\" class=\"dataframe\">\n",
       "  <thead>\n",
       "    <tr style=\"text-align: right;\">\n",
       "      <th></th>\n",
       "      <th>business_id</th>\n",
       "      <th>tips_count</th>\n",
       "      <th>tips_dates</th>\n",
       "    </tr>\n",
       "  </thead>\n",
       "  <tbody>\n",
       "    <tr>\n",
       "      <th>0</th>\n",
       "      <td>ENwBByjpoa5Gg7tKgxqwLg</td>\n",
       "      <td>67</td>\n",
       "      <td>2011-07-22 19:07:35,2012-06-16 22:16:18,2016-0...</td>\n",
       "    </tr>\n",
       "    <tr>\n",
       "      <th>1</th>\n",
       "      <td>jKO4Og6ucdX2-YCTKQVYjg</td>\n",
       "      <td>64</td>\n",
       "      <td>2014-09-10 07:33:29,2013-08-19 06:17:35,2013-0...</td>\n",
       "    </tr>\n",
       "    <tr>\n",
       "      <th>2</th>\n",
       "      <td>9Bto7mky640ocgezVKSfVg</td>\n",
       "      <td>17</td>\n",
       "      <td>2013-12-13 23:23:41,2012-08-06 20:55:31,2011-0...</td>\n",
       "    </tr>\n",
       "    <tr>\n",
       "      <th>3</th>\n",
       "      <td>XWFjKtRGZ9khRGtGg2ZvaA</td>\n",
       "      <td>97</td>\n",
       "      <td>2017-07-11 23:07:16,2013-02-17 18:33:55,2012-1...</td>\n",
       "    </tr>\n",
       "    <tr>\n",
       "      <th>4</th>\n",
       "      <td>mkrx0VhSMU3p3uhyJGCoWA</td>\n",
       "      <td>58</td>\n",
       "      <td>2016-11-30 08:46:36,2012-07-26 23:32:45,2011-1...</td>\n",
       "    </tr>\n",
       "  </tbody>\n",
       "</table>\n",
       "</div>"
      ],
      "text/plain": [
       "              business_id  tips_count  \\\n",
       "0  ENwBByjpoa5Gg7tKgxqwLg          67   \n",
       "1  jKO4Og6ucdX2-YCTKQVYjg          64   \n",
       "2  9Bto7mky640ocgezVKSfVg          17   \n",
       "3  XWFjKtRGZ9khRGtGg2ZvaA          97   \n",
       "4  mkrx0VhSMU3p3uhyJGCoWA          58   \n",
       "\n",
       "                                          tips_dates  \n",
       "0  2011-07-22 19:07:35,2012-06-16 22:16:18,2016-0...  \n",
       "1  2014-09-10 07:33:29,2013-08-19 06:17:35,2013-0...  \n",
       "2  2013-12-13 23:23:41,2012-08-06 20:55:31,2011-0...  \n",
       "3  2017-07-11 23:07:16,2013-02-17 18:33:55,2012-1...  \n",
       "4  2016-11-30 08:46:36,2012-07-26 23:32:45,2011-1...  "
      ]
     },
     "execution_count": 31,
     "metadata": {},
     "output_type": "execute_result"
    }
   ],
   "source": [
    "tips_count_df.head()"
   ]
  },
  {
   "cell_type": "code",
   "execution_count": 32,
   "metadata": {},
   "outputs": [
    {
     "data": {
      "text/plain": [
       "110915"
      ]
     },
     "execution_count": 32,
     "metadata": {},
     "output_type": "execute_result"
    }
   ],
   "source": [
    "len(tips_count_df)"
   ]
  },
  {
   "cell_type": "code",
   "execution_count": 33,
   "metadata": {},
   "outputs": [],
   "source": [
    "restaurants_df = pd.merge(restaurants_df, tips_count_df, how=\"left\", on='business_id')"
   ]
  },
  {
   "cell_type": "code",
   "execution_count": 34,
   "metadata": {},
   "outputs": [
    {
     "data": {
      "text/plain": [
       "42089"
      ]
     },
     "execution_count": 34,
     "metadata": {},
     "output_type": "execute_result"
    }
   ],
   "source": [
    "len(restaurants_df)"
   ]
  },
  {
   "cell_type": "code",
   "execution_count": 35,
   "metadata": {},
   "outputs": [
    {
     "data": {
      "text/html": [
       "<div>\n",
       "<style scoped>\n",
       "    .dataframe tbody tr th:only-of-type {\n",
       "        vertical-align: middle;\n",
       "    }\n",
       "\n",
       "    .dataframe tbody tr th {\n",
       "        vertical-align: top;\n",
       "    }\n",
       "\n",
       "    .dataframe thead th {\n",
       "        text-align: right;\n",
       "    }\n",
       "</style>\n",
       "<table border=\"1\" class=\"dataframe\">\n",
       "  <thead>\n",
       "    <tr style=\"text-align: right;\">\n",
       "      <th></th>\n",
       "      <th>business_id</th>\n",
       "      <th>is_open</th>\n",
       "      <th>review_count</th>\n",
       "      <th>stars</th>\n",
       "      <th>checkins_dates</th>\n",
       "      <th>checkins_count</th>\n",
       "      <th>tips_count</th>\n",
       "      <th>tips_dates</th>\n",
       "    </tr>\n",
       "  </thead>\n",
       "  <tbody>\n",
       "    <tr>\n",
       "      <th>0</th>\n",
       "      <td>6iYb2HFDywm3zjuRg0shjw</td>\n",
       "      <td>1</td>\n",
       "      <td>86</td>\n",
       "      <td>4.0</td>\n",
       "      <td>2017-09-10 04:48:12, 2017-09-10 04:49:28, 2017...</td>\n",
       "      <td>184</td>\n",
       "      <td>7.0</td>\n",
       "      <td>2019-06-07 22:24:44,2019-03-06 22:53:59,2017-0...</td>\n",
       "    </tr>\n",
       "    <tr>\n",
       "      <th>1</th>\n",
       "      <td>tCbdrRPZA0oiIYSmHG3J0w</td>\n",
       "      <td>1</td>\n",
       "      <td>126</td>\n",
       "      <td>4.0</td>\n",
       "      <td>2010-04-22 05:31:33, 2010-05-09 18:24:50, 2010...</td>\n",
       "      <td>1180</td>\n",
       "      <td>47.0</td>\n",
       "      <td>2013-12-18 05:57:05,2013-04-08 01:55:49,2013-0...</td>\n",
       "    </tr>\n",
       "    <tr>\n",
       "      <th>2</th>\n",
       "      <td>D4JtQNTI4X3KcbzacDJsMw</td>\n",
       "      <td>1</td>\n",
       "      <td>169</td>\n",
       "      <td>3.5</td>\n",
       "      <td>2010-11-06 02:53:03, 2010-11-29 02:16:55, 2010...</td>\n",
       "      <td>288</td>\n",
       "      <td>32.0</td>\n",
       "      <td>2010-12-02 21:10:51,2018-01-18 21:40:39,2011-1...</td>\n",
       "    </tr>\n",
       "    <tr>\n",
       "      <th>3</th>\n",
       "      <td>HPA_qyMEddpAEtFof02ixg</td>\n",
       "      <td>1</td>\n",
       "      <td>39</td>\n",
       "      <td>4.0</td>\n",
       "      <td>2010-07-28 21:12:50, 2010-08-01 23:58:02, 2010...</td>\n",
       "      <td>36</td>\n",
       "      <td>4.0</td>\n",
       "      <td>2014-03-15 17:16:33,2013-04-27 23:57:33,2014-0...</td>\n",
       "    </tr>\n",
       "    <tr>\n",
       "      <th>4</th>\n",
       "      <td>ufCxltuh56FF4-ZFZ6cVhg</td>\n",
       "      <td>1</td>\n",
       "      <td>135</td>\n",
       "      <td>4.5</td>\n",
       "      <td>2012-08-29 22:10:36, 2012-09-11 18:11:11, 2012...</td>\n",
       "      <td>246</td>\n",
       "      <td>19.0</td>\n",
       "      <td>2014-06-13 16:58:37,2017-03-15 14:53:27,2015-0...</td>\n",
       "    </tr>\n",
       "  </tbody>\n",
       "</table>\n",
       "</div>"
      ],
      "text/plain": [
       "              business_id  is_open  review_count  stars  \\\n",
       "0  6iYb2HFDywm3zjuRg0shjw        1            86    4.0   \n",
       "1  tCbdrRPZA0oiIYSmHG3J0w        1           126    4.0   \n",
       "2  D4JtQNTI4X3KcbzacDJsMw        1           169    3.5   \n",
       "3  HPA_qyMEddpAEtFof02ixg        1            39    4.0   \n",
       "4  ufCxltuh56FF4-ZFZ6cVhg        1           135    4.5   \n",
       "\n",
       "                                      checkins_dates  checkins_count  \\\n",
       "0  2017-09-10 04:48:12, 2017-09-10 04:49:28, 2017...             184   \n",
       "1  2010-04-22 05:31:33, 2010-05-09 18:24:50, 2010...            1180   \n",
       "2  2010-11-06 02:53:03, 2010-11-29 02:16:55, 2010...             288   \n",
       "3  2010-07-28 21:12:50, 2010-08-01 23:58:02, 2010...              36   \n",
       "4  2012-08-29 22:10:36, 2012-09-11 18:11:11, 2012...             246   \n",
       "\n",
       "   tips_count                                         tips_dates  \n",
       "0         7.0  2019-06-07 22:24:44,2019-03-06 22:53:59,2017-0...  \n",
       "1        47.0  2013-12-18 05:57:05,2013-04-08 01:55:49,2013-0...  \n",
       "2        32.0  2010-12-02 21:10:51,2018-01-18 21:40:39,2011-1...  \n",
       "3         4.0  2014-03-15 17:16:33,2013-04-27 23:57:33,2014-0...  \n",
       "4        19.0  2014-06-13 16:58:37,2017-03-15 14:53:27,2015-0...  "
      ]
     },
     "execution_count": 35,
     "metadata": {},
     "output_type": "execute_result"
    }
   ],
   "source": [
    "restaurants_df.head()"
   ]
  },
  {
   "cell_type": "code",
   "execution_count": 36,
   "metadata": {},
   "outputs": [
    {
     "data": {
      "text/plain": [
       "2795"
      ]
     },
     "execution_count": 36,
     "metadata": {},
     "output_type": "execute_result"
    }
   ],
   "source": [
    "restaurants_df[\"tips_count\"].isna().sum()"
   ]
  },
  {
   "cell_type": "code",
   "execution_count": 37,
   "metadata": {},
   "outputs": [],
   "source": [
    "restaurants_df[\"tips_count\"] = restaurants_df[\"tips_count\"].fillna(0)"
   ]
  },
  {
   "cell_type": "code",
   "execution_count": 38,
   "metadata": {},
   "outputs": [],
   "source": [
    "restaurants_df[\"tips_dates\"] = restaurants_df[\"tips_dates\"].fillna(\"\")"
   ]
  },
  {
   "cell_type": "markdown",
   "metadata": {},
   "source": [
    "## Saving the Data"
   ]
  },
  {
   "cell_type": "code",
   "execution_count": 39,
   "metadata": {},
   "outputs": [],
   "source": [
    "restaurants_df.to_csv(\"./restaurants.csv\", index=False)"
   ]
  },
  {
   "cell_type": "code",
   "execution_count": null,
   "metadata": {},
   "outputs": [],
   "source": []
  }
 ],
 "metadata": {
  "kernelspec": {
   "display_name": "Python 3",
   "language": "python",
   "name": "python3"
  },
  "language_info": {
   "codemirror_mode": {
    "name": "ipython",
    "version": 3
   },
   "file_extension": ".py",
   "mimetype": "text/x-python",
   "name": "python",
   "nbconvert_exporter": "python",
   "pygments_lexer": "ipython3",
   "version": "3.7.0"
  }
 },
 "nbformat": 4,
 "nbformat_minor": 2
}

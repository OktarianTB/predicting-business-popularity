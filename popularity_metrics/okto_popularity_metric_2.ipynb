{
 "cells": [
  {
   "cell_type": "markdown",
   "metadata": {},
   "source": [
    "# Popularity Metric Analysis - #2"
   ]
  },
  {
   "cell_type": "code",
   "execution_count": 1,
   "metadata": {},
   "outputs": [],
   "source": [
    "import json\n",
    "import pandas as pd\n",
    "import numpy as np\n",
    "import math\n",
    "import datetime"
   ]
  },
  {
   "cell_type": "markdown",
   "metadata": {},
   "source": [
    "## Reading the Data"
   ]
  },
  {
   "cell_type": "code",
   "execution_count": 2,
   "metadata": {},
   "outputs": [],
   "source": [
    "restaurants_df = pd.read_csv(\"./restaurants.csv\")"
   ]
  },
  {
   "cell_type": "code",
   "execution_count": 3,
   "metadata": {},
   "outputs": [
    {
     "data": {
      "text/html": [
       "<div>\n",
       "<style scoped>\n",
       "    .dataframe tbody tr th:only-of-type {\n",
       "        vertical-align: middle;\n",
       "    }\n",
       "\n",
       "    .dataframe tbody tr th {\n",
       "        vertical-align: top;\n",
       "    }\n",
       "\n",
       "    .dataframe thead th {\n",
       "        text-align: right;\n",
       "    }\n",
       "</style>\n",
       "<table border=\"1\" class=\"dataframe\">\n",
       "  <thead>\n",
       "    <tr style=\"text-align: right;\">\n",
       "      <th></th>\n",
       "      <th>business_id</th>\n",
       "      <th>is_open</th>\n",
       "      <th>review_count</th>\n",
       "      <th>stars</th>\n",
       "      <th>checkins_dates</th>\n",
       "      <th>checkins_count</th>\n",
       "      <th>tips_count</th>\n",
       "      <th>tips_dates</th>\n",
       "    </tr>\n",
       "  </thead>\n",
       "  <tbody>\n",
       "    <tr>\n",
       "      <th>0</th>\n",
       "      <td>6iYb2HFDywm3zjuRg0shjw</td>\n",
       "      <td>1</td>\n",
       "      <td>86</td>\n",
       "      <td>4.0</td>\n",
       "      <td>2017-09-10 04:48:12, 2017-09-10 04:49:28, 2017...</td>\n",
       "      <td>184</td>\n",
       "      <td>7.0</td>\n",
       "      <td>2019-06-07 22:24:44,2019-03-06 22:53:59,2017-0...</td>\n",
       "    </tr>\n",
       "    <tr>\n",
       "      <th>1</th>\n",
       "      <td>tCbdrRPZA0oiIYSmHG3J0w</td>\n",
       "      <td>1</td>\n",
       "      <td>126</td>\n",
       "      <td>4.0</td>\n",
       "      <td>2010-04-22 05:31:33, 2010-05-09 18:24:50, 2010...</td>\n",
       "      <td>1180</td>\n",
       "      <td>47.0</td>\n",
       "      <td>2013-12-18 05:57:05,2013-04-08 01:55:49,2013-0...</td>\n",
       "    </tr>\n",
       "    <tr>\n",
       "      <th>2</th>\n",
       "      <td>D4JtQNTI4X3KcbzacDJsMw</td>\n",
       "      <td>1</td>\n",
       "      <td>169</td>\n",
       "      <td>3.5</td>\n",
       "      <td>2010-11-06 02:53:03, 2010-11-29 02:16:55, 2010...</td>\n",
       "      <td>288</td>\n",
       "      <td>32.0</td>\n",
       "      <td>2010-12-02 21:10:51,2018-01-18 21:40:39,2011-1...</td>\n",
       "    </tr>\n",
       "    <tr>\n",
       "      <th>3</th>\n",
       "      <td>HPA_qyMEddpAEtFof02ixg</td>\n",
       "      <td>1</td>\n",
       "      <td>39</td>\n",
       "      <td>4.0</td>\n",
       "      <td>2010-07-28 21:12:50, 2010-08-01 23:58:02, 2010...</td>\n",
       "      <td>36</td>\n",
       "      <td>4.0</td>\n",
       "      <td>2014-03-15 17:16:33,2013-04-27 23:57:33,2014-0...</td>\n",
       "    </tr>\n",
       "    <tr>\n",
       "      <th>4</th>\n",
       "      <td>ufCxltuh56FF4-ZFZ6cVhg</td>\n",
       "      <td>1</td>\n",
       "      <td>135</td>\n",
       "      <td>4.5</td>\n",
       "      <td>2012-08-29 22:10:36, 2012-09-11 18:11:11, 2012...</td>\n",
       "      <td>246</td>\n",
       "      <td>19.0</td>\n",
       "      <td>2014-06-13 16:58:37,2017-03-15 14:53:27,2015-0...</td>\n",
       "    </tr>\n",
       "  </tbody>\n",
       "</table>\n",
       "</div>"
      ],
      "text/plain": [
       "              business_id  is_open  review_count  stars  \\\n",
       "0  6iYb2HFDywm3zjuRg0shjw        1            86    4.0   \n",
       "1  tCbdrRPZA0oiIYSmHG3J0w        1           126    4.0   \n",
       "2  D4JtQNTI4X3KcbzacDJsMw        1           169    3.5   \n",
       "3  HPA_qyMEddpAEtFof02ixg        1            39    4.0   \n",
       "4  ufCxltuh56FF4-ZFZ6cVhg        1           135    4.5   \n",
       "\n",
       "                                      checkins_dates  checkins_count  \\\n",
       "0  2017-09-10 04:48:12, 2017-09-10 04:49:28, 2017...             184   \n",
       "1  2010-04-22 05:31:33, 2010-05-09 18:24:50, 2010...            1180   \n",
       "2  2010-11-06 02:53:03, 2010-11-29 02:16:55, 2010...             288   \n",
       "3  2010-07-28 21:12:50, 2010-08-01 23:58:02, 2010...              36   \n",
       "4  2012-08-29 22:10:36, 2012-09-11 18:11:11, 2012...             246   \n",
       "\n",
       "   tips_count                                         tips_dates  \n",
       "0         7.0  2019-06-07 22:24:44,2019-03-06 22:53:59,2017-0...  \n",
       "1        47.0  2013-12-18 05:57:05,2013-04-08 01:55:49,2013-0...  \n",
       "2        32.0  2010-12-02 21:10:51,2018-01-18 21:40:39,2011-1...  \n",
       "3         4.0  2014-03-15 17:16:33,2013-04-27 23:57:33,2014-0...  \n",
       "4        19.0  2014-06-13 16:58:37,2017-03-15 14:53:27,2015-0...  "
      ]
     },
     "execution_count": 3,
     "metadata": {},
     "output_type": "execute_result"
    }
   ],
   "source": [
    "restaurants_df.head()"
   ]
  },
  {
   "cell_type": "code",
   "execution_count": 4,
   "metadata": {},
   "outputs": [],
   "source": [
    "restaurants_df[\"tips_dates\"] = restaurants_df[\"tips_dates\"].fillna(\"\")"
   ]
  },
  {
   "cell_type": "code",
   "execution_count": 5,
   "metadata": {},
   "outputs": [
    {
     "data": {
      "text/plain": [
       "0"
      ]
     },
     "execution_count": 5,
     "metadata": {},
     "output_type": "execute_result"
    }
   ],
   "source": [
    "restaurants_df[\"tips_dates\"].isna().sum()"
   ]
  },
  {
   "cell_type": "markdown",
   "metadata": {},
   "source": [
    "## Analyzing Data"
   ]
  },
  {
   "cell_type": "markdown",
   "metadata": {},
   "source": [
    "### Looking at Restaurants"
   ]
  },
  {
   "cell_type": "code",
   "execution_count": 6,
   "metadata": {},
   "outputs": [
    {
     "name": "stdout",
     "output_type": "stream",
     "text": [
      "Restaurants have on 123 reviews, 260 checkins and 18 tips on average\n"
     ]
    }
   ],
   "source": [
    "avg_review_count = round(restaurants_df[\"review_count\"].mean())\n",
    "avg_checkins_count = round(restaurants_df[\"checkins_count\"].mean())\n",
    "avg_tips_count = round(restaurants_df[\"tips_count\"].mean())\n",
    "print(f\"Restaurants have on {avg_review_count} reviews, {avg_checkins_count} checkins and {avg_tips_count} tips on average\")"
   ]
  },
  {
   "cell_type": "code",
   "execution_count": 7,
   "metadata": {},
   "outputs": [
    {
     "name": "stdout",
     "output_type": "stream",
     "text": [
      "There are 2149 restaurants with 5 checkins or less\n"
     ]
    }
   ],
   "source": [
    "v = len(restaurants_df[restaurants_df[\"checkins_count\"] < 5])\n",
    "print(f\"There are {v} restaurants with 5 checkins or less\")"
   ]
  },
  {
   "cell_type": "code",
   "execution_count": 8,
   "metadata": {},
   "outputs": [
    {
     "name": "stdout",
     "output_type": "stream",
     "text": [
      "Restaurants star rating is 3.57/5 average\n"
     ]
    }
   ],
   "source": [
    "average_star_rating = round(restaurants_df[\"stars\"].mean(), 2)\n",
    "print(f\"Restaurants star rating is {average_star_rating}/5 average\")"
   ]
  },
  {
   "cell_type": "code",
   "execution_count": 9,
   "metadata": {},
   "outputs": [
    {
     "data": {
      "text/plain": [
       "4.0    11714\n",
       "3.5    10651\n",
       "3.0     6520\n",
       "4.5     6233\n",
       "2.5     3275\n",
       "2.0     1808\n",
       "5.0     1091\n",
       "1.5      691\n",
       "1.0      106\n",
       "Name: stars, dtype: int64"
      ]
     },
     "execution_count": 9,
     "metadata": {},
     "output_type": "execute_result"
    }
   ],
   "source": [
    "restaurants_df['stars'].value_counts()"
   ]
  },
  {
   "cell_type": "code",
   "execution_count": 10,
   "metadata": {},
   "outputs": [],
   "source": [
    "open_restaurants_df = restaurants_df[restaurants_df[\"is_open\"] == 1]\n",
    "closed_restaurants_df = restaurants_df[restaurants_df[\"is_open\"] == 0]"
   ]
  },
  {
   "cell_type": "code",
   "execution_count": 11,
   "metadata": {},
   "outputs": [
    {
     "name": "stdout",
     "output_type": "stream",
     "text": [
      "Open restaurants star rating is 3.57/5 average with sd 0.78\n",
      "Closed restaurants star rating is 3.55/5 average with sd 0.68\n"
     ]
    }
   ],
   "source": [
    "open_avg = round(open_restaurants_df[\"stars\"].mean(), 2)\n",
    "open_sd = round(open_restaurants_df[\"stars\"].std(), 2)\n",
    "print(f\"Open restaurants star rating is {open_avg}/5 average with sd {open_sd}\")\n",
    "\n",
    "closed_avg = round(closed_restaurants_df[\"stars\"].mean(), 2)\n",
    "closed_sd = round(closed_restaurants_df[\"stars\"].std(), 2)\n",
    "print(f\"Closed restaurants star rating is {closed_avg}/5 average with sd {closed_sd}\")\n",
    "\n",
    "# From the results we can conclude that the star rating is not a good indicator of whether\n",
    "# a restaurant will close as the mean and sd are the same"
   ]
  },
  {
   "cell_type": "code",
   "execution_count": 12,
   "metadata": {},
   "outputs": [
    {
     "data": {
      "text/html": [
       "<div>\n",
       "<style scoped>\n",
       "    .dataframe tbody tr th:only-of-type {\n",
       "        vertical-align: middle;\n",
       "    }\n",
       "\n",
       "    .dataframe tbody tr th {\n",
       "        vertical-align: top;\n",
       "    }\n",
       "\n",
       "    .dataframe thead th {\n",
       "        text-align: right;\n",
       "    }\n",
       "</style>\n",
       "<table border=\"1\" class=\"dataframe\">\n",
       "  <thead>\n",
       "    <tr style=\"text-align: right;\">\n",
       "      <th></th>\n",
       "      <th>checkins_count</th>\n",
       "      <th>tips_count</th>\n",
       "      <th>review_count</th>\n",
       "    </tr>\n",
       "  </thead>\n",
       "  <tbody>\n",
       "    <tr>\n",
       "      <th>checkins_count</th>\n",
       "      <td>1.000000</td>\n",
       "      <td>0.894577</td>\n",
       "      <td>0.844195</td>\n",
       "    </tr>\n",
       "    <tr>\n",
       "      <th>tips_count</th>\n",
       "      <td>0.894577</td>\n",
       "      <td>1.000000</td>\n",
       "      <td>0.888469</td>\n",
       "    </tr>\n",
       "    <tr>\n",
       "      <th>review_count</th>\n",
       "      <td>0.844195</td>\n",
       "      <td>0.888469</td>\n",
       "      <td>1.000000</td>\n",
       "    </tr>\n",
       "  </tbody>\n",
       "</table>\n",
       "</div>"
      ],
      "text/plain": [
       "                checkins_count  tips_count  review_count\n",
       "checkins_count        1.000000    0.894577      0.844195\n",
       "tips_count            0.894577    1.000000      0.888469\n",
       "review_count          0.844195    0.888469      1.000000"
      ]
     },
     "execution_count": 12,
     "metadata": {},
     "output_type": "execute_result"
    }
   ],
   "source": [
    "restaurants_df[['checkins_count', 'tips_count', 'review_count']].corr()"
   ]
  },
  {
   "cell_type": "markdown",
   "metadata": {},
   "source": [
    "### Setting First and Last Checkin Dates"
   ]
  },
  {
   "cell_type": "code",
   "execution_count": 13,
   "metadata": {},
   "outputs": [],
   "source": [
    "def get_first_date(row):\n",
    "    dates = row[4].split(\",\")\n",
    "    first_date = datetime.datetime.strptime(dates[0].strip(), \"%Y-%m-%d %H:%M:%S\")\n",
    "    first_date_str = f\"{first_date: %d-%m-%Y}\"\n",
    "    return first_date_str\n",
    "\n",
    "def get_first_date_year(row):\n",
    "    dates = row[4].split(\",\")\n",
    "    first_date = datetime.datetime.strptime(dates[0].strip(), \"%Y-%m-%d %H:%M:%S\")\n",
    "    return first_date.year"
   ]
  },
  {
   "cell_type": "code",
   "execution_count": 14,
   "metadata": {},
   "outputs": [],
   "source": [
    "restaurants_df[\"start_date\"] = restaurants_df.apply(get_first_date, axis=1)"
   ]
  },
  {
   "cell_type": "code",
   "execution_count": 15,
   "metadata": {},
   "outputs": [],
   "source": [
    "restaurants_df[\"start_date_year\"] = restaurants_df.apply(get_first_date_year, axis=1)"
   ]
  },
  {
   "cell_type": "code",
   "execution_count": 16,
   "metadata": {},
   "outputs": [],
   "source": [
    "def get_last_date(row):\n",
    "    dates = row[4].split(\",\")\n",
    "    last_date = datetime.datetime.strptime(dates[len(dates)-1].strip(), \"%Y-%m-%d %H:%M:%S\")\n",
    "    last_date_str = f\"{last_date: %d-%m-%Y}\"\n",
    "    return last_date_str\n",
    "\n",
    "def get_last_date_year(row):\n",
    "    dates = row[4].split(\",\")\n",
    "    last_date = datetime.datetime.strptime(dates[len(dates)-1].strip(), \"%Y-%m-%d %H:%M:%S\")\n",
    "    return last_date.year"
   ]
  },
  {
   "cell_type": "code",
   "execution_count": 17,
   "metadata": {},
   "outputs": [],
   "source": [
    "restaurants_df[\"end_date\"] = restaurants_df.apply(get_last_date, axis=1)"
   ]
  },
  {
   "cell_type": "code",
   "execution_count": 18,
   "metadata": {},
   "outputs": [],
   "source": [
    "restaurants_df[\"end_date_year\"] = restaurants_df.apply(get_last_date_year, axis=1)"
   ]
  },
  {
   "cell_type": "code",
   "execution_count": 19,
   "metadata": {},
   "outputs": [
    {
     "data": {
      "text/html": [
       "<div>\n",
       "<style scoped>\n",
       "    .dataframe tbody tr th:only-of-type {\n",
       "        vertical-align: middle;\n",
       "    }\n",
       "\n",
       "    .dataframe tbody tr th {\n",
       "        vertical-align: top;\n",
       "    }\n",
       "\n",
       "    .dataframe thead th {\n",
       "        text-align: right;\n",
       "    }\n",
       "</style>\n",
       "<table border=\"1\" class=\"dataframe\">\n",
       "  <thead>\n",
       "    <tr style=\"text-align: right;\">\n",
       "      <th></th>\n",
       "      <th>business_id</th>\n",
       "      <th>is_open</th>\n",
       "      <th>review_count</th>\n",
       "      <th>stars</th>\n",
       "      <th>checkins_dates</th>\n",
       "      <th>checkins_count</th>\n",
       "      <th>tips_count</th>\n",
       "      <th>tips_dates</th>\n",
       "      <th>start_date</th>\n",
       "      <th>start_date_year</th>\n",
       "      <th>end_date</th>\n",
       "      <th>end_date_year</th>\n",
       "    </tr>\n",
       "  </thead>\n",
       "  <tbody>\n",
       "    <tr>\n",
       "      <th>0</th>\n",
       "      <td>6iYb2HFDywm3zjuRg0shjw</td>\n",
       "      <td>1</td>\n",
       "      <td>86</td>\n",
       "      <td>4.0</td>\n",
       "      <td>2017-09-10 04:48:12, 2017-09-10 04:49:28, 2017...</td>\n",
       "      <td>184</td>\n",
       "      <td>7.0</td>\n",
       "      <td>2019-06-07 22:24:44,2019-03-06 22:53:59,2017-0...</td>\n",
       "      <td>10-09-2017</td>\n",
       "      <td>2017</td>\n",
       "      <td>13-01-2021</td>\n",
       "      <td>2021</td>\n",
       "    </tr>\n",
       "    <tr>\n",
       "      <th>1</th>\n",
       "      <td>tCbdrRPZA0oiIYSmHG3J0w</td>\n",
       "      <td>1</td>\n",
       "      <td>126</td>\n",
       "      <td>4.0</td>\n",
       "      <td>2010-04-22 05:31:33, 2010-05-09 18:24:50, 2010...</td>\n",
       "      <td>1180</td>\n",
       "      <td>47.0</td>\n",
       "      <td>2013-12-18 05:57:05,2013-04-08 01:55:49,2013-0...</td>\n",
       "      <td>22-04-2010</td>\n",
       "      <td>2010</td>\n",
       "      <td>21-01-2021</td>\n",
       "      <td>2021</td>\n",
       "    </tr>\n",
       "    <tr>\n",
       "      <th>2</th>\n",
       "      <td>D4JtQNTI4X3KcbzacDJsMw</td>\n",
       "      <td>1</td>\n",
       "      <td>169</td>\n",
       "      <td>3.5</td>\n",
       "      <td>2010-11-06 02:53:03, 2010-11-29 02:16:55, 2010...</td>\n",
       "      <td>288</td>\n",
       "      <td>32.0</td>\n",
       "      <td>2010-12-02 21:10:51,2018-01-18 21:40:39,2011-1...</td>\n",
       "      <td>06-11-2010</td>\n",
       "      <td>2010</td>\n",
       "      <td>23-01-2021</td>\n",
       "      <td>2021</td>\n",
       "    </tr>\n",
       "    <tr>\n",
       "      <th>3</th>\n",
       "      <td>HPA_qyMEddpAEtFof02ixg</td>\n",
       "      <td>1</td>\n",
       "      <td>39</td>\n",
       "      <td>4.0</td>\n",
       "      <td>2010-07-28 21:12:50, 2010-08-01 23:58:02, 2010...</td>\n",
       "      <td>36</td>\n",
       "      <td>4.0</td>\n",
       "      <td>2014-03-15 17:16:33,2013-04-27 23:57:33,2014-0...</td>\n",
       "      <td>28-07-2010</td>\n",
       "      <td>2010</td>\n",
       "      <td>23-08-2019</td>\n",
       "      <td>2019</td>\n",
       "    </tr>\n",
       "    <tr>\n",
       "      <th>4</th>\n",
       "      <td>ufCxltuh56FF4-ZFZ6cVhg</td>\n",
       "      <td>1</td>\n",
       "      <td>135</td>\n",
       "      <td>4.5</td>\n",
       "      <td>2012-08-29 22:10:36, 2012-09-11 18:11:11, 2012...</td>\n",
       "      <td>246</td>\n",
       "      <td>19.0</td>\n",
       "      <td>2014-06-13 16:58:37,2017-03-15 14:53:27,2015-0...</td>\n",
       "      <td>29-08-2012</td>\n",
       "      <td>2012</td>\n",
       "      <td>09-10-2020</td>\n",
       "      <td>2020</td>\n",
       "    </tr>\n",
       "  </tbody>\n",
       "</table>\n",
       "</div>"
      ],
      "text/plain": [
       "              business_id  is_open  review_count  stars  \\\n",
       "0  6iYb2HFDywm3zjuRg0shjw        1            86    4.0   \n",
       "1  tCbdrRPZA0oiIYSmHG3J0w        1           126    4.0   \n",
       "2  D4JtQNTI4X3KcbzacDJsMw        1           169    3.5   \n",
       "3  HPA_qyMEddpAEtFof02ixg        1            39    4.0   \n",
       "4  ufCxltuh56FF4-ZFZ6cVhg        1           135    4.5   \n",
       "\n",
       "                                      checkins_dates  checkins_count  \\\n",
       "0  2017-09-10 04:48:12, 2017-09-10 04:49:28, 2017...             184   \n",
       "1  2010-04-22 05:31:33, 2010-05-09 18:24:50, 2010...            1180   \n",
       "2  2010-11-06 02:53:03, 2010-11-29 02:16:55, 2010...             288   \n",
       "3  2010-07-28 21:12:50, 2010-08-01 23:58:02, 2010...              36   \n",
       "4  2012-08-29 22:10:36, 2012-09-11 18:11:11, 2012...             246   \n",
       "\n",
       "   tips_count                                         tips_dates   start_date  \\\n",
       "0         7.0  2019-06-07 22:24:44,2019-03-06 22:53:59,2017-0...   10-09-2017   \n",
       "1        47.0  2013-12-18 05:57:05,2013-04-08 01:55:49,2013-0...   22-04-2010   \n",
       "2        32.0  2010-12-02 21:10:51,2018-01-18 21:40:39,2011-1...   06-11-2010   \n",
       "3         4.0  2014-03-15 17:16:33,2013-04-27 23:57:33,2014-0...   28-07-2010   \n",
       "4        19.0  2014-06-13 16:58:37,2017-03-15 14:53:27,2015-0...   29-08-2012   \n",
       "\n",
       "   start_date_year     end_date  end_date_year  \n",
       "0             2017   13-01-2021           2021  \n",
       "1             2010   21-01-2021           2021  \n",
       "2             2010   23-01-2021           2021  \n",
       "3             2010   23-08-2019           2019  \n",
       "4             2012   09-10-2020           2020  "
      ]
     },
     "execution_count": 19,
     "metadata": {},
     "output_type": "execute_result"
    }
   ],
   "source": [
    "restaurants_df.head(5)"
   ]
  },
  {
   "cell_type": "markdown",
   "metadata": {},
   "source": [
    "### Getting All Restaurants Open in 2016"
   ]
  },
  {
   "cell_type": "code",
   "execution_count": 20,
   "metadata": {},
   "outputs": [],
   "source": [
    "restaurants_2016_df = restaurants_df[restaurants_df[\"start_date_year\"] < 2016]\n",
    "restaurants_2016_df = restaurants_2016_df[restaurants_2016_df[\"end_date_year\"] > 2016]"
   ]
  },
  {
   "cell_type": "code",
   "execution_count": 21,
   "metadata": {},
   "outputs": [
    {
     "name": "stdout",
     "output_type": "stream",
     "text": [
      "There were 24161 restaurants open in 2016 of which 4531 have since closed down\n"
     ]
    }
   ],
   "source": [
    "later_closed = restaurants_2016_df[restaurants_2016_df[\"is_open\"] == 0]\n",
    "\n",
    "print(f\"There were {len(restaurants_2016_df)} restaurants open in 2016 of which {len(later_closed)} have since closed down\")"
   ]
  },
  {
   "cell_type": "markdown",
   "metadata": {},
   "source": [
    "### Calculating Frequency using Tips & Checkins"
   ]
  },
  {
   "cell_type": "code",
   "execution_count": 22,
   "metadata": {},
   "outputs": [],
   "source": [
    "def get_dates_in_2016(dates):\n",
    "    dates_in_2016 = []\n",
    "    if len(dates) == 1 and dates[0] == '':\n",
    "        return []\n",
    "    for date_str in dates:\n",
    "        date = datetime.datetime.strptime(date_str.strip(), \"%Y-%m-%d %H:%M:%S\")\n",
    "        if date.year == 2016:\n",
    "            dates_in_2016.append(date)\n",
    "        \n",
    "    return dates_in_2016\n",
    "        \n",
    "\n",
    "def calculate_frequency_2016(row):\n",
    "    checkins_dates = row[4].split(\",\")\n",
    "    tips_dates = row[7].split(\",\")\n",
    "    \n",
    "    checkins_in_2016 = get_dates_in_2016(checkins_dates)\n",
    "    tips_in_2016 = get_dates_in_2016(tips_dates)\n",
    "    \n",
    "    total = len(checkins_in_2016) + len(tips_in_2016)\n",
    "    return total"
   ]
  },
  {
   "cell_type": "code",
   "execution_count": 23,
   "metadata": {},
   "outputs": [],
   "source": [
    "restaurants_2016_df[\"total\"] = restaurants_2016_df.apply(calculate_frequency_2016, axis=1)"
   ]
  },
  {
   "cell_type": "code",
   "execution_count": 24,
   "metadata": {},
   "outputs": [
    {
     "data": {
      "text/html": [
       "<div>\n",
       "<style scoped>\n",
       "    .dataframe tbody tr th:only-of-type {\n",
       "        vertical-align: middle;\n",
       "    }\n",
       "\n",
       "    .dataframe tbody tr th {\n",
       "        vertical-align: top;\n",
       "    }\n",
       "\n",
       "    .dataframe thead th {\n",
       "        text-align: right;\n",
       "    }\n",
       "</style>\n",
       "<table border=\"1\" class=\"dataframe\">\n",
       "  <thead>\n",
       "    <tr style=\"text-align: right;\">\n",
       "      <th></th>\n",
       "      <th>business_id</th>\n",
       "      <th>is_open</th>\n",
       "      <th>review_count</th>\n",
       "      <th>stars</th>\n",
       "      <th>checkins_dates</th>\n",
       "      <th>checkins_count</th>\n",
       "      <th>tips_count</th>\n",
       "      <th>tips_dates</th>\n",
       "      <th>start_date</th>\n",
       "      <th>start_date_year</th>\n",
       "      <th>end_date</th>\n",
       "      <th>end_date_year</th>\n",
       "      <th>total</th>\n",
       "    </tr>\n",
       "  </thead>\n",
       "  <tbody>\n",
       "    <tr>\n",
       "      <th>1</th>\n",
       "      <td>tCbdrRPZA0oiIYSmHG3J0w</td>\n",
       "      <td>1</td>\n",
       "      <td>126</td>\n",
       "      <td>4.0</td>\n",
       "      <td>2010-04-22 05:31:33, 2010-05-09 18:24:50, 2010...</td>\n",
       "      <td>1180</td>\n",
       "      <td>47.0</td>\n",
       "      <td>2013-12-18 05:57:05,2013-04-08 01:55:49,2013-0...</td>\n",
       "      <td>22-04-2010</td>\n",
       "      <td>2010</td>\n",
       "      <td>21-01-2021</td>\n",
       "      <td>2021</td>\n",
       "      <td>144</td>\n",
       "    </tr>\n",
       "    <tr>\n",
       "      <th>2</th>\n",
       "      <td>D4JtQNTI4X3KcbzacDJsMw</td>\n",
       "      <td>1</td>\n",
       "      <td>169</td>\n",
       "      <td>3.5</td>\n",
       "      <td>2010-11-06 02:53:03, 2010-11-29 02:16:55, 2010...</td>\n",
       "      <td>288</td>\n",
       "      <td>32.0</td>\n",
       "      <td>2010-12-02 21:10:51,2018-01-18 21:40:39,2011-1...</td>\n",
       "      <td>06-11-2010</td>\n",
       "      <td>2010</td>\n",
       "      <td>23-01-2021</td>\n",
       "      <td>2021</td>\n",
       "      <td>24</td>\n",
       "    </tr>\n",
       "    <tr>\n",
       "      <th>3</th>\n",
       "      <td>HPA_qyMEddpAEtFof02ixg</td>\n",
       "      <td>1</td>\n",
       "      <td>39</td>\n",
       "      <td>4.0</td>\n",
       "      <td>2010-07-28 21:12:50, 2010-08-01 23:58:02, 2010...</td>\n",
       "      <td>36</td>\n",
       "      <td>4.0</td>\n",
       "      <td>2014-03-15 17:16:33,2013-04-27 23:57:33,2014-0...</td>\n",
       "      <td>28-07-2010</td>\n",
       "      <td>2010</td>\n",
       "      <td>23-08-2019</td>\n",
       "      <td>2019</td>\n",
       "      <td>2</td>\n",
       "    </tr>\n",
       "  </tbody>\n",
       "</table>\n",
       "</div>"
      ],
      "text/plain": [
       "              business_id  is_open  review_count  stars  \\\n",
       "1  tCbdrRPZA0oiIYSmHG3J0w        1           126    4.0   \n",
       "2  D4JtQNTI4X3KcbzacDJsMw        1           169    3.5   \n",
       "3  HPA_qyMEddpAEtFof02ixg        1            39    4.0   \n",
       "\n",
       "                                      checkins_dates  checkins_count  \\\n",
       "1  2010-04-22 05:31:33, 2010-05-09 18:24:50, 2010...            1180   \n",
       "2  2010-11-06 02:53:03, 2010-11-29 02:16:55, 2010...             288   \n",
       "3  2010-07-28 21:12:50, 2010-08-01 23:58:02, 2010...              36   \n",
       "\n",
       "   tips_count                                         tips_dates   start_date  \\\n",
       "1        47.0  2013-12-18 05:57:05,2013-04-08 01:55:49,2013-0...   22-04-2010   \n",
       "2        32.0  2010-12-02 21:10:51,2018-01-18 21:40:39,2011-1...   06-11-2010   \n",
       "3         4.0  2014-03-15 17:16:33,2013-04-27 23:57:33,2014-0...   28-07-2010   \n",
       "\n",
       "   start_date_year     end_date  end_date_year  total  \n",
       "1             2010   21-01-2021           2021    144  \n",
       "2             2010   23-01-2021           2021     24  \n",
       "3             2010   23-08-2019           2019      2  "
      ]
     },
     "execution_count": 24,
     "metadata": {},
     "output_type": "execute_result"
    }
   ],
   "source": [
    "restaurants_2016_df.head(3)"
   ]
  },
  {
   "cell_type": "code",
   "execution_count": 25,
   "metadata": {},
   "outputs": [],
   "source": [
    "q25 = restaurants_2016_df['total'].quantile(0.25)\n",
    "median = restaurants_2016_df['total'].quantile(0.5)\n",
    "q75 = restaurants_2016_df['total'].quantile(0.75)\n",
    "restaurants_2016_df[\"normalized_total\"] = round(((restaurants_2016_df[\"total\"]-median)/(q75-q25) + 1) * 0.5, 3)"
   ]
  },
  {
   "cell_type": "markdown",
   "metadata": {},
   "source": [
    "### Analyzing the Data from 2016"
   ]
  },
  {
   "cell_type": "markdown",
   "metadata": {},
   "source": [
    "#### General Information"
   ]
  },
  {
   "cell_type": "code",
   "execution_count": 26,
   "metadata": {},
   "outputs": [
    {
     "data": {
      "text/html": [
       "<div>\n",
       "<style scoped>\n",
       "    .dataframe tbody tr th:only-of-type {\n",
       "        vertical-align: middle;\n",
       "    }\n",
       "\n",
       "    .dataframe tbody tr th {\n",
       "        vertical-align: top;\n",
       "    }\n",
       "\n",
       "    .dataframe thead th {\n",
       "        text-align: right;\n",
       "    }\n",
       "</style>\n",
       "<table border=\"1\" class=\"dataframe\">\n",
       "  <thead>\n",
       "    <tr style=\"text-align: right;\">\n",
       "      <th></th>\n",
       "      <th>business_id</th>\n",
       "      <th>is_open</th>\n",
       "      <th>review_count</th>\n",
       "      <th>stars</th>\n",
       "      <th>checkins_dates</th>\n",
       "      <th>checkins_count</th>\n",
       "      <th>tips_count</th>\n",
       "      <th>tips_dates</th>\n",
       "      <th>start_date</th>\n",
       "      <th>start_date_year</th>\n",
       "      <th>end_date</th>\n",
       "      <th>end_date_year</th>\n",
       "      <th>total</th>\n",
       "      <th>normalized_total</th>\n",
       "    </tr>\n",
       "  </thead>\n",
       "  <tbody>\n",
       "    <tr>\n",
       "      <th>1</th>\n",
       "      <td>tCbdrRPZA0oiIYSmHG3J0w</td>\n",
       "      <td>1</td>\n",
       "      <td>126</td>\n",
       "      <td>4.0</td>\n",
       "      <td>2010-04-22 05:31:33, 2010-05-09 18:24:50, 2010...</td>\n",
       "      <td>1180</td>\n",
       "      <td>47.0</td>\n",
       "      <td>2013-12-18 05:57:05,2013-04-08 01:55:49,2013-0...</td>\n",
       "      <td>22-04-2010</td>\n",
       "      <td>2010</td>\n",
       "      <td>21-01-2021</td>\n",
       "      <td>2021</td>\n",
       "      <td>144</td>\n",
       "      <td>1.706</td>\n",
       "    </tr>\n",
       "    <tr>\n",
       "      <th>2</th>\n",
       "      <td>D4JtQNTI4X3KcbzacDJsMw</td>\n",
       "      <td>1</td>\n",
       "      <td>169</td>\n",
       "      <td>3.5</td>\n",
       "      <td>2010-11-06 02:53:03, 2010-11-29 02:16:55, 2010...</td>\n",
       "      <td>288</td>\n",
       "      <td>32.0</td>\n",
       "      <td>2010-12-02 21:10:51,2018-01-18 21:40:39,2011-1...</td>\n",
       "      <td>06-11-2010</td>\n",
       "      <td>2010</td>\n",
       "      <td>23-01-2021</td>\n",
       "      <td>2021</td>\n",
       "      <td>24</td>\n",
       "      <td>0.529</td>\n",
       "    </tr>\n",
       "  </tbody>\n",
       "</table>\n",
       "</div>"
      ],
      "text/plain": [
       "              business_id  is_open  review_count  stars  \\\n",
       "1  tCbdrRPZA0oiIYSmHG3J0w        1           126    4.0   \n",
       "2  D4JtQNTI4X3KcbzacDJsMw        1           169    3.5   \n",
       "\n",
       "                                      checkins_dates  checkins_count  \\\n",
       "1  2010-04-22 05:31:33, 2010-05-09 18:24:50, 2010...            1180   \n",
       "2  2010-11-06 02:53:03, 2010-11-29 02:16:55, 2010...             288   \n",
       "\n",
       "   tips_count                                         tips_dates   start_date  \\\n",
       "1        47.0  2013-12-18 05:57:05,2013-04-08 01:55:49,2013-0...   22-04-2010   \n",
       "2        32.0  2010-12-02 21:10:51,2018-01-18 21:40:39,2011-1...   06-11-2010   \n",
       "\n",
       "   start_date_year     end_date  end_date_year  total  normalized_total  \n",
       "1             2010   21-01-2021           2021    144             1.706  \n",
       "2             2010   23-01-2021           2021     24             0.529  "
      ]
     },
     "execution_count": 26,
     "metadata": {},
     "output_type": "execute_result"
    }
   ],
   "source": [
    "restaurants_2016_df.head(2)"
   ]
  },
  {
   "cell_type": "code",
   "execution_count": 27,
   "metadata": {},
   "outputs": [
    {
     "name": "stdout",
     "output_type": "stream",
     "text": [
      "Mean frequency in 2016 is 52.716 with std 107.656\n",
      "Max total is 3060\n",
      "Min total is 0\n"
     ]
    }
   ],
   "source": [
    "mean = round(restaurants_2016_df[\"total\"].mean(), 3)\n",
    "std = round(restaurants_2016_df[\"total\"].std(), 3)\n",
    "print(f\"Mean frequency in 2016 is {mean} with std {std}\")\n",
    "print(\"Max total is \" + str(restaurants_2016_df['total'].max()))\n",
    "print(\"Min total is \" + str(restaurants_2016_df['total'].min()))"
   ]
  },
  {
   "cell_type": "code",
   "execution_count": 28,
   "metadata": {},
   "outputs": [
    {
     "data": {
      "text/plain": [
       "30.294"
      ]
     },
     "execution_count": 28,
     "metadata": {},
     "output_type": "execute_result"
    }
   ],
   "source": [
    "restaurants_2016_df['normalized_total'].max()"
   ]
  },
  {
   "cell_type": "code",
   "execution_count": 29,
   "metadata": {},
   "outputs": [
    {
     "data": {
      "text/plain": [
       "40"
      ]
     },
     "execution_count": 29,
     "metadata": {},
     "output_type": "execute_result"
    }
   ],
   "source": [
    "len(restaurants_2016_df[restaurants_2016_df['total'] > 1000])"
   ]
  },
  {
   "cell_type": "code",
   "execution_count": 30,
   "metadata": {},
   "outputs": [
    {
     "name": "stdout",
     "output_type": "stream",
     "text": [
      "25% quantile total is 0.363\n",
      "33% quantile total is 0.392\n",
      "50% quantile total is 0.5\n",
      "66% quantile total is 0.686\n",
      "75% quantile total is 0.863\n"
     ]
    }
   ],
   "source": [
    "print(\"25% quantile total is \" + str(restaurants_2016_df['normalized_total'].quantile(0.25)))\n",
    "print(\"33% quantile total is \" + str(restaurants_2016_df['normalized_total'].quantile(0.33)))\n",
    "print(\"50% quantile total is \" + str(restaurants_2016_df['normalized_total'].quantile(0.5)))\n",
    "print(\"66% quantile total is \" + str(restaurants_2016_df['normalized_total'].quantile(0.66)))\n",
    "print(\"75% quantile total is \" + str(restaurants_2016_df['normalized_total'].quantile(0.75)))"
   ]
  },
  {
   "cell_type": "markdown",
   "metadata": {},
   "source": [
    "#### Correlations"
   ]
  },
  {
   "cell_type": "code",
   "execution_count": 31,
   "metadata": {},
   "outputs": [
    {
     "data": {
      "text/html": [
       "<div>\n",
       "<style scoped>\n",
       "    .dataframe tbody tr th:only-of-type {\n",
       "        vertical-align: middle;\n",
       "    }\n",
       "\n",
       "    .dataframe tbody tr th {\n",
       "        vertical-align: top;\n",
       "    }\n",
       "\n",
       "    .dataframe thead th {\n",
       "        text-align: right;\n",
       "    }\n",
       "</style>\n",
       "<table border=\"1\" class=\"dataframe\">\n",
       "  <thead>\n",
       "    <tr style=\"text-align: right;\">\n",
       "      <th></th>\n",
       "      <th>normalized_total</th>\n",
       "      <th>stars</th>\n",
       "    </tr>\n",
       "  </thead>\n",
       "  <tbody>\n",
       "    <tr>\n",
       "      <th>normalized_total</th>\n",
       "      <td>1.000000</td>\n",
       "      <td>0.222748</td>\n",
       "    </tr>\n",
       "    <tr>\n",
       "      <th>stars</th>\n",
       "      <td>0.222748</td>\n",
       "      <td>1.000000</td>\n",
       "    </tr>\n",
       "  </tbody>\n",
       "</table>\n",
       "</div>"
      ],
      "text/plain": [
       "                  normalized_total     stars\n",
       "normalized_total          1.000000  0.222748\n",
       "stars                     0.222748  1.000000"
      ]
     },
     "execution_count": 31,
     "metadata": {},
     "output_type": "execute_result"
    }
   ],
   "source": [
    "restaurants_2016_df[['normalized_total', 'stars']].corr()"
   ]
  },
  {
   "cell_type": "code",
   "execution_count": 32,
   "metadata": {},
   "outputs": [
    {
     "data": {
      "text/html": [
       "<div>\n",
       "<style scoped>\n",
       "    .dataframe tbody tr th:only-of-type {\n",
       "        vertical-align: middle;\n",
       "    }\n",
       "\n",
       "    .dataframe tbody tr th {\n",
       "        vertical-align: top;\n",
       "    }\n",
       "\n",
       "    .dataframe thead th {\n",
       "        text-align: right;\n",
       "    }\n",
       "</style>\n",
       "<table border=\"1\" class=\"dataframe\">\n",
       "  <thead>\n",
       "    <tr style=\"text-align: right;\">\n",
       "      <th></th>\n",
       "      <th>normalized_total</th>\n",
       "      <th>review_count</th>\n",
       "    </tr>\n",
       "  </thead>\n",
       "  <tbody>\n",
       "    <tr>\n",
       "      <th>normalized_total</th>\n",
       "      <td>1.000000</td>\n",
       "      <td>0.782728</td>\n",
       "    </tr>\n",
       "    <tr>\n",
       "      <th>review_count</th>\n",
       "      <td>0.782728</td>\n",
       "      <td>1.000000</td>\n",
       "    </tr>\n",
       "  </tbody>\n",
       "</table>\n",
       "</div>"
      ],
      "text/plain": [
       "                  normalized_total  review_count\n",
       "normalized_total          1.000000      0.782728\n",
       "review_count              0.782728      1.000000"
      ]
     },
     "execution_count": 32,
     "metadata": {},
     "output_type": "execute_result"
    }
   ],
   "source": [
    "restaurants_2016_df[['normalized_total', 'review_count']].corr()"
   ]
  },
  {
   "cell_type": "code",
   "execution_count": 33,
   "metadata": {},
   "outputs": [
    {
     "data": {
      "text/html": [
       "<div>\n",
       "<style scoped>\n",
       "    .dataframe tbody tr th:only-of-type {\n",
       "        vertical-align: middle;\n",
       "    }\n",
       "\n",
       "    .dataframe tbody tr th {\n",
       "        vertical-align: top;\n",
       "    }\n",
       "\n",
       "    .dataframe thead th {\n",
       "        text-align: right;\n",
       "    }\n",
       "</style>\n",
       "<table border=\"1\" class=\"dataframe\">\n",
       "  <thead>\n",
       "    <tr style=\"text-align: right;\">\n",
       "      <th></th>\n",
       "      <th>normalized_total</th>\n",
       "      <th>is_open</th>\n",
       "    </tr>\n",
       "  </thead>\n",
       "  <tbody>\n",
       "    <tr>\n",
       "      <th>normalized_total</th>\n",
       "      <td>1.000000</td>\n",
       "      <td>0.023747</td>\n",
       "    </tr>\n",
       "    <tr>\n",
       "      <th>is_open</th>\n",
       "      <td>0.023747</td>\n",
       "      <td>1.000000</td>\n",
       "    </tr>\n",
       "  </tbody>\n",
       "</table>\n",
       "</div>"
      ],
      "text/plain": [
       "                  normalized_total   is_open\n",
       "normalized_total          1.000000  0.023747\n",
       "is_open                   0.023747  1.000000"
      ]
     },
     "execution_count": 33,
     "metadata": {},
     "output_type": "execute_result"
    }
   ],
   "source": [
    "restaurants_2016_df[['normalized_total', 'is_open']].corr()"
   ]
  },
  {
   "cell_type": "markdown",
   "metadata": {},
   "source": [
    "#### Looking at the restaurants who later closed down"
   ]
  },
  {
   "cell_type": "code",
   "execution_count": 34,
   "metadata": {},
   "outputs": [],
   "source": [
    "open_restaurants_in_2017_df = restaurants_2016_df[restaurants_2016_df[\"is_open\"] == 1]"
   ]
  },
  {
   "cell_type": "code",
   "execution_count": 35,
   "metadata": {},
   "outputs": [
    {
     "data": {
      "text/plain": [
       "0.8230030565461077"
      ]
     },
     "execution_count": 35,
     "metadata": {},
     "output_type": "execute_result"
    }
   ],
   "source": [
    "open_restaurants_in_2017_df[\"normalized_total\"].mean()"
   ]
  },
  {
   "cell_type": "code",
   "execution_count": 36,
   "metadata": {},
   "outputs": [],
   "source": [
    "closed_restaurants_in_2017_df = restaurants_2016_df[restaurants_2016_df[\"is_open\"] == 0]"
   ]
  },
  {
   "cell_type": "code",
   "execution_count": 37,
   "metadata": {},
   "outputs": [
    {
     "data": {
      "text/plain": [
       "4531"
      ]
     },
     "execution_count": 37,
     "metadata": {},
     "output_type": "execute_result"
    }
   ],
   "source": [
    "len(closed_restaurants_in_2017_df)"
   ]
  },
  {
   "cell_type": "code",
   "execution_count": 38,
   "metadata": {},
   "outputs": [
    {
     "data": {
      "text/plain": [
       "0.7587951887000678"
      ]
     },
     "execution_count": 38,
     "metadata": {},
     "output_type": "execute_result"
    }
   ],
   "source": [
    "closed_restaurants_in_2017_df[\"normalized_total\"].mean()"
   ]
  },
  {
   "cell_type": "code",
   "execution_count": 39,
   "metadata": {},
   "outputs": [],
   "source": [
    "# Only consider those who closed in 2017 (i.e. last activity is in 2017) because would reflect on the popularity\n",
    "# of the restaurant in the previous years (2016)\n",
    "closed_restaurants_in_2017_df = closed_restaurants_in_2017_df[closed_restaurants_in_2017_df[\"end_date_year\"] == 2017]"
   ]
  },
  {
   "cell_type": "code",
   "execution_count": 40,
   "metadata": {},
   "outputs": [
    {
     "data": {
      "text/plain": [
       "1361"
      ]
     },
     "execution_count": 40,
     "metadata": {},
     "output_type": "execute_result"
    }
   ],
   "source": [
    "len(closed_restaurants_in_2017_df)"
   ]
  },
  {
   "cell_type": "code",
   "execution_count": 41,
   "metadata": {},
   "outputs": [
    {
     "data": {
      "text/plain": [
       "0.6054011756061711"
      ]
     },
     "execution_count": 41,
     "metadata": {},
     "output_type": "execute_result"
    }
   ],
   "source": [
    "closed_restaurants_in_2017_df[\"normalized_total\"].mean()"
   ]
  },
  {
   "cell_type": "markdown",
   "metadata": {},
   "source": [
    "#### Looking at % of Restaurants who closed down who were in bottom of popularity range"
   ]
  },
  {
   "cell_type": "code",
   "execution_count": 42,
   "metadata": {},
   "outputs": [],
   "source": [
    "bottom_df = restaurants_2016_df.loc[restaurants_2016_df[\"normalized_total\"] <= 0.392]"
   ]
  },
  {
   "cell_type": "code",
   "execution_count": 43,
   "metadata": {},
   "outputs": [
    {
     "data": {
      "text/plain": [
       "0.338810479698688"
      ]
     },
     "execution_count": 43,
     "metadata": {},
     "output_type": "execute_result"
    }
   ],
   "source": [
    "len(bottom_df)/len(restaurants_2016_df)"
   ]
  },
  {
   "cell_type": "code",
   "execution_count": 44,
   "metadata": {},
   "outputs": [],
   "source": [
    "middle_df = restaurants_2016_df.loc[restaurants_2016_df[\"normalized_total\"] > 0.392]\n",
    "middle_df = middle_df.loc[middle_df[\"normalized_total\"] <= 0.686]"
   ]
  },
  {
   "cell_type": "code",
   "execution_count": 45,
   "metadata": {},
   "outputs": [
    {
     "data": {
      "text/plain": [
       "0.32593849592318197"
      ]
     },
     "execution_count": 45,
     "metadata": {},
     "output_type": "execute_result"
    }
   ],
   "source": [
    "len(middle_df)/len(restaurants_2016_df)"
   ]
  },
  {
   "cell_type": "code",
   "execution_count": 46,
   "metadata": {},
   "outputs": [],
   "source": [
    "top_df = restaurants_2016_df.loc[restaurants_2016_df[\"normalized_total\"] > 0.686]"
   ]
  },
  {
   "cell_type": "code",
   "execution_count": 47,
   "metadata": {},
   "outputs": [
    {
     "data": {
      "text/plain": [
       "0.33525102437813004"
      ]
     },
     "execution_count": 47,
     "metadata": {},
     "output_type": "execute_result"
    }
   ],
   "source": [
    "len(top_df)/len(restaurants_2016_df)"
   ]
  },
  {
   "cell_type": "code",
   "execution_count": 48,
   "metadata": {},
   "outputs": [
    {
     "data": {
      "text/plain": [
       "1.0"
      ]
     },
     "execution_count": 48,
     "metadata": {},
     "output_type": "execute_result"
    }
   ],
   "source": [
    "(len(bottom_df) + len(middle_df) + len(top_df))/len(restaurants_2016_df)"
   ]
  },
  {
   "cell_type": "code",
   "execution_count": 49,
   "metadata": {},
   "outputs": [
    {
     "name": "stdout",
     "output_type": "stream",
     "text": [
      "1361\n"
     ]
    }
   ],
   "source": [
    "total_closed = len(closed_restaurants_in_2017_df)\n",
    "print(total_closed)"
   ]
  },
  {
   "cell_type": "code",
   "execution_count": 50,
   "metadata": {},
   "outputs": [],
   "source": [
    "bottom_closed_df = bottom_df[(bottom_df[\"is_open\"] == 0) & (bottom_df[\"end_date_year\"] == 2017)]\n",
    "middle_closed_df = middle_df[(middle_df[\"is_open\"] == 0) & (middle_df[\"end_date_year\"] == 2017)]\n",
    "top_closed_df = top_df[(top_df[\"is_open\"] == 0) & (top_df[\"end_date_year\"] == 2017)]"
   ]
  },
  {
   "cell_type": "code",
   "execution_count": 51,
   "metadata": {},
   "outputs": [
    {
     "name": "stdout",
     "output_type": "stream",
     "text": [
      "0.4% of closed restaurants are in the bottom 33% quartile\n",
      "0.35% of closed restaurants are in the middle 33% quartile\n",
      "0.24% of closed restaurants are in the top 33% quartile\n"
     ]
    }
   ],
   "source": [
    "bottom_pct = round(len(bottom_closed_df) / total_closed, 2)\n",
    "middle_pct = round(len(middle_closed_df) / total_closed, 2)\n",
    "top_pct = round(len(top_closed_df) / total_closed, 2)\n",
    "\n",
    "print(f\"{bottom_pct}% of closed restaurants are in the bottom 33% quartile\")\n",
    "print(f\"{middle_pct}% of closed restaurants are in the middle 33% quartile\")\n",
    "print(f\"{top_pct}% of closed restaurants are in the top 33% quartile\")\n",
    "\n",
    "# Results show some agreement between frequency of visits and whether a business will close, as 40% of closed business in\n",
    "# 2017 were among the least popular businesses by visit"
   ]
  },
  {
   "cell_type": "code",
   "execution_count": 52,
   "metadata": {},
   "outputs": [],
   "source": [
    "first_df = restaurants_2016_df.loc[restaurants_2016_df[\"normalized_total\"] <= 0.5]\n",
    "second_df = restaurants_2016_df.loc[restaurants_2016_df[\"normalized_total\"] > 0.5]"
   ]
  },
  {
   "cell_type": "code",
   "execution_count": 53,
   "metadata": {},
   "outputs": [],
   "source": [
    "first_closed_df = first_df[(first_df[\"is_open\"] == 0) & (first_df[\"end_date_year\"] == 2017)]\n",
    "second_closed_df = second_df[(second_df[\"is_open\"] == 0) & (second_df[\"end_date_year\"] == 2017)]"
   ]
  },
  {
   "cell_type": "code",
   "execution_count": 54,
   "metadata": {},
   "outputs": [
    {
     "name": "stdout",
     "output_type": "stream",
     "text": [
      "0.59% of closed restaurants are in the bottom 50% quartile\n",
      "0.41% of closed restaurants are in the top 50% quartile\n"
     ]
    }
   ],
   "source": [
    "print(f\"{round(len(first_closed_df) / total_closed, 2)}% of closed restaurants are in the bottom 50% quartile\")\n",
    "print(f\"{round(len(second_closed_df) / total_closed, 2)}% of closed restaurants are in the top 50% quartile\")"
   ]
  },
  {
   "cell_type": "markdown",
   "metadata": {},
   "source": [
    "### Calculating Popularity Metric\n",
    "\n",
    "Give equal weight to the visit frequency and star rating"
   ]
  },
  {
   "cell_type": "code",
   "execution_count": 55,
   "metadata": {},
   "outputs": [],
   "source": [
    "restaurants_2016_df[\"metric\"] = 0.5 * restaurants_2016_df[\"normalized_total\"] + 0.5 * (restaurants_2016_df[\"stars\"]/5.0)"
   ]
  },
  {
   "cell_type": "code",
   "execution_count": 56,
   "metadata": {},
   "outputs": [
    {
     "data": {
      "text/html": [
       "<div>\n",
       "<style scoped>\n",
       "    .dataframe tbody tr th:only-of-type {\n",
       "        vertical-align: middle;\n",
       "    }\n",
       "\n",
       "    .dataframe tbody tr th {\n",
       "        vertical-align: top;\n",
       "    }\n",
       "\n",
       "    .dataframe thead th {\n",
       "        text-align: right;\n",
       "    }\n",
       "</style>\n",
       "<table border=\"1\" class=\"dataframe\">\n",
       "  <thead>\n",
       "    <tr style=\"text-align: right;\">\n",
       "      <th></th>\n",
       "      <th>business_id</th>\n",
       "      <th>is_open</th>\n",
       "      <th>review_count</th>\n",
       "      <th>stars</th>\n",
       "      <th>checkins_dates</th>\n",
       "      <th>checkins_count</th>\n",
       "      <th>tips_count</th>\n",
       "      <th>tips_dates</th>\n",
       "      <th>start_date</th>\n",
       "      <th>start_date_year</th>\n",
       "      <th>end_date</th>\n",
       "      <th>end_date_year</th>\n",
       "      <th>total</th>\n",
       "      <th>normalized_total</th>\n",
       "      <th>metric</th>\n",
       "    </tr>\n",
       "  </thead>\n",
       "  <tbody>\n",
       "    <tr>\n",
       "      <th>1</th>\n",
       "      <td>tCbdrRPZA0oiIYSmHG3J0w</td>\n",
       "      <td>1</td>\n",
       "      <td>126</td>\n",
       "      <td>4.0</td>\n",
       "      <td>2010-04-22 05:31:33, 2010-05-09 18:24:50, 2010...</td>\n",
       "      <td>1180</td>\n",
       "      <td>47.0</td>\n",
       "      <td>2013-12-18 05:57:05,2013-04-08 01:55:49,2013-0...</td>\n",
       "      <td>22-04-2010</td>\n",
       "      <td>2010</td>\n",
       "      <td>21-01-2021</td>\n",
       "      <td>2021</td>\n",
       "      <td>144</td>\n",
       "      <td>1.706</td>\n",
       "      <td>1.2530</td>\n",
       "    </tr>\n",
       "    <tr>\n",
       "      <th>2</th>\n",
       "      <td>D4JtQNTI4X3KcbzacDJsMw</td>\n",
       "      <td>1</td>\n",
       "      <td>169</td>\n",
       "      <td>3.5</td>\n",
       "      <td>2010-11-06 02:53:03, 2010-11-29 02:16:55, 2010...</td>\n",
       "      <td>288</td>\n",
       "      <td>32.0</td>\n",
       "      <td>2010-12-02 21:10:51,2018-01-18 21:40:39,2011-1...</td>\n",
       "      <td>06-11-2010</td>\n",
       "      <td>2010</td>\n",
       "      <td>23-01-2021</td>\n",
       "      <td>2021</td>\n",
       "      <td>24</td>\n",
       "      <td>0.529</td>\n",
       "      <td>0.6145</td>\n",
       "    </tr>\n",
       "  </tbody>\n",
       "</table>\n",
       "</div>"
      ],
      "text/plain": [
       "              business_id  is_open  review_count  stars  \\\n",
       "1  tCbdrRPZA0oiIYSmHG3J0w        1           126    4.0   \n",
       "2  D4JtQNTI4X3KcbzacDJsMw        1           169    3.5   \n",
       "\n",
       "                                      checkins_dates  checkins_count  \\\n",
       "1  2010-04-22 05:31:33, 2010-05-09 18:24:50, 2010...            1180   \n",
       "2  2010-11-06 02:53:03, 2010-11-29 02:16:55, 2010...             288   \n",
       "\n",
       "   tips_count                                         tips_dates   start_date  \\\n",
       "1        47.0  2013-12-18 05:57:05,2013-04-08 01:55:49,2013-0...   22-04-2010   \n",
       "2        32.0  2010-12-02 21:10:51,2018-01-18 21:40:39,2011-1...   06-11-2010   \n",
       "\n",
       "   start_date_year     end_date  end_date_year  total  normalized_total  \\\n",
       "1             2010   21-01-2021           2021    144             1.706   \n",
       "2             2010   23-01-2021           2021     24             0.529   \n",
       "\n",
       "   metric  \n",
       "1  1.2530  \n",
       "2  0.6145  "
      ]
     },
     "execution_count": 56,
     "metadata": {},
     "output_type": "execute_result"
    }
   ],
   "source": [
    "restaurants_2016_df.head(2)"
   ]
  },
  {
   "cell_type": "code",
   "execution_count": 57,
   "metadata": {},
   "outputs": [
    {
     "name": "stdout",
     "output_type": "stream",
     "text": [
      "Mean is 0.75\n",
      "Max is 15.55\n",
      "Min is 0.25\n"
     ]
    }
   ],
   "source": [
    "print(\"Mean is \" + str(round(restaurants_2016_df['metric'].mean(), 2)))\n",
    "print(\"Max is \" + str(round(restaurants_2016_df['metric'].max(), 2)))\n",
    "print(\"Min is \" + str(round(restaurants_2016_df['metric'].min(), 2)))"
   ]
  },
  {
   "cell_type": "markdown",
   "metadata": {},
   "source": [
    "#### Analyzing Metric"
   ]
  },
  {
   "cell_type": "code",
   "execution_count": 58,
   "metadata": {},
   "outputs": [
    {
     "name": "stdout",
     "output_type": "stream",
     "text": [
      "25% quantile total is 0.51\n",
      "33% quantile total is 0.55\n",
      "50% quantile total is 0.62\n",
      "66% quantile total is 0.71\n",
      "75% quantile total is 0.8\n"
     ]
    }
   ],
   "source": [
    "print(\"25% quantile total is \" + str(round(restaurants_2016_df['metric'].quantile(0.25), 2)))\n",
    "print(\"33% quantile total is \" + str(round(restaurants_2016_df['metric'].quantile(0.33), 2)))\n",
    "print(\"50% quantile total is \" + str(round(restaurants_2016_df['metric'].quantile(0.5), 2)))\n",
    "print(\"66% quantile total is \" + str(round(restaurants_2016_df['metric'].quantile(0.66), 2)))\n",
    "print(\"75% quantile total is \" + str(round(restaurants_2016_df['metric'].quantile(0.75), 2)))"
   ]
  },
  {
   "cell_type": "code",
   "execution_count": 59,
   "metadata": {},
   "outputs": [],
   "source": [
    "open_restaurants_in_2017_df = restaurants_2016_df[restaurants_2016_df[\"is_open\"] == 1]"
   ]
  },
  {
   "cell_type": "code",
   "execution_count": 60,
   "metadata": {},
   "outputs": [
    {
     "data": {
      "text/plain": [
       "0.7556762608252703"
      ]
     },
     "execution_count": 60,
     "metadata": {},
     "output_type": "execute_result"
    }
   ],
   "source": [
    "open_restaurants_in_2017_df[\"metric\"].mean()"
   ]
  },
  {
   "cell_type": "code",
   "execution_count": 61,
   "metadata": {},
   "outputs": [
    {
     "data": {
      "text/plain": [
       "0.7259436106819704"
      ]
     },
     "execution_count": 61,
     "metadata": {},
     "output_type": "execute_result"
    }
   ],
   "source": [
    "closed_restaurants_in_2017_df = restaurants_2016_df[restaurants_2016_df[\"is_open\"] == 0]\n",
    "closed_restaurants_in_2017_df[\"metric\"].mean()"
   ]
  },
  {
   "cell_type": "code",
   "execution_count": 62,
   "metadata": {},
   "outputs": [],
   "source": [
    "# Only consider those who closed in 2017 (i.e. last activity is in 2017) because would reflect on the popularity\n",
    "# of the restaurant in the previous years (2016)\n",
    "closed_restaurants_in_2017_df = closed_restaurants_in_2017_df[closed_restaurants_in_2017_df[\"end_date_year\"] == 2017]"
   ]
  },
  {
   "cell_type": "code",
   "execution_count": 63,
   "metadata": {},
   "outputs": [
    {
     "data": {
      "text/plain": [
       "0.6497983100661286"
      ]
     },
     "execution_count": 63,
     "metadata": {},
     "output_type": "execute_result"
    }
   ],
   "source": [
    "closed_restaurants_in_2017_df[\"metric\"].mean()"
   ]
  },
  {
   "cell_type": "code",
   "execution_count": 73,
   "metadata": {},
   "outputs": [],
   "source": [
    "bottom_df = restaurants_2016_df.loc[restaurants_2016_df[\"metric\"] <= 0.55]\n",
    "middle_df = restaurants_2016_df.loc[restaurants_2016_df[\"metric\"] > 0.55]\n",
    "middle_df = middle_df.loc[middle_df[\"metric\"] <= 0.71]\n",
    "top_df = restaurants_2016_df.loc[restaurants_2016_df[\"metric\"] > 0.71]"
   ]
  },
  {
   "cell_type": "code",
   "execution_count": 74,
   "metadata": {},
   "outputs": [
    {
     "name": "stdout",
     "output_type": "stream",
     "text": [
      "1361\n"
     ]
    }
   ],
   "source": [
    "total_closed = len(closed_restaurants_in_2017_df)\n",
    "print(total_closed)"
   ]
  },
  {
   "cell_type": "code",
   "execution_count": 75,
   "metadata": {},
   "outputs": [],
   "source": [
    "bottom_closed_df = bottom_df[(bottom_df[\"is_open\"] == 0) & (bottom_df[\"end_date_year\"] == 2017)]\n",
    "middle_closed_df = middle_df[(middle_df[\"is_open\"] == 0) & (middle_df[\"end_date_year\"] == 2017)]\n",
    "top_closed_df = top_df[(top_df[\"is_open\"] == 0) & (top_df[\"end_date_year\"] == 2017)]"
   ]
  },
  {
   "cell_type": "code",
   "execution_count": 76,
   "metadata": {},
   "outputs": [
    {
     "name": "stdout",
     "output_type": "stream",
     "text": [
      "0.37% of closed restaurants are in the bottom 33% quartile\n",
      "0.37% of closed restaurants are in the middle 33% quartile\n",
      "0.26% of closed restaurants are in the top 33% quartile\n"
     ]
    }
   ],
   "source": [
    "bottom_pct = round(len(bottom_closed_df) / total_closed, 2)\n",
    "middle_pct = round(len(middle_closed_df) / total_closed, 2)\n",
    "top_pct = round(len(top_closed_df) / total_closed, 2)\n",
    "\n",
    "print(f\"{bottom_pct}% of closed restaurants are in the bottom 33% quartile\")\n",
    "print(f\"{middle_pct}% of closed restaurants are in the middle 33% quartile\")\n",
    "print(f\"{top_pct}% of closed restaurants are in the top 33% quartile\")"
   ]
  },
  {
   "cell_type": "code",
   "execution_count": 77,
   "metadata": {},
   "outputs": [],
   "source": [
    "first_df = restaurants_2016_df.loc[restaurants_2016_df[\"metric\"] <= 0.62]\n",
    "second_df = restaurants_2016_df.loc[restaurants_2016_df[\"metric\"] > 0.62]"
   ]
  },
  {
   "cell_type": "code",
   "execution_count": 78,
   "metadata": {},
   "outputs": [],
   "source": [
    "first_closed_df = first_df[(first_df[\"is_open\"] == 0) & (first_df[\"end_date_year\"] == 2017)]\n",
    "second_closed_df = second_df[(second_df[\"is_open\"] == 0) & (second_df[\"end_date_year\"] == 2017)]"
   ]
  },
  {
   "cell_type": "code",
   "execution_count": 79,
   "metadata": {},
   "outputs": [
    {
     "name": "stdout",
     "output_type": "stream",
     "text": [
      "0.59% of closed restaurants are in the bottom 50% quartile\n",
      "0.41% of closed restaurants are in the top 50% quartile\n"
     ]
    }
   ],
   "source": [
    "print(f\"{round(len(first_closed_df) / total_closed, 2)}% of closed restaurants are in the bottom 50% quartile\")\n",
    "print(f\"{round(len(second_closed_df) / total_closed, 2)}% of closed restaurants are in the top 50% quartile\")"
   ]
  },
  {
   "cell_type": "code",
   "execution_count": null,
   "metadata": {},
   "outputs": [],
   "source": []
  }
 ],
 "metadata": {
  "kernelspec": {
   "display_name": "Python 3",
   "language": "python",
   "name": "python3"
  },
  "language_info": {
   "codemirror_mode": {
    "name": "ipython",
    "version": 3
   },
   "file_extension": ".py",
   "mimetype": "text/x-python",
   "name": "python",
   "nbconvert_exporter": "python",
   "pygments_lexer": "ipython3",
   "version": "3.7.0"
  }
 },
 "nbformat": 4,
 "nbformat_minor": 2
}

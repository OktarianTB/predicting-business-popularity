{
 "cells": [
  {
   "cell_type": "markdown",
   "metadata": {},
   "source": [
    "# Popularity Metric Analysis for 2017-2018 Timeframe"
   ]
  },
  {
   "cell_type": "code",
   "execution_count": 1,
   "metadata": {},
   "outputs": [],
   "source": [
    "import json\n",
    "import pandas as pd\n",
    "import numpy as np\n",
    "import math\n",
    "import datetime"
   ]
  },
  {
   "cell_type": "markdown",
   "metadata": {},
   "source": [
    "## Reading the Data"
   ]
  },
  {
   "cell_type": "code",
   "execution_count": 2,
   "metadata": {},
   "outputs": [],
   "source": [
    "restaurants_df = pd.read_csv(\"./../datasets/2017-2018_restaurants.csv\")"
   ]
  },
  {
   "cell_type": "code",
   "execution_count": 3,
   "metadata": {},
   "outputs": [
    {
     "data": {
      "text/html": [
       "<div>\n",
       "<style scoped>\n",
       "    .dataframe tbody tr th:only-of-type {\n",
       "        vertical-align: middle;\n",
       "    }\n",
       "\n",
       "    .dataframe tbody tr th {\n",
       "        vertical-align: top;\n",
       "    }\n",
       "\n",
       "    .dataframe thead th {\n",
       "        text-align: right;\n",
       "    }\n",
       "</style>\n",
       "<table border=\"1\" class=\"dataframe\">\n",
       "  <thead>\n",
       "    <tr style=\"text-align: right;\">\n",
       "      <th></th>\n",
       "      <th>business_id</th>\n",
       "      <th>city</th>\n",
       "      <th>state</th>\n",
       "      <th>latitude</th>\n",
       "      <th>longitude</th>\n",
       "      <th>is_open</th>\n",
       "      <th>attributes</th>\n",
       "      <th>categories</th>\n",
       "      <th>hours</th>\n",
       "      <th>checkin_count</th>\n",
       "      <th>review_count</th>\n",
       "      <th>raw_stars</th>\n",
       "      <th>stars</th>\n",
       "      <th>tip_count</th>\n",
       "      <th>first_date</th>\n",
       "      <th>last_date</th>\n",
       "      <th>visit_count</th>\n",
       "      <th>is_open_year_after</th>\n",
       "    </tr>\n",
       "  </thead>\n",
       "  <tbody>\n",
       "    <tr>\n",
       "      <th>0</th>\n",
       "      <td>6iYb2HFDywm3zjuRg0shjw</td>\n",
       "      <td>Boulder</td>\n",
       "      <td>CO</td>\n",
       "      <td>40.017544</td>\n",
       "      <td>-105.283348</td>\n",
       "      <td>1</td>\n",
       "      <td>{'RestaurantsTableService': 'True', 'WiFi': \"u...</td>\n",
       "      <td>Gastropubs, Food, Beer Gardens, Restaurants, B...</td>\n",
       "      <td>{'Monday': '11:0-23:0', 'Tuesday': '11:0-23:0'...</td>\n",
       "      <td>79</td>\n",
       "      <td>49</td>\n",
       "      <td>3.714286</td>\n",
       "      <td>3.5</td>\n",
       "      <td>4</td>\n",
       "      <td>2017-09-09 04:42:34</td>\n",
       "      <td>2021-01-22 05:20:38</td>\n",
       "      <td>132</td>\n",
       "      <td>True</td>\n",
       "    </tr>\n",
       "    <tr>\n",
       "      <th>1</th>\n",
       "      <td>tCbdrRPZA0oiIYSmHG3J0w</td>\n",
       "      <td>Portland</td>\n",
       "      <td>OR</td>\n",
       "      <td>45.588906</td>\n",
       "      <td>-122.593331</td>\n",
       "      <td>1</td>\n",
       "      <td>{'RestaurantsTakeOut': 'True', 'RestaurantsAtt...</td>\n",
       "      <td>Salad, Soup, Sandwiches, Delis, Restaurants, C...</td>\n",
       "      <td>{'Monday': '5:0-18:0', 'Tuesday': '5:0-17:0', ...</td>\n",
       "      <td>181</td>\n",
       "      <td>24</td>\n",
       "      <td>3.500000</td>\n",
       "      <td>3.5</td>\n",
       "      <td>4</td>\n",
       "      <td>2010-03-09 16:02:04</td>\n",
       "      <td>2021-01-21 17:55:35</td>\n",
       "      <td>209</td>\n",
       "      <td>True</td>\n",
       "    </tr>\n",
       "    <tr>\n",
       "      <th>2</th>\n",
       "      <td>D4JtQNTI4X3KcbzacDJsMw</td>\n",
       "      <td>Vancouver</td>\n",
       "      <td>BC</td>\n",
       "      <td>49.251342</td>\n",
       "      <td>-123.101333</td>\n",
       "      <td>1</td>\n",
       "      <td>{'GoodForKids': 'True', 'Alcohol': \"u'none'\", ...</td>\n",
       "      <td>Restaurants, Thai</td>\n",
       "      <td>{'Monday': '17:0-21:0', 'Tuesday': '17:0-21:0'...</td>\n",
       "      <td>42</td>\n",
       "      <td>28</td>\n",
       "      <td>3.678571</td>\n",
       "      <td>3.5</td>\n",
       "      <td>3</td>\n",
       "      <td>2010-09-26 04:03:35</td>\n",
       "      <td>2021-01-23 01:43:50</td>\n",
       "      <td>73</td>\n",
       "      <td>True</td>\n",
       "    </tr>\n",
       "    <tr>\n",
       "      <th>3</th>\n",
       "      <td>ufCxltuh56FF4-ZFZ6cVhg</td>\n",
       "      <td>Orlando</td>\n",
       "      <td>FL</td>\n",
       "      <td>28.513265</td>\n",
       "      <td>-81.374707</td>\n",
       "      <td>1</td>\n",
       "      <td>{'BusinessParking': \"{'garage': False, 'street...</td>\n",
       "      <td>Restaurants, American (New), Bakeries, Dessert...</td>\n",
       "      <td>{'Tuesday': '11:0-18:0', 'Wednesday': '11:0-18...</td>\n",
       "      <td>42</td>\n",
       "      <td>38</td>\n",
       "      <td>4.631579</td>\n",
       "      <td>4.5</td>\n",
       "      <td>5</td>\n",
       "      <td>2012-08-19 21:08:57</td>\n",
       "      <td>2020-12-29 16:25:19</td>\n",
       "      <td>85</td>\n",
       "      <td>True</td>\n",
       "    </tr>\n",
       "    <tr>\n",
       "      <th>4</th>\n",
       "      <td>dmbbf3AqeG61_QHRZi1M1w</td>\n",
       "      <td>Pine Castle</td>\n",
       "      <td>FL</td>\n",
       "      <td>28.450303</td>\n",
       "      <td>-81.380587</td>\n",
       "      <td>1</td>\n",
       "      <td>{'BikeParking': 'False', 'RestaurantsPriceRang...</td>\n",
       "      <td>Automotive, American (Traditional), Gas Statio...</td>\n",
       "      <td>NaN</td>\n",
       "      <td>4</td>\n",
       "      <td>3</td>\n",
       "      <td>3.000000</td>\n",
       "      <td>3.0</td>\n",
       "      <td>1</td>\n",
       "      <td>2015-06-11 16:44:12</td>\n",
       "      <td>2020-11-14 00:49:04</td>\n",
       "      <td>8</td>\n",
       "      <td>True</td>\n",
       "    </tr>\n",
       "  </tbody>\n",
       "</table>\n",
       "</div>"
      ],
      "text/plain": [
       "              business_id         city state   latitude   longitude  is_open  \\\n",
       "0  6iYb2HFDywm3zjuRg0shjw      Boulder    CO  40.017544 -105.283348        1   \n",
       "1  tCbdrRPZA0oiIYSmHG3J0w     Portland    OR  45.588906 -122.593331        1   \n",
       "2  D4JtQNTI4X3KcbzacDJsMw    Vancouver    BC  49.251342 -123.101333        1   \n",
       "3  ufCxltuh56FF4-ZFZ6cVhg      Orlando    FL  28.513265  -81.374707        1   \n",
       "4  dmbbf3AqeG61_QHRZi1M1w  Pine Castle    FL  28.450303  -81.380587        1   \n",
       "\n",
       "                                          attributes  \\\n",
       "0  {'RestaurantsTableService': 'True', 'WiFi': \"u...   \n",
       "1  {'RestaurantsTakeOut': 'True', 'RestaurantsAtt...   \n",
       "2  {'GoodForKids': 'True', 'Alcohol': \"u'none'\", ...   \n",
       "3  {'BusinessParking': \"{'garage': False, 'street...   \n",
       "4  {'BikeParking': 'False', 'RestaurantsPriceRang...   \n",
       "\n",
       "                                          categories  \\\n",
       "0  Gastropubs, Food, Beer Gardens, Restaurants, B...   \n",
       "1  Salad, Soup, Sandwiches, Delis, Restaurants, C...   \n",
       "2                                  Restaurants, Thai   \n",
       "3  Restaurants, American (New), Bakeries, Dessert...   \n",
       "4  Automotive, American (Traditional), Gas Statio...   \n",
       "\n",
       "                                               hours  checkin_count  \\\n",
       "0  {'Monday': '11:0-23:0', 'Tuesday': '11:0-23:0'...             79   \n",
       "1  {'Monday': '5:0-18:0', 'Tuesday': '5:0-17:0', ...            181   \n",
       "2  {'Monday': '17:0-21:0', 'Tuesday': '17:0-21:0'...             42   \n",
       "3  {'Tuesday': '11:0-18:0', 'Wednesday': '11:0-18...             42   \n",
       "4                                                NaN              4   \n",
       "\n",
       "   review_count  raw_stars  stars  tip_count           first_date  \\\n",
       "0            49   3.714286    3.5          4  2017-09-09 04:42:34   \n",
       "1            24   3.500000    3.5          4  2010-03-09 16:02:04   \n",
       "2            28   3.678571    3.5          3  2010-09-26 04:03:35   \n",
       "3            38   4.631579    4.5          5  2012-08-19 21:08:57   \n",
       "4             3   3.000000    3.0          1  2015-06-11 16:44:12   \n",
       "\n",
       "             last_date  visit_count  is_open_year_after  \n",
       "0  2021-01-22 05:20:38          132                True  \n",
       "1  2021-01-21 17:55:35          209                True  \n",
       "2  2021-01-23 01:43:50           73                True  \n",
       "3  2020-12-29 16:25:19           85                True  \n",
       "4  2020-11-14 00:49:04            8                True  "
      ]
     },
     "execution_count": 3,
     "metadata": {},
     "output_type": "execute_result"
    }
   ],
   "source": [
    "restaurants_df.head()"
   ]
  },
  {
   "cell_type": "code",
   "execution_count": 4,
   "metadata": {},
   "outputs": [
    {
     "data": {
      "text/plain": [
       "131"
      ]
     },
     "execution_count": 4,
     "metadata": {},
     "output_type": "execute_result"
    }
   ],
   "source": [
    "restaurants_df[\"raw_stars\"].isna().sum()"
   ]
  },
  {
   "cell_type": "code",
   "execution_count": 5,
   "metadata": {},
   "outputs": [],
   "source": [
    "restaurants_df = restaurants_df[restaurants_df[\"review_count\"] > 0]"
   ]
  },
  {
   "cell_type": "code",
   "execution_count": 6,
   "metadata": {},
   "outputs": [],
   "source": [
    "def get_last_date_year(row):\n",
    "    date = row[15]\n",
    "    last_date = datetime.datetime.strptime(date, \"%Y-%m-%d %H:%M:%S\")\n",
    "    return last_date.year"
   ]
  },
  {
   "cell_type": "code",
   "execution_count": 7,
   "metadata": {},
   "outputs": [],
   "source": [
    "restaurants_df[\"last_date_year\"] = restaurants_df.apply(get_last_date_year, axis=1)"
   ]
  },
  {
   "cell_type": "code",
   "execution_count": 8,
   "metadata": {},
   "outputs": [],
   "source": [
    "restaurants_df[\"checkins_tips_count\"] = restaurants_df[\"tip_count\"] + restaurants_df[\"checkin_count\"]"
   ]
  },
  {
   "cell_type": "code",
   "execution_count": 9,
   "metadata": {},
   "outputs": [
    {
     "data": {
      "text/html": [
       "<div>\n",
       "<style scoped>\n",
       "    .dataframe tbody tr th:only-of-type {\n",
       "        vertical-align: middle;\n",
       "    }\n",
       "\n",
       "    .dataframe tbody tr th {\n",
       "        vertical-align: top;\n",
       "    }\n",
       "\n",
       "    .dataframe thead th {\n",
       "        text-align: right;\n",
       "    }\n",
       "</style>\n",
       "<table border=\"1\" class=\"dataframe\">\n",
       "  <thead>\n",
       "    <tr style=\"text-align: right;\">\n",
       "      <th></th>\n",
       "      <th>business_id</th>\n",
       "      <th>city</th>\n",
       "      <th>state</th>\n",
       "      <th>latitude</th>\n",
       "      <th>longitude</th>\n",
       "      <th>is_open</th>\n",
       "      <th>attributes</th>\n",
       "      <th>categories</th>\n",
       "      <th>hours</th>\n",
       "      <th>checkin_count</th>\n",
       "      <th>review_count</th>\n",
       "      <th>raw_stars</th>\n",
       "      <th>stars</th>\n",
       "      <th>tip_count</th>\n",
       "      <th>first_date</th>\n",
       "      <th>last_date</th>\n",
       "      <th>visit_count</th>\n",
       "      <th>is_open_year_after</th>\n",
       "      <th>last_date_year</th>\n",
       "      <th>checkins_tips_count</th>\n",
       "    </tr>\n",
       "  </thead>\n",
       "  <tbody>\n",
       "    <tr>\n",
       "      <th>0</th>\n",
       "      <td>6iYb2HFDywm3zjuRg0shjw</td>\n",
       "      <td>Boulder</td>\n",
       "      <td>CO</td>\n",
       "      <td>40.017544</td>\n",
       "      <td>-105.283348</td>\n",
       "      <td>1</td>\n",
       "      <td>{'RestaurantsTableService': 'True', 'WiFi': \"u...</td>\n",
       "      <td>Gastropubs, Food, Beer Gardens, Restaurants, B...</td>\n",
       "      <td>{'Monday': '11:0-23:0', 'Tuesday': '11:0-23:0'...</td>\n",
       "      <td>79</td>\n",
       "      <td>49</td>\n",
       "      <td>3.714286</td>\n",
       "      <td>3.5</td>\n",
       "      <td>4</td>\n",
       "      <td>2017-09-09 04:42:34</td>\n",
       "      <td>2021-01-22 05:20:38</td>\n",
       "      <td>132</td>\n",
       "      <td>True</td>\n",
       "      <td>2021</td>\n",
       "      <td>83</td>\n",
       "    </tr>\n",
       "    <tr>\n",
       "      <th>1</th>\n",
       "      <td>tCbdrRPZA0oiIYSmHG3J0w</td>\n",
       "      <td>Portland</td>\n",
       "      <td>OR</td>\n",
       "      <td>45.588906</td>\n",
       "      <td>-122.593331</td>\n",
       "      <td>1</td>\n",
       "      <td>{'RestaurantsTakeOut': 'True', 'RestaurantsAtt...</td>\n",
       "      <td>Salad, Soup, Sandwiches, Delis, Restaurants, C...</td>\n",
       "      <td>{'Monday': '5:0-18:0', 'Tuesday': '5:0-17:0', ...</td>\n",
       "      <td>181</td>\n",
       "      <td>24</td>\n",
       "      <td>3.500000</td>\n",
       "      <td>3.5</td>\n",
       "      <td>4</td>\n",
       "      <td>2010-03-09 16:02:04</td>\n",
       "      <td>2021-01-21 17:55:35</td>\n",
       "      <td>209</td>\n",
       "      <td>True</td>\n",
       "      <td>2021</td>\n",
       "      <td>185</td>\n",
       "    </tr>\n",
       "  </tbody>\n",
       "</table>\n",
       "</div>"
      ],
      "text/plain": [
       "              business_id      city state   latitude   longitude  is_open  \\\n",
       "0  6iYb2HFDywm3zjuRg0shjw   Boulder    CO  40.017544 -105.283348        1   \n",
       "1  tCbdrRPZA0oiIYSmHG3J0w  Portland    OR  45.588906 -122.593331        1   \n",
       "\n",
       "                                          attributes  \\\n",
       "0  {'RestaurantsTableService': 'True', 'WiFi': \"u...   \n",
       "1  {'RestaurantsTakeOut': 'True', 'RestaurantsAtt...   \n",
       "\n",
       "                                          categories  \\\n",
       "0  Gastropubs, Food, Beer Gardens, Restaurants, B...   \n",
       "1  Salad, Soup, Sandwiches, Delis, Restaurants, C...   \n",
       "\n",
       "                                               hours  checkin_count  \\\n",
       "0  {'Monday': '11:0-23:0', 'Tuesday': '11:0-23:0'...             79   \n",
       "1  {'Monday': '5:0-18:0', 'Tuesday': '5:0-17:0', ...            181   \n",
       "\n",
       "   review_count  raw_stars  stars  tip_count           first_date  \\\n",
       "0            49   3.714286    3.5          4  2017-09-09 04:42:34   \n",
       "1            24   3.500000    3.5          4  2010-03-09 16:02:04   \n",
       "\n",
       "             last_date  visit_count  is_open_year_after  last_date_year  \\\n",
       "0  2021-01-22 05:20:38          132                True            2021   \n",
       "1  2021-01-21 17:55:35          209                True            2021   \n",
       "\n",
       "   checkins_tips_count  \n",
       "0                   83  \n",
       "1                  185  "
      ]
     },
     "execution_count": 9,
     "metadata": {},
     "output_type": "execute_result"
    }
   ],
   "source": [
    "restaurants_df.head(2)"
   ]
  },
  {
   "cell_type": "code",
   "execution_count": 10,
   "metadata": {},
   "outputs": [
    {
     "data": {
      "text/plain": [
       "2428"
      ]
     },
     "execution_count": 10,
     "metadata": {},
     "output_type": "execute_result"
    }
   ],
   "source": [
    "len(restaurants_df[restaurants_df[\"last_date_year\"] < 2019])"
   ]
  },
  {
   "cell_type": "code",
   "execution_count": 11,
   "metadata": {},
   "outputs": [],
   "source": [
    "restaurants_df = restaurants_df[restaurants_df[\"last_date_year\"] > 2018]"
   ]
  },
  {
   "cell_type": "markdown",
   "metadata": {},
   "source": [
    "## Analyzing Data"
   ]
  },
  {
   "cell_type": "markdown",
   "metadata": {},
   "source": [
    "### Looking at Restaurants"
   ]
  },
  {
   "cell_type": "code",
   "execution_count": 12,
   "metadata": {},
   "outputs": [
    {
     "data": {
      "text/plain": [
       "27535"
      ]
     },
     "execution_count": 12,
     "metadata": {},
     "output_type": "execute_result"
    }
   ],
   "source": [
    "len(restaurants_df)"
   ]
  },
  {
   "cell_type": "code",
   "execution_count": 13,
   "metadata": {},
   "outputs": [
    {
     "name": "stdout",
     "output_type": "stream",
     "text": [
      "Restaurants have on 46 reviews, 83 checkins and 5 tips on average\n"
     ]
    }
   ],
   "source": [
    "avg_review_count = round(restaurants_df[\"review_count\"].mean())\n",
    "avg_checkins_count = round(restaurants_df[\"checkin_count\"].mean())\n",
    "avg_tips_count = round(restaurants_df[\"tip_count\"].mean())\n",
    "print(f\"Restaurants have on {avg_review_count} reviews, {avg_checkins_count} checkins and {avg_tips_count} tips on average\")"
   ]
  },
  {
   "cell_type": "code",
   "execution_count": 14,
   "metadata": {},
   "outputs": [
    {
     "name": "stdout",
     "output_type": "stream",
     "text": [
      "There are 2800 restaurants with 5 checkins or less\n"
     ]
    }
   ],
   "source": [
    "v = len(restaurants_df[restaurants_df[\"checkin_count\"] < 5])\n",
    "print(f\"There are {v} restaurants with 5 checkins or less\")"
   ]
  },
  {
   "cell_type": "code",
   "execution_count": 15,
   "metadata": {},
   "outputs": [
    {
     "name": "stdout",
     "output_type": "stream",
     "text": [
      "Restaurants star rating is 3.53/5 average\n"
     ]
    }
   ],
   "source": [
    "average_star_rating = round(restaurants_df[\"raw_stars\"].mean(), 2)\n",
    "print(f\"Restaurants star rating is {average_star_rating}/5 average\")"
   ]
  },
  {
   "cell_type": "code",
   "execution_count": 16,
   "metadata": {},
   "outputs": [
    {
     "data": {
      "text/plain": [
       "4.0    7333\n",
       "3.5    5883\n",
       "4.5    4597\n",
       "3.0    3750\n",
       "2.5    2225\n",
       "2.0    1376\n",
       "5.0    1155\n",
       "1.5     767\n",
       "1.0     449\n",
       "Name: stars, dtype: int64"
      ]
     },
     "execution_count": 16,
     "metadata": {},
     "output_type": "execute_result"
    }
   ],
   "source": [
    "restaurants_df['stars'].value_counts()"
   ]
  },
  {
   "cell_type": "code",
   "execution_count": 17,
   "metadata": {},
   "outputs": [
    {
     "data": {
      "text/html": [
       "<div>\n",
       "<style scoped>\n",
       "    .dataframe tbody tr th:only-of-type {\n",
       "        vertical-align: middle;\n",
       "    }\n",
       "\n",
       "    .dataframe tbody tr th {\n",
       "        vertical-align: top;\n",
       "    }\n",
       "\n",
       "    .dataframe thead th {\n",
       "        text-align: right;\n",
       "    }\n",
       "</style>\n",
       "<table border=\"1\" class=\"dataframe\">\n",
       "  <thead>\n",
       "    <tr style=\"text-align: right;\">\n",
       "      <th></th>\n",
       "      <th>checkin_count</th>\n",
       "      <th>tip_count</th>\n",
       "      <th>review_count</th>\n",
       "    </tr>\n",
       "  </thead>\n",
       "  <tbody>\n",
       "    <tr>\n",
       "      <th>checkin_count</th>\n",
       "      <td>1.000000</td>\n",
       "      <td>0.780546</td>\n",
       "      <td>0.800733</td>\n",
       "    </tr>\n",
       "    <tr>\n",
       "      <th>tip_count</th>\n",
       "      <td>0.780546</td>\n",
       "      <td>1.000000</td>\n",
       "      <td>0.888132</td>\n",
       "    </tr>\n",
       "    <tr>\n",
       "      <th>review_count</th>\n",
       "      <td>0.800733</td>\n",
       "      <td>0.888132</td>\n",
       "      <td>1.000000</td>\n",
       "    </tr>\n",
       "  </tbody>\n",
       "</table>\n",
       "</div>"
      ],
      "text/plain": [
       "               checkin_count  tip_count  review_count\n",
       "checkin_count       1.000000   0.780546      0.800733\n",
       "tip_count           0.780546   1.000000      0.888132\n",
       "review_count        0.800733   0.888132      1.000000"
      ]
     },
     "execution_count": 17,
     "metadata": {},
     "output_type": "execute_result"
    }
   ],
   "source": [
    "restaurants_df[['checkin_count', 'tip_count', 'review_count']].corr()"
   ]
  },
  {
   "cell_type": "code",
   "execution_count": 18,
   "metadata": {},
   "outputs": [
    {
     "name": "stdout",
     "output_type": "stream",
     "text": [
      "There were 27535 restaurants open in 2017-2018 of which 3215 have since closed down\n"
     ]
    }
   ],
   "source": [
    "later_closed = restaurants_df[restaurants_df[\"is_open\"] == 0]\n",
    "\n",
    "print(f\"There were {len(restaurants_df)} restaurants open in 2017-2018 of which {len(later_closed)} have since closed down\")"
   ]
  },
  {
   "cell_type": "code",
   "execution_count": 19,
   "metadata": {},
   "outputs": [
    {
     "data": {
      "text/plain": [
       "134.42120936989286"
      ]
     },
     "execution_count": 19,
     "metadata": {},
     "output_type": "execute_result"
    }
   ],
   "source": [
    "restaurants_df[\"visit_count\"].mean()"
   ]
  },
  {
   "cell_type": "code",
   "execution_count": 20,
   "metadata": {},
   "outputs": [
    {
     "data": {
      "text/plain": [
       "1"
      ]
     },
     "execution_count": 20,
     "metadata": {},
     "output_type": "execute_result"
    }
   ],
   "source": [
    "restaurants_df[\"visit_count\"].min()"
   ]
  },
  {
   "cell_type": "code",
   "execution_count": 21,
   "metadata": {},
   "outputs": [
    {
     "data": {
      "text/plain": [
       "6615"
      ]
     },
     "execution_count": 21,
     "metadata": {},
     "output_type": "execute_result"
    }
   ],
   "source": [
    "restaurants_df[\"visit_count\"].max()"
   ]
  },
  {
   "cell_type": "code",
   "execution_count": 22,
   "metadata": {},
   "outputs": [
    {
     "data": {
      "text/plain": [
       "238.60634444319814"
      ]
     },
     "execution_count": 22,
     "metadata": {},
     "output_type": "execute_result"
    }
   ],
   "source": [
    "restaurants_df[\"visit_count\"].std()"
   ]
  },
  {
   "cell_type": "code",
   "execution_count": 23,
   "metadata": {},
   "outputs": [
    {
     "data": {
      "text/plain": [
       "293"
      ]
     },
     "execution_count": 23,
     "metadata": {},
     "output_type": "execute_result"
    }
   ],
   "source": [
    "len(restaurants_df[restaurants_df['visit_count'] > 1000])"
   ]
  },
  {
   "cell_type": "code",
   "execution_count": 24,
   "metadata": {},
   "outputs": [
    {
     "name": "stdout",
     "output_type": "stream",
     "text": [
      "25% quantile total is 27.0\n",
      "33% quantile total is 36.0\n",
      "50% quantile total is 64.0\n",
      "66% quantile total is 108.0\n",
      "75% quantile total is 149.0\n"
     ]
    }
   ],
   "source": [
    "print(\"25% quantile total is \" + str(restaurants_df['visit_count'].quantile(0.25)))\n",
    "print(\"33% quantile total is \" + str(restaurants_df['visit_count'].quantile(0.33)))\n",
    "print(\"50% quantile total is \" + str(restaurants_df['visit_count'].quantile(0.5)))\n",
    "print(\"66% quantile total is \" + str(restaurants_df['visit_count'].quantile(0.66)))\n",
    "print(\"75% quantile total is \" + str(restaurants_df['visit_count'].quantile(0.75)))"
   ]
  },
  {
   "cell_type": "code",
   "execution_count": 25,
   "metadata": {},
   "outputs": [
    {
     "name": "stdout",
     "output_type": "stream",
     "text": [
      "25% quantile total is 14.0\n",
      "33% quantile total is 20.0\n",
      "50% quantile total is 38.0\n",
      "66% quantile total is 67.0\n",
      "75% quantile total is 94.0\n"
     ]
    }
   ],
   "source": [
    "print(\"25% quantile total is \" + str(restaurants_df['checkins_tips_count'].quantile(0.25)))\n",
    "print(\"33% quantile total is \" + str(restaurants_df['checkins_tips_count'].quantile(0.33)))\n",
    "print(\"50% quantile total is \" + str(restaurants_df['checkins_tips_count'].quantile(0.5)))\n",
    "print(\"66% quantile total is \" + str(restaurants_df['checkins_tips_count'].quantile(0.66)))\n",
    "print(\"75% quantile total is \" + str(restaurants_df['checkins_tips_count'].quantile(0.75)))"
   ]
  },
  {
   "cell_type": "markdown",
   "metadata": {},
   "source": [
    "#### Correlations"
   ]
  },
  {
   "cell_type": "code",
   "execution_count": 26,
   "metadata": {},
   "outputs": [
    {
     "data": {
      "text/html": [
       "<div>\n",
       "<style scoped>\n",
       "    .dataframe tbody tr th:only-of-type {\n",
       "        vertical-align: middle;\n",
       "    }\n",
       "\n",
       "    .dataframe tbody tr th {\n",
       "        vertical-align: top;\n",
       "    }\n",
       "\n",
       "    .dataframe thead th {\n",
       "        text-align: right;\n",
       "    }\n",
       "</style>\n",
       "<table border=\"1\" class=\"dataframe\">\n",
       "  <thead>\n",
       "    <tr style=\"text-align: right;\">\n",
       "      <th></th>\n",
       "      <th>visit_count</th>\n",
       "      <th>raw_stars</th>\n",
       "    </tr>\n",
       "  </thead>\n",
       "  <tbody>\n",
       "    <tr>\n",
       "      <th>visit_count</th>\n",
       "      <td>1.000000</td>\n",
       "      <td>0.192263</td>\n",
       "    </tr>\n",
       "    <tr>\n",
       "      <th>raw_stars</th>\n",
       "      <td>0.192263</td>\n",
       "      <td>1.000000</td>\n",
       "    </tr>\n",
       "  </tbody>\n",
       "</table>\n",
       "</div>"
      ],
      "text/plain": [
       "             visit_count  raw_stars\n",
       "visit_count     1.000000   0.192263\n",
       "raw_stars       0.192263   1.000000"
      ]
     },
     "execution_count": 26,
     "metadata": {},
     "output_type": "execute_result"
    }
   ],
   "source": [
    "restaurants_df[['visit_count', 'raw_stars']].corr()"
   ]
  },
  {
   "cell_type": "code",
   "execution_count": 27,
   "metadata": {},
   "outputs": [
    {
     "data": {
      "text/html": [
       "<div>\n",
       "<style scoped>\n",
       "    .dataframe tbody tr th:only-of-type {\n",
       "        vertical-align: middle;\n",
       "    }\n",
       "\n",
       "    .dataframe tbody tr th {\n",
       "        vertical-align: top;\n",
       "    }\n",
       "\n",
       "    .dataframe thead th {\n",
       "        text-align: right;\n",
       "    }\n",
       "</style>\n",
       "<table border=\"1\" class=\"dataframe\">\n",
       "  <thead>\n",
       "    <tr style=\"text-align: right;\">\n",
       "      <th></th>\n",
       "      <th>visit_count</th>\n",
       "      <th>is_open</th>\n",
       "    </tr>\n",
       "  </thead>\n",
       "  <tbody>\n",
       "    <tr>\n",
       "      <th>visit_count</th>\n",
       "      <td>1.000000</td>\n",
       "      <td>0.007763</td>\n",
       "    </tr>\n",
       "    <tr>\n",
       "      <th>is_open</th>\n",
       "      <td>0.007763</td>\n",
       "      <td>1.000000</td>\n",
       "    </tr>\n",
       "  </tbody>\n",
       "</table>\n",
       "</div>"
      ],
      "text/plain": [
       "             visit_count   is_open\n",
       "visit_count     1.000000  0.007763\n",
       "is_open         0.007763  1.000000"
      ]
     },
     "execution_count": 27,
     "metadata": {},
     "output_type": "execute_result"
    }
   ],
   "source": [
    "restaurants_df[['visit_count', 'is_open']].corr()"
   ]
  },
  {
   "cell_type": "code",
   "execution_count": 28,
   "metadata": {},
   "outputs": [
    {
     "data": {
      "text/html": [
       "<div>\n",
       "<style scoped>\n",
       "    .dataframe tbody tr th:only-of-type {\n",
       "        vertical-align: middle;\n",
       "    }\n",
       "\n",
       "    .dataframe tbody tr th {\n",
       "        vertical-align: top;\n",
       "    }\n",
       "\n",
       "    .dataframe thead th {\n",
       "        text-align: right;\n",
       "    }\n",
       "</style>\n",
       "<table border=\"1\" class=\"dataframe\">\n",
       "  <thead>\n",
       "    <tr style=\"text-align: right;\">\n",
       "      <th></th>\n",
       "      <th>checkins_tips_count</th>\n",
       "      <th>is_open</th>\n",
       "    </tr>\n",
       "  </thead>\n",
       "  <tbody>\n",
       "    <tr>\n",
       "      <th>checkins_tips_count</th>\n",
       "      <td>1.000000</td>\n",
       "      <td>0.011193</td>\n",
       "    </tr>\n",
       "    <tr>\n",
       "      <th>is_open</th>\n",
       "      <td>0.011193</td>\n",
       "      <td>1.000000</td>\n",
       "    </tr>\n",
       "  </tbody>\n",
       "</table>\n",
       "</div>"
      ],
      "text/plain": [
       "                     checkins_tips_count   is_open\n",
       "checkins_tips_count             1.000000  0.011193\n",
       "is_open                         0.011193  1.000000"
      ]
     },
     "execution_count": 28,
     "metadata": {},
     "output_type": "execute_result"
    }
   ],
   "source": [
    "restaurants_df[['checkins_tips_count', 'is_open']].corr()"
   ]
  },
  {
   "cell_type": "markdown",
   "metadata": {},
   "source": [
    "### Looking at the restaurants who later closed down"
   ]
  },
  {
   "cell_type": "code",
   "execution_count": 29,
   "metadata": {},
   "outputs": [],
   "source": [
    "open_restaurants_in_2019_df = restaurants_df[restaurants_df[\"is_open\"] == 1]"
   ]
  },
  {
   "cell_type": "code",
   "execution_count": 30,
   "metadata": {},
   "outputs": [
    {
     "data": {
      "text/plain": [
       "135.0946957236842"
      ]
     },
     "execution_count": 30,
     "metadata": {},
     "output_type": "execute_result"
    }
   ],
   "source": [
    "open_restaurants_in_2019_df[\"visit_count\"].mean()"
   ]
  },
  {
   "cell_type": "code",
   "execution_count": 31,
   "metadata": {},
   "outputs": [],
   "source": [
    "closed_restaurants_in_2019_df = restaurants_df[restaurants_df[\"is_open\"] == 0]"
   ]
  },
  {
   "cell_type": "code",
   "execution_count": 32,
   "metadata": {},
   "outputs": [
    {
     "data": {
      "text/plain": [
       "3215"
      ]
     },
     "execution_count": 32,
     "metadata": {},
     "output_type": "execute_result"
    }
   ],
   "source": [
    "len(closed_restaurants_in_2019_df)"
   ]
  },
  {
   "cell_type": "code",
   "execution_count": 33,
   "metadata": {},
   "outputs": [
    {
     "data": {
      "text/plain": [
       "129.32659409020218"
      ]
     },
     "execution_count": 33,
     "metadata": {},
     "output_type": "execute_result"
    }
   ],
   "source": [
    "closed_restaurants_in_2019_df[\"visit_count\"].mean()"
   ]
  },
  {
   "cell_type": "code",
   "execution_count": 34,
   "metadata": {},
   "outputs": [],
   "source": [
    "# Only consider those who closed in 2019 (i.e. last activity is in 2019) because would reflect on the popularity\n",
    "# of the restaurant in the previous years (2017-18)\n",
    "closed_restaurants_in_2019_df = closed_restaurants_in_2019_df[closed_restaurants_in_2019_df[\"last_date_year\"] == 2019]"
   ]
  },
  {
   "cell_type": "code",
   "execution_count": 35,
   "metadata": {},
   "outputs": [
    {
     "data": {
      "text/plain": [
       "1573"
      ]
     },
     "execution_count": 35,
     "metadata": {},
     "output_type": "execute_result"
    }
   ],
   "source": [
    "len(closed_restaurants_in_2019_df)"
   ]
  },
  {
   "cell_type": "code",
   "execution_count": 36,
   "metadata": {},
   "outputs": [
    {
     "data": {
      "text/plain": [
       "91.41830896376351"
      ]
     },
     "execution_count": 36,
     "metadata": {},
     "output_type": "execute_result"
    }
   ],
   "source": [
    "closed_restaurants_in_2019_df[\"visit_count\"].mean()"
   ]
  },
  {
   "cell_type": "markdown",
   "metadata": {},
   "source": [
    "### Looking at % of Restaurants who closed down based on visit count"
   ]
  },
  {
   "cell_type": "code",
   "execution_count": 37,
   "metadata": {},
   "outputs": [],
   "source": [
    "bottom_df = restaurants_df.loc[restaurants_df[\"visit_count\"] <= 36.0]"
   ]
  },
  {
   "cell_type": "code",
   "execution_count": 38,
   "metadata": {},
   "outputs": [
    {
     "data": {
      "text/plain": [
       "0.330996913019793"
      ]
     },
     "execution_count": 38,
     "metadata": {},
     "output_type": "execute_result"
    }
   ],
   "source": [
    "len(bottom_df)/len(restaurants_df)"
   ]
  },
  {
   "cell_type": "code",
   "execution_count": 39,
   "metadata": {},
   "outputs": [],
   "source": [
    "middle_df = restaurants_df.loc[restaurants_df[\"visit_count\"] > 36.0]\n",
    "middle_df = middle_df.loc[middle_df[\"visit_count\"] <= 108.0]"
   ]
  },
  {
   "cell_type": "code",
   "execution_count": 40,
   "metadata": {},
   "outputs": [
    {
     "data": {
      "text/plain": [
       "0.33092427819139275"
      ]
     },
     "execution_count": 40,
     "metadata": {},
     "output_type": "execute_result"
    }
   ],
   "source": [
    "len(middle_df)/len(restaurants_df)"
   ]
  },
  {
   "cell_type": "code",
   "execution_count": 41,
   "metadata": {},
   "outputs": [],
   "source": [
    "top_df = restaurants_df.loc[restaurants_df[\"visit_count\"] > 108.0]"
   ]
  },
  {
   "cell_type": "code",
   "execution_count": 42,
   "metadata": {},
   "outputs": [
    {
     "data": {
      "text/plain": [
       "0.33807880878881424"
      ]
     },
     "execution_count": 42,
     "metadata": {},
     "output_type": "execute_result"
    }
   ],
   "source": [
    "len(top_df)/len(restaurants_df)"
   ]
  },
  {
   "cell_type": "code",
   "execution_count": 43,
   "metadata": {},
   "outputs": [
    {
     "data": {
      "text/plain": [
       "1.0"
      ]
     },
     "execution_count": 43,
     "metadata": {},
     "output_type": "execute_result"
    }
   ],
   "source": [
    "(len(bottom_df) + len(middle_df) + len(top_df))/len(restaurants_df)"
   ]
  },
  {
   "cell_type": "code",
   "execution_count": 44,
   "metadata": {},
   "outputs": [
    {
     "name": "stdout",
     "output_type": "stream",
     "text": [
      "1573\n"
     ]
    }
   ],
   "source": [
    "total_closed = len(closed_restaurants_in_2019_df)\n",
    "print(total_closed)"
   ]
  },
  {
   "cell_type": "code",
   "execution_count": 45,
   "metadata": {},
   "outputs": [],
   "source": [
    "bottom_closed_df = bottom_df[(bottom_df[\"is_open\"] == 0) & (bottom_df[\"last_date_year\"] == 2019)]\n",
    "middle_closed_df = middle_df[(middle_df[\"is_open\"] == 0) & (middle_df[\"last_date_year\"] == 2019)]\n",
    "top_closed_df = top_df[(top_df[\"is_open\"] == 0) & (top_df[\"last_date_year\"] == 2019)]"
   ]
  },
  {
   "cell_type": "code",
   "execution_count": 46,
   "metadata": {},
   "outputs": [
    {
     "name": "stdout",
     "output_type": "stream",
     "text": [
      "34.46% of closed restaurants are in the bottom 33% quartile\n",
      "38.65% of closed restaurants are in the middle 33% quartile\n",
      "26.89% of closed restaurants are in the top 33% quartile\n"
     ]
    }
   ],
   "source": [
    "bottom_pct = round(len(bottom_closed_df) / total_closed * 100, 2)\n",
    "middle_pct = round(len(middle_closed_df) / total_closed * 100, 2)\n",
    "top_pct = round(len(top_closed_df) / total_closed * 100, 2)\n",
    "\n",
    "print(f\"{bottom_pct}% of closed restaurants are in the bottom 33% quartile\")\n",
    "print(f\"{middle_pct}% of closed restaurants are in the middle 33% quartile\")\n",
    "print(f\"{top_pct}% of closed restaurants are in the top 33% quartile\")"
   ]
  },
  {
   "cell_type": "code",
   "execution_count": 47,
   "metadata": {},
   "outputs": [],
   "source": [
    "first_df = restaurants_df.loc[restaurants_df[\"visit_count\"] <= 60]\n",
    "second_df = restaurants_df.loc[restaurants_df[\"visit_count\"] > 60]"
   ]
  },
  {
   "cell_type": "code",
   "execution_count": 48,
   "metadata": {},
   "outputs": [],
   "source": [
    "first_closed_df = first_df[(first_df[\"is_open\"] == 0) & (first_df[\"last_date_year\"] == 2019)]\n",
    "second_closed_df = second_df[(second_df[\"is_open\"] == 0) & (second_df[\"last_date_year\"] == 2019)]"
   ]
  },
  {
   "cell_type": "code",
   "execution_count": 49,
   "metadata": {},
   "outputs": [
    {
     "name": "stdout",
     "output_type": "stream",
     "text": [
      "52.51% of closed restaurants are in the bottom 50% quartile\n",
      "47.49% of closed restaurants are in the top 50% quartile\n"
     ]
    }
   ],
   "source": [
    "print(f\"{round(len(first_closed_df) / total_closed * 100, 2)}% of closed restaurants are in the bottom 50% quartile\")\n",
    "print(f\"{round(len(second_closed_df) / total_closed * 100, 2)}% of closed restaurants are in the top 50% quartile\")"
   ]
  },
  {
   "cell_type": "code",
   "execution_count": 50,
   "metadata": {},
   "outputs": [
    {
     "name": "stdout",
     "output_type": "stream",
     "text": [
      "3.247883375693263 3.5266485232205254 3.8223095151296227\n"
     ]
    }
   ],
   "source": [
    "bm = bottom_df[\"raw_stars\"].mean()\n",
    "mm = middle_df[\"raw_stars\"].mean()\n",
    "tm = top_df[\"raw_stars\"].mean()\n",
    "print(bm, mm, tm)"
   ]
  },
  {
   "cell_type": "markdown",
   "metadata": {},
   "source": [
    "### Looking at % of Restaurants who closed down based on tips and checkins count"
   ]
  },
  {
   "cell_type": "code",
   "execution_count": 51,
   "metadata": {},
   "outputs": [],
   "source": [
    "bottom_df = restaurants_df.loc[restaurants_df[\"checkins_tips_count\"] <= 20.0]\n",
    "middle_df = restaurants_df.loc[restaurants_df[\"checkins_tips_count\"] > 20.0]\n",
    "middle_df = middle_df.loc[middle_df[\"checkins_tips_count\"] <= 67]\n",
    "top_df = restaurants_df.loc[restaurants_df[\"checkins_tips_count\"] > 67]"
   ]
  },
  {
   "cell_type": "code",
   "execution_count": 52,
   "metadata": {},
   "outputs": [
    {
     "data": {
      "text/plain": [
       "1.0"
      ]
     },
     "execution_count": 52,
     "metadata": {},
     "output_type": "execute_result"
    }
   ],
   "source": [
    "(len(bottom_df) + len(middle_df) + len(top_df))/len(restaurants_df)"
   ]
  },
  {
   "cell_type": "code",
   "execution_count": 53,
   "metadata": {},
   "outputs": [],
   "source": [
    "bottom_closed_df = bottom_df[(bottom_df[\"is_open\"] == 0) & (bottom_df[\"last_date_year\"] == 2019)]\n",
    "middle_closed_df = middle_df[(middle_df[\"is_open\"] == 0) & (middle_df[\"last_date_year\"] == 2019)]\n",
    "top_closed_df = top_df[(top_df[\"is_open\"] == 0) & (top_df[\"last_date_year\"] == 2019)]"
   ]
  },
  {
   "cell_type": "code",
   "execution_count": 54,
   "metadata": {},
   "outputs": [
    {
     "name": "stdout",
     "output_type": "stream",
     "text": [
      "37.64% of closed restaurants are in the bottom 33% quartile\n",
      "36.68% of closed restaurants are in the middle 33% quartile\n",
      "25.68% of closed restaurants are in the top 33% quartile\n"
     ]
    }
   ],
   "source": [
    "bottom_pct = round(len(bottom_closed_df) / total_closed * 100, 2)\n",
    "middle_pct = round(len(middle_closed_df) / total_closed * 100, 2)\n",
    "top_pct = round(len(top_closed_df) / total_closed * 100, 2)\n",
    "\n",
    "print(f\"{bottom_pct}% of closed restaurants are in the bottom 33% quartile\")\n",
    "print(f\"{middle_pct}% of closed restaurants are in the middle 33% quartile\")\n",
    "print(f\"{top_pct}% of closed restaurants are in the top 33% quartile\")"
   ]
  },
  {
   "cell_type": "code",
   "execution_count": 55,
   "metadata": {},
   "outputs": [],
   "source": [
    "first_df = restaurants_df.loc[restaurants_df[\"checkins_tips_count\"] <= 35]\n",
    "second_df = restaurants_df.loc[restaurants_df[\"checkins_tips_count\"] > 35]\n",
    "\n",
    "first_closed_df = first_df[(first_df[\"is_open\"] == 0) & (first_df[\"last_date_year\"] == 2019)]\n",
    "second_closed_df = second_df[(second_df[\"is_open\"] == 0) & (second_df[\"last_date_year\"] == 2019)]"
   ]
  },
  {
   "cell_type": "code",
   "execution_count": 56,
   "metadata": {},
   "outputs": [
    {
     "name": "stdout",
     "output_type": "stream",
     "text": [
      "55.12% of closed restaurants are in the bottom 50% quartile\n",
      "44.88% of closed restaurants are in the top 50% quartile\n"
     ]
    }
   ],
   "source": [
    "print(f\"{round(len(first_closed_df) / total_closed * 100, 2)}% of closed restaurants are in the bottom 50% quartile\")\n",
    "print(f\"{round(len(second_closed_df) / total_closed * 100, 2)}% of closed restaurants are in the top 50% quartile\")"
   ]
  },
  {
   "cell_type": "markdown",
   "metadata": {},
   "source": [
    "### Looking at % of Restaurants who closed down based star rating"
   ]
  },
  {
   "cell_type": "code",
   "execution_count": 57,
   "metadata": {},
   "outputs": [
    {
     "name": "stdout",
     "output_type": "stream",
     "text": [
      "25% quantile total is 3.0186243936243935\n",
      "33% quantile total is 3.2978723404255317\n",
      "50% quantile total is 3.692307692307693\n",
      "66% quantile total is 4.0\n",
      "75% quantile total is 4.166666666666667\n"
     ]
    }
   ],
   "source": [
    "print(\"25% quantile total is \" + str(restaurants_df['raw_stars'].quantile(0.25)))\n",
    "print(\"33% quantile total is \" + str(restaurants_df['raw_stars'].quantile(0.33)))\n",
    "print(\"50% quantile total is \" + str(restaurants_df['raw_stars'].quantile(0.5)))\n",
    "print(\"66% quantile total is \" + str(restaurants_df['raw_stars'].quantile(0.66)))\n",
    "print(\"75% quantile total is \" + str(restaurants_df['raw_stars'].quantile(0.75)))"
   ]
  },
  {
   "cell_type": "code",
   "execution_count": 58,
   "metadata": {},
   "outputs": [],
   "source": [
    "bottom_df = restaurants_df.loc[restaurants_df[\"raw_stars\"] <= 3.30]\n",
    "middle_df = restaurants_df.loc[restaurants_df[\"raw_stars\"] > 3.30]\n",
    "middle_df = middle_df.loc[middle_df[\"raw_stars\"] <= 4.0]\n",
    "top_df = restaurants_df.loc[restaurants_df[\"raw_stars\"] > 4.0]"
   ]
  },
  {
   "cell_type": "code",
   "execution_count": 59,
   "metadata": {},
   "outputs": [],
   "source": [
    "bottom_closed_df = bottom_df[(bottom_df[\"is_open\"] == 0) & (bottom_df[\"last_date_year\"] == 2019)]\n",
    "middle_closed_df = middle_df[(middle_df[\"is_open\"] == 0) & (middle_df[\"last_date_year\"] == 2019)]\n",
    "top_closed_df = top_df[(top_df[\"is_open\"] == 0) & (top_df[\"last_date_year\"] == 2019)]"
   ]
  },
  {
   "cell_type": "code",
   "execution_count": 60,
   "metadata": {},
   "outputs": [
    {
     "name": "stdout",
     "output_type": "stream",
     "text": [
      "36.0% of closed restaurants are in the bottom 33% quartile\n",
      "36.0% of closed restaurants are in the middle 33% quartile\n",
      "28.86% of closed restaurants are in the top 33% quartile\n"
     ]
    }
   ],
   "source": [
    "bottom_pct = round(len(bottom_closed_df) / total_closed, 2)*100\n",
    "middle_pct = round(len(middle_closed_df) / total_closed, 2)*100\n",
    "top_pct = round(len(top_closed_df) / total_closed *100, 2)\n",
    "\n",
    "print(f\"{bottom_pct}% of closed restaurants are in the bottom 33% quartile\")\n",
    "print(f\"{middle_pct}% of closed restaurants are in the middle 33% quartile\")\n",
    "print(f\"{top_pct}% of closed restaurants are in the top 33% quartile\")"
   ]
  },
  {
   "cell_type": "code",
   "execution_count": 61,
   "metadata": {},
   "outputs": [],
   "source": [
    "first_df = restaurants_df.loc[restaurants_df[\"raw_stars\"] <= 3.7]\n",
    "second_df = restaurants_df.loc[restaurants_df[\"raw_stars\"] > 3.7]\n",
    "\n",
    "first_closed_df = first_df[(first_df[\"is_open\"] == 0) & (first_df[\"last_date_year\"] == 2019)]\n",
    "second_closed_df = second_df[(second_df[\"is_open\"] == 0) & (second_df[\"last_date_year\"] == 2019)]"
   ]
  },
  {
   "cell_type": "code",
   "execution_count": 62,
   "metadata": {},
   "outputs": [
    {
     "name": "stdout",
     "output_type": "stream",
     "text": [
      "53.0% of closed restaurants are in the bottom 50% quartile\n",
      "47.0% of closed restaurants are in the top 50% quartile\n"
     ]
    }
   ],
   "source": [
    "print(f\"{round(len(first_closed_df) / total_closed, 2)*100}% of closed restaurants are in the bottom 50% quartile\")\n",
    "print(f\"{round(len(second_closed_df) / total_closed, 2)*100}% of closed restaurants are in the top 50% quartile\")"
   ]
  },
  {
   "cell_type": "markdown",
   "metadata": {},
   "source": [
    "### Looking at star rating of unpopular businesses"
   ]
  },
  {
   "cell_type": "code",
   "execution_count": 63,
   "metadata": {},
   "outputs": [
    {
     "data": {
      "text/plain": [
       "<matplotlib.axes._subplots.AxesSubplot at 0x1910bba3780>"
      ]
     },
     "execution_count": 63,
     "metadata": {},
     "output_type": "execute_result"
    }
   ],
   "source": [
    "restaurants_df.plot(x='visit_count', y='raw_stars', style='o')"
   ]
  },
  {
   "cell_type": "markdown",
   "metadata": {},
   "source": [
    "### K-Means Clustering"
   ]
  },
  {
   "cell_type": "code",
   "execution_count": 64,
   "metadata": {},
   "outputs": [],
   "source": [
    "from matplotlib import pyplot as plt\n",
    "from sklearn.cluster import KMeans"
   ]
  },
  {
   "cell_type": "code",
   "execution_count": 65,
   "metadata": {},
   "outputs": [],
   "source": [
    "X_df = restaurants_df.copy()[[\"checkins_tips_count\", \"raw_stars\"]]\n",
    "X_df[\"raw_stars\"] = X_df[\"raw_stars\"].apply(lambda x: x*500)"
   ]
  },
  {
   "cell_type": "code",
   "execution_count": 66,
   "metadata": {},
   "outputs": [],
   "source": [
    "X = X_df.to_numpy()"
   ]
  },
  {
   "cell_type": "code",
   "execution_count": 67,
   "metadata": {},
   "outputs": [
    {
     "data": {
      "text/plain": [
       "array([[  83.        , 1857.14285714],\n",
       "       [ 185.        , 1750.        ],\n",
       "       [  45.        , 1839.28571429],\n",
       "       ...,\n",
       "       [ 518.        , 2250.95057034],\n",
       "       [ 134.        , 1512.04819277],\n",
       "       [ 115.        , 1490.56603774]])"
      ]
     },
     "execution_count": 67,
     "metadata": {},
     "output_type": "execute_result"
    }
   ],
   "source": [
    "X"
   ]
  },
  {
   "cell_type": "code",
   "execution_count": 68,
   "metadata": {},
   "outputs": [
    {
     "data": {
      "text/plain": [
       "<matplotlib.collections.PathCollection at 0x191109fd6a0>"
      ]
     },
     "execution_count": 68,
     "metadata": {},
     "output_type": "execute_result"
    },
    {
     "data": {
      "image/png": "[encoded data removed]",
      "text/plain": [
       "<Figure size 432x288 with 1 Axes>"
      ]
     },
     "metadata": {
      "needs_background": "light"
     },
     "output_type": "display_data"
    }
   ],
   "source": [
    "plt.scatter(X[:,0], X[:,1])"
   ]
  },
  {
   "cell_type": "code",
   "execution_count": 69,
   "metadata": {},
   "outputs": [
    {
     "data": {
      "image/png": "[encoded data removed]",
      "text/plain": [
       "<Figure size 432x288 with 1 Axes>"
      ]
     },
     "metadata": {
      "needs_background": "light"
     },
     "output_type": "display_data"
    }
   ],
   "source": [
    "# calculate distortion for a range of number of cluster\n",
    "distortions = []\n",
    "for i in range(1, 11):\n",
    "    km = KMeans(\n",
    "        n_clusters=i, init='random',\n",
    "        n_init=10, max_iter=300,\n",
    "        tol=1e-04, random_state=0\n",
    "    )\n",
    "    km.fit(X)\n",
    "    distortions.append(km.inertia_)\n",
    "\n",
    "# plot\n",
    "plt.plot(range(1, 11), distortions, marker='o')\n",
    "plt.xlabel('Number of clusters')\n",
    "plt.ylabel('Distortion')\n",
    "plt.show()"
   ]
  },
  {
   "cell_type": "code",
   "execution_count": 70,
   "metadata": {},
   "outputs": [],
   "source": [
    "km = KMeans(\n",
    "    n_clusters=4, init='k-means++',\n",
    "    n_init=30, max_iter=1000, \n",
    "    tol=1e-04, random_state=0\n",
    ")\n",
    "y_km = km.fit_predict(X)"
   ]
  },
  {
   "cell_type": "code",
   "execution_count": 71,
   "metadata": {},
   "outputs": [
    {
     "data": {
      "image/png": "[encoded data removed]",
      "text/plain": [
       "<Figure size 432x288 with 1 Axes>"
      ]
     },
     "metadata": {
      "needs_background": "light"
     },
     "output_type": "display_data"
    }
   ],
   "source": [
    "# plot the 4 clusters\n",
    "plt.scatter(\n",
    "    X[y_km == 0, 0], X[y_km == 0, 1],\n",
    "    s=50, c='lightgreen',\n",
    "    marker='s', edgecolor='black',\n",
    "    label='cluster 0'\n",
    ")\n",
    "\n",
    "plt.scatter(\n",
    "    X[y_km == 1, 0], X[y_km == 1, 1],\n",
    "    s=50, c='orange',\n",
    "    marker='o', edgecolor='black',\n",
    "    label='cluster 1'\n",
    ")\n",
    "\n",
    "plt.scatter(\n",
    "    X[y_km == 2, 0], X[y_km == 2, 1],\n",
    "    s=50, c='lightblue',\n",
    "    marker='v', edgecolor='black',\n",
    "    label='cluster 2'\n",
    ")\n",
    "\n",
    "plt.scatter(\n",
    "    X[y_km == 3, 0], X[y_km == 3, 1],\n",
    "    s=50, c='pink',\n",
    "    marker='8', edgecolor='black',\n",
    "    label='cluster 3'\n",
    ")\n",
    "\n",
    "# plot the centroids\n",
    "plt.scatter(\n",
    "    km.cluster_centers_[:, 0], km.cluster_centers_[:, 1],\n",
    "    s=250, marker='*',\n",
    "    c='red', edgecolor='black',\n",
    "    label='centroids'\n",
    ")\n",
    "plt.legend(scatterpoints=1)\n",
    "plt.grid()\n",
    "plt.show()"
   ]
  },
  {
   "cell_type": "code",
   "execution_count": 72,
   "metadata": {},
   "outputs": [
    {
     "data": {
      "text/plain": [
       "array([1, 1, 1, ..., 0, 1, 1])"
      ]
     },
     "execution_count": 72,
     "metadata": {},
     "output_type": "execute_result"
    }
   ],
   "source": [
    "y_km"
   ]
  },
  {
   "cell_type": "code",
   "execution_count": 73,
   "metadata": {},
   "outputs": [
    {
     "data": {
      "text/plain": [
       "27535"
      ]
     },
     "execution_count": 73,
     "metadata": {},
     "output_type": "execute_result"
    }
   ],
   "source": [
    "len(y_km)"
   ]
  },
  {
   "cell_type": "code",
   "execution_count": 74,
   "metadata": {},
   "outputs": [
    {
     "data": {
      "text/plain": [
       "{0: 698, 1: 10516, 2: 4329, 3: 11992}"
      ]
     },
     "execution_count": 74,
     "metadata": {},
     "output_type": "execute_result"
    }
   ],
   "source": [
    "unique, counts = np.unique(list(y_km), return_counts=True)\n",
    "dict(zip(unique, counts))"
   ]
  },
  {
   "cell_type": "code",
   "execution_count": 75,
   "metadata": {},
   "outputs": [],
   "source": [
    "def get_label(nb):\n",
    "    if nb == 0:\n",
    "        return 2\n",
    "    if nb == 1:\n",
    "        return 0\n",
    "    if nb == 2:\n",
    "        return 2\n",
    "    if nb == 3:\n",
    "        return 1\n",
    "\n",
    "\n",
    "labels = [get_label(nb) for nb in list(y_km)]"
   ]
  },
  {
   "cell_type": "code",
   "execution_count": 76,
   "metadata": {},
   "outputs": [],
   "source": [
    "restaurants_df['k'] = labels"
   ]
  },
  {
   "cell_type": "code",
   "execution_count": 77,
   "metadata": {},
   "outputs": [
    {
     "data": {
      "text/html": [
       "<div>\n",
       "<style scoped>\n",
       "    .dataframe tbody tr th:only-of-type {\n",
       "        vertical-align: middle;\n",
       "    }\n",
       "\n",
       "    .dataframe tbody tr th {\n",
       "        vertical-align: top;\n",
       "    }\n",
       "\n",
       "    .dataframe thead th {\n",
       "        text-align: right;\n",
       "    }\n",
       "</style>\n",
       "<table border=\"1\" class=\"dataframe\">\n",
       "  <thead>\n",
       "    <tr style=\"text-align: right;\">\n",
       "      <th></th>\n",
       "      <th>business_id</th>\n",
       "      <th>city</th>\n",
       "      <th>state</th>\n",
       "      <th>latitude</th>\n",
       "      <th>longitude</th>\n",
       "      <th>is_open</th>\n",
       "      <th>attributes</th>\n",
       "      <th>categories</th>\n",
       "      <th>hours</th>\n",
       "      <th>checkin_count</th>\n",
       "      <th>...</th>\n",
       "      <th>raw_stars</th>\n",
       "      <th>stars</th>\n",
       "      <th>tip_count</th>\n",
       "      <th>first_date</th>\n",
       "      <th>last_date</th>\n",
       "      <th>visit_count</th>\n",
       "      <th>is_open_year_after</th>\n",
       "      <th>last_date_year</th>\n",
       "      <th>checkins_tips_count</th>\n",
       "      <th>k</th>\n",
       "    </tr>\n",
       "  </thead>\n",
       "  <tbody>\n",
       "    <tr>\n",
       "      <th>0</th>\n",
       "      <td>6iYb2HFDywm3zjuRg0shjw</td>\n",
       "      <td>Boulder</td>\n",
       "      <td>CO</td>\n",
       "      <td>40.017544</td>\n",
       "      <td>-105.283348</td>\n",
       "      <td>1</td>\n",
       "      <td>{'RestaurantsTableService': 'True', 'WiFi': \"u...</td>\n",
       "      <td>Gastropubs, Food, Beer Gardens, Restaurants, B...</td>\n",
       "      <td>{'Monday': '11:0-23:0', 'Tuesday': '11:0-23:0'...</td>\n",
       "      <td>79</td>\n",
       "      <td>...</td>\n",
       "      <td>3.714286</td>\n",
       "      <td>3.5</td>\n",
       "      <td>4</td>\n",
       "      <td>2017-09-09 04:42:34</td>\n",
       "      <td>2021-01-22 05:20:38</td>\n",
       "      <td>132</td>\n",
       "      <td>True</td>\n",
       "      <td>2021</td>\n",
       "      <td>83</td>\n",
       "      <td>0</td>\n",
       "    </tr>\n",
       "    <tr>\n",
       "      <th>1</th>\n",
       "      <td>tCbdrRPZA0oiIYSmHG3J0w</td>\n",
       "      <td>Portland</td>\n",
       "      <td>OR</td>\n",
       "      <td>45.588906</td>\n",
       "      <td>-122.593331</td>\n",
       "      <td>1</td>\n",
       "      <td>{'RestaurantsTakeOut': 'True', 'RestaurantsAtt...</td>\n",
       "      <td>Salad, Soup, Sandwiches, Delis, Restaurants, C...</td>\n",
       "      <td>{'Monday': '5:0-18:0', 'Tuesday': '5:0-17:0', ...</td>\n",
       "      <td>181</td>\n",
       "      <td>...</td>\n",
       "      <td>3.500000</td>\n",
       "      <td>3.5</td>\n",
       "      <td>4</td>\n",
       "      <td>2010-03-09 16:02:04</td>\n",
       "      <td>2021-01-21 17:55:35</td>\n",
       "      <td>209</td>\n",
       "      <td>True</td>\n",
       "      <td>2021</td>\n",
       "      <td>185</td>\n",
       "      <td>0</td>\n",
       "    </tr>\n",
       "    <tr>\n",
       "      <th>2</th>\n",
       "      <td>D4JtQNTI4X3KcbzacDJsMw</td>\n",
       "      <td>Vancouver</td>\n",
       "      <td>BC</td>\n",
       "      <td>49.251342</td>\n",
       "      <td>-123.101333</td>\n",
       "      <td>1</td>\n",
       "      <td>{'GoodForKids': 'True', 'Alcohol': \"u'none'\", ...</td>\n",
       "      <td>Restaurants, Thai</td>\n",
       "      <td>{'Monday': '17:0-21:0', 'Tuesday': '17:0-21:0'...</td>\n",
       "      <td>42</td>\n",
       "      <td>...</td>\n",
       "      <td>3.678571</td>\n",
       "      <td>3.5</td>\n",
       "      <td>3</td>\n",
       "      <td>2010-09-26 04:03:35</td>\n",
       "      <td>2021-01-23 01:43:50</td>\n",
       "      <td>73</td>\n",
       "      <td>True</td>\n",
       "      <td>2021</td>\n",
       "      <td>45</td>\n",
       "      <td>0</td>\n",
       "    </tr>\n",
       "    <tr>\n",
       "      <th>3</th>\n",
       "      <td>ufCxltuh56FF4-ZFZ6cVhg</td>\n",
       "      <td>Orlando</td>\n",
       "      <td>FL</td>\n",
       "      <td>28.513265</td>\n",
       "      <td>-81.374707</td>\n",
       "      <td>1</td>\n",
       "      <td>{'BusinessParking': \"{'garage': False, 'street...</td>\n",
       "      <td>Restaurants, American (New), Bakeries, Dessert...</td>\n",
       "      <td>{'Tuesday': '11:0-18:0', 'Wednesday': '11:0-18...</td>\n",
       "      <td>42</td>\n",
       "      <td>...</td>\n",
       "      <td>4.631579</td>\n",
       "      <td>4.5</td>\n",
       "      <td>5</td>\n",
       "      <td>2012-08-19 21:08:57</td>\n",
       "      <td>2020-12-29 16:25:19</td>\n",
       "      <td>85</td>\n",
       "      <td>True</td>\n",
       "      <td>2020</td>\n",
       "      <td>47</td>\n",
       "      <td>1</td>\n",
       "    </tr>\n",
       "    <tr>\n",
       "      <th>4</th>\n",
       "      <td>dmbbf3AqeG61_QHRZi1M1w</td>\n",
       "      <td>Pine Castle</td>\n",
       "      <td>FL</td>\n",
       "      <td>28.450303</td>\n",
       "      <td>-81.380587</td>\n",
       "      <td>1</td>\n",
       "      <td>{'BikeParking': 'False', 'RestaurantsPriceRang...</td>\n",
       "      <td>Automotive, American (Traditional), Gas Statio...</td>\n",
       "      <td>NaN</td>\n",
       "      <td>4</td>\n",
       "      <td>...</td>\n",
       "      <td>3.000000</td>\n",
       "      <td>3.0</td>\n",
       "      <td>1</td>\n",
       "      <td>2015-06-11 16:44:12</td>\n",
       "      <td>2020-11-14 00:49:04</td>\n",
       "      <td>8</td>\n",
       "      <td>True</td>\n",
       "      <td>2020</td>\n",
       "      <td>5</td>\n",
       "      <td>0</td>\n",
       "    </tr>\n",
       "  </tbody>\n",
       "</table>\n",
       "<p>5 rows × 21 columns</p>\n",
       "</div>"
      ],
      "text/plain": [
       "              business_id         city state   latitude   longitude  is_open  \\\n",
       "0  6iYb2HFDywm3zjuRg0shjw      Boulder    CO  40.017544 -105.283348        1   \n",
       "1  tCbdrRPZA0oiIYSmHG3J0w     Portland    OR  45.588906 -122.593331        1   \n",
       "2  D4JtQNTI4X3KcbzacDJsMw    Vancouver    BC  49.251342 -123.101333        1   \n",
       "3  ufCxltuh56FF4-ZFZ6cVhg      Orlando    FL  28.513265  -81.374707        1   \n",
       "4  dmbbf3AqeG61_QHRZi1M1w  Pine Castle    FL  28.450303  -81.380587        1   \n",
       "\n",
       "                                          attributes  \\\n",
       "0  {'RestaurantsTableService': 'True', 'WiFi': \"u...   \n",
       "1  {'RestaurantsTakeOut': 'True', 'RestaurantsAtt...   \n",
       "2  {'GoodForKids': 'True', 'Alcohol': \"u'none'\", ...   \n",
       "3  {'BusinessParking': \"{'garage': False, 'street...   \n",
       "4  {'BikeParking': 'False', 'RestaurantsPriceRang...   \n",
       "\n",
       "                                          categories  \\\n",
       "0  Gastropubs, Food, Beer Gardens, Restaurants, B...   \n",
       "1  Salad, Soup, Sandwiches, Delis, Restaurants, C...   \n",
       "2                                  Restaurants, Thai   \n",
       "3  Restaurants, American (New), Bakeries, Dessert...   \n",
       "4  Automotive, American (Traditional), Gas Statio...   \n",
       "\n",
       "                                               hours  checkin_count  ...  \\\n",
       "0  {'Monday': '11:0-23:0', 'Tuesday': '11:0-23:0'...             79  ...   \n",
       "1  {'Monday': '5:0-18:0', 'Tuesday': '5:0-17:0', ...            181  ...   \n",
       "2  {'Monday': '17:0-21:0', 'Tuesday': '17:0-21:0'...             42  ...   \n",
       "3  {'Tuesday': '11:0-18:0', 'Wednesday': '11:0-18...             42  ...   \n",
       "4                                                NaN              4  ...   \n",
       "\n",
       "   raw_stars  stars  tip_count           first_date            last_date  \\\n",
       "0   3.714286    3.5          4  2017-09-09 04:42:34  2021-01-22 05:20:38   \n",
       "1   3.500000    3.5          4  2010-03-09 16:02:04  2021-01-21 17:55:35   \n",
       "2   3.678571    3.5          3  2010-09-26 04:03:35  2021-01-23 01:43:50   \n",
       "3   4.631579    4.5          5  2012-08-19 21:08:57  2020-12-29 16:25:19   \n",
       "4   3.000000    3.0          1  2015-06-11 16:44:12  2020-11-14 00:49:04   \n",
       "\n",
       "  visit_count  is_open_year_after  last_date_year  checkins_tips_count  k  \n",
       "0         132                True            2021                   83  0  \n",
       "1         209                True            2021                  185  0  \n",
       "2          73                True            2021                   45  0  \n",
       "3          85                True            2020                   47  1  \n",
       "4           8                True            2020                    5  0  \n",
       "\n",
       "[5 rows x 21 columns]"
      ]
     },
     "execution_count": 77,
     "metadata": {},
     "output_type": "execute_result"
    }
   ],
   "source": [
    "restaurants_df.head()"
   ]
  },
  {
   "cell_type": "code",
   "execution_count": 78,
   "metadata": {},
   "outputs": [
    {
     "data": {
      "text/plain": [
       "{0: 10516, 1: 11992, 2: 5027}"
      ]
     },
     "execution_count": 78,
     "metadata": {},
     "output_type": "execute_result"
    }
   ],
   "source": [
    "unique, counts = np.unique(labels, return_counts=True)\n",
    "dict(zip(unique, counts))"
   ]
  },
  {
   "cell_type": "code",
   "execution_count": 79,
   "metadata": {},
   "outputs": [
    {
     "data": {
      "text/html": [
       "<div>\n",
       "<style scoped>\n",
       "    .dataframe tbody tr th:only-of-type {\n",
       "        vertical-align: middle;\n",
       "    }\n",
       "\n",
       "    .dataframe tbody tr th {\n",
       "        vertical-align: top;\n",
       "    }\n",
       "\n",
       "    .dataframe thead th {\n",
       "        text-align: right;\n",
       "    }\n",
       "</style>\n",
       "<table border=\"1\" class=\"dataframe\">\n",
       "  <thead>\n",
       "    <tr style=\"text-align: right;\">\n",
       "      <th></th>\n",
       "      <th>visit_count</th>\n",
       "      <th>k</th>\n",
       "    </tr>\n",
       "  </thead>\n",
       "  <tbody>\n",
       "    <tr>\n",
       "      <th>visit_count</th>\n",
       "      <td>1.000000</td>\n",
       "      <td>0.142016</td>\n",
       "    </tr>\n",
       "    <tr>\n",
       "      <th>k</th>\n",
       "      <td>0.142016</td>\n",
       "      <td>1.000000</td>\n",
       "    </tr>\n",
       "  </tbody>\n",
       "</table>\n",
       "</div>"
      ],
      "text/plain": [
       "             visit_count         k\n",
       "visit_count     1.000000  0.142016\n",
       "k               0.142016  1.000000"
      ]
     },
     "execution_count": 79,
     "metadata": {},
     "output_type": "execute_result"
    }
   ],
   "source": [
    "restaurants_df[[\"visit_count\", \"k\"]].corr()"
   ]
  },
  {
   "cell_type": "markdown",
   "metadata": {},
   "source": [
    "### Trying to validate the cluster classification"
   ]
  },
  {
   "cell_type": "code",
   "execution_count": 80,
   "metadata": {},
   "outputs": [],
   "source": [
    "bottom_df = restaurants_df.loc[restaurants_df[\"k\"] == 0]\n",
    "middle_df = restaurants_df.loc[restaurants_df[\"k\"] == 1]\n",
    "top_df = restaurants_df.loc[restaurants_df[\"k\"] == 2]"
   ]
  },
  {
   "cell_type": "code",
   "execution_count": 81,
   "metadata": {},
   "outputs": [],
   "source": [
    "bottom_closed_df = bottom_df[(bottom_df[\"is_open\"] == 0) & (bottom_df[\"last_date_year\"] == 2019)]\n",
    "middle_closed_df = middle_df[(middle_df[\"is_open\"] == 0) & (middle_df[\"last_date_year\"] == 2019)]\n",
    "top_closed_df = top_df[(top_df[\"is_open\"] == 0) & (top_df[\"last_date_year\"] == 2019)]"
   ]
  },
  {
   "cell_type": "code",
   "execution_count": 82,
   "metadata": {},
   "outputs": [
    {
     "name": "stdout",
     "output_type": "stream",
     "text": [
      "0.07% of unpopular restaurants closed in 2019\n",
      "0.05% of neutral restaurants closed in 2019\n",
      "0.04% of popular restaurants closed in 2019\n"
     ]
    }
   ],
   "source": [
    "bottom_pct = round(len(bottom_closed_df) / len(bottom_df), 2)\n",
    "middle_pct = round(len(middle_closed_df) / len(middle_df), 2)\n",
    "top_pct = round(len(top_closed_df) / len(top_df), 2)\n",
    "\n",
    "print(f\"{bottom_pct}% of unpopular restaurants closed in 2019\")\n",
    "print(f\"{middle_pct}% of neutral restaurants closed in 2019\")\n",
    "print(f\"{top_pct}% of popular restaurants closed in 2019\")"
   ]
  },
  {
   "cell_type": "code",
   "execution_count": null,
   "metadata": {},
   "outputs": [],
   "source": []
  }
 ],
 "metadata": {
  "kernelspec": {
   "display_name": "Python 3",
   "language": "python",
   "name": "python3"
  },
  "language_info": {
   "codemirror_mode": {
    "name": "ipython",
    "version": 3
   },
   "file_extension": ".py",
   "mimetype": "text/x-python",
   "name": "python",
   "nbconvert_exporter": "python",
   "pygments_lexer": "ipython3",
   "version": "3.7.0"
  }
 },
 "nbformat": 4,
 "nbformat_minor": 2
}

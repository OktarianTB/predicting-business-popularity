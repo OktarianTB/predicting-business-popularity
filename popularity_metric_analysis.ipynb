{
 "cells": [
  {
   "cell_type": "markdown",
   "metadata": {},
   "source": [
    "# Exploring Metrics for Business Popularity"
   ]
  },
  {
   "cell_type": "code",
   "execution_count": 1,
   "metadata": {},
   "outputs": [],
   "source": [
    "import json\n",
    "import pandas as pd\n",
    "import numpy as np\n",
    "import math\n",
    "import datetime"
   ]
  },
  {
   "cell_type": "markdown",
   "metadata": {},
   "source": [
    "### Reading the data"
   ]
  },
  {
   "cell_type": "code",
   "execution_count": 2,
   "metadata": {},
   "outputs": [],
   "source": [
    "checkins_df = pd.read_json('./yelp/yelp_academic_dataset_checkin.json', lines=True)"
   ]
  },
  {
   "cell_type": "code",
   "execution_count": 3,
   "metadata": {},
   "outputs": [
    {
     "data": {
      "text/html": [
       "<div>\n",
       "<style scoped>\n",
       "    .dataframe tbody tr th:only-of-type {\n",
       "        vertical-align: middle;\n",
       "    }\n",
       "\n",
       "    .dataframe tbody tr th {\n",
       "        vertical-align: top;\n",
       "    }\n",
       "\n",
       "    .dataframe thead th {\n",
       "        text-align: right;\n",
       "    }\n",
       "</style>\n",
       "<table border=\"1\" class=\"dataframe\">\n",
       "  <thead>\n",
       "    <tr style=\"text-align: right;\">\n",
       "      <th></th>\n",
       "      <th>business_id</th>\n",
       "      <th>date</th>\n",
       "    </tr>\n",
       "  </thead>\n",
       "  <tbody>\n",
       "    <tr>\n",
       "      <th>0</th>\n",
       "      <td>--0r8K_AQ4FZfLsX3ZYRDA</td>\n",
       "      <td>2017-09-03 17:13:59</td>\n",
       "    </tr>\n",
       "    <tr>\n",
       "      <th>1</th>\n",
       "      <td>--0zrn43LEaB4jUWTQH_Bg</td>\n",
       "      <td>2010-10-08 22:21:20, 2010-11-01 21:29:14, 2010...</td>\n",
       "    </tr>\n",
       "  </tbody>\n",
       "</table>\n",
       "</div>"
      ],
      "text/plain": [
       "              business_id                                               date\n",
       "0  --0r8K_AQ4FZfLsX3ZYRDA                                2017-09-03 17:13:59\n",
       "1  --0zrn43LEaB4jUWTQH_Bg  2010-10-08 22:21:20, 2010-11-01 21:29:14, 2010..."
      ]
     },
     "execution_count": 3,
     "metadata": {},
     "output_type": "execute_result"
    }
   ],
   "source": [
    "checkins_df.head(2)"
   ]
  },
  {
   "cell_type": "code",
   "execution_count": 4,
   "metadata": {},
   "outputs": [],
   "source": [
    "business_df = pd.read_json('./yelp/yelp_academic_dataset_business.json', lines=True)"
   ]
  },
  {
   "cell_type": "code",
   "execution_count": 5,
   "metadata": {},
   "outputs": [
    {
     "data": {
      "text/html": [
       "<div>\n",
       "<style scoped>\n",
       "    .dataframe tbody tr th:only-of-type {\n",
       "        vertical-align: middle;\n",
       "    }\n",
       "\n",
       "    .dataframe tbody tr th {\n",
       "        vertical-align: top;\n",
       "    }\n",
       "\n",
       "    .dataframe thead th {\n",
       "        text-align: right;\n",
       "    }\n",
       "</style>\n",
       "<table border=\"1\" class=\"dataframe\">\n",
       "  <thead>\n",
       "    <tr style=\"text-align: right;\">\n",
       "      <th></th>\n",
       "      <th>address</th>\n",
       "      <th>attributes</th>\n",
       "      <th>business_id</th>\n",
       "      <th>categories</th>\n",
       "      <th>city</th>\n",
       "      <th>hours</th>\n",
       "      <th>is_open</th>\n",
       "      <th>latitude</th>\n",
       "      <th>longitude</th>\n",
       "      <th>name</th>\n",
       "      <th>postal_code</th>\n",
       "      <th>review_count</th>\n",
       "      <th>stars</th>\n",
       "      <th>state</th>\n",
       "    </tr>\n",
       "  </thead>\n",
       "  <tbody>\n",
       "    <tr>\n",
       "      <th>0</th>\n",
       "      <td>921 Pearl St</td>\n",
       "      <td>{'RestaurantsTableService': 'True', 'WiFi': 'u...</td>\n",
       "      <td>6iYb2HFDywm3zjuRg0shjw</td>\n",
       "      <td>Gastropubs, Food, Beer Gardens, Restaurants, B...</td>\n",
       "      <td>Boulder</td>\n",
       "      <td>{'Monday': '11:0-23:0', 'Tuesday': '11:0-23:0'...</td>\n",
       "      <td>1</td>\n",
       "      <td>40.017544</td>\n",
       "      <td>-105.283348</td>\n",
       "      <td>Oskar Blues Taproom</td>\n",
       "      <td>80302</td>\n",
       "      <td>86</td>\n",
       "      <td>4.0</td>\n",
       "      <td>CO</td>\n",
       "    </tr>\n",
       "    <tr>\n",
       "      <th>1</th>\n",
       "      <td>7000 NE Airport Way</td>\n",
       "      <td>{'RestaurantsTakeOut': 'True', 'RestaurantsAtt...</td>\n",
       "      <td>tCbdrRPZA0oiIYSmHG3J0w</td>\n",
       "      <td>Salad, Soup, Sandwiches, Delis, Restaurants, C...</td>\n",
       "      <td>Portland</td>\n",
       "      <td>{'Monday': '5:0-18:0', 'Tuesday': '5:0-17:0', ...</td>\n",
       "      <td>1</td>\n",
       "      <td>45.588906</td>\n",
       "      <td>-122.593331</td>\n",
       "      <td>Flying Elephants at PDX</td>\n",
       "      <td>97218</td>\n",
       "      <td>126</td>\n",
       "      <td>4.0</td>\n",
       "      <td>OR</td>\n",
       "    </tr>\n",
       "  </tbody>\n",
       "</table>\n",
       "</div>"
      ],
      "text/plain": [
       "               address                                         attributes  \\\n",
       "0         921 Pearl St  {'RestaurantsTableService': 'True', 'WiFi': 'u...   \n",
       "1  7000 NE Airport Way  {'RestaurantsTakeOut': 'True', 'RestaurantsAtt...   \n",
       "\n",
       "              business_id                                         categories  \\\n",
       "0  6iYb2HFDywm3zjuRg0shjw  Gastropubs, Food, Beer Gardens, Restaurants, B...   \n",
       "1  tCbdrRPZA0oiIYSmHG3J0w  Salad, Soup, Sandwiches, Delis, Restaurants, C...   \n",
       "\n",
       "       city                                              hours  is_open  \\\n",
       "0   Boulder  {'Monday': '11:0-23:0', 'Tuesday': '11:0-23:0'...        1   \n",
       "1  Portland  {'Monday': '5:0-18:0', 'Tuesday': '5:0-17:0', ...        1   \n",
       "\n",
       "    latitude   longitude                     name postal_code  review_count  \\\n",
       "0  40.017544 -105.283348      Oskar Blues Taproom       80302            86   \n",
       "1  45.588906 -122.593331  Flying Elephants at PDX       97218           126   \n",
       "\n",
       "   stars state  \n",
       "0    4.0    CO  \n",
       "1    4.0    OR  "
      ]
     },
     "execution_count": 5,
     "metadata": {},
     "output_type": "execute_result"
    }
   ],
   "source": [
    "business_df.head(2)"
   ]
  },
  {
   "cell_type": "code",
   "execution_count": 6,
   "metadata": {},
   "outputs": [
    {
     "name": "stdout",
     "output_type": "stream",
     "text": [
      "There are 160585 businesses and 138876 businesses with check-ins\n"
     ]
    }
   ],
   "source": [
    "print(f\"There are {len(business_df)} businesses and {len(checkins_df)} businesses with check-ins\")"
   ]
  },
  {
   "cell_type": "markdown",
   "metadata": {},
   "source": [
    "### Cleaning the data"
   ]
  },
  {
   "cell_type": "code",
   "execution_count": 7,
   "metadata": {},
   "outputs": [],
   "source": [
    "business_df = business_df.drop(columns=['address', 'postal_code', 'state', 'name'])"
   ]
  },
  {
   "cell_type": "code",
   "execution_count": 8,
   "metadata": {},
   "outputs": [],
   "source": [
    "business_df = business_df.dropna()"
   ]
  },
  {
   "cell_type": "code",
   "execution_count": 9,
   "metadata": {},
   "outputs": [],
   "source": [
    "restaurants_df = business_df.loc[business_df[\"categories\"].str.contains(\"Restaurants\")]"
   ]
  },
  {
   "cell_type": "code",
   "execution_count": 10,
   "metadata": {},
   "outputs": [
    {
     "name": "stdout",
     "output_type": "stream",
     "text": [
      "There are 42646 restaurants in the dataset\n"
     ]
    }
   ],
   "source": [
    "print(f\"There are {len(restaurants_df)} restaurants in the dataset\")"
   ]
  },
  {
   "cell_type": "code",
   "execution_count": 11,
   "metadata": {},
   "outputs": [
    {
     "data": {
      "text/html": [
       "<div>\n",
       "<style scoped>\n",
       "    .dataframe tbody tr th:only-of-type {\n",
       "        vertical-align: middle;\n",
       "    }\n",
       "\n",
       "    .dataframe tbody tr th {\n",
       "        vertical-align: top;\n",
       "    }\n",
       "\n",
       "    .dataframe thead th {\n",
       "        text-align: right;\n",
       "    }\n",
       "</style>\n",
       "<table border=\"1\" class=\"dataframe\">\n",
       "  <thead>\n",
       "    <tr style=\"text-align: right;\">\n",
       "      <th></th>\n",
       "      <th>attributes</th>\n",
       "      <th>business_id</th>\n",
       "      <th>categories</th>\n",
       "      <th>city</th>\n",
       "      <th>hours</th>\n",
       "      <th>is_open</th>\n",
       "      <th>latitude</th>\n",
       "      <th>longitude</th>\n",
       "      <th>review_count</th>\n",
       "      <th>stars</th>\n",
       "    </tr>\n",
       "  </thead>\n",
       "  <tbody>\n",
       "    <tr>\n",
       "      <th>0</th>\n",
       "      <td>{'RestaurantsTableService': 'True', 'WiFi': 'u...</td>\n",
       "      <td>6iYb2HFDywm3zjuRg0shjw</td>\n",
       "      <td>Gastropubs, Food, Beer Gardens, Restaurants, B...</td>\n",
       "      <td>Boulder</td>\n",
       "      <td>{'Monday': '11:0-23:0', 'Tuesday': '11:0-23:0'...</td>\n",
       "      <td>1</td>\n",
       "      <td>40.017544</td>\n",
       "      <td>-105.283348</td>\n",
       "      <td>86</td>\n",
       "      <td>4.0</td>\n",
       "    </tr>\n",
       "    <tr>\n",
       "      <th>1</th>\n",
       "      <td>{'RestaurantsTakeOut': 'True', 'RestaurantsAtt...</td>\n",
       "      <td>tCbdrRPZA0oiIYSmHG3J0w</td>\n",
       "      <td>Salad, Soup, Sandwiches, Delis, Restaurants, C...</td>\n",
       "      <td>Portland</td>\n",
       "      <td>{'Monday': '5:0-18:0', 'Tuesday': '5:0-17:0', ...</td>\n",
       "      <td>1</td>\n",
       "      <td>45.588906</td>\n",
       "      <td>-122.593331</td>\n",
       "      <td>126</td>\n",
       "      <td>4.0</td>\n",
       "    </tr>\n",
       "  </tbody>\n",
       "</table>\n",
       "</div>"
      ],
      "text/plain": [
       "                                          attributes             business_id  \\\n",
       "0  {'RestaurantsTableService': 'True', 'WiFi': 'u...  6iYb2HFDywm3zjuRg0shjw   \n",
       "1  {'RestaurantsTakeOut': 'True', 'RestaurantsAtt...  tCbdrRPZA0oiIYSmHG3J0w   \n",
       "\n",
       "                                          categories      city  \\\n",
       "0  Gastropubs, Food, Beer Gardens, Restaurants, B...   Boulder   \n",
       "1  Salad, Soup, Sandwiches, Delis, Restaurants, C...  Portland   \n",
       "\n",
       "                                               hours  is_open   latitude  \\\n",
       "0  {'Monday': '11:0-23:0', 'Tuesday': '11:0-23:0'...        1  40.017544   \n",
       "1  {'Monday': '5:0-18:0', 'Tuesday': '5:0-17:0', ...        1  45.588906   \n",
       "\n",
       "    longitude  review_count  stars  \n",
       "0 -105.283348            86    4.0  \n",
       "1 -122.593331           126    4.0  "
      ]
     },
     "execution_count": 11,
     "metadata": {},
     "output_type": "execute_result"
    }
   ],
   "source": [
    "restaurants_df.head(2)"
   ]
  },
  {
   "cell_type": "markdown",
   "metadata": {},
   "source": [
    "### Processing the data"
   ]
  },
  {
   "cell_type": "markdown",
   "metadata": {},
   "source": [
    "#### Frequency of Check-ins for a restaurant, adjusted for time\n",
    "Date format: YYYY-MM-DD HH:MM:SS\n",
    "\n",
    "Example: {\"2010-10-08 22:21:20, 2010-11-01 21:29:14, 2010-12-23 22:55:45, 2011-04-08 17:14:59, 2011-04-11 21:28:45, 2011-04-26 16:42:25, 2011-05-20 19:30:57, 2011-05-24 20:02:21, 2011-08-29 19:01:31\"}"
   ]
  },
  {
   "cell_type": "code",
   "execution_count": 12,
   "metadata": {},
   "outputs": [],
   "source": [
    "def calculate_frequency(row):\n",
    "    dates = row[1].split(\",\")\n",
    "    count = len(dates)\n",
    "    if count == 0 or count == 1:\n",
    "        return 0\n",
    "    \n",
    "    first_date = datetime.datetime.strptime(dates[0].strip(), \"%Y-%m-%d %H:%M:%S\")\n",
    "    last_date = datetime.datetime.strptime(dates[len(dates)-1].strip(), \"%Y-%m-%d %H:%M:%S\")\n",
    "    time_period = last_date - first_date\n",
    "    \n",
    "    if time_period.days <= 5:\n",
    "        return 0\n",
    "    \n",
    "    return round(count/time_period.days, 2)"
   ]
  },
  {
   "cell_type": "code",
   "execution_count": 13,
   "metadata": {},
   "outputs": [
    {
     "data": {
      "text/html": [
       "<div>\n",
       "<style scoped>\n",
       "    .dataframe tbody tr th:only-of-type {\n",
       "        vertical-align: middle;\n",
       "    }\n",
       "\n",
       "    .dataframe tbody tr th {\n",
       "        vertical-align: top;\n",
       "    }\n",
       "\n",
       "    .dataframe thead th {\n",
       "        text-align: right;\n",
       "    }\n",
       "</style>\n",
       "<table border=\"1\" class=\"dataframe\">\n",
       "  <thead>\n",
       "    <tr style=\"text-align: right;\">\n",
       "      <th></th>\n",
       "      <th>business_id</th>\n",
       "      <th>frequency</th>\n",
       "    </tr>\n",
       "  </thead>\n",
       "  <tbody>\n",
       "    <tr>\n",
       "      <th>0</th>\n",
       "      <td>--0r8K_AQ4FZfLsX3ZYRDA</td>\n",
       "      <td>0.00</td>\n",
       "    </tr>\n",
       "    <tr>\n",
       "      <th>1</th>\n",
       "      <td>--0zrn43LEaB4jUWTQH_Bg</td>\n",
       "      <td>0.03</td>\n",
       "    </tr>\n",
       "    <tr>\n",
       "      <th>2</th>\n",
       "      <td>--164t1nclzzmca7eDiJMw</td>\n",
       "      <td>0.23</td>\n",
       "    </tr>\n",
       "    <tr>\n",
       "      <th>3</th>\n",
       "      <td>--2aF9NhXnNVpDV0KS3xBQ</td>\n",
       "      <td>0.00</td>\n",
       "    </tr>\n",
       "    <tr>\n",
       "      <th>4</th>\n",
       "      <td>--2mEJ63SC_8_08_jGgVIg</td>\n",
       "      <td>0.00</td>\n",
       "    </tr>\n",
       "  </tbody>\n",
       "</table>\n",
       "</div>"
      ],
      "text/plain": [
       "              business_id  frequency\n",
       "0  --0r8K_AQ4FZfLsX3ZYRDA       0.00\n",
       "1  --0zrn43LEaB4jUWTQH_Bg       0.03\n",
       "2  --164t1nclzzmca7eDiJMw       0.23\n",
       "3  --2aF9NhXnNVpDV0KS3xBQ       0.00\n",
       "4  --2mEJ63SC_8_08_jGgVIg       0.00"
      ]
     },
     "execution_count": 13,
     "metadata": {},
     "output_type": "execute_result"
    }
   ],
   "source": [
    "checkins_freq_df = checkins_df[['business_id']].copy()\n",
    "checkins_freq_df['frequency'] = checkins_df.apply(calculate_frequency, axis=1)\n",
    "checkins_freq_df.head()"
   ]
  },
  {
   "cell_type": "code",
   "execution_count": 14,
   "metadata": {},
   "outputs": [
    {
     "data": {
      "text/html": [
       "<div>\n",
       "<style scoped>\n",
       "    .dataframe tbody tr th:only-of-type {\n",
       "        vertical-align: middle;\n",
       "    }\n",
       "\n",
       "    .dataframe tbody tr th {\n",
       "        vertical-align: top;\n",
       "    }\n",
       "\n",
       "    .dataframe thead th {\n",
       "        text-align: right;\n",
       "    }\n",
       "</style>\n",
       "<table border=\"1\" class=\"dataframe\">\n",
       "  <thead>\n",
       "    <tr style=\"text-align: right;\">\n",
       "      <th></th>\n",
       "      <th>business_id</th>\n",
       "      <th>frequency</th>\n",
       "      <th>attributes</th>\n",
       "      <th>categories</th>\n",
       "      <th>city</th>\n",
       "      <th>hours</th>\n",
       "      <th>is_open</th>\n",
       "      <th>latitude</th>\n",
       "      <th>longitude</th>\n",
       "      <th>review_count</th>\n",
       "      <th>stars</th>\n",
       "    </tr>\n",
       "  </thead>\n",
       "  <tbody>\n",
       "    <tr>\n",
       "      <th>0</th>\n",
       "      <td>--164t1nclzzmca7eDiJMw</td>\n",
       "      <td>0.23</td>\n",
       "      <td>{'Alcohol': 'u'full_bar'', 'BusinessAcceptsCre...</td>\n",
       "      <td>Food, Ethnic Food, Nightlife, Restaurants, Div...</td>\n",
       "      <td>Austin</td>\n",
       "      <td>{'Monday': '18:0-0:0', 'Tuesday': '11:30-0:0',...</td>\n",
       "      <td>0</td>\n",
       "      <td>30.264896</td>\n",
       "      <td>-97.731028</td>\n",
       "      <td>137</td>\n",
       "      <td>4.0</td>\n",
       "    </tr>\n",
       "    <tr>\n",
       "      <th>1</th>\n",
       "      <td>--6COJIAjkQwSUZci_4PJQ</td>\n",
       "      <td>0.10</td>\n",
       "      <td>{'BusinessParking': '{'garage': False, 'street...</td>\n",
       "      <td>Breakfast &amp; Brunch, Bakeries, Tea Rooms, Coffe...</td>\n",
       "      <td>Portland</td>\n",
       "      <td>{'Monday': '0:0-0:0', 'Tuesday': '9:0-16:0', '...</td>\n",
       "      <td>0</td>\n",
       "      <td>45.467868</td>\n",
       "      <td>-122.714524</td>\n",
       "      <td>99</td>\n",
       "      <td>4.0</td>\n",
       "    </tr>\n",
       "    <tr>\n",
       "      <th>2</th>\n",
       "      <td>--UNNdnHRhsyFUbDgumdtQ</td>\n",
       "      <td>0.60</td>\n",
       "      <td>{'RestaurantsPriceRange2': '3', 'BusinessParki...</td>\n",
       "      <td>French, Restaurants, American (New)</td>\n",
       "      <td>Portland</td>\n",
       "      <td>{'Monday': '0:0-0:0', 'Tuesday': '17:0-22:0', ...</td>\n",
       "      <td>1</td>\n",
       "      <td>45.522796</td>\n",
       "      <td>-122.657872</td>\n",
       "      <td>1236</td>\n",
       "      <td>4.5</td>\n",
       "    </tr>\n",
       "  </tbody>\n",
       "</table>\n",
       "</div>"
      ],
      "text/plain": [
       "              business_id  frequency  \\\n",
       "0  --164t1nclzzmca7eDiJMw       0.23   \n",
       "1  --6COJIAjkQwSUZci_4PJQ       0.10   \n",
       "2  --UNNdnHRhsyFUbDgumdtQ       0.60   \n",
       "\n",
       "                                          attributes  \\\n",
       "0  {'Alcohol': 'u'full_bar'', 'BusinessAcceptsCre...   \n",
       "1  {'BusinessParking': '{'garage': False, 'street...   \n",
       "2  {'RestaurantsPriceRange2': '3', 'BusinessParki...   \n",
       "\n",
       "                                          categories      city  \\\n",
       "0  Food, Ethnic Food, Nightlife, Restaurants, Div...    Austin   \n",
       "1  Breakfast & Brunch, Bakeries, Tea Rooms, Coffe...  Portland   \n",
       "2                French, Restaurants, American (New)  Portland   \n",
       "\n",
       "                                               hours  is_open   latitude  \\\n",
       "0  {'Monday': '18:0-0:0', 'Tuesday': '11:30-0:0',...        0  30.264896   \n",
       "1  {'Monday': '0:0-0:0', 'Tuesday': '9:0-16:0', '...        0  45.467868   \n",
       "2  {'Monday': '0:0-0:0', 'Tuesday': '17:0-22:0', ...        1  45.522796   \n",
       "\n",
       "    longitude  review_count  stars  \n",
       "0  -97.731028           137    4.0  \n",
       "1 -122.714524            99    4.0  \n",
       "2 -122.657872          1236    4.5  "
      ]
     },
     "execution_count": 14,
     "metadata": {},
     "output_type": "execute_result"
    }
   ],
   "source": [
    "restaurants_df = pd.merge(checkins_freq_df, restaurants_df, on='business_id')\n",
    "restaurants_df.head(3)"
   ]
  },
  {
   "cell_type": "code",
   "execution_count": 15,
   "metadata": {},
   "outputs": [
    {
     "data": {
      "text/plain": [
       "42089"
      ]
     },
     "execution_count": 15,
     "metadata": {},
     "output_type": "execute_result"
    }
   ],
   "source": [
    "len(restaurants_df)"
   ]
  },
  {
   "cell_type": "markdown",
   "metadata": {},
   "source": [
    "#### Closed Restaurants"
   ]
  },
  {
   "cell_type": "code",
   "execution_count": 16,
   "metadata": {},
   "outputs": [],
   "source": [
    "closed_restaurants_df = restaurants_df[restaurants_df[\"is_open\"] == 0]"
   ]
  },
  {
   "cell_type": "markdown",
   "metadata": {},
   "source": [
    "#### Rounding Up the Star Ratings"
   ]
  },
  {
   "cell_type": "code",
   "execution_count": 17,
   "metadata": {},
   "outputs": [],
   "source": [
    "restaurants_df[\"rounded_stars\"] = restaurants_df[\"stars\"].apply(lambda x: math.ceil(x))"
   ]
  },
  {
   "cell_type": "markdown",
   "metadata": {},
   "source": [
    "### Analyzing the data"
   ]
  },
  {
   "cell_type": "markdown",
   "metadata": {},
   "source": [
    "#### How many restaurants are still open?"
   ]
  },
  {
   "cell_type": "code",
   "execution_count": 18,
   "metadata": {},
   "outputs": [
    {
     "name": "stdout",
     "output_type": "stream",
     "text": [
      "28428 restaurants are still open, while 13661 (32.46%) are closed.\n"
     ]
    }
   ],
   "source": [
    "closed = len(closed_restaurants_df)\n",
    "still_open = len(restaurants_df) - closed\n",
    "print(f\"{still_open} restaurants are still open, while {closed} ({round(closed/len(restaurants_df)*100, 2)}%) are closed.\")"
   ]
  },
  {
   "cell_type": "markdown",
   "metadata": {},
   "source": [
    "#### How are the star ratings distributed for restaurants?"
   ]
  },
  {
   "cell_type": "code",
   "execution_count": 19,
   "metadata": {},
   "outputs": [
    {
     "data": {
      "text/plain": [
       "4.0    11714\n",
       "3.5    10651\n",
       "3.0     6520\n",
       "4.5     6233\n",
       "2.5     3275\n",
       "2.0     1808\n",
       "5.0     1091\n",
       "1.5      691\n",
       "1.0      106\n",
       "Name: stars, dtype: int64"
      ]
     },
     "execution_count": 19,
     "metadata": {},
     "output_type": "execute_result"
    }
   ],
   "source": [
    "restaurants_df['stars'].value_counts()"
   ]
  },
  {
   "cell_type": "code",
   "execution_count": 20,
   "metadata": {},
   "outputs": [
    {
     "name": "stdout",
     "output_type": "stream",
     "text": [
      "Average star rating is 3.57 for all restaurants\n"
     ]
    }
   ],
   "source": [
    "star_avg = sum(restaurants_df['stars'])/len(restaurants_df['stars'])\n",
    "print(f\"Average star rating is {round(star_avg, 2)} for all restaurants\")"
   ]
  },
  {
   "cell_type": "markdown",
   "metadata": {},
   "source": [
    "#### Is there a correlation between frequency and review count?"
   ]
  },
  {
   "cell_type": "code",
   "execution_count": 21,
   "metadata": {},
   "outputs": [
    {
     "data": {
      "text/html": [
       "<div>\n",
       "<style scoped>\n",
       "    .dataframe tbody tr th:only-of-type {\n",
       "        vertical-align: middle;\n",
       "    }\n",
       "\n",
       "    .dataframe tbody tr th {\n",
       "        vertical-align: top;\n",
       "    }\n",
       "\n",
       "    .dataframe thead th {\n",
       "        text-align: right;\n",
       "    }\n",
       "</style>\n",
       "<table border=\"1\" class=\"dataframe\">\n",
       "  <thead>\n",
       "    <tr style=\"text-align: right;\">\n",
       "      <th></th>\n",
       "      <th>review_count</th>\n",
       "      <th>frequency</th>\n",
       "    </tr>\n",
       "  </thead>\n",
       "  <tbody>\n",
       "    <tr>\n",
       "      <th>review_count</th>\n",
       "      <td>1.000000</td>\n",
       "      <td>0.759045</td>\n",
       "    </tr>\n",
       "    <tr>\n",
       "      <th>frequency</th>\n",
       "      <td>0.759045</td>\n",
       "      <td>1.000000</td>\n",
       "    </tr>\n",
       "  </tbody>\n",
       "</table>\n",
       "</div>"
      ],
      "text/plain": [
       "              review_count  frequency\n",
       "review_count      1.000000   0.759045\n",
       "frequency         0.759045   1.000000"
      ]
     },
     "execution_count": 21,
     "metadata": {},
     "output_type": "execute_result"
    }
   ],
   "source": [
    "restaurants_df[['review_count', 'frequency']].corr()"
   ]
  },
  {
   "cell_type": "markdown",
   "metadata": {},
   "source": [
    "#### Is there a correlation between frequency and star rating?"
   ]
  },
  {
   "cell_type": "code",
   "execution_count": 22,
   "metadata": {},
   "outputs": [
    {
     "data": {
      "text/html": [
       "<div>\n",
       "<style scoped>\n",
       "    .dataframe tbody tr th:only-of-type {\n",
       "        vertical-align: middle;\n",
       "    }\n",
       "\n",
       "    .dataframe tbody tr th {\n",
       "        vertical-align: top;\n",
       "    }\n",
       "\n",
       "    .dataframe thead th {\n",
       "        text-align: right;\n",
       "    }\n",
       "</style>\n",
       "<table border=\"1\" class=\"dataframe\">\n",
       "  <thead>\n",
       "    <tr style=\"text-align: right;\">\n",
       "      <th></th>\n",
       "      <th>frequency</th>\n",
       "      <th>stars</th>\n",
       "    </tr>\n",
       "  </thead>\n",
       "  <tbody>\n",
       "    <tr>\n",
       "      <th>frequency</th>\n",
       "      <td>1.000000</td>\n",
       "      <td>0.173341</td>\n",
       "    </tr>\n",
       "    <tr>\n",
       "      <th>stars</th>\n",
       "      <td>0.173341</td>\n",
       "      <td>1.000000</td>\n",
       "    </tr>\n",
       "  </tbody>\n",
       "</table>\n",
       "</div>"
      ],
      "text/plain": [
       "           frequency     stars\n",
       "frequency   1.000000  0.173341\n",
       "stars       0.173341  1.000000"
      ]
     },
     "execution_count": 22,
     "metadata": {},
     "output_type": "execute_result"
    }
   ],
   "source": [
    "restaurants_df[['frequency', 'stars']].corr()"
   ]
  },
  {
   "cell_type": "code",
   "execution_count": 23,
   "metadata": {},
   "outputs": [
    {
     "data": {
      "text/html": [
       "<div>\n",
       "<style scoped>\n",
       "    .dataframe tbody tr th:only-of-type {\n",
       "        vertical-align: middle;\n",
       "    }\n",
       "\n",
       "    .dataframe tbody tr th {\n",
       "        vertical-align: top;\n",
       "    }\n",
       "\n",
       "    .dataframe thead th {\n",
       "        text-align: right;\n",
       "    }\n",
       "</style>\n",
       "<table border=\"1\" class=\"dataframe\">\n",
       "  <thead>\n",
       "    <tr style=\"text-align: right;\">\n",
       "      <th></th>\n",
       "      <th>frequency</th>\n",
       "      <th>rounded_stars</th>\n",
       "    </tr>\n",
       "  </thead>\n",
       "  <tbody>\n",
       "    <tr>\n",
       "      <th>frequency</th>\n",
       "      <td>1.000000</td>\n",
       "      <td>0.158649</td>\n",
       "    </tr>\n",
       "    <tr>\n",
       "      <th>rounded_stars</th>\n",
       "      <td>0.158649</td>\n",
       "      <td>1.000000</td>\n",
       "    </tr>\n",
       "  </tbody>\n",
       "</table>\n",
       "</div>"
      ],
      "text/plain": [
       "               frequency  rounded_stars\n",
       "frequency       1.000000       0.158649\n",
       "rounded_stars   0.158649       1.000000"
      ]
     },
     "execution_count": 23,
     "metadata": {},
     "output_type": "execute_result"
    }
   ],
   "source": [
    "restaurants_df[['frequency', 'rounded_stars']].corr()"
   ]
  },
  {
   "cell_type": "markdown",
   "metadata": {},
   "source": [
    "#### Is there a correlation between star rating and review count?"
   ]
  },
  {
   "cell_type": "code",
   "execution_count": 24,
   "metadata": {},
   "outputs": [
    {
     "data": {
      "text/html": [
       "<div>\n",
       "<style scoped>\n",
       "    .dataframe tbody tr th:only-of-type {\n",
       "        vertical-align: middle;\n",
       "    }\n",
       "\n",
       "    .dataframe tbody tr th {\n",
       "        vertical-align: top;\n",
       "    }\n",
       "\n",
       "    .dataframe thead th {\n",
       "        text-align: right;\n",
       "    }\n",
       "</style>\n",
       "<table border=\"1\" class=\"dataframe\">\n",
       "  <thead>\n",
       "    <tr style=\"text-align: right;\">\n",
       "      <th></th>\n",
       "      <th>review_count</th>\n",
       "      <th>stars</th>\n",
       "    </tr>\n",
       "  </thead>\n",
       "  <tbody>\n",
       "    <tr>\n",
       "      <th>review_count</th>\n",
       "      <td>1.000000</td>\n",
       "      <td>0.145757</td>\n",
       "    </tr>\n",
       "    <tr>\n",
       "      <th>stars</th>\n",
       "      <td>0.145757</td>\n",
       "      <td>1.000000</td>\n",
       "    </tr>\n",
       "  </tbody>\n",
       "</table>\n",
       "</div>"
      ],
      "text/plain": [
       "              review_count     stars\n",
       "review_count      1.000000  0.145757\n",
       "stars             0.145757  1.000000"
      ]
     },
     "execution_count": 24,
     "metadata": {},
     "output_type": "execute_result"
    }
   ],
   "source": [
    "restaurants_df[['review_count', 'stars']].corr()"
   ]
  },
  {
   "cell_type": "code",
   "execution_count": 25,
   "metadata": {},
   "outputs": [
    {
     "data": {
      "text/html": [
       "<div>\n",
       "<style scoped>\n",
       "    .dataframe tbody tr th:only-of-type {\n",
       "        vertical-align: middle;\n",
       "    }\n",
       "\n",
       "    .dataframe tbody tr th {\n",
       "        vertical-align: top;\n",
       "    }\n",
       "\n",
       "    .dataframe thead th {\n",
       "        text-align: right;\n",
       "    }\n",
       "</style>\n",
       "<table border=\"1\" class=\"dataframe\">\n",
       "  <thead>\n",
       "    <tr style=\"text-align: right;\">\n",
       "      <th></th>\n",
       "      <th>review_count</th>\n",
       "      <th>rounded_stars</th>\n",
       "    </tr>\n",
       "  </thead>\n",
       "  <tbody>\n",
       "    <tr>\n",
       "      <th>review_count</th>\n",
       "      <td>1.000000</td>\n",
       "      <td>0.133541</td>\n",
       "    </tr>\n",
       "    <tr>\n",
       "      <th>rounded_stars</th>\n",
       "      <td>0.133541</td>\n",
       "      <td>1.000000</td>\n",
       "    </tr>\n",
       "  </tbody>\n",
       "</table>\n",
       "</div>"
      ],
      "text/plain": [
       "               review_count  rounded_stars\n",
       "review_count       1.000000       0.133541\n",
       "rounded_stars      0.133541       1.000000"
      ]
     },
     "execution_count": 25,
     "metadata": {},
     "output_type": "execute_result"
    }
   ],
   "source": [
    "restaurants_df[['review_count', 'rounded_stars']].corr()"
   ]
  },
  {
   "cell_type": "markdown",
   "metadata": {},
   "source": [
    "#### Plotting the star ratings and frequency"
   ]
  },
  {
   "cell_type": "code",
   "execution_count": 26,
   "metadata": {},
   "outputs": [
    {
     "data": {
      "text/plain": [
       "<matplotlib.axes._subplots.AxesSubplot at 0x236c900ae48>"
      ]
     },
     "execution_count": 26,
     "metadata": {},
     "output_type": "execute_result"
    }
   ],
   "source": [
    "restaurants_df.plot(x='frequency', y='stars', style='o')"
   ]
  },
  {
   "cell_type": "code",
   "execution_count": 27,
   "metadata": {},
   "outputs": [
    {
     "data": {
      "text/plain": [
       "<matplotlib.axes._subplots.AxesSubplot at 0x236c913f240>"
      ]
     },
     "execution_count": 27,
     "metadata": {},
     "output_type": "execute_result"
    },
    {
     "data": {
      "image/png": "[encoded data removed]",
      "text/plain": [
       "<Figure size 432x288 with 1 Axes>"
      ]
     },
     "metadata": {
      "needs_background": "light"
     },
     "output_type": "display_data"
    }
   ],
   "source": [
    "restaurants_df.plot(x='review_count', y='stars', style='o')"
   ]
  },
  {
   "cell_type": "code",
   "execution_count": 28,
   "metadata": {},
   "outputs": [
    {
     "data": {
      "text/plain": [
       "<matplotlib.axes._subplots.AxesSubplot at 0x236c913fe10>"
      ]
     },
     "execution_count": 28,
     "metadata": {},
     "output_type": "execute_result"
    },
    {
     "data": {
      "image/png": "[encoded data removed]",
      "text/plain": [
       "<Figure size 432x288 with 1 Axes>"
      ]
     },
     "metadata": {
      "needs_background": "light"
     },
     "output_type": "display_data"
    }
   ],
   "source": [
    "restaurants_df.plot(x='frequency', y='review_count', style='o')"
   ]
  },
  {
   "cell_type": "markdown",
   "metadata": {},
   "source": [
    "#### Average Frequency for each Star Rating"
   ]
  },
  {
   "cell_type": "code",
   "execution_count": 29,
   "metadata": {},
   "outputs": [
    {
     "data": {
      "text/plain": [
       "stars\n",
       "1.0    0.009151\n",
       "1.5    0.016802\n",
       "2.0    0.030122\n",
       "2.5    0.050260\n",
       "3.0    0.076656\n",
       "3.5    0.114924\n",
       "4.0    0.154327\n",
       "4.5    0.137322\n",
       "5.0    0.063868\n",
       "Name: frequency, dtype: float64"
      ]
     },
     "execution_count": 29,
     "metadata": {},
     "output_type": "execute_result"
    }
   ],
   "source": [
    "restaurants_df.groupby(\"stars\")[\"frequency\"].mean()"
   ]
  },
  {
   "cell_type": "code",
   "execution_count": 38,
   "metadata": {},
   "outputs": [],
   "source": [
    "avg_freq_stars = restaurants_df.groupby(\"rounded_stars\")[\"frequency\"].mean()"
   ]
  },
  {
   "cell_type": "code",
   "execution_count": 39,
   "metadata": {},
   "outputs": [
    {
     "data": {
      "text/plain": [
       "rounded_stars\n",
       "1    0.009151\n",
       "2    0.026439\n",
       "3    0.067831\n",
       "4    0.135562\n",
       "5    0.126380\n",
       "Name: frequency, dtype: float64"
      ]
     },
     "execution_count": 39,
     "metadata": {},
     "output_type": "execute_result"
    }
   ],
   "source": [
    "avg_freq_stars"
   ]
  },
  {
   "cell_type": "code",
   "execution_count": 40,
   "metadata": {},
   "outputs": [
    {
     "data": {
      "text/plain": [
       "<matplotlib.axes._subplots.AxesSubplot at 0x236c97de710>"
      ]
     },
     "execution_count": 40,
     "metadata": {},
     "output_type": "execute_result"
    },
    {
     "data": {
      "image/png": "[encoded data removed]",
      "text/plain": [
       "<Figure size 432x288 with 1 Axes>"
      ]
     },
     "metadata": {
      "needs_background": "light"
     },
     "output_type": "display_data"
    }
   ],
   "source": [
    "avg_freq_stars.plot()"
   ]
  },
  {
   "cell_type": "markdown",
   "metadata": {},
   "source": [
    "#### Average Count Review for each Star Rating"
   ]
  },
  {
   "cell_type": "code",
   "execution_count": 46,
   "metadata": {},
   "outputs": [],
   "source": [
    "avg_freq_reviews = restaurants_df.groupby(\"rounded_stars\")[\"review_count\"].mean()"
   ]
  },
  {
   "cell_type": "code",
   "execution_count": 47,
   "metadata": {},
   "outputs": [
    {
     "data": {
      "text/plain": [
       "rounded_stars\n",
       "1     18.990566\n",
       "2     35.606242\n",
       "3     74.747014\n",
       "4    151.403845\n",
       "5    130.153332\n",
       "Name: review_count, dtype: float64"
      ]
     },
     "execution_count": 47,
     "metadata": {},
     "output_type": "execute_result"
    }
   ],
   "source": [
    "avg_freq_reviews"
   ]
  },
  {
   "cell_type": "code",
   "execution_count": 48,
   "metadata": {},
   "outputs": [
    {
     "data": {
      "text/plain": [
       "<matplotlib.axes._subplots.AxesSubplot at 0x236c9b63400>"
      ]
     },
     "execution_count": 48,
     "metadata": {},
     "output_type": "execute_result"
    },
    {
     "data": {
      "image/png": "[encoded data removed]",
      "text/plain": [
       "<Figure size 432x288 with 1 Axes>"
      ]
     },
     "metadata": {
      "needs_background": "light"
     },
     "output_type": "display_data"
    }
   ],
   "source": [
    "avg_freq_reviews.plot()"
   ]
  },
  {
   "cell_type": "code",
   "execution_count": null,
   "metadata": {},
   "outputs": [],
   "source": []
  }
 ],
 "metadata": {
  "kernelspec": {
   "display_name": "Python 3",
   "language": "python",
   "name": "python3"
  },
  "language_info": {
   "codemirror_mode": {
    "name": "ipython",
    "version": 3
   },
   "file_extension": ".py",
   "mimetype": "text/x-python",
   "name": "python",
   "nbconvert_exporter": "python",
   "pygments_lexer": "ipython3",
   "version": "3.7.0"
  }
 },
 "nbformat": 4,
 "nbformat_minor": 2
}
